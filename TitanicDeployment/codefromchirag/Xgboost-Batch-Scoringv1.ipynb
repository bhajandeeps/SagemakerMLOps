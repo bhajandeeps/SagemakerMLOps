{
 "cells": [
  {
   "cell_type": "markdown",
   "id": "52eb6e2b",
   "metadata": {},
   "source": [
    "## Introduction\n",
    "\n",
    "This notebook describes using the AWS Step Functions Data Science SDK to create and manage workflows. The Step Functions SDK is an open source library that allows data scientists to easily create and execute machine learning workflows using AWS Step Functions and Amazon SageMaker. For more information, see the following.\n",
    "* [AWS Step Functions](https://aws.amazon.com/step-functions/)\n",
    "* [AWS Step Functions Developer Guide](https://docs.aws.amazon.com/step-functions/latest/dg/welcome.html)\n",
    "* [AWS Step Functions Data Science SDK](https://aws-step-functions-data-science-sdk.readthedocs.io)\n",
    "\n",
    "In this notebook we will use the SDK to create steps, link them together to create a workflow, and execute the workflow in AWS Step Functions. "
   ]
  },
  {
   "cell_type": "code",
   "execution_count": 26,
   "id": "7a779d8d",
   "metadata": {},
   "outputs": [],
   "source": [
    "# import sys\n",
    "# !{sys.executable} -m pip install --upgrade pip\n",
    "# !{sys.executable} -m pip install -qU awscli boto3 \"sagemaker>=2.0.0\"\n",
    "# !{sys.executable} -m pip install -qU \"stepfunctions>=2.0.0\"\n",
    "# !{sys.executable} -m pip show sagemaker stepfunctions"
   ]
  },
  {
   "cell_type": "markdown",
   "id": "8c1c33bb",
   "metadata": {},
   "source": [
    "## Prequisite "
   ]
  },
  {
   "cell_type": "markdown",
   "id": "ad0fcd1e",
   "metadata": {},
   "source": [
    "It is assumed that lambda functions for checking if model already exist or not and required IAM roles for Sagemaker, Step function is already created. <br/>\n",
    "In this notebook we are going to use Step Functions SDK build-up for Sagemaker\n"
   ]
  },
  {
   "cell_type": "markdown",
   "id": "ea5c8589",
   "metadata": {},
   "source": [
    "## 1. Preprocessing logic script\n",
    "\n",
    "Below is the preprocessing logic script which we will upload on S3 it will be used in preprocessing job. These scripts are the logic script which we have generated for preprocessing activities. Upload it on S3 and then we can use it as the parameter."
   ]
  },
  {
   "cell_type": "code",
   "execution_count": 128,
   "id": "bcedf999",
   "metadata": {},
   "outputs": [
    {
     "name": "stdout",
     "output_type": "stream",
     "text": [
      "Overwriting score_xg_boost_processing_script.py\n"
     ]
    }
   ],
   "source": [
    "%%writefile score_xg_boost_processing_script.py\n",
    "# Importing required library\n",
    "# Importing required library\n",
    "import pandas as pd\n",
    "import numpy as np\n",
    "from sklearn.impute import SimpleImputer\n",
    "# you can put any value here according to your situation\n",
    "chunksize = 10000\n",
    "from sklearn import preprocessing\n",
    "import glob\n",
    "path = r'/opt/ml/processing/input' # Input path\n",
    "all_files = glob.glob(path + \"/*.csv\")\n",
    "#read them into pandas\n",
    "df_list = [pd.read_csv(filename,nrows=100000) for filename in all_files]\n",
    "data = pd.concat(df_list)\n",
    "\n",
    "df = data.copy()\n",
    "df.drop(columns=['Unnamed: 0','url', 'region', 'region_url', 'VIN', 'size', 'image_url', 'description', 'state', 'lat', 'long','posting_date'], inplace=True)\n",
    "imr = SimpleImputer(strategy='mean')\n",
    "imr = imr.fit(df[['odometer']])\n",
    "imputed_data = imr.transform(df[['odometer']])\n",
    "df['odometer'] = pd.DataFrame(imputed_data)\n",
    "def encode_features(dataframe):\n",
    "    result = dataframe.copy()\n",
    "    encoders = {}\n",
    "    for column in result.columns:\n",
    "        if column=='year':\n",
    "            result[column]=result[column]\n",
    "            \n",
    "        elif result.dtypes[column] == np.object:\n",
    "            encoders[column] = preprocessing.LabelEncoder()\n",
    "            result[column] = encoders[column].fit_transform(result[column])\n",
    "    return result, encoders\n",
    "encoded_df, encoders = encode_features(df.astype(str)) \n",
    "encoded_df=encoded_df[encoded_df['year']!='nan']\n",
    "encoded_df.to_csv('/opt/ml/processing/test/batchscoring.csv', index=False, header=False) # test data "
   ]
  },
  {
   "cell_type": "markdown",
   "id": "381eab96",
   "metadata": {},
   "source": [
    "## 2. Parameter\n",
    "\n",
    "Below are the list of paramters which we have to change inorder to run below sdk\n"
   ]
  },
  {
   "cell_type": "code",
   "execution_count": 129,
   "id": "bb64d148",
   "metadata": {},
   "outputs": [],
   "source": [
    "# pwd"
   ]
  },
  {
   "cell_type": "code",
   "execution_count": 130,
   "id": "eca8f694",
   "metadata": {},
   "outputs": [],
   "source": [
    "# !aws s3 cp /home/ec2-user/SageMaker/Updated_Notebooks_Aug5/scoringdata.csv s3://ds-mlops-s3/data/scoreinput/"
   ]
  },
  {
   "cell_type": "code",
   "execution_count": 131,
   "id": "18b3fc39",
   "metadata": {},
   "outputs": [],
   "source": [
    "import sagemaker"
   ]
  },
  {
   "cell_type": "code",
   "execution_count": 132,
   "id": "877fb82f",
   "metadata": {},
   "outputs": [
    {
     "name": "stdout",
     "output_type": "stream",
     "text": [
      "2022\n",
      "03\n",
      "25\n",
      "13\n"
     ]
    }
   ],
   "source": [
    "\n",
    "import datetime\n",
    "year=datetime.datetime.now().strftime(\"%Y\")\n",
    "month=datetime.datetime.now().strftime(\"%m\")\n",
    "day=datetime.datetime.now().strftime(\"%d\")\n",
    "hour=datetime.datetime.now().strftime(\"%H\")\n",
    "print(datetime.datetime.now().strftime(\"%Y\"))\n",
    "print(datetime.datetime.now().strftime(\"%m\"))\n",
    "print(datetime.datetime.now().strftime(\"%d\"))\n",
    "print(datetime.datetime.now().strftime(\"%H\"))\n",
    "# batchscoringprefix=year,\"/\",month,\"/\",day/hour\n",
    "# print(year/month/day/hour)\n",
    "# outputloc=(\"s3://{}/{}/{}/{}/{}/{}\".format(v_s3_input_bucket,v_prefix_for_score_output,year,month,day,hour))\n",
    "\n",
    "\n",
    "v_workflow_execution_role = \"arn:aws:iam::014257795134:role/ds-mlops-stepfunction-role\" # Step function IAM role ARN\n",
    "v_preprocessing_iam_role = \"arn:aws:iam::014257795134:role/ds-mlops-sagemaker-role\" # IAM role for preprocessing container\n",
    "v_preprocessing_instance_type = \"ml.m5.xlarge\" # Instance type for preprocessing container it changes as per workload\n",
    "v_s3_input_bucket = \"ds-mlops-s3\" # S3 bucket for input and output data\n",
    "v_prefix_for_input_data = \"transformed/monitoring/inbound/xgb/1\"  # Prefix where data is stored\n",
    "v_prefix_for_score_output = \"transformed/monitoring/outbound/xgb/datadrift\"  # Prefix where data is stored\n",
    "v_prefix_for_code_location = \"transformed/monitoring/inbound/xgb/code/score_xg_boost_processing_script.py\" # prefix where code is stored\n",
    "v_score_instance_type = \"ml.m5.xlarge\" # Instance type for training\n",
    "v_validation_scoring_instance_type = \"ml.m5.large\" # Instance type for batch scoring\n",
    "v_model_name = \"ds-mlops-xgboost\" # Name of DS_MLOPS model to be kept\n",
    "#in above give model name to run it for XGBosst or Linear learner\"\n",
    "v_region = 'us-east-1' # AWS region\n",
    "v_model_container = sagemaker.image_uris.retrieve('xgboost', v_region, '1.2-1') # XGboost conatiner\n",
    "\n",
    "# VV added after design review\n",
    "sec_groups = [\"sg-01d629a900f9b4d92\"]\n",
    "subnets = [\"subnet-07bd1dfe6aee76227\",\n",
    "           \"subnet-076950ecc89d4340b\",\n",
    "           \"subnet-0c5a462cb45a14bab\"]"
   ]
  },
  {
   "cell_type": "code",
   "execution_count": 133,
   "id": "c759fba2",
   "metadata": {},
   "outputs": [
    {
     "name": "stdout",
     "output_type": "stream",
     "text": [
      "s3://ds-mlops-s3/transformed/monitoring/inbound/xgb/1/2022/03/25/13\n",
      "s3://ds-mlops-s3/transformed/monitoring/outbound/xgb/datadrift/2022/03/25/13\n",
      "transformed/monitoring/inbound/xgb/code/score_xg_boost_processing_script.py\n"
     ]
    }
   ],
   "source": [
    "v_prefix_for_input_data =(\"s3://{}/{}/{}/{}/{}/{}\".format(v_s3_input_bucket,v_prefix_for_input_data, year, month, day, hour))\n",
    "v_prefix_for_score_output =(\"s3://{}/{}/{}/{}/{}/{}\".format(v_s3_input_bucket,v_prefix_for_score_output, year, month, day, hour))\n",
    "\n",
    "print(v_prefix_for_input_data)\n",
    "print(v_prefix_for_score_output)\n",
    "print(v_prefix_for_code_location)\n",
    "\n"
   ]
  },
  {
   "cell_type": "markdown",
   "id": "7440894f",
   "metadata": {},
   "source": [
    "## 3 Import the required modules from the SDK and uploading code to s3"
   ]
  },
  {
   "cell_type": "code",
   "execution_count": 134,
   "id": "b67dba47",
   "metadata": {},
   "outputs": [],
   "source": [
    "import stepfunctions\n",
    "import logging\n",
    "\n",
    "from stepfunctions.steps import *\n",
    "from stepfunctions.workflow import Workflow\n",
    "from stepfunctions import steps\n",
    "from stepfunctions.inputs import ExecutionInput\n",
    "from sagemaker.processing import Processor,ProcessingInput, ProcessingOutput\n",
    "import uuid\n",
    "import sagemaker\n",
    "from sagemaker.inputs import TrainingInput\n",
    "import boto3\n",
    "from sagemaker.network import NetworkConfig\n",
    "\n",
    "stepfunctions.set_stream_logger(level=logging.INFO)"
   ]
  },
  {
   "cell_type": "code",
   "execution_count": 135,
   "id": "a6b22dac",
   "metadata": {},
   "outputs": [
    {
     "name": "stdout",
     "output_type": "stream",
     "text": [
      "Completed 1.4 KiB/1.4 KiB (4.9 KiB/s) with 1 file(s) remaining\r",
      "upload: ./score_xg_boost_processing_script.py to s3://ds-mlops-s3/transformed/monitoring/inbound/xgb/code/score_xg_boost_processing_script.py\r\n"
     ]
    }
   ],
   "source": [
    "!aws s3 cp score_xg_boost_processing_script.py s3://$v_s3_input_bucket/$v_prefix_for_code_location # Uploading preprocessing code on s3"
   ]
  },
  {
   "cell_type": "markdown",
   "id": "8b845e26",
   "metadata": {},
   "source": [
    "## 4. Create workflow\n",
    "\n",
    "In the following cell, you will define the step that you will use in our first workflow.  Then you will create, visualize and execute the workflow. \n",
    "\n",
    "Steps relate to states in AWS Step Functions. For more information, see [States](https://docs.aws.amazon.com/step-functions/latest/dg/concepts-states.html) in the *AWS Step Functions Developer Guide*. For more information on the AWS Step Functions Data Science SDK APIs, see: https://aws-step-functions-data-science-sdk.readthedocs.io. "
   ]
  },
  {
   "cell_type": "markdown",
   "id": "d21c5330",
   "metadata": {},
   "source": [
    "## 4.1 Creating Pre-Processing step"
   ]
  },
  {
   "cell_type": "code",
   "execution_count": 136,
   "id": "cc42bbb8",
   "metadata": {},
   "outputs": [],
   "source": [
    "processor = Processor(image_uri='683313688378.dkr.ecr.us-east-1.amazonaws.com/sagemaker-scikit-learn:0.20.0-cpu-py3',\n",
    "                     role=v_preprocessing_iam_role,\n",
    "                     instance_count=1,\n",
    "                     instance_type=v_preprocessing_instance_type,\n",
    "                      network_config = NetworkConfig(security_group_ids = sec_groups, subnets = subnets))"
   ]
  },
  {
   "cell_type": "code",
   "execution_count": null,
   "id": "d62e65e7",
   "metadata": {},
   "outputs": [],
   "source": []
  },
  {
   "cell_type": "code",
   "execution_count": 137,
   "id": "3ffeb344",
   "metadata": {},
   "outputs": [
    {
     "name": "stdout",
     "output_type": "stream",
     "text": [
      "s3://ds-mlops-s3/transformed/monitoring/inbound/xgb/1/scoringdata.csv\n",
      "s3://ds-mlops-s3/transformed/monitoring/inbound/xgb/code/score_xg_boost_processing_script.py\n",
      "s3://ds-mlops-s3/transformed/monitoring/inbound/xgb/score/2022/03/25/13\n"
     ]
    }
   ],
   "source": [
    "input_data = \"s3://{}/{}\".format(\"ds-mlops-s3\",\"transformed/monitoring/inbound/xgb/1/scoringdata.csv\")\n",
    "input_code = \"s3://{}/{}\".format(v_s3_input_bucket,v_prefix_for_code_location)\n",
    "output_data = \"transformed/monitoring/inbound/xgb/score\"\n",
    "output_data =(\"s3://{}/{}/{}/{}/{}/{}\".format(v_s3_input_bucket,output_data, year, month, day, hour))\n",
    "\n",
    "inputs = [\n",
    "    ProcessingInput(\n",
    "        source=input_data, destination=\"/opt/ml/processing/input\", input_name=\"input\"\n",
    "    ),\n",
    "    ProcessingInput(\n",
    "        source=input_code,\n",
    "        destination=\"/opt/ml/processing/input/code\",\n",
    "        input_name=\"code\",\n",
    "    ),\n",
    "]\n",
    "\n",
    "outputs = [\n",
    "    ProcessingOutput(\n",
    "        source=\"/opt/ml/processing/test\",\n",
    "        destination=\"{}/{}\".format(output_data, \"test\"),\n",
    "        output_name=\"test_data\",\n",
    "    )\n",
    "    \n",
    "]\n",
    "\n",
    "print(input_data)\n",
    "print(input_code)\n",
    "print(output_data)"
   ]
  },
  {
   "cell_type": "code",
   "execution_count": 138,
   "id": "6182c95b",
   "metadata": {},
   "outputs": [],
   "source": [
    "# SageMaker expects unique names for each job, model and endpoint.\n",
    "# If these names are not unique the execution will fail. Pass these dynamically for each execution using placeholders.\n",
    "\n",
    "##VV updated after review\n",
    "\n",
    "execution_input = ExecutionInput(\n",
    "    schema={\n",
    "        \"PreprocessingJobName\": str,\n",
    "        \"scoringstep\":str,\n",
    "        \"PostprocessingJobName\": str\n",
    "        \n",
    "           }\n",
    ")"
   ]
  },
  {
   "cell_type": "code",
   "execution_count": 139,
   "id": "d0f03b52",
   "metadata": {},
   "outputs": [],
   "source": [
    "preprocessing_step = ProcessingStep(\n",
    "    state_id='Pre-processing', \n",
    "    processor=processor,\n",
    "    job_name=execution_input[\"PreprocessingJobName\"], \n",
    "    inputs=inputs, \n",
    "    outputs=outputs, \n",
    "    experiment_config=None, \n",
    "    container_entrypoint=[\"python3\", \"/opt/ml/processing/input/code/score_xg_boost_processing_script.py\"], # DS needs to change this directory /path\n",
    "    wait_for_completion=True\n",
    ")"
   ]
  },
  {
   "cell_type": "markdown",
   "id": "cd9b76d4",
   "metadata": {},
   "source": [
    "## 4.5 Create a batch transform step\n",
    "\n",
    "Now once all the above steps are done we will perform scoring on a small data set to see all the components are working fine"
   ]
  },
  {
   "cell_type": "code",
   "execution_count": 140,
   "id": "a78e2e0c",
   "metadata": {},
   "outputs": [],
   "source": [
    "sagemaker_execution_role =  sagemaker.get_execution_role()\n",
    "xgb = sagemaker.transformer.Transformer(model_name=v_model_name,\n",
    "                                       instance_count=1,\n",
    "                                       instance_type=v_score_instance_type,\n",
    "                                    assemble_with='Line',\n",
    "                                    output_path=outputloc,#\"s3://{}/{}\".format(v_s3_input_bucket,v_prefix_for_score_output),\n",
    "                                        accept='text/csv',\n",
    "                                    base_transform_job_name='scorexgboost'\n",
    "                                       )\n"
   ]
  },
  {
   "cell_type": "code",
   "execution_count": 141,
   "id": "91417e64",
   "metadata": {},
   "outputs": [],
   "source": [
    "from sagemaker.inputs import TransformInput\n",
    "\n",
    "batch_scoring = TransformStep(\n",
    "    state_id=\"batchscoring-step\",\n",
    "    job_name=execution_input[\"scoringstep\"],\n",
    "    transformer=xgb,\n",
    "    model_name=v_model_name,\n",
    "    data=\"{}/{}\".format(output_data, \"test\"), # location for test data\n",
    "    data_type='S3Prefix',\n",
    "    content_type=\"text/csv\",\n",
    "    split_type='Line',\n",
    "    wait_for_completion=True,\n",
    "    input_filter=\"$[1:]\",\n",
    "    join_source='Input'\n",
    "       \n",
    ")"
   ]
  },
  {
   "cell_type": "code",
   "execution_count": 142,
   "id": "0e4e520b",
   "metadata": {},
   "outputs": [
    {
     "name": "stdout",
     "output_type": "stream",
     "text": [
      "s3://ds-mlops-s3/transformed/monitoring/inbound/xgb/score/2022/03/25/13/\n"
     ]
    }
   ],
   "source": [
    "ses=\"{}/{}\".format(output_data, \"\")\n",
    "print(ses)"
   ]
  },
  {
   "cell_type": "markdown",
   "id": "4f8d0f62",
   "metadata": {},
   "source": [
    "## 4.6 Chain together steps for the basic path\n",
    "\n",
    "The following cell links together the steps you've created into a sequential group called `basic_path`. We will chain a single step to create our basic path. See [Chain](https://aws-step-functions-data-science-sdk.readthedocs.io/en/latest/states.html#stepfunctions.steps.states.Chain) in the AWS Step Functions Data Science SDK documentation.\n",
    "\n",
    "After chaining together the steps for the basic path, in this case only one step, we will visualize the basic path."
   ]
  },
  {
   "cell_type": "code",
   "execution_count": 143,
   "id": "117354fd",
   "metadata": {},
   "outputs": [],
   "source": [
    "# First we chain the start pass state,preprocessing_step,\n",
    "basic_path=Chain([preprocessing_step,batch_scoring])\n",
    "#basic_path=Chain([batch_scoring])\n"
   ]
  },
  {
   "cell_type": "markdown",
   "id": "37c6cb21",
   "metadata": {},
   "source": [
    "## 4.7 Define the workflow instance\n",
    "\n",
    "The following cell defines the [workflow](https://aws-step-functions-data-science-sdk.readthedocs.io/en/latest/workflow.html#stepfunctions.workflow.Workflow) with the path we just defined.\n",
    "\n",
    "After defining the workflow, we will render the graph to see what our workflow looks like."
   ]
  },
  {
   "cell_type": "code",
   "execution_count": 144,
   "id": "acae56d5",
   "metadata": {},
   "outputs": [
    {
     "data": {
      "text/html": [
       "\n",
       "<link rel=\"stylesheet\" type=\"text/css\" href=\"https://do0of8uwbahzz.cloudfront.net/graph.css\">\n",
       "<div id=\"graph-483\" class=\"workflowgraph\">\n",
       "    \n",
       "    <svg></svg>\n",
       "    \n",
       "</div>\n",
       "\n",
       "<script type=\"text/javascript\">\n",
       "\n",
       "require.config({\n",
       "    paths: {\n",
       "        sfn: \"https://do0of8uwbahzz.cloudfront.net/sfn\",\n",
       "    }\n",
       "});\n",
       "\n",
       "require(['sfn'], function(sfn) {\n",
       "    var element = document.getElementById('graph-483')\n",
       "\n",
       "    var options = {\n",
       "        width: parseFloat(getComputedStyle(element, null).width.replace(\"px\", \"\")),\n",
       "        height: 600,\n",
       "        layout: 'LR',\n",
       "        resizeHeight: true\n",
       "    };\n",
       "\n",
       "    var definition = {\"StartAt\": \"Pre-processing\", \"States\": {\"Pre-processing\": {\"Resource\": \"arn:aws:states:::sagemaker:createProcessingJob.sync\", \"Parameters\": {\"ProcessingJobName.$\": \"$$.Execution.Input['PreprocessingJobName']\", \"ProcessingInputs\": [{\"InputName\": \"input\", \"AppManaged\": false, \"S3Input\": {\"S3Uri\": \"s3://ds-mlops-s3/transformed/monitoring/inbound/xgb/1/scoringdata.csv\", \"LocalPath\": \"/opt/ml/processing/input\", \"S3DataType\": \"S3Prefix\", \"S3InputMode\": \"File\", \"S3DataDistributionType\": \"FullyReplicated\", \"S3CompressionType\": \"None\"}}, {\"InputName\": \"code\", \"AppManaged\": false, \"S3Input\": {\"S3Uri\": \"s3://ds-mlops-s3/transformed/monitoring/inbound/xgb/code/score_xg_boost_processing_script.py\", \"LocalPath\": \"/opt/ml/processing/input/code\", \"S3DataType\": \"S3Prefix\", \"S3InputMode\": \"File\", \"S3DataDistributionType\": \"FullyReplicated\", \"S3CompressionType\": \"None\"}}], \"ProcessingOutputConfig\": {\"Outputs\": [{\"OutputName\": \"test_data\", \"AppManaged\": false, \"S3Output\": {\"S3Uri\": \"s3://ds-mlops-s3/transformed/monitoring/inbound/xgb/score/2022/03/25/13/test\", \"LocalPath\": \"/opt/ml/processing/test\", \"S3UploadMode\": \"EndOfJob\"}}]}, \"AppSpecification\": {\"ImageUri\": \"683313688378.dkr.ecr.us-east-1.amazonaws.com/sagemaker-scikit-learn:0.20.0-cpu-py3\", \"ContainerEntrypoint\": [\"python3\", \"/opt/ml/processing/input/code/score_xg_boost_processing_script.py\"]}, \"RoleArn\": \"arn:aws:iam::014257795134:role/ds-mlops-sagemaker-role\", \"NetworkConfig\": {\"EnableNetworkIsolation\": false, \"VpcConfig\": {\"SecurityGroupIds\": [\"sg-01d629a900f9b4d92\"], \"Subnets\": [\"subnet-07bd1dfe6aee76227\", \"subnet-076950ecc89d4340b\", \"subnet-0c5a462cb45a14bab\"]}}, \"ProcessingResources\": {\"ClusterConfig\": {\"InstanceCount\": 1, \"InstanceType\": \"ml.m5.xlarge\", \"VolumeSizeInGB\": 30}}}, \"Type\": \"Task\", \"Next\": \"batchscoring-step\"}, \"batchscoring-step\": {\"Resource\": \"arn:aws:states:::sagemaker:createTransformJob.sync\", \"Parameters\": {\"TransformJobName.$\": \"$$.Execution.Input['scoringstep']\", \"ModelName\": \"ds-mlops-xgboost\", \"TransformInput\": {\"DataSource\": {\"S3DataSource\": {\"S3DataType\": \"S3Prefix\", \"S3Uri\": \"s3://ds-mlops-s3/transformed/monitoring/inbound/xgb/score/2022/03/25/13/test\"}}, \"ContentType\": \"text/csv\", \"SplitType\": \"Line\"}, \"TransformOutput\": {\"S3OutputPath\": \"s3://ds-mlops-s3/data/scoreoutput/xgb/2022/03/25/06\", \"AssembleWith\": \"Line\", \"Accept\": \"text/csv\"}, \"TransformResources\": {\"InstanceCount\": 1, \"InstanceType\": \"ml.m5.xlarge\"}, \"DataProcessing\": {\"InputFilter\": \"$[1:]\", \"JoinSource\": \"Input\"}}, \"Type\": \"Task\", \"End\": true}}};\n",
       "    var elementId = '#graph-483';\n",
       "\n",
       "    var graph = new sfn.StateMachineGraph(definition, elementId, options);\n",
       "    graph.render();\n",
       "});\n",
       "\n",
       "</script>\n"
      ],
      "text/plain": [
       "<IPython.core.display.HTML object>"
      ]
     },
     "execution_count": 144,
     "metadata": {},
     "output_type": "execute_result"
    }
   ],
   "source": [
    "# Next, we define the workflow\n",
    "basic_workflow = Workflow(\n",
    "    name=\"ds-mlops-xgboost-score-step-function\",\n",
    "    definition=basic_path,\n",
    "    role=v_workflow_execution_role\n",
    ")\n",
    "\n",
    "#Render the workflow\n",
    "basic_workflow.render_graph()"
   ]
  },
  {
   "cell_type": "markdown",
   "id": "ca866b7d",
   "metadata": {},
   "source": [
    "## 4.8 Review the Amazon States Language code for your workflow\n",
    "\n",
    "The following renders the JSON of the [Amazon States Language](https://docs.aws.amazon.com/step-functions/latest/dg/concepts-amazon-states-language.html) definition of the workflow you created. "
   ]
  },
  {
   "cell_type": "code",
   "execution_count": 145,
   "id": "d4b85143",
   "metadata": {},
   "outputs": [
    {
     "name": "stdout",
     "output_type": "stream",
     "text": [
      "{\n",
      "    \"StartAt\": \"Pre-processing\",\n",
      "    \"States\": {\n",
      "        \"Pre-processing\": {\n",
      "            \"Resource\": \"arn:aws:states:::sagemaker:createProcessingJob.sync\",\n",
      "            \"Parameters\": {\n",
      "                \"ProcessingJobName.$\": \"$$.Execution.Input['PreprocessingJobName']\",\n",
      "                \"ProcessingInputs\": [\n",
      "                    {\n",
      "                        \"InputName\": \"input\",\n",
      "                        \"AppManaged\": false,\n",
      "                        \"S3Input\": {\n",
      "                            \"S3Uri\": \"s3://ds-mlops-s3/transformed/monitoring/inbound/xgb/1/scoringdata.csv\",\n",
      "                            \"LocalPath\": \"/opt/ml/processing/input\",\n",
      "                            \"S3DataType\": \"S3Prefix\",\n",
      "                            \"S3InputMode\": \"File\",\n",
      "                            \"S3DataDistributionType\": \"FullyReplicated\",\n",
      "                            \"S3CompressionType\": \"None\"\n",
      "                        }\n",
      "                    },\n",
      "                    {\n",
      "                        \"InputName\": \"code\",\n",
      "                        \"AppManaged\": false,\n",
      "                        \"S3Input\": {\n",
      "                            \"S3Uri\": \"s3://ds-mlops-s3/transformed/monitoring/inbound/xgb/code/score_xg_boost_processing_script.py\",\n",
      "                            \"LocalPath\": \"/opt/ml/processing/input/code\",\n",
      "                            \"S3DataType\": \"S3Prefix\",\n",
      "                            \"S3InputMode\": \"File\",\n",
      "                            \"S3DataDistributionType\": \"FullyReplicated\",\n",
      "                            \"S3CompressionType\": \"None\"\n",
      "                        }\n",
      "                    }\n",
      "                ],\n",
      "                \"ProcessingOutputConfig\": {\n",
      "                    \"Outputs\": [\n",
      "                        {\n",
      "                            \"OutputName\": \"test_data\",\n",
      "                            \"AppManaged\": false,\n",
      "                            \"S3Output\": {\n",
      "                                \"S3Uri\": \"s3://ds-mlops-s3/transformed/monitoring/inbound/xgb/score/2022/03/25/13/test\",\n",
      "                                \"LocalPath\": \"/opt/ml/processing/test\",\n",
      "                                \"S3UploadMode\": \"EndOfJob\"\n",
      "                            }\n",
      "                        }\n",
      "                    ]\n",
      "                },\n",
      "                \"AppSpecification\": {\n",
      "                    \"ImageUri\": \"683313688378.dkr.ecr.us-east-1.amazonaws.com/sagemaker-scikit-learn:0.20.0-cpu-py3\",\n",
      "                    \"ContainerEntrypoint\": [\n",
      "                        \"python3\",\n",
      "                        \"/opt/ml/processing/input/code/score_xg_boost_processing_script.py\"\n",
      "                    ]\n",
      "                },\n",
      "                \"RoleArn\": \"arn:aws:iam::014257795134:role/ds-mlops-sagemaker-role\",\n",
      "                \"NetworkConfig\": {\n",
      "                    \"EnableNetworkIsolation\": false,\n",
      "                    \"VpcConfig\": {\n",
      "                        \"SecurityGroupIds\": [\n",
      "                            \"sg-01d629a900f9b4d92\"\n",
      "                        ],\n",
      "                        \"Subnets\": [\n",
      "                            \"subnet-07bd1dfe6aee76227\",\n",
      "                            \"subnet-076950ecc89d4340b\",\n",
      "                            \"subnet-0c5a462cb45a14bab\"\n",
      "                        ]\n",
      "                    }\n",
      "                },\n",
      "                \"ProcessingResources\": {\n",
      "                    \"ClusterConfig\": {\n",
      "                        \"InstanceCount\": 1,\n",
      "                        \"InstanceType\": \"ml.m5.xlarge\",\n",
      "                        \"VolumeSizeInGB\": 30\n",
      "                    }\n",
      "                }\n",
      "            },\n",
      "            \"Type\": \"Task\",\n",
      "            \"Next\": \"batchscoring-step\"\n",
      "        },\n",
      "        \"batchscoring-step\": {\n",
      "            \"Resource\": \"arn:aws:states:::sagemaker:createTransformJob.sync\",\n",
      "            \"Parameters\": {\n",
      "                \"TransformJobName.$\": \"$$.Execution.Input['scoringstep']\",\n",
      "                \"ModelName\": \"ds-mlops-xgboost\",\n",
      "                \"TransformInput\": {\n",
      "                    \"DataSource\": {\n",
      "                        \"S3DataSource\": {\n",
      "                            \"S3DataType\": \"S3Prefix\",\n",
      "                            \"S3Uri\": \"s3://ds-mlops-s3/transformed/monitoring/inbound/xgb/score/2022/03/25/13/test\"\n",
      "                        }\n",
      "                    },\n",
      "                    \"ContentType\": \"text/csv\",\n",
      "                    \"SplitType\": \"Line\"\n",
      "                },\n",
      "                \"TransformOutput\": {\n",
      "                    \"S3OutputPath\": \"s3://ds-mlops-s3/data/scoreoutput/xgb/2022/03/25/06\",\n",
      "                    \"AssembleWith\": \"Line\",\n",
      "                    \"Accept\": \"text/csv\"\n",
      "                },\n",
      "                \"TransformResources\": {\n",
      "                    \"InstanceCount\": 1,\n",
      "                    \"InstanceType\": \"ml.m5.xlarge\"\n",
      "                },\n",
      "                \"DataProcessing\": {\n",
      "                    \"InputFilter\": \"$[1:]\",\n",
      "                    \"JoinSource\": \"Input\"\n",
      "                }\n",
      "            },\n",
      "            \"Type\": \"Task\",\n",
      "            \"End\": true\n",
      "        }\n",
      "    }\n",
      "}\n"
     ]
    }
   ],
   "source": [
    "print(basic_workflow.definition.to_json(pretty=True)) # From this json we would be leveraging the codes to create the Cloud Formation parameterized template..."
   ]
  },
  {
   "cell_type": "markdown",
   "id": "ab22a3a4",
   "metadata": {},
   "source": [
    "## 4.9 Create the workflow on AWS Step Functions\n",
    "\n",
    "Create the workflow in AWS Step Functions with [create](https://aws-step-functions-data-science-sdk.readthedocs.io/en/latest/workflow.html#stepfunctions.workflow.Workflow.create)."
   ]
  },
  {
   "cell_type": "code",
   "execution_count": 146,
   "id": "a432b286",
   "metadata": {},
   "outputs": [
    {
     "name": "stdout",
     "output_type": "stream",
     "text": [
      "\u001b[32m[INFO] Workflow created successfully on AWS Step Functions.\u001b[0m\n"
     ]
    },
    {
     "data": {
      "text/plain": [
       "'arn:aws:states:us-east-1:014257795134:stateMachine:ds-mlops-xgboost-score-step-function'"
      ]
     },
     "execution_count": 146,
     "metadata": {},
     "output_type": "execute_result"
    }
   ],
   "source": [
    "basic_workflow.create()"
   ]
  },
  {
   "cell_type": "code",
   "execution_count": 147,
   "id": "78bcd16d",
   "metadata": {},
   "outputs": [
    {
     "name": "stdout",
     "output_type": "stream",
     "text": [
      "\u001b[32m[INFO] Workflow updated successfully on AWS Step Functions. All execute() calls will use the updated definition and role within a few seconds. \u001b[0m\n"
     ]
    },
    {
     "data": {
      "text/plain": [
       "'arn:aws:states:us-east-1:014257795134:stateMachine:ds-mlops-xgboost-score-step-function'"
      ]
     },
     "execution_count": 147,
     "metadata": {},
     "output_type": "execute_result"
    }
   ],
   "source": [
    "basic_workflow.update(definition=basic_workflow.definition,role=basic_workflow.role)"
   ]
  },
  {
   "cell_type": "markdown",
   "id": "fe040679",
   "metadata": {},
   "source": [
    "## 5 Execute the workflow\n",
    "\n",
    "Run the workflow with [execute](https://aws-step-functions-data-science-sdk.readthedocs.io/en/latest/workflow.html#stepfunctions.workflow.Workflow.execute). Since the workflow only has a pass state, it will succeed immediately."
   ]
  },
  {
   "cell_type": "code",
   "execution_count": 148,
   "id": "22d09297",
   "metadata": {},
   "outputs": [],
   "source": [
    "# Generate unique names for Pre-Processing Job, Training Job, and Model Evaluation Job for the Step Functions Workflow\n",
    " # Each Training Job requires a unique name\n",
    "preprocessing_job_name = \"xg-boost-score-preprocessing-{}\".format(\n",
    "    uuid.uuid1().hex\n",
    ")  # Each Preprocessing job requires a unique name,\n",
    "scoring_job_name = \"xg-boost-score-{}\".format(\n",
    "    uuid.uuid1().hex\n",
    ")  # Each Evaluation Job requires a unique name\n"
   ]
  },
  {
   "cell_type": "code",
   "execution_count": 149,
   "id": "bde2c835",
   "metadata": {},
   "outputs": [
    {
     "name": "stdout",
     "output_type": "stream",
     "text": [
      "\u001b[32m[INFO] Workflow execution started successfully on AWS Step Functions.\u001b[0m\n"
     ]
    }
   ],
   "source": [
    "basic_workflow_execution = basic_workflow.execute(\n",
    "    inputs={\n",
    "       \"PreprocessingJobName\": preprocessing_job_name,\n",
    "        \"scoringstep\":scoring_job_name  # Each pre processing job (SageMaker processing job) requires a unique name,\n",
    "            }\n",
    ")"
   ]
  },
  {
   "cell_type": "markdown",
   "id": "8d41f74b",
   "metadata": {},
   "source": [
    "## 5.1 Review the execution progress\n",
    "\n",
    "Render workflow progress with the [render_progress](https://aws-step-functions-data-science-sdk.readthedocs.io/en/latest/workflow.html#stepfunctions.workflow.Execution.render_progress).\n",
    "\n",
    "This generates a snapshot of the current state of your workflow as it executes. This is a static image. Run the cell again to check progress. "
   ]
  },
  {
   "cell_type": "code",
   "execution_count": 150,
   "id": "0dd9c182",
   "metadata": {},
   "outputs": [
    {
     "data": {
      "text/html": [
       "\n",
       "<link rel=\"stylesheet\" type=\"text/css\" href=\"https://do0of8uwbahzz.cloudfront.net/graph.css\">\n",
       "<div id=\"graph-515\" class=\"workflowgraph\">\n",
       "    \n",
       "    <style>\n",
       "        .graph-legend ul {\n",
       "            list-style-type: none;\n",
       "            padding: 10px;\n",
       "            padding-left: 0;\n",
       "            margin: 0;\n",
       "            position: absolute;\n",
       "            top: 0;\n",
       "            background: transparent;\n",
       "        }\n",
       "\n",
       "        .graph-legend li {\n",
       "            margin-left: 10px;\n",
       "            display: inline-block;\n",
       "        }\n",
       "\n",
       "        .graph-legend li > div {\n",
       "            width: 10px;\n",
       "            height: 10px;\n",
       "            display: inline-block;\n",
       "        }\n",
       "\n",
       "        .graph-legend .success { background-color: #2BD62E }\n",
       "        .graph-legend .failed { background-color: #DE322F }\n",
       "        .graph-legend .cancelled { background-color: #DDDDDD }\n",
       "        .graph-legend .in-progress { background-color: #53C9ED }\n",
       "        .graph-legend .caught-error { background-color: #FFA500 }\n",
       "    </style>\n",
       "    <div class=\"graph-legend\">\n",
       "        <ul>\n",
       "            <li>\n",
       "                <div class=\"success\"></div>\n",
       "                <span>Success</span>\n",
       "            </li>\n",
       "            <li>\n",
       "                <div class=\"failed\"></div>\n",
       "                <span>Failed</span>\n",
       "            </li>\n",
       "            <li>\n",
       "                <div class=\"cancelled\"></div>\n",
       "                <span>Cancelled</span>\n",
       "            </li>\n",
       "            <li>\n",
       "                <div class=\"in-progress\"></div>\n",
       "                <span>In Progress</span>\n",
       "            </li>\n",
       "            <li>\n",
       "                <div class=\"caught-error\"></div>\n",
       "                <span>Caught Error</span>\n",
       "            </li>\n",
       "        </ul>\n",
       "    </div>\n",
       "\n",
       "    <svg></svg>\n",
       "    <a href=\"https://console.aws.amazon.com/states/home?region=us-east-1#/executions/details/arn:aws:states:us-east-1:014257795134:execution:ds-mlops-xgboost-score-step-function:ac99a12d-89a9-440a-94ff-73b8bbed0b93\" target=\"_blank\"> Inspect in AWS Step Functions </a>\n",
       "</div>\n",
       "\n",
       "<script type=\"text/javascript\">\n",
       "\n",
       "require.config({\n",
       "    paths: {\n",
       "        sfn: \"https://do0of8uwbahzz.cloudfront.net/sfn\",\n",
       "    }\n",
       "});\n",
       "\n",
       "require(['sfn'], function(sfn) {\n",
       "    var element = document.getElementById('graph-515')\n",
       "\n",
       "    var options = {\n",
       "        width: parseFloat(getComputedStyle(element, null).width.replace(\"px\", \"\")),\n",
       "        height: 1000,\n",
       "        layout: 'LR',\n",
       "        resizeHeight: true\n",
       "    };\n",
       "\n",
       "    var definition = {\"StartAt\": \"Pre-processing\", \"States\": {\"Pre-processing\": {\"Resource\": \"arn:aws:states:::sagemaker:createProcessingJob.sync\", \"Parameters\": {\"ProcessingJobName.$\": \"$$.Execution.Input['PreprocessingJobName']\", \"ProcessingInputs\": [{\"InputName\": \"input\", \"AppManaged\": false, \"S3Input\": {\"S3Uri\": \"s3://ds-mlops-s3/transformed/monitoring/inbound/xgb/1/scoringdata.csv\", \"LocalPath\": \"/opt/ml/processing/input\", \"S3DataType\": \"S3Prefix\", \"S3InputMode\": \"File\", \"S3DataDistributionType\": \"FullyReplicated\", \"S3CompressionType\": \"None\"}}, {\"InputName\": \"code\", \"AppManaged\": false, \"S3Input\": {\"S3Uri\": \"s3://ds-mlops-s3/transformed/monitoring/inbound/xgb/code/score_xg_boost_processing_script.py\", \"LocalPath\": \"/opt/ml/processing/input/code\", \"S3DataType\": \"S3Prefix\", \"S3InputMode\": \"File\", \"S3DataDistributionType\": \"FullyReplicated\", \"S3CompressionType\": \"None\"}}], \"ProcessingOutputConfig\": {\"Outputs\": [{\"OutputName\": \"test_data\", \"AppManaged\": false, \"S3Output\": {\"S3Uri\": \"s3://ds-mlops-s3/transformed/monitoring/inbound/xgb/score/2022/03/25/13/test\", \"LocalPath\": \"/opt/ml/processing/test\", \"S3UploadMode\": \"EndOfJob\"}}]}, \"AppSpecification\": {\"ImageUri\": \"683313688378.dkr.ecr.us-east-1.amazonaws.com/sagemaker-scikit-learn:0.20.0-cpu-py3\", \"ContainerEntrypoint\": [\"python3\", \"/opt/ml/processing/input/code/score_xg_boost_processing_script.py\"]}, \"RoleArn\": \"arn:aws:iam::014257795134:role/ds-mlops-sagemaker-role\", \"NetworkConfig\": {\"EnableNetworkIsolation\": false, \"VpcConfig\": {\"SecurityGroupIds\": [\"sg-01d629a900f9b4d92\"], \"Subnets\": [\"subnet-07bd1dfe6aee76227\", \"subnet-076950ecc89d4340b\", \"subnet-0c5a462cb45a14bab\"]}}, \"ProcessingResources\": {\"ClusterConfig\": {\"InstanceCount\": 1, \"InstanceType\": \"ml.m5.xlarge\", \"VolumeSizeInGB\": 30}}}, \"Type\": \"Task\", \"Next\": \"batchscoring-step\"}, \"batchscoring-step\": {\"Resource\": \"arn:aws:states:::sagemaker:createTransformJob.sync\", \"Parameters\": {\"TransformJobName.$\": \"$$.Execution.Input['scoringstep']\", \"ModelName\": \"ds-mlops-xgboost\", \"TransformInput\": {\"DataSource\": {\"S3DataSource\": {\"S3DataType\": \"S3Prefix\", \"S3Uri\": \"s3://ds-mlops-s3/transformed/monitoring/inbound/xgb/score/2022/03/25/13/test\"}}, \"ContentType\": \"text/csv\", \"SplitType\": \"Line\"}, \"TransformOutput\": {\"S3OutputPath\": \"s3://ds-mlops-s3/data/scoreoutput/xgb/2022/03/25/06\", \"AssembleWith\": \"Line\", \"Accept\": \"text/csv\"}, \"TransformResources\": {\"InstanceCount\": 1, \"InstanceType\": \"ml.m5.xlarge\"}, \"DataProcessing\": {\"InputFilter\": \"$[1:]\", \"JoinSource\": \"Input\"}}, \"Type\": \"Task\", \"End\": true}}};\n",
       "    var elementId = '#graph-515';\n",
       "    var events = { 'events': [{\"timestamp\": 1648215810.939, \"type\": \"ExecutionStarted\", \"id\": 1, \"previousEventId\": 0, \"executionStartedEventDetails\": {\"input\": \"{\\n    \\\"PreprocessingJobName\\\": \\\"xg-boost-score-preprocessing-8e34ab9cac4111ec85040288024f714f\\\",\\n    \\\"scoringstep\\\": \\\"xg-boost-score-8e34b060ac4111ec85040288024f714f\\\"\\n}\", \"inputDetails\": {\"truncated\": false}, \"roleArn\": \"arn:aws:iam::014257795134:role/ds-mlops-stepfunction-role\"}}, {\"timestamp\": 1648215810.991, \"type\": \"TaskStateEntered\", \"id\": 2, \"previousEventId\": 0, \"stateEnteredEventDetails\": {\"name\": \"Pre-processing\", \"input\": \"{\\n    \\\"PreprocessingJobName\\\": \\\"xg-boost-score-preprocessing-8e34ab9cac4111ec85040288024f714f\\\",\\n    \\\"scoringstep\\\": \\\"xg-boost-score-8e34b060ac4111ec85040288024f714f\\\"\\n}\", \"inputDetails\": {\"truncated\": false}}}, {\"timestamp\": 1648215810.991, \"type\": \"TaskScheduled\", \"id\": 3, \"previousEventId\": 2, \"taskScheduledEventDetails\": {\"resourceType\": \"sagemaker\", \"resource\": \"createProcessingJob.sync\", \"region\": \"us-east-1\", \"parameters\": \"{\\\"ProcessingInputs\\\":[{\\\"InputName\\\":\\\"input\\\",\\\"AppManaged\\\":false,\\\"S3Input\\\":{\\\"S3Uri\\\":\\\"s3://ds-mlops-s3/transformed/monitoring/inbound/xgb/1/scoringdata.csv\\\",\\\"LocalPath\\\":\\\"/opt/ml/processing/input\\\",\\\"S3DataType\\\":\\\"S3Prefix\\\",\\\"S3InputMode\\\":\\\"File\\\",\\\"S3DataDistributionType\\\":\\\"FullyReplicated\\\",\\\"S3CompressionType\\\":\\\"None\\\"}},{\\\"InputName\\\":\\\"code\\\",\\\"AppManaged\\\":false,\\\"S3Input\\\":{\\\"S3Uri\\\":\\\"s3://ds-mlops-s3/transformed/monitoring/inbound/xgb/code/score_xg_boost_processing_script.py\\\",\\\"LocalPath\\\":\\\"/opt/ml/processing/input/code\\\",\\\"S3DataType\\\":\\\"S3Prefix\\\",\\\"S3InputMode\\\":\\\"File\\\",\\\"S3DataDistributionType\\\":\\\"FullyReplicated\\\",\\\"S3CompressionType\\\":\\\"None\\\"}}],\\\"ProcessingOutputConfig\\\":{\\\"Outputs\\\":[{\\\"OutputName\\\":\\\"test_data\\\",\\\"AppManaged\\\":false,\\\"S3Output\\\":{\\\"S3Uri\\\":\\\"s3://ds-mlops-s3/transformed/monitoring/inbound/xgb/score/2022/03/25/13/test\\\",\\\"LocalPath\\\":\\\"/opt/ml/processing/test\\\",\\\"S3UploadMode\\\":\\\"EndOfJob\\\"}}]},\\\"AppSpecification\\\":{\\\"ImageUri\\\":\\\"683313688378.dkr.ecr.us-east-1.amazonaws.com/sagemaker-scikit-learn:0.20.0-cpu-py3\\\",\\\"ContainerEntrypoint\\\":[\\\"python3\\\",\\\"/opt/ml/processing/input/code/score_xg_boost_processing_script.py\\\"]},\\\"RoleArn\\\":\\\"arn:aws:iam::014257795134:role/ds-mlops-sagemaker-role\\\",\\\"NetworkConfig\\\":{\\\"EnableNetworkIsolation\\\":false,\\\"VpcConfig\\\":{\\\"SecurityGroupIds\\\":[\\\"sg-01d629a900f9b4d92\\\"],\\\"Subnets\\\":[\\\"subnet-07bd1dfe6aee76227\\\",\\\"subnet-076950ecc89d4340b\\\",\\\"subnet-0c5a462cb45a14bab\\\"]}},\\\"ProcessingResources\\\":{\\\"ClusterConfig\\\":{\\\"InstanceCount\\\":1,\\\"InstanceType\\\":\\\"ml.m5.xlarge\\\",\\\"VolumeSizeInGB\\\":30}},\\\"ProcessingJobName\\\":\\\"xg-boost-score-preprocessing-8e34ab9cac4111ec85040288024f714f\\\",\\\"Tags\\\":[{\\\"Key\\\":\\\"MANAGED_BY_AWS\\\",\\\"Value\\\":\\\"STARTED_BY_STEP_FUNCTIONS\\\"}]}\"}}, {\"timestamp\": 1648215811.158, \"type\": \"TaskStarted\", \"id\": 4, \"previousEventId\": 3, \"taskStartedEventDetails\": {\"resourceType\": \"sagemaker\", \"resource\": \"createProcessingJob.sync\"}}] };\n",
       "\n",
       "    var graph = new sfn.StateMachineExecutionGraph(definition, events, elementId, options);\n",
       "    graph.render();\n",
       "});\n",
       "\n",
       "</script>\n"
      ],
      "text/plain": [
       "<IPython.core.display.HTML object>"
      ]
     },
     "execution_count": 150,
     "metadata": {},
     "output_type": "execute_result"
    }
   ],
   "source": [
    "basic_workflow_execution.render_progress()"
   ]
  },
  {
   "cell_type": "markdown",
   "id": "4af028c7",
   "metadata": {},
   "source": [
    "## Clean-up steps\n",
    "\n",
    "https://docs.aws.amazon.com/sagemaker/latest/dg/ex1-cleanup.html"
   ]
  },
  {
   "cell_type": "code",
   "execution_count": 50,
   "id": "795f07f2",
   "metadata": {},
   "outputs": [],
   "source": [
    "# # Clean up end point\n",
    "# client = boto3.client(\"sagemaker\", region_name=region)\n",
    "# response=client.delete_endpoint(EndpointName=endpoint_name)"
   ]
  },
  {
   "cell_type": "markdown",
   "id": "48647756",
   "metadata": {},
   "source": [
    "## Conversion step: CSV to .json\n"
   ]
  },
  {
   "cell_type": "code",
   "execution_count": null,
   "id": "8e98d0f2",
   "metadata": {},
   "outputs": [],
   "source": []
  }
 ],
 "metadata": {
  "kernelspec": {
   "display_name": "conda_python3",
   "language": "python",
   "name": "conda_python3"
  },
  "language_info": {
   "codemirror_mode": {
    "name": "ipython",
    "version": 3
   },
   "file_extension": ".py",
   "mimetype": "text/x-python",
   "name": "python",
   "nbconvert_exporter": "python",
   "pygments_lexer": "ipython3",
   "version": "3.6.13"
  }
 },
 "nbformat": 4,
 "nbformat_minor": 5
}
