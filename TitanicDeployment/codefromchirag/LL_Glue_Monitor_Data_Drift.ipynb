{
 "cells": [
  {
   "cell_type": "markdown",
   "id": "88203662",
   "metadata": {},
   "source": [
    "## Model Monitor Pipeline"
   ]
  },
  {
   "cell_type": "code",
   "execution_count": 131,
   "id": "302acd24",
   "metadata": {},
   "outputs": [],
   "source": [
    "#  import sys\n",
    "#  !{sys.executable} -m pip install --upgrade pip\n",
    "#  !{sys.executable} -m pip install -qU awscli boto3 \"sagemaker>=2.0.0\"\n",
    "#  !{sys.executable} -m pip install -qU \"stepfunctions>=2.0.0\"\n",
    "#  !{sys.executable} -m pip show sagemaker stepfunctions"
   ]
  },
  {
   "cell_type": "code",
   "execution_count": 225,
   "id": "f47e5757",
   "metadata": {},
   "outputs": [],
   "source": [
    "import pandas as pd\n",
    "from stepfunctions.inputs import ExecutionInput\n"
   ]
  },
  {
   "cell_type": "code",
   "execution_count": 226,
   "id": "f5524139",
   "metadata": {},
   "outputs": [],
   "source": [
    "import sagemaker\n",
    "import stepfunctions\n",
    "import logging\n",
    "from stepfunctions.steps import *\n",
    "from stepfunctions.workflow import Workflow\n",
    "from stepfunctions import steps\n",
    "from stepfunctions.inputs import ExecutionInput\n",
    "from sagemaker.processing import Processor,ProcessingInput, ProcessingOutput\n",
    "import uuid\n",
    "import sagemaker\n",
    "from sagemaker.inputs import TrainingInput\n",
    "import boto3\n",
    "from sagemaker.network import NetworkConfig\n",
    "from sagemaker.network import NetworkConfig\n",
    "stepfunctions.set_stream_logger(level=logging.INFO)\n",
    "\n",
    "\n"
   ]
  },
  {
   "cell_type": "markdown",
   "id": "92ff58ad",
   "metadata": {},
   "source": [
    "### Parameter definitions"
   ]
  },
  {
   "cell_type": "code",
   "execution_count": 227,
   "id": "9a5206c2",
   "metadata": {},
   "outputs": [
    {
     "name": "stdout",
     "output_type": "stream",
     "text": [
      "2022/04/09/00\n",
      "2022-04-09T00:00:00Z\n",
      "2022-04-09T01:00:00Z\n"
     ]
    }
   ],
   "source": [
    "#added on March 30\n",
    "import datetime\n",
    "year=datetime.datetime.now().strftime(\"%Y\")\n",
    "month=datetime.datetime.now().strftime(\"%m\")\n",
    "day=datetime.datetime.now().strftime(\"%d\")\n",
    "hour=datetime.datetime.now().strftime(\"%H\")\n",
    "ehour=datetime.datetime(int(year),int(month),int(day),int(hour)+1).strftime(\"%H\")\n",
    "timestr=(\"{}/{}/{}/{}\".format(year,month,day,hour))\n",
    "ep_strttime=(\"{}-{}-{}T{}:{}:{}Z\".format(year,month,day,hour,\"00\",\"00\"))\n",
    "ep_endtime=(\"{}-{}-{}T{}:{}:{}Z\".format(year,month,day,ehour,\"00\",\"00\"))\n",
    "print(timestr)\n",
    "print(ep_strttime)\n",
    "print(ep_endtime)\n"
   ]
  },
  {
   "cell_type": "code",
   "execution_count": 228,
   "id": "88f5b6da",
   "metadata": {},
   "outputs": [
    {
     "name": "stdout",
     "output_type": "stream",
     "text": [
      "jsonpath: s3://ds-mlops-s3/transformed/monitoring/inbound/ll/2022/04/09/00\n",
      "statistics path: s3://ds-mlops-s3/transformed/monitoring/inbound/json-files/statistics.json\n",
      "constraints path: s3://ds-mlops-s3/transformed/monitoring/inbound/json-files/constraints.json\n",
      "violations path: s3://ds-mlops-s3/transformed/monitoring/outbound/datadrift/ll/2022/04/09/00\n",
      "v_prefix_for_source: transformed/monitoring/outbound/ll/scoreoutput/jsonline/\n"
     ]
    }
   ],
   "source": [
    "#updated few parameters here-\n",
    "#change only below one for VW env details\n",
    "\n",
    "v_workflow_execution_role = \"arn:aws:iam::014257795134:role/ds-mlops-stepfunction-role\" # Step function IAM role ARN\n",
    "v_preprocessing_iam_role = \"arn:aws:iam::014257795134:role/ds-mlops-sagemaker-role\" # IAM role for preprocessing container\n",
    "#make sure to add SNS Full acess to below role to enable SNS notification.\n",
    "v_lambda_execution_role = \"arn:aws:iam::014257795134:role/role_lambda_mlops\" # SNS\n",
    "\n",
    "v_glue_role='arn:aws:iam::014257795134:role/Glue_Role_MLOPS'\n",
    "v_s3_input_bucket = \"ds-mlops-s3\" # S3 bucket for input and output data\n",
    "v_s3_config_bucket=\"ds-mlops-s3\"\n",
    "\n",
    "###---------------\n",
    "\n",
    "v_preprocessing_instance_type = \"ml.m5.xlarge\" # Instance type for preprocessing container it changes as per workload\n",
    "v_prefix_for_drift_lambda=\"transformed/monitoring/inbound/ll/code/evaluate_monitor_datadrift.zip\" # drift to be changed\n",
    "v_prefix_for_prep_lambda=\"transformed/monitoring/inbound/ll/code/Monotoring_data_Prep_Preprocess.zip\"\n",
    "v_prefix_for_evaluate_lambda=\"transformed/monitoring/inbound/ll/code/EvaluateMonitor_Payload.zip\"\n",
    "v_monitor_work_area=\"transformed/monitoring/monitor/ll/curschedule/\"\n",
    "\n",
    "\n",
    "jsonlpath = (\"s3://{}/{}/{}\".format(v_s3_input_bucket,\"transformed/monitoring/inbound/ll\",timestr))\n",
    "statspath = \"s3://{}/{}\".format(v_s3_config_bucket,\"transformed/monitoring/inbound/json-files/statistics.json\")\n",
    "constraintspath = \"s3://{}/{}\".format(v_s3_config_bucket,\"transformed/monitoring/inbound/json-files/constraints.json\")\n",
    "violationpath = \"s3://{}/{}/{}\".format(v_s3_input_bucket,\"transformed/monitoring/outbound/datadrift/ll\",timestr)\n",
    "\n",
    "\n",
    "v_prefix_for_score_output = \"transformed/monitoring/inbound/ll/currentrun/\"  # Prefix where data is stored\n",
    "v_prefix_for_code_location = \"transformed/monitoring/inbound/ll/code/score_ll_processing_script.py\" # prefix where code is stored\n",
    "v_prefix_for_post_code_loc = \"transformed/monitoring/inbound/ll/code/score_ll_post_processing_script.py\" # prefix where code is stored\n",
    "v_score_instance_type = \"ml.m5.xlarge\" # Instance type for training\n",
    "v_validation_scoring_instance_type = \"ml.m5.large\" # Instance type for batch scoring\n",
    "#added for glue job-\n",
    "\n",
    "v_prefix_for_glue_job=\"code/Glue_bookmarkScript.py\"\n",
    "v_prefix_for_source=\"transformed/monitoring/outbound/ll/scoreoutput/jsonline/\"\n",
    "\n",
    "v_prefix_for_dest=\"transformed/monitoring/inbound/ll/currentrun/\"\n",
    "v_glue_source=\"s3://{}/{}\".format(v_s3_input_bucket,v_prefix_for_source)\n",
    "v_glue_dest=\"s3://{}/{}\".format(v_s3_input_bucket,v_prefix_for_dest)\n",
    "glue_script_location=\"s3://{}/{}\".format(v_s3_input_bucket,v_prefix_for_glue_job)\n",
    "\n",
    "job_name=\"Glue_S3_Bookmark\"\n",
    "# job_name=\"glue_mlops_job\"\n",
    "\n",
    "\n",
    "\n",
    "# v_model_name = \"ds-mlops-linear-learner-02\" # Name of DS_MLOPS model to be kept\n",
    "v_model_name = \"ds-mlops-linear-learner\" # Name of DS_MLOPS model to be kept\n",
    "#v_scoe = \"s3://ds-mlops-s3/transformed/monitoring/outbound/ll/scoreoutput/jsonline/2022/03/28/08/jsonl\"\n",
    "\n",
    "#jobname = monitorjobname\n",
    "Environment={\n",
    "        'baseline_constraints': '/opt/ml/processing/baseline/constraints/constraints.json',\n",
    "        'baseline_statistics': '/opt/ml/processing/baseline/stats/statistics.json',\n",
    "        'dataset_format': '{\"sagemakerCaptureJson\":{\"captureIndexNames\":[\"endpointInput\",\"endpointOutput\"]}}',\n",
    "        'dataset_source': '/opt/ml/processing/input/endpoint',\n",
    "        'start_time':    ep_strttime,\n",
    "        'end_time': ep_endtime,\n",
    "        'metric_time': ep_strttime,\n",
    "        'output_path': '/opt/ml/processing/output',\n",
    "#         'post_analytics_processor_script': '/opt/ml/processing/code/postprocessing/postprocessor.py',\n",
    "        'publish_cloudwatch_metrics': 'Disabled',\n",
    "        'sagemaker_endpoint_name': 'poc',\n",
    "        'sagemaker_monitoring_schedule_name': 'poc'\n",
    "        \n",
    "    }\n",
    "# # VV added after design review\n",
    "# ENable this for the VW execution\n",
    "# sec_groups = [\"sg-01d629a900f9b4d92\"]\n",
    "# subnets = [\"subnet-07bd1dfe6aee76227\",\n",
    "#            \"subnet-076950ecc89d4340b\",\n",
    "#            \"subnet-0c5a462cb45a14bab\"]\n",
    "\n",
    "print(\"jsonpath:\", jsonlpath)\n",
    "print(\"statistics path:\", statspath)\n",
    "print(\"constraints path:\", constraintspath)\n",
    "print(\"violations path:\", violationpath)\n",
    "print(\"v_prefix_for_source:\", v_prefix_for_source)"
   ]
  },
  {
   "cell_type": "code",
   "execution_count": 229,
   "id": "568ad95b",
   "metadata": {},
   "outputs": [],
   "source": [
    "##VV updated after review\n",
    "execution_input = ExecutionInput(\n",
    "    schema={\n",
    "        \"GlueJobName\":str,\n",
    "        \"Post-processing\": str,\n",
    "        \"MonitorJobName\": str,\n",
    "        \"EvaluateDrift\" : str\n",
    "               }\n",
    ")"
   ]
  },
  {
   "cell_type": "markdown",
   "id": "f6c2518a",
   "metadata": {},
   "source": [
    "# Step 1- Glue job to consolidate CSV out files "
   ]
  },
  {
   "cell_type": "code",
   "execution_count": 230,
   "id": "50b5d000",
   "metadata": {},
   "outputs": [
    {
     "name": "stdout",
     "output_type": "stream",
     "text": [
      "Overwriting Glue_bookmarkScript.py\n"
     ]
    }
   ],
   "source": [
    "%%writefile Glue_bookmarkScript.py\n",
    "import sys\n",
    "from awsglue.transforms import *\n",
    "from awsglue.utils import getResolvedOptions\n",
    "from pyspark.context import SparkContext\n",
    "from awsglue.context import GlueContext\n",
    "from awsglue.job import Job\n",
    "\n",
    "args = getResolvedOptions(sys.argv, [\"JOB_NAME\",\"S3_SOURCE\", \"S3_DEST\"])\n",
    "sc = SparkContext()\n",
    "glueContext = GlueContext(sc)\n",
    "glueContext.purge_s3_path(args[\"S3_DEST\"], options={\"retentionPeriod\":0})\n",
    "spark = glueContext.spark_session\n",
    "job = Job(glueContext)\n",
    "job.init(args[\"JOB_NAME\"], args)\n",
    "\n",
    "# Script generated for node S3 bucket\n",
    "S3bucket_node1 = glueContext.create_dynamic_frame.from_options(\n",
    "    format_options={\"quoteChar\": '\"', \"withHeader\": False, \"separator\": \",\"},\n",
    "    connection_type=\"s3\",\n",
    "    format=\"csv\",\n",
    "    connection_options={\n",
    "        \"paths\": [args[\"S3_SOURCE\"]],\n",
    "        \"recurse\": True,\n",
    "    },\n",
    "    transformation_ctx=\"S3bucket_node1\",\n",
    ")\n",
    "\n",
    "# # Script generated for node Apply Mapping\n",
    "# ApplyMapping_node1648633086293 = ApplyMapping.apply(\n",
    "#     frame=S3bucket_node1,\n",
    "#     mappings=[\n",
    "#         (\"col0\", \"long\", \"col0\", \"long\"),\n",
    "#         (\"col1\", \"string\", \"col1\", \"string\"),\n",
    "#         (\"col2\", \"choice\", \"col2\", \"choice\"),\n",
    "#         (\"col3\", \"choice\", \"col3\", \"choice\"),\n",
    "#         (\"col4\", \"choice\", \"col4\", \"choice\"),\n",
    "#         (\"col5\", \"string\", \"col5\", \"string\"),\n",
    "#         (\"col6\", \"choice\", \"col6\", \"choice\"),\n",
    "#     ],\n",
    "#     transformation_ctx=\"ApplyMapping_node1648633086293\",\n",
    "# )\n",
    "\n",
    "# Script generated for node S3 bucket\n",
    "S3bucket_node3 = glueContext.getSink(\n",
    "    path=args[\"S3_DEST\"],\n",
    "    connection_type=\"s3\",\n",
    "    updateBehavior=\"UPDATE_IN_DATABASE\",\n",
    "    partitionKeys=[],\n",
    "    enableUpdateCatalog=True,\n",
    "    transformation_ctx=\"S3bucket_node3\",\n",
    ")\n",
    "S3bucket_node3.setCatalogInfo(\n",
    "    catalogDatabase=\"incremental_s3_Volkswagen\", catalogTableName=\"GLUE_ETL\"\n",
    ")\n",
    "S3bucket_node3.setFormat(\"csv\")\n",
    "S3bucket_node3.writeFrame(S3bucket_node1)\n",
    "job.commit()\n"
   ]
  },
  {
   "cell_type": "code",
   "execution_count": 231,
   "id": "d9e72761",
   "metadata": {},
   "outputs": [
    {
     "name": "stdout",
     "output_type": "stream",
     "text": [
      "upload: ./Glue_bookmarkScript.py to s3://ds-mlops-s3/code/Glue_bookmarkScript.py\n",
      "s3://ds-mlops-s3/code/Glue_bookmarkScript.py\n"
     ]
    }
   ],
   "source": [
    "#push local to required S3 location\n",
    "! aws s3 cp Glue_bookmarkScript.py s3://$v_s3_input_bucket/$v_prefix_for_glue_job\n",
    "print(glue_script_location)"
   ]
  },
  {
   "cell_type": "code",
   "execution_count": 232,
   "id": "24094301",
   "metadata": {},
   "outputs": [],
   "source": [
    "#define glue step for data consolidation/movement\n",
    "monitor_csv_step = steps.GlueStartJobRunStep(\n",
    "    \"CSV Consolidation\",\n",
    "    parameters={\n",
    "        \"JobName\": execution_input[\"GlueJobName\"],\n",
    "        \"Arguments\": {\n",
    "            \"--S3_SOURCE\": v_glue_source,# scoring output location\n",
    "            \"--S3_DEST\":v_glue_dest # monitoring work area\n",
    "         },\n",
    "    },\n",
    ")"
   ]
  },
  {
   "cell_type": "markdown",
   "id": "81ad1df7",
   "metadata": {},
   "source": [
    "# Step 2- Evaluate presence of Data files"
   ]
  },
  {
   "cell_type": "code",
   "execution_count": 233,
   "id": "5e7ca519",
   "metadata": {},
   "outputs": [
    {
     "name": "stdout",
     "output_type": "stream",
     "text": [
      "Overwriting EvaluateMonitor_Payload.py\n"
     ]
    }
   ],
   "source": [
    "%%writefile EvaluateMonitor_Payload.py\n",
    "import boto3\n",
    "import logging\n",
    "import json\n",
    "import glob\n",
    "logger = logging.getLogger()\n",
    "logger.setLevel(logging.INFO)\n",
    "client = boto3.client('s3') \n",
    "bucket=\"ds-mlops-s3\"\n",
    "prefix=\"transformed/monitoring/inbound/ll/currentrun/\"\n",
    "def lambda_handler(event, context):\n",
    "    resp=client.list_objects(\n",
    "        Bucket=bucket,\n",
    "        Prefix=prefix)\n",
    "    if \"Contents\" in resp:\n",
    "        return {'flag':1}\n",
    "    else:\n",
    "        return {'flag':0}\n",
    "    "
   ]
  },
  {
   "cell_type": "code",
   "execution_count": 234,
   "id": "877c15d3",
   "metadata": {},
   "outputs": [
    {
     "name": "stdout",
     "output_type": "stream",
     "text": [
      "updating: EvaluateMonitor_Payload.py (deflated 40%)\n",
      "upload: ./EvaluateMonitor_Payload.zip to s3://ds-mlops-s3/transformed/monitoring/inbound/ll/code/EvaluateMonitor_Payload.zip\n"
     ]
    }
   ],
   "source": [
    "#push function code to the local file\n",
    "! zip EvaluateMonitor_Payload.zip EvaluateMonitor_Payload.py\n",
    "#push local to required S3 location\n",
    "! aws s3 cp EvaluateMonitor_Payload.zip s3://$v_s3_input_bucket/$v_prefix_for_evaluate_lambda"
   ]
  },
  {
   "cell_type": "code",
   "execution_count": 235,
   "id": "fd9bb3c4",
   "metadata": {},
   "outputs": [
    {
     "data": {
      "text/plain": [
       "'transformed/monitoring/inbound/ll/code/EvaluateMonitor_Payload.zip'"
      ]
     },
     "execution_count": 235,
     "metadata": {},
     "output_type": "execute_result"
    }
   ],
   "source": [
    "v_prefix_for_evaluate_lambda"
   ]
  },
  {
   "cell_type": "code",
   "execution_count": 236,
   "id": "03e55988",
   "metadata": {},
   "outputs": [],
   "source": [
    "##give lambda function name as appropriate, give path of S3 where you have uploaded the code, give proper description\n",
    "function_name = 'LinearLearnerMonitor-EvaluatePayload'\n",
    "lambda_client = boto3.client('lambda')\n",
    "try:\n",
    "    chkexisting=lambda_client.get_function(FunctionName=function_name)\n",
    "    responde=lambda_client.update_function_code(FunctionName=function_name,\n",
    "        S3Bucket=v_s3_input_bucket,\n",
    "        S3Key=v_prefix_for_evaluate_lambda)\n",
    "except Exception as e:\n",
    "    print(e)\n",
    "    response = lambda_client.create_function(\n",
    "        FunctionName=function_name,\n",
    "        Runtime='python3.7',\n",
    "        Role=v_lambda_execution_role,\n",
    "        Handler='EvaluateMonitor_Payload.lambda_handler',\n",
    "        Code={\n",
    "            'S3Bucket':v_s3_input_bucket,\n",
    "            'S3Key': '{}'.format(v_prefix_for_evaluate_lambda)\n",
    "        },\n",
    "        Description='prepare the files as per the last schedule and schedule freq',\n",
    "        Timeout=15,\n",
    "        MemorySize=128\n",
    "    )\n"
   ]
  },
  {
   "cell_type": "code",
   "execution_count": 237,
   "id": "e6561eb9",
   "metadata": {},
   "outputs": [],
   "source": [
    "Evaluate_step = compute.LambdaStep(\n",
    "    'Evaluate Payload',\n",
    "    parameters={  \n",
    "        \"FunctionName\": function_name\n",
    "    }\n",
    ")"
   ]
  },
  {
   "cell_type": "code",
   "execution_count": 238,
   "id": "7d5e99fd",
   "metadata": {},
   "outputs": [],
   "source": [
    "decide_run_step = steps.states.Choice(\n",
    "    'Monitor Payload Present'\n",
    ")"
   ]
  },
  {
   "cell_type": "code",
   "execution_count": 239,
   "id": "e140249a",
   "metadata": {},
   "outputs": [],
   "source": [
    "no_op_step = steps.states.Pass(\n",
    "    'Bypass-No data file to process',\n",
    "    comment='No Data file to process'\n",
    ")"
   ]
  },
  {
   "cell_type": "markdown",
   "id": "56f4154b",
   "metadata": {},
   "source": [
    "# Step 2- Sagemaker Job-consolidated CSV to JSONL conversion\n",
    "\n"
   ]
  },
  {
   "cell_type": "code",
   "execution_count": 240,
   "id": "a7b5e47f",
   "metadata": {},
   "outputs": [
    {
     "name": "stdout",
     "output_type": "stream",
     "text": [
      "Overwriting score_ll_post_processing_script.py\n"
     ]
    }
   ],
   "source": [
    "%%writefile score_ll_post_processing_script.py\n",
    "import pandas as pd\n",
    "import json\n",
    "import glob\n",
    "#path = r'/opt/ml/processing/input' # Input path\n",
    "path='/opt/ml/processing/input/data'\n",
    "all_files = glob.glob(path + \"/*\",recursive=True)\n",
    "# all_files=['s3://ds-mlops-s3/data/scoreoutput/lr/2022/02/17/18/batchscoring.csv.out']\n",
    "counter = 0\n",
    "print(all_files)\n",
    "for filename in all_files:\n",
    "    print(\"hi\")\n",
    "    df = pd.read_csv(filename,header=None)\n",
    "    df = df.sample(frac=.25)\n",
    "    df=df.iloc[:,1:]\n",
    "    # Create a multiline json\n",
    "    json_list = json.loads(df.to_json(orient = \"records\"))\n",
    "    output_path = \"/opt/ml/processing/ll/datacapture.jsonl\" #path to the linear learner\n",
    "    print(output_path)\n",
    "    counter = counter + 1\n",
    "    data = {}\n",
    "    data[\"captureData\"]={\n",
    "            \"endpointInput\": {\n",
    "                \"observedContentType\": \"text/csv\",\n",
    "                \"mode\": \"INPUT\",\n",
    "                \"data\": \"132,25,113.2,96,269.9,107,229.1,87,7.1,7,2,0,0,0,0,0,0,0,0,0,0,0,0,0,0,0,0,0,0,0,1,0,0,0,0,0,0,0,0,0,0,0,0,0,0,0,0,0,0,0,0,0,0,0,0,0,0,0,0,0,0,0,0,1,0,1,0,0,1\",\n",
    "                \"encoding\": \"CSV\"\n",
    "            },\n",
    "            \"endpointOutput\": {\n",
    "                \"observedContentType\": \"text/csv; charset=utf-8\",\n",
    "                \"mode\": \"OUTPUT\",\n",
    "                \"data\": \"6295.23876953125\",\n",
    "                \"encoding\": \"CSV\"\n",
    "            }\n",
    "        }\n",
    "    data[\"eventMetadata\"] = {\n",
    "            \"eventId\": \"\",\n",
    "            \"inferenceTime\": \"2\"\n",
    "        }\n",
    "    data[\"eventVersion\"] = \"0\"\n",
    "    with open(output_path, 'w') as f:\n",
    "        print(output_path)\n",
    "        for item in json_list:\n",
    "            item = list(item.values())\n",
    "            inpitem = ','.join([str(elem) for elem in item[:-1]])\n",
    "            #outitem = ','.join([str(elem) for elem in item[-1]])\n",
    "            outitem=str(item[-1])\n",
    "            data[\"captureData\"][\"endpointInput\"][\"data\"] = inpitem\n",
    "            data[\"captureData\"][\"endpointOutput\"][\"data\"] =outitem\n",
    "            f.write(\"%s\\n\" % data)\n",
    "# Data push\n",
    "\n",
    "\n"
   ]
  },
  {
   "cell_type": "code",
   "execution_count": 241,
   "id": "6a2e4a47",
   "metadata": {},
   "outputs": [
    {
     "name": "stdout",
     "output_type": "stream",
     "text": [
      "Completed 1.9 KiB/1.9 KiB (11.3 KiB/s) with 1 file(s) remaining\r",
      "upload: ./score_ll_post_processing_script.py to s3://ds-mlops-s3/transformed/monitoring/inbound/ll/code/score_ll_post_processing_script.py\r\n"
     ]
    }
   ],
   "source": [
    "!aws s3 cp score_ll_post_processing_script.py s3://$v_s3_input_bucket/$v_prefix_for_post_code_loc # Uploading preprocessing code on s3"
   ]
  },
  {
   "cell_type": "code",
   "execution_count": 242,
   "id": "713a356d",
   "metadata": {},
   "outputs": [],
   "source": [
    "processor = Processor(image_uri='683313688378.dkr.ecr.us-east-1.amazonaws.com/sagemaker-scikit-learn:0.20.0-cpu-py3',\n",
    "                     role=v_preprocessing_iam_role,\n",
    "                     instance_count=1,\n",
    "                     instance_type=v_preprocessing_instance_type\n",
    "                     #network_config = NetworkConfig(security_group_ids = sec_groups, subnets = subnets)\n",
    "                     )"
   ]
  },
  {
   "cell_type": "code",
   "execution_count": 243,
   "id": "317c05b2",
   "metadata": {},
   "outputs": [],
   "source": [
    "input_data = \"s3://{}/{}\".format(v_s3_input_bucket,v_prefix_for_score_output) #updated on 30 March\n",
    "input_code = \"s3://{}/{}\".format(v_s3_input_bucket,v_prefix_for_post_code_loc)\n",
    "output_data = jsonlpath\n",
    "\n",
    "inputs = [\n",
    "    ProcessingInput(\n",
    "        source=input_data, destination=\"/opt/ml/processing/input/data\", input_name=\"input\"\n",
    "    ),\n",
    "    ProcessingInput(\n",
    "        source=input_code,\n",
    "        destination=\"/opt/ml/processing/input/code\",\n",
    "        input_name=\"code\",\n",
    "    ),\n",
    "]\n",
    "\n",
    "outputs = [\n",
    "    ProcessingOutput(\n",
    "        source=\"/opt/ml/processing/ll\",\n",
    "        destination=\"{}/{}\".format(output_data, \"\"),\n",
    "        output_name=\"ll_data\",\n",
    "    )\n",
    "    \n",
    "]"
   ]
  },
  {
   "cell_type": "code",
   "execution_count": 244,
   "id": "5bce368c",
   "metadata": {},
   "outputs": [
    {
     "name": "stdout",
     "output_type": "stream",
     "text": [
      "s3://ds-mlops-s3/transformed/monitoring/inbound/ll/currentrun/\n"
     ]
    }
   ],
   "source": [
    "print(input_data)"
   ]
  },
  {
   "cell_type": "code",
   "execution_count": 245,
   "id": "9660e423",
   "metadata": {},
   "outputs": [],
   "source": [
    "postprocessing_step = ProcessingStep(\n",
    "    state_id='Post-processing', \n",
    "    processor=processor,\n",
    "    job_name=execution_input[\"Post-processing\"], \n",
    "    inputs=inputs, \n",
    "    outputs=outputs, \n",
    "    experiment_config=None, \n",
    "    container_entrypoint=[\"python3\", \"/opt/ml/processing/input/code/score_ll_post_processing_script.py\"], # DS needs to change this directory /path\n",
    "    wait_for_completion=True\n",
    ")"
   ]
  },
  {
   "cell_type": "code",
   "execution_count": 246,
   "id": "fe6efa74",
   "metadata": {},
   "outputs": [],
   "source": [
    "# Generate unique names for Pre-Processing Job, Training Job, and Model Evaluation Job for the Step Functions Workflow\n",
    " # Each Training Job requires a unique name\n",
    "batch_scoring_job_name = \"ll-post-preprocessing-{}\".format(\n",
    "    uuid.uuid1().hex\n",
    ")"
   ]
  },
  {
   "cell_type": "markdown",
   "id": "c2ec486a",
   "metadata": {},
   "source": [
    "# Step 3: Sagemaker Job-Execute Monitor Step"
   ]
  },
  {
   "cell_type": "code",
   "execution_count": 247,
   "id": "a0f9d6f6",
   "metadata": {},
   "outputs": [],
   "source": [
    "import boto3\n",
    "client = boto3.client('sagemaker')\n"
   ]
  },
  {
   "cell_type": "code",
   "execution_count": 248,
   "id": "255c101d",
   "metadata": {},
   "outputs": [],
   "source": [
    "# Dynamic Job Name\n",
    "import uuid\n",
    "monitorjobname = \"Batch-model-monitor-{}\".format(\n",
    "    uuid.uuid1().hex\n",
    ")"
   ]
  },
  {
   "cell_type": "code",
   "execution_count": 249,
   "id": "b31fd1de",
   "metadata": {},
   "outputs": [],
   "source": [
    "# s3://ds-mlops-s3/data/scoreoutput/xgb/2022/03/21/12/test/outputfile_.json\n",
    "\n",
    "Inputs=[\n",
    "    ProcessingInput(\n",
    "        source=jsonlpath, \n",
    "        destination=(\"{}/{})\".format(\"/opt/ml/processing/input/endpoint/poc/AllTraffic\",timestr)),\n",
    "        input_name=\"input_1\"\n",
    "    ),\n",
    "    ProcessingInput(\n",
    "        source=statspath,\n",
    "        destination=\"/opt/ml/processing/baseline/stats\",\n",
    "        input_name=\"baseline\"\n",
    "    ),\n",
    "    ProcessingInput(\n",
    "        source=constraintspath,\n",
    "        destination=\"/opt/ml/processing/baseline/constraints\",\n",
    "        input_name=\"constraints\",\n",
    "    )\n",
    " ]\n",
    "Output= [\n",
    "       ProcessingOutput(\n",
    "        source=\"/opt/ml/processing/output\",\n",
    "        destination=violationpath,\n",
    "        output_name=\"result\",\n",
    "    )    \n",
    "]\n"
   ]
  },
  {
   "cell_type": "code",
   "execution_count": 250,
   "id": "aee1dbf1",
   "metadata": {},
   "outputs": [],
   "source": [
    "processor = Processor(image_uri='156813124566.dkr.ecr.us-east-1.amazonaws.com/sagemaker-model-monitor-analyzer',\n",
    "                     role=v_preprocessing_iam_role,\n",
    "                     instance_count=1,\n",
    "                     instance_type=v_preprocessing_instance_type,\n",
    "                     env=Environment,\n",
    "                     max_runtime_in_seconds=600)\n",
    "                     #network_config = NetworkConfig(security_group_ids = sec_groups, subnets = subnets))"
   ]
  },
  {
   "cell_type": "code",
   "execution_count": 251,
   "id": "804da167",
   "metadata": {},
   "outputs": [],
   "source": [
    "monitoring_step = ProcessingStep(\n",
    "    state_id='Batch Monitoring', \n",
    "    processor=processor,\n",
    "    job_name=execution_input[\"MonitorJobName\"], \n",
    "    inputs=Inputs, \n",
    "    outputs=Output,\n",
    "    experiment_config=None,\n",
    "    wait_for_completion=True\n",
    ")"
   ]
  },
  {
   "cell_type": "markdown",
   "id": "d4172dc3",
   "metadata": {},
   "source": [
    "# Step 4: Lambda- Evaluate Drift and send notification"
   ]
  },
  {
   "cell_type": "code",
   "execution_count": 252,
   "id": "0e949547",
   "metadata": {},
   "outputs": [],
   "source": [
    "# Understanding of the drift patterns:\n",
    "\n",
    "# 1. Actual values vs the predicted values\n",
    "# 2. The baselines metric on the stats vs constraint files. \n",
    "# 3. An evaluation on the baselines to detect the drift patterns based on the comparison between the actual vs\n",
    "#     predicted values"
   ]
  },
  {
   "cell_type": "code",
   "execution_count": 253,
   "id": "1e7e4aeb",
   "metadata": {},
   "outputs": [
    {
     "name": "stdout",
     "output_type": "stream",
     "text": [
      "transformed/monitoring/outbound/datadrift/ll/2022/04/09/00/constraint_violations.json\n"
     ]
    }
   ],
   "source": [
    "violations_filepath = (\"{}/{}/{}\".format(\"transformed/monitoring/outbound/datadrift/ll\",timestr,\"constraint_violations.json\"))\n",
    "\n",
    "print(violations_filepath)"
   ]
  },
  {
   "cell_type": "code",
   "execution_count": 254,
   "id": "ed9ae25c",
   "metadata": {},
   "outputs": [
    {
     "name": "stdout",
     "output_type": "stream",
     "text": [
      "Overwriting evaluate_monitor_drift.py\n"
     ]
    }
   ],
   "source": [
    "%%writefile evaluate_monitor_drift.py\n",
    "\n",
    "\n",
    "import random\n",
    "import csv\n",
    "import json\n",
    "import boto3\n",
    "import json\n",
    "import logging\n",
    "import datetime\n",
    "\n",
    "year=datetime.datetime.now().strftime(\"%Y\")\n",
    "month=datetime.datetime.now().strftime(\"%m\")\n",
    "day=datetime.datetime.now().strftime(\"%d\")\n",
    "hour=datetime.datetime.now().strftime(\"%H\")\n",
    "ehour=datetime.datetime(int(year),int(month),int(day),int(hour)+1).strftime(\"%H\")\n",
    "timestr=(\"{}/{}/{}/{}\".format(year,month,day,hour))\n",
    "#timestr=(\"{}/{}/{}/{}\".format(\"2022\",\"03\",\"30\",\"10\"))\n",
    "\n",
    "logger = logging.getLogger()\n",
    "logger.setLevel(logging.INFO)\n",
    "sm_client = boto3.client('sagemaker')\n",
    "\n",
    "v_s3_input_bucket = \"ds-mlops-s3\"\n",
    "violations_filepath = (\"{}/{}/{}\".format(\"transformed/monitoring/outbound/datadrift/ll\",timestr,\"constraint_violations.json\"))\n",
    "print(violations_filepath)\n",
    "\n",
    "def lambda_handler(event, context):\n",
    "    #Reading file contents from s3 dynamically.\n",
    "    # try:\n",
    "    s3_client = boto3.client('s3')\n",
    "    response = s3_client.get_object(Bucket=v_s3_input_bucket,Key=violations_filepath)\n",
    "    text = response['Body'].read().decode('utf-8')\n",
    "    data = json.loads(text)\n",
    "    print(data)\n",
    "    # except Exception as e:\n",
    "    #     raise (str(e))\n",
    "        \n",
    "    # SNS part starts here._arn,\n",
    "    subject = \"Data Drift Monitor - Linear Learner\"\n",
    "    body = data\n",
    "    sns_topic_arn=\"arn:aws:sns:us-east-1:014257795134:topic-lambda-mlops\"\n",
    "    sns_client = boto3.client('sns')\n",
    "    response = sns_client.publish(\n",
    "        TargetArn=sns_topic_arn,\n",
    "        Message=json.dumps({'default': json.dumps(f\"{data}\"),\n",
    "                            'sms': subject,\n",
    "                            'email': body}),\n",
    "        Subject=subject,\n",
    "        MessageStructure='json')\n",
    "    return response\n",
    "#     except Exception as e:\n",
    "        \n",
    "# return \"No Drift detected\""
   ]
  },
  {
   "cell_type": "code",
   "execution_count": 255,
   "id": "0fd47634",
   "metadata": {},
   "outputs": [],
   "source": [
    "# s3://ds-mlops-s3/transformed/monitoring/outbound/datadrift/ll/"
   ]
  },
  {
   "cell_type": "code",
   "execution_count": 256,
   "id": "6daccf86",
   "metadata": {},
   "outputs": [
    {
     "name": "stdout",
     "output_type": "stream",
     "text": [
      "updating: evaluate_monitor_drift.py (deflated 56%)\n",
      "upload: ./evaluate_monitor_drift.zip to s3://ds-mlops-s3/transformed/monitoring/inbound/ll/code/evaluate_monitor_datadrift.zip\n"
     ]
    }
   ],
   "source": [
    "#push function code to the local file\n",
    "! zip evaluate_monitor_drift.zip evaluate_monitor_drift.py\n",
    "#push local to required S3 location\n",
    "! aws s3 cp evaluate_monitor_drift.zip s3://$v_s3_input_bucket/$v_prefix_for_drift_lambda"
   ]
  },
  {
   "cell_type": "code",
   "execution_count": 257,
   "id": "2e6ff3c3",
   "metadata": {},
   "outputs": [],
   "source": [
    "##give lambda function name as appropriate, give path of S3 where you have uploaded the code, give proper description\n",
    "function_name = 'LinearLearner_Monitor-drift'\n",
    "lambda_client = boto3.client('lambda')\n",
    "try:\n",
    "    chkexisting=lambda_client.get_function(FunctionName=function_name)\n",
    "    responde=lambda_client.update_function_code(FunctionName=function_name,\n",
    "        S3Bucket=v_s3_input_bucket,\n",
    "        S3Key=v_prefix_for_drift_lambda)\n",
    "except Exception as e:\n",
    "    print(e)\n",
    "    response = lambda_client.create_function(\n",
    "        FunctionName=function_name,\n",
    "        Runtime='python3.7',\n",
    "        Role=v_lambda_execution_role,\n",
    "        Handler='evaluate_monitor_drift.lambda_handler',\n",
    "        Code={\n",
    "            'S3Bucket':v_s3_input_bucket,\n",
    "            'S3Key': '{}'.format(v_prefix_for_drift_lambda)\n",
    "        },\n",
    "        Description='notify the data or model drift as per violation file data points',\n",
    "        Timeout=15,\n",
    "        MemorySize=128\n",
    "    )\n"
   ]
  },
  {
   "cell_type": "code",
   "execution_count": 258,
   "id": "f87057bb",
   "metadata": {},
   "outputs": [],
   "source": [
    "##define Lambda Step as below and add it in the overall execution flow of the step machine\n",
    "lambda_step = compute.LambdaStep(\n",
    "    'Evaluate Drift',\n",
    "    parameters={  \n",
    "        \"FunctionName\": function_name\n",
    "    }\n",
    ")"
   ]
  },
  {
   "cell_type": "code",
   "execution_count": 259,
   "id": "7fad4990",
   "metadata": {},
   "outputs": [
    {
     "data": {
      "text/plain": [
       "Evaluate Drift LambdaStep(parameters={'FunctionName': 'LinearLearner_Monitor-drift'}, resource='arn:aws:states:::lambda:invoke', type='Task')"
      ]
     },
     "execution_count": 259,
     "metadata": {},
     "output_type": "execute_result"
    }
   ],
   "source": [
    "threshold_rule = steps.choice_rule.ChoiceRule.NumericEquals(variable=Evaluate_step.output()['Payload']['flag'], value=1)\n",
    "decide_run_step.add_choice(rule=threshold_rule, next_step=postprocessing_step)\n",
    "decide_run_step.default_choice(next_step=no_op_step)\n",
    "postprocessing_step.next(monitoring_step)\n",
    "monitoring_step.next(lambda_step)"
   ]
  },
  {
   "cell_type": "code",
   "execution_count": 260,
   "id": "b5322d7b",
   "metadata": {},
   "outputs": [],
   "source": [
    "\n",
    "# basic_path3=Chain([postprocessing_step])\n",
    "\n",
    "basic_path=Chain([monitor_csv_step,Evaluate_step,decide_run_step])\n"
   ]
  },
  {
   "cell_type": "code",
   "execution_count": 261,
   "id": "70dfe592",
   "metadata": {},
   "outputs": [
    {
     "data": {
      "text/html": [
       "\n",
       "<link rel=\"stylesheet\" type=\"text/css\" href=\"https://do0of8uwbahzz.cloudfront.net/graph.css\">\n",
       "<div id=\"graph-703\" class=\"workflowgraph\">\n",
       "    \n",
       "    <svg></svg>\n",
       "    \n",
       "</div>\n",
       "\n",
       "<script type=\"text/javascript\">\n",
       "\n",
       "require.config({\n",
       "    paths: {\n",
       "        sfn: \"https://do0of8uwbahzz.cloudfront.net/sfn\",\n",
       "    }\n",
       "});\n",
       "\n",
       "require(['sfn'], function(sfn) {\n",
       "    var element = document.getElementById('graph-703')\n",
       "\n",
       "    var options = {\n",
       "        width: parseFloat(getComputedStyle(element, null).width.replace(\"px\", \"\")),\n",
       "        height: 600,\n",
       "        layout: 'LR',\n",
       "        resizeHeight: true\n",
       "    };\n",
       "\n",
       "    var definition = {\"StartAt\": \"CSV Consolidation\", \"States\": {\"CSV Consolidation\": {\"Parameters\": {\"JobName.$\": \"$$.Execution.Input['GlueJobName']\", \"Arguments\": {\"--S3_SOURCE\": \"s3://ds-mlops-s3/transformed/monitoring/outbound/ll/scoreoutput/jsonline/\", \"--S3_DEST\": \"s3://ds-mlops-s3/transformed/monitoring/inbound/ll/currentrun/\"}}, \"Resource\": \"arn:aws:states:::glue:startJobRun.sync\", \"Type\": \"Task\", \"Next\": \"Evaluate Payload\"}, \"Evaluate Payload\": {\"Parameters\": {\"FunctionName\": \"LinearLearnerMonitor-EvaluatePayload\"}, \"Resource\": \"arn:aws:states:::lambda:invoke\", \"Type\": \"Task\", \"Next\": \"Monitor Payload Present\"}, \"Monitor Payload Present\": {\"Type\": \"Choice\", \"Choices\": [{\"Variable\": \"$['Payload']['flag']\", \"NumericEquals\": 1, \"Next\": \"Post-processing\"}], \"Default\": \"Bypass-No data file to process\"}, \"Bypass-No data file to process\": {\"Comment\": \"No Data file to process\", \"Type\": \"Pass\", \"End\": true}, \"Post-processing\": {\"Resource\": \"arn:aws:states:::sagemaker:createProcessingJob.sync\", \"Parameters\": {\"ProcessingJobName.$\": \"$$.Execution.Input['Post-processing']\", \"ProcessingInputs\": [{\"InputName\": \"input\", \"AppManaged\": false, \"S3Input\": {\"S3Uri\": \"s3://ds-mlops-s3/transformed/monitoring/inbound/ll/currentrun/\", \"LocalPath\": \"/opt/ml/processing/input/data\", \"S3DataType\": \"S3Prefix\", \"S3InputMode\": \"File\", \"S3DataDistributionType\": \"FullyReplicated\", \"S3CompressionType\": \"None\"}}, {\"InputName\": \"code\", \"AppManaged\": false, \"S3Input\": {\"S3Uri\": \"s3://ds-mlops-s3/transformed/monitoring/inbound/ll/code/score_ll_post_processing_script.py\", \"LocalPath\": \"/opt/ml/processing/input/code\", \"S3DataType\": \"S3Prefix\", \"S3InputMode\": \"File\", \"S3DataDistributionType\": \"FullyReplicated\", \"S3CompressionType\": \"None\"}}], \"ProcessingOutputConfig\": {\"Outputs\": [{\"OutputName\": \"ll_data\", \"AppManaged\": false, \"S3Output\": {\"S3Uri\": \"s3://ds-mlops-s3/transformed/monitoring/inbound/ll/2022/04/09/00/\", \"LocalPath\": \"/opt/ml/processing/ll\", \"S3UploadMode\": \"EndOfJob\"}}]}, \"AppSpecification\": {\"ImageUri\": \"683313688378.dkr.ecr.us-east-1.amazonaws.com/sagemaker-scikit-learn:0.20.0-cpu-py3\", \"ContainerEntrypoint\": [\"python3\", \"/opt/ml/processing/input/code/score_ll_post_processing_script.py\"]}, \"RoleArn\": \"arn:aws:iam::014257795134:role/ds-mlops-sagemaker-role\", \"ProcessingResources\": {\"ClusterConfig\": {\"InstanceCount\": 1, \"InstanceType\": \"ml.m5.xlarge\", \"VolumeSizeInGB\": 30}}}, \"Type\": \"Task\", \"Next\": \"Batch Monitoring\"}, \"Batch Monitoring\": {\"Resource\": \"arn:aws:states:::sagemaker:createProcessingJob.sync\", \"Parameters\": {\"ProcessingJobName.$\": \"$$.Execution.Input['MonitorJobName']\", \"ProcessingInputs\": [{\"InputName\": \"input_1\", \"AppManaged\": false, \"S3Input\": {\"S3Uri\": \"s3://ds-mlops-s3/transformed/monitoring/inbound/ll/2022/04/09/00\", \"LocalPath\": \"/opt/ml/processing/input/endpoint/poc/AllTraffic/2022/04/09/00)\", \"S3DataType\": \"S3Prefix\", \"S3InputMode\": \"File\", \"S3DataDistributionType\": \"FullyReplicated\", \"S3CompressionType\": \"None\"}}, {\"InputName\": \"baseline\", \"AppManaged\": false, \"S3Input\": {\"S3Uri\": \"s3://ds-mlops-s3/transformed/monitoring/inbound/json-files/statistics.json\", \"LocalPath\": \"/opt/ml/processing/baseline/stats\", \"S3DataType\": \"S3Prefix\", \"S3InputMode\": \"File\", \"S3DataDistributionType\": \"FullyReplicated\", \"S3CompressionType\": \"None\"}}, {\"InputName\": \"constraints\", \"AppManaged\": false, \"S3Input\": {\"S3Uri\": \"s3://ds-mlops-s3/transformed/monitoring/inbound/json-files/constraints.json\", \"LocalPath\": \"/opt/ml/processing/baseline/constraints\", \"S3DataType\": \"S3Prefix\", \"S3InputMode\": \"File\", \"S3DataDistributionType\": \"FullyReplicated\", \"S3CompressionType\": \"None\"}}], \"ProcessingOutputConfig\": {\"Outputs\": [{\"OutputName\": \"result\", \"AppManaged\": false, \"S3Output\": {\"S3Uri\": \"s3://ds-mlops-s3/transformed/monitoring/outbound/datadrift/ll/2022/04/09/00\", \"LocalPath\": \"/opt/ml/processing/output\", \"S3UploadMode\": \"EndOfJob\"}}]}, \"AppSpecification\": {\"ImageUri\": \"156813124566.dkr.ecr.us-east-1.amazonaws.com/sagemaker-model-monitor-analyzer\"}, \"RoleArn\": \"arn:aws:iam::014257795134:role/ds-mlops-sagemaker-role\", \"Environment\": {\"baseline_constraints\": \"/opt/ml/processing/baseline/constraints/constraints.json\", \"baseline_statistics\": \"/opt/ml/processing/baseline/stats/statistics.json\", \"dataset_format\": \"{\\\"sagemakerCaptureJson\\\":{\\\"captureIndexNames\\\":[\\\"endpointInput\\\",\\\"endpointOutput\\\"]}}\", \"dataset_source\": \"/opt/ml/processing/input/endpoint\", \"start_time\": \"2022-04-09T00:00:00Z\", \"end_time\": \"2022-04-09T01:00:00Z\", \"metric_time\": \"2022-04-09T00:00:00Z\", \"output_path\": \"/opt/ml/processing/output\", \"publish_cloudwatch_metrics\": \"Disabled\", \"sagemaker_endpoint_name\": \"poc\", \"sagemaker_monitoring_schedule_name\": \"poc\"}, \"ProcessingResources\": {\"ClusterConfig\": {\"InstanceCount\": 1, \"InstanceType\": \"ml.m5.xlarge\", \"VolumeSizeInGB\": 30}}, \"StoppingCondition\": {\"MaxRuntimeInSeconds\": 600}}, \"Type\": \"Task\", \"Next\": \"Evaluate Drift\"}, \"Evaluate Drift\": {\"Parameters\": {\"FunctionName\": \"LinearLearner_Monitor-drift\"}, \"Resource\": \"arn:aws:states:::lambda:invoke\", \"Type\": \"Task\", \"End\": true}}};\n",
       "    var elementId = '#graph-703';\n",
       "\n",
       "    var graph = new sfn.StateMachineGraph(definition, elementId, options);\n",
       "    graph.render();\n",
       "});\n",
       "\n",
       "</script>\n"
      ],
      "text/plain": [
       "<IPython.core.display.HTML object>"
      ]
     },
     "execution_count": 261,
     "metadata": {},
     "output_type": "execute_result"
    }
   ],
   "source": [
    "# Next, we define the workflow\n",
    "basic_workflowv1 = Workflow(\n",
    "    name=\"ds-mlops-monitor-step-functionv1\",\n",
    "    definition=basic_path,\n",
    "    role=v_workflow_execution_role\n",
    ")\n",
    "\n",
    "#Render the workflow\n",
    "basic_workflowv1.render_graph()"
   ]
  },
  {
   "cell_type": "code",
   "execution_count": 262,
   "id": "c9ef7cae",
   "metadata": {},
   "outputs": [
    {
     "name": "stdout",
     "output_type": "stream",
     "text": [
      "{\n",
      "    \"StartAt\": \"CSV Consolidation\",\n",
      "    \"States\": {\n",
      "        \"CSV Consolidation\": {\n",
      "            \"Parameters\": {\n",
      "                \"JobName.$\": \"$$.Execution.Input['GlueJobName']\",\n",
      "                \"Arguments\": {\n",
      "                    \"--S3_SOURCE\": \"s3://ds-mlops-s3/transformed/monitoring/outbound/ll/scoreoutput/jsonline/\",\n",
      "                    \"--S3_DEST\": \"s3://ds-mlops-s3/transformed/monitoring/inbound/ll/currentrun/\"\n",
      "                }\n",
      "            },\n",
      "            \"Resource\": \"arn:aws:states:::glue:startJobRun.sync\",\n",
      "            \"Type\": \"Task\",\n",
      "            \"Next\": \"Evaluate Payload\"\n",
      "        },\n",
      "        \"Evaluate Payload\": {\n",
      "            \"Parameters\": {\n",
      "                \"FunctionName\": \"LinearLearnerMonitor-EvaluatePayload\"\n",
      "            },\n",
      "            \"Resource\": \"arn:aws:states:::lambda:invoke\",\n",
      "            \"Type\": \"Task\",\n",
      "            \"Next\": \"Monitor Payload Present\"\n",
      "        },\n",
      "        \"Monitor Payload Present\": {\n",
      "            \"Type\": \"Choice\",\n",
      "            \"Choices\": [\n",
      "                {\n",
      "                    \"Variable\": \"$['Payload']['flag']\",\n",
      "                    \"NumericEquals\": 1,\n",
      "                    \"Next\": \"Post-processing\"\n",
      "                }\n",
      "            ],\n",
      "            \"Default\": \"Bypass-No data file to process\"\n",
      "        },\n",
      "        \"Bypass-No data file to process\": {\n",
      "            \"Comment\": \"No Data file to process\",\n",
      "            \"Type\": \"Pass\",\n",
      "            \"End\": true\n",
      "        },\n",
      "        \"Post-processing\": {\n",
      "            \"Resource\": \"arn:aws:states:::sagemaker:createProcessingJob.sync\",\n",
      "            \"Parameters\": {\n",
      "                \"ProcessingJobName.$\": \"$$.Execution.Input['Post-processing']\",\n",
      "                \"ProcessingInputs\": [\n",
      "                    {\n",
      "                        \"InputName\": \"input\",\n",
      "                        \"AppManaged\": false,\n",
      "                        \"S3Input\": {\n",
      "                            \"S3Uri\": \"s3://ds-mlops-s3/transformed/monitoring/inbound/ll/currentrun/\",\n",
      "                            \"LocalPath\": \"/opt/ml/processing/input/data\",\n",
      "                            \"S3DataType\": \"S3Prefix\",\n",
      "                            \"S3InputMode\": \"File\",\n",
      "                            \"S3DataDistributionType\": \"FullyReplicated\",\n",
      "                            \"S3CompressionType\": \"None\"\n",
      "                        }\n",
      "                    },\n",
      "                    {\n",
      "                        \"InputName\": \"code\",\n",
      "                        \"AppManaged\": false,\n",
      "                        \"S3Input\": {\n",
      "                            \"S3Uri\": \"s3://ds-mlops-s3/transformed/monitoring/inbound/ll/code/score_ll_post_processing_script.py\",\n",
      "                            \"LocalPath\": \"/opt/ml/processing/input/code\",\n",
      "                            \"S3DataType\": \"S3Prefix\",\n",
      "                            \"S3InputMode\": \"File\",\n",
      "                            \"S3DataDistributionType\": \"FullyReplicated\",\n",
      "                            \"S3CompressionType\": \"None\"\n",
      "                        }\n",
      "                    }\n",
      "                ],\n",
      "                \"ProcessingOutputConfig\": {\n",
      "                    \"Outputs\": [\n",
      "                        {\n",
      "                            \"OutputName\": \"ll_data\",\n",
      "                            \"AppManaged\": false,\n",
      "                            \"S3Output\": {\n",
      "                                \"S3Uri\": \"s3://ds-mlops-s3/transformed/monitoring/inbound/ll/2022/04/09/00/\",\n",
      "                                \"LocalPath\": \"/opt/ml/processing/ll\",\n",
      "                                \"S3UploadMode\": \"EndOfJob\"\n",
      "                            }\n",
      "                        }\n",
      "                    ]\n",
      "                },\n",
      "                \"AppSpecification\": {\n",
      "                    \"ImageUri\": \"683313688378.dkr.ecr.us-east-1.amazonaws.com/sagemaker-scikit-learn:0.20.0-cpu-py3\",\n",
      "                    \"ContainerEntrypoint\": [\n",
      "                        \"python3\",\n",
      "                        \"/opt/ml/processing/input/code/score_ll_post_processing_script.py\"\n",
      "                    ]\n",
      "                },\n",
      "                \"RoleArn\": \"arn:aws:iam::014257795134:role/ds-mlops-sagemaker-role\",\n",
      "                \"ProcessingResources\": {\n",
      "                    \"ClusterConfig\": {\n",
      "                        \"InstanceCount\": 1,\n",
      "                        \"InstanceType\": \"ml.m5.xlarge\",\n",
      "                        \"VolumeSizeInGB\": 30\n",
      "                    }\n",
      "                }\n",
      "            },\n",
      "            \"Type\": \"Task\",\n",
      "            \"Next\": \"Batch Monitoring\"\n",
      "        },\n",
      "        \"Batch Monitoring\": {\n",
      "            \"Resource\": \"arn:aws:states:::sagemaker:createProcessingJob.sync\",\n",
      "            \"Parameters\": {\n",
      "                \"ProcessingJobName.$\": \"$$.Execution.Input['MonitorJobName']\",\n",
      "                \"ProcessingInputs\": [\n",
      "                    {\n",
      "                        \"InputName\": \"input_1\",\n",
      "                        \"AppManaged\": false,\n",
      "                        \"S3Input\": {\n",
      "                            \"S3Uri\": \"s3://ds-mlops-s3/transformed/monitoring/inbound/ll/2022/04/09/00\",\n",
      "                            \"LocalPath\": \"/opt/ml/processing/input/endpoint/poc/AllTraffic/2022/04/09/00)\",\n",
      "                            \"S3DataType\": \"S3Prefix\",\n",
      "                            \"S3InputMode\": \"File\",\n",
      "                            \"S3DataDistributionType\": \"FullyReplicated\",\n",
      "                            \"S3CompressionType\": \"None\"\n",
      "                        }\n",
      "                    },\n",
      "                    {\n",
      "                        \"InputName\": \"baseline\",\n",
      "                        \"AppManaged\": false,\n",
      "                        \"S3Input\": {\n",
      "                            \"S3Uri\": \"s3://ds-mlops-s3/transformed/monitoring/inbound/json-files/statistics.json\",\n",
      "                            \"LocalPath\": \"/opt/ml/processing/baseline/stats\",\n",
      "                            \"S3DataType\": \"S3Prefix\",\n",
      "                            \"S3InputMode\": \"File\",\n",
      "                            \"S3DataDistributionType\": \"FullyReplicated\",\n",
      "                            \"S3CompressionType\": \"None\"\n",
      "                        }\n",
      "                    },\n",
      "                    {\n",
      "                        \"InputName\": \"constraints\",\n",
      "                        \"AppManaged\": false,\n",
      "                        \"S3Input\": {\n",
      "                            \"S3Uri\": \"s3://ds-mlops-s3/transformed/monitoring/inbound/json-files/constraints.json\",\n",
      "                            \"LocalPath\": \"/opt/ml/processing/baseline/constraints\",\n",
      "                            \"S3DataType\": \"S3Prefix\",\n",
      "                            \"S3InputMode\": \"File\",\n",
      "                            \"S3DataDistributionType\": \"FullyReplicated\",\n",
      "                            \"S3CompressionType\": \"None\"\n",
      "                        }\n",
      "                    }\n",
      "                ],\n",
      "                \"ProcessingOutputConfig\": {\n",
      "                    \"Outputs\": [\n",
      "                        {\n",
      "                            \"OutputName\": \"result\",\n",
      "                            \"AppManaged\": false,\n",
      "                            \"S3Output\": {\n",
      "                                \"S3Uri\": \"s3://ds-mlops-s3/transformed/monitoring/outbound/datadrift/ll/2022/04/09/00\",\n",
      "                                \"LocalPath\": \"/opt/ml/processing/output\",\n",
      "                                \"S3UploadMode\": \"EndOfJob\"\n",
      "                            }\n",
      "                        }\n",
      "                    ]\n",
      "                },\n",
      "                \"AppSpecification\": {\n",
      "                    \"ImageUri\": \"156813124566.dkr.ecr.us-east-1.amazonaws.com/sagemaker-model-monitor-analyzer\"\n",
      "                },\n",
      "                \"RoleArn\": \"arn:aws:iam::014257795134:role/ds-mlops-sagemaker-role\",\n",
      "                \"Environment\": {\n",
      "                    \"baseline_constraints\": \"/opt/ml/processing/baseline/constraints/constraints.json\",\n",
      "                    \"baseline_statistics\": \"/opt/ml/processing/baseline/stats/statistics.json\",\n",
      "                    \"dataset_format\": \"{\\\"sagemakerCaptureJson\\\":{\\\"captureIndexNames\\\":[\\\"endpointInput\\\",\\\"endpointOutput\\\"]}}\",\n",
      "                    \"dataset_source\": \"/opt/ml/processing/input/endpoint\",\n",
      "                    \"start_time\": \"2022-04-09T00:00:00Z\",\n",
      "                    \"end_time\": \"2022-04-09T01:00:00Z\",\n",
      "                    \"metric_time\": \"2022-04-09T00:00:00Z\",\n",
      "                    \"output_path\": \"/opt/ml/processing/output\",\n",
      "                    \"publish_cloudwatch_metrics\": \"Disabled\",\n",
      "                    \"sagemaker_endpoint_name\": \"poc\",\n",
      "                    \"sagemaker_monitoring_schedule_name\": \"poc\"\n",
      "                },\n",
      "                \"ProcessingResources\": {\n",
      "                    \"ClusterConfig\": {\n",
      "                        \"InstanceCount\": 1,\n",
      "                        \"InstanceType\": \"ml.m5.xlarge\",\n",
      "                        \"VolumeSizeInGB\": 30\n",
      "                    }\n",
      "                },\n",
      "                \"StoppingCondition\": {\n",
      "                    \"MaxRuntimeInSeconds\": 600\n",
      "                }\n",
      "            },\n",
      "            \"Type\": \"Task\",\n",
      "            \"Next\": \"Evaluate Drift\"\n",
      "        },\n",
      "        \"Evaluate Drift\": {\n",
      "            \"Parameters\": {\n",
      "                \"FunctionName\": \"LinearLearner_Monitor-drift\"\n",
      "            },\n",
      "            \"Resource\": \"arn:aws:states:::lambda:invoke\",\n",
      "            \"Type\": \"Task\",\n",
      "            \"End\": true\n",
      "        }\n",
      "    }\n",
      "}\n"
     ]
    }
   ],
   "source": [
    "print(basic_workflowv1.definition.to_json(pretty=True)) # From this json we would be leveraging the codes to create the Cloud Formation parameterized template..."
   ]
  },
  {
   "cell_type": "code",
   "execution_count": 263,
   "id": "fe383f47",
   "metadata": {},
   "outputs": [
    {
     "name": "stdout",
     "output_type": "stream",
     "text": [
      "\u001b[31m[ERROR] A workflow with the same name already exists on AWS Step Functions. To update a workflow, use Workflow.update().\u001b[0m\n"
     ]
    },
    {
     "data": {
      "text/plain": [
       "'arn:aws:states:us-east-1:014257795134:stateMachine:ds-mlops-monitor-step-functionv1'"
      ]
     },
     "execution_count": 263,
     "metadata": {},
     "output_type": "execute_result"
    }
   ],
   "source": [
    "basic_workflowv1.create()"
   ]
  },
  {
   "cell_type": "code",
   "execution_count": 264,
   "id": "fc6e9ea9",
   "metadata": {},
   "outputs": [
    {
     "name": "stdout",
     "output_type": "stream",
     "text": [
      "\u001b[32m[INFO] Workflow updated successfully on AWS Step Functions. All execute() calls will use the updated definition and role within a few seconds. \u001b[0m\n"
     ]
    },
    {
     "data": {
      "text/plain": [
       "'arn:aws:states:us-east-1:014257795134:stateMachine:ds-mlops-monitor-step-functionv1'"
      ]
     },
     "execution_count": 264,
     "metadata": {},
     "output_type": "execute_result"
    }
   ],
   "source": [
    "basic_workflowv1.update(definition=basic_workflowv1.definition,role=basic_workflowv1.role)"
   ]
  },
  {
   "cell_type": "code",
   "execution_count": 265,
   "id": "ffbd5067",
   "metadata": {},
   "outputs": [
    {
     "name": "stdout",
     "output_type": "stream",
     "text": [
      "\u001b[32m[INFO] Workflow execution started successfully on AWS Step Functions.\u001b[0m\n"
     ]
    }
   ],
   "source": [
    "basic_workflow_execution = basic_workflowv1.execute(\n",
    "    inputs={\n",
    "       \"MonitorJobName\": monitorjobname,\n",
    "       \"Post-processing\": batch_scoring_job_name,\n",
    "        \"GlueJobName\": job_name\n",
    "            }\n",
    ")"
   ]
  },
  {
   "cell_type": "code",
   "execution_count": 266,
   "id": "71de984a",
   "metadata": {},
   "outputs": [
    {
     "data": {
      "text/html": [
       "\n",
       "<link rel=\"stylesheet\" type=\"text/css\" href=\"https://do0of8uwbahzz.cloudfront.net/graph.css\">\n",
       "<div id=\"graph-359\" class=\"workflowgraph\">\n",
       "    \n",
       "    <style>\n",
       "        .graph-legend ul {\n",
       "            list-style-type: none;\n",
       "            padding: 10px;\n",
       "            padding-left: 0;\n",
       "            margin: 0;\n",
       "            position: absolute;\n",
       "            top: 0;\n",
       "            background: transparent;\n",
       "        }\n",
       "\n",
       "        .graph-legend li {\n",
       "            margin-left: 10px;\n",
       "            display: inline-block;\n",
       "        }\n",
       "\n",
       "        .graph-legend li > div {\n",
       "            width: 10px;\n",
       "            height: 10px;\n",
       "            display: inline-block;\n",
       "        }\n",
       "\n",
       "        .graph-legend .success { background-color: #2BD62E }\n",
       "        .graph-legend .failed { background-color: #DE322F }\n",
       "        .graph-legend .cancelled { background-color: #DDDDDD }\n",
       "        .graph-legend .in-progress { background-color: #53C9ED }\n",
       "        .graph-legend .caught-error { background-color: #FFA500 }\n",
       "    </style>\n",
       "    <div class=\"graph-legend\">\n",
       "        <ul>\n",
       "            <li>\n",
       "                <div class=\"success\"></div>\n",
       "                <span>Success</span>\n",
       "            </li>\n",
       "            <li>\n",
       "                <div class=\"failed\"></div>\n",
       "                <span>Failed</span>\n",
       "            </li>\n",
       "            <li>\n",
       "                <div class=\"cancelled\"></div>\n",
       "                <span>Cancelled</span>\n",
       "            </li>\n",
       "            <li>\n",
       "                <div class=\"in-progress\"></div>\n",
       "                <span>In Progress</span>\n",
       "            </li>\n",
       "            <li>\n",
       "                <div class=\"caught-error\"></div>\n",
       "                <span>Caught Error</span>\n",
       "            </li>\n",
       "        </ul>\n",
       "    </div>\n",
       "\n",
       "    <svg></svg>\n",
       "    <a href=\"https://console.aws.amazon.com/states/home?region=us-east-1#/executions/details/arn:aws:states:us-east-1:014257795134:execution:ds-mlops-monitor-step-functionv1:d26e686a-94ee-4ebe-a0c7-17cbfbd79837\" target=\"_blank\"> Inspect in AWS Step Functions </a>\n",
       "</div>\n",
       "\n",
       "<script type=\"text/javascript\">\n",
       "\n",
       "require.config({\n",
       "    paths: {\n",
       "        sfn: \"https://do0of8uwbahzz.cloudfront.net/sfn\",\n",
       "    }\n",
       "});\n",
       "\n",
       "require(['sfn'], function(sfn) {\n",
       "    var element = document.getElementById('graph-359')\n",
       "\n",
       "    var options = {\n",
       "        width: parseFloat(getComputedStyle(element, null).width.replace(\"px\", \"\")),\n",
       "        height: 1000,\n",
       "        layout: 'LR',\n",
       "        resizeHeight: true\n",
       "    };\n",
       "\n",
       "    var definition = {\"StartAt\": \"CSV Consolidation\", \"States\": {\"CSV Consolidation\": {\"Parameters\": {\"JobName.$\": \"$$.Execution.Input['GlueJobName']\", \"Arguments\": {\"--S3_SOURCE\": \"s3://ds-mlops-s3/transformed/monitoring/outbound/ll/scoreoutput/jsonline/\", \"--S3_DEST\": \"s3://ds-mlops-s3/transformed/monitoring/inbound/ll/currentrun/\"}}, \"Resource\": \"arn:aws:states:::glue:startJobRun.sync\", \"Type\": \"Task\", \"Next\": \"Evaluate Payload\"}, \"Evaluate Payload\": {\"Parameters\": {\"FunctionName\": \"LinearLearnerMonitor-EvaluatePayload\"}, \"Resource\": \"arn:aws:states:::lambda:invoke\", \"Type\": \"Task\", \"Next\": \"Monitor Payload Present\"}, \"Monitor Payload Present\": {\"Type\": \"Choice\", \"Choices\": [{\"Variable\": \"$['Payload']['flag']\", \"NumericEquals\": 1, \"Next\": \"Post-processing\"}], \"Default\": \"Bypass-No data file to process\"}, \"Bypass-No data file to process\": {\"Comment\": \"No Data file to process\", \"Type\": \"Pass\", \"End\": true}, \"Post-processing\": {\"Resource\": \"arn:aws:states:::sagemaker:createProcessingJob.sync\", \"Parameters\": {\"ProcessingJobName.$\": \"$$.Execution.Input['Post-processing']\", \"ProcessingInputs\": [{\"InputName\": \"input\", \"AppManaged\": false, \"S3Input\": {\"S3Uri\": \"s3://ds-mlops-s3/transformed/monitoring/inbound/ll/currentrun/\", \"LocalPath\": \"/opt/ml/processing/input/data\", \"S3DataType\": \"S3Prefix\", \"S3InputMode\": \"File\", \"S3DataDistributionType\": \"FullyReplicated\", \"S3CompressionType\": \"None\"}}, {\"InputName\": \"code\", \"AppManaged\": false, \"S3Input\": {\"S3Uri\": \"s3://ds-mlops-s3/transformed/monitoring/inbound/ll/code/score_ll_post_processing_script.py\", \"LocalPath\": \"/opt/ml/processing/input/code\", \"S3DataType\": \"S3Prefix\", \"S3InputMode\": \"File\", \"S3DataDistributionType\": \"FullyReplicated\", \"S3CompressionType\": \"None\"}}], \"ProcessingOutputConfig\": {\"Outputs\": [{\"OutputName\": \"ll_data\", \"AppManaged\": false, \"S3Output\": {\"S3Uri\": \"s3://ds-mlops-s3/transformed/monitoring/inbound/ll/2022/04/09/00/\", \"LocalPath\": \"/opt/ml/processing/ll\", \"S3UploadMode\": \"EndOfJob\"}}]}, \"AppSpecification\": {\"ImageUri\": \"683313688378.dkr.ecr.us-east-1.amazonaws.com/sagemaker-scikit-learn:0.20.0-cpu-py3\", \"ContainerEntrypoint\": [\"python3\", \"/opt/ml/processing/input/code/score_ll_post_processing_script.py\"]}, \"RoleArn\": \"arn:aws:iam::014257795134:role/ds-mlops-sagemaker-role\", \"ProcessingResources\": {\"ClusterConfig\": {\"InstanceCount\": 1, \"InstanceType\": \"ml.m5.xlarge\", \"VolumeSizeInGB\": 30}}}, \"Type\": \"Task\", \"Next\": \"Batch Monitoring\"}, \"Batch Monitoring\": {\"Resource\": \"arn:aws:states:::sagemaker:createProcessingJob.sync\", \"Parameters\": {\"ProcessingJobName.$\": \"$$.Execution.Input['MonitorJobName']\", \"ProcessingInputs\": [{\"InputName\": \"input_1\", \"AppManaged\": false, \"S3Input\": {\"S3Uri\": \"s3://ds-mlops-s3/transformed/monitoring/inbound/ll/2022/04/09/00\", \"LocalPath\": \"/opt/ml/processing/input/endpoint/poc/AllTraffic/2022/04/09/00)\", \"S3DataType\": \"S3Prefix\", \"S3InputMode\": \"File\", \"S3DataDistributionType\": \"FullyReplicated\", \"S3CompressionType\": \"None\"}}, {\"InputName\": \"baseline\", \"AppManaged\": false, \"S3Input\": {\"S3Uri\": \"s3://ds-mlops-s3/transformed/monitoring/inbound/json-files/statistics.json\", \"LocalPath\": \"/opt/ml/processing/baseline/stats\", \"S3DataType\": \"S3Prefix\", \"S3InputMode\": \"File\", \"S3DataDistributionType\": \"FullyReplicated\", \"S3CompressionType\": \"None\"}}, {\"InputName\": \"constraints\", \"AppManaged\": false, \"S3Input\": {\"S3Uri\": \"s3://ds-mlops-s3/transformed/monitoring/inbound/json-files/constraints.json\", \"LocalPath\": \"/opt/ml/processing/baseline/constraints\", \"S3DataType\": \"S3Prefix\", \"S3InputMode\": \"File\", \"S3DataDistributionType\": \"FullyReplicated\", \"S3CompressionType\": \"None\"}}], \"ProcessingOutputConfig\": {\"Outputs\": [{\"OutputName\": \"result\", \"AppManaged\": false, \"S3Output\": {\"S3Uri\": \"s3://ds-mlops-s3/transformed/monitoring/outbound/datadrift/ll/2022/04/09/00\", \"LocalPath\": \"/opt/ml/processing/output\", \"S3UploadMode\": \"EndOfJob\"}}]}, \"AppSpecification\": {\"ImageUri\": \"156813124566.dkr.ecr.us-east-1.amazonaws.com/sagemaker-model-monitor-analyzer\"}, \"RoleArn\": \"arn:aws:iam::014257795134:role/ds-mlops-sagemaker-role\", \"Environment\": {\"baseline_constraints\": \"/opt/ml/processing/baseline/constraints/constraints.json\", \"baseline_statistics\": \"/opt/ml/processing/baseline/stats/statistics.json\", \"dataset_format\": \"{\\\"sagemakerCaptureJson\\\":{\\\"captureIndexNames\\\":[\\\"endpointInput\\\",\\\"endpointOutput\\\"]}}\", \"dataset_source\": \"/opt/ml/processing/input/endpoint\", \"start_time\": \"2022-04-09T00:00:00Z\", \"end_time\": \"2022-04-09T01:00:00Z\", \"metric_time\": \"2022-04-09T00:00:00Z\", \"output_path\": \"/opt/ml/processing/output\", \"publish_cloudwatch_metrics\": \"Disabled\", \"sagemaker_endpoint_name\": \"poc\", \"sagemaker_monitoring_schedule_name\": \"poc\"}, \"ProcessingResources\": {\"ClusterConfig\": {\"InstanceCount\": 1, \"InstanceType\": \"ml.m5.xlarge\", \"VolumeSizeInGB\": 30}}, \"StoppingCondition\": {\"MaxRuntimeInSeconds\": 600}}, \"Type\": \"Task\", \"Next\": \"Evaluate Drift\"}, \"Evaluate Drift\": {\"Parameters\": {\"FunctionName\": \"LinearLearner_Monitor-drift\"}, \"Resource\": \"arn:aws:states:::lambda:invoke\", \"Type\": \"Task\", \"End\": true}}};\n",
       "    var elementId = '#graph-359';\n",
       "    var events = { 'events': [{\"timestamp\": 1649465879.044, \"type\": \"ExecutionStarted\", \"id\": 1, \"previousEventId\": 0, \"executionStartedEventDetails\": {\"input\": \"{\\n    \\\"MonitorJobName\\\": \\\"Batch-model-monitor-0ed20a88b7a011ecadef0288024f714f\\\",\\n    \\\"Post-processing\\\": \\\"ll-post-preprocessing-0e545aacb7a011ecadef0288024f714f\\\",\\n    \\\"GlueJobName\\\": \\\"Glue_S3_Bookmark\\\"\\n}\", \"inputDetails\": {\"truncated\": false}, \"roleArn\": \"arn:aws:iam::014257795134:role/ds-mlops-stepfunction-role\"}}, {\"timestamp\": 1649465879.085, \"type\": \"TaskStateEntered\", \"id\": 2, \"previousEventId\": 0, \"stateEnteredEventDetails\": {\"name\": \"CSV Consolidation\", \"input\": \"{\\n    \\\"MonitorJobName\\\": \\\"Batch-model-monitor-0ed20a88b7a011ecadef0288024f714f\\\",\\n    \\\"Post-processing\\\": \\\"ll-post-preprocessing-0e545aacb7a011ecadef0288024f714f\\\",\\n    \\\"GlueJobName\\\": \\\"Glue_S3_Bookmark\\\"\\n}\", \"inputDetails\": {\"truncated\": false}}}, {\"timestamp\": 1649465879.085, \"type\": \"TaskScheduled\", \"id\": 3, \"previousEventId\": 2, \"taskScheduledEventDetails\": {\"resourceType\": \"glue\", \"resource\": \"startJobRun.sync\", \"region\": \"us-east-1\", \"parameters\": \"{\\\"Arguments\\\":{\\\"--S3_SOURCE\\\":\\\"s3://ds-mlops-s3/transformed/monitoring/outbound/ll/scoreoutput/jsonline/\\\",\\\"--S3_DEST\\\":\\\"s3://ds-mlops-s3/transformed/monitoring/inbound/ll/currentrun/\\\"},\\\"JobName\\\":\\\"Glue_S3_Bookmark\\\"}\"}}, {\"timestamp\": 1649465879.172, \"type\": \"TaskStarted\", \"id\": 4, \"previousEventId\": 3, \"taskStartedEventDetails\": {\"resourceType\": \"glue\", \"resource\": \"startJobRun.sync\"}}, {\"timestamp\": 1649465879.357, \"type\": \"TaskSubmitted\", \"id\": 5, \"previousEventId\": 4, \"taskSubmittedEventDetails\": {\"resourceType\": \"glue\", \"resource\": \"startJobRun.sync\", \"output\": \"{\\\"JobRunId\\\":\\\"jr_fc3ad9e52f9b28711060f6831bb69d36f18f7cd58efed63de1bed620e52a7260\\\",\\\"SdkHttpMetadata\\\":{\\\"AllHttpHeaders\\\":{\\\"Connection\\\":[\\\"keep-alive\\\"],\\\"x-amzn-RequestId\\\":[\\\"1699afa7-9a68-4371-b9d7-41c5fee3d1f5\\\"],\\\"Content-Length\\\":[\\\"82\\\"],\\\"Date\\\":[\\\"Sat, 09 Apr 2022 00:57:59 GMT\\\"],\\\"Content-Type\\\":[\\\"application/x-amz-json-1.1\\\"]},\\\"HttpHeaders\\\":{\\\"Connection\\\":\\\"keep-alive\\\",\\\"Content-Length\\\":\\\"82\\\",\\\"Content-Type\\\":\\\"application/x-amz-json-1.1\\\",\\\"Date\\\":\\\"Sat, 09 Apr 2022 00:57:59 GMT\\\",\\\"x-amzn-RequestId\\\":\\\"1699afa7-9a68-4371-b9d7-41c5fee3d1f5\\\"},\\\"HttpStatusCode\\\":200},\\\"SdkResponseMetadata\\\":{\\\"RequestId\\\":\\\"1699afa7-9a68-4371-b9d7-41c5fee3d1f5\\\"},\\\"JobName\\\":\\\"Glue_S3_Bookmark\\\"}\", \"outputDetails\": {\"truncated\": false}}}] };\n",
       "\n",
       "    var graph = new sfn.StateMachineExecutionGraph(definition, events, elementId, options);\n",
       "    graph.render();\n",
       "});\n",
       "\n",
       "</script>\n"
      ],
      "text/plain": [
       "<IPython.core.display.HTML object>"
      ]
     },
     "execution_count": 266,
     "metadata": {},
     "output_type": "execute_result"
    }
   ],
   "source": [
    "basic_workflow_execution.render_progress()"
   ]
  },
  {
   "cell_type": "code",
   "execution_count": null,
   "id": "68ae010a",
   "metadata": {},
   "outputs": [],
   "source": []
  },
  {
   "cell_type": "code",
   "execution_count": null,
   "id": "36fbb875",
   "metadata": {},
   "outputs": [],
   "source": []
  },
  {
   "cell_type": "code",
   "execution_count": null,
   "id": "a6db7f22",
   "metadata": {},
   "outputs": [],
   "source": []
  }
 ],
 "metadata": {
  "kernelspec": {
   "display_name": "conda_python3",
   "language": "python",
   "name": "conda_python3"
  },
  "language_info": {
   "codemirror_mode": {
    "name": "ipython",
    "version": 3
   },
   "file_extension": ".py",
   "mimetype": "text/x-python",
   "name": "python",
   "nbconvert_exporter": "python",
   "pygments_lexer": "ipython3",
   "version": "3.6.13"
  }
 },
 "nbformat": 4,
 "nbformat_minor": 5
}
