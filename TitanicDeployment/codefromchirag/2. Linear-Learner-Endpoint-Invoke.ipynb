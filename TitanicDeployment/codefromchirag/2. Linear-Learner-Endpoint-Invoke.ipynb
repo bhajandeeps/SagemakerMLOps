{
 "cells": [
  {
   "cell_type": "markdown",
   "id": "aa9bf00a",
   "metadata": {},
   "source": [
    "## 1. Create endpoint config\n",
    "In this section we will describe how we can create a model endpoint. If you already have endpoint , please go to last cell for invocation, give the correct end point name and start inferences."
   ]
  },
  {
   "cell_type": "markdown",
   "id": "445a199f",
   "metadata": {},
   "source": [
    "For generating sagemaker end point we will need to generate endpoint config. So generating endpoint config first"
   ]
  },
  {
   "cell_type": "code",
   "execution_count": 4,
   "id": "858ace78",
   "metadata": {},
   "outputs": [],
   "source": [
    "# %store -r # you can read model from another notebook via this method \n",
    "# print(v_model_name)"
   ]
  },
  {
   "cell_type": "code",
   "execution_count": 5,
   "id": "cbf85988",
   "metadata": {},
   "outputs": [],
   "source": [
    "import sys\n",
    "import math\n",
    "import boto3\n",
    "import sagemaker\n",
    "from time import gmtime, strftime\n",
    "role = sagemaker.get_execution_role()\n",
    "region = boto3.Session().region_name\n",
    "runtime_client = boto3.client(\"runtime.sagemaker\", region_name=region)\n",
    "client = boto3.client(\"sagemaker\", region_name=region)\n"
   ]
  },
  {
   "cell_type": "code",
   "execution_count": 6,
   "id": "451ede89",
   "metadata": {},
   "outputs": [],
   "source": [
    "# Instance config for endpoint\n",
    "endpoint_config_name = 'ds-mlops-linear-learner-endpoint-configV1'\n",
    "v_model_name = \"ds-mlops-linear-learner-02\" # To be changed\n",
    "Instance_Type = \"ml.m5.large\"\n",
    "VolumeSizeIn_GB = 20\n",
    "Instance_Count = 1\n",
    "endpoint_name = 'endpoint-269d39e2f78611eb95f8028939f4d999' # name of model endpoint\n"
   ]
  },
  {
   "cell_type": "markdown",
   "id": "2969f3d2",
   "metadata": {},
   "source": [
    "## 2. Delete End point Config\n",
    "Incase if you want to delete endpoint config  and recreate it we can use below code snippet"
   ]
  },
  {
   "cell_type": "code",
   "execution_count": 7,
   "id": "f11d4c21",
   "metadata": {},
   "outputs": [],
   "source": [
    "response = client.delete_endpoint_config(\n",
    "     EndpointConfigName=endpoint_config_name\n",
    " )"
   ]
  },
  {
   "cell_type": "markdown",
   "id": "39949e83",
   "metadata": {},
   "source": [
    "**Note :** We will use able endpoint config name to cretae model endpoint"
   ]
  },
  {
   "cell_type": "markdown",
   "id": "73a3aca3",
   "metadata": {},
   "source": [
    "## 3. Delete endpoint"
   ]
  },
  {
   "cell_type": "markdown",
   "id": "b4385754",
   "metadata": {},
   "source": [
    "Incase if you want to delete endpoint  and recreate it we can use below code snippet"
   ]
  },
  {
   "cell_type": "code",
   "execution_count": 8,
   "id": "4d406f12",
   "metadata": {},
   "outputs": [
    {
     "data": {
      "text/plain": [
       "{'ResponseMetadata': {'RequestId': '5d19d7e6-ac2e-4afb-b0b8-aa30ce51e2c1',\n",
       "  'HTTPStatusCode': 200,\n",
       "  'HTTPHeaders': {'x-amzn-requestid': '5d19d7e6-ac2e-4afb-b0b8-aa30ce51e2c1',\n",
       "   'content-type': 'application/x-amz-json-1.1',\n",
       "   'content-length': '0',\n",
       "   'date': 'Fri, 03 Sep 2021 11:23:21 GMT'},\n",
       "  'RetryAttempts': 0}}"
      ]
     },
     "execution_count": 8,
     "metadata": {},
     "output_type": "execute_result"
    }
   ],
   "source": [
    "client.delete_endpoint(EndpointName=endpoint_name)"
   ]
  },
  {
   "cell_type": "markdown",
   "id": "40759ff4",
   "metadata": {},
   "source": [
    "## 4. Create Endpoint"
   ]
  },
  {
   "cell_type": "code",
   "execution_count": 9,
   "id": "9db67447",
   "metadata": {},
   "outputs": [
    {
     "name": "stdout",
     "output_type": "stream",
     "text": [
      "ds-mlops-linear-learner-endpoint-configV1\n",
      "Endpoint Config Arn: arn:aws:sagemaker:us-east-1:014257795134:endpoint-config/ds-mlops-linear-learner-endpoint-configv1\n"
     ]
    }
   ],
   "source": [
    "# Creating endpoint config\n",
    "print(endpoint_config_name)\n",
    "create_endpoint_config_response = client.create_endpoint_config(\n",
    "    EndpointConfigName=endpoint_config_name,\n",
    "    ProductionVariants=[\n",
    "        {\n",
    "            \"InstanceType\": Instance_Type,\n",
    "            \"InitialVariantWeight\": 1,\n",
    "            \"InitialInstanceCount\": 1,\n",
    "            \"ModelName\": v_model_name,\n",
    "            \"VariantName\": \"AllTraffic\",\n",
    "        }\n",
    "    ],\n",
    "    DataCaptureConfig={\n",
    "        'EnableCapture': True,\n",
    "        'InitialSamplingPercentage': 100,\n",
    "        'DestinationS3Uri': 's3://ds-mlops-s3/data/capture/',\n",
    "        'CaptureOptions': [\n",
    "            {\n",
    "                'CaptureMode': 'Input'\n",
    "            },\n",
    "             {\n",
    "                'CaptureMode': 'Output'\n",
    "            },\n",
    "        ],\n",
    "        'CaptureContentTypeHeader': {\n",
    "            'CsvContentTypes': [\n",
    "                'text/csv',\n",
    "            ],\n",
    "            'JsonContentTypes': [\n",
    "                'application/json',\n",
    "            ]\n",
    "        }        \n",
    "    }\n",
    ")\n",
    "\n",
    "print(f\"Endpoint Config Arn: {create_endpoint_config_response['EndpointConfigArn']}\")"
   ]
  },
  {
   "cell_type": "markdown",
   "id": "3bedf4a2",
   "metadata": {},
   "source": [
    "In this notebook we create endpoint using endpoint which we have created [AP: ?]"
   ]
  },
  {
   "cell_type": "code",
   "execution_count": 10,
   "id": "fc301b81",
   "metadata": {},
   "outputs": [],
   "source": [
    "# Importing required library\n",
    "import sys\n",
    "import math\n",
    "import boto3\n",
    "import sagemaker\n",
    "import time    \n",
    "\n",
    "role = sagemaker.get_execution_role()\n",
    "region = boto3.Session().region_name\n",
    "runtime_client = boto3.client(\"runtime.sagemaker\", region_name=region)\n",
    "client = boto3.client(\"sagemaker\", region_name=region)\n"
   ]
  },
  {
   "cell_type": "code",
   "execution_count": 11,
   "id": "994c6145",
   "metadata": {
    "scrolled": true
   },
   "outputs": [
    {
     "name": "stdout",
     "output_type": "stream",
     "text": [
      "endpoint-269d39e2f78611eb95f8028939f4d999\n",
      "arn:aws:sagemaker:us-east-1:014257795134:endpoint/endpoint-269d39e2f78611eb95f8028939f4d999\n",
      "Status: Creating\n",
      "Status: Creating\n",
      "Status: Creating\n",
      "Status: Creating\n",
      "Status: Creating\n",
      "Status: Creating\n",
      "Status: Creating\n",
      "Status: Creating\n",
      "Arn: arn:aws:sagemaker:us-east-1:014257795134:endpoint/endpoint-269d39e2f78611eb95f8028939f4d999\n",
      "Status: InService\n"
     ]
    }
   ],
   "source": [
    "# Creating model endpoint\n",
    "print(endpoint_name)\n",
    "create_endpoint_response = client.create_endpoint(\n",
    "    EndpointName=endpoint_name, EndpointConfigName=endpoint_config_name\n",
    ")\n",
    "print(create_endpoint_response[\"EndpointArn\"])\n",
    "\n",
    "resp = client.describe_endpoint(EndpointName=endpoint_name)\n",
    "status = resp[\"EndpointStatus\"]\n",
    "while status == \"Creating\":\n",
    "    print(f\"Status: {status}\")\n",
    "    time.sleep(60)\n",
    "    resp = client.describe_endpoint(EndpointName=endpoint_name)\n",
    "    status = resp[\"EndpointStatus\"]\n",
    "\n",
    "print(f\"Arn: {resp['EndpointArn']}\")\n",
    "print(f\"Status: {status}\")"
   ]
  },
  {
   "cell_type": "markdown",
   "id": "dded10ad",
   "metadata": {},
   "source": [
    "## 5. Inference\n",
    "\n",
    "In this section we will validate scoring logics. In below code snippet we are scoring with 14 predictor values and finding the result"
   ]
  },
  {
   "cell_type": "code",
   "execution_count": 12,
   "id": "3e9463c5",
   "metadata": {},
   "outputs": [
    {
     "name": "stdout",
     "output_type": "stream",
     "text": [
      "8192.1640625\n"
     ]
    }
   ],
   "source": [
    "import json\n",
    "payload={'year': 2018, 'manufacturer': 9, 'model': '147', 'condition': '2', 'cylinders': '4', 'fuel': '2', 'odometer': '2000', 'title_status': 0, 'transmission': '2', 'drive': '3', 'type': '8', 'paint_color': '6'}\n",
    "scoring_vector = [payload['year'],payload['manufacturer'],payload['model'],payload['condition'],payload['cylinders'],payload['fuel'],payload['odometer'],payload['title_status'],payload['transmission'],payload['drive'],payload['type'],payload['paint_color']]\n",
    "lrbodyvector = ([str(item) for item in scoring_vector])\n",
    "lrbody=json.dumps({\n",
    "    \"instances\":[\n",
    "    {\"features\":lrbodyvector \n",
    "    }]})\n",
    "\n",
    "client = boto3.client('sagemaker-runtime')\n",
    "response_model_linear_learner = client.invoke_endpoint(EndpointName=endpoint_name,#'wipcoe-pricing-ml-training-pipeline-lr-endpoint',\n",
    "                               ContentType='application/json',\n",
    "                               Body=lrbody)\n",
    "result_linear_learner = json.loads(str(response_model_linear_learner[\"Body\"].read().decode('utf8')))\n",
    "result_linear_learner = float(result_linear_learner[\"predictions\"][0][\"score\"])\n",
    "print(result_linear_learner)"
   ]
  },
  {
   "cell_type": "code",
   "execution_count": 13,
   "id": "7a33e21a",
   "metadata": {},
   "outputs": [
    {
     "data": {
      "text/plain": [
       "'ds-mlops-linear-learner-02'"
      ]
     },
     "execution_count": 13,
     "metadata": {},
     "output_type": "execute_result"
    }
   ],
   "source": [
    "v_model_name"
   ]
  },
  {
   "cell_type": "markdown",
   "id": "e574825c",
   "metadata": {},
   "source": [
    "**Note:** Similarly you can change the test vector and can see how endpoint is working"
   ]
  },
  {
   "cell_type": "markdown",
   "id": "e4190a26",
   "metadata": {},
   "source": [
    "## Clean-up steps\n",
    "\n",
    "https://docs.aws.amazon.com/sagemaker/latest/dg/ex1-cleanup.html"
   ]
  },
  {
   "cell_type": "code",
   "execution_count": null,
   "id": "ab61990d",
   "metadata": {},
   "outputs": [],
   "source": [
    "# Clean up end point\n",
    "# client = boto3.client(\"sagemaker\", region_name=region)\n",
    "# response=client.delete_endpoint(EndpointName=endpoint_name)"
   ]
  }
 ],
 "metadata": {
  "kernelspec": {
   "display_name": "conda_python3",
   "language": "python",
   "name": "conda_python3"
  },
  "language_info": {
   "codemirror_mode": {
    "name": "ipython",
    "version": 3
   },
   "file_extension": ".py",
   "mimetype": "text/x-python",
   "name": "python",
   "nbconvert_exporter": "python",
   "pygments_lexer": "ipython3",
   "version": "3.6.13"
  }
 },
 "nbformat": 4,
 "nbformat_minor": 5
}
