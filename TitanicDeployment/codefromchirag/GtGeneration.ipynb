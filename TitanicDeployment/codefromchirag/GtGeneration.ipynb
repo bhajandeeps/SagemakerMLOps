{
 "cells": [
  {
   "cell_type": "code",
   "execution_count": 89,
   "id": "18a1b13e",
   "metadata": {},
   "outputs": [],
   "source": [
    "v_ll_batchcsvout=\"llbatch.csv.out\"\n",
    "v_xg_batchcsvout=\"xgbatch.csv.out\"\n",
    "v_ll_realtimejsonl=\"llreal.jsonl\"\n",
    "v_xg_realtimejsonl=\"xgreal.jsonl\""
   ]
  },
  {
   "cell_type": "code",
   "execution_count": 90,
   "id": "3c75739d",
   "metadata": {},
   "outputs": [],
   "source": [
    "import pandas as pd \n",
    "import random\n",
    "def batchcsvtogtcsv(inpfile,opfilename):\n",
    "    df = pd.read_csv(inpfile, header=None)\n",
    "    df_gt = df.iloc[:,[3,17]]\n",
    "    df_gt = df_gt.rename({3: 'InfID', 17: 'GroundTruthValue'}, axis=1)\n",
    "    for i in range(len(df_gt)):\n",
    "        df_gt.iloc[i,1] = random.randint(11500,22000)\n",
    "    df_gt.to_csv(opfilename+'.csv',index = False)  "
   ]
  },
  {
   "cell_type": "code",
   "execution_count": 91,
   "id": "fa7c9fae",
   "metadata": {},
   "outputs": [],
   "source": [
    "batchcsvtogtcsv(v_ll_batchcsvout,\"batchllgt\")\n",
    "\n",
    "#same way run for xg batch"
   ]
  },
  {
   "cell_type": "code",
   "execution_count": 92,
   "id": "f704369b",
   "metadata": {},
   "outputs": [],
   "source": [
    "batchcsvtogtcsv(v_xg_batchcsvout,\"batchxggt\")\n",
    "\n"
   ]
  },
  {
   "cell_type": "code",
   "execution_count": 93,
   "id": "7382ace4",
   "metadata": {},
   "outputs": [],
   "source": [
    "#!aws s3 cp \"batchllgt.csv\" \"give s3 path here\""
   ]
  },
  {
   "cell_type": "code",
   "execution_count": 94,
   "id": "affc7986",
   "metadata": {},
   "outputs": [],
   "source": [
    "# !pip install jsonlines"
   ]
  },
  {
   "cell_type": "code",
   "execution_count": 95,
   "id": "bfac5541",
   "metadata": {},
   "outputs": [],
   "source": [
    "# real time gt generation\n",
    "import pandas as pd\n",
    "import random\n",
    "import jsonlines\n",
    "import boto3\n",
    "def realtimejsonltogtcsv(inpfile,outfilename):\n",
    "    df = pd.DataFrame(columns = ['InfID', 'GroundTruthValue'])\n",
    "    count = 0\n",
    "# #     s3rsc=boto3.resource('s3')\n",
    "#     str1=inpfile.split('//',1)[-1]\n",
    "#     print(str1)\n",
    "#     bucket=str1.split('/',1)[0]\n",
    "#     key=str1.split('/',1)[1]\n",
    "#     localfilename=\"inpjsonfile.jsnol\"\n",
    "#     s3rsc.Bucket(bucket).download_file(key,localfilename)\n",
    "    with jsonlines.open(inpfile) as f:\n",
    "        for line in f.iter():\n",
    "            df.at[count,'InfID'] = line['eventMetadata']['inferenceId']\n",
    "            df.at[count,'GroundTruthValue'] =  random.randint(11500,24000)\n",
    "            count = count+1\n",
    "           \n",
    "    df.to_csv(outfilename+'.csv',index = False) "
   ]
  },
  {
   "cell_type": "code",
   "execution_count": 96,
   "id": "d182570c",
   "metadata": {},
   "outputs": [],
   "source": [
    "realtimejsonltogtcsv(v_ll_realtimejsonl,\"realtimellgt\")\n",
    "#same way run for xg batch"
   ]
  },
  {
   "cell_type": "code",
   "execution_count": 97,
   "id": "6b06362a",
   "metadata": {},
   "outputs": [],
   "source": [
    "realtimejsonltogtcsv(v_xg_realtimejsonl,\"realtimexggt\")\n",
    "#same way run for xg batch"
   ]
  },
  {
   "cell_type": "code",
   "execution_count": 70,
   "id": "156c77c9",
   "metadata": {},
   "outputs": [],
   "source": [
    "#!aws s3 cp \"realtimellgt.csv\" \"give s3 path here\""
   ]
  },
  {
   "cell_type": "markdown",
   "id": "a665f56b",
   "metadata": {},
   "source": [
    "#### Good % Bad data"
   ]
  },
  {
   "cell_type": "code",
   "execution_count": 98,
   "id": "b13504b8",
   "metadata": {},
   "outputs": [
    {
     "data": {
      "text/plain": [
       "'/home/ec2-user/SageMaker'"
      ]
     },
     "execution_count": 98,
     "metadata": {},
     "output_type": "execute_result"
    }
   ],
   "source": [
    "pwd"
   ]
  },
  {
   "cell_type": "code",
   "execution_count": 101,
   "id": "cda7b84f",
   "metadata": {},
   "outputs": [],
   "source": [
    "import pandas as pd\n",
    "df=pd.read_csv(\"scoringdata.csv\")\n",
    "#df1=df1['cylinders'].dropna()\n",
    "df.dropna(subset=['odometer','cylinders'],inplace=True)\n",
    "# df['odometer']=df.odometer.apply(lambda x:(x+20000000.10))#bad data\n",
    "df['odometer']=df.odometer.apply(lambda x:(x+20.10))#good data\n",
    "df.to_csv(\"good_data_scoringdataupd.csv\",index=False)"
   ]
  },
  {
   "cell_type": "code",
   "execution_count": null,
   "id": "7bdb46ab",
   "metadata": {},
   "outputs": [],
   "source": []
  },
  {
   "cell_type": "code",
   "execution_count": null,
   "id": "30e7cdcf",
   "metadata": {},
   "outputs": [],
   "source": []
  }
 ],
 "metadata": {
  "kernelspec": {
   "display_name": "conda_python3",
   "language": "python",
   "name": "conda_python3"
  },
  "language_info": {
   "codemirror_mode": {
    "name": "ipython",
    "version": 3
   },
   "file_extension": ".py",
   "mimetype": "text/x-python",
   "name": "python",
   "nbconvert_exporter": "python",
   "pygments_lexer": "ipython3",
   "version": "3.6.13"
  }
 },
 "nbformat": 4,
 "nbformat_minor": 5
}
