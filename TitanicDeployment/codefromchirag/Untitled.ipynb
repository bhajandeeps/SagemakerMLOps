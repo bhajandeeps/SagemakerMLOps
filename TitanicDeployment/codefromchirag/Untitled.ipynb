{
 "cells": [
  {
   "cell_type": "code",
   "execution_count": 1,
   "id": "4bb9876a",
   "metadata": {},
   "outputs": [],
   "source": [
    "file_path= \"s3://ds-mlops-s3/data/input/inputdata.csv\""
   ]
  },
  {
   "cell_type": "code",
   "execution_count": 7,
   "id": "6b246cda",
   "metadata": {},
   "outputs": [
    {
     "name": "stdout",
     "output_type": "stream",
     "text": [
      "(26501, 26)\n",
      "(26280, 26)\n",
      "(26725, 26)\n",
      "(27197, 26)\n",
      "(106703, 26)\n"
     ]
    }
   ],
   "source": [
    "import pandas as pd\n",
    "#start = time.time()\n",
    "#read data in chunks of 1 million rows at a time\n",
    "iter_csv = pd.read_csv(file_path,iterator=True,chunksize=10000)\n",
    "df2 = pd.concat([chunk[chunk['VIN'].str.slice(start=-1)==\"2\"] for chunk in iter_csv])\n",
    "print(df2.shape)\n",
    "iter_csv = pd.read_csv(file_path,iterator=True,chunksize=10000)\n",
    "df3 = pd.concat([chunk[chunk['VIN'].str.slice(start=-1)==\"3\"] for chunk in iter_csv])\n",
    "print(df3.shape)\n",
    "iter_csv = pd.read_csv(file_path,iterator=True,chunksize=10000)\n",
    "df4 = pd.concat([chunk[chunk['VIN'].str.slice(start=-1)==\"4\"] for chunk in iter_csv])\n",
    "print(df4.shape)\n",
    "iter_csv = pd.read_csv(file_path,iterator=True,chunksize=10000)\n",
    "df5 = pd.concat([chunk[chunk['VIN'].str.slice(start=-1)==\"5\"] for chunk in iter_csv])\n",
    "print(df5.shape)\n",
    "frames=[df2,df3,df4,df5]\n",
    "final_df=pd.concat(frames)\n",
    "print(final_df.shape)"
   ]
  },
  {
   "cell_type": "code",
   "execution_count": 8,
   "id": "7bd14841",
   "metadata": {},
   "outputs": [],
   "source": [
    "final_df.drop(columns='Unnamed: 0',inplace=True)"
   ]
  },
  {
   "cell_type": "code",
   "execution_count": 9,
   "id": "1cef308f",
   "metadata": {},
   "outputs": [],
   "source": [
    "final_df.to_csv(\"vehicle_Vin_2_5.csv\")"
   ]
  },
  {
   "cell_type": "code",
   "execution_count": 10,
   "id": "df170bfb",
   "metadata": {},
   "outputs": [],
   "source": [
    "final_df['price']=final_df['price'].astype('float')"
   ]
  },
  {
   "cell_type": "code",
   "execution_count": 11,
   "id": "01a8ae29",
   "metadata": {},
   "outputs": [],
   "source": [
    "final_df.to_csv(\"vehicle_Vin_2_5.csv\")"
   ]
  },
  {
   "cell_type": "code",
   "execution_count": 2,
   "id": "a29be6ee",
   "metadata": {},
   "outputs": [
    {
     "name": "stdout",
     "output_type": "stream",
     "text": [
      "upload: ./vehicle_Vin_2_5.csv to s3://ds-mlops-s3/scenario/vehicles_2_5.csv\n"
     ]
    }
   ],
   "source": [
    "!aws s3 cp ./vehicle_Vin_2_5.csv s3://ds-mlops-s3/scenario/vehicles_2_5.csv # This is SCENARIO 1"
   ]
  },
  {
   "cell_type": "code",
   "execution_count": null,
   "id": "62716822",
   "metadata": {},
   "outputs": [],
   "source": []
  },
  {
   "cell_type": "code",
   "execution_count": 13,
   "id": "d29a116a",
   "metadata": {},
   "outputs": [
    {
     "name": "stdout",
     "output_type": "stream",
     "text": [
      "(26829, 26)\n"
     ]
    }
   ],
   "source": [
    "import pandas as pd\n",
    "#start = time.time()\n",
    "#read data in chunks of 1 million rows at a time\n",
    "#iter_csv = pd.read_csv('s3://wi-cred-datalake-dev-raw/data/input/offlease/vehicles.csv',iterator=True,chunksize=10000)\n",
    "\n",
    "iter_csv = pd.read_csv(file_path,iterator=True,chunksize=10000)\n",
    "df6 = pd.concat([chunk[chunk['VIN'].str.slice(start=-1)==\"6\"] for chunk in iter_csv])\n",
    "print(df6.shape)"
   ]
  },
  {
   "cell_type": "code",
   "execution_count": 14,
   "id": "368ebaf7",
   "metadata": {},
   "outputs": [],
   "source": [
    "df6.drop(columns='Unnamed: 0',inplace=True)"
   ]
  },
  {
   "cell_type": "code",
   "execution_count": 15,
   "id": "9dfdbad0",
   "metadata": {},
   "outputs": [],
   "source": [
    "df_2_5_6=pd.concat([final_df,df6])"
   ]
  },
  {
   "cell_type": "code",
   "execution_count": 16,
   "id": "30646548",
   "metadata": {},
   "outputs": [],
   "source": [
    "df_2_5_6.to_csv('vehicle_Vin_2_5_6.csv')"
   ]
  },
  {
   "cell_type": "code",
   "execution_count": 3,
   "id": "aa979811",
   "metadata": {},
   "outputs": [
    {
     "name": "stdout",
     "output_type": "stream",
     "text": [
      "upload: ./vehicle_Vin_2_5_6.csv to s3://ds-mlops-s3/scenario/vehicles_2_5_6.csv\n"
     ]
    }
   ],
   "source": [
    "!aws s3 cp ./vehicle_Vin_2_5_6.csv s3://ds-mlops-s3/scenario/vehicles_2_5_6.csv # This is SCENARIO 2"
   ]
  },
  {
   "cell_type": "code",
   "execution_count": null,
   "id": "3d760788",
   "metadata": {},
   "outputs": [],
   "source": []
  },
  {
   "cell_type": "code",
   "execution_count": null,
   "id": "bf27abc0",
   "metadata": {},
   "outputs": [],
   "source": []
  },
  {
   "cell_type": "code",
   "execution_count": null,
   "id": "4bf1a262",
   "metadata": {},
   "outputs": [],
   "source": []
  },
  {
   "cell_type": "code",
   "execution_count": null,
   "id": "85036cce",
   "metadata": {},
   "outputs": [],
   "source": []
  },
  {
   "cell_type": "code",
   "execution_count": null,
   "id": "19669c6d",
   "metadata": {},
   "outputs": [],
   "source": []
  },
  {
   "cell_type": "code",
   "execution_count": null,
   "id": "85c8ebf4",
   "metadata": {},
   "outputs": [],
   "source": []
  },
  {
   "cell_type": "code",
   "execution_count": null,
   "id": "f25872c8",
   "metadata": {},
   "outputs": [],
   "source": []
  }
 ],
 "metadata": {
  "kernelspec": {
   "display_name": "conda_python3",
   "language": "python",
   "name": "conda_python3"
  },
  "language_info": {
   "codemirror_mode": {
    "name": "ipython",
    "version": 3
   },
   "file_extension": ".py",
   "mimetype": "text/x-python",
   "name": "python",
   "nbconvert_exporter": "python",
   "pygments_lexer": "ipython3",
   "version": "3.6.13"
  }
 },
 "nbformat": 4,
 "nbformat_minor": 5
}
