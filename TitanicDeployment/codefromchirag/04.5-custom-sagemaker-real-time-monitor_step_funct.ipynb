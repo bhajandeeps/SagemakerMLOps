{
 "cells": [
  {
   "cell_type": "markdown",
   "id": "2c0167b7",
   "metadata": {},
   "source": [
    "## Data Capture Logics and converting to json line"
   ]
  },
  {
   "cell_type": "code",
   "execution_count": 40,
   "id": "505330b4",
   "metadata": {},
   "outputs": [],
   "source": [
    "import pandas as pd\n",
    "from stepfunctions.inputs import ExecutionInput\n"
   ]
  },
  {
   "cell_type": "code",
   "execution_count": 41,
   "id": "e497c876",
   "metadata": {},
   "outputs": [
    {
     "name": "stdout",
     "output_type": "stream",
     "text": [
      "/home/ec2-user/SageMaker/Xgboost & Linear Learner Notebooks\r\n"
     ]
    }
   ],
   "source": [
    "!pwd"
   ]
  },
  {
   "cell_type": "code",
   "execution_count": 42,
   "id": "b9ce3c36",
   "metadata": {},
   "outputs": [],
   "source": [
    "df = pd.read_csv('s3://ds-mlops-s3/data/scoreoutput/lr/2022/02/17/18/batchscoring.csv.out',header=None)\n",
    "\n",
    "# Logic for multiple files - TBD"
   ]
  },
  {
   "cell_type": "code",
   "execution_count": 43,
   "id": "f3eba47f",
   "metadata": {},
   "outputs": [],
   "source": [
    "# df = df.loc[:,['year','manufacturer','model','condition','cylinders','fuel','odometer','title_status','transmission','drive','type','paint_color']]"
   ]
  },
  {
   "cell_type": "code",
   "execution_count": 44,
   "id": "bada4631",
   "metadata": {},
   "outputs": [],
   "source": [
    "df=df[0:]"
   ]
  },
  {
   "cell_type": "code",
   "execution_count": 45,
   "id": "1922fdb9",
   "metadata": {},
   "outputs": [
    {
     "data": {
      "text/html": [
       "<div>\n",
       "<style scoped>\n",
       "    .dataframe tbody tr th:only-of-type {\n",
       "        vertical-align: middle;\n",
       "    }\n",
       "\n",
       "    .dataframe tbody tr th {\n",
       "        vertical-align: top;\n",
       "    }\n",
       "\n",
       "    .dataframe thead th {\n",
       "        text-align: right;\n",
       "    }\n",
       "</style>\n",
       "<table border=\"1\" class=\"dataframe\">\n",
       "  <thead>\n",
       "    <tr style=\"text-align: right;\">\n",
       "      <th></th>\n",
       "      <th>1</th>\n",
       "      <th>2</th>\n",
       "      <th>3</th>\n",
       "      <th>4</th>\n",
       "      <th>5</th>\n",
       "      <th>6</th>\n",
       "      <th>7</th>\n",
       "      <th>8</th>\n",
       "      <th>9</th>\n",
       "      <th>10</th>\n",
       "      <th>11</th>\n",
       "      <th>12</th>\n",
       "      <th>13</th>\n",
       "    </tr>\n",
       "  </thead>\n",
       "  <tbody>\n",
       "    <tr>\n",
       "      <th>0</th>\n",
       "      <td>2010.0</td>\n",
       "      <td>5</td>\n",
       "      <td>147</td>\n",
       "      <td>2</td>\n",
       "      <td>4</td>\n",
       "      <td>2</td>\n",
       "      <td>458</td>\n",
       "      <td>0</td>\n",
       "      <td>2</td>\n",
       "      <td>3</td>\n",
       "      <td>8</td>\n",
       "      <td>6</td>\n",
       "      <td>8648.414062</td>\n",
       "    </tr>\n",
       "    <tr>\n",
       "      <th>1</th>\n",
       "      <td>2014.0</td>\n",
       "      <td>12</td>\n",
       "      <td>442</td>\n",
       "      <td>0</td>\n",
       "      <td>1</td>\n",
       "      <td>2</td>\n",
       "      <td>687</td>\n",
       "      <td>0</td>\n",
       "      <td>0</td>\n",
       "      <td>1</td>\n",
       "      <td>10</td>\n",
       "      <td>6</td>\n",
       "      <td>9917.359375</td>\n",
       "    </tr>\n",
       "    <tr>\n",
       "      <th>2</th>\n",
       "      <td>2006.0</td>\n",
       "      <td>2</td>\n",
       "      <td>518</td>\n",
       "      <td>2</td>\n",
       "      <td>3</td>\n",
       "      <td>2</td>\n",
       "      <td>664</td>\n",
       "      <td>0</td>\n",
       "      <td>0</td>\n",
       "      <td>2</td>\n",
       "      <td>0</td>\n",
       "      <td>1</td>\n",
       "      <td>9494.859375</td>\n",
       "    </tr>\n",
       "    <tr>\n",
       "      <th>3</th>\n",
       "      <td>1974.0</td>\n",
       "      <td>5</td>\n",
       "      <td>97</td>\n",
       "      <td>2</td>\n",
       "      <td>1</td>\n",
       "      <td>2</td>\n",
       "      <td>323</td>\n",
       "      <td>0</td>\n",
       "      <td>0</td>\n",
       "      <td>3</td>\n",
       "      <td>9</td>\n",
       "      <td>1</td>\n",
       "      <td>11735.351562</td>\n",
       "    </tr>\n",
       "    <tr>\n",
       "      <th>4</th>\n",
       "      <td>2005.0</td>\n",
       "      <td>9</td>\n",
       "      <td>237</td>\n",
       "      <td>0</td>\n",
       "      <td>4</td>\n",
       "      <td>0</td>\n",
       "      <td>75</td>\n",
       "      <td>1</td>\n",
       "      <td>0</td>\n",
       "      <td>0</td>\n",
       "      <td>9</td>\n",
       "      <td>1</td>\n",
       "      <td>10555.460938</td>\n",
       "    </tr>\n",
       "    <tr>\n",
       "      <th>...</th>\n",
       "      <td>...</td>\n",
       "      <td>...</td>\n",
       "      <td>...</td>\n",
       "      <td>...</td>\n",
       "      <td>...</td>\n",
       "      <td>...</td>\n",
       "      <td>...</td>\n",
       "      <td>...</td>\n",
       "      <td>...</td>\n",
       "      <td>...</td>\n",
       "      <td>...</td>\n",
       "      <td>...</td>\n",
       "      <td>...</td>\n",
       "    </tr>\n",
       "    <tr>\n",
       "      <th>989</th>\n",
       "      <td>2015.0</td>\n",
       "      <td>31</td>\n",
       "      <td>462</td>\n",
       "      <td>4</td>\n",
       "      <td>5</td>\n",
       "      <td>2</td>\n",
       "      <td>363</td>\n",
       "      <td>0</td>\n",
       "      <td>0</td>\n",
       "      <td>2</td>\n",
       "      <td>6</td>\n",
       "      <td>6</td>\n",
       "      <td>8501.726562</td>\n",
       "    </tr>\n",
       "    <tr>\n",
       "      <th>990</th>\n",
       "      <td>1964.0</td>\n",
       "      <td>25</td>\n",
       "      <td>289</td>\n",
       "      <td>1</td>\n",
       "      <td>4</td>\n",
       "      <td>2</td>\n",
       "      <td>24</td>\n",
       "      <td>0</td>\n",
       "      <td>1</td>\n",
       "      <td>3</td>\n",
       "      <td>2</td>\n",
       "      <td>11</td>\n",
       "      <td>11253.367188</td>\n",
       "    </tr>\n",
       "    <tr>\n",
       "      <th>991</th>\n",
       "      <td>2015.0</td>\n",
       "      <td>9</td>\n",
       "      <td>215</td>\n",
       "      <td>4</td>\n",
       "      <td>5</td>\n",
       "      <td>4</td>\n",
       "      <td>565</td>\n",
       "      <td>3</td>\n",
       "      <td>0</td>\n",
       "      <td>0</td>\n",
       "      <td>9</td>\n",
       "      <td>10</td>\n",
       "      <td>8297.640625</td>\n",
       "    </tr>\n",
       "    <tr>\n",
       "      <th>992</th>\n",
       "      <td>2012.0</td>\n",
       "      <td>5</td>\n",
       "      <td>428</td>\n",
       "      <td>4</td>\n",
       "      <td>5</td>\n",
       "      <td>4</td>\n",
       "      <td>93</td>\n",
       "      <td>3</td>\n",
       "      <td>0</td>\n",
       "      <td>0</td>\n",
       "      <td>9</td>\n",
       "      <td>6</td>\n",
       "      <td>8554.226562</td>\n",
       "    </tr>\n",
       "    <tr>\n",
       "      <th>993</th>\n",
       "      <td>2015.0</td>\n",
       "      <td>5</td>\n",
       "      <td>425</td>\n",
       "      <td>4</td>\n",
       "      <td>5</td>\n",
       "      <td>4</td>\n",
       "      <td>206</td>\n",
       "      <td>3</td>\n",
       "      <td>0</td>\n",
       "      <td>0</td>\n",
       "      <td>9</td>\n",
       "      <td>6</td>\n",
       "      <td>8388.359375</td>\n",
       "    </tr>\n",
       "  </tbody>\n",
       "</table>\n",
       "<p>994 rows × 13 columns</p>\n",
       "</div>"
      ],
      "text/plain": [
       "         1   2    3   4   5   6    7   8   9   10  11  12            13\n",
       "0    2010.0   5  147   2   4   2  458   0   2   3   8   6   8648.414062\n",
       "1    2014.0  12  442   0   1   2  687   0   0   1  10   6   9917.359375\n",
       "2    2006.0   2  518   2   3   2  664   0   0   2   0   1   9494.859375\n",
       "3    1974.0   5   97   2   1   2  323   0   0   3   9   1  11735.351562\n",
       "4    2005.0   9  237   0   4   0   75   1   0   0   9   1  10555.460938\n",
       "..      ...  ..  ...  ..  ..  ..  ...  ..  ..  ..  ..  ..           ...\n",
       "989  2015.0  31  462   4   5   2  363   0   0   2   6   6   8501.726562\n",
       "990  1964.0  25  289   1   4   2   24   0   1   3   2  11  11253.367188\n",
       "991  2015.0   9  215   4   5   4  565   3   0   0   9  10   8297.640625\n",
       "992  2012.0   5  428   4   5   4   93   3   0   0   9   6   8554.226562\n",
       "993  2015.0   5  425   4   5   4  206   3   0   0   9   6   8388.359375\n",
       "\n",
       "[994 rows x 13 columns]"
      ]
     },
     "execution_count": 45,
     "metadata": {},
     "output_type": "execute_result"
    }
   ],
   "source": [
    "df.iloc[:,1:]"
   ]
  },
  {
   "cell_type": "code",
   "execution_count": 46,
   "id": "502bb113",
   "metadata": {},
   "outputs": [
    {
     "name": "stdout",
     "output_type": "stream",
     "text": [
      "\r\n",
      "The user-provided path file2 does not exist.\r\n"
     ]
    }
   ],
   "source": [
    "!aws s3 cp file2 s3://poc-vci-sagemaker/data/scoreinput/custmontdata/fil2.jsonl"
   ]
  },
  {
   "cell_type": "code",
   "execution_count": 47,
   "id": "265e4256",
   "metadata": {},
   "outputs": [
    {
     "name": "stdout",
     "output_type": "stream",
     "text": [
      "['s3://ds-mlops-s3/data/scoreoutput/lr/2022/02/17/18/batchscoring.csv.out']\n",
      "hi\n",
      "/home/ec2-user/SageMaker/VCI/outputfile\n",
      "/home/ec2-user/SageMaker/VCI/outputfile\n"
     ]
    }
   ],
   "source": [
    "#%%writefile datacapture.py\n",
    "import pandas as pd\n",
    "import json\n",
    "import glob\n",
    "#path = r'/opt/ml/processing/input' # Input path\n",
    "path='s3://ds-mlops-s3/data/scoreinput/'\n",
    "#all_files = glob.glob(path + \"/*.csv\")\n",
    "all_files=['s3://ds-mlops-s3/data/scoreoutput/lr/2022/02/17/18/batchscoring.csv.out']\n",
    "\n",
    "counter = 0\n",
    "print(all_files)\n",
    "for filename in all_files:\n",
    "    print(\"hi\")\n",
    "    df = pd.read_csv(filename,header=None)\n",
    "    df = df.sample(frac=.25)\n",
    "    df=df.iloc[:,1:]\n",
    "    # Create a multiline json\n",
    "    json_list = json.loads(df.to_json(orient = \"records\"))\n",
    "    output_path = \"/home/ec2-user/SageMaker/VCI/outputfile\"\n",
    "    print(output_path)\n",
    "    counter = counter + 1\n",
    "    data = {}\n",
    "    data[\"captureData\"]={\n",
    "            \"endpointInput\": {\n",
    "                \"observedContentType\": \"text/csv\",\n",
    "                \"mode\": \"INPUT\",\n",
    "                \"data\": \"132,25,113.2,96,269.9,107,229.1,87,7.1,7,2,0,0,0,0,0,0,0,0,0,0,0,0,0,0,0,0,0,0,0,1,0,0,0,0,0,0,0,0,0,0,0,0,0,0,0,0,0,0,0,0,0,0,0,0,0,0,0,0,0,0,0,0,1,0,1,0,0,1\",\n",
    "                \"encoding\": \"CSV\"\n",
    "            },\n",
    "            \"endpointOutput\": {\n",
    "                \"observedContentType\": \"text/csv; charset=utf-8\",\n",
    "                \"mode\": \"OUTPUT\",\n",
    "                \"data\": \"6295.23876953125\",\n",
    "                \"encoding\": \"CSV\"\n",
    "            }\n",
    "        }\n",
    "    data[\"eventMetadata\"] = {\n",
    "            \"eventId\": \"\",\n",
    "            \"inferenceTime\": \"2\"\n",
    "        }\n",
    "    data[\"eventVersion\"] = \"0\"\n",
    "    with open(output_path, 'w') as f:\n",
    "        print(output_path)\n",
    "        for item in json_list:\n",
    "            item = list(item.values())\n",
    "            inpitem = ','.join([str(elem) for elem in item[:-1]])\n",
    "            #outitem = ','.join([str(elem) for elem in item[-1]])\n",
    "            outitem=str(item[-1])\n",
    "            data[\"captureData\"][\"endpointInput\"][\"data\"] = inpitem\n",
    "            data[\"captureData\"][\"endpointOutput\"][\"data\"] =outitem\n",
    "            f.write(\"%s\\n\" % data)"
   ]
  },
  {
   "cell_type": "code",
   "execution_count": 48,
   "id": "ddc0d285",
   "metadata": {},
   "outputs": [
    {
     "name": "stdout",
     "output_type": "stream",
     "text": [
      "Completed 87.1 KiB/87.1 KiB (396.9 KiB/s) with 1 file(s) remaining\r",
      "upload: ../VCI/outputfile to s3://ds-mlops-s3/monitoring/outputfile\r\n"
     ]
    }
   ],
   "source": [
    "!aws s3 cp /home/ec2-user/SageMaker/VCI/outputfile s3://ds-mlops-s3/monitoring/"
   ]
  },
  {
   "cell_type": "code",
   "execution_count": 49,
   "id": "61e1c973",
   "metadata": {},
   "outputs": [
    {
     "name": "stdout",
     "output_type": "stream",
     "text": [
      "                           PRE reports/\r\n",
      "2021-09-02 19:53:29          0 \r\n",
      "2022-02-17 22:14:34       2386 constraints.json\r\n",
      "2022-03-17 14:22:55      89228 outputfile\r\n",
      "2022-03-16 14:30:41      89212 outputfile.jsonl\r\n",
      "2022-02-17 22:14:34     462289 statistics.json\r\n"
     ]
    }
   ],
   "source": [
    "!aws s3 ls s3://ds-mlops-s3/monitoring/"
   ]
  },
  {
   "cell_type": "code",
   "execution_count": 50,
   "id": "d7207f1f",
   "metadata": {},
   "outputs": [
    {
     "name": "stdout",
     "output_type": "stream",
     "text": [
      "/home/ec2-user/SageMaker/VCI/outputfile\n"
     ]
    }
   ],
   "source": [
    "print(output_path)"
   ]
  },
  {
   "cell_type": "markdown",
   "id": "24545013",
   "metadata": {},
   "source": [
    "### Parameter definitions"
   ]
  },
  {
   "cell_type": "code",
   "execution_count": 36,
   "id": "e6d13dca",
   "metadata": {},
   "outputs": [],
   "source": [
    "# Dynamic Job Name\n",
    "import uuid\n",
    "monitorjobname = \"Batch-model-monitor-{}\".format(\n",
    "    uuid.uuid1().hex\n",
    ")"
   ]
  },
  {
   "cell_type": "code",
   "execution_count": 37,
   "id": "a9b45180",
   "metadata": {},
   "outputs": [],
   "source": [
    "jsonpath = \"s3://ds-mlops-s3/monitoring/\"\n",
    "statspath = \"s3://ds-mlops-s3/monitoring/statistics.json\"\n",
    "constraintspath = \"s3://ds-mlops-s3/monitoring/constraints.json\"\n",
    "violationpath = \"s3://ds-mlops-s3/monitoring/reports/result/\"\n",
    "# jobname = \"$.trainingJobName\"\n",
    "#jobname = execution_input[\"MonitorJobName\"]\n",
    "jobname = monitorjobname\n"
   ]
  },
  {
   "cell_type": "markdown",
   "id": "4bd3293a",
   "metadata": {},
   "source": [
    "## Preprocessing container for stats calculation"
   ]
  },
  {
   "cell_type": "code",
   "execution_count": 38,
   "id": "179a67a8",
   "metadata": {},
   "outputs": [],
   "source": [
    "import boto3\n",
    "\n",
    "client = boto3.client('sagemaker')"
   ]
  },
  {
   "cell_type": "code",
   "execution_count": 39,
   "id": "f5ff2a58",
   "metadata": {},
   "outputs": [],
   "source": [
    "response = client.create_processing_job(\n",
    "    ProcessingInputs=[\n",
    "    {\n",
    "        'InputName': 'input_1',\n",
    "        'AppManaged': False,\n",
    "        'S3Input': {\n",
    "            'LocalPath': '/opt/ml/processing/input/endpoint/poc/AllTraffic/2022/03/10/04',\n",
    "            'S3Uri': jsonpath, # Changed\n",
    "            'S3DataDistributionType': 'FullyReplicated',\n",
    "            'S3DataType': 'S3Prefix',\n",
    "            'S3InputMode': 'File'\n",
    "        }\n",
    "    }, {\n",
    "        'InputName': 'baseline',\n",
    "        'AppManaged': False,\n",
    "        'S3Input': {\n",
    "            'LocalPath': '/opt/ml/processing/baseline/stats',\n",
    "            'S3Uri': statspath,\n",
    "            'S3DataDistributionType': 'FullyReplicated',\n",
    "            'S3DataType': 'S3Prefix',\n",
    "            'S3InputMode': 'File'\n",
    "        }\n",
    "    }, {\n",
    "        'InputName': 'constraints',\n",
    "        'AppManaged': False,\n",
    "        'S3Input': {\n",
    "            'LocalPath': '/opt/ml/processing/baseline/constraints',\n",
    "            'S3Uri': constraintspath,\n",
    "            'S3DataDistributionType': 'FullyReplicated',\n",
    "            'S3DataType': 'S3Prefix',\n",
    "            'S3InputMode': 'File'\n",
    "        }\n",
    "#     }, {\n",
    "#         'InputName': 'post_processor_script',\n",
    "#         'AppManaged': False,\n",
    "#         'S3Input': {\n",
    "#             'LocalPath': '/opt/ml/processing/code/postprocessing',\n",
    "#             'S3Uri': 's3://sagemaker-us-east-1-525102048888/sagemaker/DEMO-ModelMonitor/code/postprocessor.py',\n",
    "#             'S3DataDistributionType': 'FullyReplicated',\n",
    "#             'S3DataType': 'S3Prefix',\n",
    "#             'S3InputMode': 'File'\n",
    "#         }\n",
    "    },\n",
    "    ],\n",
    "    ProcessingOutputConfig={\n",
    "        'Outputs': [\n",
    "           {\n",
    "            'OutputName': 'result',\n",
    "            'AppManaged': False,\n",
    "            'S3Output': {\n",
    "                'LocalPath': '/opt/ml/processing/output',\n",
    "                'S3Uri': violationpath,\n",
    "                'S3UploadMode': 'Continuous'\n",
    "            },\n",
    "        }\n",
    "        ],\n",
    "    },\n",
    "    ProcessingJobName=jobname,\n",
    "    ProcessingResources={\n",
    "        'ClusterConfig': {\n",
    "            'InstanceCount': 1,\n",
    "            'InstanceType': 'ml.m5.xlarge',\n",
    "            'VolumeSizeInGB': 100\n",
    "        }\n",
    "    },\n",
    "    StoppingCondition={\n",
    "        'MaxRuntimeInSeconds': 3600\n",
    "    },\n",
    "    AppSpecification={\n",
    "        'ImageUri': '156813124566.dkr.ecr.us-east-1.amazonaws.com/sagemaker-model-monitor-analyzer'\n",
    "    },\n",
    "    Environment={\n",
    "        'baseline_constraints': '/opt/ml/processing/baseline/constraints/constraints.json',\n",
    "        'baseline_statistics': '/opt/ml/processing/baseline/stats/statistics.json',\n",
    "        'dataset_format': '{\"sagemakerCaptureJson\":{\"captureIndexNames\":[\"endpointInput\",\"endpointOutput\"]}}',\n",
    "        'dataset_source': '/opt/ml/processing/input/endpoint',\n",
    "        'end_time': '2022-03-10T05:00:00Z',\n",
    "        'metric_time': '2022-02-14T04:00:00Z',\n",
    "        'output_path': '/opt/ml/processing/output',\n",
    "#         'post_analytics_processor_script': '/opt/ml/processing/code/postprocessing/postprocessor.py',\n",
    "        'publish_cloudwatch_metrics': 'Disabled',\n",
    "        'sagemaker_endpoint_name': 'poc',\n",
    "        'sagemaker_monitoring_schedule_name': 'poc',\n",
    "        'start_time': '2022-03-07T04:00:00Z'\n",
    "    },\n",
    "    RoleArn='arn:aws:iam::014257795134:role/service-role/AmazonSageMaker-ExecutionRole-20210202T172781'\n",
    "\n",
    ")"
   ]
  },
  {
   "cell_type": "code",
   "execution_count": null,
   "id": "ed82653a",
   "metadata": {},
   "outputs": [],
   "source": [
    "# sec_groups = [\"sg-01d629a900f9b4d92\"]\n",
    "# subnets = [\"subnet-07bd1dfe6aee76227\",\n",
    "#            \"subnet-076950ecc89d4340b\",\n",
    "#            \"subnet-0c5a462cb45a14bab\"] \n",
    "\n",
    "# v_preprocessing_iam_role = \"arn:aws:iam::014257795134:role/ds-mlops-sagemaker-role\" # IAM role for preprocessing container\n"
   ]
  },
  {
   "cell_type": "code",
   "execution_count": null,
   "id": "23700845",
   "metadata": {},
   "outputs": [],
   "source": []
  }
 ],
 "metadata": {
  "kernelspec": {
   "display_name": "conda_python3",
   "language": "python",
   "name": "conda_python3"
  },
  "language_info": {
   "codemirror_mode": {
    "name": "ipython",
    "version": 3
   },
   "file_extension": ".py",
   "mimetype": "text/x-python",
   "name": "python",
   "nbconvert_exporter": "python",
   "pygments_lexer": "ipython3",
   "version": "3.6.13"
  }
 },
 "nbformat": 4,
 "nbformat_minor": 5
}
