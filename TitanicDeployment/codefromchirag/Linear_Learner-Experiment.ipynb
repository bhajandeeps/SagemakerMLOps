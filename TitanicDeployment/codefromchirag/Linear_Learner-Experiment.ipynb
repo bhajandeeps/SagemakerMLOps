{
 "cells": [
  {
   "cell_type": "markdown",
   "id": "a0ee710c",
   "metadata": {},
   "source": [
    "# 1. Preprocess data set and performing EDA"
   ]
  },
  {
   "cell_type": "markdown",
   "id": "9cdc46b0",
   "metadata": {},
   "source": [
    "In this section we have described how we will preprocess data set by reading files from S3\n",
    "- Input: S3 files in csv format \n",
    "- Output: Preprocess data which can be used for model training "
   ]
  },
  {
   "cell_type": "code",
   "execution_count": 1,
   "id": "e2e7ab7a",
   "metadata": {},
   "outputs": [],
   "source": [
    "# Importing required library\n",
    "import pandas as pd\n",
    "import numpy as np\n",
    "import matplotlib.pyplot as plt\n",
    "import seaborn as sns\n",
    "import boto3\n",
    "\n",
    "s3 = boto3.client('s3')\n"
   ]
  },
  {
   "cell_type": "code",
   "execution_count": 2,
   "id": "ce596e79",
   "metadata": {},
   "outputs": [],
   "source": [
    "data = pd.read_csv(\"s3://ds-mlops-s3/data/input/inputdata.csv\",\n",
    "                   nrows=1000)# path of inoput %%file"
   ]
  },
  {
   "cell_type": "code",
   "execution_count": 3,
   "id": "0b1e8cec",
   "metadata": {},
   "outputs": [
    {
     "data": {
      "text/html": [
       "<div>\n",
       "<style scoped>\n",
       "    .dataframe tbody tr th:only-of-type {\n",
       "        vertical-align: middle;\n",
       "    }\n",
       "\n",
       "    .dataframe tbody tr th {\n",
       "        vertical-align: top;\n",
       "    }\n",
       "\n",
       "    .dataframe thead th {\n",
       "        text-align: right;\n",
       "    }\n",
       "</style>\n",
       "<table border=\"1\" class=\"dataframe\">\n",
       "  <thead>\n",
       "    <tr style=\"text-align: right;\">\n",
       "      <th></th>\n",
       "      <th>Unnamed: 0</th>\n",
       "      <th>id</th>\n",
       "      <th>url</th>\n",
       "      <th>region</th>\n",
       "      <th>region_url</th>\n",
       "      <th>price</th>\n",
       "      <th>year</th>\n",
       "      <th>manufacturer</th>\n",
       "      <th>model</th>\n",
       "      <th>condition</th>\n",
       "      <th>...</th>\n",
       "      <th>drive</th>\n",
       "      <th>size</th>\n",
       "      <th>type</th>\n",
       "      <th>paint_color</th>\n",
       "      <th>image_url</th>\n",
       "      <th>description</th>\n",
       "      <th>state</th>\n",
       "      <th>lat</th>\n",
       "      <th>long</th>\n",
       "      <th>posting_date</th>\n",
       "    </tr>\n",
       "  </thead>\n",
       "  <tbody>\n",
       "    <tr>\n",
       "      <th>0</th>\n",
       "      <td>0</td>\n",
       "      <td>7240372487</td>\n",
       "      <td>https://auburn.craigslist.org/ctd/d/auburn-uni...</td>\n",
       "      <td>auburn</td>\n",
       "      <td>https://auburn.craigslist.org</td>\n",
       "      <td>35990</td>\n",
       "      <td>2010.0</td>\n",
       "      <td>chevrolet</td>\n",
       "      <td>corvette grand sport</td>\n",
       "      <td>good</td>\n",
       "      <td>...</td>\n",
       "      <td>rwd</td>\n",
       "      <td>NaN</td>\n",
       "      <td>other</td>\n",
       "      <td>NaN</td>\n",
       "      <td>https://images.craigslist.org/00N0N_ipkbHVZYf4...</td>\n",
       "      <td>Carvana is the safer way to buy a car During t...</td>\n",
       "      <td>al</td>\n",
       "      <td>32.590000</td>\n",
       "      <td>-85.480000</td>\n",
       "      <td>2020-12-02T08:11:30-0600</td>\n",
       "    </tr>\n",
       "    <tr>\n",
       "      <th>1</th>\n",
       "      <td>1</td>\n",
       "      <td>7240309422</td>\n",
       "      <td>https://auburn.craigslist.org/cto/d/auburn-201...</td>\n",
       "      <td>auburn</td>\n",
       "      <td>https://auburn.craigslist.org</td>\n",
       "      <td>7500</td>\n",
       "      <td>2014.0</td>\n",
       "      <td>hyundai</td>\n",
       "      <td>sonata</td>\n",
       "      <td>excellent</td>\n",
       "      <td>...</td>\n",
       "      <td>fwd</td>\n",
       "      <td>NaN</td>\n",
       "      <td>sedan</td>\n",
       "      <td>NaN</td>\n",
       "      <td>https://images.craigslist.org/00s0s_gBHYmJ5o7y...</td>\n",
       "      <td>I'll move to another city and try to sell my c...</td>\n",
       "      <td>al</td>\n",
       "      <td>32.547500</td>\n",
       "      <td>-85.468200</td>\n",
       "      <td>2020-12-02T02:11:50-0600</td>\n",
       "    </tr>\n",
       "    <tr>\n",
       "      <th>2</th>\n",
       "      <td>2</td>\n",
       "      <td>7240224296</td>\n",
       "      <td>https://auburn.craigslist.org/cto/d/auburn-200...</td>\n",
       "      <td>auburn</td>\n",
       "      <td>https://auburn.craigslist.org</td>\n",
       "      <td>4900</td>\n",
       "      <td>2006.0</td>\n",
       "      <td>bmw</td>\n",
       "      <td>x3 3.0i</td>\n",
       "      <td>good</td>\n",
       "      <td>...</td>\n",
       "      <td>NaN</td>\n",
       "      <td>NaN</td>\n",
       "      <td>SUV</td>\n",
       "      <td>blue</td>\n",
       "      <td>https://images.craigslist.org/00B0B_5zgEGWPOrt...</td>\n",
       "      <td>Clean 2006 BMW X3 3.0I.  Beautiful and rare Bl...</td>\n",
       "      <td>al</td>\n",
       "      <td>32.616807</td>\n",
       "      <td>-85.464149</td>\n",
       "      <td>2020-12-01T19:50:41-0600</td>\n",
       "    </tr>\n",
       "    <tr>\n",
       "      <th>3</th>\n",
       "      <td>3</td>\n",
       "      <td>7240103965</td>\n",
       "      <td>https://auburn.craigslist.org/cto/d/lanett-tru...</td>\n",
       "      <td>auburn</td>\n",
       "      <td>https://auburn.craigslist.org</td>\n",
       "      <td>2000</td>\n",
       "      <td>1974.0</td>\n",
       "      <td>chevrolet</td>\n",
       "      <td>c-10</td>\n",
       "      <td>good</td>\n",
       "      <td>...</td>\n",
       "      <td>rwd</td>\n",
       "      <td>full-size</td>\n",
       "      <td>pickup</td>\n",
       "      <td>blue</td>\n",
       "      <td>https://images.craigslist.org/00M0M_6o7KcDpArw...</td>\n",
       "      <td>1974 chev. truck (LONG BED) NEW starter front ...</td>\n",
       "      <td>al</td>\n",
       "      <td>32.861600</td>\n",
       "      <td>-85.216100</td>\n",
       "      <td>2020-12-01T15:54:45-0600</td>\n",
       "    </tr>\n",
       "    <tr>\n",
       "      <th>4</th>\n",
       "      <td>4</td>\n",
       "      <td>7239983776</td>\n",
       "      <td>https://auburn.craigslist.org/cto/d/auburn-200...</td>\n",
       "      <td>auburn</td>\n",
       "      <td>https://auburn.craigslist.org</td>\n",
       "      <td>19500</td>\n",
       "      <td>2005.0</td>\n",
       "      <td>ford</td>\n",
       "      <td>f350 lariat</td>\n",
       "      <td>excellent</td>\n",
       "      <td>...</td>\n",
       "      <td>4wd</td>\n",
       "      <td>full-size</td>\n",
       "      <td>pickup</td>\n",
       "      <td>blue</td>\n",
       "      <td>https://images.craigslist.org/00p0p_b95l1EgUfl...</td>\n",
       "      <td>2005 Ford F350 Lariat (Bullet Proofed). This t...</td>\n",
       "      <td>al</td>\n",
       "      <td>32.547500</td>\n",
       "      <td>-85.468200</td>\n",
       "      <td>2020-12-01T12:53:56-0600</td>\n",
       "    </tr>\n",
       "  </tbody>\n",
       "</table>\n",
       "<p>5 rows × 26 columns</p>\n",
       "</div>"
      ],
      "text/plain": [
       "   Unnamed: 0          id                                                url  \\\n",
       "0           0  7240372487  https://auburn.craigslist.org/ctd/d/auburn-uni...   \n",
       "1           1  7240309422  https://auburn.craigslist.org/cto/d/auburn-201...   \n",
       "2           2  7240224296  https://auburn.craigslist.org/cto/d/auburn-200...   \n",
       "3           3  7240103965  https://auburn.craigslist.org/cto/d/lanett-tru...   \n",
       "4           4  7239983776  https://auburn.craigslist.org/cto/d/auburn-200...   \n",
       "\n",
       "   region                     region_url  price    year manufacturer  \\\n",
       "0  auburn  https://auburn.craigslist.org  35990  2010.0    chevrolet   \n",
       "1  auburn  https://auburn.craigslist.org   7500  2014.0      hyundai   \n",
       "2  auburn  https://auburn.craigslist.org   4900  2006.0          bmw   \n",
       "3  auburn  https://auburn.craigslist.org   2000  1974.0    chevrolet   \n",
       "4  auburn  https://auburn.craigslist.org  19500  2005.0         ford   \n",
       "\n",
       "                  model  condition  ... drive       size    type paint_color  \\\n",
       "0  corvette grand sport       good  ...   rwd        NaN   other         NaN   \n",
       "1                sonata  excellent  ...   fwd        NaN   sedan         NaN   \n",
       "2               x3 3.0i       good  ...   NaN        NaN     SUV        blue   \n",
       "3                  c-10       good  ...   rwd  full-size  pickup        blue   \n",
       "4           f350 lariat  excellent  ...   4wd  full-size  pickup        blue   \n",
       "\n",
       "                                           image_url  \\\n",
       "0  https://images.craigslist.org/00N0N_ipkbHVZYf4...   \n",
       "1  https://images.craigslist.org/00s0s_gBHYmJ5o7y...   \n",
       "2  https://images.craigslist.org/00B0B_5zgEGWPOrt...   \n",
       "3  https://images.craigslist.org/00M0M_6o7KcDpArw...   \n",
       "4  https://images.craigslist.org/00p0p_b95l1EgUfl...   \n",
       "\n",
       "                                         description state        lat  \\\n",
       "0  Carvana is the safer way to buy a car During t...    al  32.590000   \n",
       "1  I'll move to another city and try to sell my c...    al  32.547500   \n",
       "2  Clean 2006 BMW X3 3.0I.  Beautiful and rare Bl...    al  32.616807   \n",
       "3  1974 chev. truck (LONG BED) NEW starter front ...    al  32.861600   \n",
       "4  2005 Ford F350 Lariat (Bullet Proofed). This t...    al  32.547500   \n",
       "\n",
       "        long              posting_date  \n",
       "0 -85.480000  2020-12-02T08:11:30-0600  \n",
       "1 -85.468200  2020-12-02T02:11:50-0600  \n",
       "2 -85.464149  2020-12-01T19:50:41-0600  \n",
       "3 -85.216100  2020-12-01T15:54:45-0600  \n",
       "4 -85.468200  2020-12-01T12:53:56-0600  \n",
       "\n",
       "[5 rows x 26 columns]"
      ]
     },
     "execution_count": 3,
     "metadata": {},
     "output_type": "execute_result"
    }
   ],
   "source": [
    "df = data.copy()\n",
    "df.head()"
   ]
  },
  {
   "cell_type": "markdown",
   "id": "0a517005",
   "metadata": {},
   "source": [
    "describing dataset which we have got"
   ]
  },
  {
   "cell_type": "code",
   "execution_count": 4,
   "id": "c77edeb2",
   "metadata": {},
   "outputs": [
    {
     "data": {
      "text/html": [
       "<div>\n",
       "<style scoped>\n",
       "    .dataframe tbody tr th:only-of-type {\n",
       "        vertical-align: middle;\n",
       "    }\n",
       "\n",
       "    .dataframe tbody tr th {\n",
       "        vertical-align: top;\n",
       "    }\n",
       "\n",
       "    .dataframe thead th {\n",
       "        text-align: right;\n",
       "    }\n",
       "</style>\n",
       "<table border=\"1\" class=\"dataframe\">\n",
       "  <thead>\n",
       "    <tr style=\"text-align: right;\">\n",
       "      <th></th>\n",
       "      <th>Unnamed: 0</th>\n",
       "      <th>id</th>\n",
       "      <th>price</th>\n",
       "      <th>year</th>\n",
       "      <th>odometer</th>\n",
       "      <th>lat</th>\n",
       "      <th>long</th>\n",
       "    </tr>\n",
       "  </thead>\n",
       "  <tbody>\n",
       "    <tr>\n",
       "      <th>count</th>\n",
       "      <td>1000.000000</td>\n",
       "      <td>1.000000e+03</td>\n",
       "      <td>1000.000000</td>\n",
       "      <td>994.000000</td>\n",
       "      <td>817.000000</td>\n",
       "      <td>993.000000</td>\n",
       "      <td>993.000000</td>\n",
       "    </tr>\n",
       "    <tr>\n",
       "      <th>mean</th>\n",
       "      <td>499.500000</td>\n",
       "      <td>7.236772e+09</td>\n",
       "      <td>16201.739000</td>\n",
       "      <td>2010.430584</td>\n",
       "      <td>104638.927785</td>\n",
       "      <td>34.104696</td>\n",
       "      <td>-87.182323</td>\n",
       "    </tr>\n",
       "    <tr>\n",
       "      <th>std</th>\n",
       "      <td>288.819436</td>\n",
       "      <td>2.705563e+06</td>\n",
       "      <td>13540.117434</td>\n",
       "      <td>7.223640</td>\n",
       "      <td>74516.810004</td>\n",
       "      <td>2.636793</td>\n",
       "      <td>7.701643</td>\n",
       "    </tr>\n",
       "    <tr>\n",
       "      <th>min</th>\n",
       "      <td>0.000000</td>\n",
       "      <td>7.224722e+09</td>\n",
       "      <td>0.000000</td>\n",
       "      <td>1955.000000</td>\n",
       "      <td>0.000000</td>\n",
       "      <td>1.241841</td>\n",
       "      <td>-122.509472</td>\n",
       "    </tr>\n",
       "    <tr>\n",
       "      <th>25%</th>\n",
       "      <td>249.750000</td>\n",
       "      <td>7.235471e+09</td>\n",
       "      <td>5575.000000</td>\n",
       "      <td>2007.000000</td>\n",
       "      <td>49245.000000</td>\n",
       "      <td>33.209824</td>\n",
       "      <td>-86.834600</td>\n",
       "    </tr>\n",
       "    <tr>\n",
       "      <th>50%</th>\n",
       "      <td>499.500000</td>\n",
       "      <td>7.236935e+09</td>\n",
       "      <td>12875.000000</td>\n",
       "      <td>2012.000000</td>\n",
       "      <td>98977.000000</td>\n",
       "      <td>33.520000</td>\n",
       "      <td>-86.783066</td>\n",
       "    </tr>\n",
       "    <tr>\n",
       "      <th>75%</th>\n",
       "      <td>749.250000</td>\n",
       "      <td>7.238693e+09</td>\n",
       "      <td>23996.250000</td>\n",
       "      <td>2015.000000</td>\n",
       "      <td>150000.000000</td>\n",
       "      <td>34.586557</td>\n",
       "      <td>-85.480000</td>\n",
       "    </tr>\n",
       "    <tr>\n",
       "      <th>max</th>\n",
       "      <td>999.000000</td>\n",
       "      <td>7.240596e+09</td>\n",
       "      <td>130000.000000</td>\n",
       "      <td>2020.000000</td>\n",
       "      <td>1000000.000000</td>\n",
       "      <td>47.313584</td>\n",
       "      <td>-74.281734</td>\n",
       "    </tr>\n",
       "  </tbody>\n",
       "</table>\n",
       "</div>"
      ],
      "text/plain": [
       "        Unnamed: 0            id          price         year        odometer  \\\n",
       "count  1000.000000  1.000000e+03    1000.000000   994.000000      817.000000   \n",
       "mean    499.500000  7.236772e+09   16201.739000  2010.430584   104638.927785   \n",
       "std     288.819436  2.705563e+06   13540.117434     7.223640    74516.810004   \n",
       "min       0.000000  7.224722e+09       0.000000  1955.000000        0.000000   \n",
       "25%     249.750000  7.235471e+09    5575.000000  2007.000000    49245.000000   \n",
       "50%     499.500000  7.236935e+09   12875.000000  2012.000000    98977.000000   \n",
       "75%     749.250000  7.238693e+09   23996.250000  2015.000000   150000.000000   \n",
       "max     999.000000  7.240596e+09  130000.000000  2020.000000  1000000.000000   \n",
       "\n",
       "              lat        long  \n",
       "count  993.000000  993.000000  \n",
       "mean    34.104696  -87.182323  \n",
       "std      2.636793    7.701643  \n",
       "min      1.241841 -122.509472  \n",
       "25%     33.209824  -86.834600  \n",
       "50%     33.520000  -86.783066  \n",
       "75%     34.586557  -85.480000  \n",
       "max     47.313584  -74.281734  "
      ]
     },
     "execution_count": 4,
     "metadata": {},
     "output_type": "execute_result"
    }
   ],
   "source": [
    "df.describe()"
   ]
  },
  {
   "cell_type": "markdown",
   "id": "961d3545",
   "metadata": {},
   "source": [
    "Removing unnessary columns"
   ]
  },
  {
   "cell_type": "code",
   "execution_count": 5,
   "id": "a8189658",
   "metadata": {},
   "outputs": [],
   "source": [
    "df.drop(columns=['Unnamed: 0', 'id', 'url', 'region', 'region_url', 'VIN', 'size', 'image_url', 'description', 'state', 'lat', 'long','posting_date'], inplace=True)"
   ]
  },
  {
   "cell_type": "markdown",
   "id": "72c4dab9",
   "metadata": {},
   "source": [
    "Imputing data for missing values"
   ]
  },
  {
   "cell_type": "code",
   "execution_count": 6,
   "id": "0a979f73",
   "metadata": {},
   "outputs": [
    {
     "data": {
      "text/plain": [
       "0     32742.0\n",
       "1     93600.0\n",
       "2     87046.0\n",
       "3    190000.0\n",
       "4    116000.0\n",
       "Name: odometer, dtype: float64"
      ]
     },
     "execution_count": 6,
     "metadata": {},
     "output_type": "execute_result"
    }
   ],
   "source": [
    "from sklearn.impute import SimpleImputer\n",
    "\n",
    "imr = SimpleImputer(strategy='mean')\n",
    "imr = imr.fit(df[['odometer']])\n",
    "imputed_data = imr.transform(df[['odometer']])\n",
    "df['odometer'] = pd.DataFrame(imputed_data)\n",
    "df['odometer'].head()"
   ]
  },
  {
   "cell_type": "code",
   "execution_count": 7,
   "id": "27d81d73",
   "metadata": {},
   "outputs": [
    {
     "data": {
      "text/plain": [
       "<bound method IndexOpsMixin.value_counts of 0      35990\n",
       "1       7500\n",
       "2       4900\n",
       "3       2000\n",
       "4      19500\n",
       "       ...  \n",
       "995     9400\n",
       "996    15000\n",
       "997        0\n",
       "998    19995\n",
       "999    25995\n",
       "Name: price, Length: 1000, dtype: int64>"
      ]
     },
     "execution_count": 7,
     "metadata": {},
     "output_type": "execute_result"
    }
   ],
   "source": [
    "df['price'].value_counts"
   ]
  },
  {
   "cell_type": "code",
   "execution_count": 8,
   "id": "05b5aa53",
   "metadata": {},
   "outputs": [
    {
     "data": {
      "text/html": [
       "<div>\n",
       "<style scoped>\n",
       "    .dataframe tbody tr th:only-of-type {\n",
       "        vertical-align: middle;\n",
       "    }\n",
       "\n",
       "    .dataframe tbody tr th {\n",
       "        vertical-align: top;\n",
       "    }\n",
       "\n",
       "    .dataframe thead th {\n",
       "        text-align: right;\n",
       "    }\n",
       "</style>\n",
       "<table border=\"1\" class=\"dataframe\">\n",
       "  <thead>\n",
       "    <tr style=\"text-align: right;\">\n",
       "      <th></th>\n",
       "      <th>price</th>\n",
       "      <th>year</th>\n",
       "      <th>manufacturer</th>\n",
       "      <th>model</th>\n",
       "      <th>condition</th>\n",
       "      <th>cylinders</th>\n",
       "      <th>fuel</th>\n",
       "      <th>odometer</th>\n",
       "      <th>title_status</th>\n",
       "      <th>transmission</th>\n",
       "      <th>drive</th>\n",
       "      <th>type</th>\n",
       "      <th>paint_color</th>\n",
       "    </tr>\n",
       "  </thead>\n",
       "  <tbody>\n",
       "    <tr>\n",
       "      <th>0</th>\n",
       "      <td>35990</td>\n",
       "      <td>2010.0</td>\n",
       "      <td>5</td>\n",
       "      <td>147</td>\n",
       "      <td>2</td>\n",
       "      <td>4</td>\n",
       "      <td>2</td>\n",
       "      <td>32742.0</td>\n",
       "      <td>0</td>\n",
       "      <td>2</td>\n",
       "      <td>2</td>\n",
       "      <td>7</td>\n",
       "      <td>11</td>\n",
       "    </tr>\n",
       "    <tr>\n",
       "      <th>1</th>\n",
       "      <td>7500</td>\n",
       "      <td>2014.0</td>\n",
       "      <td>12</td>\n",
       "      <td>441</td>\n",
       "      <td>0</td>\n",
       "      <td>1</td>\n",
       "      <td>2</td>\n",
       "      <td>93600.0</td>\n",
       "      <td>0</td>\n",
       "      <td>0</td>\n",
       "      <td>1</td>\n",
       "      <td>9</td>\n",
       "      <td>11</td>\n",
       "    </tr>\n",
       "    <tr>\n",
       "      <th>2</th>\n",
       "      <td>4900</td>\n",
       "      <td>2006.0</td>\n",
       "      <td>2</td>\n",
       "      <td>517</td>\n",
       "      <td>2</td>\n",
       "      <td>3</td>\n",
       "      <td>2</td>\n",
       "      <td>87046.0</td>\n",
       "      <td>0</td>\n",
       "      <td>0</td>\n",
       "      <td>3</td>\n",
       "      <td>0</td>\n",
       "      <td>1</td>\n",
       "    </tr>\n",
       "    <tr>\n",
       "      <th>3</th>\n",
       "      <td>2000</td>\n",
       "      <td>1974.0</td>\n",
       "      <td>5</td>\n",
       "      <td>97</td>\n",
       "      <td>2</td>\n",
       "      <td>1</td>\n",
       "      <td>2</td>\n",
       "      <td>190000.0</td>\n",
       "      <td>0</td>\n",
       "      <td>0</td>\n",
       "      <td>2</td>\n",
       "      <td>8</td>\n",
       "      <td>1</td>\n",
       "    </tr>\n",
       "    <tr>\n",
       "      <th>4</th>\n",
       "      <td>19500</td>\n",
       "      <td>2005.0</td>\n",
       "      <td>9</td>\n",
       "      <td>237</td>\n",
       "      <td>0</td>\n",
       "      <td>4</td>\n",
       "      <td>0</td>\n",
       "      <td>116000.0</td>\n",
       "      <td>1</td>\n",
       "      <td>0</td>\n",
       "      <td>0</td>\n",
       "      <td>8</td>\n",
       "      <td>1</td>\n",
       "    </tr>\n",
       "  </tbody>\n",
       "</table>\n",
       "</div>"
      ],
      "text/plain": [
       "   price    year  manufacturer  model  condition  cylinders  fuel  odometer  \\\n",
       "0  35990  2010.0             5    147          2          4     2   32742.0   \n",
       "1   7500  2014.0            12    441          0          1     2   93600.0   \n",
       "2   4900  2006.0             2    517          2          3     2   87046.0   \n",
       "3   2000  1974.0             5     97          2          1     2  190000.0   \n",
       "4  19500  2005.0             9    237          0          4     0  116000.0   \n",
       "\n",
       "   title_status  transmission  drive  type  paint_color  \n",
       "0             0             2      2     7           11  \n",
       "1             0             0      1     9           11  \n",
       "2             0             0      3     0            1  \n",
       "3             0             0      2     8            1  \n",
       "4             1             0      0     8            1  "
      ]
     },
     "execution_count": 8,
     "metadata": {},
     "output_type": "execute_result"
    }
   ],
   "source": [
    "from sklearn import preprocessing\n",
    "\n",
    "def encode_features(dataframe):\n",
    "    result = dataframe.copy()\n",
    "    encoders = {}\n",
    "    for column in result.columns:\n",
    "        if column=='year':\n",
    "            result[column]=result[column]\n",
    "            result[column].fillna(2018)\n",
    "        elif result.dtypes[column] == np.object:\n",
    "            encoders[column] = preprocessing.LabelEncoder()\n",
    "            result[column] = encoders[column].fit_transform(result[column])\n",
    "    return result, encoders\n",
    "\n",
    "encoded_df, encoders = encode_features(df) \n",
    "encoded_df=encoded_df[encoded_df['year']!='nan']\n",
    "encoded_df.head()"
   ]
  },
  {
   "cell_type": "code",
   "execution_count": 9,
   "id": "329f570a",
   "metadata": {},
   "outputs": [
    {
     "name": "stdout",
     "output_type": "stream",
     "text": [
      "Features' hists plotted\n"
     ]
    },
    {
     "data": {
      "image/png": "[encoded data removed]",
      "text/plain": [
       "<Figure size 1296x576 with 15 Axes>"
      ]
     },
     "metadata": {
      "needs_background": "light"
     },
     "output_type": "display_data"
    }
   ],
   "source": [
    "encoded_df.hist(figsize=(18, 8), layout=(3,5), bins=20)\n",
    "print('Features\\' hists plotted')"
   ]
  },
  {
   "cell_type": "code",
   "execution_count": 10,
   "id": "6e82dd0c",
   "metadata": {},
   "outputs": [
    {
     "data": {
      "image/png": "[encoded data removed]",
      "text/plain": [
       "<Figure size 1224x1080 with 2 Axes>"
      ]
     },
     "metadata": {
      "needs_background": "light"
     },
     "output_type": "display_data"
    }
   ],
   "source": [
    "plt.subplots(figsize=(17, 15))\n",
    "sns.heatmap(encoded_df.corr(), square = True, annot=True)\n",
    "plt.show()"
   ]
  },
  {
   "cell_type": "code",
   "execution_count": 11,
   "id": "dfb71ce7",
   "metadata": {},
   "outputs": [
    {
     "data": {
      "text/html": [
       "<div>\n",
       "<style scoped>\n",
       "    .dataframe tbody tr th:only-of-type {\n",
       "        vertical-align: middle;\n",
       "    }\n",
       "\n",
       "    .dataframe tbody tr th {\n",
       "        vertical-align: top;\n",
       "    }\n",
       "\n",
       "    .dataframe thead th {\n",
       "        text-align: right;\n",
       "    }\n",
       "</style>\n",
       "<table border=\"1\" class=\"dataframe\">\n",
       "  <thead>\n",
       "    <tr style=\"text-align: right;\">\n",
       "      <th></th>\n",
       "      <th>price</th>\n",
       "      <th>year</th>\n",
       "      <th>manufacturer</th>\n",
       "      <th>model</th>\n",
       "      <th>condition</th>\n",
       "      <th>cylinders</th>\n",
       "      <th>fuel</th>\n",
       "      <th>odometer</th>\n",
       "      <th>title_status</th>\n",
       "      <th>transmission</th>\n",
       "      <th>drive</th>\n",
       "      <th>type</th>\n",
       "      <th>paint_color</th>\n",
       "    </tr>\n",
       "  </thead>\n",
       "  <tbody>\n",
       "    <tr>\n",
       "      <th>0</th>\n",
       "      <td>35990</td>\n",
       "      <td>2010.0</td>\n",
       "      <td>5</td>\n",
       "      <td>147</td>\n",
       "      <td>2</td>\n",
       "      <td>4</td>\n",
       "      <td>2</td>\n",
       "      <td>32742.0</td>\n",
       "      <td>0</td>\n",
       "      <td>2</td>\n",
       "      <td>2</td>\n",
       "      <td>7</td>\n",
       "      <td>11</td>\n",
       "    </tr>\n",
       "    <tr>\n",
       "      <th>1</th>\n",
       "      <td>7500</td>\n",
       "      <td>2014.0</td>\n",
       "      <td>12</td>\n",
       "      <td>441</td>\n",
       "      <td>0</td>\n",
       "      <td>1</td>\n",
       "      <td>2</td>\n",
       "      <td>93600.0</td>\n",
       "      <td>0</td>\n",
       "      <td>0</td>\n",
       "      <td>1</td>\n",
       "      <td>9</td>\n",
       "      <td>11</td>\n",
       "    </tr>\n",
       "    <tr>\n",
       "      <th>2</th>\n",
       "      <td>4900</td>\n",
       "      <td>2006.0</td>\n",
       "      <td>2</td>\n",
       "      <td>517</td>\n",
       "      <td>2</td>\n",
       "      <td>3</td>\n",
       "      <td>2</td>\n",
       "      <td>87046.0</td>\n",
       "      <td>0</td>\n",
       "      <td>0</td>\n",
       "      <td>3</td>\n",
       "      <td>0</td>\n",
       "      <td>1</td>\n",
       "    </tr>\n",
       "    <tr>\n",
       "      <th>3</th>\n",
       "      <td>2000</td>\n",
       "      <td>1974.0</td>\n",
       "      <td>5</td>\n",
       "      <td>97</td>\n",
       "      <td>2</td>\n",
       "      <td>1</td>\n",
       "      <td>2</td>\n",
       "      <td>190000.0</td>\n",
       "      <td>0</td>\n",
       "      <td>0</td>\n",
       "      <td>2</td>\n",
       "      <td>8</td>\n",
       "      <td>1</td>\n",
       "    </tr>\n",
       "    <tr>\n",
       "      <th>4</th>\n",
       "      <td>19500</td>\n",
       "      <td>2005.0</td>\n",
       "      <td>9</td>\n",
       "      <td>237</td>\n",
       "      <td>0</td>\n",
       "      <td>4</td>\n",
       "      <td>0</td>\n",
       "      <td>116000.0</td>\n",
       "      <td>1</td>\n",
       "      <td>0</td>\n",
       "      <td>0</td>\n",
       "      <td>8</td>\n",
       "      <td>1</td>\n",
       "    </tr>\n",
       "  </tbody>\n",
       "</table>\n",
       "</div>"
      ],
      "text/plain": [
       "   price    year  manufacturer  model  condition  cylinders  fuel  odometer  \\\n",
       "0  35990  2010.0             5    147          2          4     2   32742.0   \n",
       "1   7500  2014.0            12    441          0          1     2   93600.0   \n",
       "2   4900  2006.0             2    517          2          3     2   87046.0   \n",
       "3   2000  1974.0             5     97          2          1     2  190000.0   \n",
       "4  19500  2005.0             9    237          0          4     0  116000.0   \n",
       "\n",
       "   title_status  transmission  drive  type  paint_color  \n",
       "0             0             2      2     7           11  \n",
       "1             0             0      1     9           11  \n",
       "2             0             0      3     0            1  \n",
       "3             0             0      2     8            1  \n",
       "4             1             0      0     8            1  "
      ]
     },
     "execution_count": 11,
     "metadata": {},
     "output_type": "execute_result"
    }
   ],
   "source": [
    "encoded_df.head()"
   ]
  },
  {
   "cell_type": "code",
   "execution_count": 12,
   "id": "c817461e",
   "metadata": {},
   "outputs": [],
   "source": [
    "# encoded_df.to_csv('encoded_df.csv', encoding='utf-8')"
   ]
  },
  {
   "cell_type": "code",
   "execution_count": 13,
   "id": "9d76e9c3",
   "metadata": {},
   "outputs": [],
   "source": [
    "encoded_df.fillna(method ='pad',inplace=True)"
   ]
  },
  {
   "cell_type": "markdown",
   "id": "a32adaf9",
   "metadata": {},
   "source": [
    "We'll then split the dataset into training (70%), validation (20%), and test (10%) datasets and convert the datasets to the right format the algorithm expects. We will use training and validation datasets during training. Test dataset will be used to evaluate model performance after it is deployed to an endpoint.\n",
    "\n",
    "Amazon SageMaker's XGBoost algorithm expects data in the libSVM or CSV data format.  For this example, we'll stick to CSV.  Note that the first column must be the target variable and the CSV should not include headers.  Also, notice that although repetitive it's easiest to do this after the train|validation|test split rather than before.  This avoids any misalignment issues due to random reordering."
   ]
  },
  {
   "cell_type": "code",
   "execution_count": 14,
   "id": "54012f72",
   "metadata": {},
   "outputs": [],
   "source": [
    "train_data, validation_data, test_data = np.split(encoded_df.sample(frac=1, random_state=1729), [int(0.7 * len(encoded_df)), int(0.9*len(encoded_df))])  "
   ]
  },
  {
   "cell_type": "code",
   "execution_count": 15,
   "id": "f49116e7",
   "metadata": {},
   "outputs": [
    {
     "data": {
      "text/plain": [
       "(700, 13)"
      ]
     },
     "execution_count": 15,
     "metadata": {},
     "output_type": "execute_result"
    }
   ],
   "source": [
    "train_data.shape"
   ]
  },
  {
   "cell_type": "code",
   "execution_count": 16,
   "id": "0007c63d",
   "metadata": {},
   "outputs": [
    {
     "data": {
      "text/plain": [
       "(200, 13)"
      ]
     },
     "execution_count": 16,
     "metadata": {},
     "output_type": "execute_result"
    }
   ],
   "source": [
    "validation_data.shape"
   ]
  },
  {
   "cell_type": "code",
   "execution_count": 17,
   "id": "f7ae2821",
   "metadata": {},
   "outputs": [
    {
     "data": {
      "text/plain": [
       "(100, 13)"
      ]
     },
     "execution_count": 17,
     "metadata": {},
     "output_type": "execute_result"
    }
   ],
   "source": [
    "test_data.shape"
   ]
  },
  {
   "cell_type": "markdown",
   "id": "17e699bf",
   "metadata": {},
   "source": [
    "**Exporting data set to s3 bucket without header**"
   ]
  },
  {
   "cell_type": "code",
   "execution_count": 18,
   "id": "55b07d58",
   "metadata": {},
   "outputs": [],
   "source": [
    "# train_data.to_csv('s3://ds-mlops-s3/preprocess-data/vci/data/input/lrtrain/train.csv', index=False, header=False)\n",
    "# validation_data.to_csv('s3://ds-mlops-s3/preprocess-data/vci/data/input/lrvalidation/validation_data.csv', index=False, header=False)\n",
    "# test_data.to_csv('s3://ds-mlops-s3/preprocess-data/vci/data/input/lrtest/test.csv', index=False, header=False)\n",
    "\n",
    "\n",
    "train_data.to_csv('s3://ds-mlops-s3/preprocess-data/train/train.csv', index=False, header=False)\n",
    "validation_data.to_csv('s3://ds-mlops-s3/preprocess-data/validation/validation_data.csv', index=False, header=False)\n",
    "test_data.to_csv('s3://ds-mlops-s3/preprocess-data/test/test.csv', index=False, header=False)\n",
    "\n",
    "\n"
   ]
  },
  {
   "cell_type": "markdown",
   "id": "5365d506",
   "metadata": {},
   "source": [
    "## 2. Building model\n",
    "\n",
    "In this section we will decribe how we will build model with XGboost inbuilt model and here we will pass hyperparameter to train our model"
   ]
  },
  {
   "cell_type": "code",
   "execution_count": 19,
   "id": "b158dd53",
   "metadata": {},
   "outputs": [
    {
     "name": "stderr",
     "output_type": "stream",
     "text": [
      "The method get_image_uri has been renamed in sagemaker>=2.\n",
      "See: https://sagemaker.readthedocs.io/en/stable/v2.html for details.\n",
      "Defaulting to the only supported framework/algorithm version: 1. Ignoring framework/algorithm version: 1.\n"
     ]
    }
   ],
   "source": [
    "# Importing the required libraries\n",
    "import boto3\n",
    "import time\n",
    "from time import gmtime, strftime\n",
    "import sagemaker\n",
    "from sagemaker.amazon.amazon_estimator import get_image_uri\n",
    "import datetime\n",
    "from sagemaker.tuner import IntegerParameter, CategoricalParameter, ContinuousParameter, HyperparameterTuner\n",
    "from sagemaker.inputs import TrainingInput\n",
    "\n",
    "# hyper\n",
    "job_name = 'ds-mlops-linear-learner' + str(datetime.datetime.now().timestamp()).split('.')[0]\n",
    "\n",
    "# sagemaker\n",
    "role = sagemaker.get_execution_role()\n",
    "region = boto3.Session().region_name\n",
    "\n",
    "#ec2\n",
    "Instance_Type = \"ml.m5.xlarge\"\n",
    "VolumeSizeIn_GB = 1\n",
    "Instance_Count = 1\n",
    "\n",
    "#setup container\n",
    "container = get_image_uri(region, \"linear-learner\")\n",
    "\n",
    "#s3\n",
    "bucket = 'ds-mlops-s3'\n",
    "prefix = \"ds-mlops-s3/preprocess-data\"\n",
    "# \n",
    "#input\n",
    "data_bucket = bucket\n",
    "data_prefix = prefix\n",
    "data_bucket_path = f\"s3://{data_bucket}\"\n",
    "\n",
    "# S3 bucket for saving code and model artifacts.\n",
    "# output\n",
    "output_bucket = sagemaker.Session().default_bucket()\n",
    "output_prefix = 'ds-mlops-s3/output'\n",
    "output_bucket_path = f\"s3://{output_bucket}\"   \n",
    "sec_groups = [\"sg-0606c76de3d41b40a\"]\n",
    "subnets = [\"subnet-07bd1dfe6aee76227\",\n",
    "           \"subnet-076950ecc89d4340b\",\n",
    "           \"subnet-0c5a462cb45a14bab\"]"
   ]
  },
  {
   "cell_type": "markdown",
   "id": "95cbef8e",
   "metadata": {},
   "source": [
    "---\n",
    "\n",
    "## Setup_Hyperparameter_Tuning \n",
    "*Note, with the default setting below, the hyperparameter tuning job can take about 30 minutes to complete.*\n",
    "\n",
    "\n",
    "Now that we have prepared the dataset, we are ready to train models. Before we do that, one thing to note is there are algorithm settings which are called \"hyperparameters\" that can dramtically affect the performance of the trained models. For example, XGBoost algorithm has dozens of hyperparameters and we need to pick the right values for those hyperparameters in order to achieve the desired model training results. Since which hyperparameter setting can lead to the best result depends on the dataset as well, it is almost impossible to pick the best hyperparameter setting without searching for it, and a good search algorithm can search for the best hyperparameter setting in an automated and effective way.\n",
    "\n",
    "We will use SageMaker hyperparameter tuning to automate the searching process effectively. Specifically, we specify a range, or a list of possible values in the case of categorical hyperparameters, for each of the hyperparameter that we plan to tune. SageMaker hyperparameter tuning will automatically launch multiple training jobs with different hyperparameter settings, evaluate results of those training jobs based on a predefined \"objective metric\", and select the hyperparameter settings for future attempts based on previous results. For each hyperparameter tuning job, we will give it a budget (max number of training jobs) and it will complete once that many training jobs have been executed.\n",
    "\n",
    "In this example, we are using SageMaker Python SDK to set up and manage the hyperparameter tuning job. We first configure the training jobs the hyperparameter tuning job will launch by initiating an estimator, which includes:\n",
    "* The container image for the algorithm (XGBoost)\n",
    "* Configuration for the output of the training jobs\n",
    "* The values of static algorithm hyperparameters, those that are not specified will be given default values\n",
    "* The type and number of instances to use for the training jobs"
   ]
  },
  {
   "cell_type": "code",
   "execution_count": 20,
   "id": "f01787d1",
   "metadata": {},
   "outputs": [],
   "source": [
    "#setup sagemaker SDK\n",
    "client = boto3.client(\"sagemaker\", region_name=region)"
   ]
  },
  {
   "cell_type": "code",
   "execution_count": 21,
   "id": "72fcbfd1",
   "metadata": {},
   "outputs": [],
   "source": [
    "sess = sagemaker.Session()\n",
    "linear = sagemaker.estimator.Estimator(container,\n",
    "                                       role, \n",
    "                                       instance_count = 1, \n",
    "                                       instance_type = 'ml.c4.xlarge',\n",
    "                                       output_path = output_bucket_path,\n",
    "                                       sagemaker_session = sess)\n",
    "\n",
    "linear.set_hyperparameters(\n",
    "                           predictor_type = 'regressor',\n",
    "                           mini_batch_size = 20,\n",
    "                           epochs = 5,\n",
    "                           num_models = 10,\n",
    "                           loss = 'absolute_loss')"
   ]
  },
  {
   "cell_type": "markdown",
   "id": "c2399811",
   "metadata": {},
   "source": [
    "We will tune four hyperparameters in this examples:\n",
    "* *eta*: Step size shrinkage used in updates to prevent overfitting. After each boosting step, you can directly get the weights of new features. The eta parameter actually shrinks the feature weights to make the boosting process more conservative. \n",
    "* *alpha*: L1 regularization term on weights. Increasing this value makes models more conservative. \n",
    "* *min_child_weight*: Minimum sum of instance weight (hessian) needed in a child. If the tree partition step results in a leaf node with the sum of instance weight less than min_child_weight, the building process gives up further partitioning. In linear regression models, this simply corresponds to a minimum number of instances needed in each node. The larger the algorithm, the more conservative it is. \n",
    "* *max_depth*: Maximum depth of a tree. Increasing this value makes the model more complex and likely to be overfitted. "
   ]
  },
  {
   "cell_type": "code",
   "execution_count": 22,
   "id": "0b9e70c4",
   "metadata": {},
   "outputs": [],
   "source": [
    "hyperparameter_ranges = {'mini_batch_size': CategoricalParameter([32,64,128,256,512]),\n",
    "                        'learning_rate': ContinuousParameter(0.0001, 1),\n",
    "                        'l1': ContinuousParameter(0.0001, 1)\n",
    "                        }"
   ]
  },
  {
   "cell_type": "markdown",
   "id": "6003a990",
   "metadata": {},
   "source": [
    "Next we'll specify the objective metric that we'd like to tune and its definition, which includes the regular expression (Regex) needed to extract that metric from the CloudWatch logs of the training job. Since we are using built-in XGBoost algorithm here, it emits two predefined metrics: *validation:auc* and *train:auc*, and we elected to monitor *validation:auc* as you can see below. In this case, we only need to specify the metric name and do not need to provide regex. If you bring your own algorithm, your algorithm emits metrics by itself. In that case, you'll need to add a MetricDefinition object here to define the format of those metrics through regex, so that SageMaker knows how to extract those metrics from your CloudWatch logs."
   ]
  },
  {
   "cell_type": "code",
   "execution_count": 23,
   "id": "c3c3501e",
   "metadata": {},
   "outputs": [],
   "source": [
    "objective_metric_name = 'validation:objective_loss:final'\n",
    "objective_type = 'Minimize'"
   ]
  },
  {
   "cell_type": "markdown",
   "id": "925ccca0",
   "metadata": {},
   "source": [
    "Now, we'll create a `HyperparameterTuner` object, to which we pass:\n",
    "- The XGBoost estimator we created above\n",
    "- Our hyperparameter ranges\n",
    "- Objective metric name and definition\n",
    "- Tuning resource configurations such as Number of training jobs to run in total and how many training jobs can be run in parallel."
   ]
  },
  {
   "cell_type": "code",
   "execution_count": 24,
   "id": "ce792d7d",
   "metadata": {},
   "outputs": [],
   "source": [
    "tuner = HyperparameterTuner(linear,\n",
    "                            objective_metric_name,\n",
    "                            hyperparameter_ranges,\n",
    "                            max_jobs=1,\n",
    "                            max_parallel_jobs=1,\n",
    "                            early_stopping_type='Auto',\n",
    "                            objective_type=objective_type)"
   ]
  },
  {
   "cell_type": "markdown",
   "id": "9ba24789",
   "metadata": {},
   "source": [
    "## Launch_Hyperparameter_Tuning\n",
    "Now we can launch a hyperparameter tuning job by calling *fit()* function. After the hyperparameter tuning job is created, we can go to SageMaker console to track the progress of the hyperparameter tuning job until it is completed."
   ]
  },
  {
   "cell_type": "code",
   "execution_count": 25,
   "id": "57cccce7",
   "metadata": {},
   "outputs": [
    {
     "name": "stdout",
     "output_type": "stream",
     "text": [
      "s3://ds-mlops-s3/ds-mlops-s3/preprocess-data/lrtrain/train.csv\n",
      "s3://ds-mlops-s3/ds-mlops-s3/preprocess-data/lrvalidation/validation_data.csv\n"
     ]
    }
   ],
   "source": [
    "print('{}/{}/lrtrain/train.csv'.format(data_bucket_path, data_prefix))\n",
    "print('{}/{}/lrvalidation/validation_data.csv'.format(data_bucket_path, data_prefix))"
   ]
  },
  {
   "cell_type": "code",
   "execution_count": 26,
   "id": "dbe7b50e",
   "metadata": {},
   "outputs": [
    {
     "name": "stdout",
     "output_type": "stream",
     "text": [
      "...........................................!\n"
     ]
    }
   ],
   "source": [
    "s3_input_train = TrainingInput(s3_data='{}/preprocess-data/train/train.csv'.format(data_bucket_path, data_prefix), content_type='text/csv')\n",
    "s3_input_validation = TrainingInput(s3_data='{}/preprocess-data/validation/validation_data.csv'.format(data_bucket_path, data_prefix), content_type='text/csv')\n",
    "tuner.fit({'train': s3_input_train, 'validation': s3_input_validation}, include_cls_metadata=False)\n",
    "\n"
   ]
  },
  {
   "cell_type": "markdown",
   "id": "55a5e614",
   "metadata": {},
   "source": [
    "Let's just run a quick check of the hyperparameter tuning jobs status to make sure it started successfully."
   ]
  },
  {
   "cell_type": "code",
   "execution_count": 27,
   "id": "546d7cfb",
   "metadata": {},
   "outputs": [
    {
     "data": {
      "text/plain": [
       "'Completed'"
      ]
     },
     "execution_count": 27,
     "metadata": {},
     "output_type": "execute_result"
    }
   ],
   "source": [
    "boto3.client('sagemaker').describe_hyper_parameter_tuning_job(\n",
    "    HyperParameterTuningJobName=tuner.latest_tuning_job.job_name)['HyperParameterTuningJobStatus']"
   ]
  },
  {
   "cell_type": "code",
   "execution_count": 28,
   "id": "44d24043",
   "metadata": {},
   "outputs": [
    {
     "name": "stdout",
     "output_type": "stream",
     "text": [
      "s3://ds-mlops-s3 ds-mlops-s3/preprocess-data\n"
     ]
    }
   ],
   "source": [
    "print(data_bucket_path,data_prefix)"
   ]
  },
  {
   "cell_type": "code",
   "execution_count": 29,
   "id": "49d53d86",
   "metadata": {},
   "outputs": [],
   "source": [
    "tuning_job_name = tuner.latest_tuning_job.job_name # Get name of hpo job"
   ]
  },
  {
   "cell_type": "markdown",
   "id": "5a08bf2c",
   "metadata": {},
   "source": [
    "# Analyze Results of a Hyperparameter Tuning job\n",
    "\n",
    "Once you have completed a tuning job, (or even while the job is still running) you can use this notebook to analyze the results to understand how each hyperparameter effects the quality of the model.\n"
   ]
  },
  {
   "cell_type": "markdown",
   "id": "13468a1a",
   "metadata": {},
   "source": [
    "## Track hyperparameter tuning job progress and print best result\n",
    "After you launch a tuning job, you can see its progress by calling describe_tuning_job API. The output from describe-tuning-job is a JSON object that contains information about the current state of the tuning job. You can call list_training_jobs_for_tuning_job to see a detailed list of the training jobs that the tuning job launched."
   ]
  },
  {
   "cell_type": "code",
   "execution_count": 30,
   "id": "e4b6821d",
   "metadata": {},
   "outputs": [
    {
     "name": "stdout",
     "output_type": "stream",
     "text": [
      "1 training jobs have completed\n",
      "Best performing hyper parameters : {'l1': '0.04580626658504098', 'learning_rate': '0.00033871082132064814', 'mini_batch_size': '512'}\n",
      "Result :  {'MetricName': 'validation:objective_loss:final', 'Value': 10717.4111328125}\n"
     ]
    }
   ],
   "source": [
    "# run this cell to check current status of hyperparameter tuning job\n",
    "region = boto3.Session().region_name\n",
    "sage_client = boto3.Session().client('sagemaker')\n",
    "tuning_job_result = sage_client.describe_hyper_parameter_tuning_job(HyperParameterTuningJobName=tuning_job_name)\n",
    "\n",
    "\n",
    "status = tuning_job_result['HyperParameterTuningJobStatus']\n",
    "if status != 'Completed':\n",
    "    print('Reminder: the tuning job has not been completed.')\n",
    "    \n",
    "job_count = tuning_job_result['TrainingJobStatusCounters']['Completed']\n",
    "print(\"%d training jobs have completed\" % job_count)\n",
    "\n",
    "best_hyper_parameter = tuning_job_result['BestTrainingJob']['TunedHyperParameters']\n",
    "print(\"Best performing hyper parameters :\",best_hyper_parameter)\n",
    "\n",
    "result = tuning_job_result['BestTrainingJob']['FinalHyperParameterTuningJobObjectiveMetric']\n",
    "print(\"Result : \",result)"
   ]
  },
  {
   "cell_type": "code",
   "execution_count": 31,
   "id": "f5a7e7bb",
   "metadata": {},
   "outputs": [],
   "source": [
    "ll_best_hyper_parameter = best_hyper_parameter"
   ]
  },
  {
   "cell_type": "code",
   "execution_count": 32,
   "id": "9f533764",
   "metadata": {},
   "outputs": [
    {
     "name": "stdout",
     "output_type": "stream",
     "text": [
      "0.04580626658504098 0.00033871082132064814 512\n",
      "{'l1': '0.04580626658504098', 'learning_rate': '0.00033871082132064814', 'mini_batch_size': '512'}\n"
     ]
    }
   ],
   "source": [
    "print(ll_best_hyper_parameter['l1'],ll_best_hyper_parameter['learning_rate'],ll_best_hyper_parameter['mini_batch_size'])\n",
    "print(ll_best_hyper_parameter)"
   ]
  },
  {
   "cell_type": "code",
   "execution_count": 33,
   "id": "e8f6a7ee",
   "metadata": {},
   "outputs": [
    {
     "name": "stdout",
     "output_type": "stream",
     "text": [
      "Stored 'll_best_hyper_parameter' (dict)\n"
     ]
    }
   ],
   "source": [
    "%store ll_best_hyper_parameter"
   ]
  },
  {
   "cell_type": "markdown",
   "id": "62a2a378",
   "metadata": {},
   "source": [
    "**Creating model for Linear Learner by passing hyper parameter**\n",
    "\n",
    "Once we have tunned parameter we will generate our model for scoring activities on sagemaker"
   ]
  },
  {
   "cell_type": "code",
   "execution_count": 34,
   "id": "af200c6b",
   "metadata": {},
   "outputs": [
    {
     "data": {
      "text/plain": [
       "({'s3://sagemaker-us-east-1-014257795134'}, {'ds-mlops-s3/output'})"
      ]
     },
     "execution_count": 34,
     "metadata": {},
     "output_type": "execute_result"
    }
   ],
   "source": [
    "{output_bucket_path},{output_prefix}"
   ]
  },
  {
   "cell_type": "code",
   "execution_count": 35,
   "id": "9fbd45d2",
   "metadata": {},
   "outputs": [
    {
     "name": "stdout",
     "output_type": "stream",
     "text": [
      "Training job ds-mlops-linear-learner1648440170\n",
      "InProgress\n",
      "Completed\n",
      "CPU times: user 47.7 ms, sys: 1.06 ms, total: 48.7 ms\n",
      "Wall time: 3min 2s\n"
     ]
    }
   ],
   "source": [
    "%%time\n",
    "\n",
    "print(\"Training job\", job_name)\n",
    "\n",
    "# Ensure that the training and validation data folders generated above are reflected in the \"InputDataConfig\" parameter below.\n",
    "create_training_params = {\n",
    "    \"AlgorithmSpecification\": {\"TrainingImage\": container, \"TrainingInputMode\": \"File\"},\n",
    "    \"RoleArn\": role,\n",
    "    \"OutputDataConfig\": {\"S3OutputPath\": f\"{output_bucket_path}/{output_prefix}/output\"},\n",
    "    \"ResourceConfig\": {\"InstanceCount\": Instance_Count, \"InstanceType\": Instance_Type, \"VolumeSizeInGB\": VolumeSizeIn_GB},\n",
    "    \"VpcConfig\": { \n",
    "              \"SecurityGroupIds\": sec_groups,\n",
    "              \"Subnets\": subnets\n",
    "   },\n",
    "    \"TrainingJobName\": job_name,\n",
    "    \"HyperParameters\": {\"predictor_type\" :'regressor',\n",
    "                        \"epochs\":\"20\",\n",
    "                        \"l1\":ll_best_hyper_parameter['l1'],\n",
    "                        \"learning_rate\":ll_best_hyper_parameter['learning_rate'],\n",
    "                        \"mini_batch_size\":ll_best_hyper_parameter['mini_batch_size']\n",
    "                       },\n",
    "    \"StoppingCondition\": {\"MaxRuntimeInSeconds\": 3600},\n",
    "    \"InputDataConfig\": [\n",
    "        {\n",
    "            \"ChannelName\": \"train\",\n",
    "            \"DataSource\": {\n",
    "                \"S3DataSource\": {\n",
    "                    \"S3DataType\": \"S3Prefix\",\n",
    "                    \"S3Uri\": f\"s3://ds-mlops-s3/preprocess-data/train/train.csv\",\n",
    "                    \"S3DataDistributionType\": \"FullyReplicated\",\n",
    "                }\n",
    "            },\n",
    "            \"ContentType\": \"text/csv\",\n",
    "            \"CompressionType\": \"None\",\n",
    "        },\n",
    "        {\n",
    "            \"ChannelName\": \"validation\",\n",
    "            \"DataSource\": {\n",
    "                \"S3DataSource\": {\n",
    "                    \"S3DataType\": \"S3Prefix\",\n",
    "                    \"S3Uri\":f\"s3://ds-mlops-s3/preprocess-data/validation/validation_data.csv\",\n",
    "                    \"S3DataDistributionType\": \"FullyReplicated\",\n",
    "                }\n",
    "            },\n",
    "            \"ContentType\": \"text/csv\",\n",
    "            \"CompressionType\": \"None\",\n",
    "            \n",
    "        },\n",
    "    ],\n",
    "}\n",
    "\n",
    "client.create_training_job(**create_training_params)\n",
    "\n",
    "#track execution\n",
    "status = client.describe_training_job(TrainingJobName=job_name)[\"TrainingJobStatus\"]\n",
    "print(status)\n",
    "while status != \"Completed\" and status != \"Failed\":\n",
    "    time.sleep(180)\n",
    "    status = client.describe_training_job(TrainingJobName=job_name)[\"TrainingJobStatus\"]\n",
    "    print(status)"
   ]
  },
  {
   "cell_type": "code",
   "execution_count": 36,
   "id": "cc5d926e",
   "metadata": {},
   "outputs": [
    {
     "name": "stdout",
     "output_type": "stream",
     "text": [
      "Completed\n"
     ]
    }
   ],
   "source": [
    "# checking training job status after creating training job\n",
    "status = client.describe_training_job(TrainingJobName=job_name)[\"TrainingJobStatus\"]\n",
    "print(status)"
   ]
  },
  {
   "cell_type": "code",
   "execution_count": 37,
   "id": "6d0f8f11",
   "metadata": {},
   "outputs": [
    {
     "name": "stdout",
     "output_type": "stream",
     "text": [
      "model path: >> s3://sagemaker-us-east-1-014257795134/ds-mlops-s3/output/output\n"
     ]
    }
   ],
   "source": [
    "# printing model output location\n",
    "print(f\"model path: >> {output_bucket_path}/{output_prefix}/output\")"
   ]
  },
  {
   "cell_type": "code",
   "execution_count": 38,
   "id": "3b4d2869",
   "metadata": {},
   "outputs": [
    {
     "name": "stdout",
     "output_type": "stream",
     "text": [
      "[{'MetricName': 'train:progress', 'Value': 100.0, 'Timestamp': datetime.datetime(2022, 3, 28, 4, 11, 11, tzinfo=tzlocal())}, {'MetricName': 'validation:mae', 'Value': 8245.83203125, 'Timestamp': datetime.datetime(2022, 3, 28, 4, 11, 11, tzinfo=tzlocal())}, {'MetricName': 'train:objective_loss', 'Value': 1.0832200050354004, 'Timestamp': datetime.datetime(2022, 3, 28, 4, 11, 11, tzinfo=tzlocal())}, {'MetricName': 'validation:objective_loss', 'Value': 176831680.0, 'Timestamp': datetime.datetime(2022, 3, 28, 4, 11, 11, tzinfo=tzlocal())}, {'MetricName': 'validation:objective_loss:final', 'Value': 121789624.0, 'Timestamp': datetime.datetime(2022, 3, 28, 4, 11, 11, tzinfo=tzlocal())}, {'MetricName': 'validation:rmse', 'Value': 11035.833984375, 'Timestamp': datetime.datetime(2022, 3, 28, 4, 11, 11, tzinfo=tzlocal())}, {'MetricName': 'validation:mse', 'Value': 121789624.0, 'Timestamp': datetime.datetime(2022, 3, 28, 4, 11, 11, tzinfo=tzlocal())}, {'MetricName': 'validation:r2', 'Value': 0.266435444355011, 'Timestamp': datetime.datetime(2022, 3, 28, 4, 11, 11, tzinfo=tzlocal())}, {'MetricName': 'train:throughput', 'Value': 8957.2666015625, 'Timestamp': datetime.datetime(2022, 3, 28, 4, 11, 11, tzinfo=tzlocal())}, {'MetricName': 'validation:absolute_loss', 'Value': 8245.83203125, 'Timestamp': datetime.datetime(2022, 3, 28, 4, 11, 11, tzinfo=tzlocal())}]\n"
     ]
    }
   ],
   "source": [
    "# printing the training metrics you can tune and generate model as per need\n",
    "metrics = client.describe_training_job(TrainingJobName=job_name)[\"FinalMetricDataList\"]\n",
    "print(metrics)"
   ]
  },
  {
   "cell_type": "code",
   "execution_count": 39,
   "id": "ac20b2e9",
   "metadata": {},
   "outputs": [
    {
     "name": "stdout",
     "output_type": "stream",
     "text": [
      "ds-mlops-linear-learner1648440170\n"
     ]
    }
   ],
   "source": [
    "# finding job name \n",
    "print(job_name)"
   ]
  },
  {
   "cell_type": "markdown",
   "id": "90eb1295",
   "metadata": {},
   "source": [
    "**Note:** you will need folowing values in next section\n",
    "- hyperparameter\n",
    "- training job name"
   ]
  },
  {
   "cell_type": "markdown",
   "id": "8d4f4d90",
   "metadata": {},
   "source": [
    "## 3. Generate model on Sagemaker"
   ]
  },
  {
   "cell_type": "markdown",
   "id": "3af4879f",
   "metadata": {},
   "source": [
    "In section we will describe how we can create a model with our training jobs"
   ]
  },
  {
   "cell_type": "code",
   "execution_count": 40,
   "id": "f43bad2d",
   "metadata": {},
   "outputs": [],
   "source": [
    "import sys\n",
    "import math\n",
    "import boto3\n",
    "import sagemaker\n",
    "from sagemaker.amazon.amazon_estimator import get_image_uri\n",
    "from time import gmtime, strftime\n",
    "\n",
    "model_name = 'ds-mlops-linear-learner' # It need to be unique across the account\n",
    "\n",
    "role = sagemaker.get_execution_role()\n",
    "region = boto3.Session().region_name\n",
    "runtime_client = boto3.client(\"runtime.sagemaker\", \n",
    "                              region_name=region)\n",
    "client = boto3.client(\"sagemaker\", \n",
    "                      region_name=region)"
   ]
  },
  {
   "cell_type": "markdown",
   "id": "16e4adf3",
   "metadata": {},
   "source": [
    "Check if model with same name exists or not. If it exist then delete it."
   ]
  },
  {
   "cell_type": "code",
   "execution_count": 41,
   "id": "9d527c24",
   "metadata": {},
   "outputs": [],
   "source": [
    "client = boto3.client('sagemaker') # getting sagemaker client \n",
    "try:\n",
    "    client.delete_model(\n",
    "        ModelName=model_name # delete if some model exist with this name\n",
    "    )\n",
    "except:\n",
    "    pass"
   ]
  },
  {
   "cell_type": "code",
   "execution_count": 42,
   "id": "d60702a8",
   "metadata": {},
   "outputs": [
    {
     "name": "stderr",
     "output_type": "stream",
     "text": [
      "The method get_image_uri has been renamed in sagemaker>=2.\n",
      "See: https://sagemaker.readthedocs.io/en/stable/v2.html for details.\n",
      "Defaulting to the only supported framework/algorithm version: 1. Ignoring framework/algorithm version: 1.\n"
     ]
    }
   ],
   "source": [
    "container = get_image_uri(region, \"linear-learner\") # getting container image"
   ]
  },
  {
   "cell_type": "markdown",
   "id": "4f2d32b8",
   "metadata": {},
   "source": [
    "**Register model**\n"
   ]
  },
  {
   "cell_type": "code",
   "execution_count": 43,
   "id": "f80a21f3",
   "metadata": {},
   "outputs": [
    {
     "name": "stdout",
     "output_type": "stream",
     "text": [
      "ds-mlops-linear-learner\n",
      "s3://sagemaker-us-east-1-014257795134/ds-mlops-s3/output/output/ds-mlops-linear-learner1648440170/output/model.tar.gz\n",
      "arn:aws:sagemaker:us-east-1:014257795134:model/ds-mlops-linear-learner\n"
     ]
    }
   ],
   "source": [
    "# Here we are registering our model\n",
    "print(model_name) \n",
    "info = client.describe_training_job(TrainingJobName=job_name)\n",
    "model_data = info[\"ModelArtifacts\"][\"S3ModelArtifacts\"]\n",
    "print(model_data)\n",
    "primary_container = {\"Image\": container, \"ModelDataUrl\": model_data}\n",
    "create_model_response = client.create_model(\n",
    "    ModelName=model_name, \n",
    "    ExecutionRoleArn=role, \n",
    "    PrimaryContainer=primary_container,\n",
    "    VpcConfig={\n",
    "            'SecurityGroupIds':sec_groups,\n",
    "            'Subnets': subnets\n",
    "            }\n",
    ")\n",
    "print(create_model_response[\"ModelArn\"]) # printing model ARN which is cretaed"
   ]
  },
  {
   "cell_type": "code",
   "execution_count": 44,
   "id": "67525588",
   "metadata": {},
   "outputs": [
    {
     "name": "stdout",
     "output_type": "stream",
     "text": [
      "ds-mlops-linear-learner\n"
     ]
    }
   ],
   "source": [
    "print(model_name)"
   ]
  },
  {
   "cell_type": "markdown",
   "id": "a48b47c5",
   "metadata": {},
   "source": [
    "**Note :** \n",
    "- We will need this model ARN for generating endpoint \n",
    "- Also model name need to be unique in an aws account\n",
    "- In case if we need to regenerate model we have to delete existing model"
   ]
  },
  {
   "cell_type": "markdown",
   "id": "cd38e906",
   "metadata": {},
   "source": [
    "## 4. Delete endpoint config"
   ]
  },
  {
   "cell_type": "code",
   "execution_count": 157,
   "id": "672bf2d5",
   "metadata": {},
   "outputs": [],
   "source": [
    "import sys\n",
    "import math\n",
    "import boto3\n",
    "import sagemaker\n",
    "from time import gmtime, strftime\n",
    "\n",
    "role = sagemaker.get_execution_role()\n",
    "region = boto3.Session().region_name\n",
    "runtime_client = boto3.client(\"runtime.sagemaker\", region_name=region)\n",
    "client = boto3.client(\"sagemaker\", region_name=region)\n",
    "endpoint_config_name = 'ds-mlops-linear-learner-endpoint-config'"
   ]
  },
  {
   "cell_type": "code",
   "execution_count": 158,
   "id": "8c0f1dd5",
   "metadata": {},
   "outputs": [],
   "source": [
    "client = boto3.client('sagemaker') # getting sagemaker client \n",
    "try:\n",
    "    client.delete_endpoint_config(\n",
    "     EndpointConfigName=endpoint_config_name\n",
    "    )\n",
    "except:\n",
    "    pass\n"
   ]
  },
  {
   "cell_type": "markdown",
   "id": "aac33ea7",
   "metadata": {},
   "source": [
    "## 5. Create endpoint config\n",
    "In this section we will describe how we can create a model endpoint."
   ]
  },
  {
   "cell_type": "markdown",
   "id": "31298a7a",
   "metadata": {},
   "source": [
    "For generating sagemaker end point we will need to generate endpoint config. So generating endpoint config first"
   ]
  },
  {
   "cell_type": "code",
   "execution_count": 154,
   "id": "05b3fa55",
   "metadata": {},
   "outputs": [],
   "source": [
    "import sys\n",
    "import math\n",
    "import boto3\n",
    "import sagemaker\n",
    "from time import gmtime, strftime\n",
    "\n",
    "endpoint_config_name = 'ds-mlops-linear-learner-endpoint-config'\n",
    "\n",
    "role = sagemaker.get_execution_role()\n",
    "region = boto3.Session().region_name\n",
    "runtime_client = boto3.client(\"runtime.sagemaker\", region_name=region)\n",
    "client = boto3.client(\"sagemaker\", region_name=region)"
   ]
  },
  {
   "cell_type": "code",
   "execution_count": 155,
   "id": "9dc4c59a",
   "metadata": {},
   "outputs": [],
   "source": [
    "# Instance config for endpoint\n",
    "Instance_Type = \"ml.m5.xlarge\"\n",
    "VolumeSizeIn_GB = 20\n",
    "Instance_Count = 1"
   ]
  },
  {
   "cell_type": "code",
   "execution_count": 159,
   "id": "218862bf",
   "metadata": {},
   "outputs": [
    {
     "name": "stdout",
     "output_type": "stream",
     "text": [
      "ds-mlops-linear-learner-endpoint-config\n",
      "Endpoint Config Arn: arn:aws:sagemaker:us-east-1:014257795134:endpoint-config/ds-mlops-linear-learner-endpoint-config\n"
     ]
    }
   ],
   "source": [
    "# Creating endpoint config\n",
    "print(endpoint_config_name)\n",
    "create_endpoint_config_response = client.create_endpoint_config(\n",
    "    EndpointConfigName=endpoint_config_name,\n",
    "    ProductionVariants=[\n",
    "        {\n",
    "            \"InstanceType\": Instance_Type,\n",
    "            \"InitialVariantWeight\": 1,\n",
    "            \"InitialInstanceCount\": 1,\n",
    "            \"ModelName\": model_name,\n",
    "            \"VariantName\": \"AllTraffic\",\n",
    "        }\n",
    "    ],\n",
    "    DataCaptureConfig={\n",
    "        'EnableCapture': True,\n",
    "        'InitialSamplingPercentage': 100,\n",
    "        'DestinationS3Uri': 's3://ds-mlops-s3/data/capture',\n",
    "        'CaptureOptions': [\n",
    "            {\n",
    "                'CaptureMode': 'Input'\n",
    "            },\n",
    "             {\n",
    "                'CaptureMode': 'Output'\n",
    "            },\n",
    "        ],\n",
    "        'CaptureContentTypeHeader': {\n",
    "            'CsvContentTypes': [\n",
    "                'text/csv',\n",
    "            ],\n",
    "            'JsonContentTypes': [\n",
    "                'application/json',\n",
    "            ]\n",
    "        }        \n",
    "    }\n",
    ")\n",
    "\n",
    "print(f\"Endpoint Config Arn: {create_endpoint_config_response['EndpointConfigArn']}\")"
   ]
  },
  {
   "cell_type": "markdown",
   "id": "665fc8e2",
   "metadata": {},
   "source": [
    "**Note :** We will use able endpoint config name to cretae model endpoint"
   ]
  },
  {
   "cell_type": "markdown",
   "id": "47a39af2",
   "metadata": {},
   "source": [
    "Incase if you want to delete endpoint config and recreate it we can use below code snippet"
   ]
  },
  {
   "cell_type": "markdown",
   "id": "181f9538",
   "metadata": {},
   "source": [
    "## 6.Create Endpoint"
   ]
  },
  {
   "cell_type": "markdown",
   "id": "89999e22",
   "metadata": {},
   "source": [
    "In this notebook we create endpoint using endpoint which we have created"
   ]
  },
  {
   "cell_type": "code",
   "execution_count": 160,
   "id": "6a527e40",
   "metadata": {},
   "outputs": [],
   "source": [
    "#delete existing end point\n",
    "endpoint_name = 'ds-mlops-linear-learner-endpoint'\n",
    "client = boto3.client('sagemaker') # getting sagemaker client \n",
    "try:\n",
    "    client.delete_endpoint(\n",
    "     EndpointName=endpoint_name\n",
    "    )\n",
    "except:\n",
    "    pass\n"
   ]
  },
  {
   "cell_type": "code",
   "execution_count": 161,
   "id": "be4432c3",
   "metadata": {},
   "outputs": [],
   "source": [
    "# Importing required library\n",
    "import sys\n",
    "import math\n",
    "import boto3\n",
    "import sagemaker\n",
    "import time    \n",
    "\n",
    "role = sagemaker.get_execution_role()\n",
    "region = boto3.Session().region_name\n",
    "runtime_client = boto3.client(\"runtime.sagemaker\", region_name=region)\n",
    "client = boto3.client(\"sagemaker\", region_name=region)\n",
    "endpoint_name = 'ds-mlops-linear-learner-endpoint' # name of model endpoint"
   ]
  },
  {
   "cell_type": "code",
   "execution_count": 162,
   "id": "39dea8a1",
   "metadata": {
    "scrolled": true
   },
   "outputs": [
    {
     "name": "stdout",
     "output_type": "stream",
     "text": [
      "ds-mlops-linear-learner-endpoint\n",
      "arn:aws:sagemaker:us-east-1:014257795134:endpoint/ds-mlops-linear-learner-endpoint\n",
      "Status: Creating\n",
      "Status: Creating\n",
      "Status: Creating\n",
      "Status: Creating\n",
      "Status: Creating\n",
      "Status: Creating\n",
      "Status: Creating\n",
      "Arn: arn:aws:sagemaker:us-east-1:014257795134:endpoint/ds-mlops-linear-learner-endpoint\n",
      "Status: InService\n"
     ]
    }
   ],
   "source": [
    "# Creating model endpoint\n",
    "print(endpoint_name)\n",
    "create_endpoint_response = client.create_endpoint(\n",
    "    EndpointName=endpoint_name, EndpointConfigName=endpoint_config_name\n",
    ")\n",
    "print(create_endpoint_response[\"EndpointArn\"])\n",
    "\n",
    "resp = client.describe_endpoint(EndpointName=endpoint_name)\n",
    "status = resp[\"EndpointStatus\"]\n",
    "while status == \"Creating\":\n",
    "    print(f\"Status: {status}\")\n",
    "    time.sleep(60)\n",
    "    resp = client.describe_endpoint(EndpointName=endpoint_name)\n",
    "    status = resp[\"EndpointStatus\"]\n",
    "\n",
    "print(f\"Arn: {resp['EndpointArn']}\")\n",
    "print(f\"Status: {status}\")"
   ]
  },
  {
   "cell_type": "markdown",
   "id": "4fdddbc0",
   "metadata": {},
   "source": [
    "## 7. Validate scoring\n",
    "\n",
    "In this section we will validate scoring logics. In below code snippet we are scoring with 14 predictor values and finding the result"
   ]
  },
  {
   "cell_type": "code",
   "execution_count": 163,
   "id": "372012bb",
   "metadata": {},
   "outputs": [
    {
     "name": "stdout",
     "output_type": "stream",
     "text": [
      "b'{\"predictions\": [{\"score\": 29871.4375}]}'\n"
     ]
    }
   ],
   "source": [
    "import boto3\n",
    "import json\n",
    "\n",
    "client = boto3.client('sagemaker-runtime')\n",
    "test_vector = [2018.0,5,147,2,4,2,2000,0,2,0,7,0]\n",
    "\n",
    "body = ','.join([str(item) for item in test_vector])\n",
    "response = client.invoke_endpoint(EndpointName=endpoint_name,\n",
    "                               ContentType='text/csv',\n",
    "                               Body=body)\n",
    "print(response[\"Body\"].read())"
   ]
  },
  {
   "cell_type": "markdown",
   "id": "5befaa9a",
   "metadata": {},
   "source": [
    "**Note:** Similarly you can change the test vector and can see how endpoint is working"
   ]
  },
  {
   "cell_type": "markdown",
   "id": "2f41d833",
   "metadata": {},
   "source": [
    "**References** <br/>\n",
    "- How to configure preprocessing jobs on step function (https://docs.aws.amazon.com/sagemaker/latest/APIReference/API_CreateProcessingJob.html)\n",
    "- How to create batch transform jobs\n",
    "(https://docs.aws.amazon.com/sagemaker/latest/APIReference/API_CreateTransformJob.html)\n",
    "- Create training jobs\n",
    "(https://docs.aws.amazon.com/sagemaker/latest/APIReference/API_CreateTrainingJob.html)\n",
    "- In case if team wants to bring any sagemaker component\n",
    "(https://docs.aws.amazon.com/step-functions/latest/dg/connect-sagemaker.html)\n",
    "- How to create lambda using state function\n",
    "(https://docs.aws.amazon.com/step-functions/latest/dg/tutorial-creating-lambda-state-machine.html)"
   ]
  },
  {
   "cell_type": "code",
   "execution_count": null,
   "id": "6bbe8f2d",
   "metadata": {},
   "outputs": [],
   "source": [
    "#Clean up-- delete end point-\n"
   ]
  },
  {
   "cell_type": "code",
   "execution_count": 164,
   "id": "b9a5afb4",
   "metadata": {},
   "outputs": [],
   "source": [
    "client = boto3.client(\"sagemaker\", region_name=region)\n",
    "response=client.delete_endpoint(EndpointName=endpoint_name)"
   ]
  },
  {
   "cell_type": "code",
   "execution_count": null,
   "id": "5911eeb5",
   "metadata": {},
   "outputs": [],
   "source": []
  }
 ],
 "metadata": {
  "kernelspec": {
   "display_name": "conda_python3",
   "language": "python",
   "name": "conda_python3"
  },
  "language_info": {
   "codemirror_mode": {
    "name": "ipython",
    "version": 3
   },
   "file_extension": ".py",
   "mimetype": "text/x-python",
   "name": "python",
   "nbconvert_exporter": "python",
   "pygments_lexer": "ipython3",
   "version": "3.6.13"
  }
 },
 "nbformat": 4,
 "nbformat_minor": 5
}
