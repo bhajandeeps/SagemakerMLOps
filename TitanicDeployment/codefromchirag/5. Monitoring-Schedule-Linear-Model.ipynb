{
 "cells": [
  {
   "cell_type": "code",
   "execution_count": 1,
   "id": "9c67d977",
   "metadata": {},
   "outputs": [],
   "source": [
    "import pandas as pd"
   ]
  },
  {
   "cell_type": "code",
   "execution_count": 11,
   "id": "9c4cb205",
   "metadata": {},
   "outputs": [],
   "source": [
    "execution_role = \"arn:aws:iam::014257795134:role/ds-mlops-stepfunction-role\" # Step function IAM role ARN\n",
    "baseconstloc='s3://vw-cred-dsna-dev-s3-mlops-config/customonitor/constraints.json'\n",
    "basestatloc='s3://vw-cred-dsna-dev-s3-mlops-config/customonitor/statistics.json'\n",
    "EndpointName='ds-mlops-linear-learner-endpoint'\n",
    "monitorop='s3://vw-cred-dsna-dev-s3-mlops-config/monitoring/monitoring/reports'\n",
    "XGB_schedular_name='custom-pricing-real-time-monitor-pipeline-scheduler'\n",
    "v_region = 'us-east-1' # AWS region\n",
    "sec_groups = [\"sg-01d629a900f9b4d92\"]\n",
    "subnets = [\"subnet-07bd1dfe6aee76227\",\n",
    "           \"subnet-076950ecc89d4340b\",\n",
    "           \"subnet-0c5a462cb45a14bab\"]\n",
    "config_bucket = \"vw-cred-dsna-dev-s3-mlops-config\"\n",
    "schedule_expression=\"cron(0 * ? * * *)\""
   ]
  },
  {
   "cell_type": "code",
   "execution_count": 12,
   "id": "5b6ebf44",
   "metadata": {},
   "outputs": [],
   "source": [
    "import boto3\n",
    "\n",
    "client = boto3.client('sagemaker')\n",
    "sec_groups = [\"sg-01d629a900f9b4d92\"]\n",
    "subnets = [\"subnet-07bd1dfe6aee76227\",\n",
    "           \"subnet-076950ecc89d4340b\",\n",
    "           \"subnet-0c5a462cb45a14bab\"]"
   ]
  },
  {
   "cell_type": "code",
   "execution_count": 15,
   "id": "a84c875c",
   "metadata": {},
   "outputs": [],
   "source": [
    "response = client.create_monitoring_schedule(\n",
    "          MonitoringScheduleName=XGB_schedular_name,#\n",
    "          MonitoringScheduleConfig={\n",
    "              'ScheduleConfig': {\n",
    "                  'ScheduleExpression': schedule_expression\n",
    "              },\n",
    "              'MonitoringJobDefinition': {\n",
    "                  'BaselineConfig': {\n",
    "                      'ConstraintsResource': {\n",
    "                          'S3Uri': baseconstloc\n",
    "                      },\n",
    "                      'StatisticsResource': {\n",
    "                          'S3Uri': basestatloc\n",
    "                      }\n",
    "                  },\n",
    "                  'MonitoringInputs': [\n",
    "                      {\n",
    "                                  \"EndpointInput\": {\n",
    "                                      \"EndpointName\": EndpointName,\n",
    "                                      \"LocalPath\": \"/opt/ml/processing/input/monitoring_dataset_input\",\n",
    "                                      \"S3InputMode\": \"File\",\n",
    "                                      \"S3DataDistributionType\": \"FullyReplicated\",\n",
    "                                  }\n",
    "                              },\n",
    "                  ],\n",
    "                  'MonitoringOutputConfig': {\n",
    "                      'MonitoringOutputs': [\n",
    "                          {\n",
    "                              \"S3Output\": {\n",
    "                                  \"S3Uri\": monitorop,\n",
    "                                  \"LocalPath\": \"/opt/ml/processing/output\",\n",
    "                                  \"S3UploadMode\": \"EndOfJob\",\n",
    "                              }\n",
    "                          },\n",
    "                      ],\n",
    "                  },\n",
    "                  'MonitoringResources': {\n",
    "                      \"ClusterConfig\": {\n",
    "                          \"InstanceCount\": 1,\n",
    "                          \"InstanceType\": \"ml.m5.xlarge\",\n",
    "                          \"VolumeSizeInGB\": 100,\n",
    "                      }\n",
    "                  },\n",
    "                  'MonitoringAppSpecification': {\n",
    "                      \"ImageUri\": \"156813124566.dkr.ecr.us-east-1.amazonaws.com/sagemaker-model-monitor-analyzer\",\n",
    "                  },\n",
    "                  'StoppingCondition': {\n",
    "                      'MaxRuntimeInSeconds': 3600\n",
    "                  },\n",
    "                  'NetworkConfig': {\n",
    "                      'VpcConfig': {\n",
    "                          \"SecurityGroupIds\": sec_groups,\n",
    "                          \"Subnets\": subnets\n",
    "                      }\n",
    "                  },\n",
    "                  'RoleArn': execution_role\n",
    "              }\n",
    "          }\n",
    "        )\n"
   ]
  },
  {
   "cell_type": "markdown",
   "id": "e5373de6",
   "metadata": {},
   "source": [
    "## Clean-up steps\n",
    "\n",
    "https://docs.aws.amazon.com/sagemaker/latest/dg/ex1-cleanup.html"
   ]
  },
  {
   "cell_type": "code",
   "execution_count": null,
   "id": "32c9651b",
   "metadata": {},
   "outputs": [],
   "source": [
    "# import boto3\n",
    "# import botocore\n",
    "# client = boto3.client('sagemaker')\n",
    "# #client.list_monitoring_executions()\n",
    "# client.list_monitoring_schedules()"
   ]
  },
  {
   "cell_type": "code",
   "execution_count": null,
   "id": "ae775cf5",
   "metadata": {},
   "outputs": [],
   "source": [
    "# client.delete_monitoring_schedule(MonitoringScheduleName= 'custom-pricing-real-time-monitor-pipeline-scheduler')"
   ]
  },
  {
   "cell_type": "code",
   "execution_count": null,
   "id": "54ea8507",
   "metadata": {},
   "outputs": [],
   "source": [
    "# Clean up end point\n",
    "# client = boto3.client(\"sagemaker\", region_name=region)\n",
    "# response=client.delete_endpoint(EndpointName=endpoint_name)"
   ]
  }
 ],
 "metadata": {
  "kernelspec": {
   "display_name": "conda_python3",
   "language": "python",
   "name": "conda_python3"
  },
  "language_info": {
   "codemirror_mode": {
    "name": "ipython",
    "version": 3
   },
   "file_extension": ".py",
   "mimetype": "text/x-python",
   "name": "python",
   "nbconvert_exporter": "python",
   "pygments_lexer": "ipython3",
   "version": "3.6.13"
  }
 },
 "nbformat": 4,
 "nbformat_minor": 5
}
