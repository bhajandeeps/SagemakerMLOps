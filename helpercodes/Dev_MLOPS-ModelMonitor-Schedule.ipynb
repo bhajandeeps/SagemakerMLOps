{
 "cells": [
  {
   "cell_type": "code",
   "execution_count": 41,
   "id": "2184a6d5",
   "metadata": {},
   "outputs": [],
   "source": [
    "import pandas as pd\n"
   ]
  },
  {
   "cell_type": "code",
   "execution_count": 42,
   "id": "62048ab2",
   "metadata": {},
   "outputs": [],
   "source": [
    "execution_role = \"arn:aws:iam::525102048888:role/wipcoe-pricing-real-time-moni-MonitorSageMakerRole-11WVCBI6XNZO1\" # Step function IAM role ARN\n",
    "baseconstloc='s3://wipcoe-ml-s3-config-bucket/monitoring/constraints.json'\n",
    "basestatloc='s3://wipcoe-ml-s3-config-bucket/monitoring/statistics.json'\n",
    "EndpointName='wipcoe-pricing-ml-training-pipeline-lr-endpoint'\n",
    "monitorop='s3://wipcoe-ml-s3-config-bucket/monitoring/reports'\n",
    "XGB_schedular_name='custom-pricing-real-time-monitor-pipeline-scheduler'\n",
    "LR_schedular_name='custom-pricing-real-time-monitor-pipeline-scheduler'\n",
    "v_region = 'us-east-1' # AWS region\n",
    "sec_groups = [\"sg-044e0e7ce4f5721c0\"]\n",
    "subnets = [\"subnet-0cf0e3f46326aa259\",\n",
    "           \"subnet-0156b7f5500cf0b78\",\n",
    "           \"subnet-032420199163cff9b\"]\n",
    "config_bucket = \"wipcoe-ml-s3-config-bucket\"\n",
    "schedule_expression=\"cron(0 * ? * * *)\""
   ]
  },
  {
   "cell_type": "code",
   "execution_count": 1,
   "id": "3a3004de",
   "metadata": {},
   "outputs": [
    {
     "name": "stderr",
     "output_type": "stream",
     "text": [
      "/home/ec2-user/anaconda3/envs/python3/lib/python3.6/site-packages/boto3/compat.py:88: PythonDeprecationWarning: Boto3 will no longer support Python 3.6 starting May 30, 2022. To continue receiving service updates, bug fixes, and security updates please upgrade to Python 3.7 or later. More information can be found here: https://aws.amazon.com/blogs/developer/python-support-policy-updates-for-aws-sdks-and-tools/\n",
      "  warnings.warn(warning, PythonDeprecationWarning)\n"
     ]
    }
   ],
   "source": [
    "import boto3\n",
    "\n",
    "client = boto3.client('sagemaker')\n",
    "sec_groups = [\"sg-044e0e7ce4f5721c0\"]\n",
    "subnets = [\"subnet-0cf0e3f46326aa259\",\n",
    "           \"subnet-0156b7f5500cf0b78\",\n",
    "           \"subnet-032420199163cff9b\"]"
   ]
  },
  {
   "cell_type": "code",
   "execution_count": 8,
   "id": "b9834ce5",
   "metadata": {},
   "outputs": [
    {
     "data": {
      "text/plain": [
       "{'MonitoringScheduleSummaries': [{'MonitoringScheduleName': 'MLOPsDemo-prod-DataQuality',\n",
       "   'MonitoringScheduleArn': 'arn:aws:sagemaker:us-east-1:525102048888:monitoring-schedule/mlopsdemo-prod-dataquality',\n",
       "   'CreationTime': datetime.datetime(2022, 7, 19, 11, 14, 20, 681000, tzinfo=tzlocal()),\n",
       "   'LastModifiedTime': datetime.datetime(2022, 7, 19, 17, 12, 50, 570000, tzinfo=tzlocal()),\n",
       "   'MonitoringScheduleStatus': 'Scheduled',\n",
       "   'EndpointName': 'MLOPsDemo-prod',\n",
       "   'MonitoringJobDefinitionName': 'cfn-dataqualityjobdefini-taztxbwdledt',\n",
       "   'MonitoringType': 'DataQuality'},\n",
       "  {'MonitoringScheduleName': 'MLOPsDemo-prod-ModelExplainability',\n",
       "   'MonitoringScheduleArn': 'arn:aws:sagemaker:us-east-1:525102048888:monitoring-schedule/mlopsdemo-prod-modelexplainability',\n",
       "   'CreationTime': datetime.datetime(2022, 7, 19, 11, 14, 19, 542000, tzinfo=tzlocal()),\n",
       "   'LastModifiedTime': datetime.datetime(2022, 7, 19, 17, 4, 54, 128000, tzinfo=tzlocal()),\n",
       "   'MonitoringScheduleStatus': 'Scheduled',\n",
       "   'EndpointName': 'MLOPsDemo-prod',\n",
       "   'MonitoringJobDefinitionName': 'cfn-modelexplainabilityj-3ar9jxy6gkkg',\n",
       "   'MonitoringType': 'ModelExplainability'}],\n",
       " 'ResponseMetadata': {'RequestId': 'cb11b0d4-13c4-4885-8e90-30d25faf1fe0',\n",
       "  'HTTPStatusCode': 200,\n",
       "  'HTTPHeaders': {'x-amzn-requestid': 'cb11b0d4-13c4-4885-8e90-30d25faf1fe0',\n",
       "   'content-type': 'application/x-amz-json-1.1',\n",
       "   'content-length': '876',\n",
       "   'date': 'Tue, 19 Jul 2022 17:34:58 GMT'},\n",
       "  'RetryAttempts': 0}}"
      ]
     },
     "execution_count": 8,
     "metadata": {},
     "output_type": "execute_result"
    }
   ],
   "source": [
    "client.list_monitoring_schedules()\n",
    "#client.describe_monitoring_schedule(MonitoringScheduleName=\"MLOPsDemo-prod-DataQuality\")\n",
    "\n",
    "# client.delete_monitoring_schedule(MonitoringScheduleName= 'MLOPsDemo-staging-DataQuality')\n",
    "# client.delete_monitoring_schedule(MonitoringScheduleName= 'MLOPsDemo-staging-ModelExplainability')\n"
   ]
  },
  {
   "cell_type": "code",
   "execution_count": 49,
   "id": "e8eb5050",
   "metadata": {},
   "outputs": [],
   "source": [
    "response = client.create_monitoring_schedule(\n",
    "          MonitoringScheduleName=LR_schedular_name,#'wipcoe-pricing-real-time-monitor-pipeline-XGSchedular',\n",
    "          MonitoringScheduleConfig={\n",
    "              'ScheduleConfig': {\n",
    "                  'ScheduleExpression': schedule_expression\n",
    "              },\n",
    "              'MonitoringJobDefinition': {\n",
    "                  'BaselineConfig': {\n",
    "                      'ConstraintsResource': {\n",
    "                          'S3Uri': baseconstloc\n",
    "                      },\n",
    "                      'StatisticsResource': {\n",
    "                          'S3Uri': basestatloc\n",
    "                      }\n",
    "                  },\n",
    "                  'MonitoringInputs': [\n",
    "                      {\n",
    "                                  \"EndpointInput\": {\n",
    "                                      \"EndpointName\": EndpointName,\n",
    "                                      \"LocalPath\": \"/opt/ml/processing/input/monitoring_dataset_input\",\n",
    "                                      \"S3InputMode\": \"File\",\n",
    "                                      \"S3DataDistributionType\": \"FullyReplicated\",\n",
    "                                  }\n",
    "                              },\n",
    "                  ],\n",
    "                  'MonitoringOutputConfig': {\n",
    "                      'MonitoringOutputs': [\n",
    "                          {\n",
    "                              \"S3Output\": {\n",
    "                                  \"S3Uri\": monitorop,\n",
    "                                  \"LocalPath\": \"/opt/ml/processing/output\",\n",
    "                                  \"S3UploadMode\": \"EndOfJob\",\n",
    "                              }\n",
    "                          },\n",
    "                      ],\n",
    "                  },\n",
    "                  'MonitoringResources': {\n",
    "                      \"ClusterConfig\": {\n",
    "                          \"InstanceCount\": 1,\n",
    "                          \"InstanceType\": \"ml.m5.xlarge\",\n",
    "                          \"VolumeSizeInGB\": 100,\n",
    "                      }\n",
    "                  },\n",
    "                  'MonitoringAppSpecification': {\n",
    "                      \"ImageUri\": \"156813124566.dkr.ecr.us-east-1.amazonaws.com/sagemaker-model-monitor-analyzer\",\n",
    "                      \"RecordPreprocessorSourceUri\":\"s3://wipcoe-ml-s3-config-bucket/monitoring/inferpreprocessingscript.py\",\n",
    "                  },\n",
    "                  'StoppingCondition': {\n",
    "                      'MaxRuntimeInSeconds': 3600\n",
    "                  },\n",
    "                  'NetworkConfig': {\n",
    "                      'VpcConfig': {\n",
    "                          \"SecurityGroupIds\": sec_groups,\n",
    "                          \"Subnets\": subnets\n",
    "                      }\n",
    "                  },\n",
    "                  'RoleArn': execution_role\n",
    "              }\n",
    "          }\n",
    "        )\n"
   ]
  }
 ],
 "metadata": {
  "kernelspec": {
   "display_name": "conda_python3",
   "language": "python",
   "name": "conda_python3"
  },
  "language_info": {
   "codemirror_mode": {
    "name": "ipython",
    "version": 3
   },
   "file_extension": ".py",
   "mimetype": "text/x-python",
   "name": "python",
   "nbconvert_exporter": "python",
   "pygments_lexer": "ipython3",
   "version": "3.6.13"
  }
 },
 "nbformat": 4,
 "nbformat_minor": 5
}
