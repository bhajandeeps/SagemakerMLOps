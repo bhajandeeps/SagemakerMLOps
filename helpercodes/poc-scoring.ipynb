{
 "cells": [
  {
   "cell_type": "markdown",
   "id": "textile-elimination",
   "metadata": {},
   "source": [
    "### 1.1 Update score preprocessing script\n",
    "\n",
    "This is how we can update score preprocessing script"
   ]
  },
  {
   "cell_type": "code",
   "execution_count": 2,
   "id": "promotional-globe",
   "metadata": {},
   "outputs": [
    {
     "name": "stdout",
     "output_type": "stream",
     "text": [
      "Overwriting ../score_preprocessing/score_processing_script.py\n"
     ]
    }
   ],
   "source": [
    "%%writefile ../score_preprocessing/score_processing_script.py\n",
    "import pandas as pd\n",
    "import numpy as np\n",
    "import boto3\n",
    "def main():\n",
    "    data = pd.read_csv('s3://poc-sagemaker-step-function-bucketformodelanddata-iip9wy7qh0y0/dataset/bank-additional-full.csv', sep=';')\n",
    "    # Preprocess the data set\n",
    "    data['no_previous_contact'] = np.where(data['pdays'] == 999, 1, 0)                                 # Indicator variable to capture when pdays takes a value of 999\n",
    "    data['not_working'] = np.where(np.in1d(data['job'], ['student', 'retired', 'unemployed']), 1, 0)   # Indicator for individuals not actively employed\n",
    "    model_data = pd.get_dummies(data)\n",
    "    scoring_data = model_data.drop(['duration', 'emp.var.rate', 'cons.price.idx', 'cons.conf.idx', 'euribor3m', 'nr.employed'], axis=1)    \n",
    "    scoring_data.drop(['y_no', 'y_yes'], axis=1).to_csv('scoring.csv', index=False, header=False)\n",
    "    bucket = 'poc-sagemaker-step-function-bucketformodelanddata-iip9wy7qh0y0'\n",
    "    boto3.Session().resource('s3').Bucket(bucket).Object( 'scoring/scoring.csv').upload_file('scoring.csv')\n",
    "    print('Finished running processing job')\n",
    "if __name__ == \"__main__\":\n",
    "    main()\n"
   ]
  },
  {
   "cell_type": "markdown",
   "id": "essential-houston",
   "metadata": {},
   "source": [
    "### 1.2 Update score preprocessing parameter\n",
    "\n",
    "This is how we can update score parameters"
   ]
  },
  {
   "cell_type": "code",
   "execution_count": 3,
   "id": "derived-marking",
   "metadata": {},
   "outputs": [
    {
     "name": "stdout",
     "output_type": "stream",
     "text": [
      "Overwriting ../score_hyperparameters/parameter.json\n"
     ]
    }
   ],
   "source": [
    "%%writefile ../score_hyperparameters/parameter.json\n",
    "{\n",
    "    \"InputS3Location\": \"\",\n",
    "    \"OutputS3Location\":\"\"\n",
    "}"
   ]
  },
  {
   "cell_type": "markdown",
   "id": "finite-wesley",
   "metadata": {},
   "source": [
    "### 1.3 Trigger scoring pipeline "
   ]
  },
  {
   "cell_type": "code",
   "execution_count": 4,
   "id": "italic-healthcare",
   "metadata": {},
   "outputs": [
    {
     "name": "stdout",
     "output_type": "stream",
     "text": [
      "Completed 57 Bytes/57 Bytes (694 Bytes/s) with 1 file(s) remaining\r",
      "upload: ../score_hyperparameters/parameter.json to s3://poc-sagemaker-step-function-bucketformodelanddata-iip9wy7qh0y0/scoring/trigger_scoring/parameter.json\r\n"
     ]
    }
   ],
   "source": [
    "! aws s3 cp ../score_hyperparameters/parameter.json s3://poc-sagemaker-step-function-bucketformodelanddata-iip9wy7qh0y0/scoring/trigger_scoring/"
   ]
  },
  {
   "cell_type": "code",
   "execution_count": 3,
   "id": "dimensional-settlement",
   "metadata": {},
   "outputs": [
    {
     "name": "stdout",
     "output_type": "stream",
     "text": [
      "Warning: Permanently added the RSA host key for IP address '52.94.233.146' to the list of known hosts.\n",
      "remote: Counting objects: 34, done.\u001b[K\n",
      "Unpacking objects: 100% (34/34), done.\n",
      "From ssh://git-codecommit.us-east-1.amazonaws.com/v1/repos/poc-sagemaker-step-function\n",
      " * branch            dev        -> FETCH_HEAD\n",
      "   ab6ee0e..c66cd91  dev        -> origin/dev\n",
      "Updating ab6ee0e..c66cd91\n",
      "Fast-forward\n",
      " buildspec.yml                        | 8 \u001b[32m+++++\u001b[m\u001b[31m---\u001b[m\n",
      " cloudformation/scoring_cfn.yaml      | 2 \u001b[32m+\u001b[m\u001b[31m-\u001b[m\n",
      " cloudformation/training_cfn.yml      | 8 \u001b[32m++++++\u001b[m\u001b[31m--\u001b[m\n",
      " train_hyperparameters/parameter.json | 2 \u001b[32m+\u001b[m\u001b[31m-\u001b[m\n",
      " 4 files changed, 13 insertions(+), 7 deletions(-)\n"
     ]
    }
   ],
   "source": [
    "!git pull origin dev"
   ]
  },
  {
   "cell_type": "code",
   "execution_count": null,
   "id": "fallen-hawaii",
   "metadata": {},
   "outputs": [],
   "source": []
  }
 ],
 "metadata": {
  "kernelspec": {
   "display_name": "conda_python3",
   "language": "python",
   "name": "conda_python3"
  },
  "language_info": {
   "codemirror_mode": {
    "name": "ipython",
    "version": 3
   },
   "file_extension": ".py",
   "mimetype": "text/x-python",
   "name": "python",
   "nbconvert_exporter": "python",
   "pygments_lexer": "ipython3",
   "version": "3.6.13"
  }
 },
 "nbformat": 4,
 "nbformat_minor": 5
}
