{
 "cells": [
  {
   "cell_type": "markdown",
   "id": "2e008b11",
   "metadata": {},
   "source": [
    "## Introduction\n",
    "\n",
    "This notebook describes using the AWS Step Functions Data Science SDK to create and manage workflows. The Step Functions SDK is an open source library that allows data scientists to easily create and execute machine learning workflows using AWS Step Functions and Amazon SageMaker. For more information, see the following.\n",
    "* [AWS Step Functions](https://aws.amazon.com/step-functions/)\n",
    "* [AWS Step Functions Developer Guide](https://docs.aws.amazon.com/step-functions/latest/dg/welcome.html)\n",
    "* [AWS Step Functions Data Science SDK](https://aws-step-functions-data-science-sdk.readthedocs.io)\n",
    "\n",
    "In this notebook we will use the SDK to create steps, link them together to create a workflow, and execute the workflow in AWS Step Functions. "
   ]
  },
  {
   "cell_type": "code",
   "execution_count": 33,
   "id": "1ce63752",
   "metadata": {},
   "outputs": [],
   "source": [
    "# import sys\n",
    "# !{sys.executable} -m pip install --upgrade pip\n",
    "# !{sys.executable} -m pip install -qU awscli boto3 \"sagemaker>=2.0.0\"\n",
    "# !{sys.executable} -m pip install -qU \"stepfunctions>=2.0.0\"\n",
    "# !{sys.executable} -m pip show sagemaker stepfunctions"
   ]
  },
  {
   "cell_type": "markdown",
   "id": "2ad6feba",
   "metadata": {},
   "source": [
    "## Prequisite "
   ]
  },
  {
   "cell_type": "markdown",
   "id": "b02b727f",
   "metadata": {},
   "source": [
    "It is assumed that lambda functions for checking if model already exist or not and required IAM roles for Sagemaker, Step function is already created. <br/>\n",
    "In this notebook we are going to use Step Functions SDK build-up for Sagemaker\n"
   ]
  },
  {
   "cell_type": "markdown",
   "id": "68756cc8",
   "metadata": {},
   "source": [
    "## 1. Preprocessing logic script\n",
    "\n",
    "Below is the preprocessing logic script which we will upload on S3 it will be used in preprocessing job. These scripts are the logic script which we have generated for preprocessing activities. Upload it on S3 and then we can use it as the parameter."
   ]
  },
  {
   "cell_type": "code",
   "execution_count": 10,
   "id": "26b5e496",
   "metadata": {},
   "outputs": [
    {
     "ename": "FileNotFoundError",
     "evalue": "[Errno 2] No such file or directory: '/titanic/train/train.csv'",
     "output_type": "error",
     "traceback": [
      "\u001b[0;31m---------------------------------------------------------------------------\u001b[0m",
      "\u001b[0;31mFileNotFoundError\u001b[0m                         Traceback (most recent call last)",
      "\u001b[0;32m<ipython-input-10-36d7a1e6bae1>\u001b[0m in \u001b[0;36m<module>\u001b[0;34m\u001b[0m\n\u001b[1;32m     53\u001b[0m \u001b[0;31m#train_data.to_csv('/opt/ml/processing/trainbase/train_baseline.csv', index=False, header=True) # baseline data\u001b[0m\u001b[0;34m\u001b[0m\u001b[0;34m\u001b[0m\u001b[0;34m\u001b[0m\u001b[0m\n\u001b[1;32m     54\u001b[0m \u001b[0;31m#local path\u001b[0m\u001b[0;34m\u001b[0m\u001b[0;34m\u001b[0m\u001b[0;34m\u001b[0m\u001b[0m\n\u001b[0;32m---> 55\u001b[0;31m \u001b[0mtrain_data\u001b[0m\u001b[0;34m.\u001b[0m\u001b[0mto_csv\u001b[0m\u001b[0;34m(\u001b[0m\u001b[0;34m'/titanic/train/train.csv'\u001b[0m\u001b[0;34m,\u001b[0m \u001b[0mindex\u001b[0m\u001b[0;34m=\u001b[0m\u001b[0;32mFalse\u001b[0m\u001b[0;34m,\u001b[0m \u001b[0mheader\u001b[0m\u001b[0;34m=\u001b[0m\u001b[0;32mFalse\u001b[0m\u001b[0;34m)\u001b[0m \u001b[0;31m# train data\u001b[0m\u001b[0;34m\u001b[0m\u001b[0;34m\u001b[0m\u001b[0m\n\u001b[0m\u001b[1;32m     56\u001b[0m \u001b[0mtrain_data\u001b[0m\u001b[0;34m.\u001b[0m\u001b[0mto_csv\u001b[0m\u001b[0;34m(\u001b[0m\u001b[0;34m'/titanic/baseline/train_baseline.csv'\u001b[0m\u001b[0;34m,\u001b[0m \u001b[0mindex\u001b[0m\u001b[0;34m=\u001b[0m\u001b[0;32mFalse\u001b[0m\u001b[0;34m,\u001b[0m \u001b[0mheader\u001b[0m\u001b[0;34m=\u001b[0m\u001b[0;32mTrue\u001b[0m\u001b[0;34m)\u001b[0m \u001b[0;31m# baseline data\u001b[0m\u001b[0;34m\u001b[0m\u001b[0;34m\u001b[0m\u001b[0m\n\u001b[1;32m     57\u001b[0m \u001b[0mvalidbsline_data\u001b[0m\u001b[0;34m=\u001b[0m\u001b[0mvalidation_data\u001b[0m\u001b[0;34m.\u001b[0m\u001b[0mcopy\u001b[0m\u001b[0;34m(\u001b[0m\u001b[0;34m)\u001b[0m\u001b[0;34m\u001b[0m\u001b[0;34m\u001b[0m\u001b[0m\n",
      "\u001b[0;32m~/anaconda3/envs/python3/lib/python3.6/site-packages/pandas/core/generic.py\u001b[0m in \u001b[0;36mto_csv\u001b[0;34m(self, path_or_buf, sep, na_rep, float_format, columns, header, index, index_label, mode, encoding, compression, quoting, quotechar, line_terminator, chunksize, date_format, doublequote, escapechar, decimal, errors)\u001b[0m\n\u001b[1;32m   3168\u001b[0m             \u001b[0mdecimal\u001b[0m\u001b[0;34m=\u001b[0m\u001b[0mdecimal\u001b[0m\u001b[0;34m,\u001b[0m\u001b[0;34m\u001b[0m\u001b[0;34m\u001b[0m\u001b[0m\n\u001b[1;32m   3169\u001b[0m         )\n\u001b[0;32m-> 3170\u001b[0;31m         \u001b[0mformatter\u001b[0m\u001b[0;34m.\u001b[0m\u001b[0msave\u001b[0m\u001b[0;34m(\u001b[0m\u001b[0;34m)\u001b[0m\u001b[0;34m\u001b[0m\u001b[0;34m\u001b[0m\u001b[0m\n\u001b[0m\u001b[1;32m   3171\u001b[0m \u001b[0;34m\u001b[0m\u001b[0m\n\u001b[1;32m   3172\u001b[0m         \u001b[0;32mif\u001b[0m \u001b[0mpath_or_buf\u001b[0m \u001b[0;32mis\u001b[0m \u001b[0;32mNone\u001b[0m\u001b[0;34m:\u001b[0m\u001b[0;34m\u001b[0m\u001b[0;34m\u001b[0m\u001b[0m\n",
      "\u001b[0;32m~/anaconda3/envs/python3/lib/python3.6/site-packages/pandas/io/formats/csvs.py\u001b[0m in \u001b[0;36msave\u001b[0;34m(self)\u001b[0m\n\u001b[1;32m    188\u001b[0m                 \u001b[0mencoding\u001b[0m\u001b[0;34m=\u001b[0m\u001b[0mself\u001b[0m\u001b[0;34m.\u001b[0m\u001b[0mencoding\u001b[0m\u001b[0;34m,\u001b[0m\u001b[0;34m\u001b[0m\u001b[0;34m\u001b[0m\u001b[0m\n\u001b[1;32m    189\u001b[0m                 \u001b[0merrors\u001b[0m\u001b[0;34m=\u001b[0m\u001b[0mself\u001b[0m\u001b[0;34m.\u001b[0m\u001b[0merrors\u001b[0m\u001b[0;34m,\u001b[0m\u001b[0;34m\u001b[0m\u001b[0;34m\u001b[0m\u001b[0m\n\u001b[0;32m--> 190\u001b[0;31m                 \u001b[0mcompression\u001b[0m\u001b[0;34m=\u001b[0m\u001b[0mdict\u001b[0m\u001b[0;34m(\u001b[0m\u001b[0mself\u001b[0m\u001b[0;34m.\u001b[0m\u001b[0mcompression_args\u001b[0m\u001b[0;34m,\u001b[0m \u001b[0mmethod\u001b[0m\u001b[0;34m=\u001b[0m\u001b[0mself\u001b[0m\u001b[0;34m.\u001b[0m\u001b[0mcompression\u001b[0m\u001b[0;34m)\u001b[0m\u001b[0;34m,\u001b[0m\u001b[0;34m\u001b[0m\u001b[0;34m\u001b[0m\u001b[0m\n\u001b[0m\u001b[1;32m    191\u001b[0m             )\n\u001b[1;32m    192\u001b[0m             \u001b[0mclose\u001b[0m \u001b[0;34m=\u001b[0m \u001b[0;32mTrue\u001b[0m\u001b[0;34m\u001b[0m\u001b[0;34m\u001b[0m\u001b[0m\n",
      "\u001b[0;32m~/anaconda3/envs/python3/lib/python3.6/site-packages/pandas/io/common.py\u001b[0m in \u001b[0;36mget_handle\u001b[0;34m(path_or_buf, mode, encoding, compression, memory_map, is_text, errors)\u001b[0m\n\u001b[1;32m    491\u001b[0m         \u001b[0;32mif\u001b[0m \u001b[0mencoding\u001b[0m\u001b[0;34m:\u001b[0m\u001b[0;34m\u001b[0m\u001b[0;34m\u001b[0m\u001b[0m\n\u001b[1;32m    492\u001b[0m             \u001b[0;31m# Encoding\u001b[0m\u001b[0;34m\u001b[0m\u001b[0;34m\u001b[0m\u001b[0;34m\u001b[0m\u001b[0m\n\u001b[0;32m--> 493\u001b[0;31m             \u001b[0mf\u001b[0m \u001b[0;34m=\u001b[0m \u001b[0mopen\u001b[0m\u001b[0;34m(\u001b[0m\u001b[0mpath_or_buf\u001b[0m\u001b[0;34m,\u001b[0m \u001b[0mmode\u001b[0m\u001b[0;34m,\u001b[0m \u001b[0mencoding\u001b[0m\u001b[0;34m=\u001b[0m\u001b[0mencoding\u001b[0m\u001b[0;34m,\u001b[0m \u001b[0merrors\u001b[0m\u001b[0;34m=\u001b[0m\u001b[0merrors\u001b[0m\u001b[0;34m,\u001b[0m \u001b[0mnewline\u001b[0m\u001b[0;34m=\u001b[0m\u001b[0;34m\"\"\u001b[0m\u001b[0;34m)\u001b[0m\u001b[0;34m\u001b[0m\u001b[0;34m\u001b[0m\u001b[0m\n\u001b[0m\u001b[1;32m    494\u001b[0m         \u001b[0;32melif\u001b[0m \u001b[0mis_text\u001b[0m\u001b[0;34m:\u001b[0m\u001b[0;34m\u001b[0m\u001b[0;34m\u001b[0m\u001b[0m\n\u001b[1;32m    495\u001b[0m             \u001b[0;31m# No explicit encoding\u001b[0m\u001b[0;34m\u001b[0m\u001b[0;34m\u001b[0m\u001b[0;34m\u001b[0m\u001b[0m\n",
      "\u001b[0;31mFileNotFoundError\u001b[0m: [Errno 2] No such file or directory: '/titanic/train/train.csv'"
     ]
    },
    {
     "data": {
      "image/png": "[encoded data removed]",
      "text/plain": [
       "<Figure size 432x288 with 1 Axes>"
      ]
     },
     "metadata": {
      "needs_background": "light"
     },
     "output_type": "display_data"
    }
   ],
   "source": [
    "%%writefile Titanic-preprocessing-linear-learner-script.py\n",
    "# Importing required library\n",
    "# Importing required library\n",
    "import pandas as pd\n",
    "import numpy as np\n",
    "from sklearn.impute import SimpleImputer\n",
    "import glob\n",
    "# you can put any value here according to your situation\n",
    "chunksize = 10000\n",
    "from sklearn import preprocessing\n",
    "path = r'/opt/ml/processing/input' # Input path\n",
    "all_files = glob.glob(path + \"/*.csv\")\n",
    "#read them into pandas\n",
    "df_list = [pd.read_csv(filename) for filename in all_files]\n",
    "data = pd.concat(df_list)\n",
    "df = data.copy()\n",
    "#change this as per the data set\n",
    "df.drop(columns=['Unnamed: 0', 'url', 'region', 'region_url', 'VIN', 'size', 'image_url', 'description', 'state', 'lat', 'long','posting_date'], inplace=True)\n",
    "imr = SimpleImputer(strategy='mean')\n",
    "imr = imr.fit(df[['odometer']])\n",
    "imputed_data = imr.transform(df[['odometer']])\n",
    "df['odometer'] = pd.DataFrame(imputed_data)\n",
    "def encode_features(dataframe):\n",
    "    result = dataframe.copy()\n",
    "    encoders = {}\n",
    "    for column in result.columns:\n",
    "        if column in['year','odometer','id']:\n",
    "            result[column]=result[column]\n",
    "            #result[column].fillna(2018)\n",
    "        elif result.dtypes[column] == np.object:\n",
    "            encoders[column] = preprocessing.LabelEncoder()\n",
    "            result[column] = encoders[column].fit_transform(result[column])\n",
    "    return result, encoders\n",
    "\n",
    "encoded_df, encoders = encode_features(df.astype(str)) \n",
    "encoded_df=encoded_df[encoded_df['year']!='nan']\n",
    "#split train test , change if diff split is required\n",
    "train_data, validation_data, test_data = np.split(encoded_df.sample(frac=1, random_state=1729), [int(0.7 * len(encoded_df)), int(0.9*len(encoded_df))]) # Splitting dataset \n",
    "train_data=train_data.drop(columns=['id'])#id is used for ground truth, if there is no id column in data create custom and use that\n",
    "train_data.to_csv('/opt/ml/processing/train/train.csv', index=False, header=False) # train data\n",
    "train_data.to_csv('/opt/ml/processing/trainbase/train_baseline.csv', index=False, header=True) # baseline data\n",
    "validbsline_data=validation_data.copy()\n",
    "validation_data=validation_data.drop(columns=['id'])#id is used for ground truth, if there is no id column in data create custom and use that\n",
    "validation_data.to_csv('/opt/ml/processing/validation/validation_data.csv', index=False, header=False) # validation data\n",
    "validbsline= validbsline_data.drop(columns=['price']) # removing cloumn where we have to do predictions\n",
    "validbsline.to_csv('/opt/ml/processing/baselinemodeldrift/baselinemodeldrift.csv', index=False, header=False)\n",
    "#validation data without label---one set\n",
    "groundtrth=validbsline_data[['id','price']]#ground truth data should/only have Id,TargetVal colmun to corelate ground truth with predicted values \n",
    "groundtrth.to_csv('/opt/ml/processing/groundtruth/groundtruth.csv', index=False, header=True)\n",
    "#ground truth (only label and ID)--2nd set\n",
    "test_data = test_data.iloc[:,1:] # removing cloumn where we have to do predictions\n",
    "test_data.to_csv('/opt/ml/processing/test/test.csv', index=False, header=False) # test data "
   ]
  },
  {
   "cell_type": "code",
   "execution_count": 12,
   "id": "352eaf0a",
   "metadata": {},
   "outputs": [],
   "source": [
    "train_data.to_csv('train.csv', index=False, header=False) # train data"
   ]
  },
  {
   "cell_type": "code",
   "execution_count": 2,
   "id": "a8b738d8",
   "metadata": {},
   "outputs": [
    {
     "ename": "NameError",
     "evalue": "name 'encoded_df' is not defined",
     "output_type": "error",
     "traceback": [
      "\u001b[0;31m---------------------------------------------------------------------------\u001b[0m",
      "\u001b[0;31mNameError\u001b[0m                                 Traceback (most recent call last)",
      "\u001b[0;32m<ipython-input-2-3f24634f2215>\u001b[0m in \u001b[0;36m<module>\u001b[0;34m\u001b[0m\n\u001b[0;32m----> 1\u001b[0;31m \u001b[0mencoded_df\u001b[0m\u001b[0;34m\u001b[0m\u001b[0;34m\u001b[0m\u001b[0m\n\u001b[0m",
      "\u001b[0;31mNameError\u001b[0m: name 'encoded_df' is not defined"
     ]
    }
   ],
   "source": [
    "encoded_df"
   ]
  },
  {
   "cell_type": "markdown",
   "id": "880087de",
   "metadata": {},
   "source": [
    "## 2. Parameter\n",
    "\n",
    "Below are the list of paramters which we have to change inorder to run below sdk\n"
   ]
  },
  {
   "cell_type": "code",
   "execution_count": 3,
   "id": "15851356",
   "metadata": {},
   "outputs": [],
   "source": [
    "import sagemaker"
   ]
  },
  {
   "cell_type": "code",
   "execution_count": 36,
   "id": "a574c9f9",
   "metadata": {},
   "outputs": [],
   "source": [
    "v_workflow_execution_role = \"arn:aws:iam::525102048888:role/poc-sagemaker-step-functi-MachineLearningWorkflowE-1XFI2UPRXFTXE\" # Step function IAM role ARN\n",
    "v_preprocessing_iam_role = \"arn:aws:iam::525102048888:role/service-role/AmazonSageMaker-ExecutionRole-20191105T125227\" # IAM role for preprocessing container\n",
    "v_lambda_execution_role = \"arn:aws:iam::525102048888:role/poc-sagemaker-step-functi-LambaForDataGenerationEx-PKONGQTFWLRF\"\n",
    "v_preprocessing_instance_type = \"ml.m5.xlarge\" # Instance type for preprocessing container it changes as per workload\n",
    "v_s3_input_bucket = \"ds-mlops-dev\" # S3 bucket for input and output data\n",
    "v_prefix_for_input_data = \"data/input/inputdata.csv\"  # Prefix where data is stored\n",
    "v_prefix_for_code_location = \"code/ds-mlops-preprocessing_linear-learner_script.py\" # prefix where code is stored\n",
    "v_lambda_function_name = \"ds-mlops-linear-learner-lambda-test\" # Name of lambda function for triggering training pipeline.\n",
    "v_region = 'us-east-1' # AWS region\n",
    "v_model_container = sagemaker.image_uris.retrieve('linear-learner', v_region) # Linear conatiner\n",
    "v_train_instance_type = \"ml.m5.xlarge\" # Instance type for training\n",
    "v_validation_scoring_instance_type = \"ml.m5.large\" # Instance type for batch scoring\n",
    "v_model_name = \"ds-mlops-linear-learner-02\" # Name of DS_MLOPS model to be kept\n",
    "# VV added after design review\n",
    "v_threshold=3000\n",
    "v_prefix_for_train_lambda=\"code/query_training_status.zip\"\n",
    "##\n",
    "sec_groups = [\"sg-044e0e7ce4f5721c0\"]\n",
    "subnets = [\"subnet-0cf0e3f46326aa259\",\n",
    "           \"subnet-0156b7f5500cf0b78\",\n",
    "           \"subnet-032420199163cff9b\"]"
   ]
  },
  {
   "cell_type": "markdown",
   "id": "b565a6cc",
   "metadata": {},
   "source": [
    "## 3 Import the required modules from the SDK and uploading code to s3"
   ]
  },
  {
   "cell_type": "code",
   "execution_count": 37,
   "id": "9712fcd2",
   "metadata": {},
   "outputs": [],
   "source": [
    "import stepfunctions\n",
    "import logging\n",
    "\n",
    "from stepfunctions.steps import *\n",
    "from stepfunctions.workflow import Workflow\n",
    "from stepfunctions import steps\n",
    "from stepfunctions.inputs import ExecutionInput\n",
    "from sagemaker.processing import Processor,ProcessingInput, ProcessingOutput\n",
    "import uuid\n",
    "import sagemaker\n",
    "from sagemaker.inputs import TrainingInput\n",
    "import boto3\n",
    "from sagemaker.network import NetworkConfig\n",
    "\n",
    "stepfunctions.set_stream_logger(level=logging.INFO)"
   ]
  },
  {
   "cell_type": "code",
   "execution_count": 38,
   "id": "c2e45658",
   "metadata": {},
   "outputs": [
    {
     "name": "stdout",
     "output_type": "stream",
     "text": [
      "Completed 1.7 KiB/1.7 KiB (24.3 KiB/s) with 1 file(s) remaining\r",
      "upload: ./ds-mlops-preprocessing-linear-learner-script.py to s3://ds-mlops-dev/code/ds-mlops-preprocessing_linear-learner_script.py\r\n"
     ]
    }
   ],
   "source": [
    "!aws s3 cp ds-mlops-preprocessing-linear-learner-script.py s3://$v_s3_input_bucket/$v_prefix_for_code_location # Uploading preprocessing code on s3"
   ]
  },
  {
   "cell_type": "markdown",
   "id": "a40e97fd",
   "metadata": {},
   "source": [
    "#added below lambda for query training status to read metric values"
   ]
  },
  {
   "cell_type": "code",
   "execution_count": 39,
   "id": "70379f19",
   "metadata": {},
   "outputs": [
    {
     "name": "stdout",
     "output_type": "stream",
     "text": [
      "Overwriting query_training_status.py\n"
     ]
    }
   ],
   "source": [
    "%%writefile query_training_status.py\n",
    "import boto3\n",
    "import logging\n",
    "import json\n",
    "\n",
    "logger = logging.getLogger()\n",
    "logger.setLevel(logging.INFO)\n",
    "sm_client = boto3.client('sagemaker')\n",
    "\n",
    "#Retrieve transform job name from event and return transform job status.\n",
    "def lambda_handler(event, context):\n",
    "\n",
    "    if ('TrainingJobName' in event):\n",
    "        job_name = event['TrainingJobName']\n",
    "\n",
    "    else:\n",
    "        raise KeyError('TrainingJobName key not found in function input!'+\n",
    "                      ' The input received was: {}.'.format(json.dumps(event)))\n",
    "\n",
    "    #Query boto3 API to check training status.\n",
    "    try:\n",
    "        response = sm_client.describe_training_job(TrainingJobName=job_name)\n",
    "        logger.info(\"Training job:{} has status:{}.\".format(job_name,\n",
    "            response['TrainingJobStatus']))\n",
    "\n",
    "    except Exception as e:\n",
    "        response = ('Failed to read training status!'+ \n",
    "                    ' The training job may not exist or the job name may be incorrect.'+ \n",
    "                    ' Check SageMaker to confirm the job name.')\n",
    "        print(e)\n",
    "        print('{} Attempted to read job name: {}.'.format(response, job_name))\n",
    "\n",
    "    #We can't marshall datetime objects in JSON response. So convert\n",
    "    #all datetime objects returned to unix time.\n",
    "    for index, metric in enumerate(response['FinalMetricDataList']):\n",
    "        metric['Timestamp'] = metric['Timestamp'].timestamp()\n",
    "\n",
    "    return {\n",
    "        'statusCode': 200,\n",
    "        'trainingMetrics': response['FinalMetricDataList']\n",
    "    }\n"
   ]
  },
  {
   "cell_type": "code",
   "execution_count": 40,
   "id": "b7704dd2",
   "metadata": {},
   "outputs": [
    {
     "name": "stdout",
     "output_type": "stream",
     "text": [
      "updating: query_training_status.py (deflated 55%)\r\n"
     ]
    }
   ],
   "source": [
    "## VV added after review\n",
    "! zip query_training_status.zip query_training_status.py"
   ]
  },
  {
   "cell_type": "code",
   "execution_count": 41,
   "id": "a31f302b",
   "metadata": {},
   "outputs": [
    {
     "name": "stdout",
     "output_type": "stream",
     "text": [
      "Completed 846 Bytes/846 Bytes (11.1 KiB/s) with 1 file(s) remaining\r",
      "upload: ./query_training_status.zip to s3://ds-mlops-dev/code/query_training_status.zip\r\n"
     ]
    }
   ],
   "source": [
    "## VV added after review\n",
    "! aws s3 cp query_training_status.zip s3://$v_s3_input_bucket/$v_prefix_for_train_lambda"
   ]
  },
  {
   "cell_type": "code",
   "execution_count": 42,
   "id": "0821ba5b",
   "metadata": {},
   "outputs": [
    {
     "name": "stdout",
     "output_type": "stream",
     "text": [
      "exception\n"
     ]
    }
   ],
   "source": [
    "## VV added after review\n",
    "function_name = 'LinearLearnerQuery-training-status'\n",
    "try:\n",
    "    lambda_client = boto3.client('lambda')\n",
    "    response = lambda_client.create_function(\n",
    "        FunctionName=function_name,\n",
    "        Runtime='python3.7',\n",
    "        Role=v_lambda_execution_role,\n",
    "        Handler='query_training_status.lambda_handler',\n",
    "        Code={\n",
    "            'S3Bucket':v_s3_input_bucket,\n",
    "            'S3Key': '{}'.format(v_s3_input_bucket)\n",
    "        },\n",
    "        Description='Queries a SageMaker training job and return the results.',\n",
    "        Timeout=15,\n",
    "        MemorySize=128\n",
    "    )\n",
    "except:\n",
    "    print(\"exception\")"
   ]
  },
  {
   "cell_type": "markdown",
   "id": "681e706b",
   "metadata": {},
   "source": [
    "## 4. Create workflow\n",
    "\n",
    "In the following cell, you will define the step that you will use in our first workflow.  Then you will create, visualize and execute the workflow. \n",
    "\n",
    "Steps relate to states in AWS Step Functions. For more information, see [States](https://docs.aws.amazon.com/step-functions/latest/dg/concepts-states.html) in the *AWS Step Functions Developer Guide*. For more information on the AWS Step Functions Data Science SDK APIs, see: https://aws-step-functions-data-science-sdk.readthedocs.io. "
   ]
  },
  {
   "cell_type": "markdown",
   "id": "0614eb86",
   "metadata": {},
   "source": [
    "## 4.1 Creating Pre-Processing step"
   ]
  },
  {
   "cell_type": "code",
   "execution_count": 43,
   "id": "27b57c1a",
   "metadata": {},
   "outputs": [],
   "source": [
    "processor = Processor(image_uri='683313688378.dkr.ecr.us-east-1.amazonaws.com/sagemaker-scikit-learn:0.20.0-cpu-py3',\n",
    "                     role=v_preprocessing_iam_role,\n",
    "                     instance_count=1,\n",
    "                     instance_type=v_preprocessing_instance_type,\n",
    "                      network_config = NetworkConfig(security_group_ids = sec_groups, subnets = subnets))"
   ]
  },
  {
   "cell_type": "code",
   "execution_count": 44,
   "id": "9be8bf86",
   "metadata": {},
   "outputs": [],
   "source": [
    "input_data = \"s3://{}/{}\".format(\"poc-sagemaker-step-function-bucketformodelanddata-iip9wy7qh0y0\",\"vci/data/input/vehicles.csv\")\n",
    "input_code = \"s3://{}/{}\".format(v_s3_input_bucket,v_prefix_for_code_location)\n",
    "output_data = \"s3://{}/{}\".format(v_s3_input_bucket,\"preprocess-data\")\n",
    "\n",
    "inputs = [\n",
    "    ProcessingInput(\n",
    "        source=input_data, destination=\"/opt/ml/processing/input\", input_name=\"input\"\n",
    "    ),\n",
    "    ProcessingInput(\n",
    "        source=input_code,\n",
    "        destination=\"/opt/ml/processing/input/code\",\n",
    "        input_name=\"code\",\n",
    "    ),\n",
    "]\n",
    "\n",
    "outputs = [\n",
    "    ProcessingOutput(\n",
    "        source=\"/opt/ml/processing/train\",\n",
    "        destination=\"{}/{}\".format(output_data,\"train\"),\n",
    "        output_name=\"train_data\",\n",
    "    ),\n",
    "    ProcessingOutput(\n",
    "        source=\"/opt/ml/processing/test\",\n",
    "        destination=\"{}/{}\".format(output_data, \"test\"),\n",
    "        output_name=\"test_data\",\n",
    "    ),\n",
    "    ProcessingOutput(\n",
    "        source=\"/opt/ml/processing/validation\",\n",
    "        destination=\"{}/{}\".format(output_data, \"validation\"),\n",
    "        output_name=\"validation_data\",\n",
    "    )\n",
    "]"
   ]
  },
  {
   "cell_type": "code",
   "execution_count": 45,
   "id": "2424024c",
   "metadata": {},
   "outputs": [
    {
     "name": "stdout",
     "output_type": "stream",
     "text": [
      "s3://poc-sagemaker-step-function-bucketformodelanddata-iip9wy7qh0y0/vci/data/input/vehicles.csv\n"
     ]
    }
   ],
   "source": [
    "print(input_data)"
   ]
  },
  {
   "cell_type": "code",
   "execution_count": 46,
   "id": "bf8fce8c",
   "metadata": {},
   "outputs": [],
   "source": [
    "# Generate unique names for Pre-Processing Job, Training Job, and Model Evaluation Job for the Step Functions Workflow\n",
    "training_job_name = \"linear-learner-training-{}\".format(\n",
    "    uuid.uuid1().hex\n",
    ")  # Each Training Job requires a unique name\n",
    "preprocessing_job_name = \"linear-learner-preprocessing-{}\".format(\n",
    "    uuid.uuid1().hex\n",
    ")  # Each Preprocessing job requires a unique name,\n",
    "evaluation_job_name = \"linear-learner-evaluation-{}\".format(\n",
    "    uuid.uuid1().hex\n",
    ")  # Each Evaluation Job requires a unique name\n",
    "scoring_job_name = \"linear-learner-score-{}\".format(\n",
    "    uuid.uuid1().hex\n",
    ")  # Each Evaluation Job requires a unique name"
   ]
  },
  {
   "cell_type": "code",
   "execution_count": 47,
   "id": "cf532b4d",
   "metadata": {},
   "outputs": [],
   "source": [
    "# SageMaker expects unique names for each job, model and endpoint.\n",
    "# If these names are not unique the execution will fail. Pass these dynamically for each execution using placeholders.\n",
    "\n",
    "##VV updated after review\n",
    "\n",
    "execution_input = ExecutionInput(\n",
    "    schema={\n",
    "        \"PreprocessingJobName\": str,\n",
    "        \"TrainingJobName\": str,\n",
    "        \"EvaluationProcessingJobName\": str,\n",
    "        \"ModelName\": str,\n",
    "        \"EndPointConfig\":str,\n",
    "        \"EndpointName\":str,\n",
    "        \"ScoreJobName\":str\n",
    "    }\n",
    ")"
   ]
  },
  {
   "cell_type": "code",
   "execution_count": 48,
   "id": "7038db63",
   "metadata": {},
   "outputs": [],
   "source": [
    "preprocessing_step = ProcessingStep(\n",
    "    state_id='Pre-processing', \n",
    "    processor=processor,\n",
    "    job_name=execution_input[\"PreprocessingJobName\"], \n",
    "    inputs=inputs, \n",
    "    outputs=outputs, \n",
    "    experiment_config=None, \n",
    "    container_entrypoint=[\"python3\", \"/opt/ml/processing/input/code/ds-mlops-preprocessing_linear-learner_script.py\"], # DS needs to change this directory /path\n",
    "    wait_for_completion=True\n",
    ")"
   ]
  },
  {
   "cell_type": "markdown",
   "id": "dd153af3",
   "metadata": {},
   "source": [
    "## 4.2 Train trigger lambda function (Check if model with same name exists)"
   ]
  },
  {
   "cell_type": "markdown",
   "id": "7787e8ef",
   "metadata": {},
   "source": [
    "In the following cell, we define a lambda step that will invoke the previously created lambda function as part of our Step Function workflow. See [LambdaStep](https://aws-step-functions-data-science-sdk.readthedocs.io/en/latest/compute.html#stepfunctions.steps.compute.LambdaStep) in the AWS Step Functions Data Science SDK documentation to learn more."
   ]
  },
  {
   "cell_type": "code",
   "execution_count": 49,
   "id": "a8aa1546",
   "metadata": {},
   "outputs": [],
   "source": [
    "client = boto3.client('sagemaker') # getting sagemaker client \n",
    "try:\n",
    "    client.delete_model(\n",
    "        ModelName=v_model_name # delete if some model exist with this name\n",
    "    )\n",
    "except:\n",
    "    pass"
   ]
  },
  {
   "cell_type": "code",
   "execution_count": 50,
   "id": "7a4bb344",
   "metadata": {},
   "outputs": [],
   "source": [
    "lambda_step = compute.LambdaStep(\n",
    "    'Start Training',\n",
    "    parameters={  \n",
    "        \"FunctionName\": v_lambda_function_name\n",
    "    }\n",
    ")"
   ]
  },
  {
   "cell_type": "code",
   "execution_count": 51,
   "id": "eb979718",
   "metadata": {},
   "outputs": [],
   "source": [
    "##VV added after review\n",
    "lambda_step_acc = compute.LambdaStep(\n",
    "    'Query Training Results',\n",
    "    parameters={  \n",
    "        \"FunctionName\": function_name,\n",
    "        'Payload':{\n",
    "            \"TrainingJobName.$\": '$.TrainingJobName'\n",
    "        }\n",
    "    }\n",
    ")"
   ]
  },
  {
   "cell_type": "code",
   "execution_count": 52,
   "id": "60549ef2",
   "metadata": {},
   "outputs": [],
   "source": [
    "##VV added after review\n",
    "check_accuracy_step = steps.states.Choice(\n",
    "    'RMSE < Threshold'\n",
    ")"
   ]
  },
  {
   "cell_type": "code",
   "execution_count": 53,
   "id": "e346e0df",
   "metadata": {},
   "outputs": [],
   "source": [
    "##VV added after review\n",
    "fail_step = steps.states.Fail(\n",
    "    'Model Accuracy Too Low',\n",
    "    comment='Validation accuracy lower than threshold'\n",
    ")"
   ]
  },
  {
   "cell_type": "markdown",
   "id": "d78db2a3",
   "metadata": {},
   "source": [
    "## 4.3 Train model"
   ]
  },
  {
   "cell_type": "markdown",
   "id": "d11dc839",
   "metadata": {},
   "source": [
    "### Create a SageMaker Training Step \n",
    "\n",
    "In the following cell, we create the training step and pass the estimator we defined above. See  [TrainingStep](https://aws-step-functions-data-science-sdk.readthedocs.io/en/latest/sagemaker.html#stepfunctions.steps.sagemaker.TrainingStep) in the AWS Step Functions Data Science SDK documentation to learn more."
   ]
  },
  {
   "cell_type": "code",
   "execution_count": 54,
   "id": "437eed2a",
   "metadata": {},
   "outputs": [],
   "source": [
    "sess = sagemaker.Session()\n",
    "training_output = 's3://{}/models'.format(v_s3_input_bucket) # model output locations\n",
    "linear = sagemaker.estimator.Estimator(v_model_container,\n",
    "                                       v_preprocessing_iam_role, \n",
    "                                       instance_count = 1, \n",
    "                                       instance_type = 'ml.m5.xlarge',\n",
    "                                       output_path=training_output,\n",
    "                                       sagemaker_session = sess,\n",
    "                                       security_group_ids=sec_groups,\n",
    "                                       subnets=subnets)\n",
    "\n",
    "linear.set_hyperparameters(epochs = 50,\n",
    "                           l1 = 0.00035080090763972647,\n",
    "                           learning_rate = 0.000199542496841376,\n",
    "                           mini_batch_size = 512,\n",
    "                           predictor_type = \"regressor\")"
   ]
  },
  {
   "cell_type": "code",
   "execution_count": 55,
   "id": "5ef3add4",
   "metadata": {},
   "outputs": [],
   "source": [
    "training_step = TrainingStep(\n",
    "    'Model Training(linear)', \n",
    "    estimator=linear,\n",
    "    data={\n",
    "        'train': TrainingInput(\"{}/{}\".format(output_data,\"train\"), content_type='text/csv'),\n",
    "        'validation': TrainingInput(\"{}/{}\".format(output_data, \"validation\"), content_type='text/csv')\n",
    "    },\n",
    "    job_name=execution_input['TrainingJobName'],\n",
    "    wait_for_completion=True\n",
    ")"
   ]
  },
  {
   "cell_type": "markdown",
   "id": "c0e05e26",
   "metadata": {},
   "source": [
    "## 4.4 Create a Model\n",
    "\n",
    "In the following cell, we define a model step that will create a model in Amazon SageMaker using the artifacts created during the TrainingStep. See  [ModelStep](https://aws-step-functions-data-science-sdk.readthedocs.io/en/latest/sagemaker.html#stepfunctions.steps.sagemaker.ModelStep) in the AWS Step Functions Data Science SDK documentation to learn more.\n",
    "\n",
    "The model creation step typically follows the training step. The Step Functions SDK provides the [get_expected_model](https://aws-step-functions-data-science-sdk.readthedocs.io/en/latest/sagemaker.html#stepfunctions.steps.sagemaker.TrainingStep.get_expected_model) method in the TrainingStep class to provide a reference for the trained model artifacts. Please note that this method is only useful when the ModelStep directly follows the TrainingStep."
   ]
  },
  {
   "cell_type": "code",
   "execution_count": 56,
   "id": "9dc4fd2c",
   "metadata": {},
   "outputs": [],
   "source": [
    "model_step = ModelStep(\n",
    "    'Save Model',\n",
    "    model=training_step.get_expected_model(),\n",
    "    model_name=execution_input['ModelName'],\n",
    "    result_path='$.ModelStepResults'\n",
    ")"
   ]
  },
  {
   "cell_type": "markdown",
   "id": "d0e2d363",
   "metadata": {},
   "source": [
    "## 4.5 Create a batch transform step\n",
    "\n",
    "Now once all the above steps are done we will perform scoring on a small data set to see all the components are working fine"
   ]
  },
  {
   "cell_type": "code",
   "execution_count": 57,
   "id": "b960ecc5",
   "metadata": {},
   "outputs": [],
   "source": [
    "from sagemaker.inputs import TransformInput\n",
    "\n",
    "batch_scoring = TransformStep(\n",
    "    state_id=\"validation-step\",\n",
    "    job_name=execution_input['ScoreJobName'],\n",
    "    transformer=linear.transformer(instance_count=1,\n",
    "                                instance_type=v_validation_scoring_instance_type),\n",
    "    data=\"{}/{}\".format(output_data, \"test\"), # location for test data\n",
    "    model_name=execution_input['ModelName'],\n",
    "    content_type=\"text/csv\"\n",
    ")"
   ]
  },
  {
   "cell_type": "markdown",
   "id": "446485ef",
   "metadata": {},
   "source": [
    "# Create End point config and end point step"
   ]
  },
  {
   "cell_type": "code",
   "execution_count": 58,
   "id": "91eee097",
   "metadata": {},
   "outputs": [],
   "source": [
    "##VV added after review\n",
    "endpoint_config_step = steps.EndpointConfigStep(\n",
    "    \"Create Model Endpoint Config\",\n",
    "    endpoint_config_name=execution_input['EndPointConfig'],\n",
    "    model_name=execution_input['ModelName'],\n",
    "    initial_instance_count=1,\n",
    "    instance_type='ml.m4.xlarge'\n",
    ")"
   ]
  },
  {
   "cell_type": "code",
   "execution_count": 59,
   "id": "bb84e408",
   "metadata": {},
   "outputs": [],
   "source": [
    "##VV added after review\n",
    "endpoint_step = steps.EndpointStep(\n",
    "    'Update Model Endpoint',\n",
    "    endpoint_name=execution_input['EndpointName'],\n",
    "    endpoint_config_name=execution_input['EndPointConfig'],\n",
    "    update=False\n",
    ")"
   ]
  },
  {
   "cell_type": "code",
   "execution_count": 60,
   "id": "ebb924a4",
   "metadata": {},
   "outputs": [],
   "source": [
    "##VV added after review\n",
    "threshold_rule = steps.choice_rule.ChoiceRule.NumericLessThan(variable=lambda_step.output()['Payload']['trainingMetrics'][0]['Value'], value=v_threshold)\n",
    "check_accuracy_step.add_choice(rule=threshold_rule, next_step=endpoint_config_step)\n",
    "check_accuracy_step.default_choice(next_step=fail_step)"
   ]
  },
  {
   "cell_type": "code",
   "execution_count": 61,
   "id": "4a9ca3d7",
   "metadata": {},
   "outputs": [
    {
     "data": {
      "text/plain": [
       "Update Model Endpoint EndpointStep(resource='arn:aws:states:::sagemaker:createEndpoint', parameters={'EndpointConfigName': <stepfunctions.inputs.placeholders.ExecutionInput object at 0x7f711b461940>, 'EndpointName': <stepfunctions.inputs.placeholders.ExecutionInput object at 0x7f711b33dc50>}, type='Task')"
      ]
     },
     "execution_count": 61,
     "metadata": {},
     "output_type": "execute_result"
    }
   ],
   "source": [
    "##VV added after review\n",
    "endpoint_config_step.next(endpoint_step)"
   ]
  },
  {
   "cell_type": "markdown",
   "id": "7506df09",
   "metadata": {},
   "source": [
    "## 4.6 Chain together steps for the basic path\n",
    "\n",
    "The following cell links together the steps you've created into a sequential group called `basic_path`. We will chain a single step to create our basic path. See [Chain](https://aws-step-functions-data-science-sdk.readthedocs.io/en/latest/states.html#stepfunctions.steps.states.Chain) in the AWS Step Functions Data Science SDK documentation.\n",
    "\n",
    "After chaining together the steps for the basic path, in this case only one step, we will visualize the basic path."
   ]
  },
  {
   "cell_type": "code",
   "execution_count": 62,
   "id": "7893f95b",
   "metadata": {},
   "outputs": [],
   "source": [
    "# First we chain the start pass state,preprocessing_step,\n",
    "basic_path=Chain([preprocessing_step,\n",
    "                  training_step,\n",
    "                  model_step,\n",
    "                  lambda_step_acc,\n",
    "                  check_accuracy_step])"
   ]
  },
  {
   "cell_type": "markdown",
   "id": "569340d5",
   "metadata": {},
   "source": [
    "## 4.7 Define the workflow instance\n",
    "\n",
    "The following cell defines the [workflow](https://aws-step-functions-data-science-sdk.readthedocs.io/en/latest/workflow.html#stepfunctions.workflow.Workflow) with the path we just defined.\n",
    "\n",
    "After defining the workflow, we will render the graph to see what our workflow looks like."
   ]
  },
  {
   "cell_type": "code",
   "execution_count": 63,
   "id": "6675a982",
   "metadata": {},
   "outputs": [
    {
     "data": {
      "text/html": [
       "\n",
       "<link rel=\"stylesheet\" type=\"text/css\" href=\"https://do0of8uwbahzz.cloudfront.net/graph.css\">\n",
       "<div id=\"graph-245\" class=\"workflowgraph\">\n",
       "    \n",
       "    <svg></svg>\n",
       "    \n",
       "</div>\n",
       "\n",
       "<script type=\"text/javascript\">\n",
       "\n",
       "require.config({\n",
       "    paths: {\n",
       "        sfn: \"https://do0of8uwbahzz.cloudfront.net/sfn\",\n",
       "    }\n",
       "});\n",
       "\n",
       "require(['sfn'], function(sfn) {\n",
       "    var element = document.getElementById('graph-245')\n",
       "\n",
       "    var options = {\n",
       "        width: parseFloat(getComputedStyle(element, null).width.replace(\"px\", \"\")),\n",
       "        height: 600,\n",
       "        layout: 'LR',\n",
       "        resizeHeight: true\n",
       "    };\n",
       "\n",
       "    var definition = {\"StartAt\": \"Pre-processing\", \"States\": {\"Pre-processing\": {\"Resource\": \"arn:aws:states:::sagemaker:createProcessingJob.sync\", \"Parameters\": {\"ProcessingJobName.$\": \"$$.Execution.Input['PreprocessingJobName']\", \"ProcessingInputs\": [{\"InputName\": \"input\", \"AppManaged\": false, \"S3Input\": {\"S3Uri\": \"s3://poc-sagemaker-step-function-bucketformodelanddata-iip9wy7qh0y0/vci/data/input/vehicles.csv\", \"LocalPath\": \"/opt/ml/processing/input\", \"S3DataType\": \"S3Prefix\", \"S3InputMode\": \"File\", \"S3DataDistributionType\": \"FullyReplicated\", \"S3CompressionType\": \"None\"}}, {\"InputName\": \"code\", \"AppManaged\": false, \"S3Input\": {\"S3Uri\": \"s3://ds-mlops-dev/code/ds-mlops-preprocessing_linear-learner_script.py\", \"LocalPath\": \"/opt/ml/processing/input/code\", \"S3DataType\": \"S3Prefix\", \"S3InputMode\": \"File\", \"S3DataDistributionType\": \"FullyReplicated\", \"S3CompressionType\": \"None\"}}], \"ProcessingOutputConfig\": {\"Outputs\": [{\"OutputName\": \"train_data\", \"AppManaged\": false, \"S3Output\": {\"S3Uri\": \"s3://ds-mlops-dev/preprocess-data/train\", \"LocalPath\": \"/opt/ml/processing/train\", \"S3UploadMode\": \"EndOfJob\"}}, {\"OutputName\": \"test_data\", \"AppManaged\": false, \"S3Output\": {\"S3Uri\": \"s3://ds-mlops-dev/preprocess-data/test\", \"LocalPath\": \"/opt/ml/processing/test\", \"S3UploadMode\": \"EndOfJob\"}}, {\"OutputName\": \"validation_data\", \"AppManaged\": false, \"S3Output\": {\"S3Uri\": \"s3://ds-mlops-dev/preprocess-data/validation\", \"LocalPath\": \"/opt/ml/processing/validation\", \"S3UploadMode\": \"EndOfJob\"}}]}, \"AppSpecification\": {\"ImageUri\": \"683313688378.dkr.ecr.us-east-1.amazonaws.com/sagemaker-scikit-learn:0.20.0-cpu-py3\", \"ContainerEntrypoint\": [\"python3\", \"/opt/ml/processing/input/code/ds-mlops-preprocessing_linear-learner_script.py\"]}, \"RoleArn\": \"arn:aws:iam::525102048888:role/service-role/AmazonSageMaker-ExecutionRole-20191105T125227\", \"NetworkConfig\": {\"EnableNetworkIsolation\": false, \"VpcConfig\": {\"SecurityGroupIds\": [\"sg-044e0e7ce4f5721c0\"], \"Subnets\": [\"subnet-0cf0e3f46326aa259\", \"subnet-0156b7f5500cf0b78\", \"subnet-032420199163cff9b\"]}}, \"ProcessingResources\": {\"ClusterConfig\": {\"InstanceCount\": 1, \"InstanceType\": \"ml.m5.xlarge\", \"VolumeSizeInGB\": 30}}}, \"Type\": \"Task\", \"Next\": \"Model Training(linear)\"}, \"Model Training(linear)\": {\"Resource\": \"arn:aws:states:::sagemaker:createTrainingJob.sync\", \"Parameters\": {\"AlgorithmSpecification\": {\"TrainingImage\": \"382416733822.dkr.ecr.us-east-1.amazonaws.com/linear-learner:1\", \"TrainingInputMode\": \"File\"}, \"OutputDataConfig\": {\"S3OutputPath\": \"s3://ds-mlops-dev/models\"}, \"StoppingCondition\": {\"MaxRuntimeInSeconds\": 86400}, \"ResourceConfig\": {\"InstanceCount\": 1, \"InstanceType\": \"ml.m5.xlarge\", \"VolumeSizeInGB\": 30}, \"RoleArn\": \"arn:aws:iam::525102048888:role/service-role/AmazonSageMaker-ExecutionRole-20191105T125227\", \"InputDataConfig\": [{\"DataSource\": {\"S3DataSource\": {\"S3DataType\": \"S3Prefix\", \"S3Uri\": \"s3://ds-mlops-dev/preprocess-data/train\", \"S3DataDistributionType\": \"FullyReplicated\"}}, \"ContentType\": \"text/csv\", \"ChannelName\": \"train\"}, {\"DataSource\": {\"S3DataSource\": {\"S3DataType\": \"S3Prefix\", \"S3Uri\": \"s3://ds-mlops-dev/preprocess-data/validation\", \"S3DataDistributionType\": \"FullyReplicated\"}}, \"ContentType\": \"text/csv\", \"ChannelName\": \"validation\"}], \"VpcConfig\": {\"Subnets\": [\"subnet-0cf0e3f46326aa259\", \"subnet-0156b7f5500cf0b78\", \"subnet-032420199163cff9b\"], \"SecurityGroupIds\": [\"sg-044e0e7ce4f5721c0\"]}, \"HyperParameters\": {\"epochs\": \"50\", \"l1\": \"0.00035080090763972647\", \"learning_rate\": \"0.000199542496841376\", \"mini_batch_size\": \"512\", \"predictor_type\": \"regressor\"}, \"TrainingJobName.$\": \"$$.Execution.Input['TrainingJobName']\"}, \"Type\": \"Task\", \"Next\": \"Save Model\"}, \"Save Model\": {\"ResultPath\": \"$.ModelStepResults\", \"Parameters\": {\"ExecutionRoleArn\": \"arn:aws:iam::525102048888:role/service-role/AmazonSageMaker-ExecutionRole-20191105T125227\", \"ModelName.$\": \"$$.Execution.Input['ModelName']\", \"PrimaryContainer\": {\"Environment\": {}, \"Image\": \"382416733822.dkr.ecr.us-east-1.amazonaws.com/linear-learner:1\", \"ModelDataUrl.$\": \"$['ModelArtifacts']['S3ModelArtifacts']\"}}, \"Resource\": \"arn:aws:states:::sagemaker:createModel\", \"Type\": \"Task\", \"Next\": \"Query Training Results\"}, \"Query Training Results\": {\"Parameters\": {\"FunctionName\": \"LinearLearnerQuery-training-status\", \"Payload\": {\"TrainingJobName.$\": \"$.TrainingJobName\"}}, \"Resource\": \"arn:aws:states:::lambda:invoke\", \"Type\": \"Task\", \"Next\": \"RMSE < Threshold\"}, \"RMSE < Threshold\": {\"Type\": \"Choice\", \"Choices\": [{\"Variable\": \"$['Payload']['trainingMetrics'][0]['Value']\", \"NumericLessThan\": 3000, \"Next\": \"Create Model Endpoint Config\"}], \"Default\": \"Model Accuracy Too Low\"}, \"Model Accuracy Too Low\": {\"Comment\": \"Validation accuracy lower than threshold\", \"Type\": \"Fail\"}, \"Create Model Endpoint Config\": {\"Resource\": \"arn:aws:states:::sagemaker:createEndpointConfig\", \"Parameters\": {\"EndpointConfigName.$\": \"$$.Execution.Input['EndPointConfig']\", \"ProductionVariants\": [{\"InitialInstanceCount\": 1, \"InstanceType\": \"ml.m4.xlarge\", \"ModelName.$\": \"$$.Execution.Input['ModelName']\", \"VariantName\": \"AllTraffic\"}]}, \"Type\": \"Task\", \"Next\": \"Update Model Endpoint\"}, \"Update Model Endpoint\": {\"Resource\": \"arn:aws:states:::sagemaker:createEndpoint\", \"Parameters\": {\"EndpointConfigName.$\": \"$$.Execution.Input['EndPointConfig']\", \"EndpointName.$\": \"$$.Execution.Input['EndpointName']\"}, \"Type\": \"Task\", \"End\": true}}};\n",
       "    var elementId = '#graph-245';\n",
       "\n",
       "    var graph = new sfn.StateMachineGraph(definition, elementId, options);\n",
       "    graph.render();\n",
       "});\n",
       "\n",
       "</script>\n"
      ],
      "text/plain": [
       "<IPython.core.display.HTML object>"
      ]
     },
     "execution_count": 63,
     "metadata": {},
     "output_type": "execute_result"
    }
   ],
   "source": [
    "# Next, we define the workflow\n",
    "basic_workflow = Workflow(\n",
    "    name=\"ds-mlops-dev-linear-learner-step-function\",\n",
    "    definition=basic_path,\n",
    "    role=v_workflow_execution_role\n",
    ")\n",
    "\n",
    "#Render the workflow\n",
    "basic_workflow.render_graph()"
   ]
  },
  {
   "cell_type": "markdown",
   "id": "52521003",
   "metadata": {},
   "source": [
    "## 4.8 Review the Amazon States Language code for your workflow\n",
    "\n",
    "The following renders the JSON of the [Amazon States Language](https://docs.aws.amazon.com/step-functions/latest/dg/concepts-amazon-states-language.html) definition of the workflow you created. "
   ]
  },
  {
   "cell_type": "code",
   "execution_count": 64,
   "id": "181462f5",
   "metadata": {},
   "outputs": [
    {
     "name": "stdout",
     "output_type": "stream",
     "text": [
      "{\n",
      "    \"StartAt\": \"Pre-processing\",\n",
      "    \"States\": {\n",
      "        \"Pre-processing\": {\n",
      "            \"Resource\": \"arn:aws:states:::sagemaker:createProcessingJob.sync\",\n",
      "            \"Parameters\": {\n",
      "                \"ProcessingJobName.$\": \"$$.Execution.Input['PreprocessingJobName']\",\n",
      "                \"ProcessingInputs\": [\n",
      "                    {\n",
      "                        \"InputName\": \"input\",\n",
      "                        \"AppManaged\": false,\n",
      "                        \"S3Input\": {\n",
      "                            \"S3Uri\": \"s3://poc-sagemaker-step-function-bucketformodelanddata-iip9wy7qh0y0/vci/data/input/vehicles.csv\",\n",
      "                            \"LocalPath\": \"/opt/ml/processing/input\",\n",
      "                            \"S3DataType\": \"S3Prefix\",\n",
      "                            \"S3InputMode\": \"File\",\n",
      "                            \"S3DataDistributionType\": \"FullyReplicated\",\n",
      "                            \"S3CompressionType\": \"None\"\n",
      "                        }\n",
      "                    },\n",
      "                    {\n",
      "                        \"InputName\": \"code\",\n",
      "                        \"AppManaged\": false,\n",
      "                        \"S3Input\": {\n",
      "                            \"S3Uri\": \"s3://ds-mlops-dev/code/ds-mlops-preprocessing_linear-learner_script.py\",\n",
      "                            \"LocalPath\": \"/opt/ml/processing/input/code\",\n",
      "                            \"S3DataType\": \"S3Prefix\",\n",
      "                            \"S3InputMode\": \"File\",\n",
      "                            \"S3DataDistributionType\": \"FullyReplicated\",\n",
      "                            \"S3CompressionType\": \"None\"\n",
      "                        }\n",
      "                    }\n",
      "                ],\n",
      "                \"ProcessingOutputConfig\": {\n",
      "                    \"Outputs\": [\n",
      "                        {\n",
      "                            \"OutputName\": \"train_data\",\n",
      "                            \"AppManaged\": false,\n",
      "                            \"S3Output\": {\n",
      "                                \"S3Uri\": \"s3://ds-mlops-dev/preprocess-data/train\",\n",
      "                                \"LocalPath\": \"/opt/ml/processing/train\",\n",
      "                                \"S3UploadMode\": \"EndOfJob\"\n",
      "                            }\n",
      "                        },\n",
      "                        {\n",
      "                            \"OutputName\": \"test_data\",\n",
      "                            \"AppManaged\": false,\n",
      "                            \"S3Output\": {\n",
      "                                \"S3Uri\": \"s3://ds-mlops-dev/preprocess-data/test\",\n",
      "                                \"LocalPath\": \"/opt/ml/processing/test\",\n",
      "                                \"S3UploadMode\": \"EndOfJob\"\n",
      "                            }\n",
      "                        },\n",
      "                        {\n",
      "                            \"OutputName\": \"validation_data\",\n",
      "                            \"AppManaged\": false,\n",
      "                            \"S3Output\": {\n",
      "                                \"S3Uri\": \"s3://ds-mlops-dev/preprocess-data/validation\",\n",
      "                                \"LocalPath\": \"/opt/ml/processing/validation\",\n",
      "                                \"S3UploadMode\": \"EndOfJob\"\n",
      "                            }\n",
      "                        }\n",
      "                    ]\n",
      "                },\n",
      "                \"AppSpecification\": {\n",
      "                    \"ImageUri\": \"683313688378.dkr.ecr.us-east-1.amazonaws.com/sagemaker-scikit-learn:0.20.0-cpu-py3\",\n",
      "                    \"ContainerEntrypoint\": [\n",
      "                        \"python3\",\n",
      "                        \"/opt/ml/processing/input/code/ds-mlops-preprocessing_linear-learner_script.py\"\n",
      "                    ]\n",
      "                },\n",
      "                \"RoleArn\": \"arn:aws:iam::525102048888:role/service-role/AmazonSageMaker-ExecutionRole-20191105T125227\",\n",
      "                \"NetworkConfig\": {\n",
      "                    \"EnableNetworkIsolation\": false,\n",
      "                    \"VpcConfig\": {\n",
      "                        \"SecurityGroupIds\": [\n",
      "                            \"sg-044e0e7ce4f5721c0\"\n",
      "                        ],\n",
      "                        \"Subnets\": [\n",
      "                            \"subnet-0cf0e3f46326aa259\",\n",
      "                            \"subnet-0156b7f5500cf0b78\",\n",
      "                            \"subnet-032420199163cff9b\"\n",
      "                        ]\n",
      "                    }\n",
      "                },\n",
      "                \"ProcessingResources\": {\n",
      "                    \"ClusterConfig\": {\n",
      "                        \"InstanceCount\": 1,\n",
      "                        \"InstanceType\": \"ml.m5.xlarge\",\n",
      "                        \"VolumeSizeInGB\": 30\n",
      "                    }\n",
      "                }\n",
      "            },\n",
      "            \"Type\": \"Task\",\n",
      "            \"Next\": \"Model Training(linear)\"\n",
      "        },\n",
      "        \"Model Training(linear)\": {\n",
      "            \"Resource\": \"arn:aws:states:::sagemaker:createTrainingJob.sync\",\n",
      "            \"Parameters\": {\n",
      "                \"AlgorithmSpecification\": {\n",
      "                    \"TrainingImage\": \"382416733822.dkr.ecr.us-east-1.amazonaws.com/linear-learner:1\",\n",
      "                    \"TrainingInputMode\": \"File\"\n",
      "                },\n",
      "                \"OutputDataConfig\": {\n",
      "                    \"S3OutputPath\": \"s3://ds-mlops-dev/models\"\n",
      "                },\n",
      "                \"StoppingCondition\": {\n",
      "                    \"MaxRuntimeInSeconds\": 86400\n",
      "                },\n",
      "                \"ResourceConfig\": {\n",
      "                    \"InstanceCount\": 1,\n",
      "                    \"InstanceType\": \"ml.m5.xlarge\",\n",
      "                    \"VolumeSizeInGB\": 30\n",
      "                },\n",
      "                \"RoleArn\": \"arn:aws:iam::525102048888:role/service-role/AmazonSageMaker-ExecutionRole-20191105T125227\",\n",
      "                \"InputDataConfig\": [\n",
      "                    {\n",
      "                        \"DataSource\": {\n",
      "                            \"S3DataSource\": {\n",
      "                                \"S3DataType\": \"S3Prefix\",\n",
      "                                \"S3Uri\": \"s3://ds-mlops-dev/preprocess-data/train\",\n",
      "                                \"S3DataDistributionType\": \"FullyReplicated\"\n",
      "                            }\n",
      "                        },\n",
      "                        \"ContentType\": \"text/csv\",\n",
      "                        \"ChannelName\": \"train\"\n",
      "                    },\n",
      "                    {\n",
      "                        \"DataSource\": {\n",
      "                            \"S3DataSource\": {\n",
      "                                \"S3DataType\": \"S3Prefix\",\n",
      "                                \"S3Uri\": \"s3://ds-mlops-dev/preprocess-data/validation\",\n",
      "                                \"S3DataDistributionType\": \"FullyReplicated\"\n",
      "                            }\n",
      "                        },\n",
      "                        \"ContentType\": \"text/csv\",\n",
      "                        \"ChannelName\": \"validation\"\n",
      "                    }\n",
      "                ],\n",
      "                \"VpcConfig\": {\n",
      "                    \"Subnets\": [\n",
      "                        \"subnet-0cf0e3f46326aa259\",\n",
      "                        \"subnet-0156b7f5500cf0b78\",\n",
      "                        \"subnet-032420199163cff9b\"\n",
      "                    ],\n",
      "                    \"SecurityGroupIds\": [\n",
      "                        \"sg-044e0e7ce4f5721c0\"\n",
      "                    ]\n",
      "                },\n",
      "                \"HyperParameters\": {\n",
      "                    \"epochs\": \"50\",\n",
      "                    \"l1\": \"0.00035080090763972647\",\n",
      "                    \"learning_rate\": \"0.000199542496841376\",\n",
      "                    \"mini_batch_size\": \"512\",\n",
      "                    \"predictor_type\": \"regressor\"\n",
      "                },\n",
      "                \"TrainingJobName.$\": \"$$.Execution.Input['TrainingJobName']\"\n",
      "            },\n",
      "            \"Type\": \"Task\",\n",
      "            \"Next\": \"Save Model\"\n",
      "        },\n",
      "        \"Save Model\": {\n",
      "            \"ResultPath\": \"$.ModelStepResults\",\n",
      "            \"Parameters\": {\n",
      "                \"ExecutionRoleArn\": \"arn:aws:iam::525102048888:role/service-role/AmazonSageMaker-ExecutionRole-20191105T125227\",\n",
      "                \"ModelName.$\": \"$$.Execution.Input['ModelName']\",\n",
      "                \"PrimaryContainer\": {\n",
      "                    \"Environment\": {},\n",
      "                    \"Image\": \"382416733822.dkr.ecr.us-east-1.amazonaws.com/linear-learner:1\",\n",
      "                    \"ModelDataUrl.$\": \"$['ModelArtifacts']['S3ModelArtifacts']\"\n",
      "                }\n",
      "            },\n",
      "            \"Resource\": \"arn:aws:states:::sagemaker:createModel\",\n",
      "            \"Type\": \"Task\",\n",
      "            \"Next\": \"Query Training Results\"\n",
      "        },\n",
      "        \"Query Training Results\": {\n",
      "            \"Parameters\": {\n",
      "                \"FunctionName\": \"LinearLearnerQuery-training-status\",\n",
      "                \"Payload\": {\n",
      "                    \"TrainingJobName.$\": \"$.TrainingJobName\"\n",
      "                }\n",
      "            },\n",
      "            \"Resource\": \"arn:aws:states:::lambda:invoke\",\n",
      "            \"Type\": \"Task\",\n",
      "            \"Next\": \"RMSE < Threshold\"\n",
      "        },\n",
      "        \"RMSE < Threshold\": {\n",
      "            \"Type\": \"Choice\",\n",
      "            \"Choices\": [\n",
      "                {\n",
      "                    \"Variable\": \"$['Payload']['trainingMetrics'][0]['Value']\",\n",
      "                    \"NumericLessThan\": 3000,\n",
      "                    \"Next\": \"Create Model Endpoint Config\"\n",
      "                }\n",
      "            ],\n",
      "            \"Default\": \"Model Accuracy Too Low\"\n",
      "        },\n",
      "        \"Model Accuracy Too Low\": {\n",
      "            \"Comment\": \"Validation accuracy lower than threshold\",\n",
      "            \"Type\": \"Fail\"\n",
      "        },\n",
      "        \"Create Model Endpoint Config\": {\n",
      "            \"Resource\": \"arn:aws:states:::sagemaker:createEndpointConfig\",\n",
      "            \"Parameters\": {\n",
      "                \"EndpointConfigName.$\": \"$$.Execution.Input['EndPointConfig']\",\n",
      "                \"ProductionVariants\": [\n",
      "                    {\n",
      "                        \"InitialInstanceCount\": 1,\n",
      "                        \"InstanceType\": \"ml.m4.xlarge\",\n",
      "                        \"ModelName.$\": \"$$.Execution.Input['ModelName']\",\n",
      "                        \"VariantName\": \"AllTraffic\"\n",
      "                    }\n",
      "                ]\n",
      "            },\n",
      "            \"Type\": \"Task\",\n",
      "            \"Next\": \"Update Model Endpoint\"\n",
      "        },\n",
      "        \"Update Model Endpoint\": {\n",
      "            \"Resource\": \"arn:aws:states:::sagemaker:createEndpoint\",\n",
      "            \"Parameters\": {\n",
      "                \"EndpointConfigName.$\": \"$$.Execution.Input['EndPointConfig']\",\n",
      "                \"EndpointName.$\": \"$$.Execution.Input['EndpointName']\"\n",
      "            },\n",
      "            \"Type\": \"Task\",\n",
      "            \"End\": true\n",
      "        }\n",
      "    }\n",
      "}\n"
     ]
    }
   ],
   "source": [
    "print(basic_workflow.definition.to_json(pretty=True)) # From this json we would be leveraging the codes to create the Cloud Formation parameterized template..."
   ]
  },
  {
   "cell_type": "markdown",
   "id": "ae99d774",
   "metadata": {},
   "source": [
    "## 4.9 Create the workflow on AWS Step Functions\n",
    "\n",
    "Create the workflow in AWS Step Functions with [create](https://aws-step-functions-data-science-sdk.readthedocs.io/en/latest/workflow.html#stepfunctions.workflow.Workflow.create)."
   ]
  },
  {
   "cell_type": "code",
   "execution_count": 65,
   "id": "f0bfcc45",
   "metadata": {},
   "outputs": [
    {
     "name": "stdout",
     "output_type": "stream",
     "text": [
      "\u001b[32m[INFO] Workflow created successfully on AWS Step Functions.\u001b[0m\n"
     ]
    },
    {
     "data": {
      "text/plain": [
       "'arn:aws:states:us-east-1:525102048888:stateMachine:ds-mlops-dev-linear-learner-step-function'"
      ]
     },
     "execution_count": 65,
     "metadata": {},
     "output_type": "execute_result"
    }
   ],
   "source": [
    "basic_workflow.create()"
   ]
  },
  {
   "cell_type": "code",
   "execution_count": 66,
   "id": "890a9f6e",
   "metadata": {},
   "outputs": [
    {
     "name": "stdout",
     "output_type": "stream",
     "text": [
      "\u001b[32m[INFO] Workflow updated successfully on AWS Step Functions. All execute() calls will use the updated definition and role within a few seconds. \u001b[0m\n"
     ]
    },
    {
     "data": {
      "text/plain": [
       "'arn:aws:states:us-east-1:525102048888:stateMachine:ds-mlops-dev-linear-learner-step-function'"
      ]
     },
     "execution_count": 66,
     "metadata": {},
     "output_type": "execute_result"
    }
   ],
   "source": [
    "basic_workflow.update(definition=basic_workflow.definition,role=basic_workflow.role)"
   ]
  },
  {
   "cell_type": "markdown",
   "id": "186179c2",
   "metadata": {},
   "source": [
    "## 5 Execute the workflow\n",
    "\n",
    "Run the workflow with [execute](https://aws-step-functions-data-science-sdk.readthedocs.io/en/latest/workflow.html#stepfunctions.workflow.Workflow.execute). Since the workflow only has a pass state, it will succeed immediately."
   ]
  },
  {
   "cell_type": "code",
   "execution_count": 67,
   "id": "643da717",
   "metadata": {},
   "outputs": [],
   "source": [
    "# Generate unique names for Pre-Processing Job, Training Job, and Model Evaluation Job for the Step Functions Workflow\n",
    "training_job_name = \"ll-boost-training-{}\".format(\n",
    "    uuid.uuid1().hex\n",
    ")  # Each Training Job requires a unique name\n",
    "preprocessing_job_name = \"ll-boost-preprocessing-{}\".format(\n",
    "    uuid.uuid1().hex\n",
    ")  # Each Preprocessing job requires a unique name,\n",
    "evaluation_job_name = \"ll-boost-evaluation-{}\".format(\n",
    "    uuid.uuid1().hex\n",
    ")  # Each Evaluation Job requires a unique name\n",
    "scoring_job_name = \"ll-boost-score-{}\".format(\n",
    "    uuid.uuid1().hex\n",
    ")  # Each Evaluation Job requires a unique name\n",
    "endpoint_name = \"endpoint-{}\".format(\n",
    "    uuid.uuid1().hex\n",
    ")  # Each Evaluation Job requires a unique name\n",
    "endpoint_config_name = \"endpoint-config-{}\".format(\n",
    "    uuid.uuid1().hex\n",
    ")  # Each Evaluation Job requires a unique name"
   ]
  },
  {
   "cell_type": "code",
   "execution_count": 68,
   "id": "d6c58b96",
   "metadata": {},
   "outputs": [
    {
     "name": "stdout",
     "output_type": "stream",
     "text": [
      "\u001b[32m[INFO] Workflow execution started successfully on AWS Step Functions.\u001b[0m\n"
     ]
    }
   ],
   "source": [
    "basic_workflow_execution = basic_workflow.execute(\n",
    "    inputs={\n",
    "        \"PreprocessingJobName\": preprocessing_job_name,  # Each pre processing job (SageMaker processing job) requires a unique name,\n",
    "        \"TrainingJobName\": training_job_name,  # Each Sagemaker Training job requires a unique name,\n",
    "        \"EvaluationProcessingJobName\": evaluation_job_name,  # Each SageMaker processing job requires a unique name,\n",
    "        \"ModelName\" : v_model_name, # Name of model ,\n",
    "        \"ScoreJobName\" : scoring_job_name,\n",
    "        \"EndpointName\" : endpoint_name,\n",
    "        \"EndPointConfig\" : endpoint_config_name\n",
    "    }\n",
    ")"
   ]
  },
  {
   "cell_type": "markdown",
   "id": "3effa0ed",
   "metadata": {},
   "source": [
    "## 5.1 Review the execution progress\n",
    "\n",
    "Render workflow progress with the [render_progress](https://aws-step-functions-data-science-sdk.readthedocs.io/en/latest/workflow.html#stepfunctions.workflow.Execution.render_progress).\n",
    "\n",
    "This generates a snapshot of the current state of your workflow as it executes. This is a static image. Run the cell again to check progress. "
   ]
  },
  {
   "cell_type": "code",
   "execution_count": 70,
   "id": "64f228f0",
   "metadata": {},
   "outputs": [
    {
     "data": {
      "text/html": [
       "\n",
       "<link rel=\"stylesheet\" type=\"text/css\" href=\"https://do0of8uwbahzz.cloudfront.net/graph.css\">\n",
       "<div id=\"graph-433\" class=\"workflowgraph\">\n",
       "    \n",
       "    <style>\n",
       "        .graph-legend ul {\n",
       "            list-style-type: none;\n",
       "            padding: 10px;\n",
       "            padding-left: 0;\n",
       "            margin: 0;\n",
       "            position: absolute;\n",
       "            top: 0;\n",
       "            background: transparent;\n",
       "        }\n",
       "\n",
       "        .graph-legend li {\n",
       "            margin-left: 10px;\n",
       "            display: inline-block;\n",
       "        }\n",
       "\n",
       "        .graph-legend li > div {\n",
       "            width: 10px;\n",
       "            height: 10px;\n",
       "            display: inline-block;\n",
       "        }\n",
       "\n",
       "        .graph-legend .success { background-color: #2BD62E }\n",
       "        .graph-legend .failed { background-color: #DE322F }\n",
       "        .graph-legend .cancelled { background-color: #DDDDDD }\n",
       "        .graph-legend .in-progress { background-color: #53C9ED }\n",
       "        .graph-legend .caught-error { background-color: #FFA500 }\n",
       "    </style>\n",
       "    <div class=\"graph-legend\">\n",
       "        <ul>\n",
       "            <li>\n",
       "                <div class=\"success\"></div>\n",
       "                <span>Success</span>\n",
       "            </li>\n",
       "            <li>\n",
       "                <div class=\"failed\"></div>\n",
       "                <span>Failed</span>\n",
       "            </li>\n",
       "            <li>\n",
       "                <div class=\"cancelled\"></div>\n",
       "                <span>Cancelled</span>\n",
       "            </li>\n",
       "            <li>\n",
       "                <div class=\"in-progress\"></div>\n",
       "                <span>In Progress</span>\n",
       "            </li>\n",
       "            <li>\n",
       "                <div class=\"caught-error\"></div>\n",
       "                <span>Caught Error</span>\n",
       "            </li>\n",
       "        </ul>\n",
       "    </div>\n",
       "\n",
       "    <svg></svg>\n",
       "    <a href=\"https://console.aws.amazon.com/states/home?region=us-east-1#/executions/details/arn:aws:states:us-east-1:525102048888:execution:ds-mlops-dev-linear-learner-step-function:a60cf619-9eed-4656-b690-58959fc8af36\" target=\"_blank\"> Inspect in AWS Step Functions </a>\n",
       "</div>\n",
       "\n",
       "<script type=\"text/javascript\">\n",
       "\n",
       "require.config({\n",
       "    paths: {\n",
       "        sfn: \"https://do0of8uwbahzz.cloudfront.net/sfn\",\n",
       "    }\n",
       "});\n",
       "\n",
       "require(['sfn'], function(sfn) {\n",
       "    var element = document.getElementById('graph-433')\n",
       "\n",
       "    var options = {\n",
       "        width: parseFloat(getComputedStyle(element, null).width.replace(\"px\", \"\")),\n",
       "        height: 1000,\n",
       "        layout: 'LR',\n",
       "        resizeHeight: true\n",
       "    };\n",
       "\n",
       "    var definition = {\"StartAt\": \"Pre-processing\", \"States\": {\"Pre-processing\": {\"Resource\": \"arn:aws:states:::sagemaker:createProcessingJob.sync\", \"Parameters\": {\"ProcessingJobName.$\": \"$$.Execution.Input['PreprocessingJobName']\", \"ProcessingInputs\": [{\"InputName\": \"input\", \"AppManaged\": false, \"S3Input\": {\"S3Uri\": \"s3://poc-sagemaker-step-function-bucketformodelanddata-iip9wy7qh0y0/vci/data/input/vehicles.csv\", \"LocalPath\": \"/opt/ml/processing/input\", \"S3DataType\": \"S3Prefix\", \"S3InputMode\": \"File\", \"S3DataDistributionType\": \"FullyReplicated\", \"S3CompressionType\": \"None\"}}, {\"InputName\": \"code\", \"AppManaged\": false, \"S3Input\": {\"S3Uri\": \"s3://ds-mlops-dev/code/ds-mlops-preprocessing_linear-learner_script.py\", \"LocalPath\": \"/opt/ml/processing/input/code\", \"S3DataType\": \"S3Prefix\", \"S3InputMode\": \"File\", \"S3DataDistributionType\": \"FullyReplicated\", \"S3CompressionType\": \"None\"}}], \"ProcessingOutputConfig\": {\"Outputs\": [{\"OutputName\": \"train_data\", \"AppManaged\": false, \"S3Output\": {\"S3Uri\": \"s3://ds-mlops-dev/preprocess-data/train\", \"LocalPath\": \"/opt/ml/processing/train\", \"S3UploadMode\": \"EndOfJob\"}}, {\"OutputName\": \"test_data\", \"AppManaged\": false, \"S3Output\": {\"S3Uri\": \"s3://ds-mlops-dev/preprocess-data/test\", \"LocalPath\": \"/opt/ml/processing/test\", \"S3UploadMode\": \"EndOfJob\"}}, {\"OutputName\": \"validation_data\", \"AppManaged\": false, \"S3Output\": {\"S3Uri\": \"s3://ds-mlops-dev/preprocess-data/validation\", \"LocalPath\": \"/opt/ml/processing/validation\", \"S3UploadMode\": \"EndOfJob\"}}]}, \"AppSpecification\": {\"ImageUri\": \"683313688378.dkr.ecr.us-east-1.amazonaws.com/sagemaker-scikit-learn:0.20.0-cpu-py3\", \"ContainerEntrypoint\": [\"python3\", \"/opt/ml/processing/input/code/ds-mlops-preprocessing_linear-learner_script.py\"]}, \"RoleArn\": \"arn:aws:iam::525102048888:role/service-role/AmazonSageMaker-ExecutionRole-20191105T125227\", \"NetworkConfig\": {\"EnableNetworkIsolation\": false, \"VpcConfig\": {\"SecurityGroupIds\": [\"sg-044e0e7ce4f5721c0\"], \"Subnets\": [\"subnet-0cf0e3f46326aa259\", \"subnet-0156b7f5500cf0b78\", \"subnet-032420199163cff9b\"]}}, \"ProcessingResources\": {\"ClusterConfig\": {\"InstanceCount\": 1, \"InstanceType\": \"ml.m5.xlarge\", \"VolumeSizeInGB\": 30}}}, \"Type\": \"Task\", \"Next\": \"Model Training(linear)\"}, \"Model Training(linear)\": {\"Resource\": \"arn:aws:states:::sagemaker:createTrainingJob.sync\", \"Parameters\": {\"AlgorithmSpecification\": {\"TrainingImage\": \"382416733822.dkr.ecr.us-east-1.amazonaws.com/linear-learner:1\", \"TrainingInputMode\": \"File\"}, \"OutputDataConfig\": {\"S3OutputPath\": \"s3://ds-mlops-dev/models\"}, \"StoppingCondition\": {\"MaxRuntimeInSeconds\": 86400}, \"ResourceConfig\": {\"InstanceCount\": 1, \"InstanceType\": \"ml.m5.xlarge\", \"VolumeSizeInGB\": 30}, \"RoleArn\": \"arn:aws:iam::525102048888:role/service-role/AmazonSageMaker-ExecutionRole-20191105T125227\", \"InputDataConfig\": [{\"DataSource\": {\"S3DataSource\": {\"S3DataType\": \"S3Prefix\", \"S3Uri\": \"s3://ds-mlops-dev/preprocess-data/train\", \"S3DataDistributionType\": \"FullyReplicated\"}}, \"ContentType\": \"text/csv\", \"ChannelName\": \"train\"}, {\"DataSource\": {\"S3DataSource\": {\"S3DataType\": \"S3Prefix\", \"S3Uri\": \"s3://ds-mlops-dev/preprocess-data/validation\", \"S3DataDistributionType\": \"FullyReplicated\"}}, \"ContentType\": \"text/csv\", \"ChannelName\": \"validation\"}], \"VpcConfig\": {\"Subnets\": [\"subnet-0cf0e3f46326aa259\", \"subnet-0156b7f5500cf0b78\", \"subnet-032420199163cff9b\"], \"SecurityGroupIds\": [\"sg-044e0e7ce4f5721c0\"]}, \"HyperParameters\": {\"epochs\": \"50\", \"l1\": \"0.00035080090763972647\", \"learning_rate\": \"0.000199542496841376\", \"mini_batch_size\": \"512\", \"predictor_type\": \"regressor\"}, \"TrainingJobName.$\": \"$$.Execution.Input['TrainingJobName']\"}, \"Type\": \"Task\", \"Next\": \"Save Model\"}, \"Save Model\": {\"ResultPath\": \"$.ModelStepResults\", \"Parameters\": {\"ExecutionRoleArn\": \"arn:aws:iam::525102048888:role/service-role/AmazonSageMaker-ExecutionRole-20191105T125227\", \"ModelName.$\": \"$$.Execution.Input['ModelName']\", \"PrimaryContainer\": {\"Environment\": {}, \"Image\": \"382416733822.dkr.ecr.us-east-1.amazonaws.com/linear-learner:1\", \"ModelDataUrl.$\": \"$['ModelArtifacts']['S3ModelArtifacts']\"}}, \"Resource\": \"arn:aws:states:::sagemaker:createModel\", \"Type\": \"Task\", \"Next\": \"Query Training Results\"}, \"Query Training Results\": {\"Parameters\": {\"FunctionName\": \"LinearLearnerQuery-training-status\", \"Payload\": {\"TrainingJobName.$\": \"$.TrainingJobName\"}}, \"Resource\": \"arn:aws:states:::lambda:invoke\", \"Type\": \"Task\", \"Next\": \"RMSE < Threshold\"}, \"RMSE < Threshold\": {\"Type\": \"Choice\", \"Choices\": [{\"Variable\": \"$['Payload']['trainingMetrics'][0]['Value']\", \"NumericLessThan\": 3000, \"Next\": \"Create Model Endpoint Config\"}], \"Default\": \"Model Accuracy Too Low\"}, \"Model Accuracy Too Low\": {\"Comment\": \"Validation accuracy lower than threshold\", \"Type\": \"Fail\"}, \"Create Model Endpoint Config\": {\"Resource\": \"arn:aws:states:::sagemaker:createEndpointConfig\", \"Parameters\": {\"EndpointConfigName.$\": \"$$.Execution.Input['EndPointConfig']\", \"ProductionVariants\": [{\"InitialInstanceCount\": 1, \"InstanceType\": \"ml.m4.xlarge\", \"ModelName.$\": \"$$.Execution.Input['ModelName']\", \"VariantName\": \"AllTraffic\"}]}, \"Type\": \"Task\", \"Next\": \"Update Model Endpoint\"}, \"Update Model Endpoint\": {\"Resource\": \"arn:aws:states:::sagemaker:createEndpoint\", \"Parameters\": {\"EndpointConfigName.$\": \"$$.Execution.Input['EndPointConfig']\", \"EndpointName.$\": \"$$.Execution.Input['EndpointName']\"}, \"Type\": \"Task\", \"End\": true}}};\n",
       "    var elementId = '#graph-433';\n",
       "    var events = { 'events': [{\"timestamp\": 1624209750.657, \"type\": \"ExecutionStarted\", \"id\": 1, \"previousEventId\": 0, \"executionStartedEventDetails\": {\"input\": \"{\\n    \\\"PreprocessingJobName\\\": \\\"ll-boost-preprocessing-17c4529ed1ec11ebad620ee3dac64b5d\\\",\\n    \\\"TrainingJobName\\\": \\\"ll-boost-training-17c44fd8d1ec11ebad620ee3dac64b5d\\\",\\n    \\\"EvaluationProcessingJobName\\\": \\\"ll-boost-evaluation-17c45488d1ec11ebad620ee3dac64b5d\\\",\\n    \\\"ModelName\\\": \\\"ds-mlops-linear-learner-02\\\",\\n    \\\"ScoreJobName\\\": \\\"ll-boost-score-17c45636d1ec11ebad620ee3dac64b5d\\\",\\n    \\\"EndpointName\\\": \\\"endpoint-17c457d0d1ec11ebad620ee3dac64b5d\\\",\\n    \\\"EndPointConfig\\\": \\\"endpoint-config-17c45988d1ec11ebad620ee3dac64b5d\\\"\\n}\", \"inputDetails\": {\"truncated\": false}, \"roleArn\": \"arn:aws:iam::525102048888:role/poc-sagemaker-step-functi-MachineLearningWorkflowE-1XFI2UPRXFTXE\"}}, {\"timestamp\": 1624209750.692, \"type\": \"TaskStateEntered\", \"id\": 2, \"previousEventId\": 0, \"stateEnteredEventDetails\": {\"name\": \"Pre-processing\", \"input\": \"{\\n    \\\"PreprocessingJobName\\\": \\\"ll-boost-preprocessing-17c4529ed1ec11ebad620ee3dac64b5d\\\",\\n    \\\"TrainingJobName\\\": \\\"ll-boost-training-17c44fd8d1ec11ebad620ee3dac64b5d\\\",\\n    \\\"EvaluationProcessingJobName\\\": \\\"ll-boost-evaluation-17c45488d1ec11ebad620ee3dac64b5d\\\",\\n    \\\"ModelName\\\": \\\"ds-mlops-linear-learner-02\\\",\\n    \\\"ScoreJobName\\\": \\\"ll-boost-score-17c45636d1ec11ebad620ee3dac64b5d\\\",\\n    \\\"EndpointName\\\": \\\"endpoint-17c457d0d1ec11ebad620ee3dac64b5d\\\",\\n    \\\"EndPointConfig\\\": \\\"endpoint-config-17c45988d1ec11ebad620ee3dac64b5d\\\"\\n}\", \"inputDetails\": {\"truncated\": false}}}, {\"timestamp\": 1624209750.692, \"type\": \"TaskScheduled\", \"id\": 3, \"previousEventId\": 2, \"taskScheduledEventDetails\": {\"resourceType\": \"sagemaker\", \"resource\": \"createProcessingJob.sync\", \"region\": \"us-east-1\", \"parameters\": \"{\\\"ProcessingInputs\\\":[{\\\"InputName\\\":\\\"input\\\",\\\"AppManaged\\\":false,\\\"S3Input\\\":{\\\"S3Uri\\\":\\\"s3://poc-sagemaker-step-function-bucketformodelanddata-iip9wy7qh0y0/vci/data/input/vehicles.csv\\\",\\\"LocalPath\\\":\\\"/opt/ml/processing/input\\\",\\\"S3DataType\\\":\\\"S3Prefix\\\",\\\"S3InputMode\\\":\\\"File\\\",\\\"S3DataDistributionType\\\":\\\"FullyReplicated\\\",\\\"S3CompressionType\\\":\\\"None\\\"}},{\\\"InputName\\\":\\\"code\\\",\\\"AppManaged\\\":false,\\\"S3Input\\\":{\\\"S3Uri\\\":\\\"s3://ds-mlops-dev/code/ds-mlops-preprocessing_linear-learner_script.py\\\",\\\"LocalPath\\\":\\\"/opt/ml/processing/input/code\\\",\\\"S3DataType\\\":\\\"S3Prefix\\\",\\\"S3InputMode\\\":\\\"File\\\",\\\"S3DataDistributionType\\\":\\\"FullyReplicated\\\",\\\"S3CompressionType\\\":\\\"None\\\"}}],\\\"ProcessingOutputConfig\\\":{\\\"Outputs\\\":[{\\\"OutputName\\\":\\\"train_data\\\",\\\"AppManaged\\\":false,\\\"S3Output\\\":{\\\"S3Uri\\\":\\\"s3://ds-mlops-dev/preprocess-data/train\\\",\\\"LocalPath\\\":\\\"/opt/ml/processing/train\\\",\\\"S3UploadMode\\\":\\\"EndOfJob\\\"}},{\\\"OutputName\\\":\\\"test_data\\\",\\\"AppManaged\\\":false,\\\"S3Output\\\":{\\\"S3Uri\\\":\\\"s3://ds-mlops-dev/preprocess-data/test\\\",\\\"LocalPath\\\":\\\"/opt/ml/processing/test\\\",\\\"S3UploadMode\\\":\\\"EndOfJob\\\"}},{\\\"OutputName\\\":\\\"validation_data\\\",\\\"AppManaged\\\":false,\\\"S3Output\\\":{\\\"S3Uri\\\":\\\"s3://ds-mlops-dev/preprocess-data/validation\\\",\\\"LocalPath\\\":\\\"/opt/ml/processing/validation\\\",\\\"S3UploadMode\\\":\\\"EndOfJob\\\"}}]},\\\"AppSpecification\\\":{\\\"ImageUri\\\":\\\"683313688378.dkr.ecr.us-east-1.amazonaws.com/sagemaker-scikit-learn:0.20.0-cpu-py3\\\",\\\"ContainerEntrypoint\\\":[\\\"python3\\\",\\\"/opt/ml/processing/input/code/ds-mlops-preprocessing_linear-learner_script.py\\\"]},\\\"RoleArn\\\":\\\"arn:aws:iam::525102048888:role/service-role/AmazonSageMaker-ExecutionRole-20191105T125227\\\",\\\"NetworkConfig\\\":{\\\"EnableNetworkIsolation\\\":false,\\\"VpcConfig\\\":{\\\"SecurityGroupIds\\\":[\\\"sg-044e0e7ce4f5721c0\\\"],\\\"Subnets\\\":[\\\"subnet-0cf0e3f46326aa259\\\",\\\"subnet-0156b7f5500cf0b78\\\",\\\"subnet-032420199163cff9b\\\"]}},\\\"ProcessingResources\\\":{\\\"ClusterConfig\\\":{\\\"InstanceCount\\\":1,\\\"InstanceType\\\":\\\"ml.m5.xlarge\\\",\\\"VolumeSizeInGB\\\":30}},\\\"ProcessingJobName\\\":\\\"ll-boost-preprocessing-17c4529ed1ec11ebad620ee3dac64b5d\\\",\\\"Tags\\\":[{\\\"Key\\\":\\\"MANAGED_BY_AWS\\\",\\\"Value\\\":\\\"STARTED_BY_STEP_FUNCTIONS\\\"}]}\"}}, {\"timestamp\": 1624209750.773, \"type\": \"TaskStarted\", \"id\": 4, \"previousEventId\": 3, \"taskStartedEventDetails\": {\"resourceType\": \"sagemaker\", \"resource\": \"createProcessingJob.sync\"}}, {\"timestamp\": 1624209751.002, \"type\": \"TaskSubmitted\", \"id\": 5, \"previousEventId\": 4, \"taskSubmittedEventDetails\": {\"resourceType\": \"sagemaker\", \"resource\": \"createProcessingJob.sync\", \"output\": \"{\\\"ProcessingJobArn\\\":\\\"arn:aws:sagemaker:us-east-1:525102048888:processing-job/ll-boost-preprocessing-17c4529ed1ec11ebad620ee3dac64b5d\\\",\\\"SdkHttpMetadata\\\":{\\\"AllHttpHeaders\\\":{\\\"x-amzn-RequestId\\\":[\\\"961659d9-1063-457d-90fc-2a4e6858e099\\\"],\\\"Content-Length\\\":[\\\"134\\\"],\\\"Date\\\":[\\\"Sun, 20 Jun 2021 17:22:30 GMT\\\"],\\\"Content-Type\\\":[\\\"application/x-amz-json-1.1\\\"]},\\\"HttpHeaders\\\":{\\\"Content-Length\\\":\\\"134\\\",\\\"Content-Type\\\":\\\"application/x-amz-json-1.1\\\",\\\"Date\\\":\\\"Sun, 20 Jun 2021 17:22:30 GMT\\\",\\\"x-amzn-RequestId\\\":\\\"961659d9-1063-457d-90fc-2a4e6858e099\\\"},\\\"HttpStatusCode\\\":200},\\\"SdkResponseMetadata\\\":{\\\"RequestId\\\":\\\"961659d9-1063-457d-90fc-2a4e6858e099\\\"}}\", \"outputDetails\": {\"truncated\": false}}}, {\"timestamp\": 1624210046.044, \"type\": \"TaskSucceeded\", \"id\": 6, \"previousEventId\": 5, \"taskSucceededEventDetails\": {\"resourceType\": \"sagemaker\", \"resource\": \"createProcessingJob.sync\", \"output\": \"{\\\"ProcessingInputs\\\":[{\\\"InputName\\\":\\\"input\\\",\\\"AppManaged\\\":false,\\\"S3Input\\\":{\\\"S3Uri\\\":\\\"s3://poc-sagemaker-step-function-bucketformodelanddata-iip9wy7qh0y0/vci/data/input/vehicles.csv\\\",\\\"LocalPath\\\":\\\"/opt/ml/processing/input\\\",\\\"S3DataType\\\":\\\"S3_PREFIX\\\",\\\"S3InputMode\\\":\\\"FILE\\\",\\\"S3DataDistributionType\\\":\\\"FULLYREPLICATED\\\"}},{\\\"InputName\\\":\\\"code\\\",\\\"AppManaged\\\":false,\\\"S3Input\\\":{\\\"S3Uri\\\":\\\"s3://ds-mlops-dev/code/ds-mlops-preprocessing_linear-learner_script.py\\\",\\\"LocalPath\\\":\\\"/opt/ml/processing/input/code\\\",\\\"S3DataType\\\":\\\"S3_PREFIX\\\",\\\"S3InputMode\\\":\\\"FILE\\\",\\\"S3DataDistributionType\\\":\\\"FULLYREPLICATED\\\"}}],\\\"ProcessingOutputConfig\\\":{\\\"Outputs\\\":[{\\\"OutputName\\\":\\\"train_data\\\",\\\"S3Output\\\":{\\\"S3Uri\\\":\\\"s3://ds-mlops-dev/preprocess-data/train\\\",\\\"LocalPath\\\":\\\"/opt/ml/processing/train\\\",\\\"S3UploadMode\\\":\\\"END_OF_JOB\\\"},\\\"AppManaged\\\":false},{\\\"OutputName\\\":\\\"test_data\\\",\\\"S3Output\\\":{\\\"S3Uri\\\":\\\"s3://ds-mlops-dev/preprocess-data/test\\\",\\\"LocalPath\\\":\\\"/opt/ml/processing/test\\\",\\\"S3UploadMode\\\":\\\"END_OF_JOB\\\"},\\\"AppManaged\\\":false},{\\\"OutputName\\\":\\\"validation_data\\\",\\\"S3Output\\\":{\\\"S3Uri\\\":\\\"s3://ds-mlops-dev/preprocess-data/validation\\\",\\\"LocalPath\\\":\\\"/opt/ml/processing/validation\\\",\\\"S3UploadMode\\\":\\\"END_OF_JOB\\\"},\\\"AppManaged\\\":false}]},\\\"ProcessingJobName\\\":\\\"ll-boost-preprocessing-17c4529ed1ec11ebad620ee3dac64b5d\\\",\\\"ProcessingResources\\\":{\\\"ClusterConfig\\\":{\\\"InstanceCount\\\":1.0,\\\"InstanceType\\\":\\\"ml.m5.xlarge\\\",\\\"VolumeSizeInGB\\\":30.0}},\\\"StoppingCondition\\\":{\\\"MaxRuntimeInSeconds\\\":86400.0},\\\"AppSpecification\\\":{\\\"ImageUri\\\":\\\"683313688378.dkr.ecr.us-east-1.amazonaws.com/sagemaker-scikit-learn:0.20.0-cpu-py3\\\",\\\"ContainerEntrypoint\\\":[\\\"python3\\\",\\\"/opt/ml/processing/input/code/ds-mlops-preprocessing_linear-learner_script.py\\\"]},\\\"NetworkConfig\\\":{\\\"EnableInterContainerTrafficEncryption\\\":false,\\\"EnableNetworkIsolation\\\":false,\\\"VpcConfig\\\":{\\\"SecurityGroupIds\\\":[\\\"sg-044e0e7ce4f5721c0\\\"],\\\"Subnets\\\":[\\\"subnet-0cf0e3f46326aa259\\\",\\\"subnet-0156b7f5500cf0b78\\\",\\\"subnet-032420199163cff9b\\\"]}},\\\"RoleArn\\\":\\\"arn:aws:iam::525102048888:role/service-role/AmazonSageMaker-ExecutionRole-20191105T125227\\\",\\\"ExperimentConfig\\\":{},\\\"ProcessingJobArn\\\":\\\"arn:aws:sagemaker:us-east-1:525102048888:processing-job/ll-boost-preprocessing-17c4529ed1ec11ebad620ee3dac64b5d\\\",\\\"ProcessingJobStatus\\\":\\\"Completed\\\",\\\"ProcessingEndTime\\\":1.624210038E12,\\\"ProcessingStartTime\\\":1.624209968E12,\\\"LastModifiedTime\\\":1.624210038E12,\\\"CreationTime\\\":1.62420975E12,\\\"Tags\\\":{\\\"AWS_STEP_FUNCTIONS_EXECUTION_ARN\\\":\\\"arn:aws:states:us-east-1:525102048888:execution:ds-mlops-dev-linear-learner-step-function:a60cf619-9eed-4656-b690-58959fc8af36\\\",\\\"MANAGED_BY_AWS\\\":\\\"STARTED_BY_STEP_FUNCTIONS\\\"}}\", \"outputDetails\": {\"truncated\": false}}}, {\"timestamp\": 1624210046.044, \"type\": \"TaskStateExited\", \"id\": 7, \"previousEventId\": 6, \"stateExitedEventDetails\": {\"name\": \"Pre-processing\", \"output\": \"{\\\"ProcessingInputs\\\":[{\\\"InputName\\\":\\\"input\\\",\\\"AppManaged\\\":false,\\\"S3Input\\\":{\\\"S3Uri\\\":\\\"s3://poc-sagemaker-step-function-bucketformodelanddata-iip9wy7qh0y0/vci/data/input/vehicles.csv\\\",\\\"LocalPath\\\":\\\"/opt/ml/processing/input\\\",\\\"S3DataType\\\":\\\"S3_PREFIX\\\",\\\"S3InputMode\\\":\\\"FILE\\\",\\\"S3DataDistributionType\\\":\\\"FULLYREPLICATED\\\"}},{\\\"InputName\\\":\\\"code\\\",\\\"AppManaged\\\":false,\\\"S3Input\\\":{\\\"S3Uri\\\":\\\"s3://ds-mlops-dev/code/ds-mlops-preprocessing_linear-learner_script.py\\\",\\\"LocalPath\\\":\\\"/opt/ml/processing/input/code\\\",\\\"S3DataType\\\":\\\"S3_PREFIX\\\",\\\"S3InputMode\\\":\\\"FILE\\\",\\\"S3DataDistributionType\\\":\\\"FULLYREPLICATED\\\"}}],\\\"ProcessingOutputConfig\\\":{\\\"Outputs\\\":[{\\\"OutputName\\\":\\\"train_data\\\",\\\"S3Output\\\":{\\\"S3Uri\\\":\\\"s3://ds-mlops-dev/preprocess-data/train\\\",\\\"LocalPath\\\":\\\"/opt/ml/processing/train\\\",\\\"S3UploadMode\\\":\\\"END_OF_JOB\\\"},\\\"AppManaged\\\":false},{\\\"OutputName\\\":\\\"test_data\\\",\\\"S3Output\\\":{\\\"S3Uri\\\":\\\"s3://ds-mlops-dev/preprocess-data/test\\\",\\\"LocalPath\\\":\\\"/opt/ml/processing/test\\\",\\\"S3UploadMode\\\":\\\"END_OF_JOB\\\"},\\\"AppManaged\\\":false},{\\\"OutputName\\\":\\\"validation_data\\\",\\\"S3Output\\\":{\\\"S3Uri\\\":\\\"s3://ds-mlops-dev/preprocess-data/validation\\\",\\\"LocalPath\\\":\\\"/opt/ml/processing/validation\\\",\\\"S3UploadMode\\\":\\\"END_OF_JOB\\\"},\\\"AppManaged\\\":false}]},\\\"ProcessingJobName\\\":\\\"ll-boost-preprocessing-17c4529ed1ec11ebad620ee3dac64b5d\\\",\\\"ProcessingResources\\\":{\\\"ClusterConfig\\\":{\\\"InstanceCount\\\":1.0,\\\"InstanceType\\\":\\\"ml.m5.xlarge\\\",\\\"VolumeSizeInGB\\\":30.0}},\\\"StoppingCondition\\\":{\\\"MaxRuntimeInSeconds\\\":86400.0},\\\"AppSpecification\\\":{\\\"ImageUri\\\":\\\"683313688378.dkr.ecr.us-east-1.amazonaws.com/sagemaker-scikit-learn:0.20.0-cpu-py3\\\",\\\"ContainerEntrypoint\\\":[\\\"python3\\\",\\\"/opt/ml/processing/input/code/ds-mlops-preprocessing_linear-learner_script.py\\\"]},\\\"NetworkConfig\\\":{\\\"EnableInterContainerTrafficEncryption\\\":false,\\\"EnableNetworkIsolation\\\":false,\\\"VpcConfig\\\":{\\\"SecurityGroupIds\\\":[\\\"sg-044e0e7ce4f5721c0\\\"],\\\"Subnets\\\":[\\\"subnet-0cf0e3f46326aa259\\\",\\\"subnet-0156b7f5500cf0b78\\\",\\\"subnet-032420199163cff9b\\\"]}},\\\"RoleArn\\\":\\\"arn:aws:iam::525102048888:role/service-role/AmazonSageMaker-ExecutionRole-20191105T125227\\\",\\\"ExperimentConfig\\\":{},\\\"ProcessingJobArn\\\":\\\"arn:aws:sagemaker:us-east-1:525102048888:processing-job/ll-boost-preprocessing-17c4529ed1ec11ebad620ee3dac64b5d\\\",\\\"ProcessingJobStatus\\\":\\\"Completed\\\",\\\"ProcessingEndTime\\\":1.624210038E12,\\\"ProcessingStartTime\\\":1.624209968E12,\\\"LastModifiedTime\\\":1.624210038E12,\\\"CreationTime\\\":1.62420975E12,\\\"Tags\\\":{\\\"AWS_STEP_FUNCTIONS_EXECUTION_ARN\\\":\\\"arn:aws:states:us-east-1:525102048888:execution:ds-mlops-dev-linear-learner-step-function:a60cf619-9eed-4656-b690-58959fc8af36\\\",\\\"MANAGED_BY_AWS\\\":\\\"STARTED_BY_STEP_FUNCTIONS\\\"}}\", \"outputDetails\": {\"truncated\": false}}}, {\"timestamp\": 1624210046.055, \"type\": \"TaskStateEntered\", \"id\": 8, \"previousEventId\": 7, \"stateEnteredEventDetails\": {\"name\": \"Model Training(linear)\", \"input\": \"{\\\"ProcessingInputs\\\":[{\\\"InputName\\\":\\\"input\\\",\\\"AppManaged\\\":false,\\\"S3Input\\\":{\\\"S3Uri\\\":\\\"s3://poc-sagemaker-step-function-bucketformodelanddata-iip9wy7qh0y0/vci/data/input/vehicles.csv\\\",\\\"LocalPath\\\":\\\"/opt/ml/processing/input\\\",\\\"S3DataType\\\":\\\"S3_PREFIX\\\",\\\"S3InputMode\\\":\\\"FILE\\\",\\\"S3DataDistributionType\\\":\\\"FULLYREPLICATED\\\"}},{\\\"InputName\\\":\\\"code\\\",\\\"AppManaged\\\":false,\\\"S3Input\\\":{\\\"S3Uri\\\":\\\"s3://ds-mlops-dev/code/ds-mlops-preprocessing_linear-learner_script.py\\\",\\\"LocalPath\\\":\\\"/opt/ml/processing/input/code\\\",\\\"S3DataType\\\":\\\"S3_PREFIX\\\",\\\"S3InputMode\\\":\\\"FILE\\\",\\\"S3DataDistributionType\\\":\\\"FULLYREPLICATED\\\"}}],\\\"ProcessingOutputConfig\\\":{\\\"Outputs\\\":[{\\\"OutputName\\\":\\\"train_data\\\",\\\"S3Output\\\":{\\\"S3Uri\\\":\\\"s3://ds-mlops-dev/preprocess-data/train\\\",\\\"LocalPath\\\":\\\"/opt/ml/processing/train\\\",\\\"S3UploadMode\\\":\\\"END_OF_JOB\\\"},\\\"AppManaged\\\":false},{\\\"OutputName\\\":\\\"test_data\\\",\\\"S3Output\\\":{\\\"S3Uri\\\":\\\"s3://ds-mlops-dev/preprocess-data/test\\\",\\\"LocalPath\\\":\\\"/opt/ml/processing/test\\\",\\\"S3UploadMode\\\":\\\"END_OF_JOB\\\"},\\\"AppManaged\\\":false},{\\\"OutputName\\\":\\\"validation_data\\\",\\\"S3Output\\\":{\\\"S3Uri\\\":\\\"s3://ds-mlops-dev/preprocess-data/validation\\\",\\\"LocalPath\\\":\\\"/opt/ml/processing/validation\\\",\\\"S3UploadMode\\\":\\\"END_OF_JOB\\\"},\\\"AppManaged\\\":false}]},\\\"ProcessingJobName\\\":\\\"ll-boost-preprocessing-17c4529ed1ec11ebad620ee3dac64b5d\\\",\\\"ProcessingResources\\\":{\\\"ClusterConfig\\\":{\\\"InstanceCount\\\":1.0,\\\"InstanceType\\\":\\\"ml.m5.xlarge\\\",\\\"VolumeSizeInGB\\\":30.0}},\\\"StoppingCondition\\\":{\\\"MaxRuntimeInSeconds\\\":86400.0},\\\"AppSpecification\\\":{\\\"ImageUri\\\":\\\"683313688378.dkr.ecr.us-east-1.amazonaws.com/sagemaker-scikit-learn:0.20.0-cpu-py3\\\",\\\"ContainerEntrypoint\\\":[\\\"python3\\\",\\\"/opt/ml/processing/input/code/ds-mlops-preprocessing_linear-learner_script.py\\\"]},\\\"NetworkConfig\\\":{\\\"EnableInterContainerTrafficEncryption\\\":false,\\\"EnableNetworkIsolation\\\":false,\\\"VpcConfig\\\":{\\\"SecurityGroupIds\\\":[\\\"sg-044e0e7ce4f5721c0\\\"],\\\"Subnets\\\":[\\\"subnet-0cf0e3f46326aa259\\\",\\\"subnet-0156b7f5500cf0b78\\\",\\\"subnet-032420199163cff9b\\\"]}},\\\"RoleArn\\\":\\\"arn:aws:iam::525102048888:role/service-role/AmazonSageMaker-ExecutionRole-20191105T125227\\\",\\\"ExperimentConfig\\\":{},\\\"ProcessingJobArn\\\":\\\"arn:aws:sagemaker:us-east-1:525102048888:processing-job/ll-boost-preprocessing-17c4529ed1ec11ebad620ee3dac64b5d\\\",\\\"ProcessingJobStatus\\\":\\\"Completed\\\",\\\"ProcessingEndTime\\\":1.624210038E12,\\\"ProcessingStartTime\\\":1.624209968E12,\\\"LastModifiedTime\\\":1.624210038E12,\\\"CreationTime\\\":1.62420975E12,\\\"Tags\\\":{\\\"AWS_STEP_FUNCTIONS_EXECUTION_ARN\\\":\\\"arn:aws:states:us-east-1:525102048888:execution:ds-mlops-dev-linear-learner-step-function:a60cf619-9eed-4656-b690-58959fc8af36\\\",\\\"MANAGED_BY_AWS\\\":\\\"STARTED_BY_STEP_FUNCTIONS\\\"}}\", \"inputDetails\": {\"truncated\": false}}}, {\"timestamp\": 1624210046.055, \"type\": \"TaskScheduled\", \"id\": 9, \"previousEventId\": 8, \"taskScheduledEventDetails\": {\"resourceType\": \"sagemaker\", \"resource\": \"createTrainingJob.sync\", \"region\": \"us-east-1\", \"parameters\": \"{\\\"AlgorithmSpecification\\\":{\\\"TrainingImage\\\":\\\"382416733822.dkr.ecr.us-east-1.amazonaws.com/linear-learner:1\\\",\\\"TrainingInputMode\\\":\\\"File\\\"},\\\"OutputDataConfig\\\":{\\\"S3OutputPath\\\":\\\"s3://ds-mlops-dev/models\\\"},\\\"StoppingCondition\\\":{\\\"MaxRuntimeInSeconds\\\":86400},\\\"ResourceConfig\\\":{\\\"InstanceCount\\\":1,\\\"InstanceType\\\":\\\"ml.m5.xlarge\\\",\\\"VolumeSizeInGB\\\":30},\\\"RoleArn\\\":\\\"arn:aws:iam::525102048888:role/service-role/AmazonSageMaker-ExecutionRole-20191105T125227\\\",\\\"InputDataConfig\\\":[{\\\"DataSource\\\":{\\\"S3DataSource\\\":{\\\"S3DataType\\\":\\\"S3Prefix\\\",\\\"S3Uri\\\":\\\"s3://ds-mlops-dev/preprocess-data/train\\\",\\\"S3DataDistributionType\\\":\\\"FullyReplicated\\\"}},\\\"ContentType\\\":\\\"text/csv\\\",\\\"ChannelName\\\":\\\"train\\\"},{\\\"DataSource\\\":{\\\"S3DataSource\\\":{\\\"S3DataType\\\":\\\"S3Prefix\\\",\\\"S3Uri\\\":\\\"s3://ds-mlops-dev/preprocess-data/validation\\\",\\\"S3DataDistributionType\\\":\\\"FullyReplicated\\\"}},\\\"ContentType\\\":\\\"text/csv\\\",\\\"ChannelName\\\":\\\"validation\\\"}],\\\"VpcConfig\\\":{\\\"Subnets\\\":[\\\"subnet-0cf0e3f46326aa259\\\",\\\"subnet-0156b7f5500cf0b78\\\",\\\"subnet-032420199163cff9b\\\"],\\\"SecurityGroupIds\\\":[\\\"sg-044e0e7ce4f5721c0\\\"]},\\\"HyperParameters\\\":{\\\"epochs\\\":\\\"50\\\",\\\"l1\\\":\\\"0.00035080090763972647\\\",\\\"learning_rate\\\":\\\"0.000199542496841376\\\",\\\"mini_batch_size\\\":\\\"512\\\",\\\"predictor_type\\\":\\\"regressor\\\"},\\\"TrainingJobName\\\":\\\"ll-boost-training-17c44fd8d1ec11ebad620ee3dac64b5d\\\",\\\"Tags\\\":[{\\\"Key\\\":\\\"MANAGED_BY_AWS\\\",\\\"Value\\\":\\\"STARTED_BY_STEP_FUNCTIONS\\\"}]}\"}}, {\"timestamp\": 1624210046.104, \"type\": \"TaskStarted\", \"id\": 10, \"previousEventId\": 9, \"taskStartedEventDetails\": {\"resourceType\": \"sagemaker\", \"resource\": \"createTrainingJob.sync\"}}, {\"timestamp\": 1624210046.408, \"type\": \"TaskSubmitted\", \"id\": 11, \"previousEventId\": 10, \"taskSubmittedEventDetails\": {\"resourceType\": \"sagemaker\", \"resource\": \"createTrainingJob.sync\", \"output\": \"{\\\"SdkHttpMetadata\\\":{\\\"AllHttpHeaders\\\":{\\\"x-amzn-RequestId\\\":[\\\"f87345cb-56e6-457f-91a5-d61925908cf0\\\"],\\\"Content-Length\\\":[\\\"125\\\"],\\\"Date\\\":[\\\"Sun, 20 Jun 2021 17:27:26 GMT\\\"],\\\"Content-Type\\\":[\\\"application/x-amz-json-1.1\\\"]},\\\"HttpHeaders\\\":{\\\"Content-Length\\\":\\\"125\\\",\\\"Content-Type\\\":\\\"application/x-amz-json-1.1\\\",\\\"Date\\\":\\\"Sun, 20 Jun 2021 17:27:26 GMT\\\",\\\"x-amzn-RequestId\\\":\\\"f87345cb-56e6-457f-91a5-d61925908cf0\\\"},\\\"HttpStatusCode\\\":200},\\\"SdkResponseMetadata\\\":{\\\"RequestId\\\":\\\"f87345cb-56e6-457f-91a5-d61925908cf0\\\"},\\\"TrainingJobArn\\\":\\\"arn:aws:sagemaker:us-east-1:525102048888:training-job/ll-boost-training-17c44fd8d1ec11ebad620ee3dac64b5d\\\"}\", \"outputDetails\": {\"truncated\": false}}}, {\"timestamp\": 1624210328.108, \"type\": \"TaskSucceeded\", \"id\": 12, \"previousEventId\": 11, \"taskSucceededEventDetails\": {\"resourceType\": \"sagemaker\", \"resource\": \"createTrainingJob.sync\", \"output\": \"{\\\"AlgorithmSpecification\\\":{\\\"EnableSageMakerMetricsTimeSeries\\\":false,\\\"MetricDefinitions\\\":[{\\\"Name\\\":\\\"test:dcg\\\",\\\"Regex\\\":\\\"#quality_metric: host=\\\\\\\\S+, test dcg <score>=(\\\\\\\\S+)\\\"},{\\\"Name\\\":\\\"train:progress\\\",\\\"Regex\\\":\\\"#progress_metric: host=\\\\\\\\S+, completed (\\\\\\\\S+) %\\\"},{\\\"Name\\\":\\\"test:binary_f_beta\\\",\\\"Regex\\\":\\\"#quality_metric: host=\\\\\\\\S+, test binary_f_\\\\\\\\S+ <score>=(\\\\\\\\S+)\\\"},{\\\"Name\\\":\\\"train:objective_loss\\\",\\\"Regex\\\":\\\"#quality_metric: host=\\\\\\\\S+, epoch=\\\\\\\\S+, train \\\\\\\\S+_objective <loss>=(\\\\\\\\S+)\\\"},{\\\"Name\\\":\\\"validation:macro_precision\\\",\\\"Regex\\\":\\\"#quality_metric: host=\\\\\\\\S+, validation macro_precision <score>=(\\\\\\\\S+)\\\"},{\\\"Name\\\":\\\"validation:dcg\\\",\\\"Regex\\\":\\\"#quality_metric: host=\\\\\\\\S+, validation dcg <score>=(\\\\\\\\S+)\\\"},{\\\"Name\\\":\\\"test:mse\\\",\\\"Regex\\\":\\\"#quality_metric: host=\\\\\\\\S+, test mse <loss>=(\\\\\\\\S+)\\\"},{\\\"Name\\\":\\\"validation:binary_f_beta\\\",\\\"Regex\\\":\\\"#quality_metric: host=\\\\\\\\S+, validation binary_f_\\\\\\\\S+ <score>=(\\\\\\\\S+)\\\"},{\\\"Name\\\":\\\"validation:objective_loss\\\",\\\"Regex\\\":\\\"#quality_metric: host=\\\\\\\\S+, epoch=\\\\\\\\S+, validation \\\\\\\\S+_objective <loss>=(\\\\\\\\S+)\\\"},{\\\"Name\\\":\\\"validation:objective_loss:final\\\",\\\"Regex\\\":\\\"#quality_metric: host=\\\\\\\\S+, validation \\\\\\\\S+_objective <loss>=(\\\\\\\\S+)\\\"},{\\\"Name\\\":\\\"test:macro_recall\\\",\\\"Regex\\\":\\\"#quality_metric: host=\\\\\\\\S+, test macro_recall <score>=(\\\\\\\\S+)\\\"},{\\\"Name\\\":\\\"test:absolute_loss\\\",\\\"Regex\\\":\\\"#quality_metric: host=\\\\\\\\S+, test absolute_loss <loss>=(\\\\\\\\S+)\\\"},{\\\"Name\\\":\\\"train:recall\\\",\\\"Regex\\\":\\\"#quality_metric: host=\\\\\\\\S+, train recall <score>=(\\\\\\\\S+)\\\"},{\\\"Name\\\":\\\"train:mse\\\",\\\"Regex\\\":\\\"#quality_metric: host=\\\\\\\\S+, train mse <loss>=(\\\\\\\\S+)\\\"},{\\\"Name\\\":\\\"validation:roc_auc_score\\\",\\\"Regex\\\":\\\"#quality_metric: host=\\\\\\\\S+, validation roc_auc_score <score>=(\\\\\\\\S+)\\\"},{\\\"Name\\\":\\\"train:precision\\\",\\\"Regex\\\":\\\"#quality_metric: host=\\\\\\\\S+, train precision <score>=(\\\\\\\\S+)\\\"},{\\\"Name\\\":\\\"train:objective_loss:final\\\",\\\"Regex\\\":\\\"#quality_metric: host=\\\\\\\\S+, train \\\\\\\\S+_objective <loss>=(\\\\\\\\S+)\\\"},{\\\"Name\\\":\\\"validation:recall\\\",\\\"Regex\\\":\\\"#quality_metric: host=\\\\\\\\S+, validation recall <score>=(\\\\\\\\S+)\\\"},{\\\"Name\\\":\\\"test:multiclass_accuracy\\\",\\\"Regex\\\":\\\"#quality_metric: host=\\\\\\\\S+, test multiclass_accuracy <score>=(\\\\\\\\S+)\\\"},{\\\"Name\\\":\\\"validation:precision\\\",\\\"Regex\\\":\\\"#quality_metric: host=\\\\\\\\S+, validation precision <score>=(\\\\\\\\S+)\\\"},{\\\"Name\\\":\\\"validation:multiclass_accuracy\\\",\\\"Regex\\\":\\\"#quality_metric: host=\\\\\\\\S+, validation multiclass_accuracy <score>=(\\\\\\\\S+)\\\"},{\\\"Name\\\":\\\"train:binary_f_beta\\\",\\\"Regex\\\":\\\"#quality_metric: host=\\\\\\\\S+, train binary_f_\\\\\\\\S+ <score>=(\\\\\\\\S+)\\\"},{\\\"Name\\\":\\\"test:recall\\\",\\\"Regex\\\":\\\"#quality_metric: host=\\\\\\\\S+, test recall <score>=(\\\\\\\\S+)\\\"},{\\\"Name\\\":\\\"test:macro_precision\\\",\\\"Regex\\\":\\\"#quality_metric: host=\\\\\\\\S+, test macro_precision <score>=(\\\\\\\\S+)\\\"},{\\\"Name\\\":\\\"test:macro_f_beta\\\",\\\"Regex\\\":\\\"#quality_metric: host=\\\\\\\\S+, test macro_f_\\\\\\\\S+ <score>=(\\\\\\\\S+)\\\"},{\\\"Name\\\":\\\"test:objective_loss\\\",\\\"Regex\\\":\\\"#quality_metric: host=\\\\\\\\S+, test \\\\\\\\S+_objective <loss>=(\\\\\\\\S+)\\\"},{\\\"Name\\\":\\\"test:precision\\\",\\\"Regex\\\":\\\"#quality_metric: host=\\\\\\\\S+, test precision <score>=(\\\\\\\\S+)\\\"},{\\\"Name\\\":\\\"validation:multiclass_top_k_accuracy\\\",\\\"Regex\\\":\\\"#quality_metric: host=\\\\\\\\S+, validation multiclass_top_k_accuracy_\\\\\\\\S+ <score>=(\\\\\\\\S+)\\\"},{\\\"Name\\\":\\\"train:binary_classification_accuracy\\\",\\\"Regex\\\":\\\"#quality_metric: host=\\\\\\\\S+, train binary_classification_accuracy <score>=(\\\\\\\\S+)\\\"},{\\\"Name\\\":\\\"validation:mse\\\",\\\"Regex\\\":\\\"#quality_metric: host=\\\\\\\\S+, validation mse <loss>=(\\\\\\\\S+)\\\"},{\\\"Name\\\":\\\"test:multiclass_top_k_accuracy\\\",\\\"Regex\\\":\\\"#quality_metric: host=\\\\\\\\S+, test multiclass_top_k_accuracy_\\\\\\\\S+ <score>=(\\\\\\\\S+)\\\"},{\\\"Name\\\":\\\"validation:binary_classification_accuracy\\\",\\\"Regex\\\":\\\"#quality_metric: host=\\\\\\\\S+, validation binary_classification_accuracy <score>=(\\\\\\\\S+)\\\"},{\\\"Name\\\":\\\"train:absolute_loss\\\",\\\"Regex\\\":\\\"#quality_metric: host=\\\\\\\\S+, train absolute_loss <loss>=(\\\\\\\\S+)\\\"},{\\\"Name\\\":\\\"validation:macro_recall\\\",\\\"Regex\\\":\\\"#quality_metric: host=\\\\\\\\S+, validation macro_recall <score>=(\\\\\\\\S+)\\\"},{\\\"Name\\\":\\\"train:throughput\\\",\\\"Regex\\\":\\\"#throughput_metric: host=\\\\\\\\S+, train throughput=(\\\\\\\\S+) records/second\\\"},{\\\"Name\\\":\\\"test:binary_classification_accuracy\\\",\\\"Regex\\\":\\\"#quality_metric: host=\\\\\\\\S+, test binary_classification_accuracy <score>=(\\\\\\\\S+)\\\"},{\\\"Name\\\":\\\"validation:absolute_loss\\\",\\\"Regex\\\":\\\"#quality_metric: host=\\\\\\\\S+, validation absolute_loss <loss>=(\\\\\\\\S+)\\\"},{\\\"Name\\\":\\\"validation:macro_f_beta\\\",\\\"Regex\\\":\\\"#quality_metric: host=\\\\\\\\S+, validation macro_f_\\\\\\\\S+ <score>=(\\\\\\\\S+)\\\"},{\\\"Name\\\":\\\"test:roc_auc_score\\\",\\\"Regex\\\":\\\"#quality_metric: host=\\\\\\\\S+, test roc_auc_score <score>=(\\\\\\\\S+)\\\"}],\\\"TrainingImage\\\":\\\"382416733822.dkr.ecr.us-east-1.amazonaws.com/linear-learner:1\\\",\\\"TrainingInputMode\\\":\\\"File\\\"},\\\"BillableTimeInSeconds\\\":133,\\\"CreationTime\\\":1624210046377,\\\"EnableInterContainerTrafficEncryption\\\":false,\\\"EnableManagedSpotTraining\\\":false,\\\"EnableNetworkIsolation\\\":false,\\\"FinalMetricDataList\\\":[{\\\"MetricName\\\":\\\"train:progress\\\",\\\"Timestamp\\\":1624210312000,\\\"Value\\\":100.0},{\\\"MetricName\\\":\\\"train:objective_loss\\\",\\\"Timestamp\\\":1624210310000,\\\"Value\\\":0.96897084},{\\\"MetricName\\\":\\\"validation:objective_loss\\\",\\\"Timestamp\\\":1624210312000,\\\"Value\\\":2.8886886E7},{\\\"MetricName\\\":\\\"validation:objective_loss:final\\\",\\\"Timestamp\\\":1624210314000,\\\"Value\\\":2.8898176E7},{\\\"MetricName\\\":\\\"validation:mse\\\",\\\"Timestamp\\\":1624210314000,\\\"Value\\\":2.8898176E7},{\\\"MetricName\\\":\\\"train:throughput\\\",\\\"Timestamp\\\":1624210312000,\\\"Value\\\":24308.195},{\\\"MetricName\\\":\\\"validation:absolute_loss\\\",\\\"Timestamp\\\":1624210314000,\\\"Value\\\":4711.2803}],\\\"HyperParameters\\\":{\\\"predictor_type\\\":\\\"regressor\\\",\\\"l1\\\":\\\"0.00035080090763972647\\\",\\\"epochs\\\":\\\"50\\\",\\\"learning_rate\\\":\\\"0.000199542496841376\\\",\\\"mini_batch_size\\\":\\\"512\\\"},\\\"InputDataConfig\\\":[{\\\"ChannelName\\\":\\\"train\\\",\\\"CompressionType\\\":\\\"None\\\",\\\"ContentType\\\":\\\"text/csv\\\",\\\"DataSource\\\":{\\\"S3DataSource\\\":{\\\"S3DataDistributionType\\\":\\\"FullyReplicated\\\",\\\"S3DataType\\\":\\\"S3Prefix\\\",\\\"S3Uri\\\":\\\"s3://ds-mlops-dev/preprocess-data/train\\\"}},\\\"RecordWrapperType\\\":\\\"None\\\"},{\\\"ChannelName\\\":\\\"validation\\\",\\\"CompressionType\\\":\\\"None\\\",\\\"ContentType\\\":\\\"text/csv\\\",\\\"DataSource\\\":{\\\"S3DataSource\\\":{\\\"S3DataDistributionType\\\":\\\"FullyReplicated\\\",\\\"S3DataType\\\":\\\"S3Prefix\\\",\\\"S3Uri\\\":\\\"s3://ds-mlops-dev/preprocess-data/validation\\\"}},\\\"RecordWrapperType\\\":\\\"None\\\"}],\\\"LastModifiedTime\\\":1624210323495,\\\"ModelArtifacts\\\":{\\\"S3ModelArtifacts\\\":\\\"s3://ds-mlops-dev/models/ll-boost-training-17c44fd8d1ec11ebad620ee3dac64b5d/output/model.tar.gz\\\"},\\\"OutputDataConfig\\\":{\\\"KmsKeyId\\\":\\\"\\\",\\\"S3OutputPath\\\":\\\"s3://ds-mlops-dev/models\\\"},\\\"ProfilingStatus\\\":\\\"Disabled\\\",\\\"ResourceConfig\\\":{\\\"InstanceCount\\\":1,\\\"InstanceType\\\":\\\"ml.m5.xlarge\\\",\\\"VolumeSizeInGB\\\":30},\\\"RoleArn\\\":\\\"arn:aws:iam::525102048888:role/service-role/AmazonSageMaker-ExecutionRole-20191105T125227\\\",\\\"SdkHttpMetadata\\\":{\\\"AllHttpHeaders\\\":{\\\"x-amzn-RequestId\\\":[\\\"e1cde3e5-fdc6-46c5-85ad-119040125451\\\"],\\\"Content-Length\\\":[\\\"7844\\\"],\\\"Date\\\":[\\\"Sun, 20 Jun 2021 17:32:08 GMT\\\"],\\\"Content-Type\\\":[\\\"application/x-amz-json-1.1\\\"]},\\\"HttpHeaders\\\":{\\\"Content-Length\\\":\\\"7844\\\",\\\"Content-Type\\\":\\\"application/x-amz-json-1.1\\\",\\\"Date\\\":\\\"Sun, 20 Jun 2021 17:32:08 GMT\\\",\\\"x-amzn-RequestId\\\":\\\"e1cde3e5-fdc6-46c5-85ad-119040125451\\\"},\\\"HttpStatusCode\\\":200},\\\"SdkResponseMetadata\\\":{\\\"RequestId\\\":\\\"e1cde3e5-fdc6-46c5-85ad-119040125451\\\"},\\\"SecondaryStatus\\\":\\\"Completed\\\",\\\"SecondaryStatusTransitions\\\":[{\\\"EndTime\\\":1624210190955,\\\"StartTime\\\":1624210046377,\\\"Status\\\":\\\"Starting\\\",\\\"StatusMessage\\\":\\\"Preparing the instances for training\\\"},{\\\"EndTime\\\":1624210222505,\\\"StartTime\\\":1624210190955,\\\"Status\\\":\\\"Downloading\\\",\\\"StatusMessage\\\":\\\"Downloading input data\\\"},{\\\"EndTime\\\":1624210316323,\\\"StartTime\\\":1624210222505,\\\"Status\\\":\\\"Training\\\",\\\"StatusMessage\\\":\\\"Training image download completed. Training in progress.\\\"},{\\\"EndTime\\\":1624210323495,\\\"StartTime\\\":1624210316323,\\\"Status\\\":\\\"Uploading\\\",\\\"StatusMessage\\\":\\\"Uploading generated training model\\\"},{\\\"EndTime\\\":1624210323495,\\\"StartTime\\\":1624210323495,\\\"Status\\\":\\\"Completed\\\",\\\"StatusMessage\\\":\\\"Training job completed\\\"}],\\\"StoppingCondition\\\":{\\\"MaxRuntimeInSeconds\\\":86400},\\\"TrainingEndTime\\\":1624210323495,\\\"TrainingJobArn\\\":\\\"arn:aws:sagemaker:us-east-1:525102048888:training-job/ll-boost-training-17c44fd8d1ec11ebad620ee3dac64b5d\\\",\\\"TrainingJobName\\\":\\\"ll-boost-training-17c44fd8d1ec11ebad620ee3dac64b5d\\\",\\\"TrainingJobStatus\\\":\\\"Completed\\\",\\\"TrainingStartTime\\\":1624210190955,\\\"TrainingTimeInSeconds\\\":133,\\\"VpcConfig\\\":{\\\"SecurityGroupIds\\\":[\\\"sg-044e0e7ce4f5721c0\\\"],\\\"Subnets\\\":[\\\"subnet-0cf0e3f46326aa259\\\",\\\"subnet-0156b7f5500cf0b78\\\",\\\"subnet-032420199163cff9b\\\"]},\\\"Tags\\\":{\\\"MANAGED_BY_AWS\\\":\\\"STARTED_BY_STEP_FUNCTIONS\\\",\\\"AWS_STEP_FUNCTIONS_EXECUTION_ARN\\\":\\\"arn:aws:states:us-east-1:525102048888:execution:ds-mlops-dev-linear-learner-step-function:a60cf619-9eed-4656-b690-58959fc8af36\\\"}}\", \"outputDetails\": {\"truncated\": false}}}, {\"timestamp\": 1624210328.108, \"type\": \"TaskStateExited\", \"id\": 13, \"previousEventId\": 12, \"stateExitedEventDetails\": {\"name\": \"Model Training(linear)\", \"output\": \"{\\\"AlgorithmSpecification\\\":{\\\"EnableSageMakerMetricsTimeSeries\\\":false,\\\"MetricDefinitions\\\":[{\\\"Name\\\":\\\"test:dcg\\\",\\\"Regex\\\":\\\"#quality_metric: host=\\\\\\\\S+, test dcg <score>=(\\\\\\\\S+)\\\"},{\\\"Name\\\":\\\"train:progress\\\",\\\"Regex\\\":\\\"#progress_metric: host=\\\\\\\\S+, completed (\\\\\\\\S+) %\\\"},{\\\"Name\\\":\\\"test:binary_f_beta\\\",\\\"Regex\\\":\\\"#quality_metric: host=\\\\\\\\S+, test binary_f_\\\\\\\\S+ <score>=(\\\\\\\\S+)\\\"},{\\\"Name\\\":\\\"train:objective_loss\\\",\\\"Regex\\\":\\\"#quality_metric: host=\\\\\\\\S+, epoch=\\\\\\\\S+, train \\\\\\\\S+_objective <loss>=(\\\\\\\\S+)\\\"},{\\\"Name\\\":\\\"validation:macro_precision\\\",\\\"Regex\\\":\\\"#quality_metric: host=\\\\\\\\S+, validation macro_precision <score>=(\\\\\\\\S+)\\\"},{\\\"Name\\\":\\\"validation:dcg\\\",\\\"Regex\\\":\\\"#quality_metric: host=\\\\\\\\S+, validation dcg <score>=(\\\\\\\\S+)\\\"},{\\\"Name\\\":\\\"test:mse\\\",\\\"Regex\\\":\\\"#quality_metric: host=\\\\\\\\S+, test mse <loss>=(\\\\\\\\S+)\\\"},{\\\"Name\\\":\\\"validation:binary_f_beta\\\",\\\"Regex\\\":\\\"#quality_metric: host=\\\\\\\\S+, validation binary_f_\\\\\\\\S+ <score>=(\\\\\\\\S+)\\\"},{\\\"Name\\\":\\\"validation:objective_loss\\\",\\\"Regex\\\":\\\"#quality_metric: host=\\\\\\\\S+, epoch=\\\\\\\\S+, validation \\\\\\\\S+_objective <loss>=(\\\\\\\\S+)\\\"},{\\\"Name\\\":\\\"validation:objective_loss:final\\\",\\\"Regex\\\":\\\"#quality_metric: host=\\\\\\\\S+, validation \\\\\\\\S+_objective <loss>=(\\\\\\\\S+)\\\"},{\\\"Name\\\":\\\"test:macro_recall\\\",\\\"Regex\\\":\\\"#quality_metric: host=\\\\\\\\S+, test macro_recall <score>=(\\\\\\\\S+)\\\"},{\\\"Name\\\":\\\"test:absolute_loss\\\",\\\"Regex\\\":\\\"#quality_metric: host=\\\\\\\\S+, test absolute_loss <loss>=(\\\\\\\\S+)\\\"},{\\\"Name\\\":\\\"train:recall\\\",\\\"Regex\\\":\\\"#quality_metric: host=\\\\\\\\S+, train recall <score>=(\\\\\\\\S+)\\\"},{\\\"Name\\\":\\\"train:mse\\\",\\\"Regex\\\":\\\"#quality_metric: host=\\\\\\\\S+, train mse <loss>=(\\\\\\\\S+)\\\"},{\\\"Name\\\":\\\"validation:roc_auc_score\\\",\\\"Regex\\\":\\\"#quality_metric: host=\\\\\\\\S+, validation roc_auc_score <score>=(\\\\\\\\S+)\\\"},{\\\"Name\\\":\\\"train:precision\\\",\\\"Regex\\\":\\\"#quality_metric: host=\\\\\\\\S+, train precision <score>=(\\\\\\\\S+)\\\"},{\\\"Name\\\":\\\"train:objective_loss:final\\\",\\\"Regex\\\":\\\"#quality_metric: host=\\\\\\\\S+, train \\\\\\\\S+_objective <loss>=(\\\\\\\\S+)\\\"},{\\\"Name\\\":\\\"validation:recall\\\",\\\"Regex\\\":\\\"#quality_metric: host=\\\\\\\\S+, validation recall <score>=(\\\\\\\\S+)\\\"},{\\\"Name\\\":\\\"test:multiclass_accuracy\\\",\\\"Regex\\\":\\\"#quality_metric: host=\\\\\\\\S+, test multiclass_accuracy <score>=(\\\\\\\\S+)\\\"},{\\\"Name\\\":\\\"validation:precision\\\",\\\"Regex\\\":\\\"#quality_metric: host=\\\\\\\\S+, validation precision <score>=(\\\\\\\\S+)\\\"},{\\\"Name\\\":\\\"validation:multiclass_accuracy\\\",\\\"Regex\\\":\\\"#quality_metric: host=\\\\\\\\S+, validation multiclass_accuracy <score>=(\\\\\\\\S+)\\\"},{\\\"Name\\\":\\\"train:binary_f_beta\\\",\\\"Regex\\\":\\\"#quality_metric: host=\\\\\\\\S+, train binary_f_\\\\\\\\S+ <score>=(\\\\\\\\S+)\\\"},{\\\"Name\\\":\\\"test:recall\\\",\\\"Regex\\\":\\\"#quality_metric: host=\\\\\\\\S+, test recall <score>=(\\\\\\\\S+)\\\"},{\\\"Name\\\":\\\"test:macro_precision\\\",\\\"Regex\\\":\\\"#quality_metric: host=\\\\\\\\S+, test macro_precision <score>=(\\\\\\\\S+)\\\"},{\\\"Name\\\":\\\"test:macro_f_beta\\\",\\\"Regex\\\":\\\"#quality_metric: host=\\\\\\\\S+, test macro_f_\\\\\\\\S+ <score>=(\\\\\\\\S+)\\\"},{\\\"Name\\\":\\\"test:objective_loss\\\",\\\"Regex\\\":\\\"#quality_metric: host=\\\\\\\\S+, test \\\\\\\\S+_objective <loss>=(\\\\\\\\S+)\\\"},{\\\"Name\\\":\\\"test:precision\\\",\\\"Regex\\\":\\\"#quality_metric: host=\\\\\\\\S+, test precision <score>=(\\\\\\\\S+)\\\"},{\\\"Name\\\":\\\"validation:multiclass_top_k_accuracy\\\",\\\"Regex\\\":\\\"#quality_metric: host=\\\\\\\\S+, validation multiclass_top_k_accuracy_\\\\\\\\S+ <score>=(\\\\\\\\S+)\\\"},{\\\"Name\\\":\\\"train:binary_classification_accuracy\\\",\\\"Regex\\\":\\\"#quality_metric: host=\\\\\\\\S+, train binary_classification_accuracy <score>=(\\\\\\\\S+)\\\"},{\\\"Name\\\":\\\"validation:mse\\\",\\\"Regex\\\":\\\"#quality_metric: host=\\\\\\\\S+, validation mse <loss>=(\\\\\\\\S+)\\\"},{\\\"Name\\\":\\\"test:multiclass_top_k_accuracy\\\",\\\"Regex\\\":\\\"#quality_metric: host=\\\\\\\\S+, test multiclass_top_k_accuracy_\\\\\\\\S+ <score>=(\\\\\\\\S+)\\\"},{\\\"Name\\\":\\\"validation:binary_classification_accuracy\\\",\\\"Regex\\\":\\\"#quality_metric: host=\\\\\\\\S+, validation binary_classification_accuracy <score>=(\\\\\\\\S+)\\\"},{\\\"Name\\\":\\\"train:absolute_loss\\\",\\\"Regex\\\":\\\"#quality_metric: host=\\\\\\\\S+, train absolute_loss <loss>=(\\\\\\\\S+)\\\"},{\\\"Name\\\":\\\"validation:macro_recall\\\",\\\"Regex\\\":\\\"#quality_metric: host=\\\\\\\\S+, validation macro_recall <score>=(\\\\\\\\S+)\\\"},{\\\"Name\\\":\\\"train:throughput\\\",\\\"Regex\\\":\\\"#throughput_metric: host=\\\\\\\\S+, train throughput=(\\\\\\\\S+) records/second\\\"},{\\\"Name\\\":\\\"test:binary_classification_accuracy\\\",\\\"Regex\\\":\\\"#quality_metric: host=\\\\\\\\S+, test binary_classification_accuracy <score>=(\\\\\\\\S+)\\\"},{\\\"Name\\\":\\\"validation:absolute_loss\\\",\\\"Regex\\\":\\\"#quality_metric: host=\\\\\\\\S+, validation absolute_loss <loss>=(\\\\\\\\S+)\\\"},{\\\"Name\\\":\\\"validation:macro_f_beta\\\",\\\"Regex\\\":\\\"#quality_metric: host=\\\\\\\\S+, validation macro_f_\\\\\\\\S+ <score>=(\\\\\\\\S+)\\\"},{\\\"Name\\\":\\\"test:roc_auc_score\\\",\\\"Regex\\\":\\\"#quality_metric: host=\\\\\\\\S+, test roc_auc_score <score>=(\\\\\\\\S+)\\\"}],\\\"TrainingImage\\\":\\\"382416733822.dkr.ecr.us-east-1.amazonaws.com/linear-learner:1\\\",\\\"TrainingInputMode\\\":\\\"File\\\"},\\\"BillableTimeInSeconds\\\":133,\\\"CreationTime\\\":1624210046377,\\\"EnableInterContainerTrafficEncryption\\\":false,\\\"EnableManagedSpotTraining\\\":false,\\\"EnableNetworkIsolation\\\":false,\\\"FinalMetricDataList\\\":[{\\\"MetricName\\\":\\\"train:progress\\\",\\\"Timestamp\\\":1624210312000,\\\"Value\\\":100.0},{\\\"MetricName\\\":\\\"train:objective_loss\\\",\\\"Timestamp\\\":1624210310000,\\\"Value\\\":0.96897084},{\\\"MetricName\\\":\\\"validation:objective_loss\\\",\\\"Timestamp\\\":1624210312000,\\\"Value\\\":2.8886886E7},{\\\"MetricName\\\":\\\"validation:objective_loss:final\\\",\\\"Timestamp\\\":1624210314000,\\\"Value\\\":2.8898176E7},{\\\"MetricName\\\":\\\"validation:mse\\\",\\\"Timestamp\\\":1624210314000,\\\"Value\\\":2.8898176E7},{\\\"MetricName\\\":\\\"train:throughput\\\",\\\"Timestamp\\\":1624210312000,\\\"Value\\\":24308.195},{\\\"MetricName\\\":\\\"validation:absolute_loss\\\",\\\"Timestamp\\\":1624210314000,\\\"Value\\\":4711.2803}],\\\"HyperParameters\\\":{\\\"predictor_type\\\":\\\"regressor\\\",\\\"l1\\\":\\\"0.00035080090763972647\\\",\\\"epochs\\\":\\\"50\\\",\\\"learning_rate\\\":\\\"0.000199542496841376\\\",\\\"mini_batch_size\\\":\\\"512\\\"},\\\"InputDataConfig\\\":[{\\\"ChannelName\\\":\\\"train\\\",\\\"CompressionType\\\":\\\"None\\\",\\\"ContentType\\\":\\\"text/csv\\\",\\\"DataSource\\\":{\\\"S3DataSource\\\":{\\\"S3DataDistributionType\\\":\\\"FullyReplicated\\\",\\\"S3DataType\\\":\\\"S3Prefix\\\",\\\"S3Uri\\\":\\\"s3://ds-mlops-dev/preprocess-data/train\\\"}},\\\"RecordWrapperType\\\":\\\"None\\\"},{\\\"ChannelName\\\":\\\"validation\\\",\\\"CompressionType\\\":\\\"None\\\",\\\"ContentType\\\":\\\"text/csv\\\",\\\"DataSource\\\":{\\\"S3DataSource\\\":{\\\"S3DataDistributionType\\\":\\\"FullyReplicated\\\",\\\"S3DataType\\\":\\\"S3Prefix\\\",\\\"S3Uri\\\":\\\"s3://ds-mlops-dev/preprocess-data/validation\\\"}},\\\"RecordWrapperType\\\":\\\"None\\\"}],\\\"LastModifiedTime\\\":1624210323495,\\\"ModelArtifacts\\\":{\\\"S3ModelArtifacts\\\":\\\"s3://ds-mlops-dev/models/ll-boost-training-17c44fd8d1ec11ebad620ee3dac64b5d/output/model.tar.gz\\\"},\\\"OutputDataConfig\\\":{\\\"KmsKeyId\\\":\\\"\\\",\\\"S3OutputPath\\\":\\\"s3://ds-mlops-dev/models\\\"},\\\"ProfilingStatus\\\":\\\"Disabled\\\",\\\"ResourceConfig\\\":{\\\"InstanceCount\\\":1,\\\"InstanceType\\\":\\\"ml.m5.xlarge\\\",\\\"VolumeSizeInGB\\\":30},\\\"RoleArn\\\":\\\"arn:aws:iam::525102048888:role/service-role/AmazonSageMaker-ExecutionRole-20191105T125227\\\",\\\"SdkHttpMetadata\\\":{\\\"AllHttpHeaders\\\":{\\\"x-amzn-RequestId\\\":[\\\"e1cde3e5-fdc6-46c5-85ad-119040125451\\\"],\\\"Content-Length\\\":[\\\"7844\\\"],\\\"Date\\\":[\\\"Sun, 20 Jun 2021 17:32:08 GMT\\\"],\\\"Content-Type\\\":[\\\"application/x-amz-json-1.1\\\"]},\\\"HttpHeaders\\\":{\\\"Content-Length\\\":\\\"7844\\\",\\\"Content-Type\\\":\\\"application/x-amz-json-1.1\\\",\\\"Date\\\":\\\"Sun, 20 Jun 2021 17:32:08 GMT\\\",\\\"x-amzn-RequestId\\\":\\\"e1cde3e5-fdc6-46c5-85ad-119040125451\\\"},\\\"HttpStatusCode\\\":200},\\\"SdkResponseMetadata\\\":{\\\"RequestId\\\":\\\"e1cde3e5-fdc6-46c5-85ad-119040125451\\\"},\\\"SecondaryStatus\\\":\\\"Completed\\\",\\\"SecondaryStatusTransitions\\\":[{\\\"EndTime\\\":1624210190955,\\\"StartTime\\\":1624210046377,\\\"Status\\\":\\\"Starting\\\",\\\"StatusMessage\\\":\\\"Preparing the instances for training\\\"},{\\\"EndTime\\\":1624210222505,\\\"StartTime\\\":1624210190955,\\\"Status\\\":\\\"Downloading\\\",\\\"StatusMessage\\\":\\\"Downloading input data\\\"},{\\\"EndTime\\\":1624210316323,\\\"StartTime\\\":1624210222505,\\\"Status\\\":\\\"Training\\\",\\\"StatusMessage\\\":\\\"Training image download completed. Training in progress.\\\"},{\\\"EndTime\\\":1624210323495,\\\"StartTime\\\":1624210316323,\\\"Status\\\":\\\"Uploading\\\",\\\"StatusMessage\\\":\\\"Uploading generated training model\\\"},{\\\"EndTime\\\":1624210323495,\\\"StartTime\\\":1624210323495,\\\"Status\\\":\\\"Completed\\\",\\\"StatusMessage\\\":\\\"Training job completed\\\"}],\\\"StoppingCondition\\\":{\\\"MaxRuntimeInSeconds\\\":86400},\\\"TrainingEndTime\\\":1624210323495,\\\"TrainingJobArn\\\":\\\"arn:aws:sagemaker:us-east-1:525102048888:training-job/ll-boost-training-17c44fd8d1ec11ebad620ee3dac64b5d\\\",\\\"TrainingJobName\\\":\\\"ll-boost-training-17c44fd8d1ec11ebad620ee3dac64b5d\\\",\\\"TrainingJobStatus\\\":\\\"Completed\\\",\\\"TrainingStartTime\\\":1624210190955,\\\"TrainingTimeInSeconds\\\":133,\\\"VpcConfig\\\":{\\\"SecurityGroupIds\\\":[\\\"sg-044e0e7ce4f5721c0\\\"],\\\"Subnets\\\":[\\\"subnet-0cf0e3f46326aa259\\\",\\\"subnet-0156b7f5500cf0b78\\\",\\\"subnet-032420199163cff9b\\\"]},\\\"Tags\\\":{\\\"MANAGED_BY_AWS\\\":\\\"STARTED_BY_STEP_FUNCTIONS\\\",\\\"AWS_STEP_FUNCTIONS_EXECUTION_ARN\\\":\\\"arn:aws:states:us-east-1:525102048888:execution:ds-mlops-dev-linear-learner-step-function:a60cf619-9eed-4656-b690-58959fc8af36\\\"}}\", \"outputDetails\": {\"truncated\": false}}}, {\"timestamp\": 1624210328.124, \"type\": \"TaskStateEntered\", \"id\": 14, \"previousEventId\": 13, \"stateEnteredEventDetails\": {\"name\": \"Save Model\", \"input\": \"{\\\"AlgorithmSpecification\\\":{\\\"EnableSageMakerMetricsTimeSeries\\\":false,\\\"MetricDefinitions\\\":[{\\\"Name\\\":\\\"test:dcg\\\",\\\"Regex\\\":\\\"#quality_metric: host=\\\\\\\\S+, test dcg <score>=(\\\\\\\\S+)\\\"},{\\\"Name\\\":\\\"train:progress\\\",\\\"Regex\\\":\\\"#progress_metric: host=\\\\\\\\S+, completed (\\\\\\\\S+) %\\\"},{\\\"Name\\\":\\\"test:binary_f_beta\\\",\\\"Regex\\\":\\\"#quality_metric: host=\\\\\\\\S+, test binary_f_\\\\\\\\S+ <score>=(\\\\\\\\S+)\\\"},{\\\"Name\\\":\\\"train:objective_loss\\\",\\\"Regex\\\":\\\"#quality_metric: host=\\\\\\\\S+, epoch=\\\\\\\\S+, train \\\\\\\\S+_objective <loss>=(\\\\\\\\S+)\\\"},{\\\"Name\\\":\\\"validation:macro_precision\\\",\\\"Regex\\\":\\\"#quality_metric: host=\\\\\\\\S+, validation macro_precision <score>=(\\\\\\\\S+)\\\"},{\\\"Name\\\":\\\"validation:dcg\\\",\\\"Regex\\\":\\\"#quality_metric: host=\\\\\\\\S+, validation dcg <score>=(\\\\\\\\S+)\\\"},{\\\"Name\\\":\\\"test:mse\\\",\\\"Regex\\\":\\\"#quality_metric: host=\\\\\\\\S+, test mse <loss>=(\\\\\\\\S+)\\\"},{\\\"Name\\\":\\\"validation:binary_f_beta\\\",\\\"Regex\\\":\\\"#quality_metric: host=\\\\\\\\S+, validation binary_f_\\\\\\\\S+ <score>=(\\\\\\\\S+)\\\"},{\\\"Name\\\":\\\"validation:objective_loss\\\",\\\"Regex\\\":\\\"#quality_metric: host=\\\\\\\\S+, epoch=\\\\\\\\S+, validation \\\\\\\\S+_objective <loss>=(\\\\\\\\S+)\\\"},{\\\"Name\\\":\\\"validation:objective_loss:final\\\",\\\"Regex\\\":\\\"#quality_metric: host=\\\\\\\\S+, validation \\\\\\\\S+_objective <loss>=(\\\\\\\\S+)\\\"},{\\\"Name\\\":\\\"test:macro_recall\\\",\\\"Regex\\\":\\\"#quality_metric: host=\\\\\\\\S+, test macro_recall <score>=(\\\\\\\\S+)\\\"},{\\\"Name\\\":\\\"test:absolute_loss\\\",\\\"Regex\\\":\\\"#quality_metric: host=\\\\\\\\S+, test absolute_loss <loss>=(\\\\\\\\S+)\\\"},{\\\"Name\\\":\\\"train:recall\\\",\\\"Regex\\\":\\\"#quality_metric: host=\\\\\\\\S+, train recall <score>=(\\\\\\\\S+)\\\"},{\\\"Name\\\":\\\"train:mse\\\",\\\"Regex\\\":\\\"#quality_metric: host=\\\\\\\\S+, train mse <loss>=(\\\\\\\\S+)\\\"},{\\\"Name\\\":\\\"validation:roc_auc_score\\\",\\\"Regex\\\":\\\"#quality_metric: host=\\\\\\\\S+, validation roc_auc_score <score>=(\\\\\\\\S+)\\\"},{\\\"Name\\\":\\\"train:precision\\\",\\\"Regex\\\":\\\"#quality_metric: host=\\\\\\\\S+, train precision <score>=(\\\\\\\\S+)\\\"},{\\\"Name\\\":\\\"train:objective_loss:final\\\",\\\"Regex\\\":\\\"#quality_metric: host=\\\\\\\\S+, train \\\\\\\\S+_objective <loss>=(\\\\\\\\S+)\\\"},{\\\"Name\\\":\\\"validation:recall\\\",\\\"Regex\\\":\\\"#quality_metric: host=\\\\\\\\S+, validation recall <score>=(\\\\\\\\S+)\\\"},{\\\"Name\\\":\\\"test:multiclass_accuracy\\\",\\\"Regex\\\":\\\"#quality_metric: host=\\\\\\\\S+, test multiclass_accuracy <score>=(\\\\\\\\S+)\\\"},{\\\"Name\\\":\\\"validation:precision\\\",\\\"Regex\\\":\\\"#quality_metric: host=\\\\\\\\S+, validation precision <score>=(\\\\\\\\S+)\\\"},{\\\"Name\\\":\\\"validation:multiclass_accuracy\\\",\\\"Regex\\\":\\\"#quality_metric: host=\\\\\\\\S+, validation multiclass_accuracy <score>=(\\\\\\\\S+)\\\"},{\\\"Name\\\":\\\"train:binary_f_beta\\\",\\\"Regex\\\":\\\"#quality_metric: host=\\\\\\\\S+, train binary_f_\\\\\\\\S+ <score>=(\\\\\\\\S+)\\\"},{\\\"Name\\\":\\\"test:recall\\\",\\\"Regex\\\":\\\"#quality_metric: host=\\\\\\\\S+, test recall <score>=(\\\\\\\\S+)\\\"},{\\\"Name\\\":\\\"test:macro_precision\\\",\\\"Regex\\\":\\\"#quality_metric: host=\\\\\\\\S+, test macro_precision <score>=(\\\\\\\\S+)\\\"},{\\\"Name\\\":\\\"test:macro_f_beta\\\",\\\"Regex\\\":\\\"#quality_metric: host=\\\\\\\\S+, test macro_f_\\\\\\\\S+ <score>=(\\\\\\\\S+)\\\"},{\\\"Name\\\":\\\"test:objective_loss\\\",\\\"Regex\\\":\\\"#quality_metric: host=\\\\\\\\S+, test \\\\\\\\S+_objective <loss>=(\\\\\\\\S+)\\\"},{\\\"Name\\\":\\\"test:precision\\\",\\\"Regex\\\":\\\"#quality_metric: host=\\\\\\\\S+, test precision <score>=(\\\\\\\\S+)\\\"},{\\\"Name\\\":\\\"validation:multiclass_top_k_accuracy\\\",\\\"Regex\\\":\\\"#quality_metric: host=\\\\\\\\S+, validation multiclass_top_k_accuracy_\\\\\\\\S+ <score>=(\\\\\\\\S+)\\\"},{\\\"Name\\\":\\\"train:binary_classification_accuracy\\\",\\\"Regex\\\":\\\"#quality_metric: host=\\\\\\\\S+, train binary_classification_accuracy <score>=(\\\\\\\\S+)\\\"},{\\\"Name\\\":\\\"validation:mse\\\",\\\"Regex\\\":\\\"#quality_metric: host=\\\\\\\\S+, validation mse <loss>=(\\\\\\\\S+)\\\"},{\\\"Name\\\":\\\"test:multiclass_top_k_accuracy\\\",\\\"Regex\\\":\\\"#quality_metric: host=\\\\\\\\S+, test multiclass_top_k_accuracy_\\\\\\\\S+ <score>=(\\\\\\\\S+)\\\"},{\\\"Name\\\":\\\"validation:binary_classification_accuracy\\\",\\\"Regex\\\":\\\"#quality_metric: host=\\\\\\\\S+, validation binary_classification_accuracy <score>=(\\\\\\\\S+)\\\"},{\\\"Name\\\":\\\"train:absolute_loss\\\",\\\"Regex\\\":\\\"#quality_metric: host=\\\\\\\\S+, train absolute_loss <loss>=(\\\\\\\\S+)\\\"},{\\\"Name\\\":\\\"validation:macro_recall\\\",\\\"Regex\\\":\\\"#quality_metric: host=\\\\\\\\S+, validation macro_recall <score>=(\\\\\\\\S+)\\\"},{\\\"Name\\\":\\\"train:throughput\\\",\\\"Regex\\\":\\\"#throughput_metric: host=\\\\\\\\S+, train throughput=(\\\\\\\\S+) records/second\\\"},{\\\"Name\\\":\\\"test:binary_classification_accuracy\\\",\\\"Regex\\\":\\\"#quality_metric: host=\\\\\\\\S+, test binary_classification_accuracy <score>=(\\\\\\\\S+)\\\"},{\\\"Name\\\":\\\"validation:absolute_loss\\\",\\\"Regex\\\":\\\"#quality_metric: host=\\\\\\\\S+, validation absolute_loss <loss>=(\\\\\\\\S+)\\\"},{\\\"Name\\\":\\\"validation:macro_f_beta\\\",\\\"Regex\\\":\\\"#quality_metric: host=\\\\\\\\S+, validation macro_f_\\\\\\\\S+ <score>=(\\\\\\\\S+)\\\"},{\\\"Name\\\":\\\"test:roc_auc_score\\\",\\\"Regex\\\":\\\"#quality_metric: host=\\\\\\\\S+, test roc_auc_score <score>=(\\\\\\\\S+)\\\"}],\\\"TrainingImage\\\":\\\"382416733822.dkr.ecr.us-east-1.amazonaws.com/linear-learner:1\\\",\\\"TrainingInputMode\\\":\\\"File\\\"},\\\"BillableTimeInSeconds\\\":133,\\\"CreationTime\\\":1624210046377,\\\"EnableInterContainerTrafficEncryption\\\":false,\\\"EnableManagedSpotTraining\\\":false,\\\"EnableNetworkIsolation\\\":false,\\\"FinalMetricDataList\\\":[{\\\"MetricName\\\":\\\"train:progress\\\",\\\"Timestamp\\\":1624210312000,\\\"Value\\\":100.0},{\\\"MetricName\\\":\\\"train:objective_loss\\\",\\\"Timestamp\\\":1624210310000,\\\"Value\\\":0.96897084},{\\\"MetricName\\\":\\\"validation:objective_loss\\\",\\\"Timestamp\\\":1624210312000,\\\"Value\\\":2.8886886E7},{\\\"MetricName\\\":\\\"validation:objective_loss:final\\\",\\\"Timestamp\\\":1624210314000,\\\"Value\\\":2.8898176E7},{\\\"MetricName\\\":\\\"validation:mse\\\",\\\"Timestamp\\\":1624210314000,\\\"Value\\\":2.8898176E7},{\\\"MetricName\\\":\\\"train:throughput\\\",\\\"Timestamp\\\":1624210312000,\\\"Value\\\":24308.195},{\\\"MetricName\\\":\\\"validation:absolute_loss\\\",\\\"Timestamp\\\":1624210314000,\\\"Value\\\":4711.2803}],\\\"HyperParameters\\\":{\\\"predictor_type\\\":\\\"regressor\\\",\\\"l1\\\":\\\"0.00035080090763972647\\\",\\\"epochs\\\":\\\"50\\\",\\\"learning_rate\\\":\\\"0.000199542496841376\\\",\\\"mini_batch_size\\\":\\\"512\\\"},\\\"InputDataConfig\\\":[{\\\"ChannelName\\\":\\\"train\\\",\\\"CompressionType\\\":\\\"None\\\",\\\"ContentType\\\":\\\"text/csv\\\",\\\"DataSource\\\":{\\\"S3DataSource\\\":{\\\"S3DataDistributionType\\\":\\\"FullyReplicated\\\",\\\"S3DataType\\\":\\\"S3Prefix\\\",\\\"S3Uri\\\":\\\"s3://ds-mlops-dev/preprocess-data/train\\\"}},\\\"RecordWrapperType\\\":\\\"None\\\"},{\\\"ChannelName\\\":\\\"validation\\\",\\\"CompressionType\\\":\\\"None\\\",\\\"ContentType\\\":\\\"text/csv\\\",\\\"DataSource\\\":{\\\"S3DataSource\\\":{\\\"S3DataDistributionType\\\":\\\"FullyReplicated\\\",\\\"S3DataType\\\":\\\"S3Prefix\\\",\\\"S3Uri\\\":\\\"s3://ds-mlops-dev/preprocess-data/validation\\\"}},\\\"RecordWrapperType\\\":\\\"None\\\"}],\\\"LastModifiedTime\\\":1624210323495,\\\"ModelArtifacts\\\":{\\\"S3ModelArtifacts\\\":\\\"s3://ds-mlops-dev/models/ll-boost-training-17c44fd8d1ec11ebad620ee3dac64b5d/output/model.tar.gz\\\"},\\\"OutputDataConfig\\\":{\\\"KmsKeyId\\\":\\\"\\\",\\\"S3OutputPath\\\":\\\"s3://ds-mlops-dev/models\\\"},\\\"ProfilingStatus\\\":\\\"Disabled\\\",\\\"ResourceConfig\\\":{\\\"InstanceCount\\\":1,\\\"InstanceType\\\":\\\"ml.m5.xlarge\\\",\\\"VolumeSizeInGB\\\":30},\\\"RoleArn\\\":\\\"arn:aws:iam::525102048888:role/service-role/AmazonSageMaker-ExecutionRole-20191105T125227\\\",\\\"SdkHttpMetadata\\\":{\\\"AllHttpHeaders\\\":{\\\"x-amzn-RequestId\\\":[\\\"e1cde3e5-fdc6-46c5-85ad-119040125451\\\"],\\\"Content-Length\\\":[\\\"7844\\\"],\\\"Date\\\":[\\\"Sun, 20 Jun 2021 17:32:08 GMT\\\"],\\\"Content-Type\\\":[\\\"application/x-amz-json-1.1\\\"]},\\\"HttpHeaders\\\":{\\\"Content-Length\\\":\\\"7844\\\",\\\"Content-Type\\\":\\\"application/x-amz-json-1.1\\\",\\\"Date\\\":\\\"Sun, 20 Jun 2021 17:32:08 GMT\\\",\\\"x-amzn-RequestId\\\":\\\"e1cde3e5-fdc6-46c5-85ad-119040125451\\\"},\\\"HttpStatusCode\\\":200},\\\"SdkResponseMetadata\\\":{\\\"RequestId\\\":\\\"e1cde3e5-fdc6-46c5-85ad-119040125451\\\"},\\\"SecondaryStatus\\\":\\\"Completed\\\",\\\"SecondaryStatusTransitions\\\":[{\\\"EndTime\\\":1624210190955,\\\"StartTime\\\":1624210046377,\\\"Status\\\":\\\"Starting\\\",\\\"StatusMessage\\\":\\\"Preparing the instances for training\\\"},{\\\"EndTime\\\":1624210222505,\\\"StartTime\\\":1624210190955,\\\"Status\\\":\\\"Downloading\\\",\\\"StatusMessage\\\":\\\"Downloading input data\\\"},{\\\"EndTime\\\":1624210316323,\\\"StartTime\\\":1624210222505,\\\"Status\\\":\\\"Training\\\",\\\"StatusMessage\\\":\\\"Training image download completed. Training in progress.\\\"},{\\\"EndTime\\\":1624210323495,\\\"StartTime\\\":1624210316323,\\\"Status\\\":\\\"Uploading\\\",\\\"StatusMessage\\\":\\\"Uploading generated training model\\\"},{\\\"EndTime\\\":1624210323495,\\\"StartTime\\\":1624210323495,\\\"Status\\\":\\\"Completed\\\",\\\"StatusMessage\\\":\\\"Training job completed\\\"}],\\\"StoppingCondition\\\":{\\\"MaxRuntimeInSeconds\\\":86400},\\\"TrainingEndTime\\\":1624210323495,\\\"TrainingJobArn\\\":\\\"arn:aws:sagemaker:us-east-1:525102048888:training-job/ll-boost-training-17c44fd8d1ec11ebad620ee3dac64b5d\\\",\\\"TrainingJobName\\\":\\\"ll-boost-training-17c44fd8d1ec11ebad620ee3dac64b5d\\\",\\\"TrainingJobStatus\\\":\\\"Completed\\\",\\\"TrainingStartTime\\\":1624210190955,\\\"TrainingTimeInSeconds\\\":133,\\\"VpcConfig\\\":{\\\"SecurityGroupIds\\\":[\\\"sg-044e0e7ce4f5721c0\\\"],\\\"Subnets\\\":[\\\"subnet-0cf0e3f46326aa259\\\",\\\"subnet-0156b7f5500cf0b78\\\",\\\"subnet-032420199163cff9b\\\"]},\\\"Tags\\\":{\\\"MANAGED_BY_AWS\\\":\\\"STARTED_BY_STEP_FUNCTIONS\\\",\\\"AWS_STEP_FUNCTIONS_EXECUTION_ARN\\\":\\\"arn:aws:states:us-east-1:525102048888:execution:ds-mlops-dev-linear-learner-step-function:a60cf619-9eed-4656-b690-58959fc8af36\\\"}}\", \"inputDetails\": {\"truncated\": false}}}, {\"timestamp\": 1624210328.124, \"type\": \"TaskScheduled\", \"id\": 15, \"previousEventId\": 14, \"taskScheduledEventDetails\": {\"resourceType\": \"sagemaker\", \"resource\": \"createModel\", \"region\": \"us-east-1\", \"parameters\": \"{\\\"ExecutionRoleArn\\\":\\\"arn:aws:iam::525102048888:role/service-role/AmazonSageMaker-ExecutionRole-20191105T125227\\\",\\\"PrimaryContainer\\\":{\\\"Environment\\\":{},\\\"Image\\\":\\\"382416733822.dkr.ecr.us-east-1.amazonaws.com/linear-learner:1\\\",\\\"ModelDataUrl\\\":\\\"s3://ds-mlops-dev/models/ll-boost-training-17c44fd8d1ec11ebad620ee3dac64b5d/output/model.tar.gz\\\"},\\\"ModelName\\\":\\\"ds-mlops-linear-learner-02\\\"}\"}}, {\"timestamp\": 1624210328.139, \"type\": \"TaskStarted\", \"id\": 16, \"previousEventId\": 15, \"taskStartedEventDetails\": {\"resourceType\": \"sagemaker\", \"resource\": \"createModel\"}}, {\"timestamp\": 1624210328.607, \"type\": \"TaskSucceeded\", \"id\": 17, \"previousEventId\": 16, \"taskSucceededEventDetails\": {\"resourceType\": \"sagemaker\", \"resource\": \"createModel\", \"output\": \"{\\\"ModelArn\\\":\\\"arn:aws:sagemaker:us-east-1:525102048888:model/ds-mlops-linear-learner-02\\\",\\\"SdkHttpMetadata\\\":{\\\"AllHttpHeaders\\\":{\\\"x-amzn-RequestId\\\":[\\\"63b34851-43cd-4835-9f8f-7ff77e0c9444\\\"],\\\"Content-Length\\\":[\\\"88\\\"],\\\"Date\\\":[\\\"Sun, 20 Jun 2021 17:32:08 GMT\\\"],\\\"Content-Type\\\":[\\\"application/x-amz-json-1.1\\\"]},\\\"HttpHeaders\\\":{\\\"Content-Length\\\":\\\"88\\\",\\\"Content-Type\\\":\\\"application/x-amz-json-1.1\\\",\\\"Date\\\":\\\"Sun, 20 Jun 2021 17:32:08 GMT\\\",\\\"x-amzn-RequestId\\\":\\\"63b34851-43cd-4835-9f8f-7ff77e0c9444\\\"},\\\"HttpStatusCode\\\":200},\\\"SdkResponseMetadata\\\":{\\\"RequestId\\\":\\\"63b34851-43cd-4835-9f8f-7ff77e0c9444\\\"}}\", \"outputDetails\": {\"truncated\": false}}}, {\"timestamp\": 1624210328.607, \"type\": \"TaskStateExited\", \"id\": 18, \"previousEventId\": 17, \"stateExitedEventDetails\": {\"name\": \"Save Model\", \"output\": \"{\\\"AlgorithmSpecification\\\":{\\\"EnableSageMakerMetricsTimeSeries\\\":false,\\\"MetricDefinitions\\\":[{\\\"Name\\\":\\\"test:dcg\\\",\\\"Regex\\\":\\\"#quality_metric: host=\\\\\\\\S+, test dcg <score>=(\\\\\\\\S+)\\\"},{\\\"Name\\\":\\\"train:progress\\\",\\\"Regex\\\":\\\"#progress_metric: host=\\\\\\\\S+, completed (\\\\\\\\S+) %\\\"},{\\\"Name\\\":\\\"test:binary_f_beta\\\",\\\"Regex\\\":\\\"#quality_metric: host=\\\\\\\\S+, test binary_f_\\\\\\\\S+ <score>=(\\\\\\\\S+)\\\"},{\\\"Name\\\":\\\"train:objective_loss\\\",\\\"Regex\\\":\\\"#quality_metric: host=\\\\\\\\S+, epoch=\\\\\\\\S+, train \\\\\\\\S+_objective <loss>=(\\\\\\\\S+)\\\"},{\\\"Name\\\":\\\"validation:macro_precision\\\",\\\"Regex\\\":\\\"#quality_metric: host=\\\\\\\\S+, validation macro_precision <score>=(\\\\\\\\S+)\\\"},{\\\"Name\\\":\\\"validation:dcg\\\",\\\"Regex\\\":\\\"#quality_metric: host=\\\\\\\\S+, validation dcg <score>=(\\\\\\\\S+)\\\"},{\\\"Name\\\":\\\"test:mse\\\",\\\"Regex\\\":\\\"#quality_metric: host=\\\\\\\\S+, test mse <loss>=(\\\\\\\\S+)\\\"},{\\\"Name\\\":\\\"validation:binary_f_beta\\\",\\\"Regex\\\":\\\"#quality_metric: host=\\\\\\\\S+, validation binary_f_\\\\\\\\S+ <score>=(\\\\\\\\S+)\\\"},{\\\"Name\\\":\\\"validation:objective_loss\\\",\\\"Regex\\\":\\\"#quality_metric: host=\\\\\\\\S+, epoch=\\\\\\\\S+, validation \\\\\\\\S+_objective <loss>=(\\\\\\\\S+)\\\"},{\\\"Name\\\":\\\"validation:objective_loss:final\\\",\\\"Regex\\\":\\\"#quality_metric: host=\\\\\\\\S+, validation \\\\\\\\S+_objective <loss>=(\\\\\\\\S+)\\\"},{\\\"Name\\\":\\\"test:macro_recall\\\",\\\"Regex\\\":\\\"#quality_metric: host=\\\\\\\\S+, test macro_recall <score>=(\\\\\\\\S+)\\\"},{\\\"Name\\\":\\\"test:absolute_loss\\\",\\\"Regex\\\":\\\"#quality_metric: host=\\\\\\\\S+, test absolute_loss <loss>=(\\\\\\\\S+)\\\"},{\\\"Name\\\":\\\"train:recall\\\",\\\"Regex\\\":\\\"#quality_metric: host=\\\\\\\\S+, train recall <score>=(\\\\\\\\S+)\\\"},{\\\"Name\\\":\\\"train:mse\\\",\\\"Regex\\\":\\\"#quality_metric: host=\\\\\\\\S+, train mse <loss>=(\\\\\\\\S+)\\\"},{\\\"Name\\\":\\\"validation:roc_auc_score\\\",\\\"Regex\\\":\\\"#quality_metric: host=\\\\\\\\S+, validation roc_auc_score <score>=(\\\\\\\\S+)\\\"},{\\\"Name\\\":\\\"train:precision\\\",\\\"Regex\\\":\\\"#quality_metric: host=\\\\\\\\S+, train precision <score>=(\\\\\\\\S+)\\\"},{\\\"Name\\\":\\\"train:objective_loss:final\\\",\\\"Regex\\\":\\\"#quality_metric: host=\\\\\\\\S+, train \\\\\\\\S+_objective <loss>=(\\\\\\\\S+)\\\"},{\\\"Name\\\":\\\"validation:recall\\\",\\\"Regex\\\":\\\"#quality_metric: host=\\\\\\\\S+, validation recall <score>=(\\\\\\\\S+)\\\"},{\\\"Name\\\":\\\"test:multiclass_accuracy\\\",\\\"Regex\\\":\\\"#quality_metric: host=\\\\\\\\S+, test multiclass_accuracy <score>=(\\\\\\\\S+)\\\"},{\\\"Name\\\":\\\"validation:precision\\\",\\\"Regex\\\":\\\"#quality_metric: host=\\\\\\\\S+, validation precision <score>=(\\\\\\\\S+)\\\"},{\\\"Name\\\":\\\"validation:multiclass_accuracy\\\",\\\"Regex\\\":\\\"#quality_metric: host=\\\\\\\\S+, validation multiclass_accuracy <score>=(\\\\\\\\S+)\\\"},{\\\"Name\\\":\\\"train:binary_f_beta\\\",\\\"Regex\\\":\\\"#quality_metric: host=\\\\\\\\S+, train binary_f_\\\\\\\\S+ <score>=(\\\\\\\\S+)\\\"},{\\\"Name\\\":\\\"test:recall\\\",\\\"Regex\\\":\\\"#quality_metric: host=\\\\\\\\S+, test recall <score>=(\\\\\\\\S+)\\\"},{\\\"Name\\\":\\\"test:macro_precision\\\",\\\"Regex\\\":\\\"#quality_metric: host=\\\\\\\\S+, test macro_precision <score>=(\\\\\\\\S+)\\\"},{\\\"Name\\\":\\\"test:macro_f_beta\\\",\\\"Regex\\\":\\\"#quality_metric: host=\\\\\\\\S+, test macro_f_\\\\\\\\S+ <score>=(\\\\\\\\S+)\\\"},{\\\"Name\\\":\\\"test:objective_loss\\\",\\\"Regex\\\":\\\"#quality_metric: host=\\\\\\\\S+, test \\\\\\\\S+_objective <loss>=(\\\\\\\\S+)\\\"},{\\\"Name\\\":\\\"test:precision\\\",\\\"Regex\\\":\\\"#quality_metric: host=\\\\\\\\S+, test precision <score>=(\\\\\\\\S+)\\\"},{\\\"Name\\\":\\\"validation:multiclass_top_k_accuracy\\\",\\\"Regex\\\":\\\"#quality_metric: host=\\\\\\\\S+, validation multiclass_top_k_accuracy_\\\\\\\\S+ <score>=(\\\\\\\\S+)\\\"},{\\\"Name\\\":\\\"train:binary_classification_accuracy\\\",\\\"Regex\\\":\\\"#quality_metric: host=\\\\\\\\S+, train binary_classification_accuracy <score>=(\\\\\\\\S+)\\\"},{\\\"Name\\\":\\\"validation:mse\\\",\\\"Regex\\\":\\\"#quality_metric: host=\\\\\\\\S+, validation mse <loss>=(\\\\\\\\S+)\\\"},{\\\"Name\\\":\\\"test:multiclass_top_k_accuracy\\\",\\\"Regex\\\":\\\"#quality_metric: host=\\\\\\\\S+, test multiclass_top_k_accuracy_\\\\\\\\S+ <score>=(\\\\\\\\S+)\\\"},{\\\"Name\\\":\\\"validation:binary_classification_accuracy\\\",\\\"Regex\\\":\\\"#quality_metric: host=\\\\\\\\S+, validation binary_classification_accuracy <score>=(\\\\\\\\S+)\\\"},{\\\"Name\\\":\\\"train:absolute_loss\\\",\\\"Regex\\\":\\\"#quality_metric: host=\\\\\\\\S+, train absolute_loss <loss>=(\\\\\\\\S+)\\\"},{\\\"Name\\\":\\\"validation:macro_recall\\\",\\\"Regex\\\":\\\"#quality_metric: host=\\\\\\\\S+, validation macro_recall <score>=(\\\\\\\\S+)\\\"},{\\\"Name\\\":\\\"train:throughput\\\",\\\"Regex\\\":\\\"#throughput_metric: host=\\\\\\\\S+, train throughput=(\\\\\\\\S+) records/second\\\"},{\\\"Name\\\":\\\"test:binary_classification_accuracy\\\",\\\"Regex\\\":\\\"#quality_metric: host=\\\\\\\\S+, test binary_classification_accuracy <score>=(\\\\\\\\S+)\\\"},{\\\"Name\\\":\\\"validation:absolute_loss\\\",\\\"Regex\\\":\\\"#quality_metric: host=\\\\\\\\S+, validation absolute_loss <loss>=(\\\\\\\\S+)\\\"},{\\\"Name\\\":\\\"validation:macro_f_beta\\\",\\\"Regex\\\":\\\"#quality_metric: host=\\\\\\\\S+, validation macro_f_\\\\\\\\S+ <score>=(\\\\\\\\S+)\\\"},{\\\"Name\\\":\\\"test:roc_auc_score\\\",\\\"Regex\\\":\\\"#quality_metric: host=\\\\\\\\S+, test roc_auc_score <score>=(\\\\\\\\S+)\\\"}],\\\"TrainingImage\\\":\\\"382416733822.dkr.ecr.us-east-1.amazonaws.com/linear-learner:1\\\",\\\"TrainingInputMode\\\":\\\"File\\\"},\\\"BillableTimeInSeconds\\\":133,\\\"CreationTime\\\":1624210046377,\\\"EnableInterContainerTrafficEncryption\\\":false,\\\"EnableManagedSpotTraining\\\":false,\\\"EnableNetworkIsolation\\\":false,\\\"FinalMetricDataList\\\":[{\\\"MetricName\\\":\\\"train:progress\\\",\\\"Timestamp\\\":1624210312000,\\\"Value\\\":100.0},{\\\"MetricName\\\":\\\"train:objective_loss\\\",\\\"Timestamp\\\":1624210310000,\\\"Value\\\":0.96897084},{\\\"MetricName\\\":\\\"validation:objective_loss\\\",\\\"Timestamp\\\":1624210312000,\\\"Value\\\":2.8886886E7},{\\\"MetricName\\\":\\\"validation:objective_loss:final\\\",\\\"Timestamp\\\":1624210314000,\\\"Value\\\":2.8898176E7},{\\\"MetricName\\\":\\\"validation:mse\\\",\\\"Timestamp\\\":1624210314000,\\\"Value\\\":2.8898176E7},{\\\"MetricName\\\":\\\"train:throughput\\\",\\\"Timestamp\\\":1624210312000,\\\"Value\\\":24308.195},{\\\"MetricName\\\":\\\"validation:absolute_loss\\\",\\\"Timestamp\\\":1624210314000,\\\"Value\\\":4711.2803}],\\\"HyperParameters\\\":{\\\"predictor_type\\\":\\\"regressor\\\",\\\"l1\\\":\\\"0.00035080090763972647\\\",\\\"epochs\\\":\\\"50\\\",\\\"learning_rate\\\":\\\"0.000199542496841376\\\",\\\"mini_batch_size\\\":\\\"512\\\"},\\\"InputDataConfig\\\":[{\\\"ChannelName\\\":\\\"train\\\",\\\"CompressionType\\\":\\\"None\\\",\\\"ContentType\\\":\\\"text/csv\\\",\\\"DataSource\\\":{\\\"S3DataSource\\\":{\\\"S3DataDistributionType\\\":\\\"FullyReplicated\\\",\\\"S3DataType\\\":\\\"S3Prefix\\\",\\\"S3Uri\\\":\\\"s3://ds-mlops-dev/preprocess-data/train\\\"}},\\\"RecordWrapperType\\\":\\\"None\\\"},{\\\"ChannelName\\\":\\\"validation\\\",\\\"CompressionType\\\":\\\"None\\\",\\\"ContentType\\\":\\\"text/csv\\\",\\\"DataSource\\\":{\\\"S3DataSource\\\":{\\\"S3DataDistributionType\\\":\\\"FullyReplicated\\\",\\\"S3DataType\\\":\\\"S3Prefix\\\",\\\"S3Uri\\\":\\\"s3://ds-mlops-dev/preprocess-data/validation\\\"}},\\\"RecordWrapperType\\\":\\\"None\\\"}],\\\"LastModifiedTime\\\":1624210323495,\\\"ModelArtifacts\\\":{\\\"S3ModelArtifacts\\\":\\\"s3://ds-mlops-dev/models/ll-boost-training-17c44fd8d1ec11ebad620ee3dac64b5d/output/model.tar.gz\\\"},\\\"OutputDataConfig\\\":{\\\"KmsKeyId\\\":\\\"\\\",\\\"S3OutputPath\\\":\\\"s3://ds-mlops-dev/models\\\"},\\\"ProfilingStatus\\\":\\\"Disabled\\\",\\\"ResourceConfig\\\":{\\\"InstanceCount\\\":1,\\\"InstanceType\\\":\\\"ml.m5.xlarge\\\",\\\"VolumeSizeInGB\\\":30},\\\"RoleArn\\\":\\\"arn:aws:iam::525102048888:role/service-role/AmazonSageMaker-ExecutionRole-20191105T125227\\\",\\\"SdkHttpMetadata\\\":{\\\"AllHttpHeaders\\\":{\\\"x-amzn-RequestId\\\":[\\\"e1cde3e5-fdc6-46c5-85ad-119040125451\\\"],\\\"Content-Length\\\":[\\\"7844\\\"],\\\"Date\\\":[\\\"Sun, 20 Jun 2021 17:32:08 GMT\\\"],\\\"Content-Type\\\":[\\\"application/x-amz-json-1.1\\\"]},\\\"HttpHeaders\\\":{\\\"Content-Length\\\":\\\"7844\\\",\\\"Content-Type\\\":\\\"application/x-amz-json-1.1\\\",\\\"Date\\\":\\\"Sun, 20 Jun 2021 17:32:08 GMT\\\",\\\"x-amzn-RequestId\\\":\\\"e1cde3e5-fdc6-46c5-85ad-119040125451\\\"},\\\"HttpStatusCode\\\":200},\\\"SdkResponseMetadata\\\":{\\\"RequestId\\\":\\\"e1cde3e5-fdc6-46c5-85ad-119040125451\\\"},\\\"SecondaryStatus\\\":\\\"Completed\\\",\\\"SecondaryStatusTransitions\\\":[{\\\"EndTime\\\":1624210190955,\\\"StartTime\\\":1624210046377,\\\"Status\\\":\\\"Starting\\\",\\\"StatusMessage\\\":\\\"Preparing the instances for training\\\"},{\\\"EndTime\\\":1624210222505,\\\"StartTime\\\":1624210190955,\\\"Status\\\":\\\"Downloading\\\",\\\"StatusMessage\\\":\\\"Downloading input data\\\"},{\\\"EndTime\\\":1624210316323,\\\"StartTime\\\":1624210222505,\\\"Status\\\":\\\"Training\\\",\\\"StatusMessage\\\":\\\"Training image download completed. Training in progress.\\\"},{\\\"EndTime\\\":1624210323495,\\\"StartTime\\\":1624210316323,\\\"Status\\\":\\\"Uploading\\\",\\\"StatusMessage\\\":\\\"Uploading generated training model\\\"},{\\\"EndTime\\\":1624210323495,\\\"StartTime\\\":1624210323495,\\\"Status\\\":\\\"Completed\\\",\\\"StatusMessage\\\":\\\"Training job completed\\\"}],\\\"StoppingCondition\\\":{\\\"MaxRuntimeInSeconds\\\":86400},\\\"TrainingEndTime\\\":1624210323495,\\\"TrainingJobArn\\\":\\\"arn:aws:sagemaker:us-east-1:525102048888:training-job/ll-boost-training-17c44fd8d1ec11ebad620ee3dac64b5d\\\",\\\"TrainingJobName\\\":\\\"ll-boost-training-17c44fd8d1ec11ebad620ee3dac64b5d\\\",\\\"TrainingJobStatus\\\":\\\"Completed\\\",\\\"TrainingStartTime\\\":1624210190955,\\\"TrainingTimeInSeconds\\\":133,\\\"VpcConfig\\\":{\\\"SecurityGroupIds\\\":[\\\"sg-044e0e7ce4f5721c0\\\"],\\\"Subnets\\\":[\\\"subnet-0cf0e3f46326aa259\\\",\\\"subnet-0156b7f5500cf0b78\\\",\\\"subnet-032420199163cff9b\\\"]},\\\"Tags\\\":{\\\"MANAGED_BY_AWS\\\":\\\"STARTED_BY_STEP_FUNCTIONS\\\",\\\"AWS_STEP_FUNCTIONS_EXECUTION_ARN\\\":\\\"arn:aws:states:us-east-1:525102048888:execution:ds-mlops-dev-linear-learner-step-function:a60cf619-9eed-4656-b690-58959fc8af36\\\"},\\\"ModelStepResults\\\":{\\\"ModelArn\\\":\\\"arn:aws:sagemaker:us-east-1:525102048888:model/ds-mlops-linear-learner-02\\\",\\\"SdkHttpMetadata\\\":{\\\"AllHttpHeaders\\\":{\\\"x-amzn-RequestId\\\":[\\\"63b34851-43cd-4835-9f8f-7ff77e0c9444\\\"],\\\"Content-Length\\\":[\\\"88\\\"],\\\"Date\\\":[\\\"Sun, 20 Jun 2021 17:32:08 GMT\\\"],\\\"Content-Type\\\":[\\\"application/x-amz-json-1.1\\\"]},\\\"HttpHeaders\\\":{\\\"Content-Length\\\":\\\"88\\\",\\\"Content-Type\\\":\\\"application/x-amz-json-1.1\\\",\\\"Date\\\":\\\"Sun, 20 Jun 2021 17:32:08 GMT\\\",\\\"x-amzn-RequestId\\\":\\\"63b34851-43cd-4835-9f8f-7ff77e0c9444\\\"},\\\"HttpStatusCode\\\":200},\\\"SdkResponseMetadata\\\":{\\\"RequestId\\\":\\\"63b34851-43cd-4835-9f8f-7ff77e0c9444\\\"}}}\", \"outputDetails\": {\"truncated\": false}}}, {\"timestamp\": 1624210328.616, \"type\": \"TaskStateEntered\", \"id\": 19, \"previousEventId\": 18, \"stateEnteredEventDetails\": {\"name\": \"Query Training Results\", \"input\": \"{\\\"AlgorithmSpecification\\\":{\\\"EnableSageMakerMetricsTimeSeries\\\":false,\\\"MetricDefinitions\\\":[{\\\"Name\\\":\\\"test:dcg\\\",\\\"Regex\\\":\\\"#quality_metric: host=\\\\\\\\S+, test dcg <score>=(\\\\\\\\S+)\\\"},{\\\"Name\\\":\\\"train:progress\\\",\\\"Regex\\\":\\\"#progress_metric: host=\\\\\\\\S+, completed (\\\\\\\\S+) %\\\"},{\\\"Name\\\":\\\"test:binary_f_beta\\\",\\\"Regex\\\":\\\"#quality_metric: host=\\\\\\\\S+, test binary_f_\\\\\\\\S+ <score>=(\\\\\\\\S+)\\\"},{\\\"Name\\\":\\\"train:objective_loss\\\",\\\"Regex\\\":\\\"#quality_metric: host=\\\\\\\\S+, epoch=\\\\\\\\S+, train \\\\\\\\S+_objective <loss>=(\\\\\\\\S+)\\\"},{\\\"Name\\\":\\\"validation:macro_precision\\\",\\\"Regex\\\":\\\"#quality_metric: host=\\\\\\\\S+, validation macro_precision <score>=(\\\\\\\\S+)\\\"},{\\\"Name\\\":\\\"validation:dcg\\\",\\\"Regex\\\":\\\"#quality_metric: host=\\\\\\\\S+, validation dcg <score>=(\\\\\\\\S+)\\\"},{\\\"Name\\\":\\\"test:mse\\\",\\\"Regex\\\":\\\"#quality_metric: host=\\\\\\\\S+, test mse <loss>=(\\\\\\\\S+)\\\"},{\\\"Name\\\":\\\"validation:binary_f_beta\\\",\\\"Regex\\\":\\\"#quality_metric: host=\\\\\\\\S+, validation binary_f_\\\\\\\\S+ <score>=(\\\\\\\\S+)\\\"},{\\\"Name\\\":\\\"validation:objective_loss\\\",\\\"Regex\\\":\\\"#quality_metric: host=\\\\\\\\S+, epoch=\\\\\\\\S+, validation \\\\\\\\S+_objective <loss>=(\\\\\\\\S+)\\\"},{\\\"Name\\\":\\\"validation:objective_loss:final\\\",\\\"Regex\\\":\\\"#quality_metric: host=\\\\\\\\S+, validation \\\\\\\\S+_objective <loss>=(\\\\\\\\S+)\\\"},{\\\"Name\\\":\\\"test:macro_recall\\\",\\\"Regex\\\":\\\"#quality_metric: host=\\\\\\\\S+, test macro_recall <score>=(\\\\\\\\S+)\\\"},{\\\"Name\\\":\\\"test:absolute_loss\\\",\\\"Regex\\\":\\\"#quality_metric: host=\\\\\\\\S+, test absolute_loss <loss>=(\\\\\\\\S+)\\\"},{\\\"Name\\\":\\\"train:recall\\\",\\\"Regex\\\":\\\"#quality_metric: host=\\\\\\\\S+, train recall <score>=(\\\\\\\\S+)\\\"},{\\\"Name\\\":\\\"train:mse\\\",\\\"Regex\\\":\\\"#quality_metric: host=\\\\\\\\S+, train mse <loss>=(\\\\\\\\S+)\\\"},{\\\"Name\\\":\\\"validation:roc_auc_score\\\",\\\"Regex\\\":\\\"#quality_metric: host=\\\\\\\\S+, validation roc_auc_score <score>=(\\\\\\\\S+)\\\"},{\\\"Name\\\":\\\"train:precision\\\",\\\"Regex\\\":\\\"#quality_metric: host=\\\\\\\\S+, train precision <score>=(\\\\\\\\S+)\\\"},{\\\"Name\\\":\\\"train:objective_loss:final\\\",\\\"Regex\\\":\\\"#quality_metric: host=\\\\\\\\S+, train \\\\\\\\S+_objective <loss>=(\\\\\\\\S+)\\\"},{\\\"Name\\\":\\\"validation:recall\\\",\\\"Regex\\\":\\\"#quality_metric: host=\\\\\\\\S+, validation recall <score>=(\\\\\\\\S+)\\\"},{\\\"Name\\\":\\\"test:multiclass_accuracy\\\",\\\"Regex\\\":\\\"#quality_metric: host=\\\\\\\\S+, test multiclass_accuracy <score>=(\\\\\\\\S+)\\\"},{\\\"Name\\\":\\\"validation:precision\\\",\\\"Regex\\\":\\\"#quality_metric: host=\\\\\\\\S+, validation precision <score>=(\\\\\\\\S+)\\\"},{\\\"Name\\\":\\\"validation:multiclass_accuracy\\\",\\\"Regex\\\":\\\"#quality_metric: host=\\\\\\\\S+, validation multiclass_accuracy <score>=(\\\\\\\\S+)\\\"},{\\\"Name\\\":\\\"train:binary_f_beta\\\",\\\"Regex\\\":\\\"#quality_metric: host=\\\\\\\\S+, train binary_f_\\\\\\\\S+ <score>=(\\\\\\\\S+)\\\"},{\\\"Name\\\":\\\"test:recall\\\",\\\"Regex\\\":\\\"#quality_metric: host=\\\\\\\\S+, test recall <score>=(\\\\\\\\S+)\\\"},{\\\"Name\\\":\\\"test:macro_precision\\\",\\\"Regex\\\":\\\"#quality_metric: host=\\\\\\\\S+, test macro_precision <score>=(\\\\\\\\S+)\\\"},{\\\"Name\\\":\\\"test:macro_f_beta\\\",\\\"Regex\\\":\\\"#quality_metric: host=\\\\\\\\S+, test macro_f_\\\\\\\\S+ <score>=(\\\\\\\\S+)\\\"},{\\\"Name\\\":\\\"test:objective_loss\\\",\\\"Regex\\\":\\\"#quality_metric: host=\\\\\\\\S+, test \\\\\\\\S+_objective <loss>=(\\\\\\\\S+)\\\"},{\\\"Name\\\":\\\"test:precision\\\",\\\"Regex\\\":\\\"#quality_metric: host=\\\\\\\\S+, test precision <score>=(\\\\\\\\S+)\\\"},{\\\"Name\\\":\\\"validation:multiclass_top_k_accuracy\\\",\\\"Regex\\\":\\\"#quality_metric: host=\\\\\\\\S+, validation multiclass_top_k_accuracy_\\\\\\\\S+ <score>=(\\\\\\\\S+)\\\"},{\\\"Name\\\":\\\"train:binary_classification_accuracy\\\",\\\"Regex\\\":\\\"#quality_metric: host=\\\\\\\\S+, train binary_classification_accuracy <score>=(\\\\\\\\S+)\\\"},{\\\"Name\\\":\\\"validation:mse\\\",\\\"Regex\\\":\\\"#quality_metric: host=\\\\\\\\S+, validation mse <loss>=(\\\\\\\\S+)\\\"},{\\\"Name\\\":\\\"test:multiclass_top_k_accuracy\\\",\\\"Regex\\\":\\\"#quality_metric: host=\\\\\\\\S+, test multiclass_top_k_accuracy_\\\\\\\\S+ <score>=(\\\\\\\\S+)\\\"},{\\\"Name\\\":\\\"validation:binary_classification_accuracy\\\",\\\"Regex\\\":\\\"#quality_metric: host=\\\\\\\\S+, validation binary_classification_accuracy <score>=(\\\\\\\\S+)\\\"},{\\\"Name\\\":\\\"train:absolute_loss\\\",\\\"Regex\\\":\\\"#quality_metric: host=\\\\\\\\S+, train absolute_loss <loss>=(\\\\\\\\S+)\\\"},{\\\"Name\\\":\\\"validation:macro_recall\\\",\\\"Regex\\\":\\\"#quality_metric: host=\\\\\\\\S+, validation macro_recall <score>=(\\\\\\\\S+)\\\"},{\\\"Name\\\":\\\"train:throughput\\\",\\\"Regex\\\":\\\"#throughput_metric: host=\\\\\\\\S+, train throughput=(\\\\\\\\S+) records/second\\\"},{\\\"Name\\\":\\\"test:binary_classification_accuracy\\\",\\\"Regex\\\":\\\"#quality_metric: host=\\\\\\\\S+, test binary_classification_accuracy <score>=(\\\\\\\\S+)\\\"},{\\\"Name\\\":\\\"validation:absolute_loss\\\",\\\"Regex\\\":\\\"#quality_metric: host=\\\\\\\\S+, validation absolute_loss <loss>=(\\\\\\\\S+)\\\"},{\\\"Name\\\":\\\"validation:macro_f_beta\\\",\\\"Regex\\\":\\\"#quality_metric: host=\\\\\\\\S+, validation macro_f_\\\\\\\\S+ <score>=(\\\\\\\\S+)\\\"},{\\\"Name\\\":\\\"test:roc_auc_score\\\",\\\"Regex\\\":\\\"#quality_metric: host=\\\\\\\\S+, test roc_auc_score <score>=(\\\\\\\\S+)\\\"}],\\\"TrainingImage\\\":\\\"382416733822.dkr.ecr.us-east-1.amazonaws.com/linear-learner:1\\\",\\\"TrainingInputMode\\\":\\\"File\\\"},\\\"BillableTimeInSeconds\\\":133,\\\"CreationTime\\\":1624210046377,\\\"EnableInterContainerTrafficEncryption\\\":false,\\\"EnableManagedSpotTraining\\\":false,\\\"EnableNetworkIsolation\\\":false,\\\"FinalMetricDataList\\\":[{\\\"MetricName\\\":\\\"train:progress\\\",\\\"Timestamp\\\":1624210312000,\\\"Value\\\":100.0},{\\\"MetricName\\\":\\\"train:objective_loss\\\",\\\"Timestamp\\\":1624210310000,\\\"Value\\\":0.96897084},{\\\"MetricName\\\":\\\"validation:objective_loss\\\",\\\"Timestamp\\\":1624210312000,\\\"Value\\\":2.8886886E7},{\\\"MetricName\\\":\\\"validation:objective_loss:final\\\",\\\"Timestamp\\\":1624210314000,\\\"Value\\\":2.8898176E7},{\\\"MetricName\\\":\\\"validation:mse\\\",\\\"Timestamp\\\":1624210314000,\\\"Value\\\":2.8898176E7},{\\\"MetricName\\\":\\\"train:throughput\\\",\\\"Timestamp\\\":1624210312000,\\\"Value\\\":24308.195},{\\\"MetricName\\\":\\\"validation:absolute_loss\\\",\\\"Timestamp\\\":1624210314000,\\\"Value\\\":4711.2803}],\\\"HyperParameters\\\":{\\\"predictor_type\\\":\\\"regressor\\\",\\\"l1\\\":\\\"0.00035080090763972647\\\",\\\"epochs\\\":\\\"50\\\",\\\"learning_rate\\\":\\\"0.000199542496841376\\\",\\\"mini_batch_size\\\":\\\"512\\\"},\\\"InputDataConfig\\\":[{\\\"ChannelName\\\":\\\"train\\\",\\\"CompressionType\\\":\\\"None\\\",\\\"ContentType\\\":\\\"text/csv\\\",\\\"DataSource\\\":{\\\"S3DataSource\\\":{\\\"S3DataDistributionType\\\":\\\"FullyReplicated\\\",\\\"S3DataType\\\":\\\"S3Prefix\\\",\\\"S3Uri\\\":\\\"s3://ds-mlops-dev/preprocess-data/train\\\"}},\\\"RecordWrapperType\\\":\\\"None\\\"},{\\\"ChannelName\\\":\\\"validation\\\",\\\"CompressionType\\\":\\\"None\\\",\\\"ContentType\\\":\\\"text/csv\\\",\\\"DataSource\\\":{\\\"S3DataSource\\\":{\\\"S3DataDistributionType\\\":\\\"FullyReplicated\\\",\\\"S3DataType\\\":\\\"S3Prefix\\\",\\\"S3Uri\\\":\\\"s3://ds-mlops-dev/preprocess-data/validation\\\"}},\\\"RecordWrapperType\\\":\\\"None\\\"}],\\\"LastModifiedTime\\\":1624210323495,\\\"ModelArtifacts\\\":{\\\"S3ModelArtifacts\\\":\\\"s3://ds-mlops-dev/models/ll-boost-training-17c44fd8d1ec11ebad620ee3dac64b5d/output/model.tar.gz\\\"},\\\"OutputDataConfig\\\":{\\\"KmsKeyId\\\":\\\"\\\",\\\"S3OutputPath\\\":\\\"s3://ds-mlops-dev/models\\\"},\\\"ProfilingStatus\\\":\\\"Disabled\\\",\\\"ResourceConfig\\\":{\\\"InstanceCount\\\":1,\\\"InstanceType\\\":\\\"ml.m5.xlarge\\\",\\\"VolumeSizeInGB\\\":30},\\\"RoleArn\\\":\\\"arn:aws:iam::525102048888:role/service-role/AmazonSageMaker-ExecutionRole-20191105T125227\\\",\\\"SdkHttpMetadata\\\":{\\\"AllHttpHeaders\\\":{\\\"x-amzn-RequestId\\\":[\\\"e1cde3e5-fdc6-46c5-85ad-119040125451\\\"],\\\"Content-Length\\\":[\\\"7844\\\"],\\\"Date\\\":[\\\"Sun, 20 Jun 2021 17:32:08 GMT\\\"],\\\"Content-Type\\\":[\\\"application/x-amz-json-1.1\\\"]},\\\"HttpHeaders\\\":{\\\"Content-Length\\\":\\\"7844\\\",\\\"Content-Type\\\":\\\"application/x-amz-json-1.1\\\",\\\"Date\\\":\\\"Sun, 20 Jun 2021 17:32:08 GMT\\\",\\\"x-amzn-RequestId\\\":\\\"e1cde3e5-fdc6-46c5-85ad-119040125451\\\"},\\\"HttpStatusCode\\\":200},\\\"SdkResponseMetadata\\\":{\\\"RequestId\\\":\\\"e1cde3e5-fdc6-46c5-85ad-119040125451\\\"},\\\"SecondaryStatus\\\":\\\"Completed\\\",\\\"SecondaryStatusTransitions\\\":[{\\\"EndTime\\\":1624210190955,\\\"StartTime\\\":1624210046377,\\\"Status\\\":\\\"Starting\\\",\\\"StatusMessage\\\":\\\"Preparing the instances for training\\\"},{\\\"EndTime\\\":1624210222505,\\\"StartTime\\\":1624210190955,\\\"Status\\\":\\\"Downloading\\\",\\\"StatusMessage\\\":\\\"Downloading input data\\\"},{\\\"EndTime\\\":1624210316323,\\\"StartTime\\\":1624210222505,\\\"Status\\\":\\\"Training\\\",\\\"StatusMessage\\\":\\\"Training image download completed. Training in progress.\\\"},{\\\"EndTime\\\":1624210323495,\\\"StartTime\\\":1624210316323,\\\"Status\\\":\\\"Uploading\\\",\\\"StatusMessage\\\":\\\"Uploading generated training model\\\"},{\\\"EndTime\\\":1624210323495,\\\"StartTime\\\":1624210323495,\\\"Status\\\":\\\"Completed\\\",\\\"StatusMessage\\\":\\\"Training job completed\\\"}],\\\"StoppingCondition\\\":{\\\"MaxRuntimeInSeconds\\\":86400},\\\"TrainingEndTime\\\":1624210323495,\\\"TrainingJobArn\\\":\\\"arn:aws:sagemaker:us-east-1:525102048888:training-job/ll-boost-training-17c44fd8d1ec11ebad620ee3dac64b5d\\\",\\\"TrainingJobName\\\":\\\"ll-boost-training-17c44fd8d1ec11ebad620ee3dac64b5d\\\",\\\"TrainingJobStatus\\\":\\\"Completed\\\",\\\"TrainingStartTime\\\":1624210190955,\\\"TrainingTimeInSeconds\\\":133,\\\"VpcConfig\\\":{\\\"SecurityGroupIds\\\":[\\\"sg-044e0e7ce4f5721c0\\\"],\\\"Subnets\\\":[\\\"subnet-0cf0e3f46326aa259\\\",\\\"subnet-0156b7f5500cf0b78\\\",\\\"subnet-032420199163cff9b\\\"]},\\\"Tags\\\":{\\\"MANAGED_BY_AWS\\\":\\\"STARTED_BY_STEP_FUNCTIONS\\\",\\\"AWS_STEP_FUNCTIONS_EXECUTION_ARN\\\":\\\"arn:aws:states:us-east-1:525102048888:execution:ds-mlops-dev-linear-learner-step-function:a60cf619-9eed-4656-b690-58959fc8af36\\\"},\\\"ModelStepResults\\\":{\\\"ModelArn\\\":\\\"arn:aws:sagemaker:us-east-1:525102048888:model/ds-mlops-linear-learner-02\\\",\\\"SdkHttpMetadata\\\":{\\\"AllHttpHeaders\\\":{\\\"x-amzn-RequestId\\\":[\\\"63b34851-43cd-4835-9f8f-7ff77e0c9444\\\"],\\\"Content-Length\\\":[\\\"88\\\"],\\\"Date\\\":[\\\"Sun, 20 Jun 2021 17:32:08 GMT\\\"],\\\"Content-Type\\\":[\\\"application/x-amz-json-1.1\\\"]},\\\"HttpHeaders\\\":{\\\"Content-Length\\\":\\\"88\\\",\\\"Content-Type\\\":\\\"application/x-amz-json-1.1\\\",\\\"Date\\\":\\\"Sun, 20 Jun 2021 17:32:08 GMT\\\",\\\"x-amzn-RequestId\\\":\\\"63b34851-43cd-4835-9f8f-7ff77e0c9444\\\"},\\\"HttpStatusCode\\\":200},\\\"SdkResponseMetadata\\\":{\\\"RequestId\\\":\\\"63b34851-43cd-4835-9f8f-7ff77e0c9444\\\"}}}\", \"inputDetails\": {\"truncated\": false}}}, {\"timestamp\": 1624210328.616, \"type\": \"TaskScheduled\", \"id\": 20, \"previousEventId\": 19, \"taskScheduledEventDetails\": {\"resourceType\": \"lambda\", \"resource\": \"invoke\", \"region\": \"us-east-1\", \"parameters\": \"{\\\"FunctionName\\\":\\\"LinearLearnerQuery-training-status\\\",\\\"Payload\\\":{\\\"TrainingJobName\\\":\\\"ll-boost-training-17c44fd8d1ec11ebad620ee3dac64b5d\\\"}}\"}}, {\"timestamp\": 1624210328.628, \"type\": \"TaskStarted\", \"id\": 21, \"previousEventId\": 20, \"taskStartedEventDetails\": {\"resourceType\": \"lambda\", \"resource\": \"invoke\"}}, {\"timestamp\": 1624210329.557, \"type\": \"TaskSucceeded\", \"id\": 22, \"previousEventId\": 21, \"taskSucceededEventDetails\": {\"resourceType\": \"lambda\", \"resource\": \"invoke\", \"output\": \"{\\\"ExecutedVersion\\\":\\\"$LATEST\\\",\\\"Payload\\\":{\\\"statusCode\\\":200,\\\"trainingMetrics\\\":[{\\\"MetricName\\\":\\\"train:progress\\\",\\\"Value\\\":100.0,\\\"Timestamp\\\":1.624210312E9},{\\\"MetricName\\\":\\\"train:objective_loss\\\",\\\"Value\\\":0.9689708352088928,\\\"Timestamp\\\":1.62421031E9},{\\\"MetricName\\\":\\\"validation:objective_loss\\\",\\\"Value\\\":2.8886886E7,\\\"Timestamp\\\":1.624210312E9},{\\\"MetricName\\\":\\\"validation:objective_loss:final\\\",\\\"Value\\\":2.8898176E7,\\\"Timestamp\\\":1.624210314E9},{\\\"MetricName\\\":\\\"validation:mse\\\",\\\"Value\\\":2.8898176E7,\\\"Timestamp\\\":1.624210314E9},{\\\"MetricName\\\":\\\"train:throughput\\\",\\\"Value\\\":24308.1953125,\\\"Timestamp\\\":1.624210312E9},{\\\"MetricName\\\":\\\"validation:absolute_loss\\\",\\\"Value\\\":4711.2802734375,\\\"Timestamp\\\":1.624210314E9}]},\\\"SdkHttpMetadata\\\":{\\\"AllHttpHeaders\\\":{\\\"X-Amz-Executed-Version\\\":[\\\"$LATEST\\\"],\\\"x-amzn-Remapped-Content-Length\\\":[\\\"0\\\"],\\\"Connection\\\":[\\\"keep-alive\\\"],\\\"x-amzn-RequestId\\\":[\\\"cd5df794-ac2e-4843-8026-3e81631fb481\\\"],\\\"Content-Length\\\":[\\\"671\\\"],\\\"Date\\\":[\\\"Sun, 20 Jun 2021 17:32:09 GMT\\\"],\\\"X-Amzn-Trace-Id\\\":[\\\"root=1-60cf7b98-27681919639c20b03c2877c8;sampled=0\\\"],\\\"Content-Type\\\":[\\\"application/json\\\"]},\\\"HttpHeaders\\\":{\\\"Connection\\\":\\\"keep-alive\\\",\\\"Content-Length\\\":\\\"671\\\",\\\"Content-Type\\\":\\\"application/json\\\",\\\"Date\\\":\\\"Sun, 20 Jun 2021 17:32:09 GMT\\\",\\\"X-Amz-Executed-Version\\\":\\\"$LATEST\\\",\\\"x-amzn-Remapped-Content-Length\\\":\\\"0\\\",\\\"x-amzn-RequestId\\\":\\\"cd5df794-ac2e-4843-8026-3e81631fb481\\\",\\\"X-Amzn-Trace-Id\\\":\\\"root=1-60cf7b98-27681919639c20b03c2877c8;sampled=0\\\"},\\\"HttpStatusCode\\\":200},\\\"SdkResponseMetadata\\\":{\\\"RequestId\\\":\\\"cd5df794-ac2e-4843-8026-3e81631fb481\\\"},\\\"StatusCode\\\":200}\", \"outputDetails\": {\"truncated\": false}}}, {\"timestamp\": 1624210329.557, \"type\": \"TaskStateExited\", \"id\": 23, \"previousEventId\": 22, \"stateExitedEventDetails\": {\"name\": \"Query Training Results\", \"output\": \"{\\\"ExecutedVersion\\\":\\\"$LATEST\\\",\\\"Payload\\\":{\\\"statusCode\\\":200,\\\"trainingMetrics\\\":[{\\\"MetricName\\\":\\\"train:progress\\\",\\\"Value\\\":100.0,\\\"Timestamp\\\":1.624210312E9},{\\\"MetricName\\\":\\\"train:objective_loss\\\",\\\"Value\\\":0.9689708352088928,\\\"Timestamp\\\":1.62421031E9},{\\\"MetricName\\\":\\\"validation:objective_loss\\\",\\\"Value\\\":2.8886886E7,\\\"Timestamp\\\":1.624210312E9},{\\\"MetricName\\\":\\\"validation:objective_loss:final\\\",\\\"Value\\\":2.8898176E7,\\\"Timestamp\\\":1.624210314E9},{\\\"MetricName\\\":\\\"validation:mse\\\",\\\"Value\\\":2.8898176E7,\\\"Timestamp\\\":1.624210314E9},{\\\"MetricName\\\":\\\"train:throughput\\\",\\\"Value\\\":24308.1953125,\\\"Timestamp\\\":1.624210312E9},{\\\"MetricName\\\":\\\"validation:absolute_loss\\\",\\\"Value\\\":4711.2802734375,\\\"Timestamp\\\":1.624210314E9}]},\\\"SdkHttpMetadata\\\":{\\\"AllHttpHeaders\\\":{\\\"X-Amz-Executed-Version\\\":[\\\"$LATEST\\\"],\\\"x-amzn-Remapped-Content-Length\\\":[\\\"0\\\"],\\\"Connection\\\":[\\\"keep-alive\\\"],\\\"x-amzn-RequestId\\\":[\\\"cd5df794-ac2e-4843-8026-3e81631fb481\\\"],\\\"Content-Length\\\":[\\\"671\\\"],\\\"Date\\\":[\\\"Sun, 20 Jun 2021 17:32:09 GMT\\\"],\\\"X-Amzn-Trace-Id\\\":[\\\"root=1-60cf7b98-27681919639c20b03c2877c8;sampled=0\\\"],\\\"Content-Type\\\":[\\\"application/json\\\"]},\\\"HttpHeaders\\\":{\\\"Connection\\\":\\\"keep-alive\\\",\\\"Content-Length\\\":\\\"671\\\",\\\"Content-Type\\\":\\\"application/json\\\",\\\"Date\\\":\\\"Sun, 20 Jun 2021 17:32:09 GMT\\\",\\\"X-Amz-Executed-Version\\\":\\\"$LATEST\\\",\\\"x-amzn-Remapped-Content-Length\\\":\\\"0\\\",\\\"x-amzn-RequestId\\\":\\\"cd5df794-ac2e-4843-8026-3e81631fb481\\\",\\\"X-Amzn-Trace-Id\\\":\\\"root=1-60cf7b98-27681919639c20b03c2877c8;sampled=0\\\"},\\\"HttpStatusCode\\\":200},\\\"SdkResponseMetadata\\\":{\\\"RequestId\\\":\\\"cd5df794-ac2e-4843-8026-3e81631fb481\\\"},\\\"StatusCode\\\":200}\", \"outputDetails\": {\"truncated\": false}}}, {\"timestamp\": 1624210329.564, \"type\": \"ChoiceStateEntered\", \"id\": 24, \"previousEventId\": 23, \"stateEnteredEventDetails\": {\"name\": \"RMSE < Threshold\", \"input\": \"{\\\"ExecutedVersion\\\":\\\"$LATEST\\\",\\\"Payload\\\":{\\\"statusCode\\\":200,\\\"trainingMetrics\\\":[{\\\"MetricName\\\":\\\"train:progress\\\",\\\"Value\\\":100.0,\\\"Timestamp\\\":1.624210312E9},{\\\"MetricName\\\":\\\"train:objective_loss\\\",\\\"Value\\\":0.9689708352088928,\\\"Timestamp\\\":1.62421031E9},{\\\"MetricName\\\":\\\"validation:objective_loss\\\",\\\"Value\\\":2.8886886E7,\\\"Timestamp\\\":1.624210312E9},{\\\"MetricName\\\":\\\"validation:objective_loss:final\\\",\\\"Value\\\":2.8898176E7,\\\"Timestamp\\\":1.624210314E9},{\\\"MetricName\\\":\\\"validation:mse\\\",\\\"Value\\\":2.8898176E7,\\\"Timestamp\\\":1.624210314E9},{\\\"MetricName\\\":\\\"train:throughput\\\",\\\"Value\\\":24308.1953125,\\\"Timestamp\\\":1.624210312E9},{\\\"MetricName\\\":\\\"validation:absolute_loss\\\",\\\"Value\\\":4711.2802734375,\\\"Timestamp\\\":1.624210314E9}]},\\\"SdkHttpMetadata\\\":{\\\"AllHttpHeaders\\\":{\\\"X-Amz-Executed-Version\\\":[\\\"$LATEST\\\"],\\\"x-amzn-Remapped-Content-Length\\\":[\\\"0\\\"],\\\"Connection\\\":[\\\"keep-alive\\\"],\\\"x-amzn-RequestId\\\":[\\\"cd5df794-ac2e-4843-8026-3e81631fb481\\\"],\\\"Content-Length\\\":[\\\"671\\\"],\\\"Date\\\":[\\\"Sun, 20 Jun 2021 17:32:09 GMT\\\"],\\\"X-Amzn-Trace-Id\\\":[\\\"root=1-60cf7b98-27681919639c20b03c2877c8;sampled=0\\\"],\\\"Content-Type\\\":[\\\"application/json\\\"]},\\\"HttpHeaders\\\":{\\\"Connection\\\":\\\"keep-alive\\\",\\\"Content-Length\\\":\\\"671\\\",\\\"Content-Type\\\":\\\"application/json\\\",\\\"Date\\\":\\\"Sun, 20 Jun 2021 17:32:09 GMT\\\",\\\"X-Amz-Executed-Version\\\":\\\"$LATEST\\\",\\\"x-amzn-Remapped-Content-Length\\\":\\\"0\\\",\\\"x-amzn-RequestId\\\":\\\"cd5df794-ac2e-4843-8026-3e81631fb481\\\",\\\"X-Amzn-Trace-Id\\\":\\\"root=1-60cf7b98-27681919639c20b03c2877c8;sampled=0\\\"},\\\"HttpStatusCode\\\":200},\\\"SdkResponseMetadata\\\":{\\\"RequestId\\\":\\\"cd5df794-ac2e-4843-8026-3e81631fb481\\\"},\\\"StatusCode\\\":200}\", \"inputDetails\": {\"truncated\": false}}}, {\"timestamp\": 1624210329.564, \"type\": \"ChoiceStateExited\", \"id\": 25, \"previousEventId\": 24, \"stateExitedEventDetails\": {\"name\": \"RMSE < Threshold\", \"output\": \"{\\\"ExecutedVersion\\\":\\\"$LATEST\\\",\\\"Payload\\\":{\\\"statusCode\\\":200,\\\"trainingMetrics\\\":[{\\\"MetricName\\\":\\\"train:progress\\\",\\\"Value\\\":100.0,\\\"Timestamp\\\":1.624210312E9},{\\\"MetricName\\\":\\\"train:objective_loss\\\",\\\"Value\\\":0.9689708352088928,\\\"Timestamp\\\":1.62421031E9},{\\\"MetricName\\\":\\\"validation:objective_loss\\\",\\\"Value\\\":2.8886886E7,\\\"Timestamp\\\":1.624210312E9},{\\\"MetricName\\\":\\\"validation:objective_loss:final\\\",\\\"Value\\\":2.8898176E7,\\\"Timestamp\\\":1.624210314E9},{\\\"MetricName\\\":\\\"validation:mse\\\",\\\"Value\\\":2.8898176E7,\\\"Timestamp\\\":1.624210314E9},{\\\"MetricName\\\":\\\"train:throughput\\\",\\\"Value\\\":24308.1953125,\\\"Timestamp\\\":1.624210312E9},{\\\"MetricName\\\":\\\"validation:absolute_loss\\\",\\\"Value\\\":4711.2802734375,\\\"Timestamp\\\":1.624210314E9}]},\\\"SdkHttpMetadata\\\":{\\\"AllHttpHeaders\\\":{\\\"X-Amz-Executed-Version\\\":[\\\"$LATEST\\\"],\\\"x-amzn-Remapped-Content-Length\\\":[\\\"0\\\"],\\\"Connection\\\":[\\\"keep-alive\\\"],\\\"x-amzn-RequestId\\\":[\\\"cd5df794-ac2e-4843-8026-3e81631fb481\\\"],\\\"Content-Length\\\":[\\\"671\\\"],\\\"Date\\\":[\\\"Sun, 20 Jun 2021 17:32:09 GMT\\\"],\\\"X-Amzn-Trace-Id\\\":[\\\"root=1-60cf7b98-27681919639c20b03c2877c8;sampled=0\\\"],\\\"Content-Type\\\":[\\\"application/json\\\"]},\\\"HttpHeaders\\\":{\\\"Connection\\\":\\\"keep-alive\\\",\\\"Content-Length\\\":\\\"671\\\",\\\"Content-Type\\\":\\\"application/json\\\",\\\"Date\\\":\\\"Sun, 20 Jun 2021 17:32:09 GMT\\\",\\\"X-Amz-Executed-Version\\\":\\\"$LATEST\\\",\\\"x-amzn-Remapped-Content-Length\\\":\\\"0\\\",\\\"x-amzn-RequestId\\\":\\\"cd5df794-ac2e-4843-8026-3e81631fb481\\\",\\\"X-Amzn-Trace-Id\\\":\\\"root=1-60cf7b98-27681919639c20b03c2877c8;sampled=0\\\"},\\\"HttpStatusCode\\\":200},\\\"SdkResponseMetadata\\\":{\\\"RequestId\\\":\\\"cd5df794-ac2e-4843-8026-3e81631fb481\\\"},\\\"StatusCode\\\":200}\", \"outputDetails\": {\"truncated\": false}}}, {\"timestamp\": 1624210329.664, \"type\": \"TaskStateEntered\", \"id\": 26, \"previousEventId\": 25, \"stateEnteredEventDetails\": {\"name\": \"Create Model Endpoint Config\", \"input\": \"{\\\"ExecutedVersion\\\":\\\"$LATEST\\\",\\\"Payload\\\":{\\\"statusCode\\\":200,\\\"trainingMetrics\\\":[{\\\"MetricName\\\":\\\"train:progress\\\",\\\"Value\\\":100.0,\\\"Timestamp\\\":1.624210312E9},{\\\"MetricName\\\":\\\"train:objective_loss\\\",\\\"Value\\\":0.9689708352088928,\\\"Timestamp\\\":1.62421031E9},{\\\"MetricName\\\":\\\"validation:objective_loss\\\",\\\"Value\\\":2.8886886E7,\\\"Timestamp\\\":1.624210312E9},{\\\"MetricName\\\":\\\"validation:objective_loss:final\\\",\\\"Value\\\":2.8898176E7,\\\"Timestamp\\\":1.624210314E9},{\\\"MetricName\\\":\\\"validation:mse\\\",\\\"Value\\\":2.8898176E7,\\\"Timestamp\\\":1.624210314E9},{\\\"MetricName\\\":\\\"train:throughput\\\",\\\"Value\\\":24308.1953125,\\\"Timestamp\\\":1.624210312E9},{\\\"MetricName\\\":\\\"validation:absolute_loss\\\",\\\"Value\\\":4711.2802734375,\\\"Timestamp\\\":1.624210314E9}]},\\\"SdkHttpMetadata\\\":{\\\"AllHttpHeaders\\\":{\\\"X-Amz-Executed-Version\\\":[\\\"$LATEST\\\"],\\\"x-amzn-Remapped-Content-Length\\\":[\\\"0\\\"],\\\"Connection\\\":[\\\"keep-alive\\\"],\\\"x-amzn-RequestId\\\":[\\\"cd5df794-ac2e-4843-8026-3e81631fb481\\\"],\\\"Content-Length\\\":[\\\"671\\\"],\\\"Date\\\":[\\\"Sun, 20 Jun 2021 17:32:09 GMT\\\"],\\\"X-Amzn-Trace-Id\\\":[\\\"root=1-60cf7b98-27681919639c20b03c2877c8;sampled=0\\\"],\\\"Content-Type\\\":[\\\"application/json\\\"]},\\\"HttpHeaders\\\":{\\\"Connection\\\":\\\"keep-alive\\\",\\\"Content-Length\\\":\\\"671\\\",\\\"Content-Type\\\":\\\"application/json\\\",\\\"Date\\\":\\\"Sun, 20 Jun 2021 17:32:09 GMT\\\",\\\"X-Amz-Executed-Version\\\":\\\"$LATEST\\\",\\\"x-amzn-Remapped-Content-Length\\\":\\\"0\\\",\\\"x-amzn-RequestId\\\":\\\"cd5df794-ac2e-4843-8026-3e81631fb481\\\",\\\"X-Amzn-Trace-Id\\\":\\\"root=1-60cf7b98-27681919639c20b03c2877c8;sampled=0\\\"},\\\"HttpStatusCode\\\":200},\\\"SdkResponseMetadata\\\":{\\\"RequestId\\\":\\\"cd5df794-ac2e-4843-8026-3e81631fb481\\\"},\\\"StatusCode\\\":200}\", \"inputDetails\": {\"truncated\": false}}}, {\"timestamp\": 1624210329.664, \"type\": \"TaskScheduled\", \"id\": 27, \"previousEventId\": 26, \"taskScheduledEventDetails\": {\"resourceType\": \"sagemaker\", \"resource\": \"createEndpointConfig\", \"region\": \"us-east-1\", \"parameters\": \"{\\\"ProductionVariants\\\":[{\\\"InitialInstanceCount\\\":1,\\\"InstanceType\\\":\\\"ml.m4.xlarge\\\",\\\"VariantName\\\":\\\"AllTraffic\\\",\\\"ModelName\\\":\\\"ds-mlops-linear-learner-02\\\"}],\\\"EndpointConfigName\\\":\\\"endpoint-config-17c45988d1ec11ebad620ee3dac64b5d\\\"}\"}}, {\"timestamp\": 1624210329.675, \"type\": \"TaskStarted\", \"id\": 28, \"previousEventId\": 27, \"taskStartedEventDetails\": {\"resourceType\": \"sagemaker\", \"resource\": \"createEndpointConfig\"}}, {\"timestamp\": 1624210329.755, \"type\": \"TaskSucceeded\", \"id\": 29, \"previousEventId\": 28, \"taskSucceededEventDetails\": {\"resourceType\": \"sagemaker\", \"resource\": \"createEndpointConfig\", \"output\": \"{\\\"EndpointConfigArn\\\":\\\"arn:aws:sagemaker:us-east-1:525102048888:endpoint-config/endpoint-config-17c45988d1ec11ebad620ee3dac64b5d\\\",\\\"SdkHttpMetadata\\\":{\\\"AllHttpHeaders\\\":{\\\"x-amzn-RequestId\\\":[\\\"8c0edb86-69db-432d-8c16-26476b04a856\\\"],\\\"Content-Length\\\":[\\\"129\\\"],\\\"Date\\\":[\\\"Sun, 20 Jun 2021 17:32:09 GMT\\\"],\\\"Content-Type\\\":[\\\"application/x-amz-json-1.1\\\"]},\\\"HttpHeaders\\\":{\\\"Content-Length\\\":\\\"129\\\",\\\"Content-Type\\\":\\\"application/x-amz-json-1.1\\\",\\\"Date\\\":\\\"Sun, 20 Jun 2021 17:32:09 GMT\\\",\\\"x-amzn-RequestId\\\":\\\"8c0edb86-69db-432d-8c16-26476b04a856\\\"},\\\"HttpStatusCode\\\":200},\\\"SdkResponseMetadata\\\":{\\\"RequestId\\\":\\\"8c0edb86-69db-432d-8c16-26476b04a856\\\"}}\", \"outputDetails\": {\"truncated\": false}}}, {\"timestamp\": 1624210329.755, \"type\": \"TaskStateExited\", \"id\": 30, \"previousEventId\": 29, \"stateExitedEventDetails\": {\"name\": \"Create Model Endpoint Config\", \"output\": \"{\\\"EndpointConfigArn\\\":\\\"arn:aws:sagemaker:us-east-1:525102048888:endpoint-config/endpoint-config-17c45988d1ec11ebad620ee3dac64b5d\\\",\\\"SdkHttpMetadata\\\":{\\\"AllHttpHeaders\\\":{\\\"x-amzn-RequestId\\\":[\\\"8c0edb86-69db-432d-8c16-26476b04a856\\\"],\\\"Content-Length\\\":[\\\"129\\\"],\\\"Date\\\":[\\\"Sun, 20 Jun 2021 17:32:09 GMT\\\"],\\\"Content-Type\\\":[\\\"application/x-amz-json-1.1\\\"]},\\\"HttpHeaders\\\":{\\\"Content-Length\\\":\\\"129\\\",\\\"Content-Type\\\":\\\"application/x-amz-json-1.1\\\",\\\"Date\\\":\\\"Sun, 20 Jun 2021 17:32:09 GMT\\\",\\\"x-amzn-RequestId\\\":\\\"8c0edb86-69db-432d-8c16-26476b04a856\\\"},\\\"HttpStatusCode\\\":200},\\\"SdkResponseMetadata\\\":{\\\"RequestId\\\":\\\"8c0edb86-69db-432d-8c16-26476b04a856\\\"}}\", \"outputDetails\": {\"truncated\": false}}}, {\"timestamp\": 1624210329.85, \"type\": \"TaskStateEntered\", \"id\": 31, \"previousEventId\": 30, \"stateEnteredEventDetails\": {\"name\": \"Update Model Endpoint\", \"input\": \"{\\\"EndpointConfigArn\\\":\\\"arn:aws:sagemaker:us-east-1:525102048888:endpoint-config/endpoint-config-17c45988d1ec11ebad620ee3dac64b5d\\\",\\\"SdkHttpMetadata\\\":{\\\"AllHttpHeaders\\\":{\\\"x-amzn-RequestId\\\":[\\\"8c0edb86-69db-432d-8c16-26476b04a856\\\"],\\\"Content-Length\\\":[\\\"129\\\"],\\\"Date\\\":[\\\"Sun, 20 Jun 2021 17:32:09 GMT\\\"],\\\"Content-Type\\\":[\\\"application/x-amz-json-1.1\\\"]},\\\"HttpHeaders\\\":{\\\"Content-Length\\\":\\\"129\\\",\\\"Content-Type\\\":\\\"application/x-amz-json-1.1\\\",\\\"Date\\\":\\\"Sun, 20 Jun 2021 17:32:09 GMT\\\",\\\"x-amzn-RequestId\\\":\\\"8c0edb86-69db-432d-8c16-26476b04a856\\\"},\\\"HttpStatusCode\\\":200},\\\"SdkResponseMetadata\\\":{\\\"RequestId\\\":\\\"8c0edb86-69db-432d-8c16-26476b04a856\\\"}}\", \"inputDetails\": {\"truncated\": false}}}, {\"timestamp\": 1624210329.85, \"type\": \"TaskScheduled\", \"id\": 32, \"previousEventId\": 31, \"taskScheduledEventDetails\": {\"resourceType\": \"sagemaker\", \"resource\": \"createEndpoint\", \"region\": \"us-east-1\", \"parameters\": \"{\\\"EndpointName\\\":\\\"endpoint-17c457d0d1ec11ebad620ee3dac64b5d\\\",\\\"EndpointConfigName\\\":\\\"endpoint-config-17c45988d1ec11ebad620ee3dac64b5d\\\"}\"}}, {\"timestamp\": 1624210329.86, \"type\": \"TaskStarted\", \"id\": 33, \"previousEventId\": 32, \"taskStartedEventDetails\": {\"resourceType\": \"sagemaker\", \"resource\": \"createEndpoint\"}}, {\"timestamp\": 1624210330.07, \"type\": \"TaskSucceeded\", \"id\": 34, \"previousEventId\": 33, \"taskSucceededEventDetails\": {\"resourceType\": \"sagemaker\", \"resource\": \"createEndpoint\", \"output\": \"{\\\"EndpointArn\\\":\\\"arn:aws:sagemaker:us-east-1:525102048888:endpoint/endpoint-17c457d0d1ec11ebad620ee3dac64b5d\\\",\\\"SdkHttpMetadata\\\":{\\\"AllHttpHeaders\\\":{\\\"x-amzn-RequestId\\\":[\\\"b6b6aa6b-38f1-4b6c-9f77-1efdf156e8a2\\\"],\\\"Content-Length\\\":[\\\"109\\\"],\\\"Date\\\":[\\\"Sun, 20 Jun 2021 17:32:09 GMT\\\"],\\\"Content-Type\\\":[\\\"application/x-amz-json-1.1\\\"]},\\\"HttpHeaders\\\":{\\\"Content-Length\\\":\\\"109\\\",\\\"Content-Type\\\":\\\"application/x-amz-json-1.1\\\",\\\"Date\\\":\\\"Sun, 20 Jun 2021 17:32:09 GMT\\\",\\\"x-amzn-RequestId\\\":\\\"b6b6aa6b-38f1-4b6c-9f77-1efdf156e8a2\\\"},\\\"HttpStatusCode\\\":200},\\\"SdkResponseMetadata\\\":{\\\"RequestId\\\":\\\"b6b6aa6b-38f1-4b6c-9f77-1efdf156e8a2\\\"}}\", \"outputDetails\": {\"truncated\": false}}}, {\"timestamp\": 1624210330.07, \"type\": \"TaskStateExited\", \"id\": 35, \"previousEventId\": 34, \"stateExitedEventDetails\": {\"name\": \"Update Model Endpoint\", \"output\": \"{\\\"EndpointArn\\\":\\\"arn:aws:sagemaker:us-east-1:525102048888:endpoint/endpoint-17c457d0d1ec11ebad620ee3dac64b5d\\\",\\\"SdkHttpMetadata\\\":{\\\"AllHttpHeaders\\\":{\\\"x-amzn-RequestId\\\":[\\\"b6b6aa6b-38f1-4b6c-9f77-1efdf156e8a2\\\"],\\\"Content-Length\\\":[\\\"109\\\"],\\\"Date\\\":[\\\"Sun, 20 Jun 2021 17:32:09 GMT\\\"],\\\"Content-Type\\\":[\\\"application/x-amz-json-1.1\\\"]},\\\"HttpHeaders\\\":{\\\"Content-Length\\\":\\\"109\\\",\\\"Content-Type\\\":\\\"application/x-amz-json-1.1\\\",\\\"Date\\\":\\\"Sun, 20 Jun 2021 17:32:09 GMT\\\",\\\"x-amzn-RequestId\\\":\\\"b6b6aa6b-38f1-4b6c-9f77-1efdf156e8a2\\\"},\\\"HttpStatusCode\\\":200},\\\"SdkResponseMetadata\\\":{\\\"RequestId\\\":\\\"b6b6aa6b-38f1-4b6c-9f77-1efdf156e8a2\\\"}}\", \"outputDetails\": {\"truncated\": false}}}, {\"timestamp\": 1624210330.07, \"type\": \"ExecutionSucceeded\", \"id\": 36, \"previousEventId\": 35, \"executionSucceededEventDetails\": {\"output\": \"{\\\"EndpointArn\\\":\\\"arn:aws:sagemaker:us-east-1:525102048888:endpoint/endpoint-17c457d0d1ec11ebad620ee3dac64b5d\\\",\\\"SdkHttpMetadata\\\":{\\\"AllHttpHeaders\\\":{\\\"x-amzn-RequestId\\\":[\\\"b6b6aa6b-38f1-4b6c-9f77-1efdf156e8a2\\\"],\\\"Content-Length\\\":[\\\"109\\\"],\\\"Date\\\":[\\\"Sun, 20 Jun 2021 17:32:09 GMT\\\"],\\\"Content-Type\\\":[\\\"application/x-amz-json-1.1\\\"]},\\\"HttpHeaders\\\":{\\\"Content-Length\\\":\\\"109\\\",\\\"Content-Type\\\":\\\"application/x-amz-json-1.1\\\",\\\"Date\\\":\\\"Sun, 20 Jun 2021 17:32:09 GMT\\\",\\\"x-amzn-RequestId\\\":\\\"b6b6aa6b-38f1-4b6c-9f77-1efdf156e8a2\\\"},\\\"HttpStatusCode\\\":200},\\\"SdkResponseMetadata\\\":{\\\"RequestId\\\":\\\"b6b6aa6b-38f1-4b6c-9f77-1efdf156e8a2\\\"}}\", \"outputDetails\": {\"truncated\": false}}}] };\n",
       "\n",
       "    var graph = new sfn.StateMachineExecutionGraph(definition, events, elementId, options);\n",
       "    graph.render();\n",
       "});\n",
       "\n",
       "</script>\n"
      ],
      "text/plain": [
       "<IPython.core.display.HTML object>"
      ]
     },
     "execution_count": 70,
     "metadata": {},
     "output_type": "execute_result"
    }
   ],
   "source": [
    "basic_workflow_execution.render_progress()"
   ]
  },
  {
   "cell_type": "code",
   "execution_count": null,
   "id": "e47c2a5a",
   "metadata": {},
   "outputs": [],
   "source": []
  }
 ],
 "metadata": {
  "celltoolbar": "Raw Cell Format",
  "kernelspec": {
   "display_name": "conda_python3",
   "language": "python",
   "name": "conda_python3"
  },
  "language_info": {
   "codemirror_mode": {
    "name": "ipython",
    "version": 3
   },
   "file_extension": ".py",
   "mimetype": "text/x-python",
   "name": "python",
   "nbconvert_exporter": "python",
   "pygments_lexer": "ipython3",
   "version": "3.6.13"
  }
 },
 "nbformat": 4,
 "nbformat_minor": 5
}
