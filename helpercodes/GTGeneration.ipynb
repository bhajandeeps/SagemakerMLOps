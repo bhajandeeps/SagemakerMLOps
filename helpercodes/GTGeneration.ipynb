{
 "cells": [
  {
   "cell_type": "code",
   "execution_count": null,
   "id": "2138d9d8",
   "metadata": {},
   "outputs": [],
   "source": [
    "v_ll_batchcsvout=\"s3://wi-cred-datalake-dev-raw/transformed/scoring/outbound/batch/ll/2022/06/09/09/batch4_scoringdata20220609093904_3051938216.csv.out\"\n",
    "v_xg_batchcsvout=\"s3://wi-cred-datalake-dev-raw/transformed/scoring/outbound/batch/ll/2022/06/09/09/batch4_scoringdata20220609093904_3051938216.csv.out\"\n",
    "v_ll_realtimejsonl=\"s3://wi-cred-datalake-dev-raw/transformed/scoring/processing/realtime/ll/wi-mlops-lease-pric-ml-train-piln-lr-endpoint/AllTraffic/2022/06/08/11/09-14-802-13c75e13-7096-4935-b089-06e9f7b5113d.jsonl\"\n",
    "v_xg_realtimejsonl=\"s3://wi-cred-datalake-dev-raw/transformed/scoring/processing/realtime/ll/wi-mlops-lease-pric-ml-train-piln-lr-endpoint/AllTraffic/2022/06/08/11/09-14-802-13c75e13-7096-4935-b089-06e9f7b5113d.jsonl\""
   ]
  },
  {
   "cell_type": "code",
   "execution_count": null,
   "id": "a4116db0",
   "metadata": {},
   "outputs": [],
   "source": [
    "v_ll_batchcsvout=\"s3://wi-cred-datalake-dev-raw/transformed/titanic/scoring/outbound/batch/ll/2022/08/17/03/scorewolabel20220817034014_130312380.csv.out\"\n",
    "v_xg_batchcsvout=\"s3://wi-cred-datalake-dev-raw/transformed/titanic/scoring/outbound/batch/xg/2022/08/17/03/scorewolabel20220817034014_3788033936.csv.out\"\n",
    "v_ll_realtimejsonl=\"s3://wi-cred-datalake-dev-raw/transformed/titanic/scoring/processing/realtime/ll/wi-mlops-titanic-ml-train-piln-lr-endpoint/AllTraffic/2022/08/17/14/06-35-563-c0ccc365-55f6-4a95-810f-40e9f30e3433.jsonl\"\n",
    "v_xg_realtimejsonl=\"s3://wi-cred-datalake-dev-raw/transformed/titanic/scoring/processing/realtime/xg/wi-mlops-titanic-ml-train-piln-xgboost-endpoint/AllTraffic/2022/08/17/14/06-34-184-5a829d89-9bc6-464a-b194-69fc9416df8e.jsonl\""
   ]
  },
  {
   "cell_type": "code",
   "execution_count": null,
   "id": "cbd25c56",
   "metadata": {},
   "outputs": [],
   "source": [
    "v_nlp_batchcsvout=\"s3://wi-cred-datalake-dev-raw/data/repscoreinput/train20221006144612.csv\""
   ]
  },
  {
   "cell_type": "code",
   "execution_count": null,
   "id": "349e2020",
   "metadata": {},
   "outputs": [],
   "source": [
    "import pandas as pd \n",
    "import random\n",
    "def batchcsvtogtcsv(inpfile,opfilename):\n",
    "    df = pd.read_csv(inpfile, header=None)\n",
    "    df_gt = df.iloc[:,[3,17]]\n",
    "    df_gt = df_gt.rename({0: 'InfID', 1: 'GroundTruthValue'}, axis=1)\n",
    "    for i in range(len(df_gt)):\n",
    "        df_gt.iloc[i,1] = random.randint(11500,22000)\n",
    "    print(df_gt)\n",
    "    df_gt.to_csv(opfilename+'.csv',index = False)  "
   ]
  },
  {
   "cell_type": "code",
   "execution_count": null,
   "id": "43b19d8a",
   "metadata": {},
   "outputs": [],
   "source": [
    "#GT NLP Turi\n",
    "import pandas as pd \n",
    "import random\n",
    "def batchcsvtogtcsv(inpfile,opfilename):\n",
    "    df = pd.read_csv(inpfile, header=None)\n",
    "    df_gt = df.iloc[:,[0,1]]\n",
    "    df_gt = df_gt.rename({0: 'InfID', 1: 'GroundTruthValue'}, axis=1)\n",
    "#     for i in range(len(df_gt)):\n",
    "#         df_gt.iloc[i,1] = random.randint(11500,22000)\n",
    "    print(df_gt)\n",
    "    df_gt.to_csv(opfilename+'.csv',index = False)"
   ]
  },
  {
   "cell_type": "code",
   "execution_count": null,
   "id": "45153910",
   "metadata": {},
   "outputs": [],
   "source": [
    "batchcsvtogtcsv(v_nlp_batchcsvout,\"batchnlpgt\")\n"
   ]
  },
  {
   "cell_type": "code",
   "execution_count": 13,
   "id": "c5986192",
   "metadata": {},
   "outputs": [
    {
     "name": "stdout",
     "output_type": "stream",
     "text": [
      "Completed 34.6 KiB/34.6 KiB (227.0 KiB/s) with 1 file(s) remaining\r",
      "upload: ./batchnlpgt.csv to s3://wi-cred-datalake-dev-raw/transformed/nlp/monitoring/inbound/inpgroundtruth/batch/turi/batchnlpgt.csv\r\n"
     ]
    }
   ],
   "source": [
    "#transfer file to respective location of Ground Truth\n",
    "!aws s3 cp batchnlpgt.csv s3://wi-cred-datalake-dev-raw/transformed/nlp/monitoring/inbound/inpgroundtruth/batch/turi/"
   ]
  },
  {
   "cell_type": "code",
   "execution_count": 5,
   "id": "967a68b6",
   "metadata": {},
   "outputs": [],
   "source": [
    "import pandas as pd\n",
    "df=pd.read_csv(\"s3://wi-cred-datalake-dev-raw/data/repscoreinput/train20221006144612.csv\")\n",
    "df['text']=df['text'].str.replace(',','')\n",
    "df.to_csv(\"textnwithoutcomma.csv\")"
   ]
  },
  {
   "cell_type": "code",
   "execution_count": 7,
   "id": "ff4e31e2",
   "metadata": {},
   "outputs": [
    {
     "name": "stdout",
     "output_type": "stream",
     "text": [
      "upload: ./textnwithoutcomma.csv to s3://wi-cred-datalake-dev-raw/nlp/data/scoreinput/nlptextnwithoutcomma.csv\n"
     ]
    }
   ],
   "source": [
    "!aws s3 cp textnwithoutcomma.csv s3://wi-cred-datalake-dev-raw/nlp/data/scoreinput/nlptextnwithoutcomma.csv"
   ]
  },
  {
   "cell_type": "code",
   "execution_count": null,
   "id": "f86dd420",
   "metadata": {},
   "outputs": [],
   "source": [
    "!pip install jsonlines"
   ]
  },
  {
   "cell_type": "code",
   "execution_count": null,
   "id": "1b352e2b",
   "metadata": {},
   "outputs": [],
   "source": [
    "# real time gt generation\n",
    "import pandas as pd\n",
    "import random\n",
    "import jsonlines\n",
    "import boto3\n",
    "def realtimejsonltogtcsv(inpfile,outfilename):\n",
    "    df = pd.DataFrame(columns = ['InfID', 'GroundTruthValue'])\n",
    "    count = 0\n",
    "    s3rsc=boto3.resource('s3')\n",
    "    str1=inpfile.split('//',1)[-1]\n",
    "    print(str1)\n",
    "    bucket=str1.split('/',1)[0]\n",
    "    key=str1.split('/',1)[1]\n",
    "    localfilename=\"inpjsonfile.jsnol\"\n",
    "    s3rsc.Bucket(bucket).download_file(key,localfilename)\n",
    "    with jsonlines.open(localfilename) as f:\n",
    "        for line in f.iter():\n",
    "            df.at[count,'InfID'] = line['eventMetadata']['inferenceId']\n",
    "            df.at[count,'GroundTruthValue'] =  random.randint(11500,24000)\n",
    "            count = count+1\n",
    "           \n",
    "    df.to_csv(outfilename+'.csv',index = False) "
   ]
  },
  {
   "cell_type": "code",
   "execution_count": null,
   "id": "89cbb1f7",
   "metadata": {},
   "outputs": [],
   "source": [
    "realtimejsonltogtcsv(v_ll_realtimejsonl,\"realtimellgt\")\n",
    "realtimejsonltogtcsv(v_xg_realtimejsonl,\"realtimexggt\")\n",
    "#same way run for xg batch"
   ]
  },
  {
   "cell_type": "code",
   "execution_count": null,
   "id": "16cf8f6f",
   "metadata": {},
   "outputs": [],
   "source": [
    "!aws s3 cp batchllgt.csv s3://wi-cred-datalake-dev-raw/transformed/titanic/monitoring/inbound/inpgroundtruth/batch/ll/\n",
    "!aws s3 cp batchxggt.csv s3://wi-cred-datalake-dev-raw/transformed/titanic/monitoring/inbound/inpgroundtruth/batch/xg/\n",
    "!aws s3 cp realtimellgt.csv s3://wi-cred-datalake-dev-raw/transformed/titanic/monitoring/inbound/inpgroundtruth/realtime/ll/\n",
    "!aws s3 cp realtimexggt.csv s3://wi-cred-datalake-dev-raw/transformed/titanic/monitoring/inbound/inpgroundtruth/realtime/xg/    "
   ]
  },
  {
   "cell_type": "code",
   "execution_count": null,
   "id": "b29ecb3b",
   "metadata": {},
   "outputs": [],
   "source": [
    "!aws s3 cp s3://wi-cred-datalake-dev-raw/transformed/monitoring/reporting/datadrift/ s3://wi-cred-datalake-dev-raw/transformed/monitoring/reporting/drift/datadrift/ --recursive"
   ]
  },
  {
   "cell_type": "code",
   "execution_count": null,
   "id": "d7fea480",
   "metadata": {},
   "outputs": [],
   "source": [
    "!aws s3 cp s3://wi-cred-datalake-dev-raw/transformed/monitoring/reporting/modeldrift/ s3://wi-cred-datalake-dev-raw/transformed/monitoring/reporting/drift/modeldrift/ --recursive"
   ]
  }
 ],
 "metadata": {
  "kernelspec": {
   "display_name": "conda_python3",
   "language": "python",
   "name": "conda_python3"
  },
  "language_info": {
   "codemirror_mode": {
    "name": "ipython",
    "version": 3
   },
   "file_extension": ".py",
   "mimetype": "text/x-python",
   "name": "python",
   "nbconvert_exporter": "python",
   "pygments_lexer": "ipython3",
   "version": "3.6.13"
  }
 },
 "nbformat": 4,
 "nbformat_minor": 5
}
