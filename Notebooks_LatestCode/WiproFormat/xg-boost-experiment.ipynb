{
 "cells": [
  {
   "cell_type": "markdown",
   "id": "017892dd",
   "metadata": {},
   "source": [
    "# 1. Preprocess data set and performing EDA"
   ]
  },
  {
   "cell_type": "markdown",
   "id": "8941c561",
   "metadata": {},
   "source": [
    "In this section we have described how we will preprocess data set by reading files from S3\n",
    "- Input: S3 files in csv format \n",
    "- Output: Preprocess data which can be used for model training "
   ]
  },
  {
   "cell_type": "code",
   "execution_count": 1,
   "id": "b571ba15",
   "metadata": {},
   "outputs": [],
   "source": [
    "# Importing required library\n",
    "import pandas as pd\n",
    "import numpy as np\n",
    "\n",
    "import matplotlib.pyplot as plt\n",
    "import seaborn as sns"
   ]
  },
  {
   "cell_type": "markdown",
   "id": "b9967dc9",
   "metadata": {},
   "source": [
    "Setting dataframe display options"
   ]
  },
  {
   "cell_type": "code",
   "execution_count": 2,
   "id": "be4b6aaf",
   "metadata": {},
   "outputs": [],
   "source": [
    "pd.set_option('display.max_rows', 100)\n",
    "pd.set_option('display.max_columns', 100)"
   ]
  },
  {
   "cell_type": "markdown",
   "id": "6d12cb90",
   "metadata": {},
   "source": [
    "Reading and importing data set"
   ]
  },
  {
   "cell_type": "code",
   "execution_count": 3,
   "id": "3952b808",
   "metadata": {},
   "outputs": [],
   "source": [
    "# # you can put any value here according to your situation\n",
    "# chunksize = 10000\n",
    "\n",
    "# # the list that contains all the dataframes\n",
    "# list_of_dataframes = []\n",
    "\n",
    "# for df in pd.read_csv('s3://poc-sagemaker-step-function-bucketformodelanddata-iip9wy7qh0y0/vci/data/input/vehicles.csv', chunksize=chunksize):\n",
    "#     # process your data frame here\n",
    "#     # then add the current data frame into the list\n",
    "#     list_of_dataframes.append(df)\n",
    "\n",
    "# # if you want all the dataframes together, here it is\n",
    "# data = pd.concat(list_of_dataframes)"
   ]
  },
  {
   "cell_type": "code",
   "execution_count": 4,
   "id": "0c4a4965",
   "metadata": {},
   "outputs": [],
   "source": [
    "data = pd.read_csv(\"s3://ds-mlops-s3/data/input/inputdata.csv\",\n",
    "                   nrows=50000)"
   ]
  },
  {
   "cell_type": "code",
   "execution_count": null,
   "id": "e9a175ec",
   "metadata": {},
   "outputs": [],
   "source": [
    "import pandas as pd\n",
    "#start = time.time()\n",
    "#read data in chunks of 1 million rows at a time\n",
    "iter_csv = pd.read_csv('s3://wi-cred-datalake-dev-raw/data/input/offlease/vehicles.csv',iterator=True,chunksize=100000)\n",
    "#end = time.time()\n",
    "#print(\"Read csv with chunks: \",(end-start),\"sec\")\n",
    "df = pd.concat([chunk[chunk['VIN'].str.slice(start=-1).isin(['2', '3', '4', '5'])] for chunk in iter_csv])\n",
    "#pd_df = pd.concat(chunk)\n",
    "#Read csv with chunks:  0.013001203536987305 sec\n",
    "#import pandas as pd\n",
    "#chunksize = 10000\n",
    "#data = pd.read_csv('s3://wi-cred-datalake-dev-raw/data/input/offlease/vehicles.csv',chunksize=chunksize)"
   ]
  },
  {
   "cell_type": "code",
   "execution_count": 6,
   "id": "31c21e54",
   "metadata": {},
   "outputs": [
    {
     "data": {
      "text/plain": [
       "(26501, 26)"
      ]
     },
     "execution_count": 6,
     "metadata": {},
     "output_type": "execute_result"
    }
   ],
   "source": [
    "df.shape"
   ]
  },
  {
   "cell_type": "markdown",
   "id": "5e7d855b",
   "metadata": {},
   "source": [
    "describing dataset which we have got"
   ]
  },
  {
   "cell_type": "code",
   "execution_count": 6,
   "id": "6652c2de",
   "metadata": {},
   "outputs": [
    {
     "data": {
      "text/html": [
       "<div>\n",
       "<style scoped>\n",
       "    .dataframe tbody tr th:only-of-type {\n",
       "        vertical-align: middle;\n",
       "    }\n",
       "\n",
       "    .dataframe tbody tr th {\n",
       "        vertical-align: top;\n",
       "    }\n",
       "\n",
       "    .dataframe thead th {\n",
       "        text-align: right;\n",
       "    }\n",
       "</style>\n",
       "<table border=\"1\" class=\"dataframe\">\n",
       "  <thead>\n",
       "    <tr style=\"text-align: right;\">\n",
       "      <th></th>\n",
       "      <th>Unnamed: 0</th>\n",
       "      <th>id</th>\n",
       "      <th>price</th>\n",
       "      <th>year</th>\n",
       "      <th>odometer</th>\n",
       "      <th>lat</th>\n",
       "      <th>long</th>\n",
       "    </tr>\n",
       "  </thead>\n",
       "  <tbody>\n",
       "    <tr>\n",
       "      <th>count</th>\n",
       "      <td>50000.000000</td>\n",
       "      <td>5.000000e+04</td>\n",
       "      <td>5.000000e+04</td>\n",
       "      <td>49840.000000</td>\n",
       "      <td>4.312100e+04</td>\n",
       "      <td>49836.000000</td>\n",
       "      <td>49836.000000</td>\n",
       "    </tr>\n",
       "    <tr>\n",
       "      <th>mean</th>\n",
       "      <td>24999.500000</td>\n",
       "      <td>7.235423e+09</td>\n",
       "      <td>9.737749e+04</td>\n",
       "      <td>2010.917095</td>\n",
       "      <td>8.808795e+04</td>\n",
       "      <td>37.191616</td>\n",
       "      <td>-112.459686</td>\n",
       "    </tr>\n",
       "    <tr>\n",
       "      <th>std</th>\n",
       "      <td>14433.901067</td>\n",
       "      <td>4.511320e+06</td>\n",
       "      <td>1.371922e+07</td>\n",
       "      <td>9.541836</td>\n",
       "      <td>1.314989e+05</td>\n",
       "      <td>7.291648</td>\n",
       "      <td>16.726134</td>\n",
       "    </tr>\n",
       "    <tr>\n",
       "      <th>min</th>\n",
       "      <td>0.000000</td>\n",
       "      <td>7.218892e+09</td>\n",
       "      <td>0.000000e+00</td>\n",
       "      <td>1900.000000</td>\n",
       "      <td>0.000000e+00</td>\n",
       "      <td>-79.809640</td>\n",
       "      <td>-160.884673</td>\n",
       "    </tr>\n",
       "    <tr>\n",
       "      <th>25%</th>\n",
       "      <td>12499.750000</td>\n",
       "      <td>7.232401e+09</td>\n",
       "      <td>5.800000e+03</td>\n",
       "      <td>2008.000000</td>\n",
       "      <td>3.650000e+04</td>\n",
       "      <td>33.743904</td>\n",
       "      <td>-120.995406</td>\n",
       "    </tr>\n",
       "    <tr>\n",
       "      <th>50%</th>\n",
       "      <td>24999.500000</td>\n",
       "      <td>7.236879e+09</td>\n",
       "      <td>1.298900e+04</td>\n",
       "      <td>2013.000000</td>\n",
       "      <td>7.612600e+04</td>\n",
       "      <td>34.601900</td>\n",
       "      <td>-117.489706</td>\n",
       "    </tr>\n",
       "    <tr>\n",
       "      <th>75%</th>\n",
       "      <td>37499.250000</td>\n",
       "      <td>7.239370e+09</td>\n",
       "      <td>2.350000e+04</td>\n",
       "      <td>2017.000000</td>\n",
       "      <td>1.216810e+05</td>\n",
       "      <td>37.737407</td>\n",
       "      <td>-95.751970</td>\n",
       "    </tr>\n",
       "    <tr>\n",
       "      <th>max</th>\n",
       "      <td>49999.000000</td>\n",
       "      <td>7.240698e+09</td>\n",
       "      <td>2.808349e+09</td>\n",
       "      <td>2021.000000</td>\n",
       "      <td>1.000000e+07</td>\n",
       "      <td>64.993698</td>\n",
       "      <td>150.898969</td>\n",
       "    </tr>\n",
       "  </tbody>\n",
       "</table>\n",
       "</div>"
      ],
      "text/plain": [
       "         Unnamed: 0            id         price          year      odometer  \\\n",
       "count  50000.000000  5.000000e+04  5.000000e+04  49840.000000  4.312100e+04   \n",
       "mean   24999.500000  7.235423e+09  9.737749e+04   2010.917095  8.808795e+04   \n",
       "std    14433.901067  4.511320e+06  1.371922e+07      9.541836  1.314989e+05   \n",
       "min        0.000000  7.218892e+09  0.000000e+00   1900.000000  0.000000e+00   \n",
       "25%    12499.750000  7.232401e+09  5.800000e+03   2008.000000  3.650000e+04   \n",
       "50%    24999.500000  7.236879e+09  1.298900e+04   2013.000000  7.612600e+04   \n",
       "75%    37499.250000  7.239370e+09  2.350000e+04   2017.000000  1.216810e+05   \n",
       "max    49999.000000  7.240698e+09  2.808349e+09   2021.000000  1.000000e+07   \n",
       "\n",
       "                lat          long  \n",
       "count  49836.000000  49836.000000  \n",
       "mean      37.191616   -112.459686  \n",
       "std        7.291648     16.726134  \n",
       "min      -79.809640   -160.884673  \n",
       "25%       33.743904   -120.995406  \n",
       "50%       34.601900   -117.489706  \n",
       "75%       37.737407    -95.751970  \n",
       "max       64.993698    150.898969  "
      ]
     },
     "execution_count": 6,
     "metadata": {},
     "output_type": "execute_result"
    }
   ],
   "source": [
    "df.describe()\n"
   ]
  },
  {
   "cell_type": "markdown",
   "id": "2d696690",
   "metadata": {},
   "source": [
    "Removing unnessary columns"
   ]
  },
  {
   "cell_type": "code",
   "execution_count": 7,
   "id": "33f2f526",
   "metadata": {},
   "outputs": [],
   "source": [
    "df.drop(columns=['Unnamed: 0', 'id', 'url', 'region', \n",
    "                 'region_url', \n",
    "                 'VIN', 'size', 'image_url', \n",
    "                 'description', 'state', 'lat', 'long'], inplace=True)"
   ]
  },
  {
   "cell_type": "markdown",
   "id": "73ebc83d",
   "metadata": {},
   "source": [
    "Imputing data for missing values"
   ]
  },
  {
   "cell_type": "code",
   "execution_count": 8,
   "id": "ee5731b5",
   "metadata": {},
   "outputs": [
    {
     "data": {
      "text/plain": [
       "0     32742.0\n",
       "1     93600.0\n",
       "2     87046.0\n",
       "3    190000.0\n",
       "4    116000.0\n",
       "Name: odometer, dtype: float64"
      ]
     },
     "execution_count": 8,
     "metadata": {},
     "output_type": "execute_result"
    }
   ],
   "source": [
    "from sklearn.impute import SimpleImputer\n",
    "\n",
    "imr = SimpleImputer(strategy='mean')\n",
    "imr = imr.fit(df[['odometer']])\n",
    "imputed_data = imr.transform(df[['odometer']])\n",
    "df['odometer'] = pd.DataFrame(imputed_data)\n",
    "df['odometer'].head()"
   ]
  },
  {
   "cell_type": "code",
   "execution_count": 9,
   "id": "df4b19b7",
   "metadata": {},
   "outputs": [
    {
     "data": {
      "text/plain": [
       "<bound method IndexOpsMixin.value_counts of 0        35990\n",
       "1         7500\n",
       "2         4900\n",
       "3         2000\n",
       "4        19500\n",
       "         ...  \n",
       "49995    25995\n",
       "49996    27490\n",
       "49997    10499\n",
       "49998    21995\n",
       "49999    26980\n",
       "Name: price, Length: 50000, dtype: int64>"
      ]
     },
     "execution_count": 9,
     "metadata": {},
     "output_type": "execute_result"
    }
   ],
   "source": [
    "df['price'].value_counts"
   ]
  },
  {
   "cell_type": "code",
   "execution_count": 10,
   "id": "f5b9cd5c",
   "metadata": {},
   "outputs": [
    {
     "data": {
      "text/html": [
       "<div>\n",
       "<style scoped>\n",
       "    .dataframe tbody tr th:only-of-type {\n",
       "        vertical-align: middle;\n",
       "    }\n",
       "\n",
       "    .dataframe tbody tr th {\n",
       "        vertical-align: top;\n",
       "    }\n",
       "\n",
       "    .dataframe thead th {\n",
       "        text-align: right;\n",
       "    }\n",
       "</style>\n",
       "<table border=\"1\" class=\"dataframe\">\n",
       "  <thead>\n",
       "    <tr style=\"text-align: right;\">\n",
       "      <th></th>\n",
       "      <th>price</th>\n",
       "      <th>year</th>\n",
       "      <th>manufacturer</th>\n",
       "      <th>model</th>\n",
       "      <th>condition</th>\n",
       "      <th>cylinders</th>\n",
       "      <th>fuel</th>\n",
       "      <th>odometer</th>\n",
       "      <th>title_status</th>\n",
       "      <th>transmission</th>\n",
       "      <th>drive</th>\n",
       "      <th>type</th>\n",
       "      <th>paint_color</th>\n",
       "      <th>posting_date</th>\n",
       "    </tr>\n",
       "  </thead>\n",
       "  <tbody>\n",
       "    <tr>\n",
       "      <th>0</th>\n",
       "      <td>35990</td>\n",
       "      <td>2010.0</td>\n",
       "      <td>7</td>\n",
       "      <td>2761</td>\n",
       "      <td>2</td>\n",
       "      <td>6</td>\n",
       "      <td>2</td>\n",
       "      <td>32742.0</td>\n",
       "      <td>0</td>\n",
       "      <td>2</td>\n",
       "      <td>2</td>\n",
       "      <td>7</td>\n",
       "      <td>12</td>\n",
       "      <td>45683</td>\n",
       "    </tr>\n",
       "    <tr>\n",
       "      <th>1</th>\n",
       "      <td>7500</td>\n",
       "      <td>2014.0</td>\n",
       "      <td>17</td>\n",
       "      <td>6919</td>\n",
       "      <td>0</td>\n",
       "      <td>3</td>\n",
       "      <td>2</td>\n",
       "      <td>93600.0</td>\n",
       "      <td>0</td>\n",
       "      <td>0</td>\n",
       "      <td>1</td>\n",
       "      <td>9</td>\n",
       "      <td>12</td>\n",
       "      <td>44930</td>\n",
       "    </tr>\n",
       "    <tr>\n",
       "      <th>2</th>\n",
       "      <td>4900</td>\n",
       "      <td>2006.0</td>\n",
       "      <td>4</td>\n",
       "      <td>7957</td>\n",
       "      <td>2</td>\n",
       "      <td>5</td>\n",
       "      <td>2</td>\n",
       "      <td>87046.0</td>\n",
       "      <td>0</td>\n",
       "      <td>0</td>\n",
       "      <td>3</td>\n",
       "      <td>0</td>\n",
       "      <td>1</td>\n",
       "      <td>44542</td>\n",
       "    </tr>\n",
       "    <tr>\n",
       "      <th>3</th>\n",
       "      <td>2000</td>\n",
       "      <td>1974.0</td>\n",
       "      <td>7</td>\n",
       "      <td>2117</td>\n",
       "      <td>2</td>\n",
       "      <td>3</td>\n",
       "      <td>2</td>\n",
       "      <td>190000.0</td>\n",
       "      <td>0</td>\n",
       "      <td>0</td>\n",
       "      <td>2</td>\n",
       "      <td>8</td>\n",
       "      <td>1</td>\n",
       "      <td>43200</td>\n",
       "    </tr>\n",
       "    <tr>\n",
       "      <th>4</th>\n",
       "      <td>19500</td>\n",
       "      <td>2005.0</td>\n",
       "      <td>13</td>\n",
       "      <td>3958</td>\n",
       "      <td>0</td>\n",
       "      <td>6</td>\n",
       "      <td>0</td>\n",
       "      <td>116000.0</td>\n",
       "      <td>1</td>\n",
       "      <td>0</td>\n",
       "      <td>0</td>\n",
       "      <td>8</td>\n",
       "      <td>1</td>\n",
       "      <td>42054</td>\n",
       "    </tr>\n",
       "  </tbody>\n",
       "</table>\n",
       "</div>"
      ],
      "text/plain": [
       "   price    year  manufacturer  model  condition  cylinders  fuel  odometer  \\\n",
       "0  35990  2010.0             7   2761          2          6     2   32742.0   \n",
       "1   7500  2014.0            17   6919          0          3     2   93600.0   \n",
       "2   4900  2006.0             4   7957          2          5     2   87046.0   \n",
       "3   2000  1974.0             7   2117          2          3     2  190000.0   \n",
       "4  19500  2005.0            13   3958          0          6     0  116000.0   \n",
       "\n",
       "   title_status  transmission  drive  type  paint_color  posting_date  \n",
       "0             0             2      2     7           12         45683  \n",
       "1             0             0      1     9           12         44930  \n",
       "2             0             0      3     0            1         44542  \n",
       "3             0             0      2     8            1         43200  \n",
       "4             1             0      0     8            1         42054  "
      ]
     },
     "execution_count": 10,
     "metadata": {},
     "output_type": "execute_result"
    }
   ],
   "source": [
    "from sklearn import preprocessing\n",
    "\n",
    "def encode_features(dataframe):\n",
    "    result = dataframe.copy()\n",
    "    encoders = {}\n",
    "    for column in result.columns:\n",
    "        if result.dtypes[column] == np.object:\n",
    "            encoders[column] = preprocessing.LabelEncoder()\n",
    "            result[column] = encoders[column].fit_transform(result[column])\n",
    "    return result, encoders\n",
    "\n",
    "encoded_df, encoders = encode_features(df) \n",
    "encoded_df.head()"
   ]
  },
  {
   "cell_type": "code",
   "execution_count": 11,
   "id": "f65071c1",
   "metadata": {},
   "outputs": [
    {
     "name": "stdout",
     "output_type": "stream",
     "text": [
      "Features' hists plotted\n"
     ]
    },
    {
     "data": {
      "image/png": "[encoded data removed]",
      "text/plain": [
       "<Figure size 1296x576 with 15 Axes>"
      ]
     },
     "metadata": {
      "needs_background": "light"
     },
     "output_type": "display_data"
    }
   ],
   "source": [
    "encoded_df.hist(figsize=(18, 8), layout=(3,5), bins=20)\n",
    "print('Features\\' hists plotted')"
   ]
  },
  {
   "cell_type": "code",
   "execution_count": 12,
   "id": "3e5b4953",
   "metadata": {},
   "outputs": [
    {
     "data": {
      "image/png": "[encoded data removed]",
      "text/plain": [
       "<Figure size 1224x1080 with 2 Axes>"
      ]
     },
     "metadata": {
      "needs_background": "light"
     },
     "output_type": "display_data"
    }
   ],
   "source": [
    "plt.subplots(figsize=(17, 15))\n",
    "sns.heatmap(encoded_df.corr(), square = True, annot=True)\n",
    "plt.show()"
   ]
  },
  {
   "cell_type": "code",
   "execution_count": 13,
   "id": "f89f4b73",
   "metadata": {},
   "outputs": [
    {
     "data": {
      "text/html": [
       "<div>\n",
       "<style scoped>\n",
       "    .dataframe tbody tr th:only-of-type {\n",
       "        vertical-align: middle;\n",
       "    }\n",
       "\n",
       "    .dataframe tbody tr th {\n",
       "        vertical-align: top;\n",
       "    }\n",
       "\n",
       "    .dataframe thead th {\n",
       "        text-align: right;\n",
       "    }\n",
       "</style>\n",
       "<table border=\"1\" class=\"dataframe\">\n",
       "  <thead>\n",
       "    <tr style=\"text-align: right;\">\n",
       "      <th></th>\n",
       "      <th>price</th>\n",
       "      <th>year</th>\n",
       "      <th>manufacturer</th>\n",
       "      <th>model</th>\n",
       "      <th>condition</th>\n",
       "      <th>cylinders</th>\n",
       "      <th>fuel</th>\n",
       "      <th>odometer</th>\n",
       "      <th>title_status</th>\n",
       "      <th>transmission</th>\n",
       "      <th>drive</th>\n",
       "      <th>type</th>\n",
       "      <th>paint_color</th>\n",
       "      <th>posting_date</th>\n",
       "    </tr>\n",
       "  </thead>\n",
       "  <tbody>\n",
       "    <tr>\n",
       "      <th>0</th>\n",
       "      <td>35990</td>\n",
       "      <td>2010.0</td>\n",
       "      <td>7</td>\n",
       "      <td>2761</td>\n",
       "      <td>2</td>\n",
       "      <td>6</td>\n",
       "      <td>2</td>\n",
       "      <td>32742.0</td>\n",
       "      <td>0</td>\n",
       "      <td>2</td>\n",
       "      <td>2</td>\n",
       "      <td>7</td>\n",
       "      <td>12</td>\n",
       "      <td>45683</td>\n",
       "    </tr>\n",
       "    <tr>\n",
       "      <th>1</th>\n",
       "      <td>7500</td>\n",
       "      <td>2014.0</td>\n",
       "      <td>17</td>\n",
       "      <td>6919</td>\n",
       "      <td>0</td>\n",
       "      <td>3</td>\n",
       "      <td>2</td>\n",
       "      <td>93600.0</td>\n",
       "      <td>0</td>\n",
       "      <td>0</td>\n",
       "      <td>1</td>\n",
       "      <td>9</td>\n",
       "      <td>12</td>\n",
       "      <td>44930</td>\n",
       "    </tr>\n",
       "    <tr>\n",
       "      <th>2</th>\n",
       "      <td>4900</td>\n",
       "      <td>2006.0</td>\n",
       "      <td>4</td>\n",
       "      <td>7957</td>\n",
       "      <td>2</td>\n",
       "      <td>5</td>\n",
       "      <td>2</td>\n",
       "      <td>87046.0</td>\n",
       "      <td>0</td>\n",
       "      <td>0</td>\n",
       "      <td>3</td>\n",
       "      <td>0</td>\n",
       "      <td>1</td>\n",
       "      <td>44542</td>\n",
       "    </tr>\n",
       "    <tr>\n",
       "      <th>3</th>\n",
       "      <td>2000</td>\n",
       "      <td>1974.0</td>\n",
       "      <td>7</td>\n",
       "      <td>2117</td>\n",
       "      <td>2</td>\n",
       "      <td>3</td>\n",
       "      <td>2</td>\n",
       "      <td>190000.0</td>\n",
       "      <td>0</td>\n",
       "      <td>0</td>\n",
       "      <td>2</td>\n",
       "      <td>8</td>\n",
       "      <td>1</td>\n",
       "      <td>43200</td>\n",
       "    </tr>\n",
       "    <tr>\n",
       "      <th>4</th>\n",
       "      <td>19500</td>\n",
       "      <td>2005.0</td>\n",
       "      <td>13</td>\n",
       "      <td>3958</td>\n",
       "      <td>0</td>\n",
       "      <td>6</td>\n",
       "      <td>0</td>\n",
       "      <td>116000.0</td>\n",
       "      <td>1</td>\n",
       "      <td>0</td>\n",
       "      <td>0</td>\n",
       "      <td>8</td>\n",
       "      <td>1</td>\n",
       "      <td>42054</td>\n",
       "    </tr>\n",
       "  </tbody>\n",
       "</table>\n",
       "</div>"
      ],
      "text/plain": [
       "   price    year  manufacturer  model  condition  cylinders  fuel  odometer  \\\n",
       "0  35990  2010.0             7   2761          2          6     2   32742.0   \n",
       "1   7500  2014.0            17   6919          0          3     2   93600.0   \n",
       "2   4900  2006.0             4   7957          2          5     2   87046.0   \n",
       "3   2000  1974.0             7   2117          2          3     2  190000.0   \n",
       "4  19500  2005.0            13   3958          0          6     0  116000.0   \n",
       "\n",
       "   title_status  transmission  drive  type  paint_color  posting_date  \n",
       "0             0             2      2     7           12         45683  \n",
       "1             0             0      1     9           12         44930  \n",
       "2             0             0      3     0            1         44542  \n",
       "3             0             0      2     8            1         43200  \n",
       "4             1             0      0     8            1         42054  "
      ]
     },
     "execution_count": 13,
     "metadata": {},
     "output_type": "execute_result"
    }
   ],
   "source": [
    "encoded_df.head()"
   ]
  },
  {
   "cell_type": "code",
   "execution_count": 14,
   "id": "0dafd757",
   "metadata": {},
   "outputs": [],
   "source": [
    "# encoded_df.to_csv('encoded_df.csv', encoding='utf-8')"
   ]
  },
  {
   "cell_type": "markdown",
   "id": "a3a8fa0e",
   "metadata": {},
   "source": [
    "We'll then split the dataset into training (70%), validation (20%), and test (10%) datasets and convert the datasets to the right format the algorithm expects. We will use training and validation datasets during training. Test dataset will be used to evaluate model performance after it is deployed to an endpoint.\n",
    "\n",
    "Amazon SageMaker's XGBoost algorithm expects data in the libSVM or CSV data format.  For this example, we'll stick to CSV.  Note that the first column must be the target variable and the CSV should not include headers.  Also, notice that although repetitive it's easiest to do this after the train|validation|test split rather than before.  This avoids any misalignment issues due to random reordering."
   ]
  },
  {
   "cell_type": "code",
   "execution_count": 15,
   "id": "f8019f62",
   "metadata": {},
   "outputs": [],
   "source": [
    "train_data, validation_data, test_data = np.split(encoded_df.sample(frac=1, random_state=1729), [int(0.7 * len(encoded_df)), int(0.9*len(encoded_df))])  "
   ]
  },
  {
   "cell_type": "code",
   "execution_count": 16,
   "id": "171754a7",
   "metadata": {},
   "outputs": [
    {
     "data": {
      "text/plain": [
       "(35000, 14)"
      ]
     },
     "execution_count": 16,
     "metadata": {},
     "output_type": "execute_result"
    }
   ],
   "source": [
    "train_data.shape"
   ]
  },
  {
   "cell_type": "code",
   "execution_count": 17,
   "id": "43280296",
   "metadata": {},
   "outputs": [
    {
     "data": {
      "text/plain": [
       "(10000, 14)"
      ]
     },
     "execution_count": 17,
     "metadata": {},
     "output_type": "execute_result"
    }
   ],
   "source": [
    "validation_data.shape"
   ]
  },
  {
   "cell_type": "code",
   "execution_count": 18,
   "id": "438a9ba4",
   "metadata": {},
   "outputs": [
    {
     "data": {
      "text/plain": [
       "(5000, 14)"
      ]
     },
     "execution_count": 18,
     "metadata": {},
     "output_type": "execute_result"
    }
   ],
   "source": [
    "test_data.shape"
   ]
  },
  {
   "cell_type": "code",
   "execution_count": 62,
   "id": "4542828e",
   "metadata": {},
   "outputs": [
    {
     "data": {
      "text/html": [
       "<div>\n",
       "<style scoped>\n",
       "    .dataframe tbody tr th:only-of-type {\n",
       "        vertical-align: middle;\n",
       "    }\n",
       "\n",
       "    .dataframe tbody tr th {\n",
       "        vertical-align: top;\n",
       "    }\n",
       "\n",
       "    .dataframe thead th {\n",
       "        text-align: right;\n",
       "    }\n",
       "</style>\n",
       "<table border=\"1\" class=\"dataframe\">\n",
       "  <thead>\n",
       "    <tr style=\"text-align: right;\">\n",
       "      <th></th>\n",
       "      <th>price</th>\n",
       "      <th>year</th>\n",
       "      <th>manufacturer</th>\n",
       "      <th>model</th>\n",
       "      <th>condition</th>\n",
       "      <th>cylinders</th>\n",
       "      <th>fuel</th>\n",
       "      <th>odometer</th>\n",
       "      <th>title_status</th>\n",
       "      <th>transmission</th>\n",
       "      <th>drive</th>\n",
       "      <th>type</th>\n",
       "      <th>paint_color</th>\n",
       "      <th>posting_date</th>\n",
       "    </tr>\n",
       "  </thead>\n",
       "  <tbody>\n",
       "    <tr>\n",
       "      <th>31377</th>\n",
       "      <td>15788</td>\n",
       "      <td>2012.0</td>\n",
       "      <td>23</td>\n",
       "      <td>4778</td>\n",
       "      <td>6</td>\n",
       "      <td>5</td>\n",
       "      <td>2</td>\n",
       "      <td>72612.0</td>\n",
       "      <td>0</td>\n",
       "      <td>0</td>\n",
       "      <td>2</td>\n",
       "      <td>9</td>\n",
       "      <td>8</td>\n",
       "      <td>35337</td>\n",
       "    </tr>\n",
       "  </tbody>\n",
       "</table>\n",
       "</div>"
      ],
      "text/plain": [
       "       price    year  manufacturer  model  condition  cylinders  fuel  \\\n",
       "31377  15788  2012.0            23   4778          6          5     2   \n",
       "\n",
       "       odometer  title_status  transmission  drive  type  paint_color  \\\n",
       "31377   72612.0             0             0      2     9            8   \n",
       "\n",
       "       posting_date  \n",
       "31377         35337  "
      ]
     },
     "execution_count": 62,
     "metadata": {},
     "output_type": "execute_result"
    }
   ],
   "source": [
    "test_data.head(1)"
   ]
  },
  {
   "cell_type": "markdown",
   "id": "ce6f701f",
   "metadata": {},
   "source": [
    "**Exporting data set to s3 bucket without header**"
   ]
  },
  {
   "cell_type": "code",
   "execution_count": 19,
   "id": "8b2e8fad",
   "metadata": {},
   "outputs": [],
   "source": [
    "train_data.to_csv('s3://ds-mlops-s3/preprocess-data/train/train.csv', index=False, header=False)\n",
    "validation_data.to_csv('s3://ds-mlops-s3/preprocess-data/validation/validation_data.csv', index=False, header=False)\n",
    "test_data.to_csv('s3://ds-mlops-s3/preprocess-data/test/test.csv', index=False, header=False)"
   ]
  },
  {
   "cell_type": "markdown",
   "id": "45db3271",
   "metadata": {},
   "source": [
    "## 2. Building model\n",
    "\n",
    "In this section we will decribe how we will build model with XGboost inbuilt model and here we will pass hyperparameter to train our model"
   ]
  },
  {
   "cell_type": "code",
   "execution_count": 20,
   "id": "a8ddd4eb",
   "metadata": {},
   "outputs": [
    {
     "name": "stderr",
     "output_type": "stream",
     "text": [
      "The method get_image_uri has been renamed in sagemaker>=2.\n",
      "See: https://sagemaker.readthedocs.io/en/stable/v2.html for details.\n"
     ]
    }
   ],
   "source": [
    "# Importing the required libraries\n",
    "import boto3\n",
    "import time\n",
    "from time import gmtime, strftime\n",
    "import sagemaker\n",
    "from sagemaker.amazon.amazon_estimator import get_image_uri\n",
    "import datetime\n",
    "from sagemaker.tuner import IntegerParameter, CategoricalParameter, ContinuousParameter, HyperparameterTuner\n",
    "from sagemaker.inputs import TrainingInput\n",
    "\n",
    "# hyper\n",
    "job_name = 'ds-mlops-xgboost' + str(datetime.datetime.now().timestamp()).split('.')[0]\n",
    "\n",
    "# sagemaker\n",
    "role = sagemaker.get_execution_role()\n",
    "region = boto3.Session().region_name\n",
    "\n",
    "#ec2\n",
    "Instance_Type = \"ml.m5.xlarge\"\n",
    "VolumeSizeIn_GB = 1\n",
    "Instance_Count = 1\n",
    "\n",
    "#setup container\n",
    "container = get_image_uri(region, \"xgboost\", \"1.2-1\")\n",
    "\n",
    "#s3\n",
    "bucket = \"ds-mlops-s3\"\n",
    "prefix = \"ds-mlops-s3/preprocess-data\"\n",
    "# \n",
    "#input\n",
    "data_bucket = bucket\n",
    "data_prefix = prefix\n",
    "data_bucket_path = f\"s3://{data_bucket}\"\n",
    "\n",
    "# S3 bucket for saving code and model artifacts.\n",
    "# output\n",
    "output_bucket = sagemaker.Session().default_bucket()\n",
    "output_prefix = 'ds-mlops-s3/output'\n",
    "output_bucket_path = f\"s3://{output_bucket}\"  "
   ]
  },
  {
   "cell_type": "markdown",
   "id": "550e87f4",
   "metadata": {},
   "source": [
    "---\n",
    "\n",
    "## Setup_Hyperparameter_Tuning \n",
    "*Note, with the default setting below, the hyperparameter tuning job can take about 30 minutes to complete.*\n",
    "\n",
    "\n",
    "Now that we have prepared the dataset, we are ready to train models. Before we do that, one thing to note is there are algorithm settings which are called \"hyperparameters\" that can dramtically affect the performance of the trained models. For example, XGBoost algorithm has dozens of hyperparameters and we need to pick the right values for those hyperparameters in order to achieve the desired model training results. Since which hyperparameter setting can lead to the best result depends on the dataset as well, it is almost impossible to pick the best hyperparameter setting without searching for it, and a good search algorithm can search for the best hyperparameter setting in an automated and effective way.\n",
    "\n",
    "We will use SageMaker hyperparameter tuning to automate the searching process effectively. Specifically, we specify a range, or a list of possible values in the case of categorical hyperparameters, for each of the hyperparameter that we plan to tune. SageMaker hyperparameter tuning will automatically launch multiple training jobs with different hyperparameter settings, evaluate results of those training jobs based on a predefined \"objective metric\", and select the hyperparameter settings for future attempts based on previous results. For each hyperparameter tuning job, we will give it a budget (max number of training jobs) and it will complete once that many training jobs have been executed.\n",
    "\n",
    "In this example, we are using SageMaker Python SDK to set up and manage the hyperparameter tuning job. We first configure the training jobs the hyperparameter tuning job will launch by initiating an estimator, which includes:\n",
    "* The container image for the algorithm (XGBoost)\n",
    "* Configuration for the output of the training jobs\n",
    "* The values of static algorithm hyperparameters, those that are not specified will be given default values\n",
    "* The type and number of instances to use for the training jobs"
   ]
  },
  {
   "cell_type": "code",
   "execution_count": 21,
   "id": "d02ec8a8",
   "metadata": {},
   "outputs": [],
   "source": [
    "#setup sagemaker SDK\n",
    "client = boto3.client(\"sagemaker\", region_name=region)"
   ]
  },
  {
   "cell_type": "code",
   "execution_count": 22,
   "id": "bd9e72a0",
   "metadata": {},
   "outputs": [],
   "source": [
    "sess = sagemaker.Session()\n",
    "xgb = sagemaker.estimator.Estimator(container,\n",
    "                                    role, \n",
    "                                    instance_count=1, \n",
    "                                    instance_type='ml.m5.xlarge',\n",
    "                                    output_path='{}/{}'.format(data_bucket_path, 'output/'),\n",
    "                                    sagemaker_session=sess)\n",
    "\n",
    "xgb.set_hyperparameters(eval_metric='rmse',\n",
    "                        objective='reg:squarederror',\n",
    "                        num_round=100,\n",
    "                        rate_drop=0.3,\n",
    "                        tweedie_variance_power=1.4)"
   ]
  },
  {
   "cell_type": "markdown",
   "id": "d3a07f00",
   "metadata": {},
   "source": [
    "We will tune four hyperparameters in this examples:\n",
    "* *eta*: Step size shrinkage used in updates to prevent overfitting. After each boosting step, you can directly get the weights of new features. The eta parameter actually shrinks the feature weights to make the boosting process more conservative. \n",
    "* *alpha*: L1 regularization term on weights. Increasing this value makes models more conservative. \n",
    "* *min_child_weight*: Minimum sum of instance weight (hessian) needed in a child. If the tree partition step results in a leaf node with the sum of instance weight less than min_child_weight, the building process gives up further partitioning. In linear regression models, this simply corresponds to a minimum number of instances needed in each node. The larger the algorithm, the more conservative it is. \n",
    "* *max_depth*: Maximum depth of a tree. Increasing this value makes the model more complex and likely to be overfitted. "
   ]
  },
  {
   "cell_type": "code",
   "execution_count": 23,
   "id": "b90d2c19",
   "metadata": {},
   "outputs": [],
   "source": [
    "hyperparameter_ranges = {'max_depth': IntegerParameter(4, 8)}\n",
    "\n",
    "# Tunable parameters: colsample_bytree, lambda, eta, max_depth, alpha, colsample_bynode, num_round, colsample_bylevel, subsample, min_child_weight, max_delta_step, gamma\n",
    "\n",
    "# hyperparameter_ranges = {'eta': ContinuousParameter(0.1, 1),\n",
    "#                        'min_child_weight': ContinuousParameter(5, 20),\n",
    "#                        'alpha': ContinuousParameter(0.1, 1),\n",
    "#                        'max_depth': IntegerParameter(5, 8),\n",
    "#                        'gamma':IntegerParameter(2, 4)}\n",
    "\n",
    "# grid = {'n_estimators': [50, 150], \n",
    "#         'learning_rate': [0.01, 0.1],\n",
    "#         'max_depth': [4, 7],\n",
    "#         'reg_lambda': [0.5]}"
   ]
  },
  {
   "cell_type": "markdown",
   "id": "c870b61a",
   "metadata": {},
   "source": [
    "Next we'll specify the objective metric that we'd like to tune and its definition, which includes the regular expression (Regex) needed to extract that metric from the CloudWatch logs of the training job. Since we are using built-in XGBoost algorithm here, it emits two predefined metrics: *validation:auc* and *train:auc*, and we elected to monitor *validation:auc* as you can see below. In this case, we only need to specify the metric name and do not need to provide regex. If you bring your own algorithm, your algorithm emits metrics by itself. In that case, you'll need to add a MetricDefinition object here to define the format of those metrics through regex, so that SageMaker knows how to extract those metrics from your CloudWatch logs."
   ]
  },
  {
   "cell_type": "code",
   "execution_count": 24,
   "id": "65857a4a",
   "metadata": {},
   "outputs": [],
   "source": [
    "objective_metric_name = 'validation:accuracy'"
   ]
  },
  {
   "cell_type": "markdown",
   "id": "db221b8f",
   "metadata": {},
   "source": [
    "Now, we'll create a `HyperparameterTuner` object, to which we pass:\n",
    "- The XGBoost estimator we created above\n",
    "- Our hyperparameter ranges\n",
    "- Objective metric name and definition\n",
    "- Tuning resource configurations such as Number of training jobs to run in total and how many training jobs can be run in parallel."
   ]
  },
  {
   "cell_type": "code",
   "execution_count": 25,
   "id": "453b0bee",
   "metadata": {},
   "outputs": [],
   "source": [
    "tuner = HyperparameterTuner(xgb,\n",
    "                            objective_metric_name,\n",
    "                            hyperparameter_ranges,\n",
    "                            max_jobs=5,\n",
    "                            max_parallel_jobs=1)"
   ]
  },
  {
   "cell_type": "markdown",
   "id": "9e764ae6",
   "metadata": {},
   "source": [
    "## Launch_Hyperparameter_Tuning\n",
    "Now we can launch a hyperparameter tuning job by calling *fit()* function. After the hyperparameter tuning job is created, we can go to SageMaker console to track the progress of the hyperparameter tuning job until it is completed."
   ]
  },
  {
   "cell_type": "code",
   "execution_count": 26,
   "id": "0e7ec385",
   "metadata": {},
   "outputs": [
    {
     "name": "stdout",
     "output_type": "stream",
     "text": [
      "...............................................................................................................................................................................................................................................!\n"
     ]
    }
   ],
   "source": [
    "s3_input_train = TrainingInput(s3_data='{}/preprocess-data/train/train.csv'.format(data_bucket_path, data_prefix), content_type='csv')\n",
    "s3_input_validation = TrainingInput(s3_data='{}/preprocess-data/validation/validation_data.csv'.format(data_bucket_path, data_prefix), content_type='csv')\n",
    "\n",
    "tuner.fit({'train': s3_input_train, 'validation': s3_input_validation}, include_cls_metadata=False)"
   ]
  },
  {
   "cell_type": "markdown",
   "id": "31939d01",
   "metadata": {},
   "source": [
    "Let's just run a quick check of the hyperparameter tuning jobs status to make sure it started successfully."
   ]
  },
  {
   "cell_type": "code",
   "execution_count": 27,
   "id": "9694d998",
   "metadata": {},
   "outputs": [
    {
     "data": {
      "text/plain": [
       "'Completed'"
      ]
     },
     "execution_count": 27,
     "metadata": {},
     "output_type": "execute_result"
    }
   ],
   "source": [
    "boto3.client('sagemaker').describe_hyper_parameter_tuning_job(\n",
    "    HyperParameterTuningJobName=tuner.latest_tuning_job.job_name)['HyperParameterTuningJobStatus']"
   ]
  },
  {
   "cell_type": "code",
   "execution_count": 28,
   "id": "a6760e26",
   "metadata": {},
   "outputs": [],
   "source": [
    "tuning_job_name = tuner.latest_tuning_job.job_name # Get name of hpo job"
   ]
  },
  {
   "cell_type": "markdown",
   "id": "edcc6e20",
   "metadata": {},
   "source": [
    "# Analyze Results of a Hyperparameter Tuning job\n",
    "\n",
    "Once you have completed a tuning job, (or even while the job is still running) you can use this notebook to analyze the results to understand how each hyperparameter effects the quality of the model.\n"
   ]
  },
  {
   "cell_type": "markdown",
   "id": "368bcb85",
   "metadata": {},
   "source": [
    "## Track hyperparameter tuning job progress and print best result\n",
    "After you launch a tuning job, you can see its progress by calling describe_tuning_job API. The output from describe-tuning-job is a JSON object that contains information about the current state of the tuning job. You can call list_training_jobs_for_tuning_job to see a detailed list of the training jobs that the tuning job launched."
   ]
  },
  {
   "cell_type": "code",
   "execution_count": 29,
   "id": "9a9c80e3",
   "metadata": {},
   "outputs": [
    {
     "name": "stdout",
     "output_type": "stream",
     "text": [
      "5 training jobs have completed\n",
      "Best performing hyper parameters : {'max_depth': '7'}\n",
      "Result :  {'MetricName': 'validation:accuracy', 'Value': 0.007499999832361937}\n"
     ]
    }
   ],
   "source": [
    "# run this cell to check current status of hyperparameter tuning job\n",
    "region = boto3.Session().region_name\n",
    "sage_client = boto3.Session().client('sagemaker')\n",
    "tuning_job_result = sage_client.describe_hyper_parameter_tuning_job(HyperParameterTuningJobName=tuning_job_name)\n",
    "\n",
    "\n",
    "status = tuning_job_result['HyperParameterTuningJobStatus']\n",
    "if status != 'Completed':\n",
    "    print('Reminder: the tuning job has not been completed.')\n",
    "    \n",
    "job_count = tuning_job_result['TrainingJobStatusCounters']['Completed']\n",
    "print(\"%d training jobs have completed\" % job_count)\n",
    "\n",
    "best_hyper_parameter = tuning_job_result['BestTrainingJob']['TunedHyperParameters']\n",
    "print(\"Best performing hyper parameters :\",best_hyper_parameter)\n",
    "\n",
    "result = tuning_job_result['BestTrainingJob']['FinalHyperParameterTuningJobObjectiveMetric']\n",
    "print(\"Result : \",result)"
   ]
  },
  {
   "cell_type": "code",
   "execution_count": 30,
   "id": "3b8e9d24",
   "metadata": {},
   "outputs": [
    {
     "name": "stdout",
     "output_type": "stream",
     "text": [
      "Stored 'best_hyper_parameter' (dict)\n"
     ]
    }
   ],
   "source": [
    "%store best_hyper_parameter"
   ]
  },
  {
   "cell_type": "markdown",
   "id": "f37abdfe",
   "metadata": {},
   "source": [
    "**Creating model for XGBoost by passing hyper parameter**\n",
    "\n",
    "Once we have tunned parameter we will generate our model for scoring activities on sagemaker"
   ]
  },
  {
   "cell_type": "code",
   "execution_count": 31,
   "id": "2b1c999b",
   "metadata": {},
   "outputs": [
    {
     "data": {
      "text/plain": [
       "({'s3://sagemaker-us-east-1-014257795134'}, {'ds-mlops-s3/output'})"
      ]
     },
     "execution_count": 31,
     "metadata": {},
     "output_type": "execute_result"
    }
   ],
   "source": [
    "{output_bucket_path},{output_prefix}"
   ]
  },
  {
   "cell_type": "code",
   "execution_count": 32,
   "id": "df6e4e7e",
   "metadata": {},
   "outputs": [
    {
     "name": "stdout",
     "output_type": "stream",
     "text": [
      "Training job ds-mlops-xgboost1625839453\n",
      "InProgress\n",
      "InProgress\n",
      "InProgress\n",
      "InProgress\n",
      "Completed\n",
      "CPU times: user 96 ms, sys: 606 µs, total: 96.6 ms\n",
      "Wall time: 4min 1s\n"
     ]
    }
   ],
   "source": [
    "%%time\n",
    "\n",
    "print(\"Training job\", job_name)\n",
    "\n",
    "# Ensure that the training and validation data folders generated above are reflected in the \"InputDataConfig\" parameter below.\n",
    "create_training_params = {\n",
    "    \"AlgorithmSpecification\": {\"TrainingImage\": container, \"TrainingInputMode\": \"File\"},\n",
    "    \"RoleArn\": role,\n",
    "    \"OutputDataConfig\": {\"S3OutputPath\": f\"{output_bucket_path}/{output_prefix}/output\"},\n",
    "    \"ResourceConfig\": {\"InstanceCount\": Instance_Count, \"InstanceType\": Instance_Type, \"VolumeSizeInGB\": VolumeSizeIn_GB},\n",
    "    \"TrainingJobName\": job_name,\n",
    "    \"HyperParameters\": {\n",
    "        \"max_depth\": \"7\",\n",
    "        \"alpha\": \"0.2361716532175895\",\n",
    "        \"gamma\": \"5\",\n",
    "        \"min_child_weight\": \"10\",\n",
    "        \"eta\": \"0.6965651174349499\",\n",
    "        \"objective\": \"reg:squarederror\",\n",
    "        \"num_round\":\"100\"\n",
    "    },\n",
    "    \"StoppingCondition\": {\"MaxRuntimeInSeconds\": 3600},\n",
    "    \"InputDataConfig\": [\n",
    "        {\n",
    "            \"ChannelName\": \"train\",\n",
    "            \"DataSource\": {\n",
    "                \"S3DataSource\": {\n",
    "                    \"S3DataType\": \"S3Prefix\",\n",
    "                    \"S3Uri\": f\"s3://ds-mlops-s3/preprocess-data/train/train.csv\",\n",
    "                    \"S3DataDistributionType\": \"FullyReplicated\",\n",
    "                }\n",
    "            },\n",
    "            \"ContentType\": \"csv\",\n",
    "            \"CompressionType\": \"None\",\n",
    "        },\n",
    "        {\n",
    "            \"ChannelName\": \"validation\",\n",
    "            \"DataSource\": {\n",
    "                \"S3DataSource\": {\n",
    "                    \"S3DataType\": \"S3Prefix\",\n",
    "                    \"S3Uri\": f\"s3://ds-mlops-s3/preprocess-data/validation/validation_data.csv\",\n",
    "                    \"S3DataDistributionType\": \"FullyReplicated\",\n",
    "                }\n",
    "            },\n",
    "            \"ContentType\": \"csv\",\n",
    "            \"CompressionType\": \"None\",\n",
    "        },\n",
    "    ],\n",
    "}\n",
    "\n",
    "client.create_training_job(**create_training_params)\n",
    "\n",
    "#track execution\n",
    "status = client.describe_training_job(TrainingJobName=job_name)[\"TrainingJobStatus\"]\n",
    "print(status)\n",
    "while status != \"Completed\" and status != \"Failed\":\n",
    "    time.sleep(60)\n",
    "    status = client.describe_training_job(TrainingJobName=job_name)[\"TrainingJobStatus\"]\n",
    "    print(status)"
   ]
  },
  {
   "cell_type": "code",
   "execution_count": 33,
   "id": "baddef08",
   "metadata": {},
   "outputs": [
    {
     "name": "stdout",
     "output_type": "stream",
     "text": [
      "Completed\n"
     ]
    }
   ],
   "source": [
    "# checking training job status after creating training job\n",
    "status = client.describe_training_job(TrainingJobName=job_name)[\"TrainingJobStatus\"]\n",
    "print(status)"
   ]
  },
  {
   "cell_type": "code",
   "execution_count": 34,
   "id": "1043d8e1",
   "metadata": {},
   "outputs": [
    {
     "name": "stdout",
     "output_type": "stream",
     "text": [
      "model path: >> s3://sagemaker-us-east-1-014257795134/ds-mlops-s3/output/output\n"
     ]
    }
   ],
   "source": [
    "# printing model output location\n",
    "print(f\"model path: >> {output_bucket_path}/{output_prefix}/output\")"
   ]
  },
  {
   "cell_type": "code",
   "execution_count": 35,
   "id": "3b1e114b",
   "metadata": {},
   "outputs": [
    {
     "name": "stdout",
     "output_type": "stream",
     "text": [
      "[{'MetricName': 'train:rmse', 'Value': 150169.3125, 'Timestamp': datetime.datetime(2021, 7, 9, 14, 34, 44, tzinfo=tzlocal())}, {'MetricName': 'validation:rmse', 'Value': 2711492.75, 'Timestamp': datetime.datetime(2021, 7, 9, 14, 34, 44, tzinfo=tzlocal())}]\n"
     ]
    }
   ],
   "source": [
    "# printing the training metrics you can tune and generate model as per need\n",
    "metrics = client.describe_training_job(TrainingJobName=job_name)[\"FinalMetricDataList\"]\n",
    "print(metrics)"
   ]
  },
  {
   "cell_type": "code",
   "execution_count": 36,
   "id": "dc907143",
   "metadata": {},
   "outputs": [
    {
     "name": "stdout",
     "output_type": "stream",
     "text": [
      "ds-mlops-xgboost1625839453\n"
     ]
    }
   ],
   "source": [
    "# finding job name \n",
    "print(job_name)"
   ]
  },
  {
   "cell_type": "markdown",
   "id": "dcd0f675",
   "metadata": {},
   "source": [
    "**Note:** you will need folowing values in next section\n",
    "- hyperparameter\n",
    "- training job name"
   ]
  },
  {
   "cell_type": "markdown",
   "id": "a5b52d40",
   "metadata": {},
   "source": [
    "## 3. Generate model on Sagemaker"
   ]
  },
  {
   "cell_type": "markdown",
   "id": "6db261de",
   "metadata": {},
   "source": [
    "In section we will describe how we can create a model with our training jobs"
   ]
  },
  {
   "cell_type": "code",
   "execution_count": 37,
   "id": "b81d22bc",
   "metadata": {},
   "outputs": [],
   "source": [
    "import sys\n",
    "import math\n",
    "import boto3\n",
    "import sagemaker\n",
    "from sagemaker.amazon.amazon_estimator import get_image_uri\n",
    "from time import gmtime, strftime\n",
    "\n",
    "model_name = 'ds-mlops-xgboost' # It need to be unique across the account\n",
    "\n",
    "role = sagemaker.get_execution_role()\n",
    "region = boto3.Session().region_name\n",
    "runtime_client = boto3.client(\"runtime.sagemaker\", \n",
    "                              region_name=region)\n",
    "client = boto3.client(\"sagemaker\", \n",
    "                      region_name=region)"
   ]
  },
  {
   "cell_type": "markdown",
   "id": "96920a20",
   "metadata": {},
   "source": [
    "Check if model with same name exists or not. If it exist then delete it."
   ]
  },
  {
   "cell_type": "code",
   "execution_count": 38,
   "id": "01a4f526",
   "metadata": {},
   "outputs": [],
   "source": [
    "client = boto3.client('sagemaker') # getting sagemaker client \n",
    "try:\n",
    "    client.delete_model(\n",
    "        ModelName='ds-mlops-xgboost' # delete if some model exist with this name\n",
    "    )\n",
    "except:\n",
    "    pass"
   ]
  },
  {
   "cell_type": "code",
   "execution_count": 39,
   "id": "ec95d2a9",
   "metadata": {},
   "outputs": [
    {
     "name": "stderr",
     "output_type": "stream",
     "text": [
      "The method get_image_uri has been renamed in sagemaker>=2.\n",
      "See: https://sagemaker.readthedocs.io/en/stable/v2.html for details.\n"
     ]
    }
   ],
   "source": [
    "container = get_image_uri(region, \"xgboost\", \"1.2-1\") # getting container image"
   ]
  },
  {
   "cell_type": "markdown",
   "id": "533e07af",
   "metadata": {},
   "source": [
    "**Register model**\n"
   ]
  },
  {
   "cell_type": "code",
   "execution_count": 40,
   "id": "52cf6ddd",
   "metadata": {},
   "outputs": [
    {
     "name": "stdout",
     "output_type": "stream",
     "text": [
      "ds-mlops-xgboost\n",
      "s3://sagemaker-us-east-1-014257795134/ds-mlops-s3/output/output/ds-mlops-xgboost1625839453/output/model.tar.gz\n",
      "arn:aws:sagemaker:us-east-1:014257795134:model/ds-mlops-xgboost\n"
     ]
    }
   ],
   "source": [
    "# Here we are registering our model\n",
    "print(model_name) \n",
    "info = client.describe_training_job(TrainingJobName=job_name)\n",
    "model_data = info[\"ModelArtifacts\"][\"S3ModelArtifacts\"]\n",
    "print(model_data)\n",
    "primary_container = {\"Image\": container, \"ModelDataUrl\": model_data}\n",
    "create_model_response = client.create_model(\n",
    "    ModelName=model_name, ExecutionRoleArn=role, PrimaryContainer=primary_container\n",
    ")\n",
    "print(create_model_response[\"ModelArn\"]) # printing model ARN which is cretaed"
   ]
  },
  {
   "cell_type": "markdown",
   "id": "56d3258b",
   "metadata": {},
   "source": [
    "**Note :** \n",
    "- We will need this model ARN for generating endpoint \n",
    "- Also model name need to be unique in an aws account\n",
    "- In case if we need to regenerate model we have to delete existing model"
   ]
  },
  {
   "cell_type": "markdown",
   "id": "f274b60b",
   "metadata": {},
   "source": [
    "## 4. Create endpoint config\n",
    "In this section we will describe how we can create a model endpoint."
   ]
  },
  {
   "cell_type": "markdown",
   "id": "4ef2d93f",
   "metadata": {},
   "source": [
    "For generating sagemaker end point we will need to generate endpoint config. So generating endpoint config first"
   ]
  },
  {
   "cell_type": "code",
   "execution_count": 56,
   "id": "6498e577",
   "metadata": {},
   "outputs": [],
   "source": [
    "import sys\n",
    "import math\n",
    "import boto3\n",
    "import sagemaker\n",
    "from time import gmtime, strftime\n",
    "\n",
    "endpoint_config_name = 'ds-mlops-xgboost-endpoint-config'\n",
    "\n",
    "role = sagemaker.get_execution_role()\n",
    "region = boto3.Session().region_name\n",
    "runtime_client = boto3.client(\"runtime.sagemaker\", region_name=region)\n",
    "client = boto3.client(\"sagemaker\", region_name=region)"
   ]
  },
  {
   "cell_type": "code",
   "execution_count": 57,
   "id": "5b3414b1",
   "metadata": {},
   "outputs": [],
   "source": [
    "# Instance config for endpoint\n",
    "Instance_Type = \"ml.m5.xlarge\"\n",
    "VolumeSizeIn_GB = 20\n",
    "Instance_Count = 1"
   ]
  },
  {
   "cell_type": "code",
   "execution_count": 58,
   "id": "22e97ba6",
   "metadata": {},
   "outputs": [
    {
     "name": "stdout",
     "output_type": "stream",
     "text": [
      "ds-mlops-xgboost-endpoint-config\n",
      "Endpoint Config Arn: arn:aws:sagemaker:us-east-1:014257795134:endpoint-config/ds-mlops-xgboost-endpoint-config\n"
     ]
    }
   ],
   "source": [
    "# Creating endpoint config\n",
    "print(endpoint_config_name)\n",
    "create_endpoint_config_response = client.create_endpoint_config(\n",
    "    EndpointConfigName=endpoint_config_name,\n",
    "    ProductionVariants=[\n",
    "        {\n",
    "            \"InstanceType\": Instance_Type,\n",
    "            \"InitialVariantWeight\": 1,\n",
    "            \"InitialInstanceCount\": 1,\n",
    "            \"ModelName\": model_name,\n",
    "            \"VariantName\": \"AllTraffic\",\n",
    "        }\n",
    "    ],\n",
    "    DataCaptureConfig={\n",
    "        'EnableCapture': True,\n",
    "        'InitialSamplingPercentage': 100,\n",
    "        'DestinationS3Uri': 's3://ds-mlops-s3/data/capture',\n",
    "        'CaptureOptions': [\n",
    "            {\n",
    "                'CaptureMode': 'Input'\n",
    "            },\n",
    "             {\n",
    "                'CaptureMode': 'Output'\n",
    "            },\n",
    "        ],\n",
    "        'CaptureContentTypeHeader': {\n",
    "            'CsvContentTypes': [\n",
    "                'text/csv',\n",
    "            ],\n",
    "            'JsonContentTypes': [\n",
    "                'application/json',\n",
    "            ]\n",
    "        }        \n",
    "    }\n",
    ")\n",
    "\n",
    "print(f\"Endpoint Config Arn: {create_endpoint_config_response['EndpointConfigArn']}\")"
   ]
  },
  {
   "cell_type": "markdown",
   "id": "03d81ac8",
   "metadata": {},
   "source": [
    "**Note :** We will use able endpoint config name to cretae model endpoint"
   ]
  },
  {
   "cell_type": "markdown",
   "id": "a8278fcb",
   "metadata": {},
   "source": [
    "## 5. Delete endpoint config"
   ]
  },
  {
   "cell_type": "markdown",
   "id": "7a9f800b",
   "metadata": {},
   "source": [
    "Incase if you want to delete endpoint config and recreate it we can use below code snippet"
   ]
  },
  {
   "cell_type": "code",
   "execution_count": 52,
   "id": "21e9a5fc",
   "metadata": {},
   "outputs": [],
   "source": [
    "import sys\n",
    "import math\n",
    "import boto3\n",
    "import sagemaker\n",
    "from time import gmtime, strftime\n",
    "\n",
    "role = sagemaker.get_execution_role()\n",
    "region = boto3.Session().region_name\n",
    "runtime_client = boto3.client(\"runtime.sagemaker\", region_name=region)\n",
    "client = boto3.client(\"sagemaker\", region_name=region)"
   ]
  },
  {
   "cell_type": "code",
   "execution_count": 53,
   "id": "917e2a2a",
   "metadata": {},
   "outputs": [],
   "source": [
    "response = client.delete_endpoint_config(\n",
    "    EndpointConfigName=endpoint_config_name\n",
    ")"
   ]
  },
  {
   "cell_type": "markdown",
   "id": "605ed6fc",
   "metadata": {},
   "source": [
    "## 6.Create Endpoint"
   ]
  },
  {
   "cell_type": "markdown",
   "id": "be7a9906",
   "metadata": {},
   "source": [
    "In this notebook we create endpoint using endpoint which we have created"
   ]
  },
  {
   "cell_type": "code",
   "execution_count": 59,
   "id": "5d64022d",
   "metadata": {},
   "outputs": [],
   "source": [
    "# Importing required library\n",
    "import sys\n",
    "import math\n",
    "import boto3\n",
    "import sagemaker\n",
    "import time    \n",
    "\n",
    "role = sagemaker.get_execution_role()\n",
    "region = boto3.Session().region_name\n",
    "runtime_client = boto3.client(\"runtime.sagemaker\", region_name=region)\n",
    "client = boto3.client(\"sagemaker\", region_name=region)\n",
    "endpoint_name = 'ds-mlops-xgboost-endpoint' # name of model endpoint"
   ]
  },
  {
   "cell_type": "code",
   "execution_count": 60,
   "id": "f3d91ef6",
   "metadata": {
    "scrolled": true
   },
   "outputs": [
    {
     "name": "stdout",
     "output_type": "stream",
     "text": [
      "ds-mlops-xgboost-endpoint\n"
     ]
    },
    {
     "ename": "ClientError",
     "evalue": "An error occurred (ValidationException) when calling the CreateEndpoint operation: Cannot create already existing endpoint \"arn:aws:sagemaker:us-east-1:014257795134:endpoint/ds-mlops-xgboost-endpoint\".",
     "output_type": "error",
     "traceback": [
      "\u001b[0;31m---------------------------------------------------------------------------\u001b[0m",
      "\u001b[0;31mClientError\u001b[0m                               Traceback (most recent call last)",
      "\u001b[0;32m<ipython-input-60-52cfbf0a7550>\u001b[0m in \u001b[0;36m<module>\u001b[0;34m\u001b[0m\n\u001b[1;32m      2\u001b[0m \u001b[0mprint\u001b[0m\u001b[0;34m(\u001b[0m\u001b[0mendpoint_name\u001b[0m\u001b[0;34m)\u001b[0m\u001b[0;34m\u001b[0m\u001b[0;34m\u001b[0m\u001b[0m\n\u001b[1;32m      3\u001b[0m create_endpoint_response = client.create_endpoint(\n\u001b[0;32m----> 4\u001b[0;31m     \u001b[0mEndpointName\u001b[0m\u001b[0;34m=\u001b[0m\u001b[0mendpoint_name\u001b[0m\u001b[0;34m,\u001b[0m \u001b[0mEndpointConfigName\u001b[0m\u001b[0;34m=\u001b[0m\u001b[0mendpoint_config_name\u001b[0m\u001b[0;34m\u001b[0m\u001b[0;34m\u001b[0m\u001b[0m\n\u001b[0m\u001b[1;32m      5\u001b[0m )\n\u001b[1;32m      6\u001b[0m \u001b[0mprint\u001b[0m\u001b[0;34m(\u001b[0m\u001b[0mcreate_endpoint_response\u001b[0m\u001b[0;34m[\u001b[0m\u001b[0;34m\"EndpointArn\"\u001b[0m\u001b[0;34m]\u001b[0m\u001b[0;34m)\u001b[0m\u001b[0;34m\u001b[0m\u001b[0;34m\u001b[0m\u001b[0m\n",
      "\u001b[0;32m~/anaconda3/envs/python3/lib/python3.6/site-packages/botocore/client.py\u001b[0m in \u001b[0;36m_api_call\u001b[0;34m(self, *args, **kwargs)\u001b[0m\n\u001b[1;32m    384\u001b[0m                     \"%s() only accepts keyword arguments.\" % py_operation_name)\n\u001b[1;32m    385\u001b[0m             \u001b[0;31m# The \"self\" in this scope is referring to the BaseClient.\u001b[0m\u001b[0;34m\u001b[0m\u001b[0;34m\u001b[0m\u001b[0;34m\u001b[0m\u001b[0m\n\u001b[0;32m--> 386\u001b[0;31m             \u001b[0;32mreturn\u001b[0m \u001b[0mself\u001b[0m\u001b[0;34m.\u001b[0m\u001b[0m_make_api_call\u001b[0m\u001b[0;34m(\u001b[0m\u001b[0moperation_name\u001b[0m\u001b[0;34m,\u001b[0m \u001b[0mkwargs\u001b[0m\u001b[0;34m)\u001b[0m\u001b[0;34m\u001b[0m\u001b[0;34m\u001b[0m\u001b[0m\n\u001b[0m\u001b[1;32m    387\u001b[0m \u001b[0;34m\u001b[0m\u001b[0m\n\u001b[1;32m    388\u001b[0m         \u001b[0m_api_call\u001b[0m\u001b[0;34m.\u001b[0m\u001b[0m__name__\u001b[0m \u001b[0;34m=\u001b[0m \u001b[0mstr\u001b[0m\u001b[0;34m(\u001b[0m\u001b[0mpy_operation_name\u001b[0m\u001b[0;34m)\u001b[0m\u001b[0;34m\u001b[0m\u001b[0;34m\u001b[0m\u001b[0m\n",
      "\u001b[0;32m~/anaconda3/envs/python3/lib/python3.6/site-packages/botocore/client.py\u001b[0m in \u001b[0;36m_make_api_call\u001b[0;34m(self, operation_name, api_params)\u001b[0m\n\u001b[1;32m    703\u001b[0m             \u001b[0merror_code\u001b[0m \u001b[0;34m=\u001b[0m \u001b[0mparsed_response\u001b[0m\u001b[0;34m.\u001b[0m\u001b[0mget\u001b[0m\u001b[0;34m(\u001b[0m\u001b[0;34m\"Error\"\u001b[0m\u001b[0;34m,\u001b[0m \u001b[0;34m{\u001b[0m\u001b[0;34m}\u001b[0m\u001b[0;34m)\u001b[0m\u001b[0;34m.\u001b[0m\u001b[0mget\u001b[0m\u001b[0;34m(\u001b[0m\u001b[0;34m\"Code\"\u001b[0m\u001b[0;34m)\u001b[0m\u001b[0;34m\u001b[0m\u001b[0;34m\u001b[0m\u001b[0m\n\u001b[1;32m    704\u001b[0m             \u001b[0merror_class\u001b[0m \u001b[0;34m=\u001b[0m \u001b[0mself\u001b[0m\u001b[0;34m.\u001b[0m\u001b[0mexceptions\u001b[0m\u001b[0;34m.\u001b[0m\u001b[0mfrom_code\u001b[0m\u001b[0;34m(\u001b[0m\u001b[0merror_code\u001b[0m\u001b[0;34m)\u001b[0m\u001b[0;34m\u001b[0m\u001b[0;34m\u001b[0m\u001b[0m\n\u001b[0;32m--> 705\u001b[0;31m             \u001b[0;32mraise\u001b[0m \u001b[0merror_class\u001b[0m\u001b[0;34m(\u001b[0m\u001b[0mparsed_response\u001b[0m\u001b[0;34m,\u001b[0m \u001b[0moperation_name\u001b[0m\u001b[0;34m)\u001b[0m\u001b[0;34m\u001b[0m\u001b[0;34m\u001b[0m\u001b[0m\n\u001b[0m\u001b[1;32m    706\u001b[0m         \u001b[0;32melse\u001b[0m\u001b[0;34m:\u001b[0m\u001b[0;34m\u001b[0m\u001b[0;34m\u001b[0m\u001b[0m\n\u001b[1;32m    707\u001b[0m             \u001b[0;32mreturn\u001b[0m \u001b[0mparsed_response\u001b[0m\u001b[0;34m\u001b[0m\u001b[0;34m\u001b[0m\u001b[0m\n",
      "\u001b[0;31mClientError\u001b[0m: An error occurred (ValidationException) when calling the CreateEndpoint operation: Cannot create already existing endpoint \"arn:aws:sagemaker:us-east-1:014257795134:endpoint/ds-mlops-xgboost-endpoint\"."
     ]
    }
   ],
   "source": [
    "# Creating model endpoint\n",
    "print(endpoint_name)\n",
    "create_endpoint_response = client.create_endpoint(\n",
    "    EndpointName=endpoint_name, EndpointConfigName=endpoint_config_name\n",
    ")\n",
    "print(create_endpoint_response[\"EndpointArn\"])\n",
    "\n",
    "resp = client.describe_endpoint(EndpointName=endpoint_name)\n",
    "status = resp[\"EndpointStatus\"]\n",
    "while status == \"Creating\":\n",
    "    print(f\"Status: {status}\")\n",
    "    time.sleep(60)\n",
    "    resp = client.describe_endpoint(EndpointName=endpoint_name)\n",
    "    status = resp[\"EndpointStatus\"]\n",
    "\n",
    "print(f\"Arn: {resp['EndpointArn']}\")\n",
    "print(f\"Status: {status}\")"
   ]
  },
  {
   "cell_type": "markdown",
   "id": "2943b6b9",
   "metadata": {},
   "source": [
    "## 7. Validate scoring\n",
    "\n",
    "In this section we will validate scoring logics. In below code snippet we are scoring with 14 predictor values and finding the result"
   ]
  },
  {
   "cell_type": "code",
   "execution_count": 64,
   "id": "cdfdde03",
   "metadata": {},
   "outputs": [
    {
     "data": {
      "text/plain": [
       "3045643.5"
      ]
     },
     "execution_count": 64,
     "metadata": {},
     "output_type": "execute_result"
    }
   ],
   "source": [
    "import boto3\n",
    "import json\n",
    "\n",
    "client = boto3.client('sagemaker-runtime')\n",
    "#test_vector = [2014.0,18,27213,0,3,2,93600.0,0,0,1,9,12,377876]\n",
    "#test_vector = [2015.0,18,27213,0,3,2,93600.0,0,0,1,9,12,3000000]\n",
    "#test_vector = [2017.0,18,57213,0,3,2,93600.0,0,0,1,9,12,377876]\n",
    "\n",
    "test_vector = [2012.0,23,4778,6,5,2,72612.0,0,0,2,9,8,35337]\n",
    "\n",
    "body = ','.join([str(item) for item in test_vector])\n",
    "response = client.invoke_endpoint(EndpointName=endpoint_name,\n",
    "                               ContentType='csv',\n",
    "                               Body=body)\n",
    "float(response[\"Body\"].read())"
   ]
  },
  {
   "cell_type": "markdown",
   "id": "1c50b1aa",
   "metadata": {},
   "source": [
    "**Note:** Similarly you can change the test vector and can see how endpoint is working"
   ]
  },
  {
   "cell_type": "markdown",
   "id": "5021173f",
   "metadata": {},
   "source": [
    "**References** <br/>\n",
    "- How to configure preprocessing jobs on step function (https://docs.aws.amazon.com/sagemaker/latest/APIReference/API_CreateProcessingJob.html)\n",
    "- How to create batch transform jobs\n",
    "(https://docs.aws.amazon.com/sagemaker/latest/APIReference/API_CreateTransformJob.html)\n",
    "- Create training jobs\n",
    "(https://docs.aws.amazon.com/sagemaker/latest/APIReference/API_CreateTrainingJob.html)\n",
    "- In case if team wants to bring any sagemaker component\n",
    "(https://docs.aws.amazon.com/step-functions/latest/dg/connect-sagemaker.html)\n",
    "- How to create lambda using state function\n",
    "(https://docs.aws.amazon.com/step-functions/latest/dg/tutorial-creating-lambda-state-machine.html)"
   ]
  },
  {
   "cell_type": "code",
   "execution_count": 65,
   "id": "d3421ef3",
   "metadata": {},
   "outputs": [
    {
     "data": {
      "text/plain": [
       "'1.17.97'"
      ]
     },
     "execution_count": 65,
     "metadata": {},
     "output_type": "execute_result"
    }
   ],
   "source": [
    "boto3.__version__"
   ]
  },
  {
   "cell_type": "code",
   "execution_count": null,
   "id": "6f6b9b7b",
   "metadata": {},
   "outputs": [],
   "source": []
  },
  {
   "cell_type": "code",
   "execution_count": null,
   "id": "7aedd303",
   "metadata": {},
   "outputs": [],
   "source": []
  }
 ],
 "metadata": {
  "kernelspec": {
   "display_name": "conda_python3",
   "language": "python",
   "name": "conda_python3"
  },
  "language_info": {
   "codemirror_mode": {
    "name": "ipython",
    "version": 3
   },
   "file_extension": ".py",
   "mimetype": "text/x-python",
   "name": "python",
   "nbconvert_exporter": "python",
   "pygments_lexer": "ipython3",
   "version": "3.6.13"
  }
 },
 "nbformat": 4,
 "nbformat_minor": 5
}
