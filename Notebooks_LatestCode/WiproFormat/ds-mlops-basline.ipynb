{
 "cells": [
  {
   "cell_type": "markdown",
   "id": "f11f3732",
   "metadata": {},
   "source": [
    "Installing required libraries for stepfunctions"
   ]
  },
  {
   "cell_type": "code",
   "execution_count": null,
   "id": "b5bbc2f5",
   "metadata": {},
   "outputs": [],
   "source": [
    " import sys\n",
    " !{sys.executable} -m pip install --upgrade pip\n",
    " !{sys.executable} -m pip install -qU awscli boto3 \"sagemaker>=2.0.0\"\n",
    " !{sys.executable} -m pip install -qU \"stepfunctions>=2.0.0\"\n",
    " !{sys.executable} -m pip show sagemaker stepfunctions"
   ]
  },
  {
   "cell_type": "markdown",
   "id": "1d783490",
   "metadata": {},
   "source": [
    "# 1. Setting up notebook with parameters and libraries"
   ]
  },
  {
   "cell_type": "code",
   "execution_count": null,
   "id": "babdf8c2",
   "metadata": {},
   "outputs": [],
   "source": [
    "# importing Python libraies\n",
    "import stepfunctions\n",
    "import logging\n",
    "\n",
    "from stepfunctions.steps import *\n",
    "from stepfunctions.workflow import Workflow\n",
    "from stepfunctions import steps\n",
    "from stepfunctions.inputs import ExecutionInput\n",
    "from sagemaker.processing import Processor,ProcessingInput, ProcessingOutput\n",
    "import calendar\n",
    "import time\n",
    "import sagemaker\n",
    "from sagemaker.inputs import TrainingInput\n",
    "import boto3\n",
    "from sagemaker.network import NetworkConfig\n",
    "\n",
    "stepfunctions.set_stream_logger(level=logging.INFO)"
   ]
  },
  {
   "cell_type": "markdown",
   "id": "6d487777",
   "metadata": {},
   "source": [
    "### Defining paramters\n",
    "\n",
    "This needs to be changed if we are taking it to different environment"
   ]
  },
  {
   "cell_type": "code",
   "execution_count": null,
   "id": "d4365ba3",
   "metadata": {},
   "outputs": [],
   "source": [
    "v_workflow_execution_role = \"arn:aws:iam::525102048888:role/poc-sagemaker-step-functi-MachineLearningWorkflowE-1XFI2UPRXFTXE\" # Step function IAM role ARN\n",
    "v_preprocessing_iam_role = \"arn:aws:iam::525102048888:role/service-role/AmazonSageMaker-ExecutionRole-20191105T125227\" # IAM role for preprocessing container\n",
    "v_preprocessing_instance_type = \"ml.m5.xlarge\" # Instance type for preprocessing container it changes as per workload\n",
    "v_s3_input_bucket = \"wi-cred-datalake-dev-raw\" # S3 bucket for input and output data\n",
    "v_prefix_for_input_data = \"data/output/offlease/lr/baselineinp/\"  # Prefix where data is stored\n",
    "v_region = 'us-east-1' # AWS region\n",
    "sec_groups = [\"sg-044e0e7ce4f5721c0\"]\n",
    "subnets = [\"subnet-0cf0e3f46326aa259\",\n",
    "           \"subnet-0156b7f5500cf0b78\",\n",
    "           \"subnet-032420199163cff9b\"]\n",
    "config_bucket = \"wi-cred-datalake-dev-s3-mlops-config\""
   ]
  },
  {
   "cell_type": "markdown",
   "id": "b9f6fece",
   "metadata": {},
   "source": [
    "## 2. Defining preprocessing jobs"
   ]
  },
  {
   "cell_type": "code",
   "execution_count": null,
   "id": "71d4376a",
   "metadata": {},
   "outputs": [],
   "source": [
    "# Defining environment config for baseline jobs\n",
    "environment = {\n",
    "          \"dataset_format\": \"{\\\"csv\\\":{\\\"header\\\": true,\\\"output_columns_position\\\": \\\"START\\\"}}\",\n",
    "          \"dataset_source\": \"/opt/ml/processing/input/baseline_dataset_input\",\n",
    "          \"output_path\": \"/opt/ml/processing/output\",\n",
    "          \"publish_cloudwatch_metrics\": \"Disabled\"\n",
    "        }"
   ]
  },
  {
   "cell_type": "code",
   "execution_count": null,
   "id": "7a8864e5",
   "metadata": {},
   "outputs": [],
   "source": [
    "# Here we are creating baseline preprocesor\n",
    "baseline_processor = Processor(image_uri='156813124566.dkr.ecr.us-east-1.amazonaws.com/sagemaker-model-monitor-analyzer',\n",
    "                     role=v_preprocessing_iam_role,\n",
    "                     instance_count=1,\n",
    "                     instance_type=v_preprocessing_instance_type,\n",
    "                     network_config = NetworkConfig(security_group_ids = sec_groups, subnets = subnets),\n",
    "                     env=environment)"
   ]
  },
  {
   "cell_type": "code",
   "execution_count": null,
   "id": "eb560e1f",
   "metadata": {},
   "outputs": [],
   "source": [
    "input_data = \"s3://{}/{}\".format(v_s3_input_bucket,v_prefix_for_input_data)\n",
    "inputs = [\n",
    "    ProcessingInput(\n",
    "        source=input_data, destination=\"/opt/ml/processing/input/baseline_dataset_input\", input_name=\"input_data\"\n",
    "    )\n",
    "]\n",
    "\n",
    "outputs = [\n",
    "    ProcessingOutput(\n",
    "        source=\"/opt/ml/processing/output\",\n",
    "        destination=\"s3://{}/{}\".format(config_bucket,\"custommonitor/\"),\n",
    "        output_name=\"tr_data\",\n",
    "    )\n",
    "]\n",
    "gmt = time.gmtime()\n",
    "ts = calendar.timegm(gmt)\n",
    "baseline_name = \"baseline-{}\".format(ts)"
   ]
  },
  {
   "cell_type": "code",
   "execution_count": null,
   "id": "25f86af3",
   "metadata": {},
   "outputs": [],
   "source": [
    "print(\"s3://{}/{}\".format(config_bucket,\"customonitor\"))\n"
   ]
  },
  {
   "cell_type": "code",
   "execution_count": null,
   "id": "af769005",
   "metadata": {},
   "outputs": [],
   "source": [
    "baseline_preprocessing_step = steps.ProcessingStep(\n",
    "    state_id='Baseline', \n",
    "    processor=baseline_processor,\n",
    "    job_name=baseline_name, \n",
    "    inputs=inputs, \n",
    "    kms_key_id='3084dc48-1a82-435b-8a8d-8001f8890c08',\n",
    "    outputs=outputs, \n",
    "    experiment_config=None, \n",
    "    wait_for_completion=True\n",
    ")"
   ]
  },
  {
   "cell_type": "markdown",
   "id": "22c6186c",
   "metadata": {},
   "source": [
    "## 3. Step Function"
   ]
  },
  {
   "cell_type": "code",
   "execution_count": null,
   "id": "da88ee61",
   "metadata": {},
   "outputs": [],
   "source": [
    "# First we chain the start pass state,preprocessing_step,\n",
    "basic_path=Chain([baseline_preprocessing_step])"
   ]
  },
  {
   "cell_type": "code",
   "execution_count": null,
   "id": "108062df",
   "metadata": {},
   "outputs": [],
   "source": [
    "import time\n",
    "print(time.localtime())"
   ]
  },
  {
   "cell_type": "code",
   "execution_count": null,
   "id": "499bfc38",
   "metadata": {},
   "outputs": [],
   "source": [
    "# Next, we define the workflow\n",
    "import uuid\n",
    "basic_workflow = Workflow(\n",
    "    name=\"ds-mlops-dev-baseline-job\".format(\n",
    "    uuid.uuid1().hex\n",
    ") ,\n",
    "    definition=basic_path,\n",
    "    role=v_workflow_execution_role\n",
    ")\n",
    "\n",
    "#Render the workflow\n",
    "basic_workflow.render_graph()"
   ]
  },
  {
   "cell_type": "markdown",
   "id": "afb3a8f5",
   "metadata": {},
   "source": [
    "## 3.1 Create the workflow on AWS Step Functions\n",
    "\n",
    "Create the workflow in AWS Step Functions with [create](https://aws-step-functions-data-science-sdk.readthedocs.io/en/latest/workflow.html#stepfunctions.workflow.Workflow.create)."
   ]
  },
  {
   "cell_type": "code",
   "execution_count": null,
   "id": "7e0d2c9c",
   "metadata": {},
   "outputs": [],
   "source": [
    "basic_workflow.create()"
   ]
  },
  {
   "cell_type": "code",
   "execution_count": null,
   "id": "19d56d0b",
   "metadata": {
    "scrolled": true
   },
   "outputs": [],
   "source": [
    "basic_workflow.update(definition=basic_workflow.definition,role=basic_workflow.role)"
   ]
  },
  {
   "cell_type": "code",
   "execution_count": null,
   "id": "a8eef404",
   "metadata": {},
   "outputs": [],
   "source": [
    "basic_workflow_execution = basic_workflow.execute(\n",
    "    inputs={\n",
    "    }\n",
    ")"
   ]
  },
  {
   "cell_type": "markdown",
   "id": "327649a9",
   "metadata": {},
   "source": [
    "## 3.2 Review the execution progress\n",
    "\n",
    "Render workflow progress with the [render_progress](https://aws-step-functions-data-science-sdk.readthedocs.io/en/latest/workflow.html#stepfunctions.workflow.Execution.render_progress).\n",
    "\n",
    "This generates a snapshot of the current state of your workflow as it executes. This is a static image. Run the cell again to check progress. "
   ]
  },
  {
   "cell_type": "code",
   "execution_count": null,
   "id": "ece82cd4",
   "metadata": {},
   "outputs": [],
   "source": [
    "basic_workflow_execution.render_progress()"
   ]
  },
  {
   "cell_type": "markdown",
   "id": "4de6d2b2",
   "metadata": {},
   "source": [
    "## 4 Downloading generated report on notebook"
   ]
  },
  {
   "cell_type": "code",
   "execution_count": null,
   "id": "0bdd3476",
   "metadata": {},
   "outputs": [],
   "source": [
    "# Downloading contraint file for evaluation\n",
    "!aws s3 cp s3://$config_bucket/custommonitor/constraints.json ."
   ]
  },
  {
   "cell_type": "code",
   "execution_count": null,
   "id": "633fa8e0",
   "metadata": {},
   "outputs": [],
   "source": [
    "# Dowloading stats file for evaluation\n",
    "!aws s3 cp s3://$config_bucket/custommonitor/statistics.json ."
   ]
  },
  {
   "cell_type": "markdown",
   "id": "e899eccc",
   "metadata": {},
   "source": [
    "We can perform analysis on this file and put it on git hub\n",
    "\n",
    "**Note :**\n",
    "In order to refer it for modified location in monitoring schedule lambda function we need to changes the baseline stats location to prefix custom_monitoring/ from monitoring\n"
   ]
  }
 ],
 "metadata": {
  "kernelspec": {
   "display_name": "conda_python3",
   "language": "python",
   "name": "conda_python3"
  },
  "language_info": {
   "codemirror_mode": {
    "name": "ipython",
    "version": 3
   },
   "file_extension": ".py",
   "mimetype": "text/x-python",
   "name": "python",
   "nbconvert_exporter": "python",
   "pygments_lexer": "ipython3",
   "version": "3.6.13"
  }
 },
 "nbformat": 4,
 "nbformat_minor": 5
}
