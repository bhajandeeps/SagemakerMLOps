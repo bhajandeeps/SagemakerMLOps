{
 "cells": [
  {
   "cell_type": "markdown",
   "id": "d0cec7a5",
   "metadata": {},
   "source": [
    "Installing required libraries for stepfunctions"
   ]
  },
  {
   "cell_type": "code",
   "execution_count": 14,
   "id": "450ce0e7",
   "metadata": {},
   "outputs": [
    {
     "name": "stdout",
     "output_type": "stream",
     "text": [
      "Requirement already satisfied: pip in /home/ec2-user/anaconda3/envs/python3/lib/python3.6/site-packages (21.3.1)\n",
      "Name: sagemaker\n",
      "Version: 2.109.0\n",
      "Summary: Open source library for training and deploying models on Amazon SageMaker.\n",
      "Home-page: https://github.com/aws/sagemaker-python-sdk/\n",
      "Author: Amazon Web Services\n",
      "Author-email: \n",
      "License: Apache License 2.0\n",
      "Location: /home/ec2-user/anaconda3/envs/python3/lib/python3.6/site-packages\n",
      "Requires: attrs, boto3, google-pasta, importlib-metadata, numpy, packaging, pandas, pathos, protobuf, protobuf3-to-dict, smdebug-rulesconfig\n",
      "Required-by: stepfunctions\n",
      "---\n",
      "Name: stepfunctions\n",
      "Version: 2.3.0\n",
      "Summary: Open source library for developing data science workflows on AWS Step Functions.\n",
      "Home-page: https://github.com/aws/aws-step-functions-data-science-sdk-python\n",
      "Author: Amazon Web Services\n",
      "Author-email: \n",
      "License: Apache License 2.0\n",
      "Location: /home/ec2-user/anaconda3/envs/python3/lib/python3.6/site-packages\n",
      "Requires: boto3, pyyaml, sagemaker\n",
      "Required-by: \n"
     ]
    }
   ],
   "source": [
    "import sys\n",
    "!{sys.executable} -m pip install --upgrade pip\n",
    "!{sys.executable} -m pip install -qU awscli boto3 \"sagemaker>=2.0.0\"\n",
    "!{sys.executable} -m pip install -qU \"stepfunctions>=2.0.0\"\n",
    "!{sys.executable} -m pip show sagemaker stepfunctions"
   ]
  },
  {
   "cell_type": "markdown",
   "id": "a3ac94d9",
   "metadata": {},
   "source": [
    "# 1. Setting up notebook with parameters and libraries"
   ]
  },
  {
   "cell_type": "code",
   "execution_count": 12,
   "id": "e620d41a",
   "metadata": {},
   "outputs": [
    {
     "name": "stdout",
     "output_type": "stream",
     "text": [
      "Requirement already satisfied: stepfunctions in /home/ec2-user/anaconda3/envs/python3/lib/python3.6/site-packages (2.3.0)\n",
      "Requirement already satisfied: sagemaker>=2.1.0 in /home/ec2-user/anaconda3/envs/python3/lib/python3.6/site-packages (from stepfunctions) (2.109.0)\n",
      "Requirement already satisfied: boto3>=1.14.38 in /home/ec2-user/anaconda3/envs/python3/lib/python3.6/site-packages (from stepfunctions) (1.23.10)\n",
      "Requirement already satisfied: pyyaml in /home/ec2-user/anaconda3/envs/python3/lib/python3.6/site-packages (from stepfunctions) (5.4.1)\n",
      "Requirement already satisfied: jmespath<2.0.0,>=0.7.1 in /home/ec2-user/anaconda3/envs/python3/lib/python3.6/site-packages (from boto3>=1.14.38->stepfunctions) (0.10.0)\n",
      "Requirement already satisfied: s3transfer<0.6.0,>=0.5.0 in /home/ec2-user/anaconda3/envs/python3/lib/python3.6/site-packages (from boto3>=1.14.38->stepfunctions) (0.5.0)\n",
      "Requirement already satisfied: botocore<1.27.0,>=1.26.10 in /home/ec2-user/anaconda3/envs/python3/lib/python3.6/site-packages (from boto3>=1.14.38->stepfunctions) (1.26.10)\n",
      "Requirement already satisfied: packaging>=20.0 in /home/ec2-user/anaconda3/envs/python3/lib/python3.6/site-packages (from sagemaker>=2.1.0->stepfunctions) (21.3)\n",
      "Requirement already satisfied: google-pasta in /home/ec2-user/anaconda3/envs/python3/lib/python3.6/site-packages (from sagemaker>=2.1.0->stepfunctions) (0.2.0)\n",
      "Requirement already satisfied: smdebug-rulesconfig==1.0.1 in /home/ec2-user/anaconda3/envs/python3/lib/python3.6/site-packages (from sagemaker>=2.1.0->stepfunctions) (1.0.1)\n",
      "Requirement already satisfied: attrs<22,>=20.3.0 in /home/ec2-user/anaconda3/envs/python3/lib/python3.6/site-packages (from sagemaker>=2.1.0->stepfunctions) (20.3.0)\n",
      "Requirement already satisfied: protobuf<4.0,>=3.1 in /home/ec2-user/anaconda3/envs/python3/lib/python3.6/site-packages (from sagemaker>=2.1.0->stepfunctions) (3.15.2)\n",
      "Requirement already satisfied: pathos in /home/ec2-user/anaconda3/envs/python3/lib/python3.6/site-packages (from sagemaker>=2.1.0->stepfunctions) (0.2.8)\n",
      "Requirement already satisfied: numpy<2.0,>=1.9.0 in /home/ec2-user/anaconda3/envs/python3/lib/python3.6/site-packages (from sagemaker>=2.1.0->stepfunctions) (1.19.5)\n",
      "Requirement already satisfied: importlib-metadata<5.0,>=1.4.0 in /home/ec2-user/anaconda3/envs/python3/lib/python3.6/site-packages (from sagemaker>=2.1.0->stepfunctions) (3.7.0)\n",
      "Requirement already satisfied: pandas in /home/ec2-user/anaconda3/envs/python3/lib/python3.6/site-packages (from sagemaker>=2.1.0->stepfunctions) (1.1.5)\n",
      "Requirement already satisfied: protobuf3-to-dict<1.0,>=0.1.5 in /home/ec2-user/anaconda3/envs/python3/lib/python3.6/site-packages (from sagemaker>=2.1.0->stepfunctions) (0.1.5)\n",
      "Requirement already satisfied: urllib3<1.27,>=1.25.4 in /home/ec2-user/anaconda3/envs/python3/lib/python3.6/site-packages (from botocore<1.27.0,>=1.26.10->boto3>=1.14.38->stepfunctions) (1.26.8)\n",
      "Requirement already satisfied: python-dateutil<3.0.0,>=2.1 in /home/ec2-user/anaconda3/envs/python3/lib/python3.6/site-packages (from botocore<1.27.0,>=1.26.10->boto3>=1.14.38->stepfunctions) (2.8.1)\n",
      "Requirement already satisfied: typing-extensions>=3.6.4 in /home/ec2-user/anaconda3/envs/python3/lib/python3.6/site-packages (from importlib-metadata<5.0,>=1.4.0->sagemaker>=2.1.0->stepfunctions) (4.0.1)\n",
      "Requirement already satisfied: zipp>=0.5 in /home/ec2-user/anaconda3/envs/python3/lib/python3.6/site-packages (from importlib-metadata<5.0,>=1.4.0->sagemaker>=2.1.0->stepfunctions) (3.4.0)\n",
      "Requirement already satisfied: pyparsing!=3.0.5,>=2.0.2 in /home/ec2-user/anaconda3/envs/python3/lib/python3.6/site-packages (from packaging>=20.0->sagemaker>=2.1.0->stepfunctions) (2.4.7)\n",
      "Requirement already satisfied: six>=1.9 in /home/ec2-user/anaconda3/envs/python3/lib/python3.6/site-packages (from protobuf<4.0,>=3.1->sagemaker>=2.1.0->stepfunctions) (1.15.0)\n",
      "Requirement already satisfied: pytz>=2017.2 in /home/ec2-user/anaconda3/envs/python3/lib/python3.6/site-packages (from pandas->sagemaker>=2.1.0->stepfunctions) (2021.1)\n",
      "Requirement already satisfied: multiprocess>=0.70.12 in /home/ec2-user/anaconda3/envs/python3/lib/python3.6/site-packages (from pathos->sagemaker>=2.1.0->stepfunctions) (0.70.12.2)\n",
      "Requirement already satisfied: pox>=0.3.0 in /home/ec2-user/anaconda3/envs/python3/lib/python3.6/site-packages (from pathos->sagemaker>=2.1.0->stepfunctions) (0.3.0)\n",
      "Requirement already satisfied: ppft>=1.6.6.4 in /home/ec2-user/anaconda3/envs/python3/lib/python3.6/site-packages (from pathos->sagemaker>=2.1.0->stepfunctions) (1.6.6.4)\n",
      "Requirement already satisfied: dill>=0.3.4 in /home/ec2-user/anaconda3/envs/python3/lib/python3.6/site-packages (from pathos->sagemaker>=2.1.0->stepfunctions) (0.3.4)\n"
     ]
    }
   ],
   "source": [
    "!pip install stepfunctions"
   ]
  },
  {
   "cell_type": "code",
   "execution_count": 16,
   "id": "5eb6c8f4",
   "metadata": {},
   "outputs": [
    {
     "ename": "ModuleNotFoundError",
     "evalue": "No module named 'sagemaker.workflow'; 'sagemaker' is not a package",
     "output_type": "error",
     "traceback": [
      "\u001b[0;31m---------------------------------------------------------------------------\u001b[0m",
      "\u001b[0;31mModuleNotFoundError\u001b[0m                       Traceback (most recent call last)",
      "\u001b[0;32m<ipython-input-16-fe2270b5b538>\u001b[0m in \u001b[0;36m<module>\u001b[0;34m\u001b[0m\n\u001b[1;32m      1\u001b[0m \u001b[0;31m# importing Python libraies\u001b[0m\u001b[0;34m\u001b[0m\u001b[0;34m\u001b[0m\u001b[0;34m\u001b[0m\u001b[0m\n\u001b[0;32m----> 2\u001b[0;31m \u001b[0;32mimport\u001b[0m \u001b[0mstepfunctions\u001b[0m\u001b[0;34m\u001b[0m\u001b[0;34m\u001b[0m\u001b[0m\n\u001b[0m\u001b[1;32m      3\u001b[0m \u001b[0;32mimport\u001b[0m \u001b[0mlogging\u001b[0m\u001b[0;34m\u001b[0m\u001b[0;34m\u001b[0m\u001b[0m\n\u001b[1;32m      4\u001b[0m \u001b[0;34m\u001b[0m\u001b[0m\n\u001b[1;32m      5\u001b[0m \u001b[0;32mfrom\u001b[0m \u001b[0mstepfunctions\u001b[0m\u001b[0;34m.\u001b[0m\u001b[0msteps\u001b[0m \u001b[0;32mimport\u001b[0m \u001b[0;34m*\u001b[0m\u001b[0;34m\u001b[0m\u001b[0;34m\u001b[0m\u001b[0m\n",
      "\u001b[0;32m~/anaconda3/envs/python3/lib/python3.6/site-packages/stepfunctions/__init__.py\u001b[0m in \u001b[0;36m<module>\u001b[0;34m\u001b[0m\n\u001b[1;32m     23\u001b[0m \u001b[0mlogging\u001b[0m\u001b[0;34m.\u001b[0m\u001b[0mgetLogger\u001b[0m\u001b[0;34m(\u001b[0m\u001b[0;34m)\u001b[0m\u001b[0;34m.\u001b[0m\u001b[0msetLevel\u001b[0m\u001b[0;34m(\u001b[0m\u001b[0mlogging\u001b[0m\u001b[0;34m.\u001b[0m\u001b[0mERROR\u001b[0m\u001b[0;34m)\u001b[0m\u001b[0;34m\u001b[0m\u001b[0;34m\u001b[0m\u001b[0m\n\u001b[1;32m     24\u001b[0m \u001b[0;34m\u001b[0m\u001b[0m\n\u001b[0;32m---> 25\u001b[0;31m \u001b[0;32mfrom\u001b[0m \u001b[0mstepfunctions\u001b[0m \u001b[0;32mimport\u001b[0m \u001b[0msteps\u001b[0m\u001b[0;34m\u001b[0m\u001b[0;34m\u001b[0m\u001b[0m\n\u001b[0m\u001b[1;32m     26\u001b[0m \u001b[0;32mfrom\u001b[0m \u001b[0mstepfunctions\u001b[0m \u001b[0;32mimport\u001b[0m \u001b[0mworkflow\u001b[0m\u001b[0;34m\u001b[0m\u001b[0;34m\u001b[0m\u001b[0m\n\u001b[1;32m     27\u001b[0m \u001b[0;32mfrom\u001b[0m \u001b[0mstepfunctions\u001b[0m \u001b[0;32mimport\u001b[0m \u001b[0mtemplate\u001b[0m\u001b[0;34m\u001b[0m\u001b[0;34m\u001b[0m\u001b[0m\n",
      "\u001b[0;32m~/anaconda3/envs/python3/lib/python3.6/site-packages/stepfunctions/steps/__init__.py\u001b[0m in \u001b[0;36m<module>\u001b[0;34m\u001b[0m\n\u001b[1;32m     17\u001b[0m \u001b[0;32mfrom\u001b[0m \u001b[0mstepfunctions\u001b[0m\u001b[0;34m.\u001b[0m\u001b[0msteps\u001b[0m\u001b[0;34m.\u001b[0m\u001b[0mstates\u001b[0m \u001b[0;32mimport\u001b[0m \u001b[0mPass\u001b[0m\u001b[0;34m,\u001b[0m \u001b[0mSucceed\u001b[0m\u001b[0;34m,\u001b[0m \u001b[0mFail\u001b[0m\u001b[0;34m,\u001b[0m \u001b[0mWait\u001b[0m\u001b[0;34m,\u001b[0m \u001b[0mChoice\u001b[0m\u001b[0;34m,\u001b[0m \u001b[0mParallel\u001b[0m\u001b[0;34m,\u001b[0m \u001b[0mMap\u001b[0m\u001b[0;34m,\u001b[0m \u001b[0mTask\u001b[0m\u001b[0;34m,\u001b[0m \u001b[0mChain\u001b[0m\u001b[0;34m,\u001b[0m \u001b[0mRetry\u001b[0m\u001b[0;34m,\u001b[0m \u001b[0mCatch\u001b[0m\u001b[0;34m\u001b[0m\u001b[0;34m\u001b[0m\u001b[0m\n\u001b[1;32m     18\u001b[0m \u001b[0;32mfrom\u001b[0m \u001b[0mstepfunctions\u001b[0m\u001b[0;34m.\u001b[0m\u001b[0msteps\u001b[0m\u001b[0;34m.\u001b[0m\u001b[0mstates\u001b[0m \u001b[0;32mimport\u001b[0m \u001b[0mGraph\u001b[0m\u001b[0;34m,\u001b[0m \u001b[0mFrozenGraph\u001b[0m\u001b[0;34m\u001b[0m\u001b[0;34m\u001b[0m\u001b[0m\n\u001b[0;32m---> 19\u001b[0;31m \u001b[0;32mfrom\u001b[0m \u001b[0mstepfunctions\u001b[0m\u001b[0;34m.\u001b[0m\u001b[0msteps\u001b[0m\u001b[0;34m.\u001b[0m\u001b[0msagemaker\u001b[0m \u001b[0;32mimport\u001b[0m \u001b[0mTrainingStep\u001b[0m\u001b[0;34m,\u001b[0m \u001b[0mTransformStep\u001b[0m\u001b[0;34m,\u001b[0m \u001b[0mModelStep\u001b[0m\u001b[0;34m,\u001b[0m \u001b[0mEndpointConfigStep\u001b[0m\u001b[0;34m,\u001b[0m \u001b[0mEndpointStep\u001b[0m\u001b[0;34m,\u001b[0m \u001b[0mTuningStep\u001b[0m\u001b[0;34m,\u001b[0m \u001b[0mProcessingStep\u001b[0m\u001b[0;34m\u001b[0m\u001b[0;34m\u001b[0m\u001b[0m\n\u001b[0m\u001b[1;32m     20\u001b[0m \u001b[0;32mfrom\u001b[0m \u001b[0mstepfunctions\u001b[0m\u001b[0;34m.\u001b[0m\u001b[0msteps\u001b[0m\u001b[0;34m.\u001b[0m\u001b[0mcompute\u001b[0m \u001b[0;32mimport\u001b[0m \u001b[0mLambdaStep\u001b[0m\u001b[0;34m,\u001b[0m \u001b[0mBatchSubmitJobStep\u001b[0m\u001b[0;34m,\u001b[0m \u001b[0mGlueStartJobRunStep\u001b[0m\u001b[0;34m,\u001b[0m \u001b[0mEcsRunTaskStep\u001b[0m\u001b[0;34m\u001b[0m\u001b[0;34m\u001b[0m\u001b[0m\n\u001b[1;32m     21\u001b[0m \u001b[0;32mfrom\u001b[0m \u001b[0mstepfunctions\u001b[0m\u001b[0;34m.\u001b[0m\u001b[0msteps\u001b[0m\u001b[0;34m.\u001b[0m\u001b[0mservice\u001b[0m \u001b[0;32mimport\u001b[0m \u001b[0mDynamoDBGetItemStep\u001b[0m\u001b[0;34m,\u001b[0m \u001b[0mDynamoDBPutItemStep\u001b[0m\u001b[0;34m,\u001b[0m \u001b[0mDynamoDBUpdateItemStep\u001b[0m\u001b[0;34m,\u001b[0m \u001b[0mDynamoDBDeleteItemStep\u001b[0m\u001b[0;34m\u001b[0m\u001b[0;34m\u001b[0m\u001b[0m\n",
      "\u001b[0;32m~/anaconda3/envs/python3/lib/python3.6/site-packages/stepfunctions/steps/sagemaker.py\u001b[0m in \u001b[0;36m<module>\u001b[0;34m\u001b[0m\n\u001b[1;32m     23\u001b[0m \u001b[0;32mfrom\u001b[0m \u001b[0mstepfunctions\u001b[0m\u001b[0;34m.\u001b[0m\u001b[0msteps\u001b[0m\u001b[0;34m.\u001b[0m\u001b[0mintegration_resources\u001b[0m \u001b[0;32mimport\u001b[0m \u001b[0mIntegrationPattern\u001b[0m\u001b[0;34m,\u001b[0m \u001b[0mget_service_integration_arn\u001b[0m\u001b[0;34m\u001b[0m\u001b[0;34m\u001b[0m\u001b[0m\n\u001b[1;32m     24\u001b[0m \u001b[0;34m\u001b[0m\u001b[0m\n\u001b[0;32m---> 25\u001b[0;31m \u001b[0;32mfrom\u001b[0m \u001b[0msagemaker\u001b[0m\u001b[0;34m.\u001b[0m\u001b[0mworkflow\u001b[0m\u001b[0;34m.\u001b[0m\u001b[0mairflow\u001b[0m \u001b[0;32mimport\u001b[0m \u001b[0mtraining_config\u001b[0m\u001b[0;34m,\u001b[0m \u001b[0mtransform_config\u001b[0m\u001b[0;34m,\u001b[0m \u001b[0mmodel_config\u001b[0m\u001b[0;34m,\u001b[0m \u001b[0mtuning_config\u001b[0m\u001b[0;34m,\u001b[0m \u001b[0mprocessing_config\u001b[0m\u001b[0;34m\u001b[0m\u001b[0;34m\u001b[0m\u001b[0m\n\u001b[0m\u001b[1;32m     26\u001b[0m \u001b[0;32mfrom\u001b[0m \u001b[0msagemaker\u001b[0m\u001b[0;34m.\u001b[0m\u001b[0mmodel\u001b[0m \u001b[0;32mimport\u001b[0m \u001b[0mModel\u001b[0m\u001b[0;34m,\u001b[0m \u001b[0mFrameworkModel\u001b[0m\u001b[0;34m\u001b[0m\u001b[0;34m\u001b[0m\u001b[0m\n\u001b[1;32m     27\u001b[0m \u001b[0;32mfrom\u001b[0m \u001b[0msagemaker\u001b[0m\u001b[0;34m.\u001b[0m\u001b[0mmodel_monitor\u001b[0m \u001b[0;32mimport\u001b[0m \u001b[0mDataCaptureConfig\u001b[0m\u001b[0;34m\u001b[0m\u001b[0;34m\u001b[0m\u001b[0m\n",
      "\u001b[0;32m~/SageMaker/WipCoe/Notebooks_LatestCode/WiproFormat/sagemaker.py\u001b[0m in \u001b[0;36m<module>\u001b[0;34m\u001b[0m\n\u001b[1;32m     23\u001b[0m \u001b[0;32mfrom\u001b[0m \u001b[0mstepfunctions\u001b[0m\u001b[0;34m.\u001b[0m\u001b[0msteps\u001b[0m\u001b[0;34m.\u001b[0m\u001b[0mintegration_resources\u001b[0m \u001b[0;32mimport\u001b[0m \u001b[0mIntegrationPattern\u001b[0m\u001b[0;34m,\u001b[0m \u001b[0mget_service_integration_arn\u001b[0m\u001b[0;34m\u001b[0m\u001b[0;34m\u001b[0m\u001b[0m\n\u001b[1;32m     24\u001b[0m \u001b[0;34m\u001b[0m\u001b[0m\n\u001b[0;32m---> 25\u001b[0;31m \u001b[0;32mfrom\u001b[0m \u001b[0msagemaker\u001b[0m\u001b[0;34m.\u001b[0m\u001b[0mworkflow\u001b[0m\u001b[0;34m.\u001b[0m\u001b[0mairflow\u001b[0m \u001b[0;32mimport\u001b[0m \u001b[0mtraining_config\u001b[0m\u001b[0;34m,\u001b[0m \u001b[0mtransform_config\u001b[0m\u001b[0;34m,\u001b[0m \u001b[0mmodel_config\u001b[0m\u001b[0;34m,\u001b[0m \u001b[0mtuning_config\u001b[0m\u001b[0;34m,\u001b[0m \u001b[0mprocessing_config\u001b[0m\u001b[0;34m\u001b[0m\u001b[0;34m\u001b[0m\u001b[0m\n\u001b[0m\u001b[1;32m     26\u001b[0m \u001b[0;32mfrom\u001b[0m \u001b[0msagemaker\u001b[0m\u001b[0;34m.\u001b[0m\u001b[0mmodel\u001b[0m \u001b[0;32mimport\u001b[0m \u001b[0mModel\u001b[0m\u001b[0;34m,\u001b[0m \u001b[0mFrameworkModel\u001b[0m\u001b[0;34m\u001b[0m\u001b[0;34m\u001b[0m\u001b[0m\n\u001b[1;32m     27\u001b[0m \u001b[0;32mfrom\u001b[0m \u001b[0msagemaker\u001b[0m\u001b[0;34m.\u001b[0m\u001b[0mmodel_monitor\u001b[0m \u001b[0;32mimport\u001b[0m \u001b[0mDataCaptureConfig\u001b[0m\u001b[0;34m\u001b[0m\u001b[0;34m\u001b[0m\u001b[0m\n",
      "\u001b[0;31mModuleNotFoundError\u001b[0m: No module named 'sagemaker.workflow'; 'sagemaker' is not a package"
     ]
    }
   ],
   "source": [
    "# importing Python libraies\n",
    "import stepfunctions\n",
    "import logging\n",
    "\n",
    "from stepfunctions.steps import *\n",
    "from stepfunctions.workflow import Workflow\n",
    "from stepfunctions import steps\n",
    "from stepfunctions.inputs import ExecutionInput\n",
    "from sagemaker.processing import Processor,ProcessingInput, ProcessingOutput\n",
    "import calendar\n",
    "import time\n",
    "import sagemaker\n",
    "from sagemaker.inputs import TrainingInput\n",
    "import boto3\n",
    "from sagemaker.network import NetworkConfig\n",
    "\n",
    "stepfunctions.set_stream_logger(level=logging.INFO)"
   ]
  },
  {
   "cell_type": "markdown",
   "id": "1db28b69",
   "metadata": {},
   "source": [
    "### Defining paramters\n",
    "\n",
    "This needs to be changed if we are taking it to different environment"
   ]
  },
  {
   "cell_type": "code",
   "execution_count": 3,
   "id": "01b78e60",
   "metadata": {},
   "outputs": [],
   "source": [
    "v_workflow_execution_role = \"arn:aws:iam::525102048888:role/poc-sagemaker-step-functi-MachineLearningWorkflowE-1XFI2UPRXFTXE\" # Step function IAM role ARN\n",
    "v_preprocessing_iam_role = \"arn:aws:iam::525102048888:role/service-role/AmazonSageMaker-ExecutionRole-20191105T125227\" # IAM role for preprocessing container\n",
    "v_preprocessing_instance_type = \"ml.m5.xlarge\" # Instance type for preprocessing container it changes as per workload\n",
    "v_s3_input_bucket = \"wi-cred-datalake-dev-raw\" # S3 bucket for input and output data\n",
    "v_prefix_for_input_data = \"nlp/feature/turi/Merged_groundtruth/\"  # Prefix where data is stored\n",
    "v_region = 'us-east-1' # AWS region\n",
    "sec_groups = [\"sg-044e0e7ce4f5721c0\"]\n",
    "subnets = [\"subnet-0cf0e3f46326aa259\",\n",
    "           \"subnet-0156b7f5500cf0b78\",\n",
    "           \"subnet-032420199163cff9b\"]\n",
    "config_bucket = \"wi-cred-datalake-dev-s3-mlops-config\""
   ]
  },
  {
   "cell_type": "markdown",
   "id": "14bbaf5b",
   "metadata": {},
   "source": [
    "## 2. Defining preprocessing jobs"
   ]
  },
  {
   "cell_type": "code",
   "execution_count": 5,
   "id": "ee379235",
   "metadata": {},
   "outputs": [],
   "source": [
    "# Defining environment config for baseline jobs\n",
    "environment = {\n",
    "          \"analysis_type\": \"MODEL_QUALITY\",\n",
    "            \"dataset_format\": \"{\\\"csv\\\":{\\\"header\\\":true,\\\"output_columns_position\\\": \\\"START\\\"}}\",\n",
    "             \"dataset_source\": \"/opt/ml/processing/input/baseline_dataset_input\",\n",
    "             \"output_path\": \"/opt/ml/processing/output\",\n",
    "              \"publish_cloudwatch_metrics\": \"Disabled\",\n",
    "               \"ground_truth_attribute\": \"groundtruth\",\n",
    "             \"inference_attribute\": \"prediction\",\n",
    "              \"problem_type\": \"BinaryClassification\"\n",
    "        }"
   ]
  },
  {
   "cell_type": "code",
   "execution_count": 6,
   "id": "24ec2ab6",
   "metadata": {},
   "outputs": [],
   "source": [
    "# Here we are creating baseline preprocesor\n",
    "baseline_processor = Processor(image_uri='156813124566.dkr.ecr.us-east-1.amazonaws.com/sagemaker-model-monitor-analyzer',\n",
    "                     role=v_preprocessing_iam_role,\n",
    "                     instance_count=1,\n",
    "                     instance_type=v_preprocessing_instance_type,\n",
    "                    # network_config = NetworkConfig(security_group_ids = sec_groups, subnets = subnets),\n",
    "                     env=environment)"
   ]
  },
  {
   "cell_type": "code",
   "execution_count": 7,
   "id": "299cc334",
   "metadata": {},
   "outputs": [],
   "source": [
    "input_data = \"s3://{}/{}\".format(v_s3_input_bucket,v_prefix_for_input_data)\n",
    "inputs = [\n",
    "    ProcessingInput(\n",
    "        source=input_data, destination=\"/opt/ml/processing/input/baseline_dataset_input\", input_name=\"input_data\"\n",
    "    )\n",
    "]\n",
    "\n",
    "outputs = [\n",
    "    ProcessingOutput(\n",
    "        source=\"/opt/ml/processing/output\",\n",
    "        destination=\"s3://{}/{}\".format(v_s3_input_bucket,\"vehicle/usedcars/feature/lr/ModelDrift-BaselineOutput/\"),\n",
    "        output_name=\"baseline_data\",\n",
    "    )\n",
    "]\n",
    "gmt = time.gmtime()\n",
    "ts = calendar.timegm(gmt)\n",
    "baseline_name = \"baseline-{}\".format(ts)"
   ]
  },
  {
   "cell_type": "code",
   "execution_count": 8,
   "id": "19689e8a",
   "metadata": {},
   "outputs": [
    {
     "name": "stdout",
     "output_type": "stream",
     "text": [
      "s3://wi-cred-datalake-dev-raw/vehicle/usedcars/feature/lr/ModelDrift-BaselineOutput/\n"
     ]
    }
   ],
   "source": [
    "print(\"s3://{}/{}\".format(v_s3_input_bucket,\"vehicle/usedcars/feature/lr/ModelDrift-BaselineOutput/\"))\n"
   ]
  },
  {
   "cell_type": "code",
   "execution_count": 9,
   "id": "4ae69c21",
   "metadata": {},
   "outputs": [],
   "source": [
    "baseline_preprocessing_step = steps.ProcessingStep(\n",
    "    state_id='Baseline', \n",
    "    processor=baseline_processor,\n",
    "    job_name=baseline_name, \n",
    "    inputs=inputs, \n",
    "    #kms_key_id='3084dc48-1a82-435b-8a8d-8001f8890c08',\n",
    "    outputs=outputs, \n",
    "    experiment_config=None, \n",
    "    wait_for_completion=True\n",
    ")"
   ]
  },
  {
   "cell_type": "markdown",
   "id": "3951fb07",
   "metadata": {},
   "source": [
    "## 3. Step Function"
   ]
  },
  {
   "cell_type": "code",
   "execution_count": 10,
   "id": "b3f744a7",
   "metadata": {},
   "outputs": [],
   "source": [
    "# First we chain the start pass state,preprocessing_step,\n",
    "basic_path=Chain([baseline_preprocessing_step])"
   ]
  },
  {
   "cell_type": "code",
   "execution_count": 11,
   "id": "d668d3d7",
   "metadata": {},
   "outputs": [
    {
     "name": "stdout",
     "output_type": "stream",
     "text": [
      "time.struct_time(tm_year=2022, tm_mon=6, tm_mday=7, tm_hour=5, tm_min=28, tm_sec=2, tm_wday=1, tm_yday=158, tm_isdst=0)\n"
     ]
    }
   ],
   "source": [
    "import time\n",
    "print(time.localtime())"
   ]
  },
  {
   "cell_type": "code",
   "execution_count": 12,
   "id": "93e6759f",
   "metadata": {},
   "outputs": [
    {
     "name": "stderr",
     "output_type": "stream",
     "text": [
      "/home/ec2-user/anaconda3/envs/python3/lib/python3.6/site-packages/boto3/compat.py:88: PythonDeprecationWarning: Boto3 will no longer support Python 3.6 starting May 30, 2022. To continue receiving service updates, bug fixes, and security updates please upgrade to Python 3.7 or later. More information can be found here: https://aws.amazon.com/blogs/developer/python-support-policy-updates-for-aws-sdks-and-tools/\n",
      "  warnings.warn(warning, PythonDeprecationWarning)\n"
     ]
    },
    {
     "data": {
      "text/html": [
       "\n",
       "<link rel=\"stylesheet\" type=\"text/css\" href=\"https://do0of8uwbahzz.cloudfront.net/graph.css\">\n",
       "<div id=\"graph-205\" class=\"workflowgraph\">\n",
       "    \n",
       "    <svg></svg>\n",
       "    \n",
       "</div>\n",
       "\n",
       "<script type=\"text/javascript\">\n",
       "\n",
       "require.config({\n",
       "    paths: {\n",
       "        sfn: \"https://do0of8uwbahzz.cloudfront.net/sfn\",\n",
       "    }\n",
       "});\n",
       "\n",
       "require(['sfn'], function(sfn) {\n",
       "    var element = document.getElementById('graph-205')\n",
       "\n",
       "    var options = {\n",
       "        width: parseFloat(getComputedStyle(element, null).width.replace(\"px\", \"\")),\n",
       "        height: 600,\n",
       "        layout: 'LR',\n",
       "        resizeHeight: true\n",
       "    };\n",
       "\n",
       "    var definition = {\"StartAt\": \"Baseline\", \"States\": {\"Baseline\": {\"Resource\": \"arn:aws:states:::sagemaker:createProcessingJob.sync\", \"Parameters\": {\"ProcessingJobName\": \"baseline-1654579648\", \"ProcessingInputs\": [{\"InputName\": \"input_data\", \"AppManaged\": false, \"S3Input\": {\"S3Uri\": \"s3://wi-cred-datalake-dev-raw/vehicle/usedcars/feature/lr/Merged_groundtruth/\", \"LocalPath\": \"/opt/ml/processing/input/baseline_dataset_input\", \"S3DataType\": \"S3Prefix\", \"S3InputMode\": \"File\", \"S3DataDistributionType\": \"FullyReplicated\", \"S3CompressionType\": \"None\"}}], \"ProcessingOutputConfig\": {\"Outputs\": [{\"OutputName\": \"baseline_data\", \"AppManaged\": false, \"S3Output\": {\"S3Uri\": \"s3://wi-cred-datalake-dev-raw/vehicle/usedcars/feature/lr/ModelDrift-BaselineOutput/\", \"LocalPath\": \"/opt/ml/processing/output\", \"S3UploadMode\": \"EndOfJob\"}}]}, \"AppSpecification\": {\"ImageUri\": \"156813124566.dkr.ecr.us-east-1.amazonaws.com/sagemaker-model-monitor-analyzer\"}, \"RoleArn\": \"arn:aws:iam::525102048888:role/service-role/AmazonSageMaker-ExecutionRole-20191105T125227\", \"Environment\": {\"analysis_type\": \"MODEL_QUALITY\", \"dataset_format\": \"{\\\"csv\\\":{\\\"header\\\":true,\\\"output_columns_position\\\": \\\"START\\\"}}\", \"dataset_source\": \"/opt/ml/processing/input/baseline_dataset_input\", \"output_path\": \"/opt/ml/processing/output\", \"publish_cloudwatch_metrics\": \"Disabled\", \"ground_truth_attribute\": \"groundtruth\", \"inference_attribute\": \"price\", \"problem_type\": \"Regression\"}, \"ProcessingResources\": {\"ClusterConfig\": {\"InstanceCount\": 1, \"InstanceType\": \"ml.m5.xlarge\", \"VolumeSizeInGB\": 30}}}, \"Type\": \"Task\", \"End\": true}}};\n",
       "    var elementId = '#graph-205';\n",
       "\n",
       "    var graph = new sfn.StateMachineGraph(definition, elementId, options);\n",
       "    graph.render();\n",
       "});\n",
       "\n",
       "</script>\n"
      ],
      "text/plain": [
       "<IPython.core.display.HTML object>"
      ]
     },
     "execution_count": 12,
     "metadata": {},
     "output_type": "execute_result"
    }
   ],
   "source": [
    "# Next, we define the workflow\n",
    "import uuid\n",
    "basic_workflow = Workflow(\n",
    "    name=\"wi-mlops-modeldrift-baseline-job\".format(\n",
    "    uuid.uuid1().hex\n",
    ") ,\n",
    "    definition=basic_path,\n",
    "    role=v_workflow_execution_role\n",
    ")\n",
    "\n",
    "#Render the workflow\n",
    "basic_workflow.render_graph()"
   ]
  },
  {
   "cell_type": "markdown",
   "id": "89dfbbc9",
   "metadata": {},
   "source": [
    "## 3.1 Create the workflow on AWS Step Functions\n",
    "\n",
    "Create the workflow in AWS Step Functions with [create](https://aws-step-functions-data-science-sdk.readthedocs.io/en/latest/workflow.html#stepfunctions.workflow.Workflow.create)."
   ]
  },
  {
   "cell_type": "code",
   "execution_count": 13,
   "id": "f0559f96",
   "metadata": {},
   "outputs": [
    {
     "name": "stdout",
     "output_type": "stream",
     "text": [
      "\u001b[32m[INFO] Workflow created successfully on AWS Step Functions.\u001b[0m\n"
     ]
    },
    {
     "data": {
      "text/plain": [
       "'arn:aws:states:us-east-1:525102048888:stateMachine:wi-mlops-modeldrift-baseline-job'"
      ]
     },
     "execution_count": 13,
     "metadata": {},
     "output_type": "execute_result"
    }
   ],
   "source": [
    "basic_workflow.create()"
   ]
  },
  {
   "cell_type": "code",
   "execution_count": null,
   "id": "fe622332",
   "metadata": {
    "scrolled": true
   },
   "outputs": [],
   "source": [
    "basic_workflow.update(definition=basic_workflow.definition,role=basic_workflow.role)"
   ]
  },
  {
   "cell_type": "code",
   "execution_count": 14,
   "id": "a4a29127",
   "metadata": {},
   "outputs": [
    {
     "name": "stdout",
     "output_type": "stream",
     "text": [
      "\u001b[32m[INFO] Workflow execution started successfully on AWS Step Functions.\u001b[0m\n"
     ]
    }
   ],
   "source": [
    "basic_workflow_execution = basic_workflow.execute(\n",
    "    inputs={\n",
    "    }\n",
    ")"
   ]
  },
  {
   "cell_type": "markdown",
   "id": "5f2d2ea2",
   "metadata": {},
   "source": [
    "## 3.2 Review the execution progress\n",
    "\n",
    "Render workflow progress with the [render_progress](https://aws-step-functions-data-science-sdk.readthedocs.io/en/latest/workflow.html#stepfunctions.workflow.Execution.render_progress).\n",
    "\n",
    "This generates a snapshot of the current state of your workflow as it executes. This is a static image. Run the cell again to check progress. "
   ]
  },
  {
   "cell_type": "code",
   "execution_count": null,
   "id": "1595e7d3",
   "metadata": {},
   "outputs": [],
   "source": [
    "basic_workflow_execution.render_progress()"
   ]
  },
  {
   "cell_type": "markdown",
   "id": "189c5035",
   "metadata": {},
   "source": [
    "## 4 Downloading generated report on notebook"
   ]
  },
  {
   "cell_type": "code",
   "execution_count": null,
   "id": "1b1ef970",
   "metadata": {},
   "outputs": [],
   "source": [
    "# Downloading contraint file for evaluation\n",
    "!aws s3 cp s3://$config_bucket/custommonitor/constraints.json ."
   ]
  },
  {
   "cell_type": "code",
   "execution_count": null,
   "id": "3462afaa",
   "metadata": {},
   "outputs": [],
   "source": [
    "# Dowloading stats file for evaluation\n",
    "!aws s3 cp s3://$config_bucket/custommonitor/statistics.json ."
   ]
  },
  {
   "cell_type": "markdown",
   "id": "66177baa",
   "metadata": {},
   "source": [
    "We can perform analysis on this file and put it on git hub\n",
    "\n",
    "**Note :**\n",
    "In order to refer it for modified location in monitoring schedule lambda function we need to changes the baseline stats location to prefix custom_monitoring/ from monitoring\n"
   ]
  }
 ],
 "metadata": {
  "kernelspec": {
   "display_name": "conda_python3",
   "language": "python",
   "name": "conda_python3"
  },
  "language_info": {
   "codemirror_mode": {
    "name": "ipython",
    "version": 3
   },
   "file_extension": ".py",
   "mimetype": "text/x-python",
   "name": "python",
   "nbconvert_exporter": "python",
   "pygments_lexer": "ipython3",
   "version": "3.6.13"
  }
 },
 "nbformat": 4,
 "nbformat_minor": 5
}
