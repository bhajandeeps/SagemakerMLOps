{
 "cells": [
  {
   "cell_type": "markdown",
   "metadata": {},
   "source": [
    "# Used cars price prediction with two different models"
   ]
  },
  {
   "cell_type": "markdown",
   "metadata": {},
   "source": [
    "Dataset taken from https://www.kaggle.com/austinreese/craigslist-carstrucks-data"
   ]
  },
  {
   "cell_type": "markdown",
   "metadata": {},
   "source": [
    "### Basic script"
   ]
  },
  {
   "cell_type": "markdown",
   "metadata": {},
   "source": [
    "#### Load packages and set parameters"
   ]
  },
  {
   "cell_type": "code",
   "execution_count": 1,
   "metadata": {},
   "outputs": [],
   "source": [
    "import pandas as pd\n",
    "import numpy as np\n",
    "import matplotlib.pyplot as plt\n",
    "import seaborn as sns"
   ]
  },
  {
   "cell_type": "code",
   "execution_count": 2,
   "metadata": {},
   "outputs": [],
   "source": [
    "pd.set_option('display.max_rows', 100)\n",
    "pd.set_option('display.max_columns', 100)"
   ]
  },
  {
   "cell_type": "markdown",
   "metadata": {},
   "source": [
    "#### Load and pre-process data"
   ]
  },
  {
   "cell_type": "code",
   "execution_count": 3,
   "metadata": {},
   "outputs": [
    {
     "data": {
      "text/html": [
       "<div>\n",
       "<style scoped>\n",
       "    .dataframe tbody tr th:only-of-type {\n",
       "        vertical-align: middle;\n",
       "    }\n",
       "\n",
       "    .dataframe tbody tr th {\n",
       "        vertical-align: top;\n",
       "    }\n",
       "\n",
       "    .dataframe thead th {\n",
       "        text-align: right;\n",
       "    }\n",
       "</style>\n",
       "<table border=\"1\" class=\"dataframe\">\n",
       "  <thead>\n",
       "    <tr style=\"text-align: right;\">\n",
       "      <th></th>\n",
       "      <th>Unnamed: 0</th>\n",
       "      <th>id</th>\n",
       "      <th>url</th>\n",
       "      <th>region</th>\n",
       "      <th>region_url</th>\n",
       "      <th>price</th>\n",
       "      <th>year</th>\n",
       "      <th>manufacturer</th>\n",
       "      <th>model</th>\n",
       "      <th>condition</th>\n",
       "      <th>cylinders</th>\n",
       "      <th>fuel</th>\n",
       "      <th>odometer</th>\n",
       "      <th>title_status</th>\n",
       "      <th>transmission</th>\n",
       "      <th>VIN</th>\n",
       "      <th>drive</th>\n",
       "      <th>size</th>\n",
       "      <th>type</th>\n",
       "      <th>paint_color</th>\n",
       "      <th>image_url</th>\n",
       "      <th>description</th>\n",
       "      <th>state</th>\n",
       "      <th>lat</th>\n",
       "      <th>long</th>\n",
       "      <th>posting_date</th>\n",
       "    </tr>\n",
       "  </thead>\n",
       "  <tbody>\n",
       "    <tr>\n",
       "      <th>0</th>\n",
       "      <td>0</td>\n",
       "      <td>7240372487</td>\n",
       "      <td>https://auburn.craigslist.org/ctd/d/auburn-uni...</td>\n",
       "      <td>auburn</td>\n",
       "      <td>https://auburn.craigslist.org</td>\n",
       "      <td>35990</td>\n",
       "      <td>2010.0</td>\n",
       "      <td>chevrolet</td>\n",
       "      <td>corvette grand sport</td>\n",
       "      <td>good</td>\n",
       "      <td>8 cylinders</td>\n",
       "      <td>gas</td>\n",
       "      <td>32742.0</td>\n",
       "      <td>clean</td>\n",
       "      <td>other</td>\n",
       "      <td>1G1YU3DW1A5106980</td>\n",
       "      <td>rwd</td>\n",
       "      <td>NaN</td>\n",
       "      <td>other</td>\n",
       "      <td>NaN</td>\n",
       "      <td>https://images.craigslist.org/00N0N_ipkbHVZYf4...</td>\n",
       "      <td>Carvana is the safer way to buy a car During t...</td>\n",
       "      <td>al</td>\n",
       "      <td>32.590000</td>\n",
       "      <td>-85.480000</td>\n",
       "      <td>2020-12-02T08:11:30-0600</td>\n",
       "    </tr>\n",
       "    <tr>\n",
       "      <th>1</th>\n",
       "      <td>1</td>\n",
       "      <td>7240309422</td>\n",
       "      <td>https://auburn.craigslist.org/cto/d/auburn-201...</td>\n",
       "      <td>auburn</td>\n",
       "      <td>https://auburn.craigslist.org</td>\n",
       "      <td>7500</td>\n",
       "      <td>2014.0</td>\n",
       "      <td>hyundai</td>\n",
       "      <td>sonata</td>\n",
       "      <td>excellent</td>\n",
       "      <td>4 cylinders</td>\n",
       "      <td>gas</td>\n",
       "      <td>93600.0</td>\n",
       "      <td>clean</td>\n",
       "      <td>automatic</td>\n",
       "      <td>5NPEC4AB0EH813529</td>\n",
       "      <td>fwd</td>\n",
       "      <td>NaN</td>\n",
       "      <td>sedan</td>\n",
       "      <td>NaN</td>\n",
       "      <td>https://images.craigslist.org/00s0s_gBHYmJ5o7y...</td>\n",
       "      <td>I'll move to another city and try to sell my c...</td>\n",
       "      <td>al</td>\n",
       "      <td>32.547500</td>\n",
       "      <td>-85.468200</td>\n",
       "      <td>2020-12-02T02:11:50-0600</td>\n",
       "    </tr>\n",
       "    <tr>\n",
       "      <th>2</th>\n",
       "      <td>2</td>\n",
       "      <td>7240224296</td>\n",
       "      <td>https://auburn.craigslist.org/cto/d/auburn-200...</td>\n",
       "      <td>auburn</td>\n",
       "      <td>https://auburn.craigslist.org</td>\n",
       "      <td>4900</td>\n",
       "      <td>2006.0</td>\n",
       "      <td>bmw</td>\n",
       "      <td>x3 3.0i</td>\n",
       "      <td>good</td>\n",
       "      <td>6 cylinders</td>\n",
       "      <td>gas</td>\n",
       "      <td>87046.0</td>\n",
       "      <td>clean</td>\n",
       "      <td>automatic</td>\n",
       "      <td>NaN</td>\n",
       "      <td>NaN</td>\n",
       "      <td>NaN</td>\n",
       "      <td>SUV</td>\n",
       "      <td>blue</td>\n",
       "      <td>https://images.craigslist.org/00B0B_5zgEGWPOrt...</td>\n",
       "      <td>Clean 2006 BMW X3 3.0I.  Beautiful and rare Bl...</td>\n",
       "      <td>al</td>\n",
       "      <td>32.616807</td>\n",
       "      <td>-85.464149</td>\n",
       "      <td>2020-12-01T19:50:41-0600</td>\n",
       "    </tr>\n",
       "    <tr>\n",
       "      <th>3</th>\n",
       "      <td>3</td>\n",
       "      <td>7240103965</td>\n",
       "      <td>https://auburn.craigslist.org/cto/d/lanett-tru...</td>\n",
       "      <td>auburn</td>\n",
       "      <td>https://auburn.craigslist.org</td>\n",
       "      <td>2000</td>\n",
       "      <td>1974.0</td>\n",
       "      <td>chevrolet</td>\n",
       "      <td>c-10</td>\n",
       "      <td>good</td>\n",
       "      <td>4 cylinders</td>\n",
       "      <td>gas</td>\n",
       "      <td>190000.0</td>\n",
       "      <td>clean</td>\n",
       "      <td>automatic</td>\n",
       "      <td>NaN</td>\n",
       "      <td>rwd</td>\n",
       "      <td>full-size</td>\n",
       "      <td>pickup</td>\n",
       "      <td>blue</td>\n",
       "      <td>https://images.craigslist.org/00M0M_6o7KcDpArw...</td>\n",
       "      <td>1974 chev. truck (LONG BED) NEW starter front ...</td>\n",
       "      <td>al</td>\n",
       "      <td>32.861600</td>\n",
       "      <td>-85.216100</td>\n",
       "      <td>2020-12-01T15:54:45-0600</td>\n",
       "    </tr>\n",
       "    <tr>\n",
       "      <th>4</th>\n",
       "      <td>4</td>\n",
       "      <td>7239983776</td>\n",
       "      <td>https://auburn.craigslist.org/cto/d/auburn-200...</td>\n",
       "      <td>auburn</td>\n",
       "      <td>https://auburn.craigslist.org</td>\n",
       "      <td>19500</td>\n",
       "      <td>2005.0</td>\n",
       "      <td>ford</td>\n",
       "      <td>f350 lariat</td>\n",
       "      <td>excellent</td>\n",
       "      <td>8 cylinders</td>\n",
       "      <td>diesel</td>\n",
       "      <td>116000.0</td>\n",
       "      <td>lien</td>\n",
       "      <td>automatic</td>\n",
       "      <td>NaN</td>\n",
       "      <td>4wd</td>\n",
       "      <td>full-size</td>\n",
       "      <td>pickup</td>\n",
       "      <td>blue</td>\n",
       "      <td>https://images.craigslist.org/00p0p_b95l1EgUfl...</td>\n",
       "      <td>2005 Ford F350 Lariat (Bullet Proofed). This t...</td>\n",
       "      <td>al</td>\n",
       "      <td>32.547500</td>\n",
       "      <td>-85.468200</td>\n",
       "      <td>2020-12-01T12:53:56-0600</td>\n",
       "    </tr>\n",
       "  </tbody>\n",
       "</table>\n",
       "</div>"
      ],
      "text/plain": [
       "   Unnamed: 0          id                                                url  \\\n",
       "0           0  7240372487  https://auburn.craigslist.org/ctd/d/auburn-uni...   \n",
       "1           1  7240309422  https://auburn.craigslist.org/cto/d/auburn-201...   \n",
       "2           2  7240224296  https://auburn.craigslist.org/cto/d/auburn-200...   \n",
       "3           3  7240103965  https://auburn.craigslist.org/cto/d/lanett-tru...   \n",
       "4           4  7239983776  https://auburn.craigslist.org/cto/d/auburn-200...   \n",
       "\n",
       "   region                     region_url  price    year manufacturer  \\\n",
       "0  auburn  https://auburn.craigslist.org  35990  2010.0    chevrolet   \n",
       "1  auburn  https://auburn.craigslist.org   7500  2014.0      hyundai   \n",
       "2  auburn  https://auburn.craigslist.org   4900  2006.0          bmw   \n",
       "3  auburn  https://auburn.craigslist.org   2000  1974.0    chevrolet   \n",
       "4  auburn  https://auburn.craigslist.org  19500  2005.0         ford   \n",
       "\n",
       "                  model  condition    cylinders    fuel  odometer  \\\n",
       "0  corvette grand sport       good  8 cylinders     gas   32742.0   \n",
       "1                sonata  excellent  4 cylinders     gas   93600.0   \n",
       "2               x3 3.0i       good  6 cylinders     gas   87046.0   \n",
       "3                  c-10       good  4 cylinders     gas  190000.0   \n",
       "4           f350 lariat  excellent  8 cylinders  diesel  116000.0   \n",
       "\n",
       "  title_status transmission                VIN drive       size    type  \\\n",
       "0        clean        other  1G1YU3DW1A5106980   rwd        NaN   other   \n",
       "1        clean    automatic  5NPEC4AB0EH813529   fwd        NaN   sedan   \n",
       "2        clean    automatic                NaN   NaN        NaN     SUV   \n",
       "3        clean    automatic                NaN   rwd  full-size  pickup   \n",
       "4         lien    automatic                NaN   4wd  full-size  pickup   \n",
       "\n",
       "  paint_color                                          image_url  \\\n",
       "0         NaN  https://images.craigslist.org/00N0N_ipkbHVZYf4...   \n",
       "1         NaN  https://images.craigslist.org/00s0s_gBHYmJ5o7y...   \n",
       "2        blue  https://images.craigslist.org/00B0B_5zgEGWPOrt...   \n",
       "3        blue  https://images.craigslist.org/00M0M_6o7KcDpArw...   \n",
       "4        blue  https://images.craigslist.org/00p0p_b95l1EgUfl...   \n",
       "\n",
       "                                         description state        lat  \\\n",
       "0  Carvana is the safer way to buy a car During t...    al  32.590000   \n",
       "1  I'll move to another city and try to sell my c...    al  32.547500   \n",
       "2  Clean 2006 BMW X3 3.0I.  Beautiful and rare Bl...    al  32.616807   \n",
       "3  1974 chev. truck (LONG BED) NEW starter front ...    al  32.861600   \n",
       "4  2005 Ford F350 Lariat (Bullet Proofed). This t...    al  32.547500   \n",
       "\n",
       "        long              posting_date  \n",
       "0 -85.480000  2020-12-02T08:11:30-0600  \n",
       "1 -85.468200  2020-12-02T02:11:50-0600  \n",
       "2 -85.464149  2020-12-01T19:50:41-0600  \n",
       "3 -85.216100  2020-12-01T15:54:45-0600  \n",
       "4 -85.468200  2020-12-01T12:53:56-0600  "
      ]
     },
     "execution_count": 3,
     "metadata": {},
     "output_type": "execute_result"
    }
   ],
   "source": [
    "data = pd.read_csv('vehicles.csv')\n",
    "df = data.copy()\n",
    "df.head()"
   ]
  },
  {
   "cell_type": "code",
   "execution_count": 4,
   "metadata": {},
   "outputs": [
    {
     "data": {
      "text/html": [
       "<div>\n",
       "<style scoped>\n",
       "    .dataframe tbody tr th:only-of-type {\n",
       "        vertical-align: middle;\n",
       "    }\n",
       "\n",
       "    .dataframe tbody tr th {\n",
       "        vertical-align: top;\n",
       "    }\n",
       "\n",
       "    .dataframe thead th {\n",
       "        text-align: right;\n",
       "    }\n",
       "</style>\n",
       "<table border=\"1\" class=\"dataframe\">\n",
       "  <thead>\n",
       "    <tr style=\"text-align: right;\">\n",
       "      <th></th>\n",
       "      <th>Unnamed: 0</th>\n",
       "      <th>id</th>\n",
       "      <th>url</th>\n",
       "      <th>region</th>\n",
       "      <th>region_url</th>\n",
       "      <th>price</th>\n",
       "      <th>year</th>\n",
       "      <th>manufacturer</th>\n",
       "      <th>model</th>\n",
       "      <th>condition</th>\n",
       "      <th>cylinders</th>\n",
       "      <th>fuel</th>\n",
       "      <th>odometer</th>\n",
       "      <th>title_status</th>\n",
       "      <th>transmission</th>\n",
       "      <th>VIN</th>\n",
       "      <th>drive</th>\n",
       "      <th>size</th>\n",
       "      <th>type</th>\n",
       "      <th>paint_color</th>\n",
       "      <th>image_url</th>\n",
       "      <th>description</th>\n",
       "      <th>state</th>\n",
       "      <th>lat</th>\n",
       "      <th>long</th>\n",
       "      <th>posting_date</th>\n",
       "    </tr>\n",
       "  </thead>\n",
       "  <tbody>\n",
       "    <tr>\n",
       "      <th>count</th>\n",
       "      <td>458213.000000</td>\n",
       "      <td>4.582130e+05</td>\n",
       "      <td>458213</td>\n",
       "      <td>458213</td>\n",
       "      <td>458213</td>\n",
       "      <td>4.582130e+05</td>\n",
       "      <td>457163.000000</td>\n",
       "      <td>439993</td>\n",
       "      <td>453367</td>\n",
       "      <td>265273</td>\n",
       "      <td>287073</td>\n",
       "      <td>454976</td>\n",
       "      <td>4.029100e+05</td>\n",
       "      <td>455636</td>\n",
       "      <td>455771</td>\n",
       "      <td>270664</td>\n",
       "      <td>324025</td>\n",
       "      <td>136865</td>\n",
       "      <td>345475</td>\n",
       "      <td>317370</td>\n",
       "      <td>458185</td>\n",
       "      <td>458143</td>\n",
       "      <td>458213</td>\n",
       "      <td>450765.000000</td>\n",
       "      <td>450765.000000</td>\n",
       "      <td>458185</td>\n",
       "    </tr>\n",
       "    <tr>\n",
       "      <th>unique</th>\n",
       "      <td>NaN</td>\n",
       "      <td>NaN</td>\n",
       "      <td>458213</td>\n",
       "      <td>405</td>\n",
       "      <td>413</td>\n",
       "      <td>NaN</td>\n",
       "      <td>NaN</td>\n",
       "      <td>43</td>\n",
       "      <td>31520</td>\n",
       "      <td>6</td>\n",
       "      <td>8</td>\n",
       "      <td>5</td>\n",
       "      <td>NaN</td>\n",
       "      <td>6</td>\n",
       "      <td>3</td>\n",
       "      <td>133620</td>\n",
       "      <td>3</td>\n",
       "      <td>4</td>\n",
       "      <td>13</td>\n",
       "      <td>12</td>\n",
       "      <td>285404</td>\n",
       "      <td>384347</td>\n",
       "      <td>51</td>\n",
       "      <td>NaN</td>\n",
       "      <td>NaN</td>\n",
       "      <td>423805</td>\n",
       "    </tr>\n",
       "    <tr>\n",
       "      <th>top</th>\n",
       "      <td>NaN</td>\n",
       "      <td>NaN</td>\n",
       "      <td>https://oregoncoast.craigslist.org/ctd/d/newpo...</td>\n",
       "      <td>columbus</td>\n",
       "      <td>https://bend.craigslist.org</td>\n",
       "      <td>NaN</td>\n",
       "      <td>NaN</td>\n",
       "      <td>ford</td>\n",
       "      <td>f-150</td>\n",
       "      <td>good</td>\n",
       "      <td>6 cylinders</td>\n",
       "      <td>gas</td>\n",
       "      <td>NaN</td>\n",
       "      <td>clean</td>\n",
       "      <td>automatic</td>\n",
       "      <td>1C4HJWDG6HL702229</td>\n",
       "      <td>4wd</td>\n",
       "      <td>full-size</td>\n",
       "      <td>sedan</td>\n",
       "      <td>white</td>\n",
       "      <td>https://images.craigslist.org/00c0c_1gCUGosl6w...</td>\n",
       "      <td>👉 BAD Credit, NO Credit - OKAY! We FINANCE ANY...</td>\n",
       "      <td>ca</td>\n",
       "      <td>NaN</td>\n",
       "      <td>NaN</td>\n",
       "      <td>2020-11-22T06:14:19-0500</td>\n",
       "    </tr>\n",
       "    <tr>\n",
       "      <th>freq</th>\n",
       "      <td>NaN</td>\n",
       "      <td>NaN</td>\n",
       "      <td>1</td>\n",
       "      <td>3818</td>\n",
       "      <td>2989</td>\n",
       "      <td>NaN</td>\n",
       "      <td>NaN</td>\n",
       "      <td>79666</td>\n",
       "      <td>8370</td>\n",
       "      <td>115685</td>\n",
       "      <td>105677</td>\n",
       "      <td>399399</td>\n",
       "      <td>NaN</td>\n",
       "      <td>439626</td>\n",
       "      <td>396322</td>\n",
       "      <td>194</td>\n",
       "      <td>139693</td>\n",
       "      <td>69736</td>\n",
       "      <td>92364</td>\n",
       "      <td>82786</td>\n",
       "      <td>194</td>\n",
       "      <td>247</td>\n",
       "      <td>51856</td>\n",
       "      <td>NaN</td>\n",
       "      <td>NaN</td>\n",
       "      <td>7</td>\n",
       "    </tr>\n",
       "    <tr>\n",
       "      <th>mean</th>\n",
       "      <td>229106.000000</td>\n",
       "      <td>7.235233e+09</td>\n",
       "      <td>NaN</td>\n",
       "      <td>NaN</td>\n",
       "      <td>NaN</td>\n",
       "      <td>4.042093e+04</td>\n",
       "      <td>2010.746067</td>\n",
       "      <td>NaN</td>\n",
       "      <td>NaN</td>\n",
       "      <td>NaN</td>\n",
       "      <td>NaN</td>\n",
       "      <td>NaN</td>\n",
       "      <td>1.016698e+05</td>\n",
       "      <td>NaN</td>\n",
       "      <td>NaN</td>\n",
       "      <td>NaN</td>\n",
       "      <td>NaN</td>\n",
       "      <td>NaN</td>\n",
       "      <td>NaN</td>\n",
       "      <td>NaN</td>\n",
       "      <td>NaN</td>\n",
       "      <td>NaN</td>\n",
       "      <td>NaN</td>\n",
       "      <td>38.531925</td>\n",
       "      <td>-94.375824</td>\n",
       "      <td>NaN</td>\n",
       "    </tr>\n",
       "    <tr>\n",
       "      <th>std</th>\n",
       "      <td>132274.843786</td>\n",
       "      <td>4.594362e+06</td>\n",
       "      <td>NaN</td>\n",
       "      <td>NaN</td>\n",
       "      <td>NaN</td>\n",
       "      <td>8.194599e+06</td>\n",
       "      <td>8.868136</td>\n",
       "      <td>NaN</td>\n",
       "      <td>NaN</td>\n",
       "      <td>NaN</td>\n",
       "      <td>NaN</td>\n",
       "      <td>NaN</td>\n",
       "      <td>3.228623e+06</td>\n",
       "      <td>NaN</td>\n",
       "      <td>NaN</td>\n",
       "      <td>NaN</td>\n",
       "      <td>NaN</td>\n",
       "      <td>NaN</td>\n",
       "      <td>NaN</td>\n",
       "      <td>NaN</td>\n",
       "      <td>NaN</td>\n",
       "      <td>NaN</td>\n",
       "      <td>NaN</td>\n",
       "      <td>5.857378</td>\n",
       "      <td>18.076225</td>\n",
       "      <td>NaN</td>\n",
       "    </tr>\n",
       "    <tr>\n",
       "      <th>min</th>\n",
       "      <td>0.000000</td>\n",
       "      <td>7.208550e+09</td>\n",
       "      <td>NaN</td>\n",
       "      <td>NaN</td>\n",
       "      <td>NaN</td>\n",
       "      <td>0.000000e+00</td>\n",
       "      <td>1900.000000</td>\n",
       "      <td>NaN</td>\n",
       "      <td>NaN</td>\n",
       "      <td>NaN</td>\n",
       "      <td>NaN</td>\n",
       "      <td>NaN</td>\n",
       "      <td>0.000000e+00</td>\n",
       "      <td>NaN</td>\n",
       "      <td>NaN</td>\n",
       "      <td>NaN</td>\n",
       "      <td>NaN</td>\n",
       "      <td>NaN</td>\n",
       "      <td>NaN</td>\n",
       "      <td>NaN</td>\n",
       "      <td>NaN</td>\n",
       "      <td>NaN</td>\n",
       "      <td>NaN</td>\n",
       "      <td>-82.607549</td>\n",
       "      <td>-164.091797</td>\n",
       "      <td>NaN</td>\n",
       "    </tr>\n",
       "    <tr>\n",
       "      <th>25%</th>\n",
       "      <td>114553.000000</td>\n",
       "      <td>7.231953e+09</td>\n",
       "      <td>NaN</td>\n",
       "      <td>NaN</td>\n",
       "      <td>NaN</td>\n",
       "      <td>4.900000e+03</td>\n",
       "      <td>2008.000000</td>\n",
       "      <td>NaN</td>\n",
       "      <td>NaN</td>\n",
       "      <td>NaN</td>\n",
       "      <td>NaN</td>\n",
       "      <td>NaN</td>\n",
       "      <td>4.087700e+04</td>\n",
       "      <td>NaN</td>\n",
       "      <td>NaN</td>\n",
       "      <td>NaN</td>\n",
       "      <td>NaN</td>\n",
       "      <td>NaN</td>\n",
       "      <td>NaN</td>\n",
       "      <td>NaN</td>\n",
       "      <td>NaN</td>\n",
       "      <td>NaN</td>\n",
       "      <td>NaN</td>\n",
       "      <td>34.600000</td>\n",
       "      <td>-110.890427</td>\n",
       "      <td>NaN</td>\n",
       "    </tr>\n",
       "    <tr>\n",
       "      <th>50%</th>\n",
       "      <td>229106.000000</td>\n",
       "      <td>7.236409e+09</td>\n",
       "      <td>NaN</td>\n",
       "      <td>NaN</td>\n",
       "      <td>NaN</td>\n",
       "      <td>1.099500e+04</td>\n",
       "      <td>2013.000000</td>\n",
       "      <td>NaN</td>\n",
       "      <td>NaN</td>\n",
       "      <td>NaN</td>\n",
       "      <td>NaN</td>\n",
       "      <td>NaN</td>\n",
       "      <td>8.764100e+04</td>\n",
       "      <td>NaN</td>\n",
       "      <td>NaN</td>\n",
       "      <td>NaN</td>\n",
       "      <td>NaN</td>\n",
       "      <td>NaN</td>\n",
       "      <td>NaN</td>\n",
       "      <td>NaN</td>\n",
       "      <td>NaN</td>\n",
       "      <td>NaN</td>\n",
       "      <td>NaN</td>\n",
       "      <td>39.244500</td>\n",
       "      <td>-88.314889</td>\n",
       "      <td>NaN</td>\n",
       "    </tr>\n",
       "    <tr>\n",
       "      <th>75%</th>\n",
       "      <td>343659.000000</td>\n",
       "      <td>7.239321e+09</td>\n",
       "      <td>NaN</td>\n",
       "      <td>NaN</td>\n",
       "      <td>NaN</td>\n",
       "      <td>2.149500e+04</td>\n",
       "      <td>2016.000000</td>\n",
       "      <td>NaN</td>\n",
       "      <td>NaN</td>\n",
       "      <td>NaN</td>\n",
       "      <td>NaN</td>\n",
       "      <td>NaN</td>\n",
       "      <td>1.340000e+05</td>\n",
       "      <td>NaN</td>\n",
       "      <td>NaN</td>\n",
       "      <td>NaN</td>\n",
       "      <td>NaN</td>\n",
       "      <td>NaN</td>\n",
       "      <td>NaN</td>\n",
       "      <td>NaN</td>\n",
       "      <td>NaN</td>\n",
       "      <td>NaN</td>\n",
       "      <td>NaN</td>\n",
       "      <td>42.484503</td>\n",
       "      <td>-81.015022</td>\n",
       "      <td>NaN</td>\n",
       "    </tr>\n",
       "    <tr>\n",
       "      <th>max</th>\n",
       "      <td>458212.000000</td>\n",
       "      <td>7.241019e+09</td>\n",
       "      <td>NaN</td>\n",
       "      <td>NaN</td>\n",
       "      <td>NaN</td>\n",
       "      <td>3.615215e+09</td>\n",
       "      <td>2021.000000</td>\n",
       "      <td>NaN</td>\n",
       "      <td>NaN</td>\n",
       "      <td>NaN</td>\n",
       "      <td>NaN</td>\n",
       "      <td>NaN</td>\n",
       "      <td>2.043756e+09</td>\n",
       "      <td>NaN</td>\n",
       "      <td>NaN</td>\n",
       "      <td>NaN</td>\n",
       "      <td>NaN</td>\n",
       "      <td>NaN</td>\n",
       "      <td>NaN</td>\n",
       "      <td>NaN</td>\n",
       "      <td>NaN</td>\n",
       "      <td>NaN</td>\n",
       "      <td>NaN</td>\n",
       "      <td>82.049255</td>\n",
       "      <td>150.898969</td>\n",
       "      <td>NaN</td>\n",
       "    </tr>\n",
       "  </tbody>\n",
       "</table>\n",
       "</div>"
      ],
      "text/plain": [
       "           Unnamed: 0            id  \\\n",
       "count   458213.000000  4.582130e+05   \n",
       "unique            NaN           NaN   \n",
       "top               NaN           NaN   \n",
       "freq              NaN           NaN   \n",
       "mean    229106.000000  7.235233e+09   \n",
       "std     132274.843786  4.594362e+06   \n",
       "min          0.000000  7.208550e+09   \n",
       "25%     114553.000000  7.231953e+09   \n",
       "50%     229106.000000  7.236409e+09   \n",
       "75%     343659.000000  7.239321e+09   \n",
       "max     458212.000000  7.241019e+09   \n",
       "\n",
       "                                                      url    region  \\\n",
       "count                                              458213    458213   \n",
       "unique                                             458213       405   \n",
       "top     https://oregoncoast.craigslist.org/ctd/d/newpo...  columbus   \n",
       "freq                                                    1      3818   \n",
       "mean                                                  NaN       NaN   \n",
       "std                                                   NaN       NaN   \n",
       "min                                                   NaN       NaN   \n",
       "25%                                                   NaN       NaN   \n",
       "50%                                                   NaN       NaN   \n",
       "75%                                                   NaN       NaN   \n",
       "max                                                   NaN       NaN   \n",
       "\n",
       "                         region_url         price           year manufacturer  \\\n",
       "count                        458213  4.582130e+05  457163.000000       439993   \n",
       "unique                          413           NaN            NaN           43   \n",
       "top     https://bend.craigslist.org           NaN            NaN         ford   \n",
       "freq                           2989           NaN            NaN        79666   \n",
       "mean                            NaN  4.042093e+04    2010.746067          NaN   \n",
       "std                             NaN  8.194599e+06       8.868136          NaN   \n",
       "min                             NaN  0.000000e+00    1900.000000          NaN   \n",
       "25%                             NaN  4.900000e+03    2008.000000          NaN   \n",
       "50%                             NaN  1.099500e+04    2013.000000          NaN   \n",
       "75%                             NaN  2.149500e+04    2016.000000          NaN   \n",
       "max                             NaN  3.615215e+09    2021.000000          NaN   \n",
       "\n",
       "         model condition    cylinders    fuel      odometer title_status  \\\n",
       "count   453367    265273       287073  454976  4.029100e+05       455636   \n",
       "unique   31520         6            8       5           NaN            6   \n",
       "top      f-150      good  6 cylinders     gas           NaN        clean   \n",
       "freq      8370    115685       105677  399399           NaN       439626   \n",
       "mean       NaN       NaN          NaN     NaN  1.016698e+05          NaN   \n",
       "std        NaN       NaN          NaN     NaN  3.228623e+06          NaN   \n",
       "min        NaN       NaN          NaN     NaN  0.000000e+00          NaN   \n",
       "25%        NaN       NaN          NaN     NaN  4.087700e+04          NaN   \n",
       "50%        NaN       NaN          NaN     NaN  8.764100e+04          NaN   \n",
       "75%        NaN       NaN          NaN     NaN  1.340000e+05          NaN   \n",
       "max        NaN       NaN          NaN     NaN  2.043756e+09          NaN   \n",
       "\n",
       "       transmission                VIN   drive       size    type paint_color  \\\n",
       "count        455771             270664  324025     136865  345475      317370   \n",
       "unique            3             133620       3          4      13          12   \n",
       "top       automatic  1C4HJWDG6HL702229     4wd  full-size   sedan       white   \n",
       "freq         396322                194  139693      69736   92364       82786   \n",
       "mean            NaN                NaN     NaN        NaN     NaN         NaN   \n",
       "std             NaN                NaN     NaN        NaN     NaN         NaN   \n",
       "min             NaN                NaN     NaN        NaN     NaN         NaN   \n",
       "25%             NaN                NaN     NaN        NaN     NaN         NaN   \n",
       "50%             NaN                NaN     NaN        NaN     NaN         NaN   \n",
       "75%             NaN                NaN     NaN        NaN     NaN         NaN   \n",
       "max             NaN                NaN     NaN        NaN     NaN         NaN   \n",
       "\n",
       "                                                image_url  \\\n",
       "count                                              458185   \n",
       "unique                                             285404   \n",
       "top     https://images.craigslist.org/00c0c_1gCUGosl6w...   \n",
       "freq                                                  194   \n",
       "mean                                                  NaN   \n",
       "std                                                   NaN   \n",
       "min                                                   NaN   \n",
       "25%                                                   NaN   \n",
       "50%                                                   NaN   \n",
       "75%                                                   NaN   \n",
       "max                                                   NaN   \n",
       "\n",
       "                                              description   state  \\\n",
       "count                                              458143  458213   \n",
       "unique                                             384347      51   \n",
       "top     👉 BAD Credit, NO Credit - OKAY! We FINANCE ANY...      ca   \n",
       "freq                                                  247   51856   \n",
       "mean                                                  NaN     NaN   \n",
       "std                                                   NaN     NaN   \n",
       "min                                                   NaN     NaN   \n",
       "25%                                                   NaN     NaN   \n",
       "50%                                                   NaN     NaN   \n",
       "75%                                                   NaN     NaN   \n",
       "max                                                   NaN     NaN   \n",
       "\n",
       "                  lat           long              posting_date  \n",
       "count   450765.000000  450765.000000                    458185  \n",
       "unique            NaN            NaN                    423805  \n",
       "top               NaN            NaN  2020-11-22T06:14:19-0500  \n",
       "freq              NaN            NaN                         7  \n",
       "mean        38.531925     -94.375824                       NaN  \n",
       "std          5.857378      18.076225                       NaN  \n",
       "min        -82.607549    -164.091797                       NaN  \n",
       "25%         34.600000    -110.890427                       NaN  \n",
       "50%         39.244500     -88.314889                       NaN  \n",
       "75%         42.484503     -81.015022                       NaN  \n",
       "max         82.049255     150.898969                       NaN  "
      ]
     },
     "execution_count": 4,
     "metadata": {},
     "output_type": "execute_result"
    }
   ],
   "source": [
    "df.describe(include='all')"
   ]
  },
  {
   "cell_type": "code",
   "execution_count": 5,
   "metadata": {},
   "outputs": [
    {
     "name": "stdout",
     "output_type": "stream",
     "text": [
      "<class 'pandas.core.frame.DataFrame'>\n",
      "RangeIndex: 458213 entries, 0 to 458212\n",
      "Data columns (total 26 columns):\n",
      " #   Column        Non-Null Count   Dtype  \n",
      "---  ------        --------------   -----  \n",
      " 0   Unnamed: 0    458213 non-null  int64  \n",
      " 1   id            458213 non-null  int64  \n",
      " 2   url           458213 non-null  object \n",
      " 3   region        458213 non-null  object \n",
      " 4   region_url    458213 non-null  object \n",
      " 5   price         458213 non-null  int64  \n",
      " 6   year          457163 non-null  float64\n",
      " 7   manufacturer  439993 non-null  object \n",
      " 8   model         453367 non-null  object \n",
      " 9   condition     265273 non-null  object \n",
      " 10  cylinders     287073 non-null  object \n",
      " 11  fuel          454976 non-null  object \n",
      " 12  odometer      402910 non-null  float64\n",
      " 13  title_status  455636 non-null  object \n",
      " 14  transmission  455771 non-null  object \n",
      " 15  VIN           270664 non-null  object \n",
      " 16  drive         324025 non-null  object \n",
      " 17  size          136865 non-null  object \n",
      " 18  type          345475 non-null  object \n",
      " 19  paint_color   317370 non-null  object \n",
      " 20  image_url     458185 non-null  object \n",
      " 21  description   458143 non-null  object \n",
      " 22  state         458213 non-null  object \n",
      " 23  lat           450765 non-null  float64\n",
      " 24  long          450765 non-null  float64\n",
      " 25  posting_date  458185 non-null  object \n",
      "dtypes: float64(4), int64(3), object(19)\n",
      "memory usage: 90.9+ MB\n"
     ]
    }
   ],
   "source": [
    "df.info()"
   ]
  },
  {
   "cell_type": "raw",
   "metadata": {},
   "source": [
    "fig, ax = plt.subplots(figsize=(14,10))\n",
    "sns.heatmap(df.isnull(), cbar=False, cmap=\"Greys_r\")\n",
    "plt.show()"
   ]
  },
  {
   "cell_type": "code",
   "execution_count": 6,
   "metadata": {},
   "outputs": [
    {
     "data": {
      "text/plain": [
       "458213"
      ]
     },
     "execution_count": 6,
     "metadata": {},
     "output_type": "execute_result"
    }
   ],
   "source": [
    "len(df)"
   ]
  },
  {
   "cell_type": "code",
   "execution_count": 7,
   "metadata": {},
   "outputs": [],
   "source": [
    "df.drop(columns=['Unnamed: 0', 'id', 'url', 'region', 'region_url', 'VIN', 'size', 'image_url', 'description', 'state', 'lat', 'long'], inplace=True)"
   ]
  },
  {
   "cell_type": "code",
   "execution_count": 8,
   "metadata": {},
   "outputs": [
    {
     "data": {
      "text/plain": [
       "0     32742.0\n",
       "1     93600.0\n",
       "2     87046.0\n",
       "3    190000.0\n",
       "4    116000.0\n",
       "Name: odometer, dtype: float64"
      ]
     },
     "execution_count": 8,
     "metadata": {},
     "output_type": "execute_result"
    }
   ],
   "source": [
    "from sklearn.impute import SimpleImputer\n",
    "\n",
    "imr = SimpleImputer(strategy='mean')\n",
    "imr = imr.fit(df[['odometer']])\n",
    "imputed_data = imr.transform(df[['odometer']])\n",
    "df['odometer'] = pd.DataFrame(imputed_data)\n",
    "df['odometer'].head()"
   ]
  },
  {
   "cell_type": "code",
   "execution_count": 9,
   "metadata": {},
   "outputs": [],
   "source": [
    "df.dropna(inplace=True)"
   ]
  },
  {
   "cell_type": "code",
   "execution_count": 10,
   "metadata": {},
   "outputs": [
    {
     "data": {
      "image/png": "[encoded data removed]",
      "text/plain": [
       "<Figure size 1008x720 with 1 Axes>"
      ]
     },
     "metadata": {
      "needs_background": "light"
     },
     "output_type": "display_data"
    }
   ],
   "source": [
    "fig, ax = plt.subplots(figsize=(14,10))\n",
    "sns.heatmap(df.isnull(), cbar=False, cmap=\"Greys_r\")\n",
    "plt.show()"
   ]
  },
  {
   "cell_type": "code",
   "execution_count": 11,
   "metadata": {},
   "outputs": [
    {
     "data": {
      "text/plain": [
       "<bound method IndexOpsMixin.value_counts of 3          2000\n",
       "4         19500\n",
       "6         39990\n",
       "7         41990\n",
       "11        36990\n",
       "          ...  \n",
       "458206     5300\n",
       "458208    14995\n",
       "458209    17895\n",
       "458210    17900\n",
       "458211     1300\n",
       "Name: price, Length: 140601, dtype: int64>"
      ]
     },
     "execution_count": 11,
     "metadata": {},
     "output_type": "execute_result"
    }
   ],
   "source": [
    "df['price'].value_counts"
   ]
  },
  {
   "cell_type": "code",
   "execution_count": 12,
   "metadata": {},
   "outputs": [],
   "source": [
    "df = df[df['price'] > 100]\n",
    "df = df[df['price'] < 300000]"
   ]
  },
  {
   "cell_type": "code",
   "execution_count": 13,
   "metadata": {},
   "outputs": [
    {
     "data": {
      "text/plain": [
       "134982"
      ]
     },
     "execution_count": 13,
     "metadata": {},
     "output_type": "execute_result"
    }
   ],
   "source": [
    "len(df)"
   ]
  },
  {
   "cell_type": "code",
   "execution_count": 14,
   "metadata": {
    "scrolled": true
   },
   "outputs": [
    {
     "data": {
      "text/html": [
       "<div>\n",
       "<style scoped>\n",
       "    .dataframe tbody tr th:only-of-type {\n",
       "        vertical-align: middle;\n",
       "    }\n",
       "\n",
       "    .dataframe tbody tr th {\n",
       "        vertical-align: top;\n",
       "    }\n",
       "\n",
       "    .dataframe thead th {\n",
       "        text-align: right;\n",
       "    }\n",
       "</style>\n",
       "<table border=\"1\" class=\"dataframe\">\n",
       "  <thead>\n",
       "    <tr style=\"text-align: right;\">\n",
       "      <th></th>\n",
       "      <th>price</th>\n",
       "      <th>year</th>\n",
       "      <th>manufacturer</th>\n",
       "      <th>model</th>\n",
       "      <th>condition</th>\n",
       "      <th>cylinders</th>\n",
       "      <th>fuel</th>\n",
       "      <th>odometer</th>\n",
       "      <th>title_status</th>\n",
       "      <th>transmission</th>\n",
       "      <th>drive</th>\n",
       "      <th>type</th>\n",
       "      <th>paint_color</th>\n",
       "      <th>posting_date</th>\n",
       "    </tr>\n",
       "  </thead>\n",
       "  <tbody>\n",
       "    <tr>\n",
       "      <th>3</th>\n",
       "      <td>2000</td>\n",
       "      <td>1974.0</td>\n",
       "      <td>chevrolet</td>\n",
       "      <td>c-10</td>\n",
       "      <td>good</td>\n",
       "      <td>4 cylinders</td>\n",
       "      <td>gas</td>\n",
       "      <td>190000.0</td>\n",
       "      <td>clean</td>\n",
       "      <td>automatic</td>\n",
       "      <td>rwd</td>\n",
       "      <td>pickup</td>\n",
       "      <td>blue</td>\n",
       "      <td>2020-12-01T15:54:45-0600</td>\n",
       "    </tr>\n",
       "    <tr>\n",
       "      <th>4</th>\n",
       "      <td>19500</td>\n",
       "      <td>2005.0</td>\n",
       "      <td>ford</td>\n",
       "      <td>f350 lariat</td>\n",
       "      <td>excellent</td>\n",
       "      <td>8 cylinders</td>\n",
       "      <td>diesel</td>\n",
       "      <td>116000.0</td>\n",
       "      <td>lien</td>\n",
       "      <td>automatic</td>\n",
       "      <td>4wd</td>\n",
       "      <td>pickup</td>\n",
       "      <td>blue</td>\n",
       "      <td>2020-12-01T12:53:56-0600</td>\n",
       "    </tr>\n",
       "    <tr>\n",
       "      <th>6</th>\n",
       "      <td>39990</td>\n",
       "      <td>2012.0</td>\n",
       "      <td>ford</td>\n",
       "      <td>mustang shelby gt500 coupe</td>\n",
       "      <td>good</td>\n",
       "      <td>8 cylinders</td>\n",
       "      <td>gas</td>\n",
       "      <td>9692.0</td>\n",
       "      <td>clean</td>\n",
       "      <td>other</td>\n",
       "      <td>rwd</td>\n",
       "      <td>coupe</td>\n",
       "      <td>blue</td>\n",
       "      <td>2020-11-30T13:34:00-0600</td>\n",
       "    </tr>\n",
       "    <tr>\n",
       "      <th>7</th>\n",
       "      <td>41990</td>\n",
       "      <td>2012.0</td>\n",
       "      <td>chevrolet</td>\n",
       "      <td>camaro zl1 coupe 2d</td>\n",
       "      <td>good</td>\n",
       "      <td>8 cylinders</td>\n",
       "      <td>gas</td>\n",
       "      <td>2778.0</td>\n",
       "      <td>clean</td>\n",
       "      <td>other</td>\n",
       "      <td>rwd</td>\n",
       "      <td>coupe</td>\n",
       "      <td>red</td>\n",
       "      <td>2020-11-29T07:39:33-0600</td>\n",
       "    </tr>\n",
       "    <tr>\n",
       "      <th>11</th>\n",
       "      <td>36990</td>\n",
       "      <td>2013.0</td>\n",
       "      <td>bmw</td>\n",
       "      <td>m3 coupe 2d</td>\n",
       "      <td>good</td>\n",
       "      <td>8 cylinders</td>\n",
       "      <td>gas</td>\n",
       "      <td>50956.0</td>\n",
       "      <td>clean</td>\n",
       "      <td>other</td>\n",
       "      <td>rwd</td>\n",
       "      <td>coupe</td>\n",
       "      <td>black</td>\n",
       "      <td>2020-11-27T07:21:42-0600</td>\n",
       "    </tr>\n",
       "  </tbody>\n",
       "</table>\n",
       "</div>"
      ],
      "text/plain": [
       "    price    year manufacturer                       model  condition  \\\n",
       "3    2000  1974.0    chevrolet                        c-10       good   \n",
       "4   19500  2005.0         ford                 f350 lariat  excellent   \n",
       "6   39990  2012.0         ford  mustang shelby gt500 coupe       good   \n",
       "7   41990  2012.0    chevrolet         camaro zl1 coupe 2d       good   \n",
       "11  36990  2013.0          bmw                 m3 coupe 2d       good   \n",
       "\n",
       "      cylinders    fuel  odometer title_status transmission drive    type  \\\n",
       "3   4 cylinders     gas  190000.0        clean    automatic   rwd  pickup   \n",
       "4   8 cylinders  diesel  116000.0         lien    automatic   4wd  pickup   \n",
       "6   8 cylinders     gas    9692.0        clean        other   rwd   coupe   \n",
       "7   8 cylinders     gas    2778.0        clean        other   rwd   coupe   \n",
       "11  8 cylinders     gas   50956.0        clean        other   rwd   coupe   \n",
       "\n",
       "   paint_color              posting_date  \n",
       "3         blue  2020-12-01T15:54:45-0600  \n",
       "4         blue  2020-12-01T12:53:56-0600  \n",
       "6         blue  2020-11-30T13:34:00-0600  \n",
       "7          red  2020-11-29T07:39:33-0600  \n",
       "11       black  2020-11-27T07:21:42-0600  "
      ]
     },
     "execution_count": 14,
     "metadata": {},
     "output_type": "execute_result"
    }
   ],
   "source": [
    "df.head()"
   ]
  },
  {
   "cell_type": "code",
   "execution_count": 15,
   "metadata": {},
   "outputs": [
    {
     "data": {
      "text/html": [
       "<div>\n",
       "<style scoped>\n",
       "    .dataframe tbody tr th:only-of-type {\n",
       "        vertical-align: middle;\n",
       "    }\n",
       "\n",
       "    .dataframe tbody tr th {\n",
       "        vertical-align: top;\n",
       "    }\n",
       "\n",
       "    .dataframe thead th {\n",
       "        text-align: right;\n",
       "    }\n",
       "</style>\n",
       "<table border=\"1\" class=\"dataframe\">\n",
       "  <thead>\n",
       "    <tr style=\"text-align: right;\">\n",
       "      <th></th>\n",
       "      <th>price</th>\n",
       "      <th>year</th>\n",
       "      <th>manufacturer</th>\n",
       "      <th>model</th>\n",
       "      <th>condition</th>\n",
       "      <th>cylinders</th>\n",
       "      <th>fuel</th>\n",
       "      <th>odometer</th>\n",
       "      <th>title_status</th>\n",
       "      <th>transmission</th>\n",
       "      <th>drive</th>\n",
       "      <th>type</th>\n",
       "      <th>paint_color</th>\n",
       "      <th>posting_date</th>\n",
       "    </tr>\n",
       "  </thead>\n",
       "  <tbody>\n",
       "    <tr>\n",
       "      <th>3</th>\n",
       "      <td>2000</td>\n",
       "      <td>1974.0</td>\n",
       "      <td>7</td>\n",
       "      <td>2488</td>\n",
       "      <td>2</td>\n",
       "      <td>3</td>\n",
       "      <td>2</td>\n",
       "      <td>190000.0</td>\n",
       "      <td>0</td>\n",
       "      <td>0</td>\n",
       "      <td>2</td>\n",
       "      <td>8</td>\n",
       "      <td>1</td>\n",
       "      <td>113089</td>\n",
       "    </tr>\n",
       "    <tr>\n",
       "      <th>4</th>\n",
       "      <td>19500</td>\n",
       "      <td>2005.0</td>\n",
       "      <td>13</td>\n",
       "      <td>5794</td>\n",
       "      <td>0</td>\n",
       "      <td>6</td>\n",
       "      <td>0</td>\n",
       "      <td>116000.0</td>\n",
       "      <td>1</td>\n",
       "      <td>0</td>\n",
       "      <td>0</td>\n",
       "      <td>8</td>\n",
       "      <td>1</td>\n",
       "      <td>110498</td>\n",
       "    </tr>\n",
       "    <tr>\n",
       "      <th>6</th>\n",
       "      <td>39990</td>\n",
       "      <td>2012.0</td>\n",
       "      <td>13</td>\n",
       "      <td>8311</td>\n",
       "      <td>2</td>\n",
       "      <td>6</td>\n",
       "      <td>2</td>\n",
       "      <td>9692.0</td>\n",
       "      <td>0</td>\n",
       "      <td>2</td>\n",
       "      <td>2</td>\n",
       "      <td>3</td>\n",
       "      <td>1</td>\n",
       "      <td>100207</td>\n",
       "    </tr>\n",
       "    <tr>\n",
       "      <th>7</th>\n",
       "      <td>41990</td>\n",
       "      <td>2012.0</td>\n",
       "      <td>7</td>\n",
       "      <td>2713</td>\n",
       "      <td>2</td>\n",
       "      <td>6</td>\n",
       "      <td>2</td>\n",
       "      <td>2778.0</td>\n",
       "      <td>0</td>\n",
       "      <td>2</td>\n",
       "      <td>2</td>\n",
       "      <td>3</td>\n",
       "      <td>8</td>\n",
       "      <td>91292</td>\n",
       "    </tr>\n",
       "    <tr>\n",
       "      <th>11</th>\n",
       "      <td>36990</td>\n",
       "      <td>2013.0</td>\n",
       "      <td>4</td>\n",
       "      <td>7744</td>\n",
       "      <td>2</td>\n",
       "      <td>6</td>\n",
       "      <td>2</td>\n",
       "      <td>50956.0</td>\n",
       "      <td>0</td>\n",
       "      <td>2</td>\n",
       "      <td>2</td>\n",
       "      <td>3</td>\n",
       "      <td>0</td>\n",
       "      <td>77312</td>\n",
       "    </tr>\n",
       "  </tbody>\n",
       "</table>\n",
       "</div>"
      ],
      "text/plain": [
       "    price    year  manufacturer  model  condition  cylinders  fuel  odometer  \\\n",
       "3    2000  1974.0             7   2488          2          3     2  190000.0   \n",
       "4   19500  2005.0            13   5794          0          6     0  116000.0   \n",
       "6   39990  2012.0            13   8311          2          6     2    9692.0   \n",
       "7   41990  2012.0             7   2713          2          6     2    2778.0   \n",
       "11  36990  2013.0             4   7744          2          6     2   50956.0   \n",
       "\n",
       "    title_status  transmission  drive  type  paint_color  posting_date  \n",
       "3              0             0      2     8            1        113089  \n",
       "4              1             0      0     8            1        110498  \n",
       "6              0             2      2     3            1        100207  \n",
       "7              0             2      2     3            8         91292  \n",
       "11             0             2      2     3            0         77312  "
      ]
     },
     "execution_count": 15,
     "metadata": {},
     "output_type": "execute_result"
    }
   ],
   "source": [
    "from sklearn import preprocessing\n",
    "\n",
    "def encode_features(dataframe):\n",
    "    result = dataframe.copy()\n",
    "    encoders = {}\n",
    "    for column in result.columns:\n",
    "        if result.dtypes[column] == np.object:\n",
    "            encoders[column] = preprocessing.LabelEncoder()\n",
    "            result[column] = encoders[column].fit_transform(result[column])\n",
    "    return result, encoders\n",
    "\n",
    "# 'description'\n",
    "encoded_df, encoders = encode_features(df) \n",
    "encoded_df.head()"
   ]
  },
  {
   "cell_type": "code",
   "execution_count": 16,
   "metadata": {},
   "outputs": [
    {
     "name": "stdout",
     "output_type": "stream",
     "text": [
      "Features' hists plotted\n"
     ]
    },
    {
     "data": {
      "image/png": "[encoded data removed]",
      "text/plain": [
       "<Figure size 1296x576 with 15 Axes>"
      ]
     },
     "metadata": {
      "needs_background": "light"
     },
     "output_type": "display_data"
    }
   ],
   "source": [
    "encoded_df.hist(figsize=(18, 8), layout=(3,5), bins=20)\n",
    "print('Features\\' hists plotted')"
   ]
  },
  {
   "cell_type": "code",
   "execution_count": 17,
   "metadata": {},
   "outputs": [
    {
     "data": {
      "image/png": "[encoded data removed]",
      "text/plain": [
       "<Figure size 1224x1080 with 2 Axes>"
      ]
     },
     "metadata": {
      "needs_background": "light"
     },
     "output_type": "display_data"
    }
   ],
   "source": [
    "plt.subplots(figsize=(17, 15))\n",
    "sns.heatmap(encoded_df.corr(), square = True, annot=True)\n",
    "plt.show()"
   ]
  },
  {
   "cell_type": "markdown",
   "metadata": {},
   "source": [
    "#### Model estimation"
   ]
  },
  {
   "cell_type": "code",
   "execution_count": 18,
   "metadata": {},
   "outputs": [
    {
     "data": {
      "text/plain": [
       "((134982, 13), (134982,))"
      ]
     },
     "execution_count": 18,
     "metadata": {},
     "output_type": "execute_result"
    }
   ],
   "source": [
    "y = np.array(encoded_df['price'])\n",
    "del encoded_df['price']\n",
    "X = encoded_df.values\n",
    "X.shape, y.shape"
   ]
  },
  {
   "cell_type": "code",
   "execution_count": 19,
   "metadata": {},
   "outputs": [],
   "source": [
    "from sklearn.model_selection import train_test_split\n",
    "\n",
    "X_train, X_test, y_train, y_test = train_test_split(X, y, test_size=0.2, random_state=0)"
   ]
  },
  {
   "cell_type": "code",
   "execution_count": 20,
   "metadata": {},
   "outputs": [],
   "source": [
    "from sklearn.preprocessing import StandardScaler\n",
    "\n",
    "stdsc = StandardScaler()\n",
    "X_train = stdsc.fit_transform(X_train)\n",
    "X_test = stdsc.transform(X_test)"
   ]
  },
  {
   "cell_type": "markdown",
   "metadata": {},
   "source": [
    "##### Linear regression"
   ]
  },
  {
   "cell_type": "code",
   "execution_count": 21,
   "metadata": {},
   "outputs": [
    {
     "name": "stdout",
     "output_type": "stream",
     "text": [
      "CPU times: user 104 ms, sys: 4.95 ms, total: 109 ms\n",
      "Wall time: 39.3 ms\n"
     ]
    },
    {
     "data": {
      "text/plain": [
       "LinearRegression()"
      ]
     },
     "execution_count": 21,
     "metadata": {},
     "output_type": "execute_result"
    }
   ],
   "source": [
    "%%time\n",
    "from sklearn.metrics import r2_score, mean_absolute_error\n",
    "from sklearn.linear_model import LinearRegression\n",
    "\n",
    "linreg = LinearRegression()\n",
    "linreg.fit(X_train, y_train)"
   ]
  },
  {
   "cell_type": "code",
   "execution_count": 22,
   "metadata": {},
   "outputs": [
    {
     "name": "stdout",
     "output_type": "stream",
     "text": [
      "R2 linreg:  0.35222200572800366\n",
      "MAE linreg:  6758.956911575239\n"
     ]
    }
   ],
   "source": [
    "preds = linreg.predict(X_test)\n",
    "print('R2 linreg: ', r2_score(y_test, preds))\n",
    "print('MAE linreg: ', mean_absolute_error(y_test, preds))"
   ]
  },
  {
   "cell_type": "markdown",
   "metadata": {},
   "source": [
    "##### XGBoost"
   ]
  },
  {
   "cell_type": "raw",
   "metadata": {},
   "source": [
    "pip install xgboost"
   ]
  },
  {
   "cell_type": "code",
   "execution_count": 23,
   "metadata": {},
   "outputs": [
    {
     "name": "stdout",
     "output_type": "stream",
     "text": [
      "CPU times: user 1min 46s, sys: 1.8 s, total: 1min 48s\n",
      "Wall time: 1min 2s\n",
      "Best score:  0.8654815528182235\n",
      "Best parameters:  {'learning_rate': 0.1, 'max_depth': 7, 'n_estimators': 150, 'reg_lambda': 0.5}\n"
     ]
    }
   ],
   "source": [
    "from sklearn.model_selection import GridSearchCV\n",
    "import xgboost as xgb\n",
    "\n",
    "alg = xgb.XGBRegressor() \n",
    "grid = {'n_estimators': [50, 150], \n",
    "        'learning_rate': [0.01, 0.1],\n",
    "        'max_depth': [4, 7],\n",
    "        'reg_lambda': [0.5]}\n",
    "gs = GridSearchCV(estimator=alg, param_grid=grid, cv=5, n_jobs=-1)\n",
    "%time gs.fit(X_train, y_train)\n",
    "print('Best score: ', gs.best_score_)\n",
    "print('Best parameters: ', gs.best_params_)"
   ]
  },
  {
   "cell_type": "code",
   "execution_count": 24,
   "metadata": {},
   "outputs": [
    {
     "data": {
      "text/plain": [
       "XGBRegressor(base_score=0.5, booster='gbtree', colsample_bylevel=1,\n",
       "             colsample_bynode=1, colsample_bytree=1, gamma=0, gpu_id=-1,\n",
       "             importance_type='gain', interaction_constraints='',\n",
       "             learning_rate=0.1, max_delta_step=0, max_depth=7,\n",
       "             min_child_weight=1, missing=nan, monotone_constraints='()',\n",
       "             n_estimators=150, n_jobs=16, num_parallel_tree=1, random_state=0,\n",
       "             reg_alpha=0, reg_lambda=0.5, scale_pos_weight=1, subsample=1,\n",
       "             tree_method='exact', validate_parameters=1, verbosity=None)"
      ]
     },
     "execution_count": 24,
     "metadata": {},
     "output_type": "execute_result"
    }
   ],
   "source": [
    "xgb = gs.best_estimator_\n",
    "xgb.fit(X_train, y_train)"
   ]
  },
  {
   "cell_type": "code",
   "execution_count": 25,
   "metadata": {},
   "outputs": [
    {
     "name": "stdout",
     "output_type": "stream",
     "text": [
      "R2 xgb:  0.8553066121739652\n",
      "MAE xgb:  2365.5661418318646\n"
     ]
    }
   ],
   "source": [
    "preds = xgb.predict(X_test)\n",
    "print('R2 xgb: ', r2_score(y_test, preds))\n",
    "print('MAE xgb: ', mean_absolute_error(y_test, preds))"
   ]
  },
  {
   "cell_type": "markdown",
   "metadata": {},
   "source": [
    "### Test cases"
   ]
  },
  {
   "cell_type": "markdown",
   "metadata": {},
   "source": [
    "In order to test the model drift detection mechanism, we split the original data set into four groups (for simplicity, we are ignoring VINs ending in a letter and NULLs):\n",
    "\n",
    "<ol>\n",
    "    <li> Training set (1) - All VINs ending in 2, 3, 4, or 5. This data set allows us to train our model(s) with reasonable accuracy and consistency.</li>\n",
    "    <li> Training set (2) - Append all VINs ending in 6 to training set (1.) and retrain the model. In expectation, the model and its predictions should be quite close to the model trained based on (1.) and not trigger the outlier detection mechanism.</li>\n",
    "    <li> Training set (3) - Take all VINs ending in 7, 8, 9, or 0, with their sale prices artificially ultiplied by a factor of 10. When appending this data to (1.) and (2.) and retraining the model, the model parameters and its predictions should be quite different than those obtained previously, which in turn should trigger the outlier detection mechanism.</li>\n",
    "    <li> Scoring set - All VINs ending in 1. We will use this data set for prediction purposes. In expectation, the average price predictions based on a model trained on data sets (1.) and (2.) should be quite close and not trigger the outlier detection mechanism. However, when the data from set (3.) is used for model training, we expect the average predictions to change substantially from those obtained previously, thus triggering the outlier detection mechanism.</li>\n",
    "    </ol>"
   ]
  },
  {
   "cell_type": "code",
   "execution_count": 26,
   "metadata": {},
   "outputs": [
    {
     "data": {
      "text/plain": [
       "count                270664\n",
       "unique               133620\n",
       "top       1C4HJWDG6HL702229\n",
       "freq                    194\n",
       "Name: VIN, dtype: object"
      ]
     },
     "execution_count": 26,
     "metadata": {},
     "output_type": "execute_result"
    }
   ],
   "source": [
    "data['VIN'].describe()"
   ]
  },
  {
   "cell_type": "code",
   "execution_count": 27,
   "metadata": {},
   "outputs": [],
   "source": [
    "data['last_digit'] = data['VIN'].str.slice(start=-1)"
   ]
  },
  {
   "cell_type": "code",
   "execution_count": 28,
   "metadata": {},
   "outputs": [
    {
     "data": {
      "text/plain": [
       "1    27985\n",
       "9    27386\n",
       "0    27383\n",
       "8    27330\n",
       "5    27197\n",
       "7    26857\n",
       "6    26829\n",
       "4    26725\n",
       "2    26501\n",
       "3    26280\n",
       "X       79\n",
       "M        9\n",
       "O        9\n",
       "G        8\n",
       "K        8\n",
       "A        8\n",
       "R        8\n",
       "E        8\n",
       "B        7\n",
       "U        7\n",
       "D        6\n",
       "L        5\n",
       "Y        5\n",
       "N        4\n",
       "S        4\n",
       "T        4\n",
       "Z        4\n",
       "F        2\n",
       "P        2\n",
       "C        2\n",
       "W        1\n",
       "H        1\n",
       "Name: last_digit, dtype: int64"
      ]
     },
     "execution_count": 28,
     "metadata": {},
     "output_type": "execute_result"
    }
   ],
   "source": [
    "data['last_digit'].value_counts()"
   ]
  },
  {
   "cell_type": "code",
   "execution_count": 29,
   "metadata": {},
   "outputs": [
    {
     "data": {
      "text/plain": [
       "(106703, 27)"
      ]
     },
     "execution_count": 29,
     "metadata": {},
     "output_type": "execute_result"
    }
   ],
   "source": [
    "train_1 = data[data['last_digit'].isin(['2', '3', '4', '5'])]\n",
    "train_1.shape"
   ]
  },
  {
   "cell_type": "code",
   "execution_count": 30,
   "metadata": {},
   "outputs": [
    {
     "data": {
      "text/plain": [
       "(133532, 27)"
      ]
     },
     "execution_count": 30,
     "metadata": {},
     "output_type": "execute_result"
    }
   ],
   "source": [
    "train_2 = data[data['last_digit'] == '6']\n",
    "train_2 = train_2.append(train_1)\n",
    "train_2.shape"
   ]
  },
  {
   "cell_type": "code",
   "execution_count": 31,
   "metadata": {},
   "outputs": [
    {
     "name": "stderr",
     "output_type": "stream",
     "text": [
      "<ipython-input-31-fa77eb101a37>:2: SettingWithCopyWarning: \n",
      "A value is trying to be set on a copy of a slice from a DataFrame.\n",
      "Try using .loc[row_indexer,col_indexer] = value instead\n",
      "\n",
      "See the caveats in the documentation: https://pandas.pydata.org/pandas-docs/stable/user_guide/indexing.html#returning-a-view-versus-a-copy\n",
      "  train_3['price'] = train_3['price']*10\n"
     ]
    },
    {
     "data": {
      "text/plain": [
       "(242488, 27)"
      ]
     },
     "execution_count": 31,
     "metadata": {},
     "output_type": "execute_result"
    }
   ],
   "source": [
    "train_3 = data[data['last_digit'].isin(['7', '8', '9', '0'])]\n",
    "train_3['price'] = train_3['price']*10\n",
    "train_3 = train_3.append(train_2)\n",
    "train_3.shape"
   ]
  },
  {
   "cell_type": "code",
   "execution_count": 32,
   "metadata": {},
   "outputs": [
    {
     "data": {
      "text/plain": [
       "(27985, 27)"
      ]
     },
     "execution_count": 32,
     "metadata": {},
     "output_type": "execute_result"
    }
   ],
   "source": [
    "scoring = data[data['last_digit'] == '1']\n",
    "scoring.shape"
   ]
  }
 ],
 "metadata": {
  "kernelspec": {
   "display_name": "conda_python3",
   "language": "python",
   "name": "conda_python3"
  },
  "language_info": {
   "codemirror_mode": {
    "name": "ipython",
    "version": 3
   },
   "file_extension": ".py",
   "mimetype": "text/x-python",
   "name": "python",
   "nbconvert_exporter": "python",
   "pygments_lexer": "ipython3",
   "version": "3.6.13"
  }
 },
 "nbformat": 4,
 "nbformat_minor": 4
}
