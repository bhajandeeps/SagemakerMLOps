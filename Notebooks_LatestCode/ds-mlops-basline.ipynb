{
 "cells": [
  {
   "cell_type": "markdown",
   "id": "b69c245e",
   "metadata": {},
   "source": [
    "Installing required libraries for stepfunctions"
   ]
  },
  {
   "cell_type": "code",
   "execution_count": 1,
   "id": "4496e4c0",
   "metadata": {},
   "outputs": [
    {
     "name": "stdout",
     "output_type": "stream",
     "text": [
      "Requirement already satisfied: pip in /home/ec2-user/anaconda3/envs/python3/lib/python3.6/site-packages (21.1.2)\n",
      "Collecting pip\n",
      "  Downloading pip-21.2.2-py3-none-any.whl (1.6 MB)\n",
      "\u001b[K     |████████████████████████████████| 1.6 MB 22.7 MB/s eta 0:00:01\n",
      "\u001b[?25hInstalling collected packages: pip\n",
      "  Attempting uninstall: pip\n",
      "    Found existing installation: pip 21.1.2\n",
      "    Uninstalling pip-21.1.2:\n",
      "      Successfully uninstalled pip-21.1.2\n",
      "Successfully installed pip-21.2.2\n",
      "\u001b[31mERROR: pip's dependency resolver does not currently take into account all the packages that are installed. This behaviour is the source of the following dependency conflicts.\n",
      "aiobotocore 1.3.0 requires botocore<1.20.50,>=1.20.49, but you have botocore 1.21.13 which is incompatible.\u001b[0m\n",
      "Name: sagemaker\n",
      "Version: 2.51.0\n",
      "Summary: Open source library for training and deploying models on Amazon SageMaker.\n",
      "Home-page: https://github.com/aws/sagemaker-python-sdk/\n",
      "Author: Amazon Web Services\n",
      "Author-email: \n",
      "License: Apache License 2.0\n",
      "Location: /home/ec2-user/anaconda3/envs/python3/lib/python3.6/site-packages\n",
      "Requires: attrs, boto3, pathos, numpy, packaging, smdebug-rulesconfig, protobuf3-to-dict, pandas, importlib-metadata, google-pasta, protobuf\n",
      "Required-by: stepfunctions\n",
      "---\n",
      "Name: stepfunctions\n",
      "Version: 2.2.0\n",
      "Summary: Open source library for develping data science workflows on AWS Step Functions.\n",
      "Home-page: https://github.com/aws/aws-step-functions-data-science-sdk-python\n",
      "Author: Amazon Web Services\n",
      "Author-email: \n",
      "License: Apache License 2.0\n",
      "Location: /home/ec2-user/anaconda3/envs/python3/lib/python3.6/site-packages\n",
      "Requires: pyyaml, boto3, sagemaker\n",
      "Required-by: \n"
     ]
    }
   ],
   "source": [
    " import sys\n",
    " !{sys.executable} -m pip install --upgrade pip\n",
    " !{sys.executable} -m pip install -qU awscli boto3 \"sagemaker>=2.0.0\"\n",
    " !{sys.executable} -m pip install -qU \"stepfunctions>=2.0.0\"\n",
    " !{sys.executable} -m pip show sagemaker stepfunctions"
   ]
  },
  {
   "cell_type": "markdown",
   "id": "cab40d6e",
   "metadata": {},
   "source": [
    "# 1. Setting up notebook with parameters and libraries"
   ]
  },
  {
   "cell_type": "code",
   "execution_count": 2,
   "id": "4a0001cc",
   "metadata": {},
   "outputs": [],
   "source": [
    "# importing Python libraies\n",
    "import stepfunctions\n",
    "import logging\n",
    "\n",
    "from stepfunctions.steps import *\n",
    "from stepfunctions.workflow import Workflow\n",
    "from stepfunctions import steps\n",
    "from stepfunctions.inputs import ExecutionInput\n",
    "from sagemaker.processing import Processor,ProcessingInput, ProcessingOutput\n",
    "import calendar\n",
    "import time\n",
    "import sagemaker\n",
    "from sagemaker.inputs import TrainingInput\n",
    "import boto3\n",
    "from sagemaker.network import NetworkConfig\n",
    "\n",
    "stepfunctions.set_stream_logger(level=logging.INFO)"
   ]
  },
  {
   "cell_type": "markdown",
   "id": "ab48183f",
   "metadata": {},
   "source": [
    "### Defining paramters\n",
    "\n",
    "This needs to be changed if we are taking it to different environment"
   ]
  },
  {
   "cell_type": "code",
   "execution_count": 3,
   "id": "e8d5a597",
   "metadata": {},
   "outputs": [],
   "source": [
    "v_workflow_execution_role = \"arn:aws:iam::525102048888:role/poc-sagemaker-step-functi-MachineLearningWorkflowE-1XFI2UPRXFTXE\" # Step function IAM role ARN\n",
    "v_preprocessing_iam_role = \"arn:aws:iam::525102048888:role/service-role/AmazonSageMaker-ExecutionRole-20191105T125227\" # IAM role for preprocessing container\n",
    "v_preprocessing_instance_type = \"ml.m5.xlarge\" # Instance type for preprocessing container it changes as per workload\n",
    "v_s3_input_bucket = \"wipcoe-ml-s3-data-bucket\" # S3 bucket for input and output data\n",
    "v_prefix_for_input_data = \"data/output/lr/baselineinp/train_baseline.csv\"  # Prefix where data is stored\n",
    "v_region = 'us-east-1' # AWS region\n",
    "sec_groups = [\"sg-044e0e7ce4f5721c0\"]\n",
    "subnets = [\"subnet-0cf0e3f46326aa259\",\n",
    "           \"subnet-0156b7f5500cf0b78\",\n",
    "           \"subnet-032420199163cff9b\"]\n",
    "config_bucket = \"wipcoe-datalake-init-s3-mlops-config\""
   ]
  },
  {
   "cell_type": "markdown",
   "id": "7e1b4b05",
   "metadata": {},
   "source": [
    "## 2. Defining preprocessing jobs"
   ]
  },
  {
   "cell_type": "code",
   "execution_count": 4,
   "id": "6958da12",
   "metadata": {},
   "outputs": [],
   "source": [
    "# Defining environment config for baseline jobs\n",
    "environment = {\n",
    "          \"dataset_format\": \"{\\\"csv\\\":{\\\"header\\\":\\\"True\\\"}}\",\n",
    "          \"dataset_source\": \"/opt/ml/processing/input/baseline_dataset_input\",\n",
    "          \"output_path\": \"/opt/ml/processing/output\",\n",
    "          \"publish_cloudwatch_metrics\": \"Disabled\"\n",
    "        }"
   ]
  },
  {
   "cell_type": "code",
   "execution_count": 5,
   "id": "9fc98c78",
   "metadata": {},
   "outputs": [],
   "source": [
    "# Here we are creating baseline preprocesor\n",
    "baseline_processor = Processor(image_uri='156813124566.dkr.ecr.us-east-1.amazonaws.com/sagemaker-model-monitor-analyzer',\n",
    "                     role=v_preprocessing_iam_role,\n",
    "                     instance_count=1,\n",
    "                     instance_type=v_preprocessing_instance_type,\n",
    "                     network_config = NetworkConfig(security_group_ids = sec_groups, subnets = subnets),\n",
    "                     env=environment)"
   ]
  },
  {
   "cell_type": "code",
   "execution_count": 6,
   "id": "a15dcd92",
   "metadata": {},
   "outputs": [],
   "source": [
    "input_data = \"s3://{}/{}\".format(v_s3_input_bucket,v_prefix_for_input_data)\n",
    "inputs = [\n",
    "    ProcessingInput(\n",
    "        source=input_data, destination=\"/opt/ml/processing/input/baseline_dataset_input\", input_name=\"input_data\"\n",
    "    )\n",
    "]\n",
    "\n",
    "outputs = [\n",
    "    ProcessingOutput(\n",
    "        source=\"/opt/ml/processing/output\",\n",
    "        destination=\"s3://{}/{}\".format(config_bucket,\"customonitor/\"),\n",
    "        output_name=\"tr_data\",\n",
    "    )\n",
    "]\n",
    "gmt = time.gmtime()\n",
    "ts = calendar.timegm(gmt)\n",
    "baseline_name = \"baseline-{}\".format(ts)"
   ]
  },
  {
   "cell_type": "code",
   "execution_count": 7,
   "id": "8ef00a5c",
   "metadata": {},
   "outputs": [
    {
     "name": "stdout",
     "output_type": "stream",
     "text": [
      "s3://wipcoe-datalake-init-s3-mlops-config/customonitor\n"
     ]
    }
   ],
   "source": [
    "print(\"s3://{}/{}\".format(config_bucket,\"customonitor\"))\n"
   ]
  },
  {
   "cell_type": "code",
   "execution_count": 8,
   "id": "ac95057a",
   "metadata": {},
   "outputs": [],
   "source": [
    "baseline_preprocessing_step = steps.ProcessingStep(\n",
    "    state_id='Baseline', \n",
    "    processor=baseline_processor,\n",
    "    job_name=baseline_name, \n",
    "    inputs=inputs, \n",
    "    outputs=outputs, \n",
    "    experiment_config=None, \n",
    "    wait_for_completion=True\n",
    ")"
   ]
  },
  {
   "cell_type": "markdown",
   "id": "17e07e85",
   "metadata": {},
   "source": [
    "## 3. Step Function"
   ]
  },
  {
   "cell_type": "code",
   "execution_count": 9,
   "id": "dd000cff",
   "metadata": {},
   "outputs": [],
   "source": [
    "# First we chain the start pass state,preprocessing_step,\n",
    "basic_path=Chain([baseline_preprocessing_step])"
   ]
  },
  {
   "cell_type": "code",
   "execution_count": 10,
   "id": "1d9aff29",
   "metadata": {},
   "outputs": [
    {
     "data": {
      "text/html": [
       "\n",
       "<link rel=\"stylesheet\" type=\"text/css\" href=\"https://do0of8uwbahzz.cloudfront.net/graph.css\">\n",
       "<div id=\"graph-604\" class=\"workflowgraph\">\n",
       "    \n",
       "    <svg></svg>\n",
       "    \n",
       "</div>\n",
       "\n",
       "<script type=\"text/javascript\">\n",
       "\n",
       "require.config({\n",
       "    paths: {\n",
       "        sfn: \"https://do0of8uwbahzz.cloudfront.net/sfn\",\n",
       "    }\n",
       "});\n",
       "\n",
       "require(['sfn'], function(sfn) {\n",
       "    var element = document.getElementById('graph-604')\n",
       "\n",
       "    var options = {\n",
       "        width: parseFloat(getComputedStyle(element, null).width.replace(\"px\", \"\")),\n",
       "        height: 600,\n",
       "        layout: 'LR',\n",
       "        resizeHeight: true\n",
       "    };\n",
       "\n",
       "    var definition = {\"StartAt\": \"Baseline\", \"States\": {\"Baseline\": {\"Resource\": \"arn:aws:states:::sagemaker:createProcessingJob.sync\", \"Parameters\": {\"ProcessingJobName\": \"baseline-1628076211\", \"ProcessingInputs\": [{\"InputName\": \"input_data\", \"AppManaged\": false, \"S3Input\": {\"S3Uri\": \"s3://wipcoe-ml-s3-data-bucket/data/output/lr/baselineinp/train_baseline.csv\", \"LocalPath\": \"/opt/ml/processing/input/baseline_dataset_input\", \"S3DataType\": \"S3Prefix\", \"S3InputMode\": \"File\", \"S3DataDistributionType\": \"FullyReplicated\", \"S3CompressionType\": \"None\"}}], \"ProcessingOutputConfig\": {\"Outputs\": [{\"OutputName\": \"tr_data\", \"AppManaged\": false, \"S3Output\": {\"S3Uri\": \"s3://wipcoe-datalake-init-s3-mlops-config/customonitor/\", \"LocalPath\": \"/opt/ml/processing/output\", \"S3UploadMode\": \"EndOfJob\"}}]}, \"AppSpecification\": {\"ImageUri\": \"156813124566.dkr.ecr.us-east-1.amazonaws.com/sagemaker-model-monitor-analyzer\"}, \"RoleArn\": \"arn:aws:iam::525102048888:role/service-role/AmazonSageMaker-ExecutionRole-20191105T125227\", \"Environment\": {\"dataset_format\": \"{\\\"csv\\\":{\\\"header\\\":\\\"True\\\"}}\", \"dataset_source\": \"/opt/ml/processing/input/baseline_dataset_input\", \"output_path\": \"/opt/ml/processing/output\", \"publish_cloudwatch_metrics\": \"Disabled\"}, \"NetworkConfig\": {\"EnableNetworkIsolation\": false, \"VpcConfig\": {\"SecurityGroupIds\": [\"sg-044e0e7ce4f5721c0\"], \"Subnets\": [\"subnet-0cf0e3f46326aa259\", \"subnet-0156b7f5500cf0b78\", \"subnet-032420199163cff9b\"]}}, \"ProcessingResources\": {\"ClusterConfig\": {\"InstanceCount\": 1, \"InstanceType\": \"ml.m5.xlarge\", \"VolumeSizeInGB\": 30}}}, \"Type\": \"Task\", \"End\": true}}};\n",
       "    var elementId = '#graph-604';\n",
       "\n",
       "    var graph = new sfn.StateMachineGraph(definition, elementId, options);\n",
       "    graph.render();\n",
       "});\n",
       "\n",
       "</script>\n"
      ],
      "text/plain": [
       "<IPython.core.display.HTML object>"
      ]
     },
     "execution_count": 10,
     "metadata": {},
     "output_type": "execute_result"
    }
   ],
   "source": [
    "# Next, we define the workflow\n",
    "basic_workflow = Workflow(\n",
    "    name=\"ds-mlops-dev-baseline-job\",\n",
    "    definition=basic_path,\n",
    "    role=v_workflow_execution_role\n",
    ")\n",
    "\n",
    "#Render the workflow\n",
    "basic_workflow.render_graph()"
   ]
  },
  {
   "cell_type": "markdown",
   "id": "007e29a6",
   "metadata": {},
   "source": [
    "## 3.1 Create the workflow on AWS Step Functions\n",
    "\n",
    "Create the workflow in AWS Step Functions with [create](https://aws-step-functions-data-science-sdk.readthedocs.io/en/latest/workflow.html#stepfunctions.workflow.Workflow.create)."
   ]
  },
  {
   "cell_type": "code",
   "execution_count": 11,
   "id": "23d6efe5",
   "metadata": {},
   "outputs": [
    {
     "name": "stdout",
     "output_type": "stream",
     "text": [
      "\u001b[31m[ERROR] A workflow with the same name already exists on AWS Step Functions. To update a workflow, use Workflow.update().\u001b[0m\n"
     ]
    },
    {
     "data": {
      "text/plain": [
       "'arn:aws:states:us-east-1:525102048888:stateMachine:ds-mlops-dev-baseline-job'"
      ]
     },
     "execution_count": 11,
     "metadata": {},
     "output_type": "execute_result"
    }
   ],
   "source": [
    "basic_workflow.create()"
   ]
  },
  {
   "cell_type": "code",
   "execution_count": 12,
   "id": "75695869",
   "metadata": {
    "scrolled": true
   },
   "outputs": [
    {
     "name": "stdout",
     "output_type": "stream",
     "text": [
      "\u001b[32m[INFO] Workflow updated successfully on AWS Step Functions. All execute() calls will use the updated definition and role within a few seconds. \u001b[0m\n"
     ]
    },
    {
     "data": {
      "text/plain": [
       "'arn:aws:states:us-east-1:525102048888:stateMachine:ds-mlops-dev-baseline-job'"
      ]
     },
     "execution_count": 12,
     "metadata": {},
     "output_type": "execute_result"
    }
   ],
   "source": [
    "basic_workflow.update(definition=basic_workflow.definition,role=basic_workflow.role)"
   ]
  },
  {
   "cell_type": "code",
   "execution_count": 13,
   "id": "36c5f90c",
   "metadata": {},
   "outputs": [
    {
     "name": "stdout",
     "output_type": "stream",
     "text": [
      "\u001b[32m[INFO] Workflow execution started successfully on AWS Step Functions.\u001b[0m\n"
     ]
    }
   ],
   "source": [
    "basic_workflow_execution = basic_workflow.execute(\n",
    "    inputs={\n",
    "    }\n",
    ")"
   ]
  },
  {
   "cell_type": "markdown",
   "id": "19712784",
   "metadata": {},
   "source": [
    "## 3.2 Review the execution progress\n",
    "\n",
    "Render workflow progress with the [render_progress](https://aws-step-functions-data-science-sdk.readthedocs.io/en/latest/workflow.html#stepfunctions.workflow.Execution.render_progress).\n",
    "\n",
    "This generates a snapshot of the current state of your workflow as it executes. This is a static image. Run the cell again to check progress. "
   ]
  },
  {
   "cell_type": "code",
   "execution_count": 14,
   "id": "cbfa427e",
   "metadata": {},
   "outputs": [
    {
     "data": {
      "text/html": [
       "\n",
       "<link rel=\"stylesheet\" type=\"text/css\" href=\"https://do0of8uwbahzz.cloudfront.net/graph.css\">\n",
       "<div id=\"graph-394\" class=\"workflowgraph\">\n",
       "    \n",
       "    <style>\n",
       "        .graph-legend ul {\n",
       "            list-style-type: none;\n",
       "            padding: 10px;\n",
       "            padding-left: 0;\n",
       "            margin: 0;\n",
       "            position: absolute;\n",
       "            top: 0;\n",
       "            background: transparent;\n",
       "        }\n",
       "\n",
       "        .graph-legend li {\n",
       "            margin-left: 10px;\n",
       "            display: inline-block;\n",
       "        }\n",
       "\n",
       "        .graph-legend li > div {\n",
       "            width: 10px;\n",
       "            height: 10px;\n",
       "            display: inline-block;\n",
       "        }\n",
       "\n",
       "        .graph-legend .success { background-color: #2BD62E }\n",
       "        .graph-legend .failed { background-color: #DE322F }\n",
       "        .graph-legend .cancelled { background-color: #DDDDDD }\n",
       "        .graph-legend .in-progress { background-color: #53C9ED }\n",
       "        .graph-legend .caught-error { background-color: #FFA500 }\n",
       "    </style>\n",
       "    <div class=\"graph-legend\">\n",
       "        <ul>\n",
       "            <li>\n",
       "                <div class=\"success\"></div>\n",
       "                <span>Success</span>\n",
       "            </li>\n",
       "            <li>\n",
       "                <div class=\"failed\"></div>\n",
       "                <span>Failed</span>\n",
       "            </li>\n",
       "            <li>\n",
       "                <div class=\"cancelled\"></div>\n",
       "                <span>Cancelled</span>\n",
       "            </li>\n",
       "            <li>\n",
       "                <div class=\"in-progress\"></div>\n",
       "                <span>In Progress</span>\n",
       "            </li>\n",
       "            <li>\n",
       "                <div class=\"caught-error\"></div>\n",
       "                <span>Caught Error</span>\n",
       "            </li>\n",
       "        </ul>\n",
       "    </div>\n",
       "\n",
       "    <svg></svg>\n",
       "    <a href=\"https://console.aws.amazon.com/states/home?region=us-east-1#/executions/details/arn:aws:states:us-east-1:525102048888:execution:ds-mlops-dev-baseline-job:61433072-a86a-4a45-b58f-20dbd8ced41a\" target=\"_blank\"> Inspect in AWS Step Functions </a>\n",
       "</div>\n",
       "\n",
       "<script type=\"text/javascript\">\n",
       "\n",
       "require.config({\n",
       "    paths: {\n",
       "        sfn: \"https://do0of8uwbahzz.cloudfront.net/sfn\",\n",
       "    }\n",
       "});\n",
       "\n",
       "require(['sfn'], function(sfn) {\n",
       "    var element = document.getElementById('graph-394')\n",
       "\n",
       "    var options = {\n",
       "        width: parseFloat(getComputedStyle(element, null).width.replace(\"px\", \"\")),\n",
       "        height: 1000,\n",
       "        layout: 'LR',\n",
       "        resizeHeight: true\n",
       "    };\n",
       "\n",
       "    var definition = {\"StartAt\": \"Baseline\", \"States\": {\"Baseline\": {\"Resource\": \"arn:aws:states:::sagemaker:createProcessingJob.sync\", \"Parameters\": {\"ProcessingJobName\": \"baseline-1628076211\", \"ProcessingInputs\": [{\"InputName\": \"input_data\", \"AppManaged\": false, \"S3Input\": {\"S3Uri\": \"s3://wipcoe-ml-s3-data-bucket/data/output/lr/baselineinp/train_baseline.csv\", \"LocalPath\": \"/opt/ml/processing/input/baseline_dataset_input\", \"S3DataType\": \"S3Prefix\", \"S3InputMode\": \"File\", \"S3DataDistributionType\": \"FullyReplicated\", \"S3CompressionType\": \"None\"}}], \"ProcessingOutputConfig\": {\"Outputs\": [{\"OutputName\": \"tr_data\", \"AppManaged\": false, \"S3Output\": {\"S3Uri\": \"s3://wipcoe-datalake-init-s3-mlops-config/customonitor/\", \"LocalPath\": \"/opt/ml/processing/output\", \"S3UploadMode\": \"EndOfJob\"}}]}, \"AppSpecification\": {\"ImageUri\": \"156813124566.dkr.ecr.us-east-1.amazonaws.com/sagemaker-model-monitor-analyzer\"}, \"RoleArn\": \"arn:aws:iam::525102048888:role/service-role/AmazonSageMaker-ExecutionRole-20191105T125227\", \"Environment\": {\"dataset_format\": \"{\\\"csv\\\":{\\\"header\\\":\\\"True\\\"}}\", \"dataset_source\": \"/opt/ml/processing/input/baseline_dataset_input\", \"output_path\": \"/opt/ml/processing/output\", \"publish_cloudwatch_metrics\": \"Disabled\"}, \"NetworkConfig\": {\"EnableNetworkIsolation\": false, \"VpcConfig\": {\"SecurityGroupIds\": [\"sg-044e0e7ce4f5721c0\"], \"Subnets\": [\"subnet-0cf0e3f46326aa259\", \"subnet-0156b7f5500cf0b78\", \"subnet-032420199163cff9b\"]}}, \"ProcessingResources\": {\"ClusterConfig\": {\"InstanceCount\": 1, \"InstanceType\": \"ml.m5.xlarge\", \"VolumeSizeInGB\": 30}}}, \"Type\": \"Task\", \"End\": true}}};\n",
       "    var elementId = '#graph-394';\n",
       "    var events = { 'events': [{\"timestamp\": 1628076235.316, \"type\": \"ExecutionStarted\", \"id\": 1, \"previousEventId\": 0, \"executionStartedEventDetails\": {\"input\": \"{}\", \"inputDetails\": {\"truncated\": false}, \"roleArn\": \"arn:aws:iam::525102048888:role/poc-sagemaker-step-functi-MachineLearningWorkflowE-1XFI2UPRXFTXE\"}}, {\"timestamp\": 1628076235.353, \"type\": \"TaskStateEntered\", \"id\": 2, \"previousEventId\": 0, \"stateEnteredEventDetails\": {\"name\": \"Baseline\", \"input\": \"{}\", \"inputDetails\": {\"truncated\": false}}}, {\"timestamp\": 1628076235.353, \"type\": \"TaskScheduled\", \"id\": 3, \"previousEventId\": 2, \"taskScheduledEventDetails\": {\"resourceType\": \"sagemaker\", \"resource\": \"createProcessingJob.sync\", \"region\": \"us-east-1\", \"parameters\": \"{\\\"ProcessingJobName\\\":\\\"baseline-1628076211\\\",\\\"ProcessingInputs\\\":[{\\\"InputName\\\":\\\"input_data\\\",\\\"AppManaged\\\":false,\\\"S3Input\\\":{\\\"S3Uri\\\":\\\"s3://wipcoe-ml-s3-data-bucket/data/output/lr/baselineinp/train_baseline.csv\\\",\\\"LocalPath\\\":\\\"/opt/ml/processing/input/baseline_dataset_input\\\",\\\"S3DataType\\\":\\\"S3Prefix\\\",\\\"S3InputMode\\\":\\\"File\\\",\\\"S3DataDistributionType\\\":\\\"FullyReplicated\\\",\\\"S3CompressionType\\\":\\\"None\\\"}}],\\\"ProcessingOutputConfig\\\":{\\\"Outputs\\\":[{\\\"OutputName\\\":\\\"tr_data\\\",\\\"AppManaged\\\":false,\\\"S3Output\\\":{\\\"S3Uri\\\":\\\"s3://wipcoe-datalake-init-s3-mlops-config/customonitor/\\\",\\\"LocalPath\\\":\\\"/opt/ml/processing/output\\\",\\\"S3UploadMode\\\":\\\"EndOfJob\\\"}}]},\\\"AppSpecification\\\":{\\\"ImageUri\\\":\\\"156813124566.dkr.ecr.us-east-1.amazonaws.com/sagemaker-model-monitor-analyzer\\\"},\\\"RoleArn\\\":\\\"arn:aws:iam::525102048888:role/service-role/AmazonSageMaker-ExecutionRole-20191105T125227\\\",\\\"Environment\\\":{\\\"dataset_format\\\":\\\"{\\\\\\\"csv\\\\\\\":{\\\\\\\"header\\\\\\\":\\\\\\\"True\\\\\\\"}}\\\",\\\"dataset_source\\\":\\\"/opt/ml/processing/input/baseline_dataset_input\\\",\\\"output_path\\\":\\\"/opt/ml/processing/output\\\",\\\"publish_cloudwatch_metrics\\\":\\\"Disabled\\\"},\\\"NetworkConfig\\\":{\\\"EnableNetworkIsolation\\\":false,\\\"VpcConfig\\\":{\\\"SecurityGroupIds\\\":[\\\"sg-044e0e7ce4f5721c0\\\"],\\\"Subnets\\\":[\\\"subnet-0cf0e3f46326aa259\\\",\\\"subnet-0156b7f5500cf0b78\\\",\\\"subnet-032420199163cff9b\\\"]}},\\\"ProcessingResources\\\":{\\\"ClusterConfig\\\":{\\\"InstanceCount\\\":1,\\\"InstanceType\\\":\\\"ml.m5.xlarge\\\",\\\"VolumeSizeInGB\\\":30}},\\\"Tags\\\":[{\\\"Key\\\":\\\"MANAGED_BY_AWS\\\",\\\"Value\\\":\\\"STARTED_BY_STEP_FUNCTIONS\\\"}]}\"}}, {\"timestamp\": 1628076235.431, \"type\": \"TaskStarted\", \"id\": 4, \"previousEventId\": 3, \"taskStartedEventDetails\": {\"resourceType\": \"sagemaker\", \"resource\": \"createProcessingJob.sync\"}}, {\"timestamp\": 1628076235.671, \"type\": \"TaskSubmitted\", \"id\": 5, \"previousEventId\": 4, \"taskSubmittedEventDetails\": {\"resourceType\": \"sagemaker\", \"resource\": \"createProcessingJob.sync\", \"output\": \"{\\\"ProcessingJobArn\\\":\\\"arn:aws:sagemaker:us-east-1:525102048888:processing-job/baseline-1628076211\\\",\\\"SdkHttpMetadata\\\":{\\\"AllHttpHeaders\\\":{\\\"x-amzn-RequestId\\\":[\\\"82732a9a-1bd6-4a4b-ad9e-d36ef669c937\\\"],\\\"Content-Length\\\":[\\\"98\\\"],\\\"Date\\\":[\\\"Wed, 04 Aug 2021 11:23:55 GMT\\\"],\\\"Content-Type\\\":[\\\"application/x-amz-json-1.1\\\"]},\\\"HttpHeaders\\\":{\\\"Content-Length\\\":\\\"98\\\",\\\"Content-Type\\\":\\\"application/x-amz-json-1.1\\\",\\\"Date\\\":\\\"Wed, 04 Aug 2021 11:23:55 GMT\\\",\\\"x-amzn-RequestId\\\":\\\"82732a9a-1bd6-4a4b-ad9e-d36ef669c937\\\"},\\\"HttpStatusCode\\\":200},\\\"SdkResponseMetadata\\\":{\\\"RequestId\\\":\\\"82732a9a-1bd6-4a4b-ad9e-d36ef669c937\\\"}}\", \"outputDetails\": {\"truncated\": false}}}] };\n",
       "\n",
       "    var graph = new sfn.StateMachineExecutionGraph(definition, events, elementId, options);\n",
       "    graph.render();\n",
       "});\n",
       "\n",
       "</script>\n"
      ],
      "text/plain": [
       "<IPython.core.display.HTML object>"
      ]
     },
     "execution_count": 14,
     "metadata": {},
     "output_type": "execute_result"
    }
   ],
   "source": [
    "basic_workflow_execution.render_progress()"
   ]
  },
  {
   "cell_type": "markdown",
   "id": "ba850be8",
   "metadata": {},
   "source": [
    "## 4 Downloading generated report on notebook"
   ]
  },
  {
   "cell_type": "code",
   "execution_count": 53,
   "id": "764bd4a1",
   "metadata": {},
   "outputs": [
    {
     "name": "stdout",
     "output_type": "stream",
     "text": [
      "download: s3://wipro-datalake-init-s3-mlops-config/monitoring/constraints.json to ./constraints.json\r\n"
     ]
    }
   ],
   "source": [
    "# Downloading contraint file for evaluation\n",
    "!aws s3 cp s3://$config_bucket/monitoring/constraints.json ."
   ]
  },
  {
   "cell_type": "code",
   "execution_count": 54,
   "id": "d70838be",
   "metadata": {},
   "outputs": [
    {
     "name": "stdout",
     "output_type": "stream",
     "text": [
      "download: s3://wipro-datalake-init-s3-mlops-config/monitoring/statistics.json to ./statistics.json\r\n"
     ]
    }
   ],
   "source": [
    "# Dowloading stats file for evaluation\n",
    "!aws s3 cp s3://$config_bucket/monitoring/statistics.json ."
   ]
  },
  {
   "cell_type": "markdown",
   "id": "4c29fe68",
   "metadata": {},
   "source": [
    "We can perform analysis on this file and put it on git hub\n",
    "\n",
    "**Note :**\n",
    "In order to refer it for modified location in monitoring schedule lambda function we need to changes the baseline stats location to prefix custom_monitoring/ from monitoring\n"
   ]
  }
 ],
 "metadata": {
  "kernelspec": {
   "display_name": "conda_python3",
   "language": "python",
   "name": "conda_python3"
  },
  "language_info": {
   "codemirror_mode": {
    "name": "ipython",
    "version": 3
   },
   "file_extension": ".py",
   "mimetype": "text/x-python",
   "name": "python",
   "nbconvert_exporter": "python",
   "pygments_lexer": "ipython3",
   "version": "3.6.13"
  }
 },
 "nbformat": 4,
 "nbformat_minor": 5
}
