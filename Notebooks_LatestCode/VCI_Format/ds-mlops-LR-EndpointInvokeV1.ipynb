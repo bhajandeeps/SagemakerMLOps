{
 "cells": [
  {
   "cell_type": "markdown",
   "id": "f600c28e",
   "metadata": {},
   "source": [
    "## 1. Create endpoint config\n",
    "In this section we will describe how we can create a model endpoint. If you already have endpoint , please go to last cell for invocation, give the correct end point name and start inferences."
   ]
  },
  {
   "cell_type": "markdown",
   "id": "42b72417",
   "metadata": {},
   "source": [
    "For generating sagemaker end point we will need to generate endpoint config. So generating endpoint config first"
   ]
  },
  {
   "cell_type": "code",
   "execution_count": 1,
   "id": "d6702687",
   "metadata": {},
   "outputs": [
    {
     "name": "stdout",
     "output_type": "stream",
     "text": [
      "ds-mlops-linear-learner\n"
     ]
    }
   ],
   "source": [
    "%store -r # you can read model from another notebook via this method \n",
    "print(v_model_name)"
   ]
  },
  {
   "cell_type": "code",
   "execution_count": 2,
   "id": "a5723df7",
   "metadata": {},
   "outputs": [],
   "source": [
    "import sys\n",
    "import math\n",
    "import boto3\n",
    "import sagemaker\n",
    "from time import gmtime, strftime\n",
    "role = sagemaker.get_execution_role()\n",
    "region = boto3.Session().region_name\n",
    "runtime_client = boto3.client(\"runtime.sagemaker\", region_name=region)\n",
    "client = boto3.client(\"sagemaker\", region_name=region)\n"
   ]
  },
  {
   "cell_type": "code",
   "execution_count": 4,
   "id": "6a19cf55",
   "metadata": {},
   "outputs": [],
   "source": [
    "# Instance config for endpoint\n",
    "endpoint_config_name = 'ds-mlops-linear-learner-endpoint-configV1'\n",
    "v_model_name = \"wipcoe-pricing-ml-training-pipeline-lr-3196968970\"\n",
    "Instance_Type = \"ml.m5.large\"\n",
    "VolumeSizeIn_GB = 20\n",
    "Instance_Count = 1\n",
    "endpoint_name = 'wipcoe-pricing-ml-training-pipeline-lr-endpoint' # name of model endpoint"
   ]
  },
  {
   "cell_type": "markdown",
   "id": "787327ab",
   "metadata": {},
   "source": [
    "## 2. Delete End point Config\n",
    "Incase if you want to delete endpoint config  and recreate it we can use below code snippet"
   ]
  },
  {
   "cell_type": "code",
   "execution_count": 7,
   "id": "6d110fda",
   "metadata": {},
   "outputs": [],
   "source": [
    "response = client.delete_endpoint_config(\n",
    "     EndpointConfigName=endpoint_config_name\n",
    " )"
   ]
  },
  {
   "cell_type": "code",
   "execution_count": 11,
   "id": "a3637173",
   "metadata": {},
   "outputs": [
    {
     "name": "stdout",
     "output_type": "stream",
     "text": [
      "ds-mlops-linear-learner-endpoint-configV1\n"
     ]
    },
    {
     "ename": "ClientError",
     "evalue": "An error occurred (ValidationException) when calling the CreateEndpointConfig operation: Cannot create already existing endpoint configuration \"arn:aws:sagemaker:us-east-1:525102048888:endpoint-config/ds-mlops-linear-learner-endpoint-configv1\".",
     "output_type": "error",
     "traceback": [
      "\u001b[0;31m---------------------------------------------------------------------------\u001b[0m",
      "\u001b[0;31mClientError\u001b[0m                               Traceback (most recent call last)",
      "\u001b[0;32m<ipython-input-11-0a31efe098f4>\u001b[0m in \u001b[0;36m<module>\u001b[0;34m\u001b[0m\n\u001b[1;32m     29\u001b[0m             ],\n\u001b[1;32m     30\u001b[0m             'JsonContentTypes': [\n\u001b[0;32m---> 31\u001b[0;31m                 \u001b[0;34m'application/json'\u001b[0m\u001b[0;34m,\u001b[0m\u001b[0;34m\u001b[0m\u001b[0;34m\u001b[0m\u001b[0m\n\u001b[0m\u001b[1;32m     32\u001b[0m             ]\n\u001b[1;32m     33\u001b[0m         }        \n",
      "\u001b[0;32m~/anaconda3/envs/python3/lib/python3.6/site-packages/botocore/client.py\u001b[0m in \u001b[0;36m_api_call\u001b[0;34m(self, *args, **kwargs)\u001b[0m\n\u001b[1;32m    384\u001b[0m                     \"%s() only accepts keyword arguments.\" % py_operation_name)\n\u001b[1;32m    385\u001b[0m             \u001b[0;31m# The \"self\" in this scope is referring to the BaseClient.\u001b[0m\u001b[0;34m\u001b[0m\u001b[0;34m\u001b[0m\u001b[0;34m\u001b[0m\u001b[0m\n\u001b[0;32m--> 386\u001b[0;31m             \u001b[0;32mreturn\u001b[0m \u001b[0mself\u001b[0m\u001b[0;34m.\u001b[0m\u001b[0m_make_api_call\u001b[0m\u001b[0;34m(\u001b[0m\u001b[0moperation_name\u001b[0m\u001b[0;34m,\u001b[0m \u001b[0mkwargs\u001b[0m\u001b[0;34m)\u001b[0m\u001b[0;34m\u001b[0m\u001b[0;34m\u001b[0m\u001b[0m\n\u001b[0m\u001b[1;32m    387\u001b[0m \u001b[0;34m\u001b[0m\u001b[0m\n\u001b[1;32m    388\u001b[0m         \u001b[0m_api_call\u001b[0m\u001b[0;34m.\u001b[0m\u001b[0m__name__\u001b[0m \u001b[0;34m=\u001b[0m \u001b[0mstr\u001b[0m\u001b[0;34m(\u001b[0m\u001b[0mpy_operation_name\u001b[0m\u001b[0;34m)\u001b[0m\u001b[0;34m\u001b[0m\u001b[0;34m\u001b[0m\u001b[0m\n",
      "\u001b[0;32m~/anaconda3/envs/python3/lib/python3.6/site-packages/botocore/client.py\u001b[0m in \u001b[0;36m_make_api_call\u001b[0;34m(self, operation_name, api_params)\u001b[0m\n\u001b[1;32m    703\u001b[0m             \u001b[0merror_code\u001b[0m \u001b[0;34m=\u001b[0m \u001b[0mparsed_response\u001b[0m\u001b[0;34m.\u001b[0m\u001b[0mget\u001b[0m\u001b[0;34m(\u001b[0m\u001b[0;34m\"Error\"\u001b[0m\u001b[0;34m,\u001b[0m \u001b[0;34m{\u001b[0m\u001b[0;34m}\u001b[0m\u001b[0;34m)\u001b[0m\u001b[0;34m.\u001b[0m\u001b[0mget\u001b[0m\u001b[0;34m(\u001b[0m\u001b[0;34m\"Code\"\u001b[0m\u001b[0;34m)\u001b[0m\u001b[0;34m\u001b[0m\u001b[0;34m\u001b[0m\u001b[0m\n\u001b[1;32m    704\u001b[0m             \u001b[0merror_class\u001b[0m \u001b[0;34m=\u001b[0m \u001b[0mself\u001b[0m\u001b[0;34m.\u001b[0m\u001b[0mexceptions\u001b[0m\u001b[0;34m.\u001b[0m\u001b[0mfrom_code\u001b[0m\u001b[0;34m(\u001b[0m\u001b[0merror_code\u001b[0m\u001b[0;34m)\u001b[0m\u001b[0;34m\u001b[0m\u001b[0;34m\u001b[0m\u001b[0m\n\u001b[0;32m--> 705\u001b[0;31m             \u001b[0;32mraise\u001b[0m \u001b[0merror_class\u001b[0m\u001b[0;34m(\u001b[0m\u001b[0mparsed_response\u001b[0m\u001b[0;34m,\u001b[0m \u001b[0moperation_name\u001b[0m\u001b[0;34m)\u001b[0m\u001b[0;34m\u001b[0m\u001b[0;34m\u001b[0m\u001b[0m\n\u001b[0m\u001b[1;32m    706\u001b[0m         \u001b[0;32melse\u001b[0m\u001b[0;34m:\u001b[0m\u001b[0;34m\u001b[0m\u001b[0;34m\u001b[0m\u001b[0m\n\u001b[1;32m    707\u001b[0m             \u001b[0;32mreturn\u001b[0m \u001b[0mparsed_response\u001b[0m\u001b[0;34m\u001b[0m\u001b[0;34m\u001b[0m\u001b[0m\n",
      "\u001b[0;31mClientError\u001b[0m: An error occurred (ValidationException) when calling the CreateEndpointConfig operation: Cannot create already existing endpoint configuration \"arn:aws:sagemaker:us-east-1:525102048888:endpoint-config/ds-mlops-linear-learner-endpoint-configv1\"."
     ]
    }
   ],
   "source": [
    "# Creating endpoint config\n",
    "print(endpoint_config_name)\n",
    "create_endpoint_config_response = client.create_endpoint_config(\n",
    "    EndpointConfigName=endpoint_config_name,\n",
    "    ProductionVariants=[\n",
    "        {\n",
    "            \"InstanceType\": Instance_Type,\n",
    "            \"InitialVariantWeight\": 1,\n",
    "            \"InitialInstanceCount\": 1,\n",
    "            \"ModelName\": v_model_name,\n",
    "            \"VariantName\": \"AllTraffic\",\n",
    "        }\n",
    "    ],\n",
    "    DataCaptureConfig={\n",
    "        'EnableCapture': True,\n",
    "        'InitialSamplingPercentage': 100,\n",
    "        'DestinationS3Uri': 's3://ds-mlops-s3/data/capture/',\n",
    "        'CaptureOptions': [\n",
    "            {\n",
    "                'CaptureMode': 'Input'\n",
    "            },\n",
    "             {\n",
    "                'CaptureMode': 'Output'\n",
    "            },\n",
    "        ],\n",
    "        'CaptureContentTypeHeader': {\n",
    "            'CsvContentTypes': [\n",
    "                'text/csv',\n",
    "            ],\n",
    "            'JsonContentTypes': [\n",
    "                'application/json',\n",
    "            ]\n",
    "        }        \n",
    "    }\n",
    ")\n",
    "\n",
    "print(f\"Endpoint Config Arn: {create_endpoint_config_response['EndpointConfigArn']}\")"
   ]
  },
  {
   "cell_type": "markdown",
   "id": "c9c154b8",
   "metadata": {},
   "source": [
    "**Note :** We will use able endpoint config name to cretae model endpoint"
   ]
  },
  {
   "cell_type": "markdown",
   "id": "654232bf",
   "metadata": {},
   "source": [
    "## 3. Delete endpoint"
   ]
  },
  {
   "cell_type": "markdown",
   "id": "b9aada31",
   "metadata": {},
   "source": [
    "Incase if you want to delete endpoint  and recreate it we can use below code snippet"
   ]
  },
  {
   "cell_type": "code",
   "execution_count": null,
   "id": "153be4a6",
   "metadata": {},
   "outputs": [],
   "source": [
    "client.delete_endpoint(EndpointName=endpoint_name)"
   ]
  },
  {
   "cell_type": "markdown",
   "id": "f2d4c691",
   "metadata": {},
   "source": [
    "## 4.Create Endpoint"
   ]
  },
  {
   "cell_type": "markdown",
   "id": "4f1d590a",
   "metadata": {},
   "source": [
    "In this notebook we create endpoint using endpoint which we have created"
   ]
  },
  {
   "cell_type": "code",
   "execution_count": 12,
   "id": "80d145a0",
   "metadata": {},
   "outputs": [],
   "source": [
    "# Importing required library\n",
    "import sys\n",
    "import math\n",
    "import boto3\n",
    "import sagemaker\n",
    "import time    \n",
    "\n",
    "role = sagemaker.get_execution_role()\n",
    "region = boto3.Session().region_name\n",
    "runtime_client = boto3.client(\"runtime.sagemaker\", region_name=region)\n",
    "client = boto3.client(\"sagemaker\", region_name=region)\n"
   ]
  },
  {
   "cell_type": "code",
   "execution_count": 13,
   "id": "4d4194ba",
   "metadata": {
    "scrolled": true
   },
   "outputs": [
    {
     "name": "stdout",
     "output_type": "stream",
     "text": [
      "ds-mlops-linear-learner-endpoint\n",
      "arn:aws:sagemaker:us-east-1:525102048888:endpoint/ds-mlops-linear-learner-endpoint\n",
      "Status: Creating\n",
      "Status: Creating\n",
      "Status: Creating\n",
      "Status: Creating\n",
      "Status: Creating\n",
      "Status: Creating\n",
      "Status: Creating\n",
      "Status: Creating\n",
      "Arn: arn:aws:sagemaker:us-east-1:525102048888:endpoint/ds-mlops-linear-learner-endpoint\n",
      "Status: InService\n"
     ]
    }
   ],
   "source": [
    "# Creating model endpoint\n",
    "print(endpoint_name)\n",
    "create_endpoint_response = client.create_endpoint(\n",
    "    EndpointName=endpoint_name, EndpointConfigName=endpoint_config_name\n",
    ")\n",
    "print(create_endpoint_response[\"EndpointArn\"])\n",
    "\n",
    "resp = client.describe_endpoint(EndpointName=endpoint_name)\n",
    "status = resp[\"EndpointStatus\"]\n",
    "while status == \"Creating\":\n",
    "    print(f\"Status: {status}\")\n",
    "    time.sleep(60)\n",
    "    resp = client.describe_endpoint(EndpointName=endpoint_name)\n",
    "    status = resp[\"EndpointStatus\"]\n",
    "\n",
    "print(f\"Arn: {resp['EndpointArn']}\")\n",
    "print(f\"Status: {status}\")"
   ]
  },
  {
   "cell_type": "markdown",
   "id": "07763f4e",
   "metadata": {},
   "source": [
    "## 5. Inference\n",
    "\n",
    "In this section we will validate scoring logics. In below code snippet we are scoring with 14 predictor values and finding the result"
   ]
  },
  {
   "cell_type": "code",
   "execution_count": 10,
   "id": "835b91ea",
   "metadata": {},
   "outputs": [
    {
     "name": "stdout",
     "output_type": "stream",
     "text": [
      "{\"instances\": [{\"features\": [\"2018\", \"5\", \"147\", \"2\", \"4\", \"2\", \"2000\", \"0\", \"2\", \"3\", \"8\", \"6\"]}]}\n"
     ]
    }
   ],
   "source": [
    "print(lrbody)"
   ]
  },
  {
   "cell_type": "code",
   "execution_count": 11,
   "id": "18acda3c",
   "metadata": {},
   "outputs": [
    {
     "name": "stdout",
     "output_type": "stream",
     "text": [
      "{'ResponseMetadata': {'RequestId': '78e7da1e-fe70-46c1-aac7-bdb93d27e026', 'HTTPStatusCode': 200, 'HTTPHeaders': {'x-amzn-requestid': '78e7da1e-fe70-46c1-aac7-bdb93d27e026', 'x-amzn-invoked-production-variant': 'AllTraffic', 'date': 'Wed, 11 Aug 2021 08:37:40 GMT', 'content-type': 'application/json', 'content-length': '42'}, 'RetryAttempts': 0}, 'ContentType': 'application/json', 'InvokedProductionVariant': 'AllTraffic', 'Body': <botocore.response.StreamingBody object at 0x7f47180d0438>}\n",
      "{'predictions': [{'score': 8314.8046875}]}\n",
      "8314.8046875\n"
     ]
    }
   ],
   "source": [
    "import json\n",
    "payload={'year': 2018, 'manufacturer': 5, 'model': '147', 'condition': '2', 'cylinders': '4', 'fuel': '2', 'odometer': '2000', 'title_status': 0, 'transmission': '2', 'drive': '3', 'type': '8', 'paint_color': '6'}\n",
    "scoring_vector = [payload['year'],payload['manufacturer'],payload['model'],payload['condition'],payload['cylinders'],payload['fuel'],payload['odometer'],payload['title_status'],payload['transmission'],payload['drive'],payload['type'],payload['paint_color']]\n",
    "lrbodyvector = ([str(item) for item in scoring_vector])\n",
    "lrbody=json.dumps({\n",
    "    \"instances\":[\n",
    "    {\"features\":lrbodyvector \n",
    "    }]})\n",
    "\n",
    "client = boto3.client('sagemaker-runtime')\n",
    "response_model_linear_learner = client.invoke_endpoint(EndpointName=endpoint_name,#'wipcoe-pricing-ml-training-pipeline-lr-endpoint',\n",
    "                               ContentType='application/json',\n",
    "                               Body=lrbody)\n",
    "print(response_model_linear_learner)\n",
    "result_linear_learner = json.loads(str(response_model_linear_learner[\"Body\"].read().decode('utf8')))\n",
    "print(result_linear_learner)\n",
    "result_linear_learner = float(result_linear_learner[\"predictions\"][0][\"score\"])\n",
    "print(result_linear_learner)"
   ]
  },
  {
   "cell_type": "markdown",
   "id": "f7eef178",
   "metadata": {},
   "source": [
    "**Note:** Similarly you can change the test vector and can see how endpoint is working"
   ]
  }
 ],
 "metadata": {
  "kernelspec": {
   "display_name": "conda_python3",
   "language": "python",
   "name": "conda_python3"
  },
  "language_info": {
   "codemirror_mode": {
    "name": "ipython",
    "version": 3
   },
   "file_extension": ".py",
   "mimetype": "text/x-python",
   "name": "python",
   "nbconvert_exporter": "python",
   "pygments_lexer": "ipython3",
   "version": "3.6.13"
  }
 },
 "nbformat": 4,
 "nbformat_minor": 5
}
