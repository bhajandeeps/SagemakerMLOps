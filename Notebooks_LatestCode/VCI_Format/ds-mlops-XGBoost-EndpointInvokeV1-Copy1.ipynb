{
 "cells": [
  {
   "cell_type": "markdown",
   "id": "a8ecab5f",
   "metadata": {},
   "source": [
    "## 1. Create endpoint config\n",
    "In this section we will describe how we can create a model endpoint.\n",
    "If you already have endpoint , please go to last cell for invocation, give the correct end point name and start inferences."
   ]
  },
  {
   "cell_type": "markdown",
   "id": "7a19ec60",
   "metadata": {},
   "source": [
    "For generating sagemaker end point we will need to generate endpoint config. So generating endpoint config first"
   ]
  },
  {
   "cell_type": "code",
   "execution_count": 1,
   "id": "5f60ad8d",
   "metadata": {},
   "outputs": [
    {
     "name": "stdout",
     "output_type": "stream",
     "text": [
      "ds-mlops-linear-learner\n"
     ]
    }
   ],
   "source": [
    "%store -r # you can read model from another notebook via this method\n",
    "print(v_model_name)"
   ]
  },
  {
   "cell_type": "code",
   "execution_count": 3,
   "id": "7fc6935a",
   "metadata": {},
   "outputs": [
    {
     "name": "stderr",
     "output_type": "stream",
     "text": [
      "/home/ec2-user/anaconda3/envs/python3/lib/python3.6/site-packages/boto3/compat.py:88: PythonDeprecationWarning: Boto3 will no longer support Python 3.6 starting May 30, 2022. To continue receiving service updates, bug fixes, and security updates please upgrade to Python 3.7 or later. More information can be found here: https://aws.amazon.com/blogs/developer/python-support-policy-updates-for-aws-sdks-and-tools/\n",
      "  warnings.warn(warning, PythonDeprecationWarning)\n"
     ]
    }
   ],
   "source": [
    "import sys\n",
    "import math\n",
    "import boto3\n",
    "import sagemaker\n",
    "from time import gmtime, strftime\n",
    "role = sagemaker.get_execution_role()\n",
    "region = boto3.Session().region_name\n",
    "runtime_client = boto3.client(\"runtime.sagemaker\", region_name=region)\n",
    "client = boto3.client(\"sagemaker\", region_name=region)\n"
   ]
  },
  {
   "cell_type": "code",
   "execution_count": 2,
   "id": "39266e2c",
   "metadata": {},
   "outputs": [],
   "source": [
    "# Instance config for endpoint\n",
    "endpoint_config_name = 'ds-mlops-XGBoost-endpoint-configV1'\n",
    "v_model_name = \"wipcoe-pricing-ml-training-pipeline-xg-3196968130\"\n",
    "Instance_Type = \"ml.m5.large\"\n",
    "VolumeSizeIn_GB = 20\n",
    "Instance_Count = 1\n",
    "endpoint_name = 'ds-mlops-XGBoost-endpoint' # name of model endpoint\n",
    "datacaploc='s3://ds-mlops-s3/data/capture/'"
   ]
  },
  {
   "cell_type": "markdown",
   "id": "865955ea",
   "metadata": {},
   "source": [
    "**Note :** We will use able endpoint config name to cretae model endpoint"
   ]
  },
  {
   "cell_type": "markdown",
   "id": "e5900627",
   "metadata": {},
   "source": [
    "## 2. Delete endpoint config"
   ]
  },
  {
   "cell_type": "markdown",
   "id": "d35fda1a",
   "metadata": {},
   "source": [
    "Incase if you want to delete endpoint config and recreate it we can use below code snippet"
   ]
  },
  {
   "cell_type": "code",
   "execution_count": null,
   "id": "0f240f28",
   "metadata": {},
   "outputs": [],
   "source": [
    "# response = client.delete_endpoint_config(\n",
    "#     EndpointConfigName=endpoint_config_name\n",
    "# )"
   ]
  },
  {
   "cell_type": "code",
   "execution_count": 3,
   "id": "e60ee4c3",
   "metadata": {},
   "outputs": [
    {
     "name": "stdout",
     "output_type": "stream",
     "text": [
      "ds-mlops-XGBoost-endpoint-configV1\n",
      "Endpoint Config Arn: arn:aws:sagemaker:us-east-1:525102048888:endpoint-config/ds-mlops-xgboost-endpoint-configv1\n"
     ]
    }
   ],
   "source": [
    "# Creating endpoint config\n",
    "print(endpoint_config_name)\n",
    "create_endpoint_config_response = client.create_endpoint_config(\n",
    "    EndpointConfigName=endpoint_config_name,\n",
    "    ProductionVariants=[\n",
    "        {\n",
    "            \"InstanceType\": Instance_Type,\n",
    "            \"InitialVariantWeight\": 1,\n",
    "            \"InitialInstanceCount\": 1,\n",
    "            \"ModelName\": v_model_name,\n",
    "            \"VariantName\": \"AllTraffic\",\n",
    "        }\n",
    "    ],\n",
    "    DataCaptureConfig={\n",
    "        'EnableCapture': True,\n",
    "        'InitialSamplingPercentage': 100,\n",
    "        'DestinationS3Uri': datacaploc,\n",
    "        'CaptureOptions': [\n",
    "            {\n",
    "                'CaptureMode': 'Input'\n",
    "            },\n",
    "             {\n",
    "                'CaptureMode': 'Output'\n",
    "            },\n",
    "        ],\n",
    "        'CaptureContentTypeHeader': {\n",
    "            'CsvContentTypes': [\n",
    "                'text/csv',\n",
    "            ],\n",
    "            'JsonContentTypes': [\n",
    "                'application/json',\n",
    "            ]\n",
    "        }        \n",
    "    }\n",
    ")\n",
    "\n",
    "print(f\"Endpoint Config Arn: {create_endpoint_config_response['EndpointConfigArn']}\")"
   ]
  },
  {
   "cell_type": "markdown",
   "id": "b56b3965",
   "metadata": {},
   "source": [
    "## 3. Delete endpoint\n",
    "Incase if you want to delete endpoint  and recreate it we can use below code snippet"
   ]
  },
  {
   "cell_type": "code",
   "execution_count": null,
   "id": "606a52b9",
   "metadata": {},
   "outputs": [],
   "source": [
    "client.delete_endpoint(EndpointName=endpoint_name)"
   ]
  },
  {
   "cell_type": "markdown",
   "id": "2c3d666c",
   "metadata": {},
   "source": [
    "## 4.Create Endpoint"
   ]
  },
  {
   "cell_type": "markdown",
   "id": "d6860404",
   "metadata": {},
   "source": [
    "In this notebook we create endpoint using endpoint which we have created"
   ]
  },
  {
   "cell_type": "code",
   "execution_count": 4,
   "id": "9426c223",
   "metadata": {},
   "outputs": [],
   "source": [
    "# Importing required library\n",
    "import sys\n",
    "import math\n",
    "import boto3\n",
    "import sagemaker\n",
    "import time    \n",
    "\n",
    "role = sagemaker.get_execution_role()\n",
    "region = boto3.Session().region_name\n",
    "runtime_client = boto3.client(\"runtime.sagemaker\", region_name=region)\n",
    "client = boto3.client(\"sagemaker\", region_name=region)\n"
   ]
  },
  {
   "cell_type": "code",
   "execution_count": 5,
   "id": "702de2eb",
   "metadata": {
    "scrolled": true
   },
   "outputs": [
    {
     "name": "stdout",
     "output_type": "stream",
     "text": [
      "ds-mlops-XGBoost-endpoint\n",
      "arn:aws:sagemaker:us-east-1:525102048888:endpoint/ds-mlops-xgboost-endpoint\n",
      "Status: Creating\n",
      "Status: Creating\n",
      "Status: Creating\n",
      "Status: Creating\n",
      "Status: Creating\n",
      "Status: Creating\n",
      "Status: Creating\n",
      "Status: Creating\n",
      "Arn: arn:aws:sagemaker:us-east-1:525102048888:endpoint/ds-mlops-xgboost-endpoint\n",
      "Status: InService\n"
     ]
    }
   ],
   "source": [
    "# Creating model endpoint\n",
    "print(endpoint_name)\n",
    "create_endpoint_response = client.create_endpoint(\n",
    "    EndpointName=endpoint_name, EndpointConfigName=endpoint_config_name\n",
    ")\n",
    "print(create_endpoint_response[\"EndpointArn\"])\n",
    "\n",
    "resp = client.describe_endpoint(EndpointName=endpoint_name)\n",
    "status = resp[\"EndpointStatus\"]\n",
    "while status == \"Creating\":\n",
    "    print(f\"Status: {status}\")\n",
    "    time.sleep(60)\n",
    "    resp = client.describe_endpoint(EndpointName=endpoint_name)\n",
    "    status = resp[\"EndpointStatus\"]\n",
    "\n",
    "print(f\"Arn: {resp['EndpointArn']}\")\n",
    "print(f\"Status: {status}\")"
   ]
  },
  {
   "cell_type": "markdown",
   "id": "fddf9389",
   "metadata": {},
   "source": [
    "## 5.Inference\n",
    "\n",
    "In this section we will validate scoring logics. In below code snippet we are scoring with 14 predictor values and finding the result"
   ]
  },
  {
   "cell_type": "code",
   "execution_count": 7,
   "id": "d16680e4",
   "metadata": {},
   "outputs": [
    {
     "name": "stdout",
     "output_type": "stream",
     "text": [
      "8060\n"
     ]
    }
   ],
   "source": [
    "payload={'year': 2018, 'manufacturer': 5, 'model': '147', 'condition': '2', 'cylinders': '4', 'fuel': '2', 'odometer': '2000', 'title_status': 0, 'transmission': '2', 'drive': '3', 'type': '8', 'paint_color': '6'}\n",
    "scoring_vector = [payload['year'],payload['manufacturer'],payload['model'],payload['condition'],payload['cylinders'],payload['fuel'],payload['odometer'],payload['title_status'],payload['transmission'],payload['drive'],payload['type'],payload['paint_color']]\n",
    "xgbody = ','.join([str(item) for item in scoring_vector])\n",
    "client = boto3.client('sagemaker-runtime')\n",
    "response_model_xgboost = client.invoke_endpoint(EndpointName=endpoint_name,\n",
    "                               ContentType='text/csv',\n",
    "                               Body=xgbody)\n",
    "result_xgboost = float(response_model_xgboost[\"Body\"].read())\n",
    "print(result_xgboost)"
   ]
  },
  {
   "cell_type": "code",
   "execution_count": 100,
   "id": "6de32ff3",
   "metadata": {},
   "outputs": [
    {
     "name": "stdout",
     "output_type": "stream",
     "text": [
      "0.591345486,5.424464379,0.950671615,0.581766684,1.023412717,8.364105669,0.080246146,10,0,0\n",
      "11.862833023071289\n"
     ]
    }
   ],
   "source": [
    "payload={'year': 2018, 'manufacturer': 5, 'model': '147', 'condition': '2', 'cylinders': '4', 'fuel': '2', 'odometer': '2000', 'title_status': 0, 'transmission': '2', 'drive': '3', 'type': '8', 'paint_color': '6'}\n",
    "scoring_vector = [0.591345486,5.424464379,0.950671615,0.581766684,1.023412717,8.364105669,0.080246146,10,0,0]\n",
    "xgbody = ','.join([str(item) for item in scoring_vector])\n",
    "print(xgbody)\n",
    "#payload=0.591345486,0.424464379,0.250671615,0.581766684,1.023412717,0.364105669,0.080246146,1,0,0\n",
    "client = boto3.client('sagemaker-runtime')\n",
    "response_model_xgboost = client.invoke_endpoint(EndpointName=\"MLOPsDemo-prod\",\n",
    "                               ContentType='text/csv',\n",
    "                               Body=xgbody)\n",
    "result_xgboost = float(response_model_xgboost[\"Body\"].read())\n",
    "print(result_xgboost)"
   ]
  },
  {
   "cell_type": "markdown",
   "id": "96ef3471",
   "metadata": {},
   "source": [
    "**Note:** Similarly you can change the test vector and can see how endpoint is working"
   ]
  }
 ],
 "metadata": {
  "kernelspec": {
   "display_name": "conda_python3",
   "language": "python",
   "name": "conda_python3"
  },
  "language_info": {
   "codemirror_mode": {
    "name": "ipython",
    "version": 3
   },
   "file_extension": ".py",
   "mimetype": "text/x-python",
   "name": "python",
   "nbconvert_exporter": "python",
   "pygments_lexer": "ipython3",
   "version": "3.6.13"
  }
 },
 "nbformat": 4,
 "nbformat_minor": 5
}
