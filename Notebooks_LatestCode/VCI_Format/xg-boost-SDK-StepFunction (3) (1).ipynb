{
 "cells": [
  {
   "cell_type": "markdown",
   "id": "36923a5d",
   "metadata": {},
   "source": [
    "## Introduction\n",
    "\n",
    "This notebook describes using the AWS Step Functions Data Science SDK to create and manage workflows. The Step Functions SDK is an open source library that allows data scientists to easily create and execute machine learning workflows using AWS Step Functions and Amazon SageMaker. For more information, see the following.\n",
    "* [AWS Step Functions](https://aws.amazon.com/step-functions/)\n",
    "* [AWS Step Functions Developer Guide](https://docs.aws.amazon.com/step-functions/latest/dg/welcome.html)\n",
    "* [AWS Step Functions Data Science SDK](https://aws-step-functions-data-science-sdk.readthedocs.io)\n",
    "\n",
    "In this notebook we will use the SDK to create steps, link them together to create a workflow, and execute the workflow in AWS Step Functions. "
   ]
  },
  {
   "cell_type": "code",
   "execution_count": 107,
   "id": "1ab9b76b",
   "metadata": {},
   "outputs": [],
   "source": [
    "# import sys\n",
    "# !{sys.executable} -m pip install --upgrade pip\n",
    "# !{sys.executable} -m pip install -qU awscli boto3 \"sagemaker>=2.0.0\"\n",
    "# !{sys.executable} -m pip install -qU \"stepfunctions>=2.0.0\"\n",
    "# !{sys.executable} -m pip show sagemaker stepfunctions"
   ]
  },
  {
   "cell_type": "markdown",
   "id": "87b3d3b1",
   "metadata": {},
   "source": [
    "## Prequisite "
   ]
  },
  {
   "cell_type": "markdown",
   "id": "2ce20748",
   "metadata": {},
   "source": [
    "It is assumed that lambda functions for checking if model already exist or not and required IAM roles for Sagemaker, Step function is already created. <br/>\n",
    "In this notebook we are going to use Step Functions SDK build-up for Sagemaker\n"
   ]
  },
  {
   "cell_type": "markdown",
   "id": "cb093648",
   "metadata": {},
   "source": [
    "## 1. Preprocessing logic script\n",
    "\n",
    "1. Below is the preprocessing logic script which we will upload on S3 it will be used in preprocessing job. These scripts are the logic script which we have generated for preprocessing activities. Upload it on S3 and then we can use it as the parameter.\n",
    "\n",
    "2. The data imported here have already been checked for its quality. The data preprocessing done in the experiment checks that all quality is great."
   ]
  },
  {
   "cell_type": "code",
   "execution_count": 108,
   "id": "0e2ccd2c",
   "metadata": {
    "scrolled": true
   },
   "outputs": [
    {
     "name": "stdout",
     "output_type": "stream",
     "text": [
      "Overwriting processing_xgboost_script.py\n"
     ]
    }
   ],
   "source": [
    "%%writefile processing_xgboost_script.py\n",
    "# Importing required library\n",
    "import pandas as pd\n",
    "import numpy as np\n",
    "from sklearn.impute import SimpleImputer\n",
    "# you can put any value here according to your situation\n",
    "chunksize = 10000\n",
    "from sklearn import preprocessing\n",
    "\n",
    "data = pd.read_csv('/opt/ml/processing/input/inputdata.csv') # Note this is the input location where we will get our data set downloaded\n",
    "df = data.copy()\n",
    "df.drop(columns=['Unnamed: 0', 'id', 'url', 'region', 'region_url', 'VIN', 'size', 'image_url', 'description', \n",
    "                 'state', 'lat', 'long'], inplace=True)\n",
    "imr = SimpleImputer(strategy='mean')\n",
    "imr = imr.fit(df[['odometer']])\n",
    "imputed_data = imr.transform(df[['odometer']])\n",
    "df['odometer'] = pd.DataFrame(imputed_data)\n",
    "def encode_features(dataframe):\n",
    "    result = dataframe.copy()\n",
    "    encoders = {}\n",
    "    for column in result.columns:\n",
    "        if result.dtypes[column] == np.object:\n",
    "            encoders[column] = preprocessing.LabelEncoder()\n",
    "            result[column] = encoders[column].fit_transform(result[column])\n",
    "    return result, encoders\n",
    "\n",
    "# 'description'\n",
    "encoded_df, encoders = encode_features(df.astype(str))\n",
    "train_data, validation_data, test_data = np.split(encoded_df.sample(frac=1, random_state=1729), [int(0.7 * len(encoded_df)), int(0.9*len(encoded_df))]) # Splitting dataset \n",
    "train_data.to_csv('/opt/ml/processing/train/train.csv', index=False, header=False) # train data\n",
    "validation_data.to_csv('/opt/ml/processing/validation/validation_data.csv', index=False, header=False) # validation data\n",
    "test_data = test_data.iloc[:,1:] # removing column where we have to do predictions\n",
    "test_data.to_csv('/opt/ml/processing/test/test.csv', index=False, header=False) # test data "
   ]
  },
  {
   "cell_type": "markdown",
   "id": "eb0557e0",
   "metadata": {},
   "source": [
    "## 2. PARAMETERS\n",
    "\n",
    "Below are the list of paramters which we have to change inorder to run below sdk\n"
   ]
  },
  {
   "cell_type": "code",
   "execution_count": 109,
   "id": "e4133336",
   "metadata": {},
   "outputs": [],
   "source": [
    "import sagemaker"
   ]
  },
  {
   "cell_type": "code",
   "execution_count": 110,
   "id": "13e092f1",
   "metadata": {},
   "outputs": [],
   "source": [
    "v_workflow_execution_role = \"arn:aws:iam::014257795134:role/ds-mlops-stepfunction-role\" # Step function IAM role ARN\n",
    "v_preprocessing_iam_role = \"arn:aws:iam::014257795134:role/ds-mlops-sagemaker-role\" # IAM role for preprocessing container\n",
    "v_preprocessing_instance_type = \"ml.m5.xlarge\" # Instance type for preprocessing container it changes as per workload\n",
    "v_s3_bucket = \"ds-mlops-s3\" # S3 bucket for input and output data\n",
    "v_prefix_for_input_data = \"data/input/inputdata.csv\"  # Prefix where data is stored\n",
    "v_prefix_for_code_location = \"code/processing_xgboost_script.py\" # prefix where code is stored\n",
    "v_lambda_function_name = \"ds_mlops_lambda_test\" # Name of lambda function for triggering training pipeline.\n",
    "v_region = 'us-east-1' # AWS region\n",
    "v_model_container = sagemaker.image_uris.retrieve('xgboost', v_region, '1.2-1') # XGboost conatiner\n",
    "v_train_instance_type = \"ml.m5.xlarge\" # Instance type for training\n",
    "v_validation_scoring_instance_type = \"ml.m5.large\" # Instance type for batch scoring\n",
    "v_model_name_1 = \"ds-mlops-xgboost\" # Name of DS_MLOPS model to be kept"
   ]
  },
  {
   "cell_type": "markdown",
   "id": "a9af03e8",
   "metadata": {},
   "source": [
    "## 3 Import the required modules from the SDK and uploading code to s3"
   ]
  },
  {
   "cell_type": "code",
   "execution_count": 111,
   "id": "c618e2ba",
   "metadata": {},
   "outputs": [],
   "source": [
    "import stepfunctions\n",
    "import logging\n",
    "\n",
    "from stepfunctions.steps import *\n",
    "from stepfunctions.workflow import Workflow\n",
    "from stepfunctions.inputs import ExecutionInput\n",
    "from sagemaker.processing import Processor,ProcessingInput, ProcessingOutput\n",
    "import uuid\n",
    "import sagemaker\n",
    "from sagemaker.inputs import TrainingInput\n",
    "import boto3\n",
    "from sagemaker.network import NetworkConfig\n",
    "from stepfunctions import steps\n",
    "\n",
    "stepfunctions.set_stream_logger(level=logging.INFO)\n",
    "\n",
    "sec_groups = [\"sg-01d629a900f9b4d92\"]\n",
    "subnets = [\"subnet-07bd1dfe6aee76227\",\n",
    "           \"subnet-076950ecc89d4340b\",\n",
    "           \"subnet-0c5a462cb45a14bab\"]\n",
    "stepfunctions.set_stream_logger(level=logging.INFO)"
   ]
  },
  {
   "cell_type": "code",
   "execution_count": 112,
   "id": "7e09e570",
   "metadata": {},
   "outputs": [
    {
     "name": "stdout",
     "output_type": "stream",
     "text": [
      "upload: ./processing_xgboost_script.py to s3://ds-mlops-s3/code/processing_xgboost_script.py\r\n"
     ]
    }
   ],
   "source": [
    "!aws s3 cp processing_xgboost_script.py s3://$v_s3_bucket/$v_prefix_for_code_location # Uploading preprocessing code on s3"
   ]
  },
  {
   "cell_type": "markdown",
   "id": "1454f3f0",
   "metadata": {},
   "source": [
    "## 4. Create workflow\n",
    "\n",
    "In the following cell, you will define the step that you will use in our first workflow.  Then you will create, visualize and execute the workflow. \n",
    "\n",
    "Steps relate to states in AWS Step Functions. For more information, see [States](https://docs.aws.amazon.com/step-functions/latest/dg/concepts-states.html) in the *AWS Step Functions Developer Guide*. For more information on the AWS Step Functions Data Science SDK APIs, see: https://aws-step-functions-data-science-sdk.readthedocs.io. "
   ]
  },
  {
   "cell_type": "markdown",
   "id": "d5f468c1",
   "metadata": {},
   "source": [
    "## 4.1 Creating Pre-Processing step"
   ]
  },
  {
   "cell_type": "code",
   "execution_count": 113,
   "id": "154786c2",
   "metadata": {},
   "outputs": [],
   "source": [
    "processor = Processor(image_uri='683313688378.dkr.ecr.us-east-1.amazonaws.com/sagemaker-scikit-learn:0.20.0-cpu-py3',\n",
    "                      network_config = NetworkConfig(security_group_ids = sec_groups, subnets = subnets),\n",
    "                     role=v_preprocessing_iam_role,\n",
    "                     instance_count=1,\n",
    "                     instance_type=v_preprocessing_instance_type)"
   ]
  },
  {
   "cell_type": "code",
   "execution_count": 114,
   "id": "6a952d1a",
   "metadata": {},
   "outputs": [],
   "source": [
    "input_data = \"s3://{}/{}\".format(v_s3_bucket,v_prefix_for_input_data)\n",
    "input_code = \"s3://{}/{}\".format(v_s3_bucket,v_prefix_for_code_location)\n",
    "output_data = \"s3://{}/{}\".format(v_s3_bucket,\"preprocess-data\")\n",
    "\n",
    "inputs = [\n",
    "    ProcessingInput(\n",
    "        source=input_data, destination=\"/opt/ml/processing/input\", input_name=\"input\"\n",
    "    ),\n",
    "    ProcessingInput(\n",
    "        source=input_code,\n",
    "        destination=\"/opt/ml/processing/input/code\",\n",
    "        input_name=\"code\",\n",
    "    ),\n",
    "]\n",
    "\n",
    "outputs = [\n",
    "    ProcessingOutput(\n",
    "        source=\"/opt/ml/processing/train\",\n",
    "        destination=\"{}/{}\".format(output_data,\"train\"),\n",
    "        output_name=\"train_data\",\n",
    "    ),\n",
    "    ProcessingOutput(\n",
    "        source=\"/opt/ml/processing/test\",\n",
    "        destination=\"{}/{}\".format(output_data, \"test\"),\n",
    "        output_name=\"test_data\",\n",
    "    ),\n",
    "    ProcessingOutput(\n",
    "        source=\"/opt/ml/processing/validation\",\n",
    "        destination=\"{}/{}\".format(output_data, \"validation\"),\n",
    "        output_name=\"validation_data\",\n",
    "    )\n",
    "]"
   ]
  },
  {
   "cell_type": "code",
   "execution_count": 115,
   "id": "c4456c26",
   "metadata": {},
   "outputs": [],
   "source": [
    "# Generate unique names for Pre-Processing Job, Training Job, and Model Evaluation Job for the Step Functions Workflow\n",
    "training_job_name = \"xg-boost-training-{}\".format(\n",
    "    uuid.uuid1().hex\n",
    ")  # Each Training Job requires a unique name\n",
    "preprocessing_job_name = \"xg-boost-preprocessing-{}\".format(\n",
    "    uuid.uuid1().hex\n",
    ")  # Each Preprocessing job requires a unique name,\n",
    "evaluation_job_name = \"xg-boost-evaluation-{}\".format(\n",
    "    uuid.uuid1().hex\n",
    ")  # Each Evaluation Job requires a unique name\n",
    "scoring_job_name = \"score-{}\".format(\n",
    "    uuid.uuid1().hex\n",
    ")  # Each Evaluation Job requires a unique name"
   ]
  },
  {
   "cell_type": "code",
   "execution_count": 116,
   "id": "4ba057b5",
   "metadata": {},
   "outputs": [],
   "source": [
    "# SageMaker expects unique names for each job, model and endpoint.\n",
    "# If these names are not unique the execution will fail. Pass these dynamically for each execution using placeholders.\n",
    "execution_input = ExecutionInput(\n",
    "    schema={\n",
    "        \"PreprocessingJobName\": str,\n",
    "        \"TrainingJobName\": str,\n",
    "        \"EvaluationProcessingJobName\": str,\n",
    "        \"ModelName\": str,\n",
    "        \"ScoreJobName\":str\n",
    "    }\n",
    ")"
   ]
  },
  {
   "cell_type": "code",
   "execution_count": 117,
   "id": "f427d900",
   "metadata": {},
   "outputs": [],
   "source": [
    "preprocessing_step = ProcessingStep(\n",
    "    state_id='Pre-processing', \n",
    "    processor=processor,\n",
    "    job_name=execution_input[\"PreprocessingJobName\"], \n",
    "    inputs=inputs, \n",
    "    outputs=outputs, \n",
    "    experiment_config=None, \n",
    "    container_entrypoint=[\"python3\", \"/opt/ml/processing/input/code/processing_xgboost_script.py\"], # DS needs to change this directory /path\n",
    "    wait_for_completion=True\n",
    ")"
   ]
  },
  {
   "cell_type": "markdown",
   "id": "b97dbe28",
   "metadata": {},
   "source": [
    "## 4.2 Train trigger lambda function (Check if model with same name exists)"
   ]
  },
  {
   "cell_type": "markdown",
   "id": "cc6e9250",
   "metadata": {},
   "source": [
    "In the following cell, we define a lambda step that will invoke the previously created lambda function as part of our Step Function workflow. See [LambdaStep](https://aws-step-functions-data-science-sdk.readthedocs.io/en/latest/compute.html#stepfunctions.steps.compute.LambdaStep) in the AWS Step Functions Data Science SDK documentation to learn more."
   ]
  },
  {
   "cell_type": "code",
   "execution_count": 118,
   "id": "e44ff2fe",
   "metadata": {},
   "outputs": [],
   "source": [
    "client = boto3.client('sagemaker') # getting sagemaker client \n",
    "try:\n",
    "    client.delete_model(\n",
    "        ModelName=v_model_name # delete if some model exist with this name\n",
    "    )\n",
    "except:\n",
    "    pass"
   ]
  },
  {
   "cell_type": "code",
   "execution_count": 119,
   "id": "20dd4779",
   "metadata": {},
   "outputs": [],
   "source": [
    "lambda_step = compute.LambdaStep(\n",
    "    'Start Training',\n",
    "    parameters={  \n",
    "        \"FunctionName\": v_lambda_function_name\n",
    "    }\n",
    ")"
   ]
  },
  {
   "cell_type": "markdown",
   "id": "98d1f039",
   "metadata": {},
   "source": [
    "## 4.3 Train model"
   ]
  },
  {
   "cell_type": "markdown",
   "id": "fea2f854",
   "metadata": {},
   "source": [
    "### Create a SageMaker Training Step \n",
    "\n",
    "In the following cell, we create the training step and pass the estimator we defined above. See  [TrainingStep](https://aws-step-functions-data-science-sdk.readthedocs.io/en/latest/sagemaker.html#stepfunctions.steps.sagemaker.TrainingStep) in the AWS Step Functions Data Science SDK documentation to learn more."
   ]
  },
  {
   "cell_type": "code",
   "execution_count": 120,
   "id": "58077851",
   "metadata": {},
   "outputs": [
    {
     "name": "stdout",
     "output_type": "stream",
     "text": [
      "no stored variable or alias #\n",
      "no stored variable or alias generate\n",
      "no stored variable or alias the\n",
      "no stored variable or alias hyperparameter\n",
      "no stored variable or alias names\n",
      "no stored variable or alias from\n",
      "no stored variable or alias the\n",
      "no stored variable or alias experiment\n",
      "no stored variable or alias notebook\n"
     ]
    }
   ],
   "source": [
    "%store -r best_hyper_parameter # generate the hyperparameter names from the experiment notebook"
   ]
  },
  {
   "cell_type": "code",
   "execution_count": 121,
   "id": "29fe9b29",
   "metadata": {},
   "outputs": [
    {
     "name": "stdout",
     "output_type": "stream",
     "text": [
      "{'alpha': '0.7166395818203134', 'eta': '0.028924004203585832', 'gamma': '2', 'max_depth': '7', 'min_child_weight': '5.756090427818192'}\n"
     ]
    }
   ],
   "source": [
    "print(best_hyper_parameter) # get you all those stored param here in the SDK notebook. You just need to export all from experiment and refer those param name here in the SDK notebook. No need to do hardcoding, pass those imported param name here."
   ]
  },
  {
   "cell_type": "code",
   "execution_count": 122,
   "id": "4dd47f69",
   "metadata": {},
   "outputs": [
    {
     "name": "stdout",
     "output_type": "stream",
     "text": [
      "alpha = 0.7166395818203134 eta = 0.028924004203585832 gamma = 2 max_depth = 7 min_child_weight = 5.756090427818192\n"
     ]
    }
   ],
   "source": [
    "print(\"alpha =\", best_hyper_parameter[\"alpha\"],\n",
    "     \"eta =\", best_hyper_parameter[\"eta\"],\n",
    "     \"gamma =\", best_hyper_parameter[\"gamma\"],\n",
    "     \"max_depth =\", best_hyper_parameter[\"max_depth\"],\n",
    "     \"min_child_weight =\", best_hyper_parameter[\"min_child_weight\"])\n"
   ]
  },
  {
   "cell_type": "code",
   "execution_count": 123,
   "id": "fa79b633",
   "metadata": {},
   "outputs": [],
   "source": [
    "sagemaker_execution_role =  sagemaker.get_execution_role()\n",
    "training_output = 's3://{}/models'.format(v_s3_bucket) # model output locations\n",
    "xgb = sagemaker.estimator.Estimator(v_container,\n",
    "                                    sagemaker_execution_role, \n",
    "                                    train_instance_count=1, \n",
    "                                    train_instance_type=v_train_instance_type,\n",
    "                                    output_path=training_output,\n",
    "                                    security_group_ids=sec_groups,\n",
    "                                    subnets=subnets)\n",
    "\n",
    "xgb.set_hyperparameters(alpha= best_hyper_parameter,\n",
    "                       eta= best_hyper_parameter,\n",
    "                       gamma= best_hyper_parameter,\n",
    "                       max_depth= best_hyper_parameter,\n",
    "                       min_child_weight = best_hyper_parameter,\n",
    "                       subsample=0.7,\n",
    "                       verbosity=0,\n",
    "                       objective=\"reg:linear\",\n",
    "                       num_round=50) # Obtained from the experiment notebook -- got from the best model params...\n"
   ]
  },
  {
   "cell_type": "code",
   "execution_count": 124,
   "id": "cc788dda",
   "metadata": {},
   "outputs": [],
   "source": [
    "training_step = TrainingStep(\n",
    "    'Model Training(XGBoost)', \n",
    "    estimator=xgb,\n",
    "    data={\n",
    "        'train': TrainingInput(\"{}/{}\".format(output_data,\"train\"), content_type='csv'),\n",
    "        'validation': TrainingInput(\"{}/{}\".format(output_data, \"validation\"), content_type='csv')\n",
    "    },\n",
    "    job_name=execution_input['TrainingJobName'],\n",
    "    wait_for_completion=True\n",
    ")"
   ]
  },
  {
   "cell_type": "markdown",
   "id": "10380757",
   "metadata": {},
   "source": [
    "## 4.4 Create a Model\n",
    "\n",
    "In the following cell, we define a model step that will create a model in Amazon SageMaker using the artifacts created during the TrainingStep. See  [ModelStep](https://aws-step-functions-data-science-sdk.readthedocs.io/en/latest/sagemaker.html#stepfunctions.steps.sagemaker.ModelStep) in the AWS Step Functions Data Science SDK documentation to learn more.\n",
    "\n",
    "The model creation step typically follows the training step. The Step Functions SDK provides the [get_expected_model](https://aws-step-functions-data-science-sdk.readthedocs.io/en/latest/sagemaker.html#stepfunctions.steps.sagemaker.TrainingStep.get_expected_model) method in the TrainingStep class to provide a reference for the trained model artifacts. Please note that this method is only useful when the ModelStep directly follows the TrainingStep."
   ]
  },
  {
   "cell_type": "code",
   "execution_count": 125,
   "id": "df9e5056",
   "metadata": {},
   "outputs": [],
   "source": [
    "model_step = ModelStep(\n",
    "    'Save Model',\n",
    "    model=training_step.get_expected_model(),\n",
    "    model_name=execution_input['ModelName'],\n",
    "    result_path='$.ModelStepResults'\n",
    ")"
   ]
  },
  {
   "cell_type": "markdown",
   "id": "281cd5bb",
   "metadata": {},
   "source": [
    "## 4.5 Create a batch transform step\n",
    "\n",
    "Now once all the above steps are done we will perform scoring on a small data set to see all the components are working fine"
   ]
  },
  {
   "cell_type": "code",
   "execution_count": 126,
   "id": "5ef47853",
   "metadata": {},
   "outputs": [],
   "source": [
    "from sagemaker.inputs import TransformInput\n",
    "\n",
    "batch_scoring = TransformStep(\n",
    "    state_id=\"validation-step\",\n",
    "    job_name=execution_input['ScoreJobName'],\n",
    "    transformer=xgb.transformer(instance_count=1,\n",
    "                                instance_type=v_validation_scoring_instance_type),\n",
    "    data=\"{}/{}\".format(output_data, \"test\"), # location for test data\n",
    "    model_name=execution_input['ModelName'],\n",
    "    content_type=\"text/csv\"\n",
    ")"
   ]
  },
  {
   "cell_type": "markdown",
   "id": "578f6d36",
   "metadata": {},
   "source": [
    "## 4.6 Chain together steps for the basic path\n",
    "\n",
    "The following cell links together the steps you've created into a sequential group called `basic_path`. We will chain a single step to create our basic path. See [Chain](https://aws-step-functions-data-science-sdk.readthedocs.io/en/latest/states.html#stepfunctions.steps.states.Chain) in the AWS Step Functions Data Science SDK documentation.\n",
    "\n",
    "After chaining together the steps for the basic path, in this case only one step, we will visualize the basic path."
   ]
  },
  {
   "cell_type": "code",
   "execution_count": 127,
   "id": "48bee35d",
   "metadata": {},
   "outputs": [],
   "source": [
    "# First we chain the start pass state\n",
    "basic_path=Chain([preprocessing_step,\n",
    "                  lambda_step,\n",
    "                  training_step,\n",
    "                  model_step,\n",
    "                  batch_scoring])"
   ]
  },
  {
   "cell_type": "markdown",
   "id": "cf892284",
   "metadata": {},
   "source": [
    "## 4.7 Define the workflow instance\n",
    "\n",
    "The following cell defines the [workflow](https://aws-step-functions-data-science-sdk.readthedocs.io/en/latest/workflow.html#stepfunctions.workflow.Workflow) with the path we just defined.\n",
    "\n",
    "After defining the workflow, we will render the graph to see what our workflow looks like."
   ]
  },
  {
   "cell_type": "code",
   "execution_count": 128,
   "id": "c9f3aa07",
   "metadata": {},
   "outputs": [
    {
     "data": {
      "text/html": [
       "\n",
       "<link rel=\"stylesheet\" type=\"text/css\" href=\"https://do0of8uwbahzz.cloudfront.net/graph.css\">\n",
       "<div id=\"graph-436\" class=\"workflowgraph\">\n",
       "    \n",
       "    <svg></svg>\n",
       "    \n",
       "</div>\n",
       "\n",
       "<script type=\"text/javascript\">\n",
       "\n",
       "require.config({\n",
       "    paths: {\n",
       "        sfn: \"https://do0of8uwbahzz.cloudfront.net/sfn\",\n",
       "    }\n",
       "});\n",
       "\n",
       "require(['sfn'], function(sfn) {\n",
       "    var element = document.getElementById('graph-436')\n",
       "\n",
       "    var options = {\n",
       "        width: parseFloat(getComputedStyle(element, null).width.replace(\"px\", \"\")),\n",
       "        height: 600,\n",
       "        layout: 'LR',\n",
       "        resizeHeight: true\n",
       "    };\n",
       "\n",
       "    var definition = {\"StartAt\": \"Pre-processing\", \"States\": {\"Pre-processing\": {\"Resource\": \"arn:aws:states:::sagemaker:createProcessingJob.sync\", \"Parameters\": {\"ProcessingJobName.$\": \"$$.Execution.Input['PreprocessingJobName']\", \"ProcessingInputs\": [{\"InputName\": \"input\", \"AppManaged\": false, \"S3Input\": {\"S3Uri\": \"s3://ds-mlops-s3/data/input/inputdata.csv\", \"LocalPath\": \"/opt/ml/processing/input\", \"S3DataType\": \"S3Prefix\", \"S3InputMode\": \"File\", \"S3DataDistributionType\": \"FullyReplicated\", \"S3CompressionType\": \"None\"}}, {\"InputName\": \"code\", \"AppManaged\": false, \"S3Input\": {\"S3Uri\": \"s3://ds-mlops-s3/code/processing_xgboost_script.py\", \"LocalPath\": \"/opt/ml/processing/input/code\", \"S3DataType\": \"S3Prefix\", \"S3InputMode\": \"File\", \"S3DataDistributionType\": \"FullyReplicated\", \"S3CompressionType\": \"None\"}}], \"ProcessingOutputConfig\": {\"Outputs\": [{\"OutputName\": \"train_data\", \"AppManaged\": false, \"S3Output\": {\"S3Uri\": \"s3://ds-mlops-s3/preprocess-data/train\", \"LocalPath\": \"/opt/ml/processing/train\", \"S3UploadMode\": \"EndOfJob\"}}, {\"OutputName\": \"test_data\", \"AppManaged\": false, \"S3Output\": {\"S3Uri\": \"s3://ds-mlops-s3/preprocess-data/test\", \"LocalPath\": \"/opt/ml/processing/test\", \"S3UploadMode\": \"EndOfJob\"}}, {\"OutputName\": \"validation_data\", \"AppManaged\": false, \"S3Output\": {\"S3Uri\": \"s3://ds-mlops-s3/preprocess-data/validation\", \"LocalPath\": \"/opt/ml/processing/validation\", \"S3UploadMode\": \"EndOfJob\"}}]}, \"AppSpecification\": {\"ImageUri\": \"683313688378.dkr.ecr.us-east-1.amazonaws.com/sagemaker-scikit-learn:0.20.0-cpu-py3\", \"ContainerEntrypoint\": [\"python3\", \"/opt/ml/processing/input/code/processing_xgboost_script.py\"]}, \"RoleArn\": \"arn:aws:iam::014257795134:role/ds-mlops-sagemaker-role\", \"NetworkConfig\": {\"EnableNetworkIsolation\": false, \"VpcConfig\": {\"SecurityGroupIds\": [\"sg-01d629a900f9b4d92\"], \"Subnets\": [\"subnet-07bd1dfe6aee76227\", \"subnet-076950ecc89d4340b\", \"subnet-0c5a462cb45a14bab\"]}}, \"ProcessingResources\": {\"ClusterConfig\": {\"InstanceCount\": 1, \"InstanceType\": \"ml.m5.xlarge\", \"VolumeSizeInGB\": 30}}}, \"Type\": \"Task\", \"Next\": \"Start Training\"}, \"Start Training\": {\"Parameters\": {\"FunctionName\": \"ds_mlops_lambda_test\"}, \"Resource\": \"arn:aws:states:::lambda:invoke\", \"Type\": \"Task\", \"Next\": \"Model Training(XGBoost)\"}, \"Model Training(XGBoost)\": {\"Resource\": \"arn:aws:states:::sagemaker:createTrainingJob.sync\", \"Parameters\": {\"AlgorithmSpecification\": {\"TrainingImage\": \"683313688378.dkr.ecr.us-east-1.amazonaws.com/sagemaker-xgboost:1.2-1\", \"TrainingInputMode\": \"File\"}, \"OutputDataConfig\": {\"S3OutputPath\": \"s3://ds-mlops-s3/models\"}, \"StoppingCondition\": {\"MaxRuntimeInSeconds\": 86400}, \"ResourceConfig\": {\"InstanceCount\": 1, \"InstanceType\": \"ml.m5.xlarge\", \"VolumeSizeInGB\": 30}, \"RoleArn\": \"arn:aws:iam::014257795134:role/ds-mlops-sagemaker-role\", \"InputDataConfig\": [{\"DataSource\": {\"S3DataSource\": {\"S3DataType\": \"S3Prefix\", \"S3Uri\": \"s3://ds-mlops-s3/preprocess-data/train\", \"S3DataDistributionType\": \"FullyReplicated\"}}, \"ContentType\": \"csv\", \"ChannelName\": \"train\"}, {\"DataSource\": {\"S3DataSource\": {\"S3DataType\": \"S3Prefix\", \"S3Uri\": \"s3://ds-mlops-s3/preprocess-data/validation\", \"S3DataDistributionType\": \"FullyReplicated\"}}, \"ContentType\": \"csv\", \"ChannelName\": \"validation\"}], \"VpcConfig\": {\"Subnets\": [\"subnet-07bd1dfe6aee76227\", \"subnet-076950ecc89d4340b\", \"subnet-0c5a462cb45a14bab\"], \"SecurityGroupIds\": [\"sg-01d629a900f9b4d92\"]}, \"HyperParameters\": {\"alpha\": \"{'alpha': '0.7166395818203134', 'eta': '0.028924004203585832', 'gamma': '2', 'max_depth': '7', 'min_child_weight': '5.756090427818192'}\", \"eta\": \"{'alpha': '0.7166395818203134', 'eta': '0.028924004203585832', 'gamma': '2', 'max_depth': '7', 'min_child_weight': '5.756090427818192'}\", \"gamma\": \"{'alpha': '0.7166395818203134', 'eta': '0.028924004203585832', 'gamma': '2', 'max_depth': '7', 'min_child_weight': '5.756090427818192'}\", \"max_depth\": \"{'alpha': '0.7166395818203134', 'eta': '0.028924004203585832', 'gamma': '2', 'max_depth': '7', 'min_child_weight': '5.756090427818192'}\", \"min_child_weight\": \"{'alpha': '0.7166395818203134', 'eta': '0.028924004203585832', 'gamma': '2', 'max_depth': '7', 'min_child_weight': '5.756090427818192'}\", \"subsample\": \"0.7\", \"verbosity\": \"0\", \"objective\": \"reg:linear\", \"num_round\": \"50\"}, \"TrainingJobName.$\": \"$$.Execution.Input['TrainingJobName']\"}, \"Type\": \"Task\", \"Next\": \"Save Model\"}, \"Save Model\": {\"ResultPath\": \"$.ModelStepResults\", \"Parameters\": {\"ExecutionRoleArn\": \"arn:aws:iam::014257795134:role/ds-mlops-sagemaker-role\", \"ModelName.$\": \"$$.Execution.Input['ModelName']\", \"PrimaryContainer\": {\"Environment\": {}, \"Image\": \"683313688378.dkr.ecr.us-east-1.amazonaws.com/sagemaker-xgboost:1.2-1\", \"ModelDataUrl.$\": \"$['ModelArtifacts']['S3ModelArtifacts']\"}}, \"Resource\": \"arn:aws:states:::sagemaker:createModel\", \"Type\": \"Task\", \"Next\": \"validation-step\"}, \"validation-step\": {\"Resource\": \"arn:aws:states:::sagemaker:createTransformJob.sync\", \"Parameters\": {\"TransformJobName.$\": \"$$.Execution.Input['ScoreJobName']\", \"ModelName.$\": \"$$.Execution.Input['ModelName']\", \"TransformInput\": {\"DataSource\": {\"S3DataSource\": {\"S3DataType\": \"S3Prefix\", \"S3Uri\": \"s3://ds-mlops-s3/preprocess-data/test\"}}, \"ContentType\": \"text/csv\"}, \"TransformOutput\": {\"S3OutputPath\": \"s3://sagemaker-us-east-1-014257795134/sagemaker-xgboost-2021-07-01-19-54-05-390\"}, \"TransformResources\": {\"InstanceCount\": 1, \"InstanceType\": \"ml.m5.large\"}}, \"Type\": \"Task\", \"End\": true}}};\n",
       "    var elementId = '#graph-436';\n",
       "\n",
       "    var graph = new sfn.StateMachineGraph(definition, elementId, options);\n",
       "    graph.render();\n",
       "});\n",
       "\n",
       "</script>\n"
      ],
      "text/plain": [
       "<IPython.core.display.HTML object>"
      ]
     },
     "execution_count": 128,
     "metadata": {},
     "output_type": "execute_result"
    }
   ],
   "source": [
    "# Next, we define the workflow\n",
    "basic_workflow = Workflow(\n",
    "    name=\"ds-mlops-xgboost-step-function\",\n",
    "    definition=basic_path,\n",
    "    role=v_workflow_execution_role\n",
    ")\n",
    "\n",
    "#Render the workflow\n",
    "basic_workflow.render_graph()"
   ]
  },
  {
   "cell_type": "markdown",
   "id": "8049e05f",
   "metadata": {},
   "source": [
    "## 4.8 Review the Amazon States Language code for your workflow\n",
    "\n",
    "The following renders the JSON of the [Amazon States Language](https://docs.aws.amazon.com/step-functions/latest/dg/concepts-amazon-states-language.html) definition of the workflow you created. "
   ]
  },
  {
   "cell_type": "code",
   "execution_count": 129,
   "id": "ecd56863",
   "metadata": {},
   "outputs": [
    {
     "name": "stdout",
     "output_type": "stream",
     "text": [
      "{\n",
      "    \"StartAt\": \"Pre-processing\",\n",
      "    \"States\": {\n",
      "        \"Pre-processing\": {\n",
      "            \"Resource\": \"arn:aws:states:::sagemaker:createProcessingJob.sync\",\n",
      "            \"Parameters\": {\n",
      "                \"ProcessingJobName.$\": \"$$.Execution.Input['PreprocessingJobName']\",\n",
      "                \"ProcessingInputs\": [\n",
      "                    {\n",
      "                        \"InputName\": \"input\",\n",
      "                        \"AppManaged\": false,\n",
      "                        \"S3Input\": {\n",
      "                            \"S3Uri\": \"s3://ds-mlops-s3/data/input/inputdata.csv\",\n",
      "                            \"LocalPath\": \"/opt/ml/processing/input\",\n",
      "                            \"S3DataType\": \"S3Prefix\",\n",
      "                            \"S3InputMode\": \"File\",\n",
      "                            \"S3DataDistributionType\": \"FullyReplicated\",\n",
      "                            \"S3CompressionType\": \"None\"\n",
      "                        }\n",
      "                    },\n",
      "                    {\n",
      "                        \"InputName\": \"code\",\n",
      "                        \"AppManaged\": false,\n",
      "                        \"S3Input\": {\n",
      "                            \"S3Uri\": \"s3://ds-mlops-s3/code/processing_xgboost_script.py\",\n",
      "                            \"LocalPath\": \"/opt/ml/processing/input/code\",\n",
      "                            \"S3DataType\": \"S3Prefix\",\n",
      "                            \"S3InputMode\": \"File\",\n",
      "                            \"S3DataDistributionType\": \"FullyReplicated\",\n",
      "                            \"S3CompressionType\": \"None\"\n",
      "                        }\n",
      "                    }\n",
      "                ],\n",
      "                \"ProcessingOutputConfig\": {\n",
      "                    \"Outputs\": [\n",
      "                        {\n",
      "                            \"OutputName\": \"train_data\",\n",
      "                            \"AppManaged\": false,\n",
      "                            \"S3Output\": {\n",
      "                                \"S3Uri\": \"s3://ds-mlops-s3/preprocess-data/train\",\n",
      "                                \"LocalPath\": \"/opt/ml/processing/train\",\n",
      "                                \"S3UploadMode\": \"EndOfJob\"\n",
      "                            }\n",
      "                        },\n",
      "                        {\n",
      "                            \"OutputName\": \"test_data\",\n",
      "                            \"AppManaged\": false,\n",
      "                            \"S3Output\": {\n",
      "                                \"S3Uri\": \"s3://ds-mlops-s3/preprocess-data/test\",\n",
      "                                \"LocalPath\": \"/opt/ml/processing/test\",\n",
      "                                \"S3UploadMode\": \"EndOfJob\"\n",
      "                            }\n",
      "                        },\n",
      "                        {\n",
      "                            \"OutputName\": \"validation_data\",\n",
      "                            \"AppManaged\": false,\n",
      "                            \"S3Output\": {\n",
      "                                \"S3Uri\": \"s3://ds-mlops-s3/preprocess-data/validation\",\n",
      "                                \"LocalPath\": \"/opt/ml/processing/validation\",\n",
      "                                \"S3UploadMode\": \"EndOfJob\"\n",
      "                            }\n",
      "                        }\n",
      "                    ]\n",
      "                },\n",
      "                \"AppSpecification\": {\n",
      "                    \"ImageUri\": \"683313688378.dkr.ecr.us-east-1.amazonaws.com/sagemaker-scikit-learn:0.20.0-cpu-py3\",\n",
      "                    \"ContainerEntrypoint\": [\n",
      "                        \"python3\",\n",
      "                        \"/opt/ml/processing/input/code/processing_xgboost_script.py\"\n",
      "                    ]\n",
      "                },\n",
      "                \"RoleArn\": \"arn:aws:iam::014257795134:role/ds-mlops-sagemaker-role\",\n",
      "                \"NetworkConfig\": {\n",
      "                    \"EnableNetworkIsolation\": false,\n",
      "                    \"VpcConfig\": {\n",
      "                        \"SecurityGroupIds\": [\n",
      "                            \"sg-01d629a900f9b4d92\"\n",
      "                        ],\n",
      "                        \"Subnets\": [\n",
      "                            \"subnet-07bd1dfe6aee76227\",\n",
      "                            \"subnet-076950ecc89d4340b\",\n",
      "                            \"subnet-0c5a462cb45a14bab\"\n",
      "                        ]\n",
      "                    }\n",
      "                },\n",
      "                \"ProcessingResources\": {\n",
      "                    \"ClusterConfig\": {\n",
      "                        \"InstanceCount\": 1,\n",
      "                        \"InstanceType\": \"ml.m5.xlarge\",\n",
      "                        \"VolumeSizeInGB\": 30\n",
      "                    }\n",
      "                }\n",
      "            },\n",
      "            \"Type\": \"Task\",\n",
      "            \"Next\": \"Start Training\"\n",
      "        },\n",
      "        \"Start Training\": {\n",
      "            \"Parameters\": {\n",
      "                \"FunctionName\": \"ds_mlops_lambda_test\"\n",
      "            },\n",
      "            \"Resource\": \"arn:aws:states:::lambda:invoke\",\n",
      "            \"Type\": \"Task\",\n",
      "            \"Next\": \"Model Training(XGBoost)\"\n",
      "        },\n",
      "        \"Model Training(XGBoost)\": {\n",
      "            \"Resource\": \"arn:aws:states:::sagemaker:createTrainingJob.sync\",\n",
      "            \"Parameters\": {\n",
      "                \"AlgorithmSpecification\": {\n",
      "                    \"TrainingImage\": \"683313688378.dkr.ecr.us-east-1.amazonaws.com/sagemaker-xgboost:1.2-1\",\n",
      "                    \"TrainingInputMode\": \"File\"\n",
      "                },\n",
      "                \"OutputDataConfig\": {\n",
      "                    \"S3OutputPath\": \"s3://ds-mlops-s3/models\"\n",
      "                },\n",
      "                \"StoppingCondition\": {\n",
      "                    \"MaxRuntimeInSeconds\": 86400\n",
      "                },\n",
      "                \"ResourceConfig\": {\n",
      "                    \"InstanceCount\": 1,\n",
      "                    \"InstanceType\": \"ml.m5.xlarge\",\n",
      "                    \"VolumeSizeInGB\": 30\n",
      "                },\n",
      "                \"RoleArn\": \"arn:aws:iam::014257795134:role/ds-mlops-sagemaker-role\",\n",
      "                \"InputDataConfig\": [\n",
      "                    {\n",
      "                        \"DataSource\": {\n",
      "                            \"S3DataSource\": {\n",
      "                                \"S3DataType\": \"S3Prefix\",\n",
      "                                \"S3Uri\": \"s3://ds-mlops-s3/preprocess-data/train\",\n",
      "                                \"S3DataDistributionType\": \"FullyReplicated\"\n",
      "                            }\n",
      "                        },\n",
      "                        \"ContentType\": \"csv\",\n",
      "                        \"ChannelName\": \"train\"\n",
      "                    },\n",
      "                    {\n",
      "                        \"DataSource\": {\n",
      "                            \"S3DataSource\": {\n",
      "                                \"S3DataType\": \"S3Prefix\",\n",
      "                                \"S3Uri\": \"s3://ds-mlops-s3/preprocess-data/validation\",\n",
      "                                \"S3DataDistributionType\": \"FullyReplicated\"\n",
      "                            }\n",
      "                        },\n",
      "                        \"ContentType\": \"csv\",\n",
      "                        \"ChannelName\": \"validation\"\n",
      "                    }\n",
      "                ],\n",
      "                \"VpcConfig\": {\n",
      "                    \"Subnets\": [\n",
      "                        \"subnet-07bd1dfe6aee76227\",\n",
      "                        \"subnet-076950ecc89d4340b\",\n",
      "                        \"subnet-0c5a462cb45a14bab\"\n",
      "                    ],\n",
      "                    \"SecurityGroupIds\": [\n",
      "                        \"sg-01d629a900f9b4d92\"\n",
      "                    ]\n",
      "                },\n",
      "                \"HyperParameters\": {\n",
      "                    \"alpha\": \"{'alpha': '0.7166395818203134', 'eta': '0.028924004203585832', 'gamma': '2', 'max_depth': '7', 'min_child_weight': '5.756090427818192'}\",\n",
      "                    \"eta\": \"{'alpha': '0.7166395818203134', 'eta': '0.028924004203585832', 'gamma': '2', 'max_depth': '7', 'min_child_weight': '5.756090427818192'}\",\n",
      "                    \"gamma\": \"{'alpha': '0.7166395818203134', 'eta': '0.028924004203585832', 'gamma': '2', 'max_depth': '7', 'min_child_weight': '5.756090427818192'}\",\n",
      "                    \"max_depth\": \"{'alpha': '0.7166395818203134', 'eta': '0.028924004203585832', 'gamma': '2', 'max_depth': '7', 'min_child_weight': '5.756090427818192'}\",\n",
      "                    \"min_child_weight\": \"{'alpha': '0.7166395818203134', 'eta': '0.028924004203585832', 'gamma': '2', 'max_depth': '7', 'min_child_weight': '5.756090427818192'}\",\n",
      "                    \"subsample\": \"0.7\",\n",
      "                    \"verbosity\": \"0\",\n",
      "                    \"objective\": \"reg:linear\",\n",
      "                    \"num_round\": \"50\"\n",
      "                },\n",
      "                \"TrainingJobName.$\": \"$$.Execution.Input['TrainingJobName']\"\n",
      "            },\n",
      "            \"Type\": \"Task\",\n",
      "            \"Next\": \"Save Model\"\n",
      "        },\n",
      "        \"Save Model\": {\n",
      "            \"ResultPath\": \"$.ModelStepResults\",\n",
      "            \"Parameters\": {\n",
      "                \"ExecutionRoleArn\": \"arn:aws:iam::014257795134:role/ds-mlops-sagemaker-role\",\n",
      "                \"ModelName.$\": \"$$.Execution.Input['ModelName']\",\n",
      "                \"PrimaryContainer\": {\n",
      "                    \"Environment\": {},\n",
      "                    \"Image\": \"683313688378.dkr.ecr.us-east-1.amazonaws.com/sagemaker-xgboost:1.2-1\",\n",
      "                    \"ModelDataUrl.$\": \"$['ModelArtifacts']['S3ModelArtifacts']\"\n",
      "                }\n",
      "            },\n",
      "            \"Resource\": \"arn:aws:states:::sagemaker:createModel\",\n",
      "            \"Type\": \"Task\",\n",
      "            \"Next\": \"validation-step\"\n",
      "        },\n",
      "        \"validation-step\": {\n",
      "            \"Resource\": \"arn:aws:states:::sagemaker:createTransformJob.sync\",\n",
      "            \"Parameters\": {\n",
      "                \"TransformJobName.$\": \"$$.Execution.Input['ScoreJobName']\",\n",
      "                \"ModelName.$\": \"$$.Execution.Input['ModelName']\",\n",
      "                \"TransformInput\": {\n",
      "                    \"DataSource\": {\n",
      "                        \"S3DataSource\": {\n",
      "                            \"S3DataType\": \"S3Prefix\",\n",
      "                            \"S3Uri\": \"s3://ds-mlops-s3/preprocess-data/test\"\n",
      "                        }\n",
      "                    },\n",
      "                    \"ContentType\": \"text/csv\"\n",
      "                },\n",
      "                \"TransformOutput\": {\n",
      "                    \"S3OutputPath\": \"s3://sagemaker-us-east-1-014257795134/sagemaker-xgboost-2021-07-01-19-54-05-390\"\n",
      "                },\n",
      "                \"TransformResources\": {\n",
      "                    \"InstanceCount\": 1,\n",
      "                    \"InstanceType\": \"ml.m5.large\"\n",
      "                }\n",
      "            },\n",
      "            \"Type\": \"Task\",\n",
      "            \"End\": true\n",
      "        }\n",
      "    }\n",
      "}\n"
     ]
    }
   ],
   "source": [
    "print(basic_workflow.definition.to_json(pretty=True)) # From this json we would be leveraging the codes to create the Cloud Formation parameterized template..."
   ]
  },
  {
   "cell_type": "markdown",
   "id": "54d25aa4",
   "metadata": {},
   "source": [
    "## 4.9 Create the workflow on AWS Step Functions\n",
    "\n",
    "Create the workflow in AWS Step Functions with [create](https://aws-step-functions-data-science-sdk.readthedocs.io/en/latest/workflow.html#stepfunctions.workflow.Workflow.create)."
   ]
  },
  {
   "cell_type": "code",
   "execution_count": 130,
   "id": "49898a0b",
   "metadata": {},
   "outputs": [
    {
     "name": "stdout",
     "output_type": "stream",
     "text": [
      "\u001b[31m[ERROR] A workflow with the same name already exists on AWS Step Functions. To update a workflow, use Workflow.update().\u001b[0m\n"
     ]
    },
    {
     "data": {
      "text/plain": [
       "'arn:aws:states:us-east-1:014257795134:stateMachine:ds-mlops-xgboost-step-function'"
      ]
     },
     "execution_count": 130,
     "metadata": {},
     "output_type": "execute_result"
    }
   ],
   "source": [
    "basic_workflow.create()"
   ]
  },
  {
   "cell_type": "code",
   "execution_count": 131,
   "id": "49bbf05a",
   "metadata": {},
   "outputs": [
    {
     "name": "stdout",
     "output_type": "stream",
     "text": [
      "\u001b[32m[INFO] Workflow updated successfully on AWS Step Functions. All execute() calls will use the updated definition and role within a few seconds. \u001b[0m\n"
     ]
    },
    {
     "data": {
      "text/plain": [
       "'arn:aws:states:us-east-1:014257795134:stateMachine:ds-mlops-xgboost-step-function'"
      ]
     },
     "execution_count": 131,
     "metadata": {},
     "output_type": "execute_result"
    }
   ],
   "source": [
    "basic_workflow.update(definition=basic_workflow.definition,role=basic_workflow.role)"
   ]
  },
  {
   "cell_type": "code",
   "execution_count": 132,
   "id": "f58345ab",
   "metadata": {},
   "outputs": [],
   "source": [
    "import time\n",
    "time.sleep(30)"
   ]
  },
  {
   "cell_type": "markdown",
   "id": "559760b5",
   "metadata": {},
   "source": [
    "## 5 Execute the workflow\n",
    "\n",
    "Run the workflow with [execute](https://aws-step-functions-data-science-sdk.readthedocs.io/en/latest/workflow.html#stepfunctions.workflow.Workflow.execute). Since the workflow only has a pass state, it will succeed immediately."
   ]
  },
  {
   "cell_type": "code",
   "execution_count": 133,
   "id": "059b819c",
   "metadata": {},
   "outputs": [],
   "source": [
    "# Generate unique names for Pre-Processing Job, Training Job, and Model Evaluation Job for the Step Functions Workflow\n",
    "training_job_name = \"xg-boost-training-{}\".format(\n",
    "    uuid.uuid1().hex\n",
    ")  # Each Training Job requires a unique name\n",
    "preprocessing_job_name = \"xg-boost-preprocessing-{}\".format(\n",
    "    uuid.uuid1().hex\n",
    ")  # Each Preprocessing job requires a unique name,\n",
    "evaluation_job_name = \"xg-boost-evaluation-{}\".format(\n",
    "    uuid.uuid1().hex\n",
    ")  # Each Evaluation Job requires a unique name\n",
    "scoring_job_name = \"score-{}\".format(\n",
    "    uuid.uuid1().hex\n",
    ")  # Each Evaluation Job requires a unique name"
   ]
  },
  {
   "cell_type": "code",
   "execution_count": 134,
   "id": "9f0298a0",
   "metadata": {},
   "outputs": [
    {
     "name": "stdout",
     "output_type": "stream",
     "text": [
      "\u001b[32m[INFO] Workflow execution started successfully on AWS Step Functions.\u001b[0m\n"
     ]
    }
   ],
   "source": [
    "basic_workflow_execution = basic_workflow.execute(\n",
    "    inputs={\n",
    "        \"PreprocessingJobName\": preprocessing_job_name,  # Each pre processing job (SageMaker processing job) requires a unique name,\n",
    "        \"TrainingJobName\": training_job_name,  # Each Sagemaker Training job requires a unique name,\n",
    "        \"EvaluationProcessingJobName\": evaluation_job_name,  # Each SageMaker processing job requires a unique name,\n",
    "        \"ModelName\" : v_model_name, # Name of model ,\n",
    "        \"ScoreJobName\" : scoring_job_name\n",
    "    }\n",
    ")"
   ]
  },
  {
   "cell_type": "markdown",
   "id": "91b3a04e",
   "metadata": {},
   "source": [
    "## 5.1 Review the execution progress\n",
    "\n",
    "Render workflow progress with the [render_progress](https://aws-step-functions-data-science-sdk.readthedocs.io/en/latest/workflow.html#stepfunctions.workflow.Execution.render_progress).\n",
    "\n",
    "This generates a snapshot of the current state of your workflow as it executes. This is a static image. Run the cell again to check progress. "
   ]
  },
  {
   "cell_type": "code",
   "execution_count": 135,
   "id": "0a49ab71",
   "metadata": {},
   "outputs": [
    {
     "data": {
      "text/html": [
       "\n",
       "<link rel=\"stylesheet\" type=\"text/css\" href=\"https://do0of8uwbahzz.cloudfront.net/graph.css\">\n",
       "<div id=\"graph-433\" class=\"workflowgraph\">\n",
       "    \n",
       "    <style>\n",
       "        .graph-legend ul {\n",
       "            list-style-type: none;\n",
       "            padding: 10px;\n",
       "            padding-left: 0;\n",
       "            margin: 0;\n",
       "            position: absolute;\n",
       "            top: 0;\n",
       "            background: transparent;\n",
       "        }\n",
       "\n",
       "        .graph-legend li {\n",
       "            margin-left: 10px;\n",
       "            display: inline-block;\n",
       "        }\n",
       "\n",
       "        .graph-legend li > div {\n",
       "            width: 10px;\n",
       "            height: 10px;\n",
       "            display: inline-block;\n",
       "        }\n",
       "\n",
       "        .graph-legend .success { background-color: #2BD62E }\n",
       "        .graph-legend .failed { background-color: #DE322F }\n",
       "        .graph-legend .cancelled { background-color: #DDDDDD }\n",
       "        .graph-legend .in-progress { background-color: #53C9ED }\n",
       "        .graph-legend .caught-error { background-color: #FFA500 }\n",
       "    </style>\n",
       "    <div class=\"graph-legend\">\n",
       "        <ul>\n",
       "            <li>\n",
       "                <div class=\"success\"></div>\n",
       "                <span>Success</span>\n",
       "            </li>\n",
       "            <li>\n",
       "                <div class=\"failed\"></div>\n",
       "                <span>Failed</span>\n",
       "            </li>\n",
       "            <li>\n",
       "                <div class=\"cancelled\"></div>\n",
       "                <span>Cancelled</span>\n",
       "            </li>\n",
       "            <li>\n",
       "                <div class=\"in-progress\"></div>\n",
       "                <span>In Progress</span>\n",
       "            </li>\n",
       "            <li>\n",
       "                <div class=\"caught-error\"></div>\n",
       "                <span>Caught Error</span>\n",
       "            </li>\n",
       "        </ul>\n",
       "    </div>\n",
       "\n",
       "    <svg></svg>\n",
       "    <a href=\"https://console.aws.amazon.com/states/home?region=us-east-1#/executions/details/arn:aws:states:us-east-1:014257795134:execution:ds-mlops-xgboost-step-function:d084193a-8bce-41e3-8b3c-89db9770aff2\" target=\"_blank\"> Inspect in AWS Step Functions </a>\n",
       "</div>\n",
       "\n",
       "<script type=\"text/javascript\">\n",
       "\n",
       "require.config({\n",
       "    paths: {\n",
       "        sfn: \"https://do0of8uwbahzz.cloudfront.net/sfn\",\n",
       "    }\n",
       "});\n",
       "\n",
       "require(['sfn'], function(sfn) {\n",
       "    var element = document.getElementById('graph-433')\n",
       "\n",
       "    var options = {\n",
       "        width: parseFloat(getComputedStyle(element, null).width.replace(\"px\", \"\")),\n",
       "        height: 1000,\n",
       "        layout: 'LR',\n",
       "        resizeHeight: true\n",
       "    };\n",
       "\n",
       "    var definition = {\"StartAt\": \"Pre-processing\", \"States\": {\"Pre-processing\": {\"Resource\": \"arn:aws:states:::sagemaker:createProcessingJob.sync\", \"Parameters\": {\"ProcessingJobName.$\": \"$$.Execution.Input['PreprocessingJobName']\", \"ProcessingInputs\": [{\"InputName\": \"input\", \"AppManaged\": false, \"S3Input\": {\"S3Uri\": \"s3://ds-mlops-s3/data/input/inputdata.csv\", \"LocalPath\": \"/opt/ml/processing/input\", \"S3DataType\": \"S3Prefix\", \"S3InputMode\": \"File\", \"S3DataDistributionType\": \"FullyReplicated\", \"S3CompressionType\": \"None\"}}, {\"InputName\": \"code\", \"AppManaged\": false, \"S3Input\": {\"S3Uri\": \"s3://ds-mlops-s3/code/processing_xgboost_script.py\", \"LocalPath\": \"/opt/ml/processing/input/code\", \"S3DataType\": \"S3Prefix\", \"S3InputMode\": \"File\", \"S3DataDistributionType\": \"FullyReplicated\", \"S3CompressionType\": \"None\"}}], \"ProcessingOutputConfig\": {\"Outputs\": [{\"OutputName\": \"train_data\", \"AppManaged\": false, \"S3Output\": {\"S3Uri\": \"s3://ds-mlops-s3/preprocess-data/train\", \"LocalPath\": \"/opt/ml/processing/train\", \"S3UploadMode\": \"EndOfJob\"}}, {\"OutputName\": \"test_data\", \"AppManaged\": false, \"S3Output\": {\"S3Uri\": \"s3://ds-mlops-s3/preprocess-data/test\", \"LocalPath\": \"/opt/ml/processing/test\", \"S3UploadMode\": \"EndOfJob\"}}, {\"OutputName\": \"validation_data\", \"AppManaged\": false, \"S3Output\": {\"S3Uri\": \"s3://ds-mlops-s3/preprocess-data/validation\", \"LocalPath\": \"/opt/ml/processing/validation\", \"S3UploadMode\": \"EndOfJob\"}}]}, \"AppSpecification\": {\"ImageUri\": \"683313688378.dkr.ecr.us-east-1.amazonaws.com/sagemaker-scikit-learn:0.20.0-cpu-py3\", \"ContainerEntrypoint\": [\"python3\", \"/opt/ml/processing/input/code/processing_xgboost_script.py\"]}, \"RoleArn\": \"arn:aws:iam::014257795134:role/ds-mlops-sagemaker-role\", \"NetworkConfig\": {\"EnableNetworkIsolation\": false, \"VpcConfig\": {\"SecurityGroupIds\": [\"sg-01d629a900f9b4d92\"], \"Subnets\": [\"subnet-07bd1dfe6aee76227\", \"subnet-076950ecc89d4340b\", \"subnet-0c5a462cb45a14bab\"]}}, \"ProcessingResources\": {\"ClusterConfig\": {\"InstanceCount\": 1, \"InstanceType\": \"ml.m5.xlarge\", \"VolumeSizeInGB\": 30}}}, \"Type\": \"Task\", \"Next\": \"Start Training\"}, \"Start Training\": {\"Parameters\": {\"FunctionName\": \"ds_mlops_lambda_test\"}, \"Resource\": \"arn:aws:states:::lambda:invoke\", \"Type\": \"Task\", \"Next\": \"Model Training(XGBoost)\"}, \"Model Training(XGBoost)\": {\"Resource\": \"arn:aws:states:::sagemaker:createTrainingJob.sync\", \"Parameters\": {\"AlgorithmSpecification\": {\"TrainingImage\": \"683313688378.dkr.ecr.us-east-1.amazonaws.com/sagemaker-xgboost:1.2-1\", \"TrainingInputMode\": \"File\"}, \"OutputDataConfig\": {\"S3OutputPath\": \"s3://ds-mlops-s3/models\"}, \"StoppingCondition\": {\"MaxRuntimeInSeconds\": 86400}, \"ResourceConfig\": {\"InstanceCount\": 1, \"InstanceType\": \"ml.m5.xlarge\", \"VolumeSizeInGB\": 30}, \"RoleArn\": \"arn:aws:iam::014257795134:role/ds-mlops-sagemaker-role\", \"InputDataConfig\": [{\"DataSource\": {\"S3DataSource\": {\"S3DataType\": \"S3Prefix\", \"S3Uri\": \"s3://ds-mlops-s3/preprocess-data/train\", \"S3DataDistributionType\": \"FullyReplicated\"}}, \"ContentType\": \"csv\", \"ChannelName\": \"train\"}, {\"DataSource\": {\"S3DataSource\": {\"S3DataType\": \"S3Prefix\", \"S3Uri\": \"s3://ds-mlops-s3/preprocess-data/validation\", \"S3DataDistributionType\": \"FullyReplicated\"}}, \"ContentType\": \"csv\", \"ChannelName\": \"validation\"}], \"VpcConfig\": {\"Subnets\": [\"subnet-07bd1dfe6aee76227\", \"subnet-076950ecc89d4340b\", \"subnet-0c5a462cb45a14bab\"], \"SecurityGroupIds\": [\"sg-01d629a900f9b4d92\"]}, \"HyperParameters\": {\"alpha\": \"{'alpha': '0.7166395818203134', 'eta': '0.028924004203585832', 'gamma': '2', 'max_depth': '7', 'min_child_weight': '5.756090427818192'}\", \"eta\": \"{'alpha': '0.7166395818203134', 'eta': '0.028924004203585832', 'gamma': '2', 'max_depth': '7', 'min_child_weight': '5.756090427818192'}\", \"gamma\": \"{'alpha': '0.7166395818203134', 'eta': '0.028924004203585832', 'gamma': '2', 'max_depth': '7', 'min_child_weight': '5.756090427818192'}\", \"max_depth\": \"{'alpha': '0.7166395818203134', 'eta': '0.028924004203585832', 'gamma': '2', 'max_depth': '7', 'min_child_weight': '5.756090427818192'}\", \"min_child_weight\": \"{'alpha': '0.7166395818203134', 'eta': '0.028924004203585832', 'gamma': '2', 'max_depth': '7', 'min_child_weight': '5.756090427818192'}\", \"subsample\": \"0.7\", \"verbosity\": \"0\", \"objective\": \"reg:linear\", \"num_round\": \"50\"}, \"TrainingJobName.$\": \"$$.Execution.Input['TrainingJobName']\"}, \"Type\": \"Task\", \"Next\": \"Save Model\"}, \"Save Model\": {\"ResultPath\": \"$.ModelStepResults\", \"Parameters\": {\"ExecutionRoleArn\": \"arn:aws:iam::014257795134:role/ds-mlops-sagemaker-role\", \"ModelName.$\": \"$$.Execution.Input['ModelName']\", \"PrimaryContainer\": {\"Environment\": {}, \"Image\": \"683313688378.dkr.ecr.us-east-1.amazonaws.com/sagemaker-xgboost:1.2-1\", \"ModelDataUrl.$\": \"$['ModelArtifacts']['S3ModelArtifacts']\"}}, \"Resource\": \"arn:aws:states:::sagemaker:createModel\", \"Type\": \"Task\", \"Next\": \"validation-step\"}, \"validation-step\": {\"Resource\": \"arn:aws:states:::sagemaker:createTransformJob.sync\", \"Parameters\": {\"TransformJobName.$\": \"$$.Execution.Input['ScoreJobName']\", \"ModelName.$\": \"$$.Execution.Input['ModelName']\", \"TransformInput\": {\"DataSource\": {\"S3DataSource\": {\"S3DataType\": \"S3Prefix\", \"S3Uri\": \"s3://ds-mlops-s3/preprocess-data/test\"}}, \"ContentType\": \"text/csv\"}, \"TransformOutput\": {\"S3OutputPath\": \"s3://sagemaker-us-east-1-014257795134/sagemaker-xgboost-2021-07-01-19-54-05-390\"}, \"TransformResources\": {\"InstanceCount\": 1, \"InstanceType\": \"ml.m5.large\"}}, \"Type\": \"Task\", \"End\": true}}};\n",
       "    var elementId = '#graph-433';\n",
       "    var events = { 'events': [{\"timestamp\": 1625169278.762, \"type\": \"ExecutionStarted\", \"id\": 1, \"previousEventId\": 0, \"executionStartedEventDetails\": {\"input\": \"{\\n    \\\"PreprocessingJobName\\\": \\\"xg-boost-preprocessing-2b1316c4daa611eba381028939f4d999\\\",\\n    \\\"TrainingJobName\\\": \\\"xg-boost-training-2b1311d8daa611eba381028939f4d999\\\",\\n    \\\"EvaluationProcessingJobName\\\": \\\"xg-boost-evaluation-2b1319c6daa611eba381028939f4d999\\\",\\n    \\\"ModelName\\\": \\\"ds-mlops-xgboost\\\",\\n    \\\"ScoreJobName\\\": \\\"score-2b131c64daa611eba381028939f4d999\\\"\\n}\", \"inputDetails\": {\"truncated\": false}, \"roleArn\": \"arn:aws:iam::014257795134:role/ds-mlops-stepfunction-role\"}}, {\"timestamp\": 1625169278.793, \"type\": \"TaskStateEntered\", \"id\": 2, \"previousEventId\": 0, \"stateEnteredEventDetails\": {\"name\": \"Pre-processing\", \"input\": \"{\\n    \\\"PreprocessingJobName\\\": \\\"xg-boost-preprocessing-2b1316c4daa611eba381028939f4d999\\\",\\n    \\\"TrainingJobName\\\": \\\"xg-boost-training-2b1311d8daa611eba381028939f4d999\\\",\\n    \\\"EvaluationProcessingJobName\\\": \\\"xg-boost-evaluation-2b1319c6daa611eba381028939f4d999\\\",\\n    \\\"ModelName\\\": \\\"ds-mlops-xgboost\\\",\\n    \\\"ScoreJobName\\\": \\\"score-2b131c64daa611eba381028939f4d999\\\"\\n}\", \"inputDetails\": {\"truncated\": false}}}, {\"timestamp\": 1625169278.793, \"type\": \"TaskScheduled\", \"id\": 3, \"previousEventId\": 2, \"taskScheduledEventDetails\": {\"resourceType\": \"sagemaker\", \"resource\": \"createProcessingJob.sync\", \"region\": \"us-east-1\", \"parameters\": \"{\\\"ProcessingInputs\\\":[{\\\"InputName\\\":\\\"input\\\",\\\"AppManaged\\\":false,\\\"S3Input\\\":{\\\"S3Uri\\\":\\\"s3://ds-mlops-s3/data/input/inputdata.csv\\\",\\\"LocalPath\\\":\\\"/opt/ml/processing/input\\\",\\\"S3DataType\\\":\\\"S3Prefix\\\",\\\"S3InputMode\\\":\\\"File\\\",\\\"S3DataDistributionType\\\":\\\"FullyReplicated\\\",\\\"S3CompressionType\\\":\\\"None\\\"}},{\\\"InputName\\\":\\\"code\\\",\\\"AppManaged\\\":false,\\\"S3Input\\\":{\\\"S3Uri\\\":\\\"s3://ds-mlops-s3/code/processing_xgboost_script.py\\\",\\\"LocalPath\\\":\\\"/opt/ml/processing/input/code\\\",\\\"S3DataType\\\":\\\"S3Prefix\\\",\\\"S3InputMode\\\":\\\"File\\\",\\\"S3DataDistributionType\\\":\\\"FullyReplicated\\\",\\\"S3CompressionType\\\":\\\"None\\\"}}],\\\"ProcessingOutputConfig\\\":{\\\"Outputs\\\":[{\\\"OutputName\\\":\\\"train_data\\\",\\\"AppManaged\\\":false,\\\"S3Output\\\":{\\\"S3Uri\\\":\\\"s3://ds-mlops-s3/preprocess-data/train\\\",\\\"LocalPath\\\":\\\"/opt/ml/processing/train\\\",\\\"S3UploadMode\\\":\\\"EndOfJob\\\"}},{\\\"OutputName\\\":\\\"test_data\\\",\\\"AppManaged\\\":false,\\\"S3Output\\\":{\\\"S3Uri\\\":\\\"s3://ds-mlops-s3/preprocess-data/test\\\",\\\"LocalPath\\\":\\\"/opt/ml/processing/test\\\",\\\"S3UploadMode\\\":\\\"EndOfJob\\\"}},{\\\"OutputName\\\":\\\"validation_data\\\",\\\"AppManaged\\\":false,\\\"S3Output\\\":{\\\"S3Uri\\\":\\\"s3://ds-mlops-s3/preprocess-data/validation\\\",\\\"LocalPath\\\":\\\"/opt/ml/processing/validation\\\",\\\"S3UploadMode\\\":\\\"EndOfJob\\\"}}]},\\\"AppSpecification\\\":{\\\"ImageUri\\\":\\\"683313688378.dkr.ecr.us-east-1.amazonaws.com/sagemaker-scikit-learn:0.20.0-cpu-py3\\\",\\\"ContainerEntrypoint\\\":[\\\"python3\\\",\\\"/opt/ml/processing/input/code/processing_xgboost_script.py\\\"]},\\\"RoleArn\\\":\\\"arn:aws:iam::014257795134:role/ds-mlops-sagemaker-role\\\",\\\"NetworkConfig\\\":{\\\"EnableNetworkIsolation\\\":false,\\\"VpcConfig\\\":{\\\"SecurityGroupIds\\\":[\\\"sg-01d629a900f9b4d92\\\"],\\\"Subnets\\\":[\\\"subnet-07bd1dfe6aee76227\\\",\\\"subnet-076950ecc89d4340b\\\",\\\"subnet-0c5a462cb45a14bab\\\"]}},\\\"ProcessingResources\\\":{\\\"ClusterConfig\\\":{\\\"InstanceCount\\\":1,\\\"InstanceType\\\":\\\"ml.m5.xlarge\\\",\\\"VolumeSizeInGB\\\":30}},\\\"ProcessingJobName\\\":\\\"xg-boost-preprocessing-2b1316c4daa611eba381028939f4d999\\\",\\\"Tags\\\":[{\\\"Key\\\":\\\"MANAGED_BY_AWS\\\",\\\"Value\\\":\\\"STARTED_BY_STEP_FUNCTIONS\\\"}]}\"}}, {\"timestamp\": 1625169278.832, \"type\": \"TaskStarted\", \"id\": 4, \"previousEventId\": 3, \"taskStartedEventDetails\": {\"resourceType\": \"sagemaker\", \"resource\": \"createProcessingJob.sync\"}}] };\n",
       "\n",
       "    var graph = new sfn.StateMachineExecutionGraph(definition, events, elementId, options);\n",
       "    graph.render();\n",
       "});\n",
       "\n",
       "</script>\n"
      ],
      "text/plain": [
       "<IPython.core.display.HTML object>"
      ]
     },
     "execution_count": 135,
     "metadata": {},
     "output_type": "execute_result"
    }
   ],
   "source": [
    "basic_workflow_execution.render_progress()"
   ]
  },
  {
   "cell_type": "code",
   "execution_count": 136,
   "id": "761e0995",
   "metadata": {},
   "outputs": [
    {
     "data": {
      "text/plain": [
       "'1.17.97'"
      ]
     },
     "execution_count": 136,
     "metadata": {},
     "output_type": "execute_result"
    }
   ],
   "source": [
    "boto3.__version__"
   ]
  },
  {
   "cell_type": "code",
   "execution_count": null,
   "id": "b00d72e9",
   "metadata": {},
   "outputs": [],
   "source": []
  }
 ],
 "metadata": {
  "kernelspec": {
   "display_name": "conda_python3",
   "language": "python",
   "name": "conda_python3"
  },
  "language_info": {
   "codemirror_mode": {
    "name": "ipython",
    "version": 3
   },
   "file_extension": ".py",
   "mimetype": "text/x-python",
   "name": "python",
   "nbconvert_exporter": "python",
   "pygments_lexer": "ipython3",
   "version": "3.6.13"
  }
 },
 "nbformat": 4,
 "nbformat_minor": 5
}
